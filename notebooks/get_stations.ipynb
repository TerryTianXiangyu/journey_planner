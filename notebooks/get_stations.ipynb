{
 "cells": [
  {
   "cell_type": "markdown",
   "metadata": {},
   "source": [
    "# Spark Kernel for getting stations and walking connections\n",
    "\n"
   ]
  },
  {
   "cell_type": "markdown",
   "metadata": {},
   "source": [
    "### Start Spark"
   ]
  },
  {
   "cell_type": "code",
   "execution_count": null,
   "metadata": {},
   "outputs": [
    {
     "data": {
      "text/html": [
       "Current session configs: <tt>{'conf': {'spark.app.name': 'datavirus_final'}, 'kind': 'pyspark'}</tt><br>"
      ],
      "text/plain": [
       "<IPython.core.display.HTML object>"
      ]
     },
     "metadata": {},
     "output_type": "display_data"
    },
    {
     "data": {
      "text/html": [
       "<table>\n",
       "<tr><th>ID</th><th>YARN Application ID</th><th>Kind</th><th>State</th><th>Spark UI</th><th>Driver log</th><th>Current session?</th></tr><tr><td>6719</td><td>application_1589299642358_1210</td><td>pyspark</td><td>idle</td><td><a target=\"_blank\" href=\"http://iccluster044.iccluster.epfl.ch:8088/proxy/application_1589299642358_1210/\">Link</a></td><td><a target=\"_blank\" href=\"http://iccluster066.iccluster.epfl.ch:8042/node/containerlogs/container_e06_1589299642358_1210_01_000001/ebouille\">Link</a></td><td></td></tr><tr><td>6726</td><td>application_1589299642358_1217</td><td>pyspark</td><td>idle</td><td><a target=\"_blank\" href=\"http://iccluster044.iccluster.epfl.ch:8088/proxy/application_1589299642358_1217/\">Link</a></td><td><a target=\"_blank\" href=\"http://iccluster071.iccluster.epfl.ch:8042/node/containerlogs/container_e06_1589299642358_1217_01_000001/ebouille\">Link</a></td><td></td></tr><tr><td>6730</td><td>application_1589299642358_1221</td><td>pyspark</td><td>idle</td><td><a target=\"_blank\" href=\"http://iccluster044.iccluster.epfl.ch:8088/proxy/application_1589299642358_1221/\">Link</a></td><td><a target=\"_blank\" href=\"http://iccluster071.iccluster.epfl.ch:8042/node/containerlogs/container_e06_1589299642358_1221_01_000001/ebouille\">Link</a></td><td></td></tr><tr><td>6733</td><td>application_1589299642358_1224</td><td>pyspark</td><td>idle</td><td><a target=\"_blank\" href=\"http://iccluster044.iccluster.epfl.ch:8088/proxy/application_1589299642358_1224/\">Link</a></td><td><a target=\"_blank\" href=\"http://iccluster067.iccluster.epfl.ch:8042/node/containerlogs/container_e06_1589299642358_1224_01_000001/ebouille\">Link</a></td><td></td></tr><tr><td>6736</td><td>application_1589299642358_1227</td><td>pyspark</td><td>idle</td><td><a target=\"_blank\" href=\"http://iccluster044.iccluster.epfl.ch:8088/proxy/application_1589299642358_1227/\">Link</a></td><td><a target=\"_blank\" href=\"http://iccluster071.iccluster.epfl.ch:8042/node/containerlogs/container_e06_1589299642358_1227_01_000001/ebouille\">Link</a></td><td></td></tr><tr><td>6740</td><td>application_1589299642358_1231</td><td>pyspark</td><td>idle</td><td><a target=\"_blank\" href=\"http://iccluster044.iccluster.epfl.ch:8088/proxy/application_1589299642358_1231/\">Link</a></td><td><a target=\"_blank\" href=\"http://iccluster068.iccluster.epfl.ch:8042/node/containerlogs/container_e06_1589299642358_1231_01_000001/ebouille\">Link</a></td><td></td></tr><tr><td>6741</td><td>application_1589299642358_1232</td><td>pyspark</td><td>idle</td><td><a target=\"_blank\" href=\"http://iccluster044.iccluster.epfl.ch:8088/proxy/application_1589299642358_1232/\">Link</a></td><td><a target=\"_blank\" href=\"http://iccluster068.iccluster.epfl.ch:8042/node/containerlogs/container_e06_1589299642358_1232_01_000001/ebouille\">Link</a></td><td></td></tr><tr><td>6742</td><td>application_1589299642358_1233</td><td>pyspark</td><td>idle</td><td><a target=\"_blank\" href=\"http://iccluster044.iccluster.epfl.ch:8088/proxy/application_1589299642358_1233/\">Link</a></td><td><a target=\"_blank\" href=\"http://iccluster065.iccluster.epfl.ch:8042/node/containerlogs/container_e06_1589299642358_1233_01_000001/ebouille\">Link</a></td><td></td></tr><tr><td>6743</td><td>application_1589299642358_1234</td><td>pyspark</td><td>idle</td><td><a target=\"_blank\" href=\"http://iccluster044.iccluster.epfl.ch:8088/proxy/application_1589299642358_1234/\">Link</a></td><td><a target=\"_blank\" href=\"http://iccluster067.iccluster.epfl.ch:8042/node/containerlogs/container_e06_1589299642358_1234_01_000001/ebouille\">Link</a></td><td></td></tr><tr><td>6744</td><td>application_1589299642358_1235</td><td>pyspark</td><td>idle</td><td><a target=\"_blank\" href=\"http://iccluster044.iccluster.epfl.ch:8088/proxy/application_1589299642358_1235/\">Link</a></td><td><a target=\"_blank\" href=\"http://iccluster065.iccluster.epfl.ch:8042/node/containerlogs/container_e06_1589299642358_1235_01_000001/ebouille\">Link</a></td><td></td></tr><tr><td>6745</td><td>application_1589299642358_1236</td><td>pyspark</td><td>idle</td><td><a target=\"_blank\" href=\"http://iccluster044.iccluster.epfl.ch:8088/proxy/application_1589299642358_1236/\">Link</a></td><td><a target=\"_blank\" href=\"http://iccluster068.iccluster.epfl.ch:8042/node/containerlogs/container_e06_1589299642358_1236_01_000001/ebouille\">Link</a></td><td></td></tr><tr><td>6746</td><td>application_1589299642358_1237</td><td>pyspark</td><td>idle</td><td><a target=\"_blank\" href=\"http://iccluster044.iccluster.epfl.ch:8088/proxy/application_1589299642358_1237/\">Link</a></td><td><a target=\"_blank\" href=\"http://iccluster066.iccluster.epfl.ch:8042/node/containerlogs/container_e06_1589299642358_1237_01_000001/ebouille\">Link</a></td><td></td></tr><tr><td>6747</td><td>application_1589299642358_1238</td><td>pyspark</td><td>idle</td><td><a target=\"_blank\" href=\"http://iccluster044.iccluster.epfl.ch:8088/proxy/application_1589299642358_1238/\">Link</a></td><td><a target=\"_blank\" href=\"http://iccluster067.iccluster.epfl.ch:8042/node/containerlogs/container_e06_1589299642358_1238_01_000001/ebouille\">Link</a></td><td></td></tr><tr><td>6751</td><td>application_1589299642358_1242</td><td>pyspark</td><td>idle</td><td><a target=\"_blank\" href=\"http://iccluster044.iccluster.epfl.ch:8088/proxy/application_1589299642358_1242/\">Link</a></td><td><a target=\"_blank\" href=\"http://iccluster072.iccluster.epfl.ch:8042/node/containerlogs/container_e06_1589299642358_1242_01_000001/ebouille\">Link</a></td><td></td></tr><tr><td>6754</td><td>application_1589299642358_1245</td><td>pyspark</td><td>idle</td><td><a target=\"_blank\" href=\"http://iccluster044.iccluster.epfl.ch:8088/proxy/application_1589299642358_1245/\">Link</a></td><td><a target=\"_blank\" href=\"http://iccluster072.iccluster.epfl.ch:8042/node/containerlogs/container_e06_1589299642358_1245_01_000001/ebouille\">Link</a></td><td></td></tr><tr><td>6756</td><td>application_1589299642358_1247</td><td>pyspark</td><td>busy</td><td><a target=\"_blank\" href=\"http://iccluster044.iccluster.epfl.ch:8088/proxy/application_1589299642358_1247/\">Link</a></td><td><a target=\"_blank\" href=\"http://iccluster070.iccluster.epfl.ch:8042/node/containerlogs/container_e06_1589299642358_1247_01_000001/ebouille\">Link</a></td><td></td></tr><tr><td>6758</td><td>application_1589299642358_1249</td><td>pyspark</td><td>idle</td><td><a target=\"_blank\" href=\"http://iccluster044.iccluster.epfl.ch:8088/proxy/application_1589299642358_1249/\">Link</a></td><td><a target=\"_blank\" href=\"http://iccluster070.iccluster.epfl.ch:8042/node/containerlogs/container_e06_1589299642358_1249_01_000001/ebouille\">Link</a></td><td></td></tr><tr><td>6760</td><td>application_1589299642358_1251</td><td>pyspark</td><td>idle</td><td><a target=\"_blank\" href=\"http://iccluster044.iccluster.epfl.ch:8088/proxy/application_1589299642358_1251/\">Link</a></td><td><a target=\"_blank\" href=\"http://iccluster072.iccluster.epfl.ch:8042/node/containerlogs/container_e06_1589299642358_1251_01_000001/ebouille\">Link</a></td><td></td></tr><tr><td>6761</td><td>application_1589299642358_1252</td><td>pyspark</td><td>idle</td><td><a target=\"_blank\" href=\"http://iccluster044.iccluster.epfl.ch:8088/proxy/application_1589299642358_1252/\">Link</a></td><td><a target=\"_blank\" href=\"http://iccluster068.iccluster.epfl.ch:8042/node/containerlogs/container_e06_1589299642358_1252_01_000001/ebouille\">Link</a></td><td></td></tr><tr><td>6762</td><td>application_1589299642358_1253</td><td>pyspark</td><td>idle</td><td><a target=\"_blank\" href=\"http://iccluster044.iccluster.epfl.ch:8088/proxy/application_1589299642358_1253/\">Link</a></td><td><a target=\"_blank\" href=\"http://iccluster069.iccluster.epfl.ch:8042/node/containerlogs/container_e06_1589299642358_1253_01_000001/ebouille\">Link</a></td><td></td></tr></table>"
      ],
      "text/plain": [
       "<IPython.core.display.HTML object>"
      ]
     },
     "metadata": {},
     "output_type": "display_data"
    }
   ],
   "source": [
    "%%configure\n",
    "{\"conf\": {\n",
    "    \"spark.app.name\": \"datavirus_final\"\n",
    "}}"
   ]
  },
  {
   "cell_type": "code",
   "execution_count": 2,
   "metadata": {},
   "outputs": [
    {
     "name": "stdout",
     "output_type": "stream",
     "text": [
      "Starting Spark application\n"
     ]
    },
    {
     "data": {
      "text/html": [
       "<table>\n",
       "<tr><th>ID</th><th>YARN Application ID</th><th>Kind</th><th>State</th><th>Spark UI</th><th>Driver log</th><th>Current session?</th></tr><tr><td>6763</td><td>application_1589299642358_1254</td><td>pyspark</td><td>idle</td><td><a target=\"_blank\" href=\"http://iccluster044.iccluster.epfl.ch:8088/proxy/application_1589299642358_1254/\">Link</a></td><td><a target=\"_blank\" href=\"http://iccluster068.iccluster.epfl.ch:8042/node/containerlogs/container_e06_1589299642358_1254_01_000001/ebouille\">Link</a></td><td>✔</td></tr></table>"
      ],
      "text/plain": [
       "<IPython.core.display.HTML object>"
      ]
     },
     "metadata": {},
     "output_type": "display_data"
    },
    {
     "data": {
      "application/vnd.jupyter.widget-view+json": {
       "model_id": "",
       "version_major": 2,
       "version_minor": 0
      },
      "text/plain": [
       "FloatProgress(value=0.0, bar_style='info', description='Progress:', layout=Layout(height='25px', width='50%'),…"
      ]
     },
     "metadata": {},
     "output_type": "display_data"
    },
    {
     "name": "stdout",
     "output_type": "stream",
     "text": [
      "SparkSession available as 'spark'.\n"
     ]
    },
    {
     "data": {
      "application/vnd.jupyter.widget-view+json": {
       "model_id": "",
       "version_major": 2,
       "version_minor": 0
      },
      "text/plain": [
       "FloatProgress(value=0.0, bar_style='info', description='Progress:', layout=Layout(height='25px', width='50%'),…"
      ]
     },
     "metadata": {},
     "output_type": "display_data"
    },
    {
     "name": "stdout",
     "output_type": "stream",
     "text": [
      "<pyspark.sql.session.SparkSession object at 0x7f4169fb0890>"
     ]
    }
   ],
   "source": [
    "# Initialization\n",
    "spark"
   ]
  },
  {
   "cell_type": "code",
   "execution_count": null,
   "metadata": {},
   "outputs": [],
   "source": [
    "import pyspark.sql.functions as F\n",
    "import math"
   ]
  },
  {
   "cell_type": "markdown",
   "metadata": {},
   "source": [
    "### Read the station list data from [BFKOORD_GEO](https://opentransportdata.swiss/en/cookbook/hafas-rohdaten-format-hrdf/#Abgrenzung)"
   ]
  },
  {
   "cell_type": "code",
   "execution_count": 5,
   "metadata": {},
   "outputs": [
    {
     "data": {
      "application/vnd.jupyter.widget-view+json": {
       "model_id": "",
       "version_major": 2,
       "version_minor": 0
      },
      "text/plain": [
       "FloatProgress(value=0.0, bar_style='info', description='Progress:', layout=Layout(height='25px', width='50%'),…"
      ]
     },
     "metadata": {},
     "output_type": "display_data"
    },
    {
     "name": "stdout",
     "output_type": "stream",
     "text": [
      "+---------+---------+---------+------+----------------+\n",
      "|StationID|Longitude| Latitude|Height|          Remark|\n",
      "+---------+---------+---------+------+----------------+\n",
      "|  0000002|26.074412|44.446770|     0|       Bucuresti|\n",
      "|  0000003| 1.811446|50.901549|     0|          Calais|\n",
      "|  0000004| 1.075329|51.284212|     0|      Canterbury|\n",
      "|  0000005|-3.543547|50.729172|     0|          Exeter|\n",
      "|  0000007| 9.733756|46.922368|   744|Fideris, Bahnhof|\n",
      "+---------+---------+---------+------+----------------+\n",
      "only showing top 5 rows"
     ]
    }
   ],
   "source": [
    "metadata = spark.read.csv('/data/sbb/stations/bfkoordgeo.csv', header=True)\n",
    "metadata.show(5)"
   ]
  },
  {
   "cell_type": "code",
   "execution_count": 17,
   "metadata": {},
   "outputs": [
    {
     "data": {
      "application/vnd.jupyter.widget-view+json": {
       "model_id": "",
       "version_major": 2,
       "version_minor": 0
      },
      "text/plain": [
       "FloatProgress(value=0.0, bar_style='info', description='Progress:', layout=Layout(height='25px', width='50%'),…"
      ]
     },
     "metadata": {},
     "output_type": "display_data"
    },
    {
     "name": "stdout",
     "output_type": "stream",
     "text": [
      "382"
     ]
    }
   ],
   "source": [
    "df_stations = metadata.withColumn(\"dlon\", F.radians(F.col(\"Longitude\")) - math.radians(8.540192)) \\\n",
    "             .withColumn(\"dlat\", F.radians(F.col(\"Latitude\")) - math.radians(47.378177)) \\\n",
    "             .withColumn(\"Distance_from_Zurich\", F.asin(F.sqrt( F.sin(F.col(\"dlat\") / 2) ** 2 + math.cos(math.radians(47.378177))\n",
    "                                               *F.cos(F.radians(F.col(\"Latitude\"))) * F.sin(F.col(\"dlon\") / 2) ** 2)) * 2 * 3963 * 5280) \\\n",
    "             .drop(\"dlon\", \"dlat\") \\\n",
    "             .filter(F.col(\"Distance_from_Zurich\")<15000)\n",
    "\n",
    "#zurich_stations = list(df_stations.select('Remark').toPandas()['Remark'])\n",
    "df_stations.show()"
   ]
  },
  {
   "cell_type": "markdown",
   "metadata": {},
   "source": [
    "### Read the station list data from the time-table stops"
   ]
  },
  {
   "cell_type": "code",
   "execution_count": 3,
   "metadata": {},
   "outputs": [
    {
     "data": {
      "application/vnd.jupyter.widget-view+json": {
       "model_id": "",
       "version_major": 2,
       "version_minor": 0
      },
      "text/plain": [
       "FloatProgress(value=0.0, bar_style='info', description='Progress:', layout=Layout(height='25px', width='50%'),…"
      ]
     },
     "metadata": {},
     "output_type": "display_data"
    },
    {
     "name": "stdout",
     "output_type": "stream",
     "text": [
      "+-------+--------------------+----------------+----------------+-------------+--------------+\n",
      "|stop_id|           stop_name|        stop_lat|        stop_lon|location_type|parent_station|\n",
      "+-------+--------------------+----------------+----------------+-------------+--------------+\n",
      "|1322000|            Altoggio|46.1672513851495|  8.345807131427|             |              |\n",
      "|1322001|        Antronapiana| 46.060121674738|8.11361957990831|             |              |\n",
      "|1322002|              Anzola|45.9898698225697|8.34571729989858|             |              |\n",
      "|1322003|              Baceno|46.2614983591677|8.31925293162473|             |              |\n",
      "|1322004|Beura Cardezza, c...|46.0790618438814|8.29927439970313|             |              |\n",
      "+-------+--------------------+----------------+----------------+-------------+--------------+\n",
      "only showing top 5 rows"
     ]
    }
   ],
   "source": [
    "stop_metadata = spark.read.orc(\"hdfs:///data/sbb/timetables/orc/stops\")\n",
    "stop_metadata.show(5)"
   ]
  },
  {
   "cell_type": "code",
   "execution_count": 13,
   "metadata": {},
   "outputs": [
    {
     "data": {
      "application/vnd.jupyter.widget-view+json": {
       "model_id": "",
       "version_major": 2,
       "version_minor": 0
      },
      "text/plain": [
       "FloatProgress(value=0.0, bar_style='info', description='Progress:', layout=Layout(height='25px', width='50%'),…"
      ]
     },
     "metadata": {},
     "output_type": "display_data"
    },
    {
     "name": "stdout",
     "output_type": "stream",
     "text": [
      "377"
     ]
    }
   ],
   "source": [
    "df_stops = stop_metadata.withColumn(\"dlon\", F.radians(F.col(\"stop_lon\")) - math.radians(8.540192)) \\\n",
    "                 .withColumn(\"dlat\", F.radians(F.col(\"stop_lat\")) - math.radians(47.378177)) \\\n",
    "                 .withColumn(\"Distance_from_Zurich\", F.asin(F.sqrt( F.sin(F.col(\"dlat\") / 2) ** 2 + math.cos(math.radians(47.378177))\n",
    "                                               *F.cos(F.radians(F.col(\"stop_lat\"))) * F.sin(F.col(\"dlon\") / 2) ** 2)) * 2 * 3963 * 5280) \\\n",
    "                 .drop(\"dlon\", \"dlat\") \\\n",
    "                 .filter(F.col(\"Distance_from_Zurich\")<15000)\n",
    "df_stops.show(5)"
   ]
  },
  {
   "cell_type": "code",
   "execution_count": 38,
   "metadata": {},
   "outputs": [
    {
     "data": {
      "application/vnd.jupyter.widget-view+json": {
       "model_id": "",
       "version_major": 2,
       "version_minor": 0
      },
      "text/plain": [
       "FloatProgress(value=0.0, bar_style='info', description='Progress:', layout=Layout(height='25px', width='50%'),…"
      ]
     },
     "metadata": {},
     "output_type": "display_data"
    },
    {
     "name": "stdout",
     "output_type": "stream",
     "text": [
      "+---------------+---------+----------------+----------------+-------------+--------------+--------------------+\n",
      "|        stop_id|stop_name|        stop_lat|        stop_lon|location_type|parent_station|Distance_from_Zurich|\n",
      "+---------------+---------+----------------+----------------+-------------+--------------+--------------------+\n",
      "|        8503000|Zürich HB|47.3781762039461|8.54019357578468|             |      8503000P|  0.4861881116144193|\n",
      "|   8503000:0:10|Zürich HB|47.3794536181612|8.54019357578468|             |      8503000P|  466.22604663935687|\n",
      "|   8503000:0:11|Zürich HB|47.3795144466376|8.54019357578468|             |      8503000P|   488.4408337792945|\n",
      "|   8503000:0:12|Zürich HB|47.3786020121232|8.54019357578468|             |      8503000P|  155.21655831042875|\n",
      "|   8503000:0:13|Zürich HB|47.3785411825942|8.54019357578468|             |      8503000P|   133.0014610545808|\n",
      "|   8503000:0:14|Zürich HB|47.3783586935859|8.54019357578468|             |      8503000P|    66.3563436964233|\n",
      "|   8503000:0:15|Zürich HB|47.3784803529949|8.54019357578468|             |      8503000P|  110.78637089746182|\n",
      "|   8503000:0:16|Zürich HB|47.3784195233255|8.54019357578468|             |      8503000P|    88.5713125635014|\n",
      "|   8503000:0:17|Zürich HB| 47.379271132311|8.54019357578468|             |      8503000P|  399.58153640436694|\n",
      "|   8503000:0:18|Zürich HB|47.3789669878238|8.54019357578468|             |      8503000P|  288.50686799060884|\n",
      "|    8503000:0:3|Zürich HB|47.3793927896146|8.54019357578468|             |      8503000P|   444.0112346005367|\n",
      "|   8503000:0:31|Zürich HB|47.3791494747266|8.54019357578468|             |      8503000P|   355.1517404170491|\n",
      "|   8503000:0:32|Zürich HB|47.3792103035539|8.54019357578468|             |      8503000P|   377.3666505275426|\n",
      "|   8503000:0:33|Zürich HB|47.3790886458292|8.54019357578468|             |      8503000P|  332.93680637857176|\n",
      "|   8503000:0:34|Zürich HB|47.3790278168616|8.54019357578468|             |      8503000P|   310.7218487491229|\n",
      "|    8503000:0:4|Zürich HB|47.3793319609979|8.54019357578468|             |      8503000P|   421.7963978194374|\n",
      "|8503000:0:41/42|Zürich HB|47.3782370338962|8.54019357578468|             |      8503000P|  21.928073735094404|\n",
      "|8503000:0:43/44|Zürich HB|47.3782978637762|8.54019357578468|             |      8503000P|  44.141638106051616|\n",
      "|    8503000:0:5|Zürich HB|47.3787845002893|8.54019357578468|             |      8503000P|  221.86179453698514|\n",
      "|    8503000:0:6|Zürich HB|47.3786628415821|8.54019357578468|             |      8503000P|  177.43165042394025|\n",
      "|    8503000:0:7|Zürich HB|47.3787236709708|8.54019357578468|             |      8503000P|  199.64673053018032|\n",
      "|    8503000:0:8|Zürich HB|47.3788453295376|8.54019357578468|             |      8503000P|  244.07683983589342|\n",
      "|    8503000:0:9|Zürich HB|47.3789061587158|8.54019357578468|             |      8503000P|  266.29186473378894|\n",
      "|       8503000P|Zürich HB|47.3781762039461|8.54019357578468|            1|              |  0.4861881116144193|\n",
      "+---------------+---------+----------------+----------------+-------------+--------------+--------------------+"
     ]
    }
   ],
   "source": [
    "df_stops.where(F.col('stop_name')=='Zürich HB').show(5) #proof that there are many rows for the same station (for example, Zurich HB)"
   ]
  },
  {
   "cell_type": "markdown",
   "metadata": {},
   "source": [
    "### Compare both dataframes to see which stations are missing"
   ]
  },
  {
   "cell_type": "code",
   "execution_count": 40,
   "metadata": {},
   "outputs": [
    {
     "data": {
      "application/vnd.jupyter.widget-view+json": {
       "model_id": "",
       "version_major": 2,
       "version_minor": 0
      },
      "text/plain": [
       "FloatProgress(value=0.0, bar_style='info', description='Progress:', layout=Layout(height='25px', width='50%'),…"
      ]
     },
     "metadata": {},
     "output_type": "display_data"
    }
   ],
   "source": [
    "only_names_stations = df_stations.select('StationID').distinct()\n",
    "only_names_stops =  df_stops.where(F.length('stop_id')==7).select('stop_id')"
   ]
  },
  {
   "cell_type": "code",
   "execution_count": 1,
   "metadata": {},
   "outputs": [
    {
     "name": "stdout",
     "output_type": "stream",
     "text": [
      "Starting Spark application\n"
     ]
    },
    {
     "data": {
      "text/html": [
       "<table>\n",
       "<tr><th>ID</th><th>YARN Application ID</th><th>Kind</th><th>State</th><th>Spark UI</th><th>Driver log</th><th>Current session?</th></tr><tr><td>6790</td><td>application_1589299642358_1283</td><td>pyspark</td><td>idle</td><td><a target=\"_blank\" href=\"http://iccluster044.iccluster.epfl.ch:8088/proxy/application_1589299642358_1283/\">Link</a></td><td><a target=\"_blank\" href=\"http://iccluster071.iccluster.epfl.ch:8042/node/containerlogs/container_e06_1589299642358_1283_01_000001/ebouille\">Link</a></td><td>✔</td></tr></table>"
      ],
      "text/plain": [
       "<IPython.core.display.HTML object>"
      ]
     },
     "metadata": {},
     "output_type": "display_data"
    },
    {
     "data": {
      "application/vnd.jupyter.widget-view+json": {
       "model_id": "",
       "version_major": 2,
       "version_minor": 0
      },
      "text/plain": [
       "FloatProgress(value=0.0, bar_style='info', description='Progress:', layout=Layout(height='25px', width='50%'),…"
      ]
     },
     "metadata": {},
     "output_type": "display_data"
    },
    {
     "name": "stdout",
     "output_type": "stream",
     "text": [
      "SparkSession available as 'spark'.\n"
     ]
    },
    {
     "data": {
      "application/vnd.jupyter.widget-view+json": {
       "model_id": "",
       "version_major": 2,
       "version_minor": 0
      },
      "text/plain": [
       "FloatProgress(value=0.0, bar_style='info', description='Progress:', layout=Layout(height='25px', width='50%'),…"
      ]
     },
     "metadata": {},
     "output_type": "display_data"
    },
    {
     "name": "stderr",
     "output_type": "stream",
     "text": [
      "An error was encountered:\n",
      "name 'only_names_good' is not defined\n",
      "Traceback (most recent call last):\n",
      "NameError: name 'only_names_good' is not defined\n",
      "\n"
     ]
    }
   ],
   "source": [
    "missing_ids = only_names_SBBdata.subtract(only_names_ORCdata)\n",
    "missing_stations = df_stations.join(missing_ids,on =['StationID'])\n",
    "missing_ids.show()"
   ]
  },
  {
   "cell_type": "markdown",
   "metadata": {},
   "source": [
    "### Create CSV file for storing the stations "
   ]
  },
  {
   "cell_type": "code",
   "execution_count": 8,
   "metadata": {},
   "outputs": [
    {
     "data": {
      "application/vnd.jupyter.widget-view+json": {
       "model_id": "",
       "version_major": 2,
       "version_minor": 0
      },
      "text/plain": [
       "FloatProgress(value=0.0, bar_style='info', description='Progress:', layout=Layout(height='25px', width='50%'),…"
      ]
     },
     "metadata": {},
     "output_type": "display_data"
    },
    {
     "data": {
      "application/vnd.jupyter.widget-view+json": {
       "model_id": "",
       "version_major": 2,
       "version_minor": 0
      },
      "text/plain": [
       "FloatProgress(value=0.0, bar_style='info', description='Progress:', layout=Layout(height='25px', width='50%'),…"
      ]
     },
     "metadata": {},
     "output_type": "display_data"
    }
   ],
   "source": [
    "%%spark -o df_stations -n -1"
   ]
  },
  {
   "cell_type": "code",
   "execution_count": 9,
   "metadata": {},
   "outputs": [],
   "source": [
    "%%local\n",
    "df_stations.to_csv(\"../data/Zurich_Stations.csv\", index=False)"
   ]
  },
  {
   "cell_type": "markdown",
   "metadata": {},
   "source": [
    "### Get the walking transfer times between different stations"
   ]
  },
  {
   "cell_type": "code",
   "execution_count": 18,
   "metadata": {},
   "outputs": [
    {
     "data": {
      "application/vnd.jupyter.widget-view+json": {
       "model_id": "",
       "version_major": 2,
       "version_minor": 0
      },
      "text/plain": [
       "FloatProgress(value=0.0, bar_style='info', description='Progress:', layout=Layout(height='25px', width='50%'),…"
      ]
     },
     "metadata": {},
     "output_type": "display_data"
    },
    {
     "name": "stdout",
     "output_type": "stream",
     "text": [
      "+-------+--------+---------+-------+--------+---------+\n",
      "|    id1|    lon1|     lat1|    id2|    lon2|     lat2|\n",
      "+-------+--------+---------+-------+--------+---------+\n",
      "|0000176|8.521961|47.351679|0000176|8.521961|47.351679|\n",
      "|0000176|8.521961|47.351679|8502572|8.513918|47.370293|\n",
      "|0000176|8.521961|47.351679|8503000|8.540192|47.378177|\n",
      "|0000176|8.521961|47.351679|8503001|8.488940|47.391481|\n",
      "|0000176|8.521961|47.351679|8503003|8.548466|47.366611|\n",
      "+-------+--------+---------+-------+--------+---------+\n",
      "only showing top 5 rows"
     ]
    }
   ],
   "source": [
    "station_pairs = df_stations.select('StationID','Longitude','Latitude','Height')\n",
    "joinedDF = station_pairs.crossJoin(test).toDF('id1','lon1','lat1'.'h1','id2','lon2','lat2','h2')\n",
    "joinedDF.show(5)"
   ]
  },
  {
   "cell_type": "code",
   "execution_count": 19,
   "metadata": {},
   "outputs": [
    {
     "data": {
      "application/vnd.jupyter.widget-view+json": {
       "model_id": "",
       "version_major": 2,
       "version_minor": 0
      },
      "text/plain": [
       "FloatProgress(value=0.0, bar_style='info', description='Progress:', layout=Layout(height='25px', width='50%'),…"
      ]
     },
     "metadata": {},
     "output_type": "display_data"
    }
   ],
   "source": [
    "from pyspark.sql.types import IntegerType\n",
    "distance = (\n",
    "    joinedDF\n",
    "        .withColumn(\"dlon\", F.radians(F.col(\"lon1\")) - F.radians(F.col(\"lon2\")))\n",
    "        .withColumn(\"dlat\", F.radians(F.col(\"lat1\")) - F.radians(F.col(\"lat2\"))) \n",
    "        .withColumn(\"Distance\", F.asin(F.sqrt( F.sin(F.col(\"dlat\") / 2) ** 2 + F.cos(F.radians(\"lat2\"))\n",
    "                                           *F.cos(F.radians(F.col(\"lat1\"))) * F.sin(F.col(\"dlon\") / 2) ** 2)) * 2 * 3963 * 5280) \\\n",
    "        .drop(\"dlon\", \"dlat\") \n",
    "        .filter(F.col(\"Distance\")<500)\n",
    "        .withColumn(\"Walking_time\",F.round(60*(2+F.col(\"Distance\")/50)).cast(IntegerType()))\n",
    ")"
   ]
  },
  {
   "cell_type": "code",
   "execution_count": 20,
   "metadata": {},
   "outputs": [
    {
     "data": {
      "application/vnd.jupyter.widget-view+json": {
       "model_id": "",
       "version_major": 2,
       "version_minor": 0
      },
      "text/plain": [
       "FloatProgress(value=0.0, bar_style='info', description='Progress:', layout=Layout(height='25px', width='50%'),…"
      ]
     },
     "metadata": {},
     "output_type": "display_data"
    },
    {
     "data": {
      "application/vnd.jupyter.widget-view+json": {
       "model_id": "",
       "version_major": 2,
       "version_minor": 0
      },
      "text/plain": [
       "FloatProgress(value=0.0, bar_style='info', description='Progress:', layout=Layout(height='25px', width='50%'),…"
      ]
     },
     "metadata": {},
     "output_type": "display_data"
    }
   ],
   "source": [
    "%%spark -o distance -n -1"
   ]
  },
  {
   "cell_type": "code",
   "execution_count": 21,
   "metadata": {},
   "outputs": [],
   "source": [
    "%%local\n",
    "distance.to_csv(\"../data/Zurich_WalkingConnections_TOTAL.csv\", index=False)"
   ]
  },
  {
   "cell_type": "code",
   "execution_count": 22,
   "metadata": {},
   "outputs": [
    {
     "data": {
      "application/vnd.jupyter.widget-view+json": {
       "model_id": "",
       "version_major": 2,
       "version_minor": 0
      },
      "text/plain": [
       "FloatProgress(value=0.0, bar_style='info', description='Progress:', layout=Layout(height='25px', width='50%'),…"
      ]
     },
     "metadata": {},
     "output_type": "display_data"
    },
    {
     "name": "stdout",
     "output_type": "stream",
     "text": [
      "+-------+--------+---------+-------+--------+---------+------------------+------------+\n",
      "|    id1|    lon1|     lat1|    id2|    lon2|     lat2|          Distance|Walking_time|\n",
      "+-------+--------+---------+-------+--------+---------+------------------+------------+\n",
      "|0000176|8.521961|47.351679|0000176|8.521961|47.351679|               0.0|         120|\n",
      "|8502572|8.513918|47.370293|8502572|8.513918|47.370293|               0.0|         120|\n",
      "|8503000|8.540192|47.378177|8503000|8.540192|47.378177|               0.0|         120|\n",
      "|8503000|8.540192|47.378177|8503088|8.539170|47.377431|371.62272536447483|         566|\n",
      "|8503000|8.540192|47.378177|8503446|8.541715|47.378846|448.94025446812276|         659|\n",
      "+-------+--------+---------+-------+--------+---------+------------------+------------+\n",
      "only showing top 5 rows"
     ]
    }
   ],
   "source": [
    "distance.show(5)"
   ]
  }
 ],
 "metadata": {
  "kernelspec": {
   "display_name": "PySpark",
   "language": "",
   "name": "pysparkkernel"
  },
  "language_info": {
   "codemirror_mode": {
    "name": "python",
    "version": 3
   },
   "mimetype": "text/x-python",
   "name": "pyspark",
   "pygments_lexer": "python3"
  }
 },
 "nbformat": 4,
 "nbformat_minor": 4
}
