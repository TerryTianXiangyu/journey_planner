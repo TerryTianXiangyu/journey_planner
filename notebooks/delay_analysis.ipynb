{
 "cells": [
  {
   "cell_type": "code",
   "execution_count": 1,
   "metadata": {},
   "outputs": [
    {
     "name": "stdout",
     "output_type": "stream",
     "text": [
      "Starting Spark application\n"
     ]
    },
    {
     "data": {
      "text/html": [
       "<table>\n",
       "<tr><th>ID</th><th>YARN Application ID</th><th>Kind</th><th>State</th><th>Spark UI</th><th>Driver log</th><th>Current session?</th></tr><tr><td>7627</td><td>application_1589299642358_2121</td><td>pyspark</td><td>idle</td><td><a target=\"_blank\" href=\"http://iccluster044.iccluster.epfl.ch:8088/proxy/application_1589299642358_2121/\">Link</a></td><td><a target=\"_blank\" href=\"http://iccluster068.iccluster.epfl.ch:8042/node/containerlogs/container_e06_1589299642358_2121_01_000001/ebouille\">Link</a></td><td>✔</td></tr></table>"
      ],
      "text/plain": [
       "<IPython.core.display.HTML object>"
      ]
     },
     "metadata": {},
     "output_type": "display_data"
    },
    {
     "data": {
      "application/vnd.jupyter.widget-view+json": {
       "model_id": "956663672dc343c29e8e8f2ec644cff9",
       "version_major": 2,
       "version_minor": 0
      },
      "text/plain": [
       "FloatProgress(value=0.0, bar_style='info', description='Progress:', layout=Layout(height='25px', width='50%'),…"
      ]
     },
     "metadata": {},
     "output_type": "display_data"
    },
    {
     "name": "stdout",
     "output_type": "stream",
     "text": [
      "SparkSession available as 'spark'.\n"
     ]
    },
    {
     "data": {
      "application/vnd.jupyter.widget-view+json": {
       "model_id": "022f7a34be4e4346807be11380160e81",
       "version_major": 2,
       "version_minor": 0
      },
      "text/plain": [
       "FloatProgress(value=0.0, bar_style='info', description='Progress:', layout=Layout(height='25px', width='50%'),…"
      ]
     },
     "metadata": {},
     "output_type": "display_data"
    }
   ],
   "source": [
    "import pyspark.sql.functions as f"
   ]
  },
  {
   "cell_type": "code",
   "execution_count": 2,
   "metadata": {},
   "outputs": [
    {
     "name": "stderr",
     "output_type": "stream",
     "text": [
      "A session has already been started. If you intend to recreate the session with new configurations, please include the -f argument.\n"
     ]
    }
   ],
   "source": [
    "%%configure\n",
    "{\n",
    "    \"conf\": {\n",
    "        \"spark.app.name\": \"datavirus_final\"\n",
    "    }\n",
    "}"
   ]
  },
  {
   "cell_type": "code",
   "execution_count": 3,
   "metadata": {},
   "outputs": [
    {
     "data": {
      "application/vnd.jupyter.widget-view+json": {
       "model_id": "02428c85b44a4d2cbdf0641fc31c9559",
       "version_major": 2,
       "version_minor": 0
      },
      "text/plain": [
       "FloatProgress(value=0.0, bar_style='info', description='Progress:', layout=Layout(height='25px', width='50%'),…"
      ]
     },
     "metadata": {},
     "output_type": "display_data"
    },
    {
     "name": "stdout",
     "output_type": "stream",
     "text": [
      "<pyspark.sql.session.SparkSession object at 0x7f3a70999210>"
     ]
    }
   ],
   "source": [
    "# Initialization\n",
    "spark"
   ]
  },
  {
   "cell_type": "code",
   "execution_count": 4,
   "metadata": {},
   "outputs": [
    {
     "data": {
      "text/html": [
       "Current session configs: <tt>{'driverMemory': '1000M', 'executorMemory': '4G', 'executorCores': 4, 'numExecutors': 10, 'kind': 'pyspark'}</tt><br>"
      ],
      "text/plain": [
       "<IPython.core.display.HTML object>"
      ]
     },
     "metadata": {},
     "output_type": "display_data"
    },
    {
     "data": {
      "text/html": [
       "<table>\n",
       "<tr><th>ID</th><th>YARN Application ID</th><th>Kind</th><th>State</th><th>Spark UI</th><th>Driver log</th><th>Current session?</th></tr><tr><td>7565</td><td>application_1589299642358_2060</td><td>pyspark</td><td>idle</td><td><a target=\"_blank\" href=\"http://iccluster044.iccluster.epfl.ch:8088/proxy/application_1589299642358_2060/\">Link</a></td><td><a target=\"_blank\" href=\"http://iccluster066.iccluster.epfl.ch:8042/node/containerlogs/container_e06_1589299642358_2060_01_000001/ebouille\">Link</a></td><td></td></tr><tr><td>7587</td><td>application_1589299642358_2082</td><td>pyspark</td><td>idle</td><td><a target=\"_blank\" href=\"http://iccluster044.iccluster.epfl.ch:8088/proxy/application_1589299642358_2082/\">Link</a></td><td><a target=\"_blank\" href=\"http://iccluster068.iccluster.epfl.ch:8042/node/containerlogs/container_e06_1589299642358_2082_01_000001/ebouille\">Link</a></td><td></td></tr><tr><td>7598</td><td>application_1589299642358_2093</td><td>pyspark</td><td>idle</td><td><a target=\"_blank\" href=\"http://iccluster044.iccluster.epfl.ch:8088/proxy/application_1589299642358_2093/\">Link</a></td><td><a target=\"_blank\" href=\"http://iccluster066.iccluster.epfl.ch:8042/node/containerlogs/container_e06_1589299642358_2093_01_000001/ebouille\">Link</a></td><td></td></tr><tr><td>7603</td><td>application_1589299642358_2098</td><td>pyspark</td><td>idle</td><td><a target=\"_blank\" href=\"http://iccluster044.iccluster.epfl.ch:8088/proxy/application_1589299642358_2098/\">Link</a></td><td><a target=\"_blank\" href=\"http://iccluster071.iccluster.epfl.ch:8042/node/containerlogs/container_e06_1589299642358_2098_01_000001/ebouille\">Link</a></td><td></td></tr><tr><td>7604</td><td>application_1589299642358_2099</td><td>pyspark</td><td>idle</td><td><a target=\"_blank\" href=\"http://iccluster044.iccluster.epfl.ch:8088/proxy/application_1589299642358_2099/\">Link</a></td><td><a target=\"_blank\" href=\"http://iccluster067.iccluster.epfl.ch:8042/node/containerlogs/container_e06_1589299642358_2099_01_000001/ebouille\">Link</a></td><td></td></tr><tr><td>7606</td><td>application_1589299642358_2101</td><td>pyspark</td><td>idle</td><td><a target=\"_blank\" href=\"http://iccluster044.iccluster.epfl.ch:8088/proxy/application_1589299642358_2101/\">Link</a></td><td><a target=\"_blank\" href=\"http://iccluster071.iccluster.epfl.ch:8042/node/containerlogs/container_e06_1589299642358_2101_01_000001/ebouille\">Link</a></td><td></td></tr><tr><td>7608</td><td>application_1589299642358_2103</td><td>pyspark</td><td>busy</td><td><a target=\"_blank\" href=\"http://iccluster044.iccluster.epfl.ch:8088/proxy/application_1589299642358_2103/\">Link</a></td><td><a target=\"_blank\" href=\"http://iccluster072.iccluster.epfl.ch:8042/node/containerlogs/container_e06_1589299642358_2103_01_000001/ebouille\">Link</a></td><td></td></tr><tr><td>7609</td><td>application_1589299642358_2104</td><td>pyspark</td><td>busy</td><td><a target=\"_blank\" href=\"http://iccluster044.iccluster.epfl.ch:8088/proxy/application_1589299642358_2104/\">Link</a></td><td><a target=\"_blank\" href=\"http://iccluster068.iccluster.epfl.ch:8042/node/containerlogs/container_e06_1589299642358_2104_01_000001/ebouille\">Link</a></td><td></td></tr><tr><td>7611</td><td>application_1589299642358_2106</td><td>pyspark</td><td>busy</td><td><a target=\"_blank\" href=\"http://iccluster044.iccluster.epfl.ch:8088/proxy/application_1589299642358_2106/\">Link</a></td><td><a target=\"_blank\" href=\"http://iccluster067.iccluster.epfl.ch:8042/node/containerlogs/container_e06_1589299642358_2106_01_000001/ebouille\">Link</a></td><td></td></tr><tr><td>7616</td><td>application_1589299642358_2111</td><td>pyspark</td><td>idle</td><td><a target=\"_blank\" href=\"http://iccluster044.iccluster.epfl.ch:8088/proxy/application_1589299642358_2111/\">Link</a></td><td><a target=\"_blank\" href=\"http://iccluster068.iccluster.epfl.ch:8042/node/containerlogs/container_e06_1589299642358_2111_01_000001/ebouille\">Link</a></td><td></td></tr><tr><td>7617</td><td>application_1589299642358_2112</td><td>pyspark</td><td>busy</td><td><a target=\"_blank\" href=\"http://iccluster044.iccluster.epfl.ch:8088/proxy/application_1589299642358_2112/\">Link</a></td><td><a target=\"_blank\" href=\"http://iccluster065.iccluster.epfl.ch:8042/node/containerlogs/container_e06_1589299642358_2112_01_000001/ebouille\">Link</a></td><td></td></tr><tr><td>7618</td><td>application_1589299642358_2113</td><td>pyspark</td><td>busy</td><td><a target=\"_blank\" href=\"http://iccluster044.iccluster.epfl.ch:8088/proxy/application_1589299642358_2113/\">Link</a></td><td><a target=\"_blank\" href=\"http://iccluster070.iccluster.epfl.ch:8042/node/containerlogs/container_e06_1589299642358_2113_01_000001/ebouille\">Link</a></td><td></td></tr><tr><td>7619</td><td>application_1589299642358_2114</td><td>pyspark</td><td>idle</td><td><a target=\"_blank\" href=\"http://iccluster044.iccluster.epfl.ch:8088/proxy/application_1589299642358_2114/\">Link</a></td><td><a target=\"_blank\" href=\"http://iccluster065.iccluster.epfl.ch:8042/node/containerlogs/container_e06_1589299642358_2114_01_000001/ebouille\">Link</a></td><td></td></tr><tr><td>7620</td><td>application_1589299642358_2115</td><td>pyspark</td><td>idle</td><td><a target=\"_blank\" href=\"http://iccluster044.iccluster.epfl.ch:8088/proxy/application_1589299642358_2115/\">Link</a></td><td><a target=\"_blank\" href=\"http://iccluster069.iccluster.epfl.ch:8042/node/containerlogs/container_e06_1589299642358_2115_01_000001/ebouille\">Link</a></td><td></td></tr><tr><td>7622</td><td>application_1589299642358_2117</td><td>pyspark</td><td>idle</td><td><a target=\"_blank\" href=\"http://iccluster044.iccluster.epfl.ch:8088/proxy/application_1589299642358_2117/\">Link</a></td><td><a target=\"_blank\" href=\"http://iccluster065.iccluster.epfl.ch:8042/node/containerlogs/container_e06_1589299642358_2117_01_000001/ebouille\">Link</a></td><td></td></tr><tr><td>7623</td><td>application_1589299642358_2118</td><td>pyspark</td><td>idle</td><td><a target=\"_blank\" href=\"http://iccluster044.iccluster.epfl.ch:8088/proxy/application_1589299642358_2118/\">Link</a></td><td><a target=\"_blank\" href=\"http://iccluster071.iccluster.epfl.ch:8042/node/containerlogs/container_e06_1589299642358_2118_01_000001/ebouille\">Link</a></td><td></td></tr><tr><td>7624</td><td>application_1589299642358_2119</td><td>pyspark</td><td>idle</td><td><a target=\"_blank\" href=\"http://iccluster044.iccluster.epfl.ch:8088/proxy/application_1589299642358_2119/\">Link</a></td><td><a target=\"_blank\" href=\"http://iccluster067.iccluster.epfl.ch:8042/node/containerlogs/container_e06_1589299642358_2119_01_000001/ebouille\">Link</a></td><td></td></tr><tr><td>7626</td><td>application_1589299642358_2120</td><td>pyspark</td><td>idle</td><td><a target=\"_blank\" href=\"http://iccluster044.iccluster.epfl.ch:8088/proxy/application_1589299642358_2120/\">Link</a></td><td><a target=\"_blank\" href=\"http://iccluster065.iccluster.epfl.ch:8042/node/containerlogs/container_e06_1589299642358_2120_01_000001/ebouille\">Link</a></td><td></td></tr><tr><td>7627</td><td>application_1589299642358_2121</td><td>pyspark</td><td>idle</td><td><a target=\"_blank\" href=\"http://iccluster044.iccluster.epfl.ch:8088/proxy/application_1589299642358_2121/\">Link</a></td><td><a target=\"_blank\" href=\"http://iccluster068.iccluster.epfl.ch:8042/node/containerlogs/container_e06_1589299642358_2121_01_000001/ebouille\">Link</a></td><td>✔</td></tr></table>"
      ],
      "text/plain": [
       "<IPython.core.display.HTML object>"
      ]
     },
     "metadata": {},
     "output_type": "display_data"
    }
   ],
   "source": [
    "%%info"
   ]
  },
  {
   "cell_type": "code",
   "execution_count": 5,
   "metadata": {},
   "outputs": [
    {
     "data": {
      "application/vnd.jupyter.widget-view+json": {
       "model_id": "",
       "version_major": 2,
       "version_minor": 0
      },
      "text/plain": [
       "FloatProgress(value=0.0, bar_style='info', description='Progress:', layout=Layout(height='25px', width='50%'),…"
      ]
     },
     "metadata": {},
     "output_type": "display_data"
    }
   ],
   "source": [
    "sbb = spark.read.orc('/data/sbb/orc/istdaten')"
   ]
  },
  {
   "cell_type": "code",
   "execution_count": 6,
   "metadata": {},
   "outputs": [
    {
     "data": {
      "application/vnd.jupyter.widget-view+json": {
       "model_id": "",
       "version_major": 2,
       "version_minor": 0
      },
      "text/plain": [
       "FloatProgress(value=0.0, bar_style='info', description='Progress:', layout=Layout(height='25px', width='50%'),…"
      ]
     },
     "metadata": {},
     "output_type": "display_data"
    },
    {
     "name": "stdout",
     "output_type": "stream",
     "text": [
      "+-----------+-------------------+------------+-------------+--------------+----------+---------+-----------+---------+-------------------+--------------+-------------+-------+-----------------+------------+-----------+------------------+----------------+-----------+------------------+-------------+\n",
      "|betriebstag|   fahrt_bezeichner|betreiber_id|betreiber_abk|betreiber_name|produkt_id|linien_id|linien_text|umlauf_id|verkehrsmittel_text|zusatzfahrt_tf|faellt_aus_tf|  bpuic|haltestellen_name|ankunftszeit|an_prognose|an_prognose_status|    abfahrtszeit|ab_prognose|ab_prognose_status|durchfahrt_tf|\n",
      "+-----------+-------------------+------------+-------------+--------------+----------+---------+-----------+---------+-------------------+--------------+-------------+-------+-----------------+------------+-----------+------------------+----------------+-----------+------------------+-------------+\n",
      "| 03.09.2018|80:06____:17010:000|   80:06____|           DB|   DB Regio AG|       Zug|    17010|         RE|         |                 RE|         false|        false|8500090|     Basel Bad Bf|            |           |          PROGNOSE|03.09.2018 05:45|           |         UNBEKANNT|        false|\n",
      "+-----------+-------------------+------------+-------------+--------------+----------+---------+-----------+---------+-------------------+--------------+-------------+-------+-----------------+------------+-----------+------------------+----------------+-----------+------------------+-------------+\n",
      "only showing top 1 row"
     ]
    }
   ],
   "source": [
    "sbb.show(1)"
   ]
  },
  {
   "cell_type": "code",
   "execution_count": 7,
   "metadata": {},
   "outputs": [
    {
     "data": {
      "application/vnd.jupyter.widget-view+json": {
       "model_id": "",
       "version_major": 2,
       "version_minor": 0
      },
      "text/plain": [
       "FloatProgress(value=0.0, bar_style='info', description='Progress:', layout=Layout(height='25px', width='50%'),…"
      ]
     },
     "metadata": {},
     "output_type": "display_data"
    }
   ],
   "source": [
    "sbb = (\n",
    "    sbb\n",
    "    \n",
    "    # filter out any trips that we are not interested in\n",
    "    .where(sbb.zusatzfahrt_tf == 'false')\n",
    "    .where(sbb.faellt_aus_tf == 'false')\n",
    "    .where(sbb.durchfahrt_tf == 'false')\n",
    "    .where(sbb.ankunftszeit.isNotNull())\n",
    "    .where(sbb.an_prognose.isNotNull())\n",
    "    .where(sbb.an_prognose_status.isin('REAL', 'PROGNOSE'))\n",
    "    \n",
    "    # calculate delay\n",
    "    .withColumn('ankunftszeit_ts', f.unix_timestamp(f.col('ankunftszeit'), \"dd.MM.yyyy HH:mm\").cast('long'))\n",
    "    .withColumn('an_prognose_ts', f.unix_timestamp(f.col('an_prognose'), \"dd.MM.yyyy HH:mm:ss\").cast('long'))\n",
    "    .withColumn('delay', f.col('an_prognose_ts') - f.col('ankunftszeit_ts'))\n",
    "    \n",
    "    # sometimes there are more multiple REAL and PROGNOSE values for the exactly same trip on the same day\n",
    "    # and time. There is no way which one is the closest to the actual arrival time of the train so we \n",
    "    # just drop all duplicates and keep one \"randomly\".\n",
    "    .select(['betriebstag', 'fahrt_bezeichner', 'bpuic', 'ankunftszeit', 'an_prognose_status', 'delay'])\n",
    "    .dropDuplicates(['betriebstag', 'fahrt_bezeichner', 'bpuic', 'ankunftszeit', 'an_prognose_status'])\n",
    ").persist()"
   ]
  },
  {
   "cell_type": "code",
   "execution_count": 8,
   "metadata": {},
   "outputs": [
    {
     "data": {
      "application/vnd.jupyter.widget-view+json": {
       "model_id": "",
       "version_major": 2,
       "version_minor": 0
      },
      "text/plain": [
       "FloatProgress(value=0.0, bar_style='info', description='Progress:', layout=Layout(height='25px', width='50%'),…"
      ]
     },
     "metadata": {},
     "output_type": "display_data"
    },
    {
     "name": "stdout",
     "output_type": "stream",
     "text": [
      "+-----------+--------------------+-------+----------------+----------+--------------+-----+----------+\n",
      "|betriebstag|    fahrt_bezeichner|  bpuic|    ankunftszeit|real_delay|prognose_delay|delay|is_delayed|\n",
      "+-----------+--------------------+-------+----------------+----------+--------------+-----+----------+\n",
      "| 01.01.2018|85:3849:516344-05...|8591033|01.01.2018 07:15|      null|            54|   54|         1|\n",
      "| 01.01.2018|85:3849:63353-050...|8591194|01.01.2018 23:34|      null|             0|    0|         0|\n",
      "| 01.01.2018|85:3849:64010-050...|8591316|01.01.2018 10:03|      null|            62|   62|         1|\n",
      "| 01.01.2018|85:812:231001-000...|8508450|                |      null|          null| null|         0|\n",
      "| 01.01.2018|85:820:364039-010...|8589758|01.01.2018 21:01|       462|          null|  462|         1|\n",
      "| 01.01.2018|85:820:364250-040...|8589833|01.01.2018 20:03|      null|           133|  133|         1|\n",
      "| 01.01.2018|85:820:441219-040...|8589701|01.01.2018 16:07|      null|           211|  211|         1|\n",
      "| 01.01.2018|85:820:446002-020...|8589802|01.01.2018 09:24|        13|          null|   13|         1|\n",
      "| 01.01.2018|85:820:564143-010...|8577150|01.01.2018 20:09|      null|            62|   62|         1|\n",
      "| 01.01.2018|85:823:460444-314...|8589350|01.01.2018 13:46|      null|            91|   91|         1|\n",
      "+-----------+--------------------+-------+----------------+----------+--------------+-----+----------+\n",
      "only showing top 10 rows"
     ]
    }
   ],
   "source": [
    "delays = (\n",
    "    sbb\n",
    "    \n",
    "    # for each trip we only kept one REAL and one PROGNOSE row\n",
    "    # now we aggregate them into the same row for each trip\n",
    "    .groupBy(['betriebstag', 'fahrt_bezeichner', 'bpuic', 'ankunftszeit'])\n",
    "    .agg(\n",
    "        f.first(f.when(sbb.an_prognose_status == 'REAL', sbb.delay).otherwise(None)).alias('real_delay'),\n",
    "        f.first(f.when(sbb.an_prognose_status == 'PROGNOSE', sbb.delay).otherwise(None)).alias('prognose_delay'),\n",
    "    )\n",
    "    \n",
    "    # if there is REAL delay we select it, otherwise we take the PROGNOSE delay \n",
    "    .withColumn('delay', f.when(f.col('real_delay').isNotNull(), f.col('real_delay')).otherwise(f.col('prognose_delay')))\n",
    "    .withColumn('is_delayed', f.when(f.col('delay') > 0, 1).otherwise(0))\n",
    ")\n",
    "\n",
    "delays.show(10)"
   ]
  },
  {
   "cell_type": "code",
   "execution_count": 14,
   "metadata": {},
   "outputs": [
    {
     "data": {
      "application/vnd.jupyter.widget-view+json": {
       "model_id": "",
       "version_major": 2,
       "version_minor": 0
      },
      "text/plain": [
       "FloatProgress(value=0.0, bar_style='info', description='Progress:', layout=Layout(height='25px', width='50%'),…"
      ]
     },
     "metadata": {},
     "output_type": "display_data"
    }
   ],
   "source": [
    "probability = (\n",
    "    delays\n",
    "    \n",
    "    # create an extra column that holds only time of the day without the date part\n",
    "    .withColumn('ankunftszeit_time', delays.ankunftszeit.substr(11, 15))\n",
    "    \n",
    "    # group identical trips over all days\n",
    "    .groupBy(['fahrt_bezeichner', 'bpuic', 'ankunftszeit_time'])\n",
    "    \n",
    "    # calculate delay probability and 1/(mean delay) for each trip\n",
    "    .agg(\n",
    "        f.mean(delays.is_delayed).alias('delay_probability'),\n",
    "        (1.0 / f.mean(f.when(delays.is_delayed == 1, f.when(delays.delay > 30*60, 30*60).otherwise(delays.delay)))).alias('delay_parameter'),\n",
    "        f.count(delays.delay).alias('n')\n",
    "    )\n",
    ")"
   ]
  },
  {
   "cell_type": "code",
   "execution_count": 15,
   "metadata": {},
   "outputs": [
    {
     "data": {
      "application/vnd.jupyter.widget-view+json": {
       "model_id": "",
       "version_major": 2,
       "version_minor": 0
      },
      "text/plain": [
       "FloatProgress(value=0.0, bar_style='info', description='Progress:', layout=Layout(height='25px', width='50%'),…"
      ]
     },
     "metadata": {},
     "output_type": "display_data"
    }
   ],
   "source": [
    "probability.write.format(\"orc\").save(\"/user/gflueck/delay_analysis.orc\", mode='overwrite')"
   ]
  },
  {
   "cell_type": "code",
   "execution_count": 5,
   "metadata": {},
   "outputs": [
    {
     "data": {
      "application/vnd.jupyter.widget-view+json": {
       "model_id": "",
       "version_major": 2,
       "version_minor": 0
      },
      "text/plain": [
       "FloatProgress(value=0.0, bar_style='info', description='Progress:', layout=Layout(height='25px', width='50%'),…"
      ]
     },
     "metadata": {},
     "output_type": "display_data"
    }
   ],
   "source": [
    "probability = spark.read.orc(\"/user/gflueck/delay_analysis.orc\")"
   ]
  },
  {
   "cell_type": "code",
   "execution_count": 6,
   "metadata": {},
   "outputs": [
    {
     "data": {
      "application/vnd.jupyter.widget-view+json": {
       "model_id": "",
       "version_major": 2,
       "version_minor": 0
      },
      "text/plain": [
       "FloatProgress(value=0.0, bar_style='info', description='Progress:', layout=Layout(height='25px', width='50%'),…"
      ]
     },
     "metadata": {},
     "output_type": "display_data"
    },
    {
     "name": "stdout",
     "output_type": "stream",
     "text": [
      "+--------------------+-------+-----------------+------------------+--------------------+---+\n",
      "|    fahrt_bezeichner|  bpuic|ankunftszeit_time| delay_probability|     delay_parameter|  n|\n",
      "+--------------------+-------+-----------------+------------------+--------------------+---+\n",
      "|85:3849:64230-050...|8591257|            23:22|0.7142857142857143|0.023632680621201888| 49|\n",
      "|       85:49:328:000|8505470|                 |               0.0|                null|  0|\n",
      "|   85:801:81029-3572|8572974|            12:02|0.6690391459074733|0.012789115646258504|281|\n",
      "|85:820:439107-010...|8589831|            09:54|              0.92|0.010821831869510664| 75|\n",
      "|85:820:445848-020...|8589794|            22:53|0.7272727272727273| 0.02702702702702703| 11|\n",
      "+--------------------+-------+-----------------+------------------+--------------------+---+\n",
      "only showing top 5 rows"
     ]
    }
   ],
   "source": [
    "probability.show(5)"
   ]
  },
  {
   "cell_type": "code",
   "execution_count": 7,
   "metadata": {},
   "outputs": [
    {
     "data": {
      "application/vnd.jupyter.widget-view+json": {
       "model_id": "",
       "version_major": 2,
       "version_minor": 0
      },
      "text/plain": [
       "FloatProgress(value=0.0, bar_style='info', description='Progress:', layout=Layout(height='25px', width='50%'),…"
      ]
     },
     "metadata": {},
     "output_type": "display_data"
    },
    {
     "name": "stdout",
     "output_type": "stream",
     "text": [
      "+-------+------------------+\n",
      "|summary|                 n|\n",
      "+-------+------------------+\n",
      "|  count|          73021577|\n",
      "|   mean| 9.149655299830076|\n",
      "| stddev|28.798668297440553|\n",
      "|    min|                 0|\n",
      "|    max|               712|\n",
      "+-------+------------------+"
     ]
    }
   ],
   "source": [
    "probability.select('n').describe().show()"
   ]
  },
  {
   "cell_type": "code",
   "execution_count": 1,
   "metadata": {},
   "outputs": [
    {
     "name": "stdout",
     "output_type": "stream",
     "text": [
      "Starting Spark application\n"
     ]
    },
    {
     "data": {
      "text/html": [
       "<table>\n",
       "<tr><th>ID</th><th>YARN Application ID</th><th>Kind</th><th>State</th><th>Spark UI</th><th>Driver log</th><th>Current session?</th></tr><tr><td>7635</td><td>application_1589299642358_2129</td><td>pyspark</td><td>idle</td><td><a target=\"_blank\" href=\"http://iccluster044.iccluster.epfl.ch:8088/proxy/application_1589299642358_2129/\">Link</a></td><td><a target=\"_blank\" href=\"http://iccluster070.iccluster.epfl.ch:8042/node/containerlogs/container_e06_1589299642358_2129_01_000001/ebouille\">Link</a></td><td>✔</td></tr></table>"
      ],
      "text/plain": [
       "<IPython.core.display.HTML object>"
      ]
     },
     "metadata": {},
     "output_type": "display_data"
    },
    {
     "data": {
      "application/vnd.jupyter.widget-view+json": {
       "model_id": "",
       "version_major": 2,
       "version_minor": 0
      },
      "text/plain": [
       "FloatProgress(value=0.0, bar_style='info', description='Progress:', layout=Layout(height='25px', width='50%'),…"
      ]
     },
     "metadata": {},
     "output_type": "display_data"
    },
    {
     "name": "stdout",
     "output_type": "stream",
     "text": [
      "SparkSession available as 'spark'.\n"
     ]
    },
    {
     "data": {
      "application/vnd.jupyter.widget-view+json": {
       "model_id": "",
       "version_major": 2,
       "version_minor": 0
      },
      "text/plain": [
       "FloatProgress(value=0.0, bar_style='info', description='Progress:', layout=Layout(height='25px', width='50%'),…"
      ]
     },
     "metadata": {},
     "output_type": "display_data"
    },
    {
     "name": "stderr",
     "output_type": "stream",
     "text": [
      "An error was encountered:\n",
      "name 'probability' is not defined\n",
      "Traceback (most recent call last):\n",
      "NameError: name 'probability' is not defined\n",
      "\n"
     ]
    }
   ],
   "source": [
    "probability.show(10)"
   ]
  }
 ],
 "metadata": {
  "kernelspec": {
   "display_name": "PySpark",
   "language": "",
   "name": "pysparkkernel"
  },
  "language_info": {
   "codemirror_mode": {
    "name": "python",
    "version": 3
   },
   "mimetype": "text/x-python",
   "name": "pyspark",
   "pygments_lexer": "python3"
  }
 },
 "nbformat": 4,
 "nbformat_minor": 4
}
