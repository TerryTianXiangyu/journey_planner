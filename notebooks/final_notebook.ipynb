{
 "cells": [
  {
   "cell_type": "markdown",
   "metadata": {},
   "source": [
    "# Robust Journey Planner\n",
    "This notebook describes the general path we have followed in order to convert raw data into a meaningful journey planner. The most important aspect of our developed planner is its robustness given that after exhaustive delay analysis based on historical data, every trip is associated with a probility. The system can be tested thanks to a validation method and the results can be visualied thanks to a curated interface. The purpose of this notebook is just to guide the reader in our learning and development process but there are links to more specific notebooks where all the details can be found. There are several parts to take into consideration:\n",
    "*   **[Initial Setup](#initial)** — import libraries and explain tools that will be used\n",
    "*   **[Public Transport Network](#network)**  — define network structure and connections timetable.\n",
    "*   **[Probabilistic Model](#probability)** — analyse delay for associating every connection with an uncertainty rsk.\n",
    "*   **[Route Planner Algorithm](#algorithm)**  — to apply a function to each element.\n",
    "*   **[User Interface](#interface)** — design interface with desired trip as input and connection alternatives as output\n",
    "*   **[Validation Method](#validation)** — test the developed system for checking its proper funtioning."
   ]
  },
  {
   "cell_type": "markdown",
   "metadata": {},
   "source": [
    "<a id = 'initial'></a>\n",
    "## 1.Initial Setup\n",
    "\n",
    "We use Spark, HDFS, pandas, bokeh..."
   ]
  },
  {
   "cell_type": "code",
   "execution_count": 7,
   "metadata": {},
   "outputs": [],
   "source": [
    "import pandas as pd\n",
    "import numpy as np\n",
    "import math"
   ]
  },
  {
   "cell_type": "code",
   "execution_count": 4,
   "metadata": {},
   "outputs": [],
   "source": [
    "from hdfs3 import HDFileSystem\n",
    "hdfs = HDFileSystem(host='hdfs://iccluster044.iccluster.epfl.ch', port=8020, user='ebouille')\n",
    "def read_csv(path, parts=None, **kwargs):\n",
    "    dfs = []\n",
    "    file_paths = [file_path for file_path in hdfs.ls(path) if file_path.endswith('.csv')]\n",
    "    if parts:\n",
    "        file_paths = file_paths[:parts]\n",
    "    for file_path in file_paths:\n",
    "        with hdfs.open(file_path) as file:\n",
    "            dfs.append(pd.read_csv(file, **kwargs))\n",
    "    return pd.concat(dfs)\n"
   ]
  },
  {
   "cell_type": "markdown",
   "metadata": {},
   "source": [
    "<a id = 'network'></a>\n",
    "## 2. Public Transport Network\n",
    "\n",
    "\n",
    "Our project is based on the data published on  [ Open Data Platform Mobility Switzerland](https://opentransportdata.swiss/en/) This platform provides with scheduled timetables and actual historical data of several public trasnport services in Switzerland. In this section, we explain which data is actually relevant for our purposes and how we can model the public transport system"
   ]
  },
  {
   "cell_type": "markdown",
   "metadata": {},
   "source": [
    "### 2.1 Zurich stations\n",
    "\n",
    "We will be focusing on **Zurich** region, so we only take into account transport stops that are within 15-km of Zurich, taking <code>Zurich HB = [8.540192,47.378177]</code>  as reference point. The stations data [BFKOORD_GEO](https://opentransportdata.swiss/en/cookbook/hafas-rohdaten-format-hrdf/#Abgrenzung) is stored under HDFS <code>/data/sbb/stations/bfkoordgeo.csv</code> where latitude, longitude and height of every station is listed. We will compute the **Haversine distance** between Zurich HB and the rest of the stations for filtering out those that are outside the **15 km radius**. Please refer to [get_stations](./get_stations.ipynb) for more details. As a result, we obtain the following dataframe:\n"
   ]
  },
  {
   "cell_type": "code",
   "execution_count": 11,
   "metadata": {},
   "outputs": [
    {
     "data": {
      "text/html": [
       "<div>\n",
       "<style scoped>\n",
       "    .dataframe tbody tr th:only-of-type {\n",
       "        vertical-align: middle;\n",
       "    }\n",
       "\n",
       "    .dataframe tbody tr th {\n",
       "        vertical-align: top;\n",
       "    }\n",
       "\n",
       "    .dataframe thead th {\n",
       "        text-align: right;\n",
       "    }\n",
       "</style>\n",
       "<table border=\"1\" class=\"dataframe\">\n",
       "  <thead>\n",
       "    <tr style=\"text-align: right;\">\n",
       "      <th></th>\n",
       "      <th>StationID</th>\n",
       "      <th>Longitude</th>\n",
       "      <th>Latitude</th>\n",
       "      <th>Height</th>\n",
       "      <th>Remark</th>\n",
       "      <th>Distance_from_Zurich</th>\n",
       "    </tr>\n",
       "  </thead>\n",
       "  <tbody>\n",
       "    <tr>\n",
       "      <th>0</th>\n",
       "      <td>65</td>\n",
       "      <td>8.595545</td>\n",
       "      <td>47.409209</td>\n",
       "      <td>430</td>\n",
       "      <td>Wallisellen, Glatt</td>\n",
       "      <td>5409.956757</td>\n",
       "    </tr>\n",
       "    <tr>\n",
       "      <th>1</th>\n",
       "      <td>66</td>\n",
       "      <td>8.595545</td>\n",
       "      <td>47.409209</td>\n",
       "      <td>430</td>\n",
       "      <td>Wallisellen, Zentrum Glatt</td>\n",
       "      <td>5409.956757</td>\n",
       "    </tr>\n",
       "    <tr>\n",
       "      <th>2</th>\n",
       "      <td>176</td>\n",
       "      <td>8.521961</td>\n",
       "      <td>47.351679</td>\n",
       "      <td>0</td>\n",
       "      <td>Zimmerberg-Basistunnel</td>\n",
       "      <td>3250.669989</td>\n",
       "    </tr>\n",
       "    <tr>\n",
       "      <th>3</th>\n",
       "      <td>8502186</td>\n",
       "      <td>8.398942</td>\n",
       "      <td>47.393407</td>\n",
       "      <td>428</td>\n",
       "      <td>Dietikon Stoffelbach</td>\n",
       "      <td>10768.073180</td>\n",
       "    </tr>\n",
       "    <tr>\n",
       "      <th>4</th>\n",
       "      <td>8502187</td>\n",
       "      <td>8.377032</td>\n",
       "      <td>47.364740</td>\n",
       "      <td>502</td>\n",
       "      <td>Rudolfstetten Hofacker</td>\n",
       "      <td>12377.426177</td>\n",
       "    </tr>\n",
       "  </tbody>\n",
       "</table>\n",
       "</div>"
      ],
      "text/plain": [
       "   StationID  Longitude   Latitude  Height                      Remark  \\\n",
       "0         65   8.595545  47.409209     430          Wallisellen, Glatt   \n",
       "1         66   8.595545  47.409209     430  Wallisellen, Zentrum Glatt   \n",
       "2        176   8.521961  47.351679       0      Zimmerberg-Basistunnel   \n",
       "3    8502186   8.398942  47.393407     428        Dietikon Stoffelbach   \n",
       "4    8502187   8.377032  47.364740     502      Rudolfstetten Hofacker   \n",
       "\n",
       "   Distance_from_Zurich  \n",
       "0           5409.956757  \n",
       "1           5409.956757  \n",
       "2           3250.669989  \n",
       "3          10768.073180  \n",
       "4          12377.426177  "
      ]
     },
     "execution_count": 11,
     "metadata": {},
     "output_type": "execute_result"
    }
   ],
   "source": [
    "stations_info = read_csv('../data/zurich_stations_info.csv', parts=1)\n",
    "stations_info.head()"
   ]
  },
  {
   "cell_type": "markdown",
   "metadata": {},
   "source": [
    "### 2.2 What is a connection?\n",
    "\n",
    "So after definiing the static nodes of our network (Zurich stations), we have to add the edges (the links) between each of them. Can we go from all possible stations to the rest of all possible stations? Is it worth it? How can we go? They are rather difficult questions to ask at first hand but it becomes easier after we perform some exploratory analysis on [SBB historical data](https://opentransportdata.swiss/en/dataset/istdaten) and we understand the difference between trip and connection: a **trip** makes reference to an ordered sequence of stops but they appear in different rows (one stop each) (having both arrival and departure times to/from this specific stop), where as a **connection** involves the departure time from one stop and the arrival time to a different one. Therefore, we conclude that connections are the edges of our network we are looking for, although the dataset is expressed in trips."
   ]
  },
  {
   "cell_type": "markdown",
   "metadata": {},
   "source": [
    "### 2.3 Walking connections\n",
    "\n",
    "We start by looking at the easier connections: the walking ones. We assume it is sensible to connect **nearby stations** (<500 m of distance) by walking and we compute the required transfer time between each pair of stations. For more details please refere to the last part of the notebook [get_stations](./get_stations.ipynb). As a result, we obtain the following dataframe:"
   ]
  },
  {
   "cell_type": "code",
   "execution_count": 12,
   "metadata": {},
   "outputs": [
    {
     "data": {
      "text/html": [
       "<div>\n",
       "<style scoped>\n",
       "    .dataframe tbody tr th:only-of-type {\n",
       "        vertical-align: middle;\n",
       "    }\n",
       "\n",
       "    .dataframe tbody tr th {\n",
       "        vertical-align: top;\n",
       "    }\n",
       "\n",
       "    .dataframe thead th {\n",
       "        text-align: right;\n",
       "    }\n",
       "</style>\n",
       "<table border=\"1\" class=\"dataframe\">\n",
       "  <thead>\n",
       "    <tr style=\"text-align: right;\">\n",
       "      <th></th>\n",
       "      <th>ID1</th>\n",
       "      <th>Lon1</th>\n",
       "      <th>Lat1</th>\n",
       "      <th>H1</th>\n",
       "      <th>ID2</th>\n",
       "      <th>Lon2</th>\n",
       "      <th>Lat2</th>\n",
       "      <th>H2</th>\n",
       "      <th>Distance (m)</th>\n",
       "      <th>Speed (m/min)</th>\n",
       "      <th>Transfer time (sec)</th>\n",
       "    </tr>\n",
       "  </thead>\n",
       "  <tbody>\n",
       "    <tr>\n",
       "      <th>0</th>\n",
       "      <td>65</td>\n",
       "      <td>8.595545</td>\n",
       "      <td>47.409209</td>\n",
       "      <td>430</td>\n",
       "      <td>65</td>\n",
       "      <td>8.595545</td>\n",
       "      <td>47.409209</td>\n",
       "      <td>430</td>\n",
       "      <td>0.000000</td>\n",
       "      <td>50.00</td>\n",
       "      <td>120.0</td>\n",
       "    </tr>\n",
       "    <tr>\n",
       "      <th>1</th>\n",
       "      <td>65</td>\n",
       "      <td>8.595545</td>\n",
       "      <td>47.409209</td>\n",
       "      <td>430</td>\n",
       "      <td>66</td>\n",
       "      <td>8.595545</td>\n",
       "      <td>47.409209</td>\n",
       "      <td>430</td>\n",
       "      <td>0.000000</td>\n",
       "      <td>50.00</td>\n",
       "      <td>120.0</td>\n",
       "    </tr>\n",
       "    <tr>\n",
       "      <th>2</th>\n",
       "      <td>65</td>\n",
       "      <td>8.595545</td>\n",
       "      <td>47.409209</td>\n",
       "      <td>430</td>\n",
       "      <td>8503129</td>\n",
       "      <td>8.591911</td>\n",
       "      <td>47.412717</td>\n",
       "      <td>431</td>\n",
       "      <td>493.557390</td>\n",
       "      <td>49.99</td>\n",
       "      <td>712.0</td>\n",
       "    </tr>\n",
       "    <tr>\n",
       "      <th>3</th>\n",
       "      <td>65</td>\n",
       "      <td>8.595545</td>\n",
       "      <td>47.409209</td>\n",
       "      <td>430</td>\n",
       "      <td>8587651</td>\n",
       "      <td>8.595545</td>\n",
       "      <td>47.409209</td>\n",
       "      <td>430</td>\n",
       "      <td>0.000000</td>\n",
       "      <td>50.00</td>\n",
       "      <td>120.0</td>\n",
       "    </tr>\n",
       "    <tr>\n",
       "      <th>4</th>\n",
       "      <td>65</td>\n",
       "      <td>8.595545</td>\n",
       "      <td>47.409209</td>\n",
       "      <td>430</td>\n",
       "      <td>8587655</td>\n",
       "      <td>8.592534</td>\n",
       "      <td>47.412720</td>\n",
       "      <td>431</td>\n",
       "      <td>463.889894</td>\n",
       "      <td>49.99</td>\n",
       "      <td>677.0</td>\n",
       "    </tr>\n",
       "  </tbody>\n",
       "</table>\n",
       "</div>"
      ],
      "text/plain": [
       "   ID1      Lon1       Lat1   H1      ID2      Lon2       Lat2   H2  \\\n",
       "0   65  8.595545  47.409209  430       65  8.595545  47.409209  430   \n",
       "1   65  8.595545  47.409209  430       66  8.595545  47.409209  430   \n",
       "2   65  8.595545  47.409209  430  8503129  8.591911  47.412717  431   \n",
       "3   65  8.595545  47.409209  430  8587651  8.595545  47.409209  430   \n",
       "4   65  8.595545  47.409209  430  8587655  8.592534  47.412720  431   \n",
       "\n",
       "   Distance (m)  Speed (m/min)  Transfer time (sec)  \n",
       "0      0.000000          50.00                120.0  \n",
       "1      0.000000          50.00                120.0  \n",
       "2    493.557390          49.99                712.0  \n",
       "3      0.000000          50.00                120.0  \n",
       "4    463.889894          49.99                677.0  "
      ]
     },
     "execution_count": 12,
     "metadata": {},
     "output_type": "execute_result"
    }
   ],
   "source": [
    "walking_connections = read_csv(\"../data/zurich_walking_connections.csv\", parts=1)\n",
    "walking_connections.head()"
   ]
  },
  {
   "cell_type": "markdown",
   "metadata": {},
   "source": [
    "### 2.4 Transport connections timetable\n",
    "\n",
    "There is a specific column in SBB dataset which refers to the **type of transport** for each trip. The most frequent ones are Train (Zug), Bus and Tram, but as mentioned beforet they are expressed in terms of trips, not in terms of connections. Therefore we need to transform the dataset so that we can link the different nodes (stations) of our network. Nonetheless, it is not a good idea to use the SBB historical for this purpose, given that if we select a random day and extract the connections of that specific day, there might be some **actual data missing**.\n",
    "\n",
    "Having said that, we decide to use the timetable files available under HDFS, specially <code>stop_times.txt</code>, and we **build a schedule** for an \"ideal\" working day between 5h and 21h. Our network is thereby completed with the nodes (stations) and the edges (connections). After transforming the trips to connections in the notebook [get_timetable](./get_timetable.ipynb), we obtain the following dataframe:"
   ]
  },
  {
   "cell_type": "code",
   "execution_count": null,
   "metadata": {},
   "outputs": [],
   "source": [
    "#id_connections = spark.read.orc('/user/datavirus/id_connections_new.orc').repartition(150, 'id')"
   ]
  },
  {
   "cell_type": "markdown",
   "metadata": {},
   "source": [
    "## 3. Probabilistic Model\n",
    "\n",
    "<a id = 'probability'></a>"
   ]
  },
  {
   "cell_type": "code",
   "execution_count": null,
   "metadata": {},
   "outputs": [],
   "source": []
  },
  {
   "cell_type": "markdown",
   "metadata": {},
   "source": [
    "## 4. Route Planner Algorithm\n",
    "\n",
    "<a id = 'algorithm'></a>"
   ]
  },
  {
   "cell_type": "markdown",
   "metadata": {},
   "source": [
    "## 5. User Interface\n",
    "\n",
    "<a id = 'interface'></a>"
   ]
  },
  {
   "cell_type": "markdown",
   "metadata": {},
   "source": [
    "## 6. Validation method\n",
    "\n",
    "<a id = 'validation'></a>"
   ]
  },
  {
   "cell_type": "markdown",
   "metadata": {},
   "source": [
    "## Distance Filter\n",
    "First, we filter on only the stations in a 10km radius around Zürich. This allows for computation in \"reasonable\" time on the cluster."
   ]
  },
  {
   "cell_type": "code",
   "execution_count": 4,
   "metadata": {},
   "outputs": [],
   "source": [
    "def distance_squared(n1,e1, n2, e2):\n",
    "    '''Calculates the euclidean distance between two points'''\n",
    "    eucl_dist2 = ((n1-n2)*(n1-n2)+ (e1-e2)*(e1-e2))\n",
    "    return eucl_dist2"
   ]
  },
  {
   "cell_type": "code",
   "execution_count": 5,
   "metadata": {},
   "outputs": [],
   "source": [
    "coords_zurich = (683144.0, 248040.0) # X, Y  (E,N)\n",
    "didok_path = '/user/rychener/stops.txt'"
   ]
  },
  {
   "cell_type": "code",
   "execution_count": 6,
   "metadata": {},
   "outputs": [],
   "source": [
    "didok = spark.read.csv(didok_path, sep=';', header=True, inferSchema=True).select('Dst-Bezeichnung-offiziell','KOORDE','KOORDN')\\\n",
    ".withColumnRenamed('Dst-Bezeichnung-offiziell','station_name')"
   ]
  },
  {
   "cell_type": "code",
   "execution_count": 7,
   "metadata": {},
   "outputs": [],
   "source": [
    "didok = didok.withColumn('dist2', distance_squared(coords_zurich[1], coords_zurich[0], didok.KOORDN, didok.KOORDE))"
   ]
  },
  {
   "cell_type": "code",
   "execution_count": 8,
   "metadata": {},
   "outputs": [],
   "source": [
    "didok_10km = didok.filter(didok.dist2<=10000**2).persist()"
   ]
  },
  {
   "cell_type": "code",
   "execution_count": 9,
   "metadata": {
    "scrolled": true
   },
   "outputs": [
    {
     "data": {
      "text/plain": [
       "1250"
      ]
     },
     "execution_count": 9,
     "metadata": {},
     "output_type": "execute_result"
    }
   ],
   "source": [
    "didok_10km.count()"
   ]
  },
  {
   "cell_type": "code",
   "execution_count": 10,
   "metadata": {},
   "outputs": [
    {
     "name": "stdout",
     "output_type": "stream",
     "text": [
      "+--------------------+\n",
      "|        station_name|\n",
      "+--------------------+\n",
      "|  Dietikon, Hofacker|\n",
      "|Dietikon, Birmens...|\n",
      "+--------------------+\n",
      "only showing top 2 rows\n",
      "\n"
     ]
    }
   ],
   "source": [
    "stops_filter = didok_10km.select('station_name')\n",
    "stops_filter.show(2)"
   ]
  },
  {
   "cell_type": "markdown",
   "metadata": {},
   "source": [
    "We can see there are 1250 stations aroud Zürich. By looking at the first two names, we can see that the filtering worked."
   ]
  },
  {
   "cell_type": "markdown",
   "metadata": {},
   "source": [
    "### Loading the Data"
   ]
  },
  {
   "cell_type": "markdown",
   "metadata": {},
   "source": [
    "Now, we load the data and filter it in order to only keep the data of interest (in our radius)."
   ]
  },
  {
   "cell_type": "code",
   "execution_count": 11,
   "metadata": {},
   "outputs": [],
   "source": [
    "swiss_data = spark.read.csv('/datasets/sbb/*/*/*.csv.bz2', header=True, sep=\";\")"
   ]
  },
  {
   "cell_type": "code",
   "execution_count": 12,
   "metadata": {},
   "outputs": [],
   "source": [
    "istdaten = swiss_data.join(stops_filter, swiss_data.HALTESTELLEN_NAME == stops_filter.station_name, 'inner').persist()"
   ]
  },
  {
   "cell_type": "code",
   "execution_count": 17,
   "metadata": {},
   "outputs": [
    {
     "data": {
      "text/plain": [
       "988"
      ]
     },
     "execution_count": 17,
     "metadata": {},
     "output_type": "execute_result"
    }
   ],
   "source": [
    "istdaten.select('HALTESTELLEN_NAME').distinct().count()"
   ]
  },
  {
   "cell_type": "markdown",
   "metadata": {},
   "source": [
    "We see that some datapoints from the didok were lost in our inner join. This is because didok does not only include stops, but also other operating points."
   ]
  },
  {
   "cell_type": "markdown",
   "metadata": {},
   "source": [
    "### Examine global distribution of delays"
   ]
  },
  {
   "cell_type": "markdown",
   "metadata": {},
   "source": [
    "First, let's have a look at the global distribution of the delays."
   ]
  },
  {
   "cell_type": "markdown",
   "metadata": {},
   "source": [
    "First: get the delays"
   ]
  },
  {
   "cell_type": "code",
   "execution_count": 18,
   "metadata": {},
   "outputs": [],
   "source": [
    "gd = istdaten.filter((istdaten.ANKUNFTSZEIT!='null')& (istdaten.AN_PROGNOSE!='null') & \\\n",
    "                     (istdaten.DURCHFAHRT_TF ==False) & (istdaten.ZUSATZFAHRT_TF==False))\\\n",
    "                                                    .select('PRODUKT_ID',\n",
    "                                                          'LINIEN_ID',\n",
    "                                                          'ANKUNFTSZEIT',\n",
    "                                                          'AN_PROGNOSE',\n",
    "                                                          'AN_PROGNOSE_STATUS')\n"
   ]
  },
  {
   "cell_type": "code",
   "execution_count": 19,
   "metadata": {},
   "outputs": [],
   "source": [
    "from pyspark.sql.functions import unix_timestamp, round, log\n",
    "gd = gd.withColumn('delay', round((unix_timestamp(\"AN_PROGNOSE\", 'dd.MM.yyyy HH:mm:ss') - \\\n",
    "                               unix_timestamp(\"ANKUNFTSZEIT\",'dd.MM.yyyy HH:mm'))/60)).persist()"
   ]
  },
  {
   "cell_type": "code",
   "execution_count": 20,
   "metadata": {},
   "outputs": [
    {
     "name": "stdout",
     "output_type": "stream",
     "text": [
      "+----------+---------+----------------+-------------------+------------------+-----+\n",
      "|PRODUKT_ID|LINIEN_ID|    ANKUNFTSZEIT|        AN_PROGNOSE|AN_PROGNOSE_STATUS|delay|\n",
      "+----------+---------+----------------+-------------------+------------------+-----+\n",
      "|       Zug|       10|29.05.2019 21:50|29.05.2019 22:08:02|              REAL| 18.0|\n",
      "|       Zug|     1007|29.05.2019 06:23|29.05.2019 06:25:20|              REAL|  2.0|\n",
      "|       Zug|     1009|29.05.2019 07:23|29.05.2019 07:31:34|              REAL|  9.0|\n",
      "|       Zug|     1011|29.05.2019 08:23|29.05.2019 08:24:02|              REAL|  1.0|\n",
      "|       Zug|       12|29.05.2019 10:50|29.05.2019 10:51:59|              REAL|  2.0|\n",
      "+----------+---------+----------------+-------------------+------------------+-----+\n",
      "only showing top 5 rows\n",
      "\n"
     ]
    }
   ],
   "source": [
    "gd.show(5)"
   ]
  },
  {
   "cell_type": "markdown",
   "metadata": {},
   "source": [
    "Second: Binning the data for plotting the histogram"
   ]
  },
  {
   "cell_type": "code",
   "execution_count": null,
   "metadata": {},
   "outputs": [],
   "source": [
    "gd2 = gd.groupBy('delay').count().persist()\n",
    "gd2.show(5)"
   ]
  },
  {
   "cell_type": "code",
   "execution_count": null,
   "metadata": {},
   "outputs": [],
   "source": [
    "def plot_loghist(spark_df, title):\n",
    "    df = spark_df.toPandas()\n",
    "    plt.bar(df.delay,df['count'].apply(np.log))\n",
    "    plt.title(title)\n",
    "def plot_hist(spark_df, title):\n",
    "    df = spark_df.toPandas()\n",
    "    plt.bar(df.delay,df['count'])\n",
    "    plt.title(title)"
   ]
  },
  {
   "cell_type": "code",
   "execution_count": 33,
   "metadata": {},
   "outputs": [
    {
     "data": {
      "image/png": "[encoded data removed]",
      "text/plain": [
       "<Figure size 720x432 with 1 Axes>"
      ]
     },
     "metadata": {},
     "output_type": "display_data"
    }
   ],
   "source": [
    "plot_hist(gd2, 'Overall Histogram')"
   ]
  },
  {
   "cell_type": "code",
   "execution_count": 34,
   "metadata": {},
   "outputs": [
    {
     "data": {
      "image/png": "[encoded data removed]",
      "text/plain": [
       "<Figure size 720x432 with 1 Axes>"
      ]
     },
     "metadata": {},
     "output_type": "display_data"
    }
   ],
   "source": [
    "plot_loghist(gd2, 'Overall Log Histogram')"
   ]
  },
  {
   "cell_type": "markdown",
   "metadata": {},
   "source": [
    "From the plot, it looks like this data may follow a lognormal distribution. This is also what other authors have found:\n",
    "- *Modeling Passenger Train Delay Distributions  – Evidence and Implications* by Anna Bergström and Niclas A. Krüger\n",
    "- *Stochastic Modelling of Train Delays and Delay Propagation in Stations* by Jianxin Yuan\n",
    "\n",
    "We will now test this hypothesis using the Kolmogorov-Smirnov-Test:"
   ]
  },
  {
   "cell_type": "markdown",
   "metadata": {},
   "source": [
    "#### Kolmogorov-Smirnov-Test"
   ]
  },
  {
   "cell_type": "code",
   "execution_count": null,
   "metadata": {},
   "outputs": [],
   "source": [
    "from pyspark.mllib.stat import Statistics\n",
    "def check_normality(spark_df, data_column):\n",
    "    my_rdd = spark_df.rdd.map(lambda row: row[data_column])\n",
    "    mu = my_rdd.mean()\n",
    "    var = my_rdd.variance()\n",
    "    norm_rdd = my_rdd.map(lambda v: (v-mu)/var)\n",
    "    test_result = Statistics.kolmogorovSmirnovTest(norm_rdd, \"norm\")\n",
    "    return test_result"
   ]
  },
  {
   "cell_type": "code",
   "execution_count": 26,
   "metadata": {},
   "outputs": [],
   "source": [
    "gd = gd.filter(gd.delay>-100).withColumn('delay2', gd.delay+100)\n",
    "log_check = gd.withColumn('log_delay', log('delay2'))\n",
    "r = check_normality(log_check, 'log_delay')"
   ]
  },
  {
   "cell_type": "code",
   "execution_count": 27,
   "metadata": {},
   "outputs": [
    {
     "name": "stdout",
     "output_type": "stream",
     "text": [
      "Kolmogorov-Smirnov test summary:\n",
      "degrees of freedom = 0 \n",
      "statistic = 0.7124155044726102 \n",
      "pValue = 4.71847106942036E-8 \n",
      "Very strong presumption against null hypothesis: Sample follows theoretical distribution.\n"
     ]
    }
   ],
   "source": [
    "print(r)"
   ]
  },
  {
   "cell_type": "markdown",
   "metadata": {},
   "source": [
    "The Global KS-Test is rejected. However, this does not imply that the finer-grain delays don't follow a lognormal distribution. We will now analyse the delay distributions for finer grain data, not on the global network:"
   ]
  },
  {
   "cell_type": "markdown",
   "metadata": {},
   "source": [
    "## Predictor using trip and stop"
   ]
  },
  {
   "cell_type": "markdown",
   "metadata": {},
   "source": [
    "This is the best estimator for the distribution, since it takes into account location, line and time (line & time information is contained in FAHRT_BEZEICHNER which characterises each trip).\n",
    "We use Scipy to fit lognormal distributions to the data per trip and stop."
   ]
  },
  {
   "cell_type": "code",
   "execution_count": 35,
   "metadata": {},
   "outputs": [],
   "source": [
    "from pyspark.sql.functions import collect_list, when, unix_timestamp, round\n",
    "from scipy.stats import lognorm, kstest"
   ]
  },
  {
   "cell_type": "code",
   "execution_count": 36,
   "metadata": {},
   "outputs": [
    {
     "name": "stdout",
     "output_type": "stream",
     "text": [
      "+----------------+-------------------+--------------------+--------------------+--------------------+\n",
      "|FAHRT_BEZEICHNER|  HALTESTELLEN_NAME|               shape|                mean|                 std|\n",
      "+----------------+-------------------+--------------------+--------------------+--------------------+\n",
      "| 85:11:14021:001|   Zürich Wipkingen|   9.278022202009339|  0.9999999999999998|0.019951447869258464|\n",
      "| 85:11:14027:002|   Zürich Flughafen|0.006614677657217521|  -94.99476702393153|   95.21537190196082|\n",
      "|  85:11:1531:001|          Zürich HB|   0.715088946888826| -1.4519331285163273|   3.167638758453191|\n",
      "| 85:11:18224:002|    Zürich Wiedikon| 0.47558117417007095| -0.3748313268055276|  1.8234320469954834|\n",
      "| 85:11:18229:001|    Zürich Wiedikon|  0.5160836804695783| -0.2347240417263487|  1.7428950611749596|\n",
      "| 85:11:18254:001|   Zürich Flughafen|  0.3081835496099491|  -2.224179497280597|  2.5041750914752003|\n",
      "| 85:11:18255:002|    Zürich Oerlikon|  0.1221744533519207| -3.9834480156661174|   4.822641456776507|\n",
      "| 85:11:18323:002|        Glanzenberg|  0.2249628620745918| -2.2558098792451613|   4.468635256012328|\n",
      "| 85:11:18356:001| Zürich Stadelhofen|  0.5375966499971454| -1.7557308748651592|  1.6916829340304491|\n",
      "| 85:11:18369:002| Zürich Stadelhofen|  0.5319302627133589| -1.2941770510713586|  2.1228786036992107|\n",
      "| 85:11:18374:001|  Zürich Hardbrücke| 0.09021416298034193|  -9.416218672908453|   9.970977538351686|\n",
      "| 85:11:18382:001|  Zürich Hardbrücke| 0.33807532950721075| -2.7984955671147462|   3.343477209683156|\n",
      "| 85:11:18519:001|  Urdorf Weihermatt|  0.3822986531929501|-0.22355436305142223|   1.314045366201488|\n",
      "| 85:11:18531:001|Bonstetten-Wettswil|  0.3480858501542152|  -2.048313542924143|   2.566017590779051|\n",
      "| 85:11:18549:001|        Wallisellen|   1.530184118434313|   2.999999999999999|1.203163669070354...|\n",
      "| 85:11:18594:001|  Urdorf Weihermatt|  0.8838861905499529| -0.3315264810131743|  1.4069078844861544|\n",
      "| 85:11:18636:001|    Zürich Oerlikon| 0.42400885680276684|  -1.394590526180071|  1.8256193070960811|\n",
      "| 85:11:18643:001|  Küsnacht Goldbach| 0.20852388400574742| -3.1308345073975956|   3.834881111213993|\n",
      "| 85:11:18651:001|    Zürich Oerlikon|  0.3337758192170749|  -2.049578247821816|  2.3138761093979228|\n",
      "| 85:11:18653:001| Zürich Stadelhofen|   9.007447425022704|-3.51627511031972...|  2.7787085499241693|\n",
      "+----------------+-------------------+--------------------+--------------------+--------------------+\n",
      "only showing top 20 rows\n",
      "\n"
     ]
    }
   ],
   "source": [
    "df = istdaten.filter((istdaten.DURCHFAHRT_TF ==False) & (istdaten.ZUSATZFAHRT_TF==False))\n",
    "delays = df.select('FAHRT_BEZEICHNER',\n",
    "                    'HALTESTELLEN_NAME',\n",
    "                    'ANKUNFTSZEIT',\n",
    "                    'AN_PROGNOSE',\n",
    "                    'AN_PROGNOSE_STATUS')\n",
    "delays = delays.withColumn('delay', when((delays.AN_PROGNOSE.isNull()) \\\n",
    "                                & (delays.ANKUNFTSZEIT.isNull()), None)\\\n",
    "                       .when((delays.AN_PROGNOSE.isNull()) \\\n",
    "                                & (delays.ANKUNFTSZEIT.isNotNull()), 0)\\\n",
    "                        .otherwise(round((unix_timestamp(\"AN_PROGNOSE\", 'dd.MM.yyyy HH:mm:ss') - \\\n",
    "                                    unix_timestamp(\"ANKUNFTSZEIT\",'dd.MM.yyyy HH:mm'))/60)))\n",
    "delays = delays.where(delays.delay.isNotNull()).groupBy(['FAHRT_BEZEICHNER','HALTESTELLEN_NAME'])\n",
    "delays = delays.agg(collect_list('delay').alias('delay_list'))\n",
    "delays_fit_rdd = delays.rdd.map(lambda row:[row['FAHRT_BEZEICHNER'], row['HALTESTELLEN_NAME'],\\\n",
    "                                    [float(p) for p in lognorm.fit(row['delay_list'])]])\n",
    "delays_fit = delays_fit_rdd.map(lambda row:(row[0],row[1],row[2])).toDF(['FAHRT_BEZEICHNER', 'HALTESTELLEN_NAME','fit_params'])\n",
    "delays_fit_separated = delays_fit.select('FAHRT_BEZEICHNER', 'HALTESTELLEN_NAME', delays_fit[\"fit_params\"].getItem(0).alias(\"shape\"),\\\n",
    "                                         delays_fit[\"fit_params\"].getItem(1).alias(\"mean\"),\\\n",
    "                                         delays_fit[\"fit_params\"].getItem(2).alias(\"std\")).persist()\n",
    "delays_fit_separated.show()"
   ]
  },
  {
   "cell_type": "markdown",
   "metadata": {},
   "source": [
    "The table above shows some obtained parameters from the lognorm fit. The function below calculates the fits for all stations in our radius."
   ]
  },
  {
   "cell_type": "code",
   "execution_count": null,
   "metadata": {},
   "outputs": [],
   "source": [
    "df = istdaten.filter((istdaten.DURCHFAHRT_TF ==False) & (istdaten.ZUSATZFAHRT_TF==False))\n",
    "delays = df.select('FAHRT_BEZEICHNER',\n",
    "                    'HALTESTELLEN_NAME',\n",
    "                    'ANKUNFTSZEIT',\n",
    "                    'AN_PROGNOSE',\n",
    "                    'AN_PROGNOSE_STATUS')\n",
    "delays = delays.withColumn('delay', when((delays.AN_PROGNOSE.isNull()) \\\n",
    "                                & (delays.ANKUNFTSZEIT.isNull()), None)\\\n",
    "                       .when((delays.AN_PROGNOSE.isNull()) \\\n",
    "                                & (delays.ANKUNFTSZEIT.isNotNull()), 0)\\\n",
    "                        .otherwise(round((unix_timestamp(\"AN_PROGNOSE\", 'dd.MM.yyyy HH:mm:ss') - \\\n",
    "                                    unix_timestamp(\"ANKUNFTSZEIT\",'dd.MM.yyyy HH:mm'))/60)))\n",
    "delays = delays.where(delays.delay.isNotNull()).groupBy(['FAHRT_BEZEICHNER','HALTESTELLEN_NAME'])\n",
    "delays = delays.agg(collect_list('delay').alias('delay_list'))\n",
    "delays_fit_rdd = delays.rdd.map(lambda row:[row['FAHRT_BEZEICHNER'], row['HALTESTELLEN_NAME'],\\\n",
    "                                    [float(p) for p in lognorm.fit(row['delay_list'])]])\n",
    "delays_fit = delays_fit_rdd.map(lambda row:(row[0],row[1],row[2])).toDF(['FAHRT_BEZEICHNER', 'HALTESTELLEN_NAME','fit_params'])\n",
    "delays_fit_separated = delays_fit.select('FAHRT_BEZEICHNER', 'HALTESTELLEN_NAME', delays_fit[\"fit_params\"].getItem(0).alias(\"shape\"),\\\n",
    "                                         delays_fit[\"fit_params\"].getItem(1).alias(\"mean\"),\\\n",
    "                                         delays_fit[\"fit_params\"].getItem(2).alias(\"std\")).persist()\n",
    "delays_fit_separated.write.csv('/user/rychener/delay_fit.csv')"
   ]
  },
  {
   "cell_type": "markdown",
   "metadata": {},
   "source": [
    "Unfortunately, this model takes too long to precompute the csv on the cluster. We will therefore resort to a simpler model described below. For SBB, we would recommend to use the model above, but for our proof-of-concept we will use the simpler model."
   ]
  },
  {
   "cell_type": "markdown",
   "metadata": {},
   "source": [
    "## By LINIEN_TEXT and Station"
   ]
  },
  {
   "cell_type": "markdown",
   "metadata": {},
   "source": [
    "As a simpler model, we will use line- and station-information. This model clearly lacks the time component. For example we would expect the delays to have some time-dependance, for example delays during rush-hour."
   ]
  },
  {
   "cell_type": "code",
   "execution_count": 37,
   "metadata": {},
   "outputs": [
    {
     "name": "stdout",
     "output_type": "stream",
     "text": [
      "+-----------+--------------------+--------------------+--------------------+------------------+\n",
      "|LINIEN_TEXT|   HALTESTELLEN_NAME|               shape|                mean|               std|\n",
      "+-----------+--------------------+--------------------+--------------------+------------------+\n",
      "|         13|Zürich, Museum fü...|   4.291869672675899| -57.000000005905335|0.6048538325127093|\n",
      "|         13| Zürich, Waidfussweg|0.031585268113606665|  -65.47953949004216| 66.48971557424716|\n",
      "|         17|Zürich, Sonneggst...| 0.03769992924719766| -31.230724855541354| 32.12987751850089|\n",
      "|        308|  Urdorf, Spitzacker| 0.06598289825054149| -27.390162438543058|28.445629010834907|\n",
      "|          4|    Zürich, Sportweg| 0.01941806896282222|    -109.34745321311|110.56110318647046|\n",
      "|         40| Zürich, Buhnstrasse|0.043695554383044594| -26.738371262971746| 27.84025777321743|\n",
      "|         66| Zürich, Zwinglihaus| 0.06423582994838065|  -30.84435509520261| 31.86220535981053|\n",
      "|        701|Zürich, Loorenstr...| 0.09877163422425188|  -18.47921437945537|20.287071743792964|\n",
      "|         IR|    Zürich Flughafen| 0.47224597096627363| -2.4446388685936675|2.7189193568016714|\n",
      "|        N14|   Zürich, In der Ey|   3.806617082792613|  -57.00000095835844|1.8876874124392513|\n",
      "|        N17|Dübendorf, Breiti...| 0.10834119461840765| -12.521435821031346|13.886679247663556|\n",
      "|        N23|     Stallikon, Dorf|  0.6669267206608048|    -5.3294050258194|5.4004695139910925|\n",
      "|         N6|Zürich, Ottikerst...| 9.85528754282941E-4| -3025.0623852133976|3026.3234459722853|\n",
      "|         33|Zürich, Wildbachs...|  3.9322864061501703|  -48.00000015769807|0.8118302218862679|\n",
      "|        SN4|       Zürich Brunau| 0.37471275024628703|   -1.19673657751534|2.2064707378423263|\n",
      "|         34|Zürich, Berghalde...| 0.07991429661185642| -14.041961409190101|15.335369380545576|\n",
      "|         T4|Zürich, Fröhlichs...|   23.43537846091278|-3.05772913171578...|1.0244295150116653|\n",
      "|         15|     Zürich, Rathaus| 0.02944435977501461|  -80.20782190455162| 81.09521103402687|\n",
      "|        165|Kilchberg ZH, Sch...|0.060363096563809004| -21.117126100038824|22.377383073516807|\n",
      "|        221|Wettswil a.A., Sc...|  3.7174038857714033| -59.000001815912654|1.8195977564482648|\n",
      "+-----------+--------------------+--------------------+--------------------+------------------+\n",
      "only showing top 20 rows\n",
      "\n"
     ]
    }
   ],
   "source": [
    "df = istdaten.filter((istdaten.DURCHFAHRT_TF ==False) & (istdaten.ZUSATZFAHRT_TF==False))\n",
    "delays = df.select('LINIEN_TEXT',\n",
    "                    'ANKUNFTSZEIT',\n",
    "                    'AN_PROGNOSE',\n",
    "                    'AN_PROGNOSE_STATUS',\n",
    "                    'HALTESTELLEN_NAME')\n",
    "delays = delays.withColumn('delay', when((delays.AN_PROGNOSE.isNull()) \\\n",
    "                                & (delays.ANKUNFTSZEIT.isNull()), None)\\\n",
    "                       .when((delays.AN_PROGNOSE.isNull()) \\\n",
    "                                & (delays.ANKUNFTSZEIT.isNotNull()), 0)\\\n",
    "                        .otherwise(round((unix_timestamp(\"AN_PROGNOSE\", 'dd.MM.yyyy HH:mm:ss') - \\\n",
    "                                    unix_timestamp(\"ANKUNFTSZEIT\",'dd.MM.yyyy HH:mm'))/60)))\n",
    "delays = delays.where(delays.delay.isNotNull()).groupBy(['LINIEN_TEXT', 'HALTESTELLEN_NAME'])\n",
    "delays = delays.agg(collect_list('delay').alias('delay_list'))\n",
    "delays_fit_rdd = delays.rdd.map(lambda row:[row['LINIEN_TEXT'], row['HALTESTELLEN_NAME'],\\\n",
    "                                    [float(p) for p in lognorm.fit(row['delay_list'])]])\n",
    "delays_fit = delays_fit_rdd.map(lambda row:(row[0],row[1],row[2])).toDF(['LINIEN_TEXT','HALTESTELLEN_NAME','fit_params'])\n",
    "delays_fit_separated = delays_fit.select('LINIEN_TEXT', 'HALTESTELLEN_NAME', delays_fit[\"fit_params\"].getItem(0).alias(\"shape\"),\\\n",
    "                                         delays_fit[\"fit_params\"].getItem(1).alias(\"mean\"),\\\n",
    "                                         delays_fit[\"fit_params\"].getItem(2).alias(\"std\")).persist()\n",
    "delays_fit_separated.show()"
   ]
  },
  {
   "cell_type": "code",
   "execution_count": 38,
   "metadata": {},
   "outputs": [
    {
     "data": {
      "text/plain": [
       "3766"
      ]
     },
     "execution_count": 38,
     "metadata": {},
     "output_type": "execute_result"
    }
   ],
   "source": [
    "delays_fit_separated.count()"
   ]
  },
  {
   "cell_type": "code",
   "execution_count": 39,
   "metadata": {},
   "outputs": [
    {
     "data": {
      "text/html": [
       "<div>\n",
       "<style scoped>\n",
       "    .dataframe tbody tr th:only-of-type {\n",
       "        vertical-align: middle;\n",
       "    }\n",
       "\n",
       "    .dataframe tbody tr th {\n",
       "        vertical-align: top;\n",
       "    }\n",
       "\n",
       "    .dataframe thead th {\n",
       "        text-align: right;\n",
       "    }\n",
       "</style>\n",
       "<table border=\"1\" class=\"dataframe\">\n",
       "  <thead>\n",
       "    <tr style=\"text-align: right;\">\n",
       "      <th></th>\n",
       "      <th>LINIEN_TEXT</th>\n",
       "      <th>HALTESTELLEN_NAME</th>\n",
       "      <th>shape</th>\n",
       "      <th>mean</th>\n",
       "      <th>std</th>\n",
       "    </tr>\n",
       "  </thead>\n",
       "  <tbody>\n",
       "    <tr>\n",
       "      <th>0</th>\n",
       "      <td>13</td>\n",
       "      <td>Zürich, Museum für Gestaltung</td>\n",
       "      <td>4.291870</td>\n",
       "      <td>-57.000000</td>\n",
       "      <td>0.604854</td>\n",
       "    </tr>\n",
       "    <tr>\n",
       "      <th>1</th>\n",
       "      <td>13</td>\n",
       "      <td>Zürich, Waidfussweg</td>\n",
       "      <td>0.031585</td>\n",
       "      <td>-65.479539</td>\n",
       "      <td>66.489716</td>\n",
       "    </tr>\n",
       "    <tr>\n",
       "      <th>2</th>\n",
       "      <td>17</td>\n",
       "      <td>Zürich, Sonneggstrasse</td>\n",
       "      <td>0.037700</td>\n",
       "      <td>-31.230725</td>\n",
       "      <td>32.129878</td>\n",
       "    </tr>\n",
       "    <tr>\n",
       "      <th>3</th>\n",
       "      <td>308</td>\n",
       "      <td>Urdorf, Spitzacker</td>\n",
       "      <td>0.065983</td>\n",
       "      <td>-27.390162</td>\n",
       "      <td>28.445629</td>\n",
       "    </tr>\n",
       "    <tr>\n",
       "      <th>4</th>\n",
       "      <td>4</td>\n",
       "      <td>Zürich, Sportweg</td>\n",
       "      <td>0.019418</td>\n",
       "      <td>-109.347453</td>\n",
       "      <td>110.561103</td>\n",
       "    </tr>\n",
       "  </tbody>\n",
       "</table>\n",
       "</div>"
      ],
      "text/plain": [
       "  LINIEN_TEXT              HALTESTELLEN_NAME     shape        mean         std\n",
       "0          13  Zürich, Museum für Gestaltung  4.291870  -57.000000    0.604854\n",
       "1          13            Zürich, Waidfussweg  0.031585  -65.479539   66.489716\n",
       "2          17         Zürich, Sonneggstrasse  0.037700  -31.230725   32.129878\n",
       "3         308             Urdorf, Spitzacker  0.065983  -27.390162   28.445629\n",
       "4           4               Zürich, Sportweg  0.019418 -109.347453  110.561103"
      ]
     },
     "execution_count": 39,
     "metadata": {},
     "output_type": "execute_result"
    }
   ],
   "source": [
    "# the number of fits is reasonable to transfer to pandas\n",
    "pandas_df = delays_fit_separated.toPandas()\n",
    "pandas_df.head()"
   ]
  },
  {
   "cell_type": "code",
   "execution_count": 40,
   "metadata": {},
   "outputs": [],
   "source": [
    "pandas_df.to_csv('./data/params_by_stop_line.csv')"
   ]
  },
  {
   "cell_type": "markdown",
   "metadata": {},
   "source": [
    "## Calculating a default value"
   ]
  },
  {
   "cell_type": "markdown",
   "metadata": {},
   "source": [
    "We need to calculate a default value, in case the stop-line combination is not present in our delays dataframe. For this, we use a simple averaging of the cdfs."
   ]
  },
  {
   "cell_type": "code",
   "execution_count": null,
   "metadata": {},
   "outputs": [],
   "source": [
    "points = [i for i in range(60+1)]\n",
    "def get_list_bins(s,loc,scale):\n",
    "    cdfvals = lognorm.cdf(points, s, loc=loc, scale=scale).tolist()\n",
    "    cdfvals.append(1)\n",
    "    cdfvals_shifted = [0]\n",
    "    cdfvals_shifted.extend(cdfvals[:-1])\n",
    "    binvals = (np.array(cdfvals)-np.array(cdfvals_shifted))\n",
    "    return binvals"
   ]
  },
  {
   "cell_type": "code",
   "execution_count": null,
   "metadata": {},
   "outputs": [],
   "source": [
    "n= 0\n",
    "accumulator = get_list_bins(0.030893,-69.659120,70.691868)*0\n",
    "delays_df = pd.read_csv('../params_by_stop_line.csv')\n",
    "for i,r in delays_df.iterrows():\n",
    "    accumulator += get_list_bins(r['shape'],r['mean'],r['std'])\n",
    "    n += 1\n",
    "accumulator /= n"
   ]
  },
  {
   "cell_type": "code",
   "execution_count": null,
   "metadata": {},
   "outputs": [],
   "source": [
    "np.save('./default_delay', accumulator)"
   ]
  },
  {
   "cell_type": "markdown",
   "metadata": {},
   "source": [
    "## Working with the data\n",
    "Below, we give the functions used to predict the delay used in our algorithm.\n",
    "We give 2 methods:\n",
    "\n",
    "1) Keep the dataframe in memory all the time. This is feasible in our case since it is not too long (~3600, see above). If we would use the more complex method, this would be impossible\n",
    "\n",
    "2) Load the dataframe each time by chunks. This needs less memory, but is slower.\n",
    "\n",
    "This memory-speed tradeoff will have to be reexamined for the bigger dataset and more complex delay estimation, but in our case method 1 works fine.<br>\n",
    "Functions for using both methods are given."
   ]
  },
  {
   "cell_type": "code",
   "execution_count": 41,
   "metadata": {},
   "outputs": [],
   "source": [
    "DATA_PATH = './data/'"
   ]
  },
  {
   "cell_type": "code",
   "execution_count": 42,
   "metadata": {},
   "outputs": [],
   "source": [
    "# method 1: keeping the pandas df always in memory\n",
    "delays_df = pd.read_csv(DATA_PATH+'params_by_stop_line.csv')\n",
    "# expected delay\n",
    "def get_expected_dealy(station_name, line_id):\n",
    "    '''\n",
    "    Expected delay time of line line_id at station station_name\n",
    "    '''\n",
    "    row = delays_df.loc[(delays_df.LINIEN_TEXT == line_id) & (delays_df.HALTESTELLEN_NAME==station_name)]\n",
    "    if row.shape[0]>0:\n",
    "        s = row['shape'].values[0]\n",
    "        loc = row['mean'].values[0]\n",
    "        scale = row['std'].values[0]\n",
    "        mean = stats.lognorm.mean(s, loc=loc, scale=scale)\n",
    "        return mean\n",
    "    else:\n",
    "        return 0 # average expected delay over dataset is 0, congrats SBB ;)\n",
    "    \n",
    "# probability for delay\n",
    "def get_delay_probability(station_name, line_id, delay):\n",
    "    '''\n",
    "    Probability that delay of line line_id at station station_name is smaller than delay in minutes\n",
    "    '''\n",
    "    row = delays_df.loc[(delays_df.LINIEN_TEXT == line_id) & (delays_df.HALTESTELLEN_NAME==station_name)]\n",
    "    if row.shape[0]>0:\n",
    "        # cdf parameters present, calcualte cdf value\n",
    "        s = row['shape'].values[0]\n",
    "        loc = row['mean'].values[0]\n",
    "        scale = row['std'].values[0]\n",
    "        return stats.lognorm.cdf(delay, s, loc=loc, scale=scale)\n",
    "    else:\n",
    "        # not present, resort to default\n",
    "        binvals = np.load(DATA_PATH+'default_delay.npy')\n",
    "        if delay>60:\n",
    "            return 1 - binvals[61]\n",
    "        p = 0\n",
    "        for i in range(int(delay+1)):\n",
    "            p += binvals[i]\n",
    "        return p"
   ]
  },
  {
   "cell_type": "code",
   "execution_count": 43,
   "metadata": {},
   "outputs": [],
   "source": [
    "# method 2: iterating through the df\n",
    "# expected delay\n",
    "def get_expected_dealy2(station_name, line_id):\n",
    "    '''\n",
    "    Expected delay time of line line_id at station station_name\n",
    "    '''\n",
    "    iter_csv = pd.read_csv(DATA_PATH+'params_by_stop_line.csv', iterator=True, chunksize=1000)\n",
    "    row = pd.concat([chunk.loc[(chunk.LINIEN_TEXT == line_id) & (chunk.HALTESTELLEN_NAME==station_name)]\n",
    "                    for chunk in iter_csv])\n",
    "    if row.shape[0]>0:\n",
    "        s = row['shape'].values[0]\n",
    "        loc = row['mean'].values[0]\n",
    "        scale = row['std'].values[0]\n",
    "        mean = stats.lognorm.mean(s, loc=loc, scale=scale)\n",
    "        return mean\n",
    "    else:\n",
    "        return 0 # average expected delay over dataset is 0, congrats SBB ;)\n",
    "    \n",
    "# probability for delay\n",
    "def get_delay_probability2(station_name, line_id, delay):\n",
    "    '''\n",
    "    Probability that delay of line line_id at station station_name is smaller than delay in minutes\n",
    "    '''\n",
    "    iter_csv = pd.read_csv(DATA_PATH+'params_by_stop_line.csv', iterator=True, chunksize=1000)\n",
    "    row = pd.concat([chunk.loc[(chunk.LINIEN_TEXT == line_id) & (chunk.HALTESTELLEN_NAME==station_name)]\n",
    "                    for chunk in iter_csv])\n",
    "    if row.shape[0]>0:\n",
    "        # cdf parameters present, calcualte cdf value\n",
    "        s = row['shape'].values[0]\n",
    "        loc = row['mean'].values[0]\n",
    "        scale = row['std'].values[0]\n",
    "        return stats.lognorm.cdf(delay, s, loc=loc, scale=scale)\n",
    "    else:\n",
    "        # not present, resort to default\n",
    "        binvals = np.load(DATA_PATH+'default_delay.npy')\n",
    "        if delay>60:\n",
    "            return 1 - binvals[61]\n",
    "        p = 0\n",
    "        for i in range(int(delay+1)):\n",
    "            p += binvals[i]\n",
    "        return p"
   ]
  },
  {
   "cell_type": "code",
   "execution_count": 45,
   "metadata": {},
   "outputs": [],
   "source": [
    "from scipy import stats"
   ]
  },
  {
   "cell_type": "code",
   "execution_count": 46,
   "metadata": {},
   "outputs": [
    {
     "name": "stdout",
     "output_type": "stream",
     "text": [
      "Method 1, if present:\n",
      "N17 at Dübendorf, Breitibach:\n",
      "Probability that delay is less than 5 mins: 0.9840615880337417\n",
      "Expected Delay: 1.4469826842499653\n",
      "2.22 ms ± 172 µs per loop (mean ± std. dev. of 7 runs, 100 loops each)\n",
      "------------------------------------------------------------\n",
      "Method 1, if not present:\n",
      "N17 at wrongstation:\n",
      "Probability that delay is less than 5 mins: 0.9148335912728518\n",
      "Expected Delay: 0\n",
      "1.99 ms ± 123 µs per loop (mean ± std. dev. of 7 runs, 1000 loops each)\n",
      "------------------------------------------------------------\n",
      "------------------------------------------------------------\n",
      "Method 2, if present:\n",
      "N17 at Dübendorf, Breitibach:\n",
      "Probability that delay is less than 5 mins: 0.9840615880337417\n",
      "Expected Delay: 1.4469826842499653\n",
      "28.4 ms ± 4.02 ms per loop (mean ± std. dev. of 7 runs, 10 loops each)\n",
      "------------------------------------------------------------\n",
      "Method 2, if not present:\n",
      "N17 at wrongstation:\n",
      "Probability that delay is less than 5 mins: 0.9148335912728518\n",
      "Expected Delay: 0\n",
      "31.8 ms ± 2.38 ms per loop (mean ± std. dev. of 7 runs, 10 loops each)\n"
     ]
    }
   ],
   "source": [
    "# Example\n",
    "print('Method 1, if present:')\n",
    "print('N17 at Dübendorf, Breitibach:')\n",
    "print('Probability that delay is less than 5 mins: {}'.format(get_delay_probability('Dübendorf, Breitibach', 'N17', 5)))\n",
    "print('Expected Delay: {}'.format(get_expected_dealy('Dübendorf, Breitibach', 'N17')))\n",
    "%timeit get_expected_dealy('Dübendorf, Breitibach', 'N17')\n",
    "print('-'*60)\n",
    "print('Method 1, if not present:')\n",
    "print('N17 at wrongstation:')\n",
    "print('Probability that delay is less than 5 mins: {}'.format(get_delay_probability('wrongstation', 'N17', 5)))\n",
    "print('Expected Delay: {}'.format(get_expected_dealy('wrongstation', 'N17')))\n",
    "%timeit get_expected_dealy('wrongstation', 'N17')\n",
    "print('-'*60)\n",
    "print('-'*60)\n",
    "print('Method 2, if present:')\n",
    "print('N17 at Dübendorf, Breitibach:')\n",
    "print('Probability that delay is less than 5 mins: {}'.format(get_delay_probability2('Dübendorf, Breitibach', 'N17', 5)))\n",
    "print('Expected Delay: {}'.format(get_expected_dealy2('Dübendorf, Breitibach', 'N17')))\n",
    "%timeit get_expected_dealy2('Dübendorf, Breitibach', 'N17')\n",
    "print('-'*60)\n",
    "print('Method 2, if not present:')\n",
    "print('N17 at wrongstation:')\n",
    "print('Probability that delay is less than 5 mins: {}'.format(get_delay_probability2('wrongstation', 'N17', 5)))\n",
    "print('Expected Delay: {}'.format(get_expected_dealy2('wrongstation', 'N17')))\n",
    "%timeit get_expected_dealy2('wrongstation', 'N17')"
   ]
  },
  {
   "cell_type": "markdown",
   "metadata": {},
   "source": [
    "They give the same result, which is reassuring."
   ]
  },
  {
   "cell_type": "markdown",
   "metadata": {},
   "source": [
    "## Hypothesis Testing\n",
    "We will now again test our hypthesis (that the distribution folllows a lognorm distribution). This is done for the method of estimating the density for each station and line pair."
   ]
  },
  {
   "cell_type": "code",
   "execution_count": 16,
   "metadata": {},
   "outputs": [],
   "source": [
    "from pyspark.sql.functions import collect_list, when, unix_timestamp, round\n",
    "from scipy import stats"
   ]
  },
  {
   "cell_type": "code",
   "execution_count": 17,
   "metadata": {},
   "outputs": [],
   "source": [
    "significance_level = 0.95\n",
    "def test_lognorm(data):\n",
    "    d = [i for i in data if i>=0]\n",
    "    if not d:\n",
    "        return 0\n",
    "    loc, scale = stats.expon.fit(d)\n",
    "    D,p = kstest(d, 'expon', [loc, scale])\n",
    "    return int(p<(1-significance_level))"
   ]
  },
  {
   "cell_type": "code",
   "execution_count": 18,
   "metadata": {},
   "outputs": [
    {
     "name": "stdout",
     "output_type": "stream",
     "text": [
      "+------------------+\n",
      "|    avg(test_fail)|\n",
      "+------------------+\n",
      "|0.8688263409453001|\n",
      "+------------------+\n",
      "\n"
     ]
    }
   ],
   "source": [
    "df = istdaten.filter((istdaten.DURCHFAHRT_TF ==False) & (istdaten.ZUSATZFAHRT_TF==False))\n",
    "delays = df.select('LINIEN_TEXT',\n",
    "                    'ANKUNFTSZEIT',\n",
    "                    'AN_PROGNOSE',\n",
    "                    'AN_PROGNOSE_STATUS',\n",
    "                    'HALTESTELLEN_NAME')\n",
    "delays = delays.withColumn('delay', when((delays.AN_PROGNOSE.isNull()) \\\n",
    "                                & (delays.ANKUNFTSZEIT.isNull()), None)\\\n",
    "                       .when((delays.AN_PROGNOSE.isNull()) \\\n",
    "                                & (delays.ANKUNFTSZEIT.isNotNull()), 0)\\\n",
    "                        .otherwise((unix_timestamp(\"AN_PROGNOSE\", 'dd.MM.yyyy HH:mm:ss') - \\\n",
    "                                    unix_timestamp(\"ANKUNFTSZEIT\",'dd.MM.yyyy HH:mm'))/60))\n",
    "delays = delays.where(delays.delay.isNotNull()).groupBy(['LINIEN_TEXT', 'HALTESTELLEN_NAME'])\n",
    "delays = delays.agg(collect_list('delay').alias('delay_list'))\n",
    "delays_fit_rdd = delays.rdd.map(lambda row:[row['LINIEN_TEXT'], row['HALTESTELLEN_NAME'], \n",
    "                                            test_lognorm(row['delay_list'])])\n",
    "delays_fit = delays_fit_rdd.map(lambda row:(row[0],row[1], row[2])).toDF(['LINIEN_TEXT', 'HALTESTELLEN_NAME','test_fail'])\n",
    "delays_fit.agg({\"test_fail\": \"avg\"}).show()"
   ]
  },
  {
   "cell_type": "markdown",
   "metadata": {},
   "source": [
    "We can see that 87.5% of the fine-grain KS-tests are rejected. This is bad news! <br>\n",
    "For a 95% significance level test, we would only expect 5% of the KS-tests to fail (if the null hypotheses were true for each station-line-combination). <br>\n",
    "We will now look at one such fit:"
   ]
  },
  {
   "cell_type": "code",
   "execution_count": 19,
   "metadata": {},
   "outputs": [
    {
     "name": "stdout",
     "output_type": "stream",
     "text": [
      "+-----------+----------------+-------------------+------------------+-----------------+------------------+\n",
      "|LINIEN_TEXT|    ANKUNFTSZEIT|        AN_PROGNOSE|AN_PROGNOSE_STATUS|HALTESTELLEN_NAME|             delay|\n",
      "+-----------+----------------+-------------------+------------------+-----------------+------------------+\n",
      "|         IR|29.05.2019 06:11|29.05.2019 06:13:36|              REAL| Zürich Flughafen|               2.6|\n",
      "|         IR|31.05.2019 06:11|31.05.2019 06:11:58|              REAL| Zürich Flughafen|0.9666666666666667|\n",
      "|         IR|24.05.2019 06:11|24.05.2019 06:12:09|              REAL| Zürich Flughafen|              1.15|\n",
      "|         IR|23.05.2019 06:11|23.05.2019 06:11:30|              REAL| Zürich Flughafen|               0.5|\n",
      "|         IR|28.05.2019 06:11|28.05.2019 06:11:59|              REAL| Zürich Flughafen|0.9833333333333333|\n",
      "+-----------+----------------+-------------------+------------------+-----------------+------------------+\n",
      "only showing top 5 rows\n",
      "\n"
     ]
    }
   ],
   "source": [
    "df = istdaten.filter((istdaten.DURCHFAHRT_TF ==False) & (istdaten.ZUSATZFAHRT_TF==False))\n",
    "delays = df.select('LINIEN_TEXT',\n",
    "                    'ANKUNFTSZEIT',\n",
    "                    'AN_PROGNOSE',\n",
    "                    'AN_PROGNOSE_STATUS',\n",
    "                    'HALTESTELLEN_NAME')\n",
    "delays = delays.withColumn('delay', when((delays.AN_PROGNOSE.isNull()) \\\n",
    "                                & (delays.ANKUNFTSZEIT.isNull()), None)\\\n",
    "                       .when((delays.AN_PROGNOSE.isNull()) \\\n",
    "                                & (delays.ANKUNFTSZEIT.isNotNull()), 0)\\\n",
    "                        .otherwise((unix_timestamp(\"AN_PROGNOSE\", 'dd.MM.yyyy HH:mm:ss') - \\\n",
    "                                    unix_timestamp(\"ANKUNFTSZEIT\",'dd.MM.yyyy HH:mm'))/60))\n",
    "delays = delays.where((delays.delay.isNotNull()) & (delays.LINIEN_TEXT=='IR') & (delays.HALTESTELLEN_NAME=='Zürich Flughafen'))\n",
    "delays.show(5)"
   ]
  },
  {
   "cell_type": "code",
   "execution_count": 20,
   "metadata": {},
   "outputs": [],
   "source": [
    "dp = delays.toPandas()"
   ]
  },
  {
   "cell_type": "code",
   "execution_count": 21,
   "metadata": {},
   "outputs": [
    {
     "data": {
      "image/png": "[encoded data removed]",
      "text/plain": [
       "<Figure size 432x288 with 1 Axes>"
      ]
     },
     "metadata": {
      "needs_background": "light"
     },
     "output_type": "display_data"
    }
   ],
   "source": [
    "from scipy import stats\n",
    "dp.hist('delay', bins=100, density=True)\n",
    "f = stats.lognorm.fit(dp.delay)\n",
    "x = np.linspace(-5, 25, 100)\n",
    "plt.plot(x, lognorm.pdf(x, f[0], f[1], f[2]),'r-', lw=5, alpha=0.6, label='lognorm pdf')\n",
    "plt.show()"
   ]
  },
  {
   "cell_type": "code",
   "execution_count": 22,
   "metadata": {},
   "outputs": [
    {
     "data": {
      "text/plain": [
       "KstestResult(statistic=0.07310699299435197, pvalue=7.998470294173528e-43)"
      ]
     },
     "execution_count": 22,
     "metadata": {},
     "output_type": "execute_result"
    }
   ],
   "source": [
    "stats.kstest(dp.delay, 'lognorm', f)"
   ]
  },
  {
   "cell_type": "markdown",
   "metadata": {},
   "source": [
    "Upon examining the dealy histogram for one sample (IR in Zürich Airport), we can see that visually the fitted distribution fits quite well. We also tried with other distributions frequently mentionned in the literature (gamma, exponential, normal), but they all failed to produce better results. Also some more exotic distributions (skewed-normal, frechet, exponentially modified normal) were examined, but failed to improve the fit (measured by KS)."
   ]
  }
 ],
 "metadata": {
  "kernelspec": {
   "display_name": "Python 3",
   "language": "python",
   "name": "python3"
  },
  "language_info": {
   "codemirror_mode": {
    "name": "ipython",
    "version": 3
   },
   "file_extension": ".py",
   "mimetype": "text/x-python",
   "name": "python",
   "nbconvert_exporter": "python",
   "pygments_lexer": "ipython3",
   "version": "3.7.6"
  }
 },
 "nbformat": 4,
 "nbformat_minor": 4
}
