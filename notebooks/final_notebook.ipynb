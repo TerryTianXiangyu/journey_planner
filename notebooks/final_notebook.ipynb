{
 "cells": [
  {
   "cell_type": "markdown",
   "metadata": {},
   "source": [
    "# Robust Journey Planner\n",
    "This notebook describes the general path we have followed in order to convert raw data into a meaningful journey planner. The most important aspect of our developed planner is its robustness given that after exhaustive delay analysis based on historical data, every trip is associated with a probility. The system can be tested thanks to a validation method and the results can be visualied thanks to a curated interface. The purpose of this notebook is just to guide the reader in our learning and development process but there are links to more specific notebooks where all the details can be found. There are several parts to take into consideration:\n",
    "*   **[Initial Setup](#initial)** — import libraries and explain tools that will be used\n",
    "*   **[Public Transport Network](#network)**  — define network structure and connections timetable.\n",
    "*   **[Probabilistic Model](#probability)** — analyse delay for associating every connection with an uncertainty rsk.\n",
    "*   **[Route Planner Algorithm](#algorithm)**  — to apply a function to each element.\n",
    "*   **[User Interface](#interface)** — design interface with desired trip as input and connection alternatives as output\n",
    "*   **[Validation Method](#validation)** — test the developed system for checking its proper funtioning."
   ]
  },
  {
   "cell_type": "markdown",
   "metadata": {},
   "source": [
    "<a id = 'initial'></a>\n",
    "## 1.Initial Setup\n",
    "\n",
    "We use the following tools in order to clean, process, store, analyse and visualise the data:\n",
    "*  PySpark : it allows us to perform actions and transformations on dataframes\n",
    "*  HDFS:\n",
    "*  Pandas:\n",
    "*  Bokeh:\n"
   ]
  },
  {
   "cell_type": "code",
   "execution_count": 7,
   "metadata": {},
   "outputs": [],
   "source": [
    "import pandas as pd\n",
    "import numpy as np\n",
    "import math"
   ]
  },
  {
   "cell_type": "code",
   "execution_count": 4,
   "metadata": {},
   "outputs": [],
   "source": [
    "from hdfs3 import HDFileSystem\n",
    "hdfs = HDFileSystem(host='hdfs://iccluster044.iccluster.epfl.ch', port=8020, user='ebouille')\n",
    "def read_csv(path, parts=None, **kwargs):\n",
    "    dfs = []\n",
    "    file_paths = [file_path for file_path in hdfs.ls(path) if file_path.endswith('.csv')]\n",
    "    if parts:\n",
    "        file_paths = file_paths[:parts]\n",
    "    for file_path in file_paths:\n",
    "        with hdfs.open(file_path) as file:\n",
    "            dfs.append(pd.read_csv(file, **kwargs))\n",
    "    return pd.concat(dfs)\n"
   ]
  },
  {
   "cell_type": "markdown",
   "metadata": {},
   "source": [
    "<a id = 'network'></a>\n",
    "## 2. Public Transport Network\n",
    "\n",
    "\n",
    "Our project is based on the data published on  [ Open Data Platform Mobility Switzerland](https://opentransportdata.swiss/en/) This platform provides with scheduled timetables and actual historical data of several public trasnport services in Switzerland. In this section, we explain which data is actually relevant for our purposes and how we can model the public transport system"
   ]
  },
  {
   "cell_type": "markdown",
   "metadata": {},
   "source": [
    "### 2.1 Zurich stations\n",
    "\n",
    "We will be focusing on **Zurich** region, so we only take into account transport stops that are within 15-km of Zurich, taking <code>Zurich HB = [8.540192,47.378177]</code>  as reference point. The stations data [BFKOORD_GEO](https://opentransportdata.swiss/en/cookbook/hafas-rohdaten-format-hrdf/#Abgrenzung) is stored under HDFS <code>/data/sbb/stations/bfkoordgeo.csv</code> where latitude, longitude and height of every station is listed. We will compute the **Haversine distance** between Zurich HB and the rest of the stations for filtering out those that are outside the **15 km radius**. Please refer to [get_stations](./get_stations.ipynb) for more details. As a result, we obtain the following dataframe:\n"
   ]
  },
  {
   "cell_type": "code",
   "execution_count": 11,
   "metadata": {},
   "outputs": [
    {
     "data": {
      "text/html": [
       "<div>\n",
       "<style scoped>\n",
       "    .dataframe tbody tr th:only-of-type {\n",
       "        vertical-align: middle;\n",
       "    }\n",
       "\n",
       "    .dataframe tbody tr th {\n",
       "        vertical-align: top;\n",
       "    }\n",
       "\n",
       "    .dataframe thead th {\n",
       "        text-align: right;\n",
       "    }\n",
       "</style>\n",
       "<table border=\"1\" class=\"dataframe\">\n",
       "  <thead>\n",
       "    <tr style=\"text-align: right;\">\n",
       "      <th></th>\n",
       "      <th>StationID</th>\n",
       "      <th>Longitude</th>\n",
       "      <th>Latitude</th>\n",
       "      <th>Height</th>\n",
       "      <th>Remark</th>\n",
       "      <th>Distance_from_Zurich</th>\n",
       "    </tr>\n",
       "  </thead>\n",
       "  <tbody>\n",
       "    <tr>\n",
       "      <th>0</th>\n",
       "      <td>65</td>\n",
       "      <td>8.595545</td>\n",
       "      <td>47.409209</td>\n",
       "      <td>430</td>\n",
       "      <td>Wallisellen, Glatt</td>\n",
       "      <td>5409.956757</td>\n",
       "    </tr>\n",
       "    <tr>\n",
       "      <th>1</th>\n",
       "      <td>66</td>\n",
       "      <td>8.595545</td>\n",
       "      <td>47.409209</td>\n",
       "      <td>430</td>\n",
       "      <td>Wallisellen, Zentrum Glatt</td>\n",
       "      <td>5409.956757</td>\n",
       "    </tr>\n",
       "    <tr>\n",
       "      <th>2</th>\n",
       "      <td>176</td>\n",
       "      <td>8.521961</td>\n",
       "      <td>47.351679</td>\n",
       "      <td>0</td>\n",
       "      <td>Zimmerberg-Basistunnel</td>\n",
       "      <td>3250.669989</td>\n",
       "    </tr>\n",
       "    <tr>\n",
       "      <th>3</th>\n",
       "      <td>8502186</td>\n",
       "      <td>8.398942</td>\n",
       "      <td>47.393407</td>\n",
       "      <td>428</td>\n",
       "      <td>Dietikon Stoffelbach</td>\n",
       "      <td>10768.073180</td>\n",
       "    </tr>\n",
       "    <tr>\n",
       "      <th>4</th>\n",
       "      <td>8502187</td>\n",
       "      <td>8.377032</td>\n",
       "      <td>47.364740</td>\n",
       "      <td>502</td>\n",
       "      <td>Rudolfstetten Hofacker</td>\n",
       "      <td>12377.426177</td>\n",
       "    </tr>\n",
       "  </tbody>\n",
       "</table>\n",
       "</div>"
      ],
      "text/plain": [
       "   StationID  Longitude   Latitude  Height                      Remark  \\\n",
       "0         65   8.595545  47.409209     430          Wallisellen, Glatt   \n",
       "1         66   8.595545  47.409209     430  Wallisellen, Zentrum Glatt   \n",
       "2        176   8.521961  47.351679       0      Zimmerberg-Basistunnel   \n",
       "3    8502186   8.398942  47.393407     428        Dietikon Stoffelbach   \n",
       "4    8502187   8.377032  47.364740     502      Rudolfstetten Hofacker   \n",
       "\n",
       "   Distance_from_Zurich  \n",
       "0           5409.956757  \n",
       "1           5409.956757  \n",
       "2           3250.669989  \n",
       "3          10768.073180  \n",
       "4          12377.426177  "
      ]
     },
     "execution_count": 11,
     "metadata": {},
     "output_type": "execute_result"
    }
   ],
   "source": [
    "stations_info = read_csv('../data/zurich_stations_info.csv', parts=1)\n",
    "stations_info.head()"
   ]
  },
  {
   "cell_type": "markdown",
   "metadata": {},
   "source": [
    "### 2.2 What is a connection?\n",
    "\n",
    "So after definiing the static nodes of our network (Zurich stations), we have to add the edges (the links) between each of them. Can we go from all possible stations to the rest of all possible stations? Is it worth it? How can we go? They are rather difficult questions to ask at first hand but it becomes easier after we perform some exploratory analysis on [SBB historical data](https://opentransportdata.swiss/en/dataset/istdaten) and we understand the difference between trip and connection: a **trip** makes reference to an ordered sequence of stops but they appear in different rows (one stop each) (having both arrival and departure times to/from this specific stop), where as a **connection** involves the departure time from one stop and the arrival time to a different one. Therefore, we conclude that connections are the edges of our network we are looking for, although the dataset is expressed in trips."
   ]
  },
  {
   "cell_type": "markdown",
   "metadata": {},
   "source": [
    "### 2.3 Walking connections\n",
    "\n",
    "We start by looking at the easier connections: the walking ones. We assume it is sensible to connect **nearby stations** (<500 m of distance) by walking and we compute the required transfer time between each pair of stations. For more details please refere to the last part of the notebook [get_stations](./get_stations.ipynb). As a result, we obtain the following dataframe:"
   ]
  },
  {
   "cell_type": "code",
   "execution_count": 12,
   "metadata": {},
   "outputs": [
    {
     "data": {
      "text/html": [
       "<div>\n",
       "<style scoped>\n",
       "    .dataframe tbody tr th:only-of-type {\n",
       "        vertical-align: middle;\n",
       "    }\n",
       "\n",
       "    .dataframe tbody tr th {\n",
       "        vertical-align: top;\n",
       "    }\n",
       "\n",
       "    .dataframe thead th {\n",
       "        text-align: right;\n",
       "    }\n",
       "</style>\n",
       "<table border=\"1\" class=\"dataframe\">\n",
       "  <thead>\n",
       "    <tr style=\"text-align: right;\">\n",
       "      <th></th>\n",
       "      <th>ID1</th>\n",
       "      <th>Lon1</th>\n",
       "      <th>Lat1</th>\n",
       "      <th>H1</th>\n",
       "      <th>ID2</th>\n",
       "      <th>Lon2</th>\n",
       "      <th>Lat2</th>\n",
       "      <th>H2</th>\n",
       "      <th>Distance (m)</th>\n",
       "      <th>Speed (m/min)</th>\n",
       "      <th>Transfer time (sec)</th>\n",
       "    </tr>\n",
       "  </thead>\n",
       "  <tbody>\n",
       "    <tr>\n",
       "      <th>0</th>\n",
       "      <td>65</td>\n",
       "      <td>8.595545</td>\n",
       "      <td>47.409209</td>\n",
       "      <td>430</td>\n",
       "      <td>65</td>\n",
       "      <td>8.595545</td>\n",
       "      <td>47.409209</td>\n",
       "      <td>430</td>\n",
       "      <td>0.000000</td>\n",
       "      <td>50.00</td>\n",
       "      <td>120.0</td>\n",
       "    </tr>\n",
       "    <tr>\n",
       "      <th>1</th>\n",
       "      <td>65</td>\n",
       "      <td>8.595545</td>\n",
       "      <td>47.409209</td>\n",
       "      <td>430</td>\n",
       "      <td>66</td>\n",
       "      <td>8.595545</td>\n",
       "      <td>47.409209</td>\n",
       "      <td>430</td>\n",
       "      <td>0.000000</td>\n",
       "      <td>50.00</td>\n",
       "      <td>120.0</td>\n",
       "    </tr>\n",
       "    <tr>\n",
       "      <th>2</th>\n",
       "      <td>65</td>\n",
       "      <td>8.595545</td>\n",
       "      <td>47.409209</td>\n",
       "      <td>430</td>\n",
       "      <td>8503129</td>\n",
       "      <td>8.591911</td>\n",
       "      <td>47.412717</td>\n",
       "      <td>431</td>\n",
       "      <td>493.557390</td>\n",
       "      <td>49.99</td>\n",
       "      <td>712.0</td>\n",
       "    </tr>\n",
       "    <tr>\n",
       "      <th>3</th>\n",
       "      <td>65</td>\n",
       "      <td>8.595545</td>\n",
       "      <td>47.409209</td>\n",
       "      <td>430</td>\n",
       "      <td>8587651</td>\n",
       "      <td>8.595545</td>\n",
       "      <td>47.409209</td>\n",
       "      <td>430</td>\n",
       "      <td>0.000000</td>\n",
       "      <td>50.00</td>\n",
       "      <td>120.0</td>\n",
       "    </tr>\n",
       "    <tr>\n",
       "      <th>4</th>\n",
       "      <td>65</td>\n",
       "      <td>8.595545</td>\n",
       "      <td>47.409209</td>\n",
       "      <td>430</td>\n",
       "      <td>8587655</td>\n",
       "      <td>8.592534</td>\n",
       "      <td>47.412720</td>\n",
       "      <td>431</td>\n",
       "      <td>463.889894</td>\n",
       "      <td>49.99</td>\n",
       "      <td>677.0</td>\n",
       "    </tr>\n",
       "  </tbody>\n",
       "</table>\n",
       "</div>"
      ],
      "text/plain": [
       "   ID1      Lon1       Lat1   H1      ID2      Lon2       Lat2   H2  \\\n",
       "0   65  8.595545  47.409209  430       65  8.595545  47.409209  430   \n",
       "1   65  8.595545  47.409209  430       66  8.595545  47.409209  430   \n",
       "2   65  8.595545  47.409209  430  8503129  8.591911  47.412717  431   \n",
       "3   65  8.595545  47.409209  430  8587651  8.595545  47.409209  430   \n",
       "4   65  8.595545  47.409209  430  8587655  8.592534  47.412720  431   \n",
       "\n",
       "   Distance (m)  Speed (m/min)  Transfer time (sec)  \n",
       "0      0.000000          50.00                120.0  \n",
       "1      0.000000          50.00                120.0  \n",
       "2    493.557390          49.99                712.0  \n",
       "3      0.000000          50.00                120.0  \n",
       "4    463.889894          49.99                677.0  "
      ]
     },
     "execution_count": 12,
     "metadata": {},
     "output_type": "execute_result"
    }
   ],
   "source": [
    "walking_connections = read_csv(\"../data/zurich_walking_connections.csv\", parts=1)\n",
    "walking_connections.head()"
   ]
  },
  {
   "cell_type": "markdown",
   "metadata": {},
   "source": [
    "### 2.4 Transport connections timetable\n",
    "\n",
    "There is a specific column in SBB dataset which refers to the **type of transport** for each trip. The most frequent ones are Train (Zug), Bus and Tram, but as mentioned beforet they are expressed in terms of trips, not in terms of connections. Therefore we need to transform the dataset so that we can link the different nodes (stations) of our network. Nonetheless, it is not a good idea to use the SBB historical for this purpose, given that if we select a random day and extract the connections of that specific day, there might be some **actual data missing**.\n",
    "\n",
    "Having said that, we decide to use the timetable files available under HDFS, specially <code>stop_times.txt</code>, and we **build a schedule** for an \"ideal\" working day between 5h and 21h. Our network is thereby completed with the nodes (stations) and the edges (connections). After transforming the trips to connections in the notebook [get_timetable](./get_timetable.ipynb), we obtain the following dataframe:"
   ]
  },
  {
   "cell_type": "code",
   "execution_count": null,
   "metadata": {},
   "outputs": [],
   "source": [
    "#id_connections = spark.read.orc('/user/datavirus/id_connections.orc')"
   ]
  },
  {
   "cell_type": "markdown",
   "metadata": {},
   "source": [
    "<a id = 'probability'></a>\n",
    "\n",
    "## 3. Probabilistic Model\n",
    "\n",
    "At the beggining of this lab course, we were confronted with the SBB dataset and we were able to analyse the delay distributions. As we can observe on the images (obtained from homework 1d), they have the shape of an exponential decay so we decided to base our predictive model on the expponential distribution. The corresponding probability desnity function is given (for$ x \\geq 0 $) by:\n",
    "\n",
    "$$ f(x;\\lambda) = \\lambda e^{-\\lambda x} $$  \n",
    "\n",
    "We see that the only paramater we have to determine is the *rate parameter* $\\lambda$ which corresponds to the inverse of the mean delay. In other words, if we determine the mean delay of every possible connection, we will be able to build the predictive model"
   ]
  },
  {
   "attachments": {
    "image.png": {
     "image/png": "[encoded data removed]"
    }
   },
   "cell_type": "markdown",
   "metadata": {},
   "source": [
    "![image.png](attachment:image.png)"
   ]
  },
  {
   "cell_type": "markdown",
   "metadata": {},
   "source": [
    "### 3.1 Delay analysis\n",
    "\n",
    "Our objective is then to obtain the delay probability and the mean delay for every possible connection in our \"ideal\" schedule. However, it seems quite difficult to achieve given that it is very likely that there's missing data from many different connections. To overcome this problem, we have come up with a three-level probability strategy which allows us to select different delays probabilities for the same connections depending on the number of data points supporting it. For more details, please refer to [delay_analysis](./delay_analysis.ipynb)"
   ]
  },
  {
   "cell_type": "code",
   "execution_count": null,
   "metadata": {},
   "outputs": [],
   "source": [
    "#probability = spark.read.orc('/user/datavirus/probability.orc')"
   ]
  },
  {
   "cell_type": "markdown",
   "metadata": {},
   "source": [
    "### 3.2 Predictive model\n",
    "\n",
    "Once we have used the SBB historical data to obtain as much information about the probability of delay for as many connections as possible, it is time to feed our public trasnport network with this delay data. We \"simply\" have to merge the \"static\" transport network with the delay probabilities into a single dataframe shown below. Please refer to [delay_prediction](./delay_prediction.ipynb)"
   ]
  },
  {
   "cell_type": "code",
   "execution_count": 14,
   "metadata": {},
   "outputs": [
    {
     "data": {
      "text/html": [
       "<div>\n",
       "<style scoped>\n",
       "    .dataframe tbody tr th:only-of-type {\n",
       "        vertical-align: middle;\n",
       "    }\n",
       "\n",
       "    .dataframe tbody tr th {\n",
       "        vertical-align: top;\n",
       "    }\n",
       "\n",
       "    .dataframe thead th {\n",
       "        text-align: right;\n",
       "    }\n",
       "</style>\n",
       "<table border=\"1\" class=\"dataframe\">\n",
       "  <thead>\n",
       "    <tr style=\"text-align: right;\">\n",
       "      <th></th>\n",
       "      <th>stop_sequence</th>\n",
       "      <th>route_type</th>\n",
       "      <th>start_id</th>\n",
       "      <th>start_time</th>\n",
       "      <th>trip_id</th>\n",
       "      <th>transport_type</th>\n",
       "      <th>line_text</th>\n",
       "      <th>stop_time</th>\n",
       "      <th>stop_id</th>\n",
       "      <th>delay_probability</th>\n",
       "      <th>delay_parameter</th>\n",
       "    </tr>\n",
       "  </thead>\n",
       "  <tbody>\n",
       "    <tr>\n",
       "      <th>0</th>\n",
       "      <td>29</td>\n",
       "      <td>900</td>\n",
       "      <td>8591305</td>\n",
       "      <td>13:00:00</td>\n",
       "      <td>1155.TA.26-7-B-j19-1.6.R</td>\n",
       "      <td>tram</td>\n",
       "      <td>7</td>\n",
       "      <td>13:01:00</td>\n",
       "      <td>8591271</td>\n",
       "      <td>0.830450</td>\n",
       "      <td>0.014242</td>\n",
       "    </tr>\n",
       "    <tr>\n",
       "      <th>1</th>\n",
       "      <td>28</td>\n",
       "      <td>900</td>\n",
       "      <td>8530812</td>\n",
       "      <td>13:00:00</td>\n",
       "      <td>890.TA.26-11-A-j19-1.3.H</td>\n",
       "      <td>tram</td>\n",
       "      <td>11</td>\n",
       "      <td>13:01:00</td>\n",
       "      <td>8591180</td>\n",
       "      <td>0.851468</td>\n",
       "      <td>0.011924</td>\n",
       "    </tr>\n",
       "    <tr>\n",
       "      <th>2</th>\n",
       "      <td>27</td>\n",
       "      <td>900</td>\n",
       "      <td>8591245</td>\n",
       "      <td>12:59:00</td>\n",
       "      <td>1939.TA.26-13-j19-1.24.H</td>\n",
       "      <td>tram</td>\n",
       "      <td>13</td>\n",
       "      <td>13:01:00</td>\n",
       "      <td>8591405</td>\n",
       "      <td>0.847539</td>\n",
       "      <td>0.012390</td>\n",
       "    </tr>\n",
       "    <tr>\n",
       "      <th>3</th>\n",
       "      <td>27</td>\n",
       "      <td>900</td>\n",
       "      <td>8591427</td>\n",
       "      <td>12:59:00</td>\n",
       "      <td>3191.TA.26-9-B-j19-1.25.H</td>\n",
       "      <td>tram</td>\n",
       "      <td>9</td>\n",
       "      <td>13:01:00</td>\n",
       "      <td>8573710</td>\n",
       "      <td>0.848292</td>\n",
       "      <td>0.014791</td>\n",
       "    </tr>\n",
       "    <tr>\n",
       "      <th>4</th>\n",
       "      <td>27</td>\n",
       "      <td>700</td>\n",
       "      <td>8591197</td>\n",
       "      <td>13:00:00</td>\n",
       "      <td>268.TA.26-308-j19-1.12.R</td>\n",
       "      <td>bus</td>\n",
       "      <td>308</td>\n",
       "      <td>13:01:00</td>\n",
       "      <td>8591434</td>\n",
       "      <td>0.889047</td>\n",
       "      <td>0.012551</td>\n",
       "    </tr>\n",
       "  </tbody>\n",
       "</table>\n",
       "</div>"
      ],
      "text/plain": [
       "   stop_sequence  route_type  start_id start_time                    trip_id  \\\n",
       "0             29         900   8591305   13:00:00   1155.TA.26-7-B-j19-1.6.R   \n",
       "1             28         900   8530812   13:00:00   890.TA.26-11-A-j19-1.3.H   \n",
       "2             27         900   8591245   12:59:00   1939.TA.26-13-j19-1.24.H   \n",
       "3             27         900   8591427   12:59:00  3191.TA.26-9-B-j19-1.25.H   \n",
       "4             27         700   8591197   13:00:00   268.TA.26-308-j19-1.12.R   \n",
       "\n",
       "  transport_type line_text stop_time  stop_id  delay_probability  \\\n",
       "0           tram         7  13:01:00  8591271           0.830450   \n",
       "1           tram        11  13:01:00  8591180           0.851468   \n",
       "2           tram        13  13:01:00  8591405           0.847539   \n",
       "3           tram         9  13:01:00  8573710           0.848292   \n",
       "4            bus       308  13:01:00  8591434           0.889047   \n",
       "\n",
       "   delay_parameter  \n",
       "0         0.014242  \n",
       "1         0.011924  \n",
       "2         0.012390  \n",
       "3         0.014791  \n",
       "4         0.012551  "
      ]
     },
     "execution_count": 14,
     "metadata": {},
     "output_type": "execute_result"
    }
   ],
   "source": [
    "connections = read_csv('/user/datavirus/connections.csv',parts=1)\n",
    "connections.head()"
   ]
  },
  {
   "cell_type": "markdown",
   "metadata": {},
   "source": [
    "## 4. Route Planner Algorithm\n",
    "\n",
    "<a id = 'algorithm'></a>"
   ]
  },
  {
   "cell_type": "markdown",
   "metadata": {},
   "source": [
    "## 5. User Interface\n",
    "\n",
    "<a id = 'interface'></a>"
   ]
  },
  {
   "cell_type": "markdown",
   "metadata": {},
   "source": [
    "## 6. Validation method\n",
    "\n",
    "<a id = 'validation'></a>"
   ]
  }
 ],
 "metadata": {
  "kernelspec": {
   "display_name": "Python 3",
   "language": "python",
   "name": "python3"
  },
  "language_info": {
   "codemirror_mode": {
    "name": "ipython",
    "version": 3
   },
   "file_extension": ".py",
   "mimetype": "text/x-python",
   "name": "python",
   "nbconvert_exporter": "python",
   "pygments_lexer": "ipython3",
   "version": "3.7.6"
  }
 },
 "nbformat": 4,
 "nbformat_minor": 4
}
