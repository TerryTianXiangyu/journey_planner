{
 "cells": [
  {
   "cell_type": "markdown",
   "metadata": {},
   "source": [
    "# Notebook for getting connections dataframe\n"
   ]
  },
  {
   "cell_type": "code",
   "execution_count": 5,
   "metadata": {},
   "outputs": [
    {
     "data": {
      "application/vnd.jupyter.widget-view+json": {
       "model_id": "",
       "version_major": 2,
       "version_minor": 0
      },
      "text/plain": [
       "FloatProgress(value=0.0, bar_style='info', description='Progress:', layout=Layout(height='25px', width='50%'),…"
      ]
     },
     "metadata": {},
     "output_type": "display_data"
    }
   ],
   "source": [
    "import pyspark.sql.functions as F\n",
    "import math\n",
    "import pandas as pd"
   ]
  },
  {
   "cell_type": "markdown",
   "metadata": {},
   "source": [
    "### Start Spark"
   ]
  },
  {
   "cell_type": "code",
   "execution_count": 1,
   "metadata": {},
   "outputs": [
    {
     "data": {
      "text/html": [
       "Current session configs: <tt>{'conf': {'spark.app.name': 'datavirus_final'}, 'kind': 'pyspark'}</tt><br>"
      ],
      "text/plain": [
       "<IPython.core.display.HTML object>"
      ]
     },
     "metadata": {},
     "output_type": "display_data"
    },
    {
     "data": {
      "text/html": [
       "<table>\n",
       "<tr><th>ID</th><th>YARN Application ID</th><th>Kind</th><th>State</th><th>Spark UI</th><th>Driver log</th><th>Current session?</th></tr><tr><td>7704</td><td>application_1589299642358_2200</td><td>pyspark</td><td>idle</td><td><a target=\"_blank\" href=\"http://iccluster044.iccluster.epfl.ch:8088/proxy/application_1589299642358_2200/\">Link</a></td><td><a target=\"_blank\" href=\"http://iccluster065.iccluster.epfl.ch:8042/node/containerlogs/container_e06_1589299642358_2200_01_000001/ebouille\">Link</a></td><td></td></tr><tr><td>7735</td><td>application_1589299642358_2231</td><td>pyspark</td><td>busy</td><td><a target=\"_blank\" href=\"http://iccluster044.iccluster.epfl.ch:8088/proxy/application_1589299642358_2231/\">Link</a></td><td><a target=\"_blank\" href=\"http://iccluster065.iccluster.epfl.ch:8042/node/containerlogs/container_e06_1589299642358_2231_01_000001/ebouille\">Link</a></td><td></td></tr><tr><td>7737</td><td>application_1589299642358_2233</td><td>pyspark</td><td>idle</td><td><a target=\"_blank\" href=\"http://iccluster044.iccluster.epfl.ch:8088/proxy/application_1589299642358_2233/\">Link</a></td><td><a target=\"_blank\" href=\"http://iccluster072.iccluster.epfl.ch:8042/node/containerlogs/container_e06_1589299642358_2233_01_000001/ebouille\">Link</a></td><td></td></tr><tr><td>7739</td><td>application_1589299642358_2235</td><td>pyspark</td><td>dead</td><td><a target=\"_blank\" href=\"http://iccluster044.iccluster.epfl.ch:8088/cluster/app/application_1589299642358_2235\">Link</a></td><td><a target=\"_blank\" href=\"http://iccluster054.iccluster.epfl.ch:8188/applicationhistory/logs/iccluster065.iccluster.epfl.ch:45454/container_e06_1589299642358_2235_01_000001/container_e06_1589299642358_2235_01_000001/ebouille\">Link</a></td><td></td></tr><tr><td>7743</td><td>application_1589299642358_2239</td><td>pyspark</td><td>idle</td><td><a target=\"_blank\" href=\"http://iccluster044.iccluster.epfl.ch:8088/proxy/application_1589299642358_2239/\">Link</a></td><td><a target=\"_blank\" href=\"http://iccluster070.iccluster.epfl.ch:8042/node/containerlogs/container_e06_1589299642358_2239_01_000001/ebouille\">Link</a></td><td></td></tr><tr><td>7745</td><td>application_1589299642358_2241</td><td>pyspark</td><td>idle</td><td><a target=\"_blank\" href=\"http://iccluster044.iccluster.epfl.ch:8088/proxy/application_1589299642358_2241/\">Link</a></td><td><a target=\"_blank\" href=\"http://iccluster066.iccluster.epfl.ch:8042/node/containerlogs/container_e06_1589299642358_2241_01_000001/ebouille\">Link</a></td><td></td></tr><tr><td>7750</td><td>application_1589299642358_2246</td><td>pyspark</td><td>busy</td><td><a target=\"_blank\" href=\"http://iccluster044.iccluster.epfl.ch:8088/proxy/application_1589299642358_2246/\">Link</a></td><td><a target=\"_blank\" href=\"http://iccluster068.iccluster.epfl.ch:8042/node/containerlogs/container_e06_1589299642358_2246_01_000001/ebouille\">Link</a></td><td></td></tr><tr><td>7753</td><td>application_1589299642358_2249</td><td>pyspark</td><td>idle</td><td><a target=\"_blank\" href=\"http://iccluster044.iccluster.epfl.ch:8088/proxy/application_1589299642358_2249/\">Link</a></td><td><a target=\"_blank\" href=\"http://iccluster068.iccluster.epfl.ch:8042/node/containerlogs/container_e06_1589299642358_2249_01_000001/ebouille\">Link</a></td><td></td></tr><tr><td>7756</td><td>application_1589299642358_2252</td><td>pyspark</td><td>idle</td><td><a target=\"_blank\" href=\"http://iccluster044.iccluster.epfl.ch:8088/proxy/application_1589299642358_2252/\">Link</a></td><td><a target=\"_blank\" href=\"http://iccluster070.iccluster.epfl.ch:8042/node/containerlogs/container_e06_1589299642358_2252_01_000001/ebouille\">Link</a></td><td></td></tr><tr><td>7759</td><td>application_1589299642358_2255</td><td>pyspark</td><td>busy</td><td><a target=\"_blank\" href=\"http://iccluster044.iccluster.epfl.ch:8088/proxy/application_1589299642358_2255/\">Link</a></td><td><a target=\"_blank\" href=\"http://iccluster065.iccluster.epfl.ch:8042/node/containerlogs/container_e06_1589299642358_2255_01_000001/ebouille\">Link</a></td><td></td></tr><tr><td>7760</td><td>application_1589299642358_2256</td><td>pyspark</td><td>idle</td><td><a target=\"_blank\" href=\"http://iccluster044.iccluster.epfl.ch:8088/proxy/application_1589299642358_2256/\">Link</a></td><td><a target=\"_blank\" href=\"http://iccluster072.iccluster.epfl.ch:8042/node/containerlogs/container_e06_1589299642358_2256_01_000001/ebouille\">Link</a></td><td></td></tr><tr><td>7761</td><td>application_1589299642358_2257</td><td>pyspark</td><td>idle</td><td><a target=\"_blank\" href=\"http://iccluster044.iccluster.epfl.ch:8088/proxy/application_1589299642358_2257/\">Link</a></td><td><a target=\"_blank\" href=\"http://iccluster068.iccluster.epfl.ch:8042/node/containerlogs/container_e06_1589299642358_2257_01_000001/ebouille\">Link</a></td><td></td></tr><tr><td>7762</td><td>application_1589299642358_2258</td><td>pyspark</td><td>idle</td><td><a target=\"_blank\" href=\"http://iccluster044.iccluster.epfl.ch:8088/proxy/application_1589299642358_2258/\">Link</a></td><td><a target=\"_blank\" href=\"http://iccluster066.iccluster.epfl.ch:8042/node/containerlogs/container_e06_1589299642358_2258_01_000001/ebouille\">Link</a></td><td></td></tr><tr><td>7764</td><td>application_1589299642358_2260</td><td>pyspark</td><td>idle</td><td><a target=\"_blank\" href=\"http://iccluster044.iccluster.epfl.ch:8088/proxy/application_1589299642358_2260/\">Link</a></td><td><a target=\"_blank\" href=\"http://iccluster065.iccluster.epfl.ch:8042/node/containerlogs/container_e06_1589299642358_2260_01_000001/ebouille\">Link</a></td><td></td></tr><tr><td>7767</td><td>application_1589299642358_2263</td><td>pyspark</td><td>idle</td><td><a target=\"_blank\" href=\"http://iccluster044.iccluster.epfl.ch:8088/proxy/application_1589299642358_2263/\">Link</a></td><td><a target=\"_blank\" href=\"http://iccluster067.iccluster.epfl.ch:8042/node/containerlogs/container_e06_1589299642358_2263_01_000001/ebouille\">Link</a></td><td></td></tr><tr><td>7768</td><td>application_1589299642358_2264</td><td>pyspark</td><td>idle</td><td><a target=\"_blank\" href=\"http://iccluster044.iccluster.epfl.ch:8088/proxy/application_1589299642358_2264/\">Link</a></td><td><a target=\"_blank\" href=\"http://iccluster067.iccluster.epfl.ch:8042/node/containerlogs/container_e06_1589299642358_2264_01_000001/ebouille\">Link</a></td><td></td></tr><tr><td>7770</td><td>application_1589299642358_2266</td><td>pyspark</td><td>idle</td><td><a target=\"_blank\" href=\"http://iccluster044.iccluster.epfl.ch:8088/proxy/application_1589299642358_2266/\">Link</a></td><td><a target=\"_blank\" href=\"http://iccluster071.iccluster.epfl.ch:8042/node/containerlogs/container_e06_1589299642358_2266_01_000001/ebouille\">Link</a></td><td></td></tr><tr><td>7772</td><td>application_1589299642358_2268</td><td>pyspark</td><td>idle</td><td><a target=\"_blank\" href=\"http://iccluster044.iccluster.epfl.ch:8088/proxy/application_1589299642358_2268/\">Link</a></td><td><a target=\"_blank\" href=\"http://iccluster067.iccluster.epfl.ch:8042/node/containerlogs/container_e06_1589299642358_2268_01_000001/ebouille\">Link</a></td><td></td></tr><tr><td>7773</td><td>application_1589299642358_2269</td><td>pyspark</td><td>idle</td><td><a target=\"_blank\" href=\"http://iccluster044.iccluster.epfl.ch:8088/proxy/application_1589299642358_2269/\">Link</a></td><td><a target=\"_blank\" href=\"http://iccluster071.iccluster.epfl.ch:8042/node/containerlogs/container_e06_1589299642358_2269_01_000001/ebouille\">Link</a></td><td></td></tr><tr><td>7774</td><td>application_1589299642358_2270</td><td>pyspark</td><td>busy</td><td><a target=\"_blank\" href=\"http://iccluster044.iccluster.epfl.ch:8088/proxy/application_1589299642358_2270/\">Link</a></td><td><a target=\"_blank\" href=\"http://iccluster070.iccluster.epfl.ch:8042/node/containerlogs/container_e06_1589299642358_2270_01_000001/ebouille\">Link</a></td><td></td></tr><tr><td>7775</td><td>application_1589299642358_2272</td><td>pyspark</td><td>idle</td><td><a target=\"_blank\" href=\"http://iccluster044.iccluster.epfl.ch:8088/proxy/application_1589299642358_2272/\">Link</a></td><td><a target=\"_blank\" href=\"http://iccluster071.iccluster.epfl.ch:8042/node/containerlogs/container_e06_1589299642358_2272_01_000001/ebouille\">Link</a></td><td></td></tr><tr><td>7776</td><td>application_1589299642358_2273</td><td>pyspark</td><td>idle</td><td><a target=\"_blank\" href=\"http://iccluster044.iccluster.epfl.ch:8088/proxy/application_1589299642358_2273/\">Link</a></td><td><a target=\"_blank\" href=\"http://iccluster069.iccluster.epfl.ch:8042/node/containerlogs/container_e06_1589299642358_2273_01_000001/ebouille\">Link</a></td><td></td></tr><tr><td>7777</td><td>application_1589299642358_2274</td><td>pyspark</td><td>idle</td><td><a target=\"_blank\" href=\"http://iccluster044.iccluster.epfl.ch:8088/proxy/application_1589299642358_2274/\">Link</a></td><td><a target=\"_blank\" href=\"http://iccluster072.iccluster.epfl.ch:8042/node/containerlogs/container_e06_1589299642358_2274_01_000001/ebouille\">Link</a></td><td></td></tr><tr><td>7778</td><td>application_1589299642358_2275</td><td>pyspark</td><td>busy</td><td><a target=\"_blank\" href=\"http://iccluster044.iccluster.epfl.ch:8088/proxy/application_1589299642358_2275/\">Link</a></td><td><a target=\"_blank\" href=\"http://iccluster072.iccluster.epfl.ch:8042/node/containerlogs/container_e06_1589299642358_2275_01_000001/ebouille\">Link</a></td><td></td></tr><tr><td>7779</td><td>application_1589299642358_2276</td><td>pyspark</td><td>idle</td><td><a target=\"_blank\" href=\"http://iccluster044.iccluster.epfl.ch:8088/proxy/application_1589299642358_2276/\">Link</a></td><td><a target=\"_blank\" href=\"http://iccluster068.iccluster.epfl.ch:8042/node/containerlogs/container_e06_1589299642358_2276_01_000001/ebouille\">Link</a></td><td></td></tr><tr><td>7780</td><td>application_1589299642358_2277</td><td>pyspark</td><td>idle</td><td><a target=\"_blank\" href=\"http://iccluster044.iccluster.epfl.ch:8088/proxy/application_1589299642358_2277/\">Link</a></td><td><a target=\"_blank\" href=\"http://iccluster068.iccluster.epfl.ch:8042/node/containerlogs/container_e06_1589299642358_2277_01_000001/ebouille\">Link</a></td><td></td></tr><tr><td>7781</td><td>application_1589299642358_2278</td><td>pyspark</td><td>idle</td><td><a target=\"_blank\" href=\"http://iccluster044.iccluster.epfl.ch:8088/proxy/application_1589299642358_2278/\">Link</a></td><td><a target=\"_blank\" href=\"http://iccluster070.iccluster.epfl.ch:8042/node/containerlogs/container_e06_1589299642358_2278_01_000001/ebouille\">Link</a></td><td></td></tr><tr><td>7782</td><td>application_1589299642358_2279</td><td>pyspark</td><td>idle</td><td><a target=\"_blank\" href=\"http://iccluster044.iccluster.epfl.ch:8088/proxy/application_1589299642358_2279/\">Link</a></td><td><a target=\"_blank\" href=\"http://iccluster065.iccluster.epfl.ch:8042/node/containerlogs/container_e06_1589299642358_2279_01_000001/ebouille\">Link</a></td><td></td></tr></table>"
      ],
      "text/plain": [
       "<IPython.core.display.HTML object>"
      ]
     },
     "metadata": {},
     "output_type": "display_data"
    }
   ],
   "source": [
    "%%configure\n",
    "{\"conf\": {\n",
    "    \"spark.app.name\": \"datavirus_final\"\n",
    "}}"
   ]
  },
  {
   "cell_type": "code",
   "execution_count": 2,
   "metadata": {},
   "outputs": [
    {
     "name": "stdout",
     "output_type": "stream",
     "text": [
      "Starting Spark application\n"
     ]
    },
    {
     "data": {
      "text/html": [
       "<table>\n",
       "<tr><th>ID</th><th>YARN Application ID</th><th>Kind</th><th>State</th><th>Spark UI</th><th>Driver log</th><th>Current session?</th></tr><tr><td>7783</td><td>application_1589299642358_2280</td><td>pyspark</td><td>idle</td><td><a target=\"_blank\" href=\"http://iccluster044.iccluster.epfl.ch:8088/proxy/application_1589299642358_2280/\">Link</a></td><td><a target=\"_blank\" href=\"http://iccluster066.iccluster.epfl.ch:8042/node/containerlogs/container_e06_1589299642358_2280_01_000001/ebouille\">Link</a></td><td>✔</td></tr></table>"
      ],
      "text/plain": [
       "<IPython.core.display.HTML object>"
      ]
     },
     "metadata": {},
     "output_type": "display_data"
    },
    {
     "data": {
      "application/vnd.jupyter.widget-view+json": {
       "model_id": "",
       "version_major": 2,
       "version_minor": 0
      },
      "text/plain": [
       "FloatProgress(value=0.0, bar_style='info', description='Progress:', layout=Layout(height='25px', width='50%'),…"
      ]
     },
     "metadata": {},
     "output_type": "display_data"
    },
    {
     "name": "stdout",
     "output_type": "stream",
     "text": [
      "SparkSession available as 'spark'.\n"
     ]
    },
    {
     "data": {
      "application/vnd.jupyter.widget-view+json": {
       "model_id": "",
       "version_major": 2,
       "version_minor": 0
      },
      "text/plain": [
       "FloatProgress(value=0.0, bar_style='info', description='Progress:', layout=Layout(height='25px', width='50%'),…"
      ]
     },
     "metadata": {},
     "output_type": "display_data"
    },
    {
     "name": "stdout",
     "output_type": "stream",
     "text": [
      "<pyspark.sql.session.SparkSession object at 0x7fd5fff9d850>"
     ]
    }
   ],
   "source": [
    "# Initialization\n",
    "spark"
   ]
  },
  {
   "cell_type": "code",
   "execution_count": 3,
   "metadata": {},
   "outputs": [
    {
     "data": {
      "text/html": [
       "Current session configs: <tt>{'conf': {'spark.app.name': 'datavirus_final'}, 'kind': 'pyspark'}</tt><br>"
      ],
      "text/plain": [
       "<IPython.core.display.HTML object>"
      ]
     },
     "metadata": {},
     "output_type": "display_data"
    },
    {
     "data": {
      "text/html": [
       "<table>\n",
       "<tr><th>ID</th><th>YARN Application ID</th><th>Kind</th><th>State</th><th>Spark UI</th><th>Driver log</th><th>Current session?</th></tr><tr><td>7704</td><td>application_1589299642358_2200</td><td>pyspark</td><td>idle</td><td><a target=\"_blank\" href=\"http://iccluster044.iccluster.epfl.ch:8088/proxy/application_1589299642358_2200/\">Link</a></td><td><a target=\"_blank\" href=\"http://iccluster065.iccluster.epfl.ch:8042/node/containerlogs/container_e06_1589299642358_2200_01_000001/ebouille\">Link</a></td><td></td></tr><tr><td>7735</td><td>application_1589299642358_2231</td><td>pyspark</td><td>idle</td><td><a target=\"_blank\" href=\"http://iccluster044.iccluster.epfl.ch:8088/proxy/application_1589299642358_2231/\">Link</a></td><td><a target=\"_blank\" href=\"http://iccluster065.iccluster.epfl.ch:8042/node/containerlogs/container_e06_1589299642358_2231_01_000001/ebouille\">Link</a></td><td></td></tr><tr><td>7737</td><td>application_1589299642358_2233</td><td>pyspark</td><td>idle</td><td><a target=\"_blank\" href=\"http://iccluster044.iccluster.epfl.ch:8088/proxy/application_1589299642358_2233/\">Link</a></td><td><a target=\"_blank\" href=\"http://iccluster072.iccluster.epfl.ch:8042/node/containerlogs/container_e06_1589299642358_2233_01_000001/ebouille\">Link</a></td><td></td></tr><tr><td>7739</td><td>application_1589299642358_2235</td><td>pyspark</td><td>dead</td><td><a target=\"_blank\" href=\"http://iccluster044.iccluster.epfl.ch:8088/cluster/app/application_1589299642358_2235\">Link</a></td><td><a target=\"_blank\" href=\"http://iccluster054.iccluster.epfl.ch:8188/applicationhistory/logs/iccluster065.iccluster.epfl.ch:45454/container_e06_1589299642358_2235_01_000001/container_e06_1589299642358_2235_01_000001/ebouille\">Link</a></td><td></td></tr><tr><td>7743</td><td>application_1589299642358_2239</td><td>pyspark</td><td>idle</td><td><a target=\"_blank\" href=\"http://iccluster044.iccluster.epfl.ch:8088/proxy/application_1589299642358_2239/\">Link</a></td><td><a target=\"_blank\" href=\"http://iccluster070.iccluster.epfl.ch:8042/node/containerlogs/container_e06_1589299642358_2239_01_000001/ebouille\">Link</a></td><td></td></tr><tr><td>7745</td><td>application_1589299642358_2241</td><td>pyspark</td><td>idle</td><td><a target=\"_blank\" href=\"http://iccluster044.iccluster.epfl.ch:8088/proxy/application_1589299642358_2241/\">Link</a></td><td><a target=\"_blank\" href=\"http://iccluster066.iccluster.epfl.ch:8042/node/containerlogs/container_e06_1589299642358_2241_01_000001/ebouille\">Link</a></td><td></td></tr><tr><td>7750</td><td>application_1589299642358_2246</td><td>pyspark</td><td>busy</td><td><a target=\"_blank\" href=\"http://iccluster044.iccluster.epfl.ch:8088/proxy/application_1589299642358_2246/\">Link</a></td><td><a target=\"_blank\" href=\"http://iccluster068.iccluster.epfl.ch:8042/node/containerlogs/container_e06_1589299642358_2246_01_000001/ebouille\">Link</a></td><td></td></tr><tr><td>7753</td><td>application_1589299642358_2249</td><td>pyspark</td><td>idle</td><td><a target=\"_blank\" href=\"http://iccluster044.iccluster.epfl.ch:8088/proxy/application_1589299642358_2249/\">Link</a></td><td><a target=\"_blank\" href=\"http://iccluster068.iccluster.epfl.ch:8042/node/containerlogs/container_e06_1589299642358_2249_01_000001/ebouille\">Link</a></td><td></td></tr><tr><td>7756</td><td>application_1589299642358_2252</td><td>pyspark</td><td>idle</td><td><a target=\"_blank\" href=\"http://iccluster044.iccluster.epfl.ch:8088/proxy/application_1589299642358_2252/\">Link</a></td><td><a target=\"_blank\" href=\"http://iccluster070.iccluster.epfl.ch:8042/node/containerlogs/container_e06_1589299642358_2252_01_000001/ebouille\">Link</a></td><td></td></tr><tr><td>7759</td><td>application_1589299642358_2255</td><td>pyspark</td><td>busy</td><td><a target=\"_blank\" href=\"http://iccluster044.iccluster.epfl.ch:8088/proxy/application_1589299642358_2255/\">Link</a></td><td><a target=\"_blank\" href=\"http://iccluster065.iccluster.epfl.ch:8042/node/containerlogs/container_e06_1589299642358_2255_01_000001/ebouille\">Link</a></td><td></td></tr><tr><td>7760</td><td>application_1589299642358_2256</td><td>pyspark</td><td>idle</td><td><a target=\"_blank\" href=\"http://iccluster044.iccluster.epfl.ch:8088/proxy/application_1589299642358_2256/\">Link</a></td><td><a target=\"_blank\" href=\"http://iccluster072.iccluster.epfl.ch:8042/node/containerlogs/container_e06_1589299642358_2256_01_000001/ebouille\">Link</a></td><td></td></tr><tr><td>7761</td><td>application_1589299642358_2257</td><td>pyspark</td><td>idle</td><td><a target=\"_blank\" href=\"http://iccluster044.iccluster.epfl.ch:8088/proxy/application_1589299642358_2257/\">Link</a></td><td><a target=\"_blank\" href=\"http://iccluster068.iccluster.epfl.ch:8042/node/containerlogs/container_e06_1589299642358_2257_01_000001/ebouille\">Link</a></td><td></td></tr><tr><td>7762</td><td>application_1589299642358_2258</td><td>pyspark</td><td>idle</td><td><a target=\"_blank\" href=\"http://iccluster044.iccluster.epfl.ch:8088/proxy/application_1589299642358_2258/\">Link</a></td><td><a target=\"_blank\" href=\"http://iccluster066.iccluster.epfl.ch:8042/node/containerlogs/container_e06_1589299642358_2258_01_000001/ebouille\">Link</a></td><td></td></tr><tr><td>7764</td><td>application_1589299642358_2260</td><td>pyspark</td><td>idle</td><td><a target=\"_blank\" href=\"http://iccluster044.iccluster.epfl.ch:8088/proxy/application_1589299642358_2260/\">Link</a></td><td><a target=\"_blank\" href=\"http://iccluster065.iccluster.epfl.ch:8042/node/containerlogs/container_e06_1589299642358_2260_01_000001/ebouille\">Link</a></td><td></td></tr><tr><td>7767</td><td>application_1589299642358_2263</td><td>pyspark</td><td>idle</td><td><a target=\"_blank\" href=\"http://iccluster044.iccluster.epfl.ch:8088/proxy/application_1589299642358_2263/\">Link</a></td><td><a target=\"_blank\" href=\"http://iccluster067.iccluster.epfl.ch:8042/node/containerlogs/container_e06_1589299642358_2263_01_000001/ebouille\">Link</a></td><td></td></tr><tr><td>7768</td><td>application_1589299642358_2264</td><td>pyspark</td><td>idle</td><td><a target=\"_blank\" href=\"http://iccluster044.iccluster.epfl.ch:8088/proxy/application_1589299642358_2264/\">Link</a></td><td><a target=\"_blank\" href=\"http://iccluster067.iccluster.epfl.ch:8042/node/containerlogs/container_e06_1589299642358_2264_01_000001/ebouille\">Link</a></td><td></td></tr><tr><td>7770</td><td>application_1589299642358_2266</td><td>pyspark</td><td>idle</td><td><a target=\"_blank\" href=\"http://iccluster044.iccluster.epfl.ch:8088/proxy/application_1589299642358_2266/\">Link</a></td><td><a target=\"_blank\" href=\"http://iccluster071.iccluster.epfl.ch:8042/node/containerlogs/container_e06_1589299642358_2266_01_000001/ebouille\">Link</a></td><td></td></tr><tr><td>7772</td><td>application_1589299642358_2268</td><td>pyspark</td><td>idle</td><td><a target=\"_blank\" href=\"http://iccluster044.iccluster.epfl.ch:8088/proxy/application_1589299642358_2268/\">Link</a></td><td><a target=\"_blank\" href=\"http://iccluster067.iccluster.epfl.ch:8042/node/containerlogs/container_e06_1589299642358_2268_01_000001/ebouille\">Link</a></td><td></td></tr><tr><td>7773</td><td>application_1589299642358_2269</td><td>pyspark</td><td>idle</td><td><a target=\"_blank\" href=\"http://iccluster044.iccluster.epfl.ch:8088/proxy/application_1589299642358_2269/\">Link</a></td><td><a target=\"_blank\" href=\"http://iccluster071.iccluster.epfl.ch:8042/node/containerlogs/container_e06_1589299642358_2269_01_000001/ebouille\">Link</a></td><td></td></tr><tr><td>7774</td><td>application_1589299642358_2270</td><td>pyspark</td><td>idle</td><td><a target=\"_blank\" href=\"http://iccluster044.iccluster.epfl.ch:8088/proxy/application_1589299642358_2270/\">Link</a></td><td><a target=\"_blank\" href=\"http://iccluster070.iccluster.epfl.ch:8042/node/containerlogs/container_e06_1589299642358_2270_01_000001/ebouille\">Link</a></td><td></td></tr><tr><td>7775</td><td>application_1589299642358_2272</td><td>pyspark</td><td>idle</td><td><a target=\"_blank\" href=\"http://iccluster044.iccluster.epfl.ch:8088/proxy/application_1589299642358_2272/\">Link</a></td><td><a target=\"_blank\" href=\"http://iccluster071.iccluster.epfl.ch:8042/node/containerlogs/container_e06_1589299642358_2272_01_000001/ebouille\">Link</a></td><td></td></tr><tr><td>7776</td><td>application_1589299642358_2273</td><td>pyspark</td><td>idle</td><td><a target=\"_blank\" href=\"http://iccluster044.iccluster.epfl.ch:8088/proxy/application_1589299642358_2273/\">Link</a></td><td><a target=\"_blank\" href=\"http://iccluster069.iccluster.epfl.ch:8042/node/containerlogs/container_e06_1589299642358_2273_01_000001/ebouille\">Link</a></td><td></td></tr><tr><td>7777</td><td>application_1589299642358_2274</td><td>pyspark</td><td>idle</td><td><a target=\"_blank\" href=\"http://iccluster044.iccluster.epfl.ch:8088/proxy/application_1589299642358_2274/\">Link</a></td><td><a target=\"_blank\" href=\"http://iccluster072.iccluster.epfl.ch:8042/node/containerlogs/container_e06_1589299642358_2274_01_000001/ebouille\">Link</a></td><td></td></tr><tr><td>7778</td><td>application_1589299642358_2275</td><td>pyspark</td><td>busy</td><td><a target=\"_blank\" href=\"http://iccluster044.iccluster.epfl.ch:8088/proxy/application_1589299642358_2275/\">Link</a></td><td><a target=\"_blank\" href=\"http://iccluster072.iccluster.epfl.ch:8042/node/containerlogs/container_e06_1589299642358_2275_01_000001/ebouille\">Link</a></td><td></td></tr><tr><td>7779</td><td>application_1589299642358_2276</td><td>pyspark</td><td>idle</td><td><a target=\"_blank\" href=\"http://iccluster044.iccluster.epfl.ch:8088/proxy/application_1589299642358_2276/\">Link</a></td><td><a target=\"_blank\" href=\"http://iccluster068.iccluster.epfl.ch:8042/node/containerlogs/container_e06_1589299642358_2276_01_000001/ebouille\">Link</a></td><td></td></tr><tr><td>7780</td><td>application_1589299642358_2277</td><td>pyspark</td><td>idle</td><td><a target=\"_blank\" href=\"http://iccluster044.iccluster.epfl.ch:8088/proxy/application_1589299642358_2277/\">Link</a></td><td><a target=\"_blank\" href=\"http://iccluster068.iccluster.epfl.ch:8042/node/containerlogs/container_e06_1589299642358_2277_01_000001/ebouille\">Link</a></td><td></td></tr><tr><td>7781</td><td>application_1589299642358_2278</td><td>pyspark</td><td>idle</td><td><a target=\"_blank\" href=\"http://iccluster044.iccluster.epfl.ch:8088/proxy/application_1589299642358_2278/\">Link</a></td><td><a target=\"_blank\" href=\"http://iccluster070.iccluster.epfl.ch:8042/node/containerlogs/container_e06_1589299642358_2278_01_000001/ebouille\">Link</a></td><td></td></tr><tr><td>7782</td><td>application_1589299642358_2279</td><td>pyspark</td><td>idle</td><td><a target=\"_blank\" href=\"http://iccluster044.iccluster.epfl.ch:8088/proxy/application_1589299642358_2279/\">Link</a></td><td><a target=\"_blank\" href=\"http://iccluster065.iccluster.epfl.ch:8042/node/containerlogs/container_e06_1589299642358_2279_01_000001/ebouille\">Link</a></td><td></td></tr><tr><td>7783</td><td>application_1589299642358_2280</td><td>pyspark</td><td>idle</td><td><a target=\"_blank\" href=\"http://iccluster044.iccluster.epfl.ch:8088/proxy/application_1589299642358_2280/\">Link</a></td><td><a target=\"_blank\" href=\"http://iccluster066.iccluster.epfl.ch:8042/node/containerlogs/container_e06_1589299642358_2280_01_000001/ebouille\">Link</a></td><td>✔</td></tr></table>"
      ],
      "text/plain": [
       "<IPython.core.display.HTML object>"
      ]
     },
     "metadata": {},
     "output_type": "display_data"
    }
   ],
   "source": [
    "%%info"
   ]
  },
  {
   "cell_type": "code",
   "execution_count": 3,
   "metadata": {},
   "outputs": [
    {
     "data": {
      "application/vnd.jupyter.widget-view+json": {
       "model_id": "",
       "version_major": 2,
       "version_minor": 0
      },
      "text/plain": [
       "FloatProgress(value=0.0, bar_style='info', description='Progress:', layout=Layout(height='25px', width='50%'),…"
      ]
     },
     "metadata": {},
     "output_type": "display_data"
    }
   ],
   "source": [
    "spark.catalog.clearCache()"
   ]
  },
  {
   "cell_type": "markdown",
   "metadata": {},
   "source": [
    "### Compute probabilities and average delays using all possible data"
   ]
  },
  {
   "cell_type": "code",
   "execution_count": 77,
   "metadata": {},
   "outputs": [
    {
     "data": {
      "application/vnd.jupyter.widget-view+json": {
       "model_id": "",
       "version_major": 2,
       "version_minor": 0
      },
      "text/plain": [
       "FloatProgress(value=0.0, bar_style='info', description='Progress:', layout=Layout(height='25px', width='50%'),…"
      ]
     },
     "metadata": {},
     "output_type": "display_data"
    }
   ],
   "source": [
    "# Load SBB data only for stations within 15 km of Zurich\n",
    "#ids_stations = spark.read.csv('../data/zurich_stations_ids.csv')\n",
    "#sbb_zurich = sbb.join(ids_stations,sbb['BPUIC']==ids_stations['_c0']).drop(\"_c0\")\n",
    "\n",
    "sbb = spark.read.orc('/data/sbb/orc/istdaten')\n",
    "sample = sbb.where(F.col('FAHRT_BEZEICHNER')=='85:3849:140841-04004-1')\\\n",
    "            #.where((F.col('BETRIEBSTAG')=='07.07.2018') | (F.col('BETRIEBSTAG')=='03.03.2018') | (F.col('BETRIEBSTAG')=='28.04.2018') | (F.col('BETRIEBSTAG')=='17.11.2018'))"
   ]
  },
  {
   "cell_type": "code",
   "execution_count": 78,
   "metadata": {},
   "outputs": [
    {
     "data": {
      "application/vnd.jupyter.widget-view+json": {
       "model_id": "",
       "version_major": 2,
       "version_minor": 0
      },
      "text/plain": [
       "FloatProgress(value=0.0, bar_style='info', description='Progress:', layout=Layout(height='25px', width='50%'),…"
      ]
     },
     "metadata": {},
     "output_type": "display_data"
    }
   ],
   "source": [
    "simple_df = (\n",
    "    sample\n",
    "    .select('ankunftszeit','an_prognose','abfahrtszeit','BETRIEBSTAG','FAHRT_BEZEICHNER','LINIEN_ID','PRODUKT_ID','BPUIC','HALTESTELLEN_NAME')\n",
    "    .toDF('Arrival_Time','Arrival_Real','Departure_Time','Day','Trip_ID','Line_ID', 'Type','Station_ID', 'Station_Name')\n",
    "    .dropDuplicates()\n",
    "    .withColumn('arrival', F.unix_timestamp(F.col('Arrival_Time'), \"dd.MM.yyyy HH:mm\").cast('long'))\n",
    "    .withColumn('real_arrival', F.unix_timestamp(F.col('Arrival_Real'), \"dd.MM.yyyy HH:mm:ss\").cast(\"long\"))\n",
    "    .withColumn('Arrival_Delay',F.col('real_arrival')-F.col('arrival')).drop('arrival','real_arrival')\n",
    ")"
   ]
  },
  {
   "cell_type": "code",
   "execution_count": 79,
   "metadata": {},
   "outputs": [
    {
     "data": {
      "application/vnd.jupyter.widget-view+json": {
       "model_id": "",
       "version_major": 2,
       "version_minor": 0
      },
      "text/plain": [
       "FloatProgress(value=0.0, bar_style='info', description='Progress:', layout=Layout(height='25px', width='50%'),…"
      ]
     },
     "metadata": {},
     "output_type": "display_data"
    }
   ],
   "source": [
    "# Get a simpler dataframe with delays for each trip and without duplicated rows\n",
    "# Solve null values: Remove columns with more than two null-values\n",
    "# and Copy \"Arrival_Time\" value if \"Departure_Time\" is null and viceversa\n",
    "\n",
    "delays_df = (\n",
    "    simple_df \n",
    "    .withColumn('Arrival_null', F.when(F.col('Arrival_Time') == '', None).otherwise(F.col('Arrival_Time')))\n",
    "    .withColumn('Departure_null', F.when(F.col('Departure_Time') == '', None).otherwise(F.col('Departure_Time')))\n",
    "    .drop('Arrival_Time','Departure_Time')\n",
    "    .dropna(thresh=1,subset=('Arrival_null','Departure_null'))\n",
    "    .withColumn(\"Departure\",F.coalesce(F.col('Arrival_null'),F.col('Departure_null')))\\\n",
    "    .withColumn(\"Arrival\", F.coalesce(F.col('Departure_null'),F.col('Arrival_null')))\\\n",
    "    .drop('Arrival_null','Departure_null')\n",
    "    .orderBy('Trip_ID','Day','Arrival','Departure')\n",
    "\n",
    ")"
   ]
  },
  {
   "cell_type": "code",
   "execution_count": 80,
   "metadata": {},
   "outputs": [
    {
     "data": {
      "application/vnd.jupyter.widget-view+json": {
       "model_id": "",
       "version_major": 2,
       "version_minor": 0
      },
      "text/plain": [
       "FloatProgress(value=0.0, bar_style='info', description='Progress:', layout=Layout(height='25px', width='50%'),…"
      ]
     },
     "metadata": {},
     "output_type": "display_data"
    },
    {
     "name": "stdout",
     "output_type": "stream",
     "text": [
      "+-------------------+----------+--------------------+-----------+----+----------+--------------------+-------------+----------------+----------------+\n",
      "|       Arrival_Real|       Day|             Trip_ID|    Line_ID|Type|Station_ID|        Station_Name|Arrival_Delay|       Departure|         Arrival|\n",
      "+-------------------+----------+--------------------+-----------+----+----------+--------------------+-------------+----------------+----------------+\n",
      "|                   |01.09.2018|85:3849:140841-04...|85:3849:004|Tram|   8576182|Zürich, Bahnhof T...|         null|01.09.2018 11:47|01.09.2018 11:47|\n",
      "|01.09.2018 11:49:05|01.09.2018|85:3849:140841-04...|85:3849:004|Tram|   8576200|Zürich, Wildbachs...|           65|01.09.2018 11:48|01.09.2018 11:48|\n",
      "|01.09.2018 11:49:59|01.09.2018|85:3849:140841-04...|85:3849:004|Tram|   8576199|Zürich, Fröhlichs...|           59|01.09.2018 11:49|01.09.2018 11:49|\n",
      "|01.09.2018 11:51:11|01.09.2018|85:3849:140841-04...|85:3849:004|Tram|   8576198|  Zürich, Höschgasse|           71|01.09.2018 11:50|01.09.2018 11:50|\n",
      "|01.09.2018 11:52:11|01.09.2018|85:3849:140841-04...|85:3849:004|Tram|   8576197|Zürich, Feldeggst...|           71|01.09.2018 11:51|01.09.2018 11:51|\n",
      "|01.09.2018 11:53:17|01.09.2018|85:3849:140841-04...|85:3849:004|Tram|   8576196|Zürich, Kreuzstrasse|           77|01.09.2018 11:52|01.09.2018 11:53|\n",
      "|01.09.2018 11:55:18|01.09.2018|85:3849:140841-04...|85:3849:004|Tram|   8576195|   Zürich, Opernhaus|           78|01.09.2018 11:54|01.09.2018 11:54|\n",
      "|01.09.2018 11:57:06|01.09.2018|85:3849:140841-04...|85:3849:004|Tram|   8576193|    Zürich, Bellevue|          126|01.09.2018 11:55|01.09.2018 11:56|\n",
      "|01.09.2018 11:58:48|01.09.2018|85:3849:140841-04...|85:3849:004|Tram|   8591183|    Zürich, Helmhaus|          108|01.09.2018 11:57|01.09.2018 11:58|\n",
      "|01.09.2018 11:59:54|01.09.2018|85:3849:140841-04...|85:3849:004|Tram|   8591309|     Zürich, Rathaus|          114|01.09.2018 11:58|01.09.2018 11:59|\n",
      "|01.09.2018 12:00:54|01.09.2018|85:3849:140841-04...|85:3849:004|Tram|   8591327|Zürich, Rudolf-Br...|          114|01.09.2018 11:59|01.09.2018 12:00|\n",
      "|01.09.2018 12:02:42|01.09.2018|85:3849:140841-04...|85:3849:004|Tram|   8588078|     Zürich, Central|          102|01.09.2018 12:01|01.09.2018 12:01|\n",
      "|01.09.2018 12:05:06|01.09.2018|85:3849:140841-04...|85:3849:004|Tram|   8587349|Zürich, Bahnhofqu...|          126|01.09.2018 12:03|01.09.2018 12:03|\n",
      "|01.09.2018 12:07:12|01.09.2018|85:3849:140841-04...|85:3849:004|Tram|   8591368| Zürich, Sihlquai/HB|          132|01.09.2018 12:05|01.09.2018 12:06|\n",
      "|01.09.2018 12:08:36|01.09.2018|85:3849:140841-04...|85:3849:004|Tram|   8591282|Zürich, Museum fü...|           96|01.09.2018 12:07|01.09.2018 12:07|\n",
      "|01.09.2018 12:09:42|01.09.2018|85:3849:140841-04...|85:3849:004|Tram|   8591257| Zürich, Limmatplatz|          102|01.09.2018 12:08|01.09.2018 12:08|\n",
      "|01.09.2018 12:10:54|01.09.2018|85:3849:140841-04...|85:3849:004|Tram|   8591306|Zürich, Quellenst...|          114|01.09.2018 12:09|01.09.2018 12:09|\n",
      "|01.09.2018 12:11:48|01.09.2018|85:3849:140841-04...|85:3849:004|Tram|   8591110|     Zürich, Dammweg|          108|01.09.2018 12:10|01.09.2018 12:10|\n",
      "|01.09.2018 12:12:48|01.09.2018|85:3849:140841-04...|85:3849:004|Tram|   8580522|Zürich, Escher-Wy...|          108|01.09.2018 12:11|01.09.2018 12:11|\n",
      "|01.09.2018 12:14:36|01.09.2018|85:3849:140841-04...|85:3849:004|Tram|   8594239|   Zürich, Schiffbau|           96|01.09.2018 12:13|01.09.2018 12:13|\n",
      "|01.09.2018 12:15:54|01.09.2018|85:3849:140841-04...|85:3849:004|Tram|   8591391|  Zürich, Technopark|          114|01.09.2018 12:14|01.09.2018 12:14|\n",
      "|01.09.2018 12:16:54|01.09.2018|85:3849:140841-04...|85:3849:004|Tram|   8591398|  Zürich, Toni-Areal|          114|01.09.2018 12:15|01.09.2018 12:15|\n",
      "|01.09.2018 12:17:54|01.09.2018|85:3849:140841-04...|85:3849:004|Tram|   8591374|    Zürich, Sportweg|          114|01.09.2018 12:16|01.09.2018 12:16|\n",
      "|01.09.2018 12:18:17|01.09.2018|85:3849:140841-04...|85:3849:004|Tram|   8591033|Zürich, Aargauers...|           77|01.09.2018 12:17|01.09.2018 12:17|\n",
      "|01.09.2018 12:19:29|01.09.2018|85:3849:140841-04...|85:3849:004|Tram|   8591896|  Zürich, Würzgraben|           89|01.09.2018 12:18|01.09.2018 12:18|\n",
      "|01.09.2018 12:20:32|01.09.2018|85:3849:140841-04...|85:3849:004|Tram|   8591057|Zürich, Bahnhof A...|           32|01.09.2018 12:20|01.09.2018 12:20|\n",
      "|                   |01.12.2018|85:3849:140841-04...|85:3849:004|Tram|   8576182|Zürich, Bahnhof T...|         null|01.12.2018 11:47|01.12.2018 11:47|\n",
      "|01.12.2018 11:48:30|01.12.2018|85:3849:140841-04...|85:3849:004|Tram|   8576200|Zürich, Wildbachs...|           30|01.12.2018 11:48|01.12.2018 11:48|\n",
      "|01.12.2018 11:49:24|01.12.2018|85:3849:140841-04...|85:3849:004|Tram|   8576199|Zürich, Fröhlichs...|           24|01.12.2018 11:49|01.12.2018 11:49|\n",
      "|01.12.2018 11:50:36|01.12.2018|85:3849:140841-04...|85:3849:004|Tram|   8576198|  Zürich, Höschgasse|           36|01.12.2018 11:50|01.12.2018 11:50|\n",
      "|01.12.2018 11:51:36|01.12.2018|85:3849:140841-04...|85:3849:004|Tram|   8576197|Zürich, Feldeggst...|           36|01.12.2018 11:51|01.12.2018 11:51|\n",
      "|01.12.2018 11:52:42|01.12.2018|85:3849:140841-04...|85:3849:004|Tram|   8576196|Zürich, Kreuzstrasse|           42|01.12.2018 11:52|01.12.2018 11:53|\n",
      "|01.12.2018 11:54:06|01.12.2018|85:3849:140841-04...|85:3849:004|Tram|   8576195|   Zürich, Opernhaus|            6|01.12.2018 11:54|01.12.2018 11:54|\n",
      "|01.12.2018 11:56:23|01.12.2018|85:3849:140841-04...|85:3849:004|Tram|   8576193|    Zürich, Bellevue|           83|01.12.2018 11:55|01.12.2018 11:56|\n",
      "|01.12.2018 11:58:22|01.12.2018|85:3849:140841-04...|85:3849:004|Tram|   8591183|    Zürich, Helmhaus|           82|01.12.2018 11:57|01.12.2018 11:58|\n",
      "|01.12.2018 11:59:28|01.12.2018|85:3849:140841-04...|85:3849:004|Tram|   8591309|     Zürich, Rathaus|           88|01.12.2018 11:58|01.12.2018 11:59|\n",
      "|01.12.2018 12:00:28|01.12.2018|85:3849:140841-04...|85:3849:004|Tram|   8591327|Zürich, Rudolf-Br...|           88|01.12.2018 11:59|01.12.2018 12:00|\n",
      "|01.12.2018 12:01:52|01.12.2018|85:3849:140841-04...|85:3849:004|Tram|   8588078|     Zürich, Central|           52|01.12.2018 12:01|01.12.2018 12:01|\n",
      "|01.12.2018 12:04:04|01.12.2018|85:3849:140841-04...|85:3849:004|Tram|   8587349|Zürich, Bahnhofqu...|           64|01.12.2018 12:03|01.12.2018 12:03|\n",
      "|01.12.2018 12:06:46|01.12.2018|85:3849:140841-04...|85:3849:004|Tram|   8591368| Zürich, Sihlquai/HB|          106|01.12.2018 12:05|01.12.2018 12:06|\n",
      "|01.12.2018 12:07:28|01.12.2018|85:3849:140841-04...|85:3849:004|Tram|   8591282|Zürich, Museum fü...|           28|01.12.2018 12:07|01.12.2018 12:07|\n",
      "|01.12.2018 12:08:34|01.12.2018|85:3849:140841-04...|85:3849:004|Tram|   8591257| Zürich, Limmatplatz|           34|01.12.2018 12:08|01.12.2018 12:08|\n",
      "|01.12.2018 12:09:46|01.12.2018|85:3849:140841-04...|85:3849:004|Tram|   8591306|Zürich, Quellenst...|           46|01.12.2018 12:09|01.12.2018 12:09|\n",
      "|01.12.2018 12:10:40|01.12.2018|85:3849:140841-04...|85:3849:004|Tram|   8591110|     Zürich, Dammweg|           40|01.12.2018 12:10|01.12.2018 12:10|\n",
      "|01.12.2018 12:11:40|01.12.2018|85:3849:140841-04...|85:3849:004|Tram|   8580522|Zürich, Escher-Wy...|           40|01.12.2018 12:11|01.12.2018 12:11|\n",
      "|01.12.2018 12:13:28|01.12.2018|85:3849:140841-04...|85:3849:004|Tram|   8594239|   Zürich, Schiffbau|           28|01.12.2018 12:13|01.12.2018 12:13|\n",
      "|01.12.2018 12:14:46|01.12.2018|85:3849:140841-04...|85:3849:004|Tram|   8591391|  Zürich, Technopark|           46|01.12.2018 12:14|01.12.2018 12:14|\n",
      "|01.12.2018 12:15:46|01.12.2018|85:3849:140841-04...|85:3849:004|Tram|   8591398|  Zürich, Toni-Areal|           46|01.12.2018 12:15|01.12.2018 12:15|\n",
      "|01.12.2018 12:16:46|01.12.2018|85:3849:140841-04...|85:3849:004|Tram|   8591374|    Zürich, Sportweg|           46|01.12.2018 12:16|01.12.2018 12:16|\n",
      "|01.12.2018 12:17:40|01.12.2018|85:3849:140841-04...|85:3849:004|Tram|   8591033|Zürich, Aargauers...|           40|01.12.2018 12:17|01.12.2018 12:17|\n",
      "+-------------------+----------+--------------------+-----------+----+----------+--------------------+-------------+----------------+----------------+\n",
      "only showing top 50 rows"
     ]
    }
   ],
   "source": [
    "delays_df.show(50)"
   ]
  },
  {
   "cell_type": "code",
   "execution_count": 91,
   "metadata": {},
   "outputs": [
    {
     "data": {
      "application/vnd.jupyter.widget-view+json": {
       "model_id": "",
       "version_major": 2,
       "version_minor": 0
      },
      "text/plain": [
       "FloatProgress(value=0.0, bar_style='info', description='Progress:', layout=Layout(height='25px', width='50%'),…"
      ]
     },
     "metadata": {},
     "output_type": "display_data"
    },
    {
     "name": "stdout",
     "output_type": "stream",
     "text": [
      "+-------------------+----------+--------------------+-----------+----+----------+--------------------+-------------+----------------+----------------+\n",
      "|       Arrival_Real|       Day|             Trip_ID|    Line_ID|Type|Station_ID|        Station_Name|Arrival_Delay|       Departure|         Arrival|\n",
      "+-------------------+----------+--------------------+-----------+----+----------+--------------------+-------------+----------------+----------------+\n",
      "|07.07.2018 11:55:12|07.07.2018|85:3849:140841-04...|85:3849:004|Tram|   8576199|Zürich, Fröhlichs...|           12|07.07.2018 11:55|07.07.2018 11:55|\n",
      "|07.07.2018 11:55:12|07.07.2018|85:3849:140841-04...|85:3849:004|Tram|   8576195|   Zürich, Opernhaus|           12|07.07.2018 11:55|07.07.2018 11:55|\n",
      "|07.07.2018 11:55:12|07.07.2018|85:3849:140841-04...|85:3849:004|Tram|   8576196|Zürich, Kreuzstrasse|           12|07.07.2018 11:55|07.07.2018 11:55|\n",
      "|07.07.2018 11:55:12|07.07.2018|85:3849:140841-04...|85:3849:004|Tram|   8576198|  Zürich, Höschgasse|           12|07.07.2018 11:55|07.07.2018 11:55|\n",
      "|                   |07.07.2018|85:3849:140841-04...|85:3849:004|Tram|   8503059|Zürich, Bahnhof S...|         null|07.07.2018 11:55|07.07.2018 11:55|\n",
      "|07.07.2018 11:55:12|07.07.2018|85:3849:140841-04...|85:3849:004|Tram|   8576197|Zürich, Feldeggst...|           12|07.07.2018 11:55|07.07.2018 11:55|\n",
      "|07.07.2018 11:55:12|07.07.2018|85:3849:140841-04...|85:3849:004|Tram|   8576200|Zürich, Wildbachs...|           12|07.07.2018 11:55|07.07.2018 11:55|\n",
      "|23.06.2018 11:59:53|23.06.2018|85:3849:140841-04...|85:3849:004|Tram|   8576193|    Zürich, Bellevue|          293|23.06.2018 11:55|23.06.2018 11:55|\n",
      "|23.06.2018 12:02:16|23.06.2018|85:3849:140841-04...|85:3849:004|Tram|   8591239|   Zürich, Kunsthaus|          436|23.06.2018 11:55|23.06.2018 11:55|\n",
      "+-------------------+----------+--------------------+-----------+----+----------+--------------------+-------------+----------------+----------------+"
     ]
    }
   ],
   "source": [
    "delays_df.where(delays_df.Arrival.substr(12,5)=='11:55').show()"
   ]
  },
  {
   "cell_type": "code",
   "execution_count": 17,
   "metadata": {},
   "outputs": [
    {
     "data": {
      "application/vnd.jupyter.widget-view+json": {
       "model_id": "",
       "version_major": 2,
       "version_minor": 0
      },
      "text/plain": [
       "FloatProgress(value=0.0, bar_style='info', description='Progress:', layout=Layout(height='25px', width='50%'),…"
      ]
     },
     "metadata": {},
     "output_type": "display_data"
    }
   ],
   "source": [
    "# Remove rows corresponding to trips appearing only once on the dataframe\n",
    "# These removable trips actually come from / go to stations outside Zurich\n",
    "ids_counts = simple_df.groupBy('Trip_ID','Day').count()\n",
    "ids_trips = ids_counts.where(ids_counts['count']>1).select('Trip_ID').distinct()\n",
    "df = delays_df.join(ids_trips, \"Trip_ID\").orderBy('Trip_ID','Arrival','Departure')"
   ]
  },
  {
   "cell_type": "code",
   "execution_count": 81,
   "metadata": {},
   "outputs": [
    {
     "data": {
      "application/vnd.jupyter.widget-view+json": {
       "model_id": "",
       "version_major": 2,
       "version_minor": 0
      },
      "text/plain": [
       "FloatProgress(value=0.0, bar_style='info', description='Progress:', layout=Layout(height='25px', width='50%'),…"
      ]
     },
     "metadata": {},
     "output_type": "display_data"
    },
    {
     "name": "stdout",
     "output_type": "stream",
     "text": [
      "+--------------------+--------------------+-------------------+----------+-----------+----+----------+----------------+----------------+-----+-------+------------------+-----------------+\n",
      "|             Trip_ID|        Station_Name|       Arrival_Real|       Day|    Line_ID|Type|Station_ID|       Departure|         Arrival|Total|Delayed|       Probability|       Mean_Delay|\n",
      "+--------------------+--------------------+-------------------+----------+-----------+----+----------+----------------+----------------+-----+-------+------------------+-----------------+\n",
      "|85:3849:140841-04...|Zürich, Bahnhof T...|                   |01.09.2018|85:3849:004|Tram|   8576182|01.09.2018 11:47|01.09.2018 11:47|   45|      0|               0.0|              0.0|\n",
      "|85:3849:140841-04...|Zürich, Wildbachs...|01.09.2018 11:49:05|01.09.2018|85:3849:004|Tram|   8576200|01.09.2018 11:48|01.09.2018 11:48|   45|     44|0.9777777777777777|46.56818181818182|\n",
      "|85:3849:140841-04...|Zürich, Fröhlichs...|01.09.2018 11:49:59|01.09.2018|85:3849:004|Tram|   8576199|01.09.2018 11:49|01.09.2018 11:49|   45|     44|0.9777777777777777|41.84090909090909|\n",
      "|85:3849:140841-04...|Zürich, Feldeggst...|01.09.2018 11:52:11|01.09.2018|85:3849:004|Tram|   8576197|01.09.2018 11:51|01.09.2018 11:51|   45|     43|0.9555555555555556|52.41860465116279|\n",
      "|85:3849:140841-04...|    Zürich, Helmhaus|01.09.2018 11:58:48|01.09.2018|85:3849:004|Tram|   8591183|01.09.2018 11:57|01.09.2018 11:58|   44|     41|0.9318181818181818| 80.8780487804878|\n",
      "|85:3849:140841-04...|Zürich, Rudolf-Br...|01.09.2018 12:00:54|01.09.2018|85:3849:004|Tram|   8591327|01.09.2018 11:59|01.09.2018 12:00|   44|     41|0.9318181818181818|85.60975609756098|\n",
      "|85:3849:140841-04...|     Zürich, Central|01.09.2018 12:02:42|01.09.2018|85:3849:004|Tram|   8588078|01.09.2018 12:01|01.09.2018 12:01|   45|     36|               0.8|69.80555555555556|\n",
      "|85:3849:140841-04...|Zürich, Museum fü...|01.09.2018 12:08:36|01.09.2018|85:3849:004|Tram|   8591282|01.09.2018 12:07|01.09.2018 12:07|   44|     28|0.6363636363636364|            54.25|\n",
      "|85:3849:140841-04...| Zürich, Limmatplatz|01.09.2018 12:09:42|01.09.2018|85:3849:004|Tram|   8591257|01.09.2018 12:08|01.09.2018 12:08|   44|     30|0.6818181818181818|             53.7|\n",
      "|85:3849:140841-04...|   Zürich, Schiffbau|01.09.2018 12:14:36|01.09.2018|85:3849:004|Tram|   8594239|01.09.2018 12:13|01.09.2018 12:13|   44|     27|0.6136363636363636|64.14814814814815|\n",
      "|85:3849:140841-04...|  Zürich, Toni-Areal|01.09.2018 12:16:54|01.09.2018|85:3849:004|Tram|   8591398|01.09.2018 12:15|01.09.2018 12:15|   44|     37|0.8409090909090909|64.43243243243244|\n",
      "|85:3849:140841-04...|    Zürich, Sportweg|01.09.2018 12:17:54|01.09.2018|85:3849:004|Tram|   8591374|01.09.2018 12:16|01.09.2018 12:16|   44|     37|0.8409090909090909|76.21621621621621|\n",
      "|85:3849:140841-04...|  Zürich, Würzgraben|01.09.2018 12:19:29|01.09.2018|85:3849:004|Tram|   8591896|01.09.2018 12:18|01.09.2018 12:18|   44|     39|0.8863636363636364|78.71794871794872|\n",
      "|85:3849:140841-04...|  Zürich, Höschgasse|01.12.2018 11:50:36|01.12.2018|85:3849:004|Tram|   8576198|01.12.2018 11:50|01.12.2018 11:50|   45|     44|0.9777777777777777|55.84090909090909|\n",
      "|85:3849:140841-04...|   Zürich, Opernhaus|01.12.2018 11:54:06|01.12.2018|85:3849:004|Tram|   8576195|01.12.2018 11:54|01.12.2018 11:54|   45|     39|0.8666666666666667|39.82051282051282|\n",
      "|85:3849:140841-04...|    Zürich, Bellevue|01.12.2018 11:56:23|01.12.2018|85:3849:004|Tram|   8576193|01.12.2018 11:55|01.12.2018 11:56|   45|     44|0.9777777777777777|95.18181818181819|\n",
      "|85:3849:140841-04...|Zürich, Quellenst...|01.12.2018 12:09:46|01.12.2018|85:3849:004|Tram|   8591306|01.12.2018 12:09|01.12.2018 12:09|   44|     33|              0.75|57.18181818181818|\n",
      "|85:3849:140841-04...|     Zürich, Dammweg|01.12.2018 12:10:40|01.12.2018|85:3849:004|Tram|   8591110|01.12.2018 12:10|01.12.2018 12:10|   44|     32|0.7272727272727273|         66.28125|\n",
      "|85:3849:140841-04...|Zürich, Escher-Wy...|01.12.2018 12:11:40|01.12.2018|85:3849:004|Tram|   8580522|01.12.2018 12:11|01.12.2018 12:11|   44|     31|0.7045454545454546|53.12903225806452|\n",
      "|85:3849:140841-04...|  Zürich, Technopark|01.12.2018 12:14:46|01.12.2018|85:3849:004|Tram|   8591391|01.12.2018 12:14|01.12.2018 12:14|   44|     38|0.8636363636363636|             62.5|\n",
      "+--------------------+--------------------+-------------------+----------+-----------+----+----------+----------------+----------------+-----+-------+------------------+-----------------+\n",
      "only showing top 20 rows"
     ]
    }
   ],
   "source": [
    "#Compute total number of connections (trip and station)\n",
    "df = delays_df.fillna(0)\n",
    "\n",
    "df_total_trips = df.groupBy('Trip_ID','Station_Name')\\\n",
    "                   .count().toDF('Trip_ID','Station_Name','Total')\n",
    "\n",
    "#Compute number of delayed connections (trip and station)\n",
    "df_delayed_trips = df.where(df['Arrival_Delay']>0).groupBy('Trip_ID','Station_Name')\\\n",
    "                    .count().toDF('Trip_ID','Station_Name','Delayed')\n",
    "\n",
    "#Compute average delay for every connection (trip and station)\n",
    "df_mean_delays = df.where(df['Arrival_Delay']>0).groupBy('Trip_ID','Station_Name')\\\n",
    "                .agg(F.mean('Arrival_Delay').alias(\"Mean_Delay\"))\n",
    "\n",
    "# Join dataframes\n",
    "df_prob = df_total_trips.join(df_delayed_trips, on = ['Trip_ID','Station_Name'],how='left')\\\n",
    "            .withColumn(\"Probability\", F.col(\"Delayed\")/F.col(\"Total\"))\n",
    "\n",
    "df_prob_and_delays = df_prob.join(df_mean_delays, on = ['Trip_ID','Station_Name'],how='left')\n",
    "\n",
    "df_final = df.join(df_prob_and_delays,on =['Trip_ID','Station_Name'],how='left').drop('Arrival_Delay')\\\n",
    "            .orderBy('Trip_ID','Day','Arrival').dropDuplicates(['Station_Name','Trip_ID','Mean_Delay'])\\\n",
    "            .orderBy('Trip_ID','Day','Arrival').fillna(0).cache()\n",
    "df_final.show()\n",
    "#better.stop_id.substr(0, 7)"
   ]
  },
  {
   "cell_type": "code",
   "execution_count": 82,
   "metadata": {},
   "outputs": [
    {
     "data": {
      "application/vnd.jupyter.widget-view+json": {
       "model_id": "",
       "version_major": 2,
       "version_minor": 0
      },
      "text/plain": [
       "FloatProgress(value=0.0, bar_style='info', description='Progress:', layout=Layout(height='25px', width='50%'),…"
      ]
     },
     "metadata": {},
     "output_type": "display_data"
    },
    {
     "name": "stdout",
     "output_type": "stream",
     "text": [
      "+--------------------+--------------------+-------------------+----------+-----------+----+----------+----------------+----------------+-----+-------+-----------+----------+\n",
      "|             Trip_ID|        Station_Name|       Arrival_Real|       Day|    Line_ID|Type|Station_ID|       Departure|         Arrival|Total|Delayed|Probability|Mean_Delay|\n",
      "+--------------------+--------------------+-------------------+----------+-----------+----+----------+----------------+----------------+-----+-------+-----------+----------+\n",
      "|85:3849:140841-04...|Zürich, Bahnhof S...|                   |07.07.2018|85:3849:004|Tram|   8503059|07.07.2018 11:55|07.07.2018 11:55|    1|      0|        0.0|       0.0|\n",
      "|85:3849:140841-04...|   Zürich, Kunsthaus|23.06.2018 12:02:16|23.06.2018|85:3849:004|Tram|   8591239|23.06.2018 11:55|23.06.2018 11:55|    2|      1|        0.5|     436.0|\n",
      "+--------------------+--------------------+-------------------+----------+-----------+----+----------+----------------+----------------+-----+-------+-----------+----------+"
     ]
    }
   ],
   "source": [
    "df_final.where(df_final.Arrival.substr(12,5)=='11:55').show()"
   ]
  },
  {
   "cell_type": "code",
   "execution_count": 86,
   "metadata": {},
   "outputs": [
    {
     "data": {
      "application/vnd.jupyter.widget-view+json": {
       "model_id": "",
       "version_major": 2,
       "version_minor": 0
      },
      "text/plain": [
       "FloatProgress(value=0.0, bar_style='info', description='Progress:', layout=Layout(height='25px', width='50%'),…"
      ]
     },
     "metadata": {},
     "output_type": "display_data"
    }
   ],
   "source": [
    "from pyspark.sql import Window\n",
    "trip_window = Window.partitionBy('trip_id').orderBy(F.asc('Arrival'))\n",
    "trip_rank = F.rank().over(trip_window).alias('stop')\n",
    "df = df_final.select('*', trip_rank).alias('begin').orderBy('Trip_ID','Arrival')\n",
    "to_station = df.drop('Departure').withColumn('stop', df.stop -1).alias('to_station')\n",
    "from_station = df.select('stop','Trip_ID','Station_ID','Departure').join(to_station, on=['stop','Trip_ID']).orderBy('Trip_ID','stop').drop('Day','Line_ID','Station_Name')\n",
    "#connections = from_station.toDF(\"Stop_sequence\",\"Trip_ID\",\"Start_Time\",\"Start_Station\",\n",
    "                                #\"Stop_Time\",\"Stop_Station\",\"Probability_Delay\",\"Mean_Delay\")"
   ]
  },
  {
   "cell_type": "code",
   "execution_count": 87,
   "metadata": {},
   "outputs": [
    {
     "data": {
      "application/vnd.jupyter.widget-view+json": {
       "model_id": "",
       "version_major": 2,
       "version_minor": 0
      },
      "text/plain": [
       "FloatProgress(value=0.0, bar_style='info', description='Progress:', layout=Layout(height='25px', width='50%'),…"
      ]
     },
     "metadata": {},
     "output_type": "display_data"
    },
    {
     "name": "stdout",
     "output_type": "stream",
     "text": [
      "+----+--------------------+----------+----------------+-------------------+----+----------+----------------+-----+-------+------------------+-----------------+\n",
      "|stop|             Trip_ID|Station_ID|       Departure|       Arrival_Real|Type|Station_ID|         Arrival|Total|Delayed|       Probability|       Mean_Delay|\n",
      "+----+--------------------+----------+----------------+-------------------+----+----------+----------------+-----+-------+------------------+-----------------+\n",
      "|   1|85:3849:140841-04...|   8576182|01.09.2018 11:47|01.09.2018 11:49:05|Tram|   8576200|01.09.2018 11:48|   45|     44|0.9777777777777777|46.56818181818182|\n",
      "|   2|85:3849:140841-04...|   8576200|01.09.2018 11:48|01.09.2018 11:49:59|Tram|   8576199|01.09.2018 11:49|   45|     44|0.9777777777777777|41.84090909090909|\n",
      "|   3|85:3849:140841-04...|   8576199|01.09.2018 11:49|01.09.2018 11:52:11|Tram|   8576197|01.09.2018 11:51|   45|     43|0.9555555555555556|52.41860465116279|\n",
      "|   4|85:3849:140841-04...|   8576197|01.09.2018 11:51|01.09.2018 11:58:48|Tram|   8591183|01.09.2018 11:58|   44|     41|0.9318181818181818| 80.8780487804878|\n",
      "|   5|85:3849:140841-04...|   8591183|01.09.2018 11:57|01.09.2018 12:00:54|Tram|   8591327|01.09.2018 12:00|   44|     41|0.9318181818181818|85.60975609756098|\n",
      "|   6|85:3849:140841-04...|   8591327|01.09.2018 11:59|01.09.2018 12:02:42|Tram|   8588078|01.09.2018 12:01|   45|     36|               0.8|69.80555555555556|\n",
      "|   7|85:3849:140841-04...|   8588078|01.09.2018 12:01|01.09.2018 12:08:36|Tram|   8591282|01.09.2018 12:07|   44|     28|0.6363636363636364|            54.25|\n",
      "|   8|85:3849:140841-04...|   8591282|01.09.2018 12:07|01.09.2018 12:09:42|Tram|   8591257|01.09.2018 12:08|   44|     30|0.6818181818181818|             53.7|\n",
      "|   9|85:3849:140841-04...|   8591257|01.09.2018 12:08|01.09.2018 12:14:36|Tram|   8594239|01.09.2018 12:13|   44|     27|0.6136363636363636|64.14814814814815|\n",
      "|  10|85:3849:140841-04...|   8594239|01.09.2018 12:13|01.09.2018 12:16:54|Tram|   8591398|01.09.2018 12:15|   44|     37|0.8409090909090909|64.43243243243244|\n",
      "|  11|85:3849:140841-04...|   8591398|01.09.2018 12:15|01.09.2018 12:17:54|Tram|   8591374|01.09.2018 12:16|   44|     37|0.8409090909090909|76.21621621621621|\n",
      "|  12|85:3849:140841-04...|   8591374|01.09.2018 12:16|01.09.2018 12:19:29|Tram|   8591896|01.09.2018 12:18|   44|     39|0.8863636363636364|78.71794871794872|\n",
      "|  13|85:3849:140841-04...|   8591896|01.09.2018 12:18|01.12.2018 11:50:36|Tram|   8576198|01.12.2018 11:50|   45|     44|0.9777777777777777|55.84090909090909|\n",
      "|  14|85:3849:140841-04...|   8576198|01.12.2018 11:50|01.12.2018 11:54:06|Tram|   8576195|01.12.2018 11:54|   45|     39|0.8666666666666667|39.82051282051282|\n",
      "|  15|85:3849:140841-04...|   8576195|01.12.2018 11:54|01.12.2018 11:56:23|Tram|   8576193|01.12.2018 11:56|   45|     44|0.9777777777777777|95.18181818181819|\n",
      "|  16|85:3849:140841-04...|   8576193|01.12.2018 11:55|01.12.2018 12:09:46|Tram|   8591306|01.12.2018 12:09|   44|     33|              0.75|57.18181818181818|\n",
      "|  17|85:3849:140841-04...|   8591306|01.12.2018 12:09|01.12.2018 12:10:40|Tram|   8591110|01.12.2018 12:10|   44|     32|0.7272727272727273|         66.28125|\n",
      "|  18|85:3849:140841-04...|   8591110|01.12.2018 12:10|01.12.2018 12:11:40|Tram|   8580522|01.12.2018 12:11|   44|     31|0.7045454545454546|53.12903225806452|\n",
      "|  19|85:3849:140841-04...|   8580522|01.12.2018 12:11|01.12.2018 12:14:46|Tram|   8591391|01.12.2018 12:14|   44|     38|0.8636363636363636|             62.5|\n",
      "|  20|85:3849:140841-04...|   8591391|01.12.2018 12:14|03.02.2018 12:07:04|Tram|   8591368|03.02.2018 12:06|   44|     40|0.9090909090909091|            73.25|\n",
      "+----+--------------------+----------+----------------+-------------------+----+----------+----------------+-----+-------+------------------+-----------------+\n",
      "only showing top 20 rows"
     ]
    }
   ],
   "source": [
    "from_station.show()"
   ]
  },
  {
   "cell_type": "code",
   "execution_count": 89,
   "metadata": {},
   "outputs": [
    {
     "data": {
      "application/vnd.jupyter.widget-view+json": {
       "model_id": "",
       "version_major": 2,
       "version_minor": 0
      },
      "text/plain": [
       "FloatProgress(value=0.0, bar_style='info', description='Progress:', layout=Layout(height='25px', width='50%'),…"
      ]
     },
     "metadata": {},
     "output_type": "display_data"
    },
    {
     "name": "stdout",
     "output_type": "stream",
     "text": [
      "+----+--------------------+----------+----------------+-------------------+----+----------+----------------+-----+-------+-----------+----------+\n",
      "|stop|             Trip_ID|Station_ID|       Departure|       Arrival_Real|Type|Station_ID|         Arrival|Total|Delayed|Probability|Mean_Delay|\n",
      "+----+--------------------+----------+----------------+-------------------+----+----------+----------------+-----+-------+-----------+----------+\n",
      "|  26|85:3849:140841-04...|   8591309|03.11.2018 11:58|                   |Tram|   8503059|07.07.2018 11:55|    1|      0|        0.0|       0.0|\n",
      "|  27|85:3849:140841-04...|   8503059|07.07.2018 11:55|23.06.2018 12:02:16|Tram|   8591239|23.06.2018 11:55|    2|      1|        0.5|     436.0|\n",
      "+----+--------------------+----------+----------------+-------------------+----+----------+----------------+-----+-------+-----------+----------+"
     ]
    }
   ],
   "source": [
    "from_station.where(from_station.Arrival.substr(12,5)=='11:55').show()"
   ]
  },
  {
   "cell_type": "markdown",
   "metadata": {},
   "source": [
    "### Create final dataframe showing delay probabilities for each connection (in a normal workday)"
   ]
  },
  {
   "cell_type": "code",
   "execution_count": 92,
   "metadata": {},
   "outputs": [
    {
     "data": {
      "application/vnd.jupyter.widget-view+json": {
       "model_id": "",
       "version_major": 2,
       "version_minor": 0
      },
      "text/plain": [
       "FloatProgress(value=0.0, bar_style='info', description='Progress:', layout=Layout(height='25px', width='50%'),…"
      ]
     },
     "metadata": {},
     "output_type": "display_data"
    }
   ],
   "source": [
    "#Filter data to trips happening only a single working day between 5h and 21h \n",
    "#df_day =df_final.where(F.col('Day')=='15.05.2019') \n",
    "df_min_hour = df_final.where(F.hour(F.unix_timestamp(F.col('Arrival'), \"dd.MM.yyyy HH:mm\").cast('timestamp'))>=5) \n",
    "df_max_hour = df_min_hour.where(F.hour(F.unix_timestamp(F.col('Departure'), \"dd.MM.yyyy HH:mm\").cast('timestamp'))<=20)"
   ]
  },
  {
   "cell_type": "code",
   "execution_count": 93,
   "metadata": {},
   "outputs": [
    {
     "data": {
      "application/vnd.jupyter.widget-view+json": {
       "model_id": "",
       "version_major": 2,
       "version_minor": 0
      },
      "text/plain": [
       "FloatProgress(value=0.0, bar_style='info', description='Progress:', layout=Layout(height='25px', width='50%'),…"
      ]
     },
     "metadata": {},
     "output_type": "display_data"
    }
   ],
   "source": [
    "# Rank stops by departure_time for every trip and day \n",
    "from pyspark.sql import Window\n",
    "trip_window = Window.partitionBy('Trip_ID','Day').orderBy(F.asc('Departure'))\n",
    "trip_rank = F.rank().over(trip_window).alias('stop')\n",
    "begin = df_max_hour.select('*', trip_rank).alias('begin').orderBy('Trip_ID','Arrival','Departure').fillna(0)"
   ]
  },
  {
   "cell_type": "code",
   "execution_count": 94,
   "metadata": {},
   "outputs": [
    {
     "data": {
      "application/vnd.jupyter.widget-view+json": {
       "model_id": "",
       "version_major": 2,
       "version_minor": 0
      },
      "text/plain": [
       "FloatProgress(value=0.0, bar_style='info', description='Progress:', layout=Layout(height='25px', width='50%'),…"
      ]
     },
     "metadata": {},
     "output_type": "display_data"
    },
    {
     "name": "stdout",
     "output_type": "stream",
     "text": [
      "+---------------+--------------------+-------------------+----------+-------+----+----------+----------------+----------------+-----+-------+-----------+----------+----+\n",
      "|        Trip_ID|        Station_Name|       Arrival_Real|       Day|Line_ID|Type|Station_ID|       Departure|         Arrival|Total|Delayed|Probability|Mean_Delay|stop|\n",
      "+---------------+--------------------+-------------------+----------+-------+----+----------+----------------+----------------+-----+-------+-----------+----------+----+\n",
      "|85:11:17215:001|             Muttenz|13.05.2019 05:04:55|13.05.2019|  17215| Zug|   8500020|13.05.2019 05:03|13.05.2019 05:03|    4|      4|        1.0|     79.25|   1|\n",
      "|85:11:17215:001|            Pratteln|13.05.2019 05:08:38|13.05.2019|  17215| Zug|   8500021|13.05.2019 05:07|13.05.2019 05:07|    4|      4|        1.0|     88.75|   2|\n",
      "|85:11:17215:001|Pratteln Salina R...|13.05.2019 05:10:39|13.05.2019|  17215| Zug|   8517131|13.05.2019 05:09|13.05.2019 05:09|    4|      4|        1.0|      96.0|   3|\n",
      "|85:11:17215:001|         Kaiseraugst|13.05.2019 05:12:52|13.05.2019|  17215| Zug|   8500300|13.05.2019 05:12|13.05.2019 05:12|    4|      4|        1.0|     44.25|   4|\n",
      "|85:11:17215:001|Rheinfelden Augarten|13.05.2019 05:15:46|13.05.2019|  17215| Zug|   8500313|13.05.2019 05:15|13.05.2019 05:15|    4|      4|        1.0|     42.75|   5|\n",
      "|85:11:17215:001|         Rheinfelden|13.05.2019 05:18:09|13.05.2019|  17215| Zug|   8500301|13.05.2019 05:18|13.05.2019 05:18|    4|      2|        0.5|      30.5|   6|\n",
      "|85:11:17215:001|              Möhlin|13.05.2019 05:21:17|13.05.2019|  17215| Zug|   8500302|13.05.2019 05:21|13.05.2019 05:21|    4|      2|        0.5|      36.0|   7|\n",
      "|85:11:17215:001|               Mumpf|13.05.2019 05:26:04|13.05.2019|  17215| Zug|   8500303|13.05.2019 05:25|13.05.2019 05:25|    4|      4|        1.0|     50.25|   8|\n",
      "|85:11:17215:001|     Stein-Säckingen|13.05.2019 05:29:30|13.05.2019|  17215| Zug|   8500320|13.05.2019 05:30|13.05.2019 05:30|    4|      0|        0.0|       0.0|   9|\n",
      "|85:11:17215:001|          Laufenburg|13.05.2019 05:37:22|13.05.2019|  17215| Zug|   8500322|13.05.2019 05:38|13.05.2019 05:38|    4|      0|        0.0|       0.0|  10|\n",
      "+---------------+--------------------+-------------------+----------+-------+----+----------+----------------+----------------+-----+-------+-----------+----------+----+"
     ]
    }
   ],
   "source": [
    "begin.show()"
   ]
  },
  {
   "cell_type": "code",
   "execution_count": 24,
   "metadata": {},
   "outputs": [
    {
     "data": {
      "application/vnd.jupyter.widget-view+json": {
       "model_id": "",
       "version_major": 2,
       "version_minor": 0
      },
      "text/plain": [
       "FloatProgress(value=0.0, bar_style='info', description='Progress:', layout=Layout(height='25px', width='50%'),…"
      ]
     },
     "metadata": {},
     "output_type": "display_data"
    }
   ],
   "source": [
    "# Create dataframe for every connection \n",
    "end = begin.drop('Departure').withColumn('stop', begin.stop -1).alias('end')\n",
    "data = begin.drop('Arrival','Mean_Delay','Probability').join(end, on=['stop','Day','Trip_ID','Type','Line_ID'])\\\n",
    "            .orderBy('Trip_ID','Arrival','Departure').drop('stop')\\\n",
    "            .toDF('Day','Trip_ID','Type','Line_ID','Start_Station','Start_ID','Start_Time',\n",
    "                  'Stop_Station','Stop_ID','Stop_Time','Propability','Mean_Delay')\\\n",
    "            "
   ]
  },
  {
   "cell_type": "code",
   "execution_count": 25,
   "metadata": {},
   "outputs": [
    {
     "data": {
      "application/vnd.jupyter.widget-view+json": {
       "model_id": "",
       "version_major": 2,
       "version_minor": 0
      },
      "text/plain": [
       "FloatProgress(value=0.0, bar_style='info', description='Progress:', layout=Layout(height='25px', width='50%'),…"
      ]
     },
     "metadata": {},
     "output_type": "display_data"
    },
    {
     "name": "stdout",
     "output_type": "stream",
     "text": [
      "root\n",
      " |-- Day: string (nullable = true)\n",
      " |-- Trip_ID: string (nullable = true)\n",
      " |-- Type: string (nullable = true)\n",
      " |-- Line_ID: string (nullable = true)\n",
      " |-- Start_Station: string (nullable = true)\n",
      " |-- Start_ID: string (nullable = true)\n",
      " |-- Start_Time: string (nullable = true)\n",
      " |-- Stop_Station: string (nullable = true)\n",
      " |-- Stop_ID: string (nullable = true)\n",
      " |-- Stop_Time: string (nullable = true)\n",
      " |-- Propability: double (nullable = false)\n",
      " |-- Mean_Delay: double (nullable = false)"
     ]
    }
   ],
   "source": [
    "data.printSchema()"
   ]
  },
  {
   "cell_type": "markdown",
   "metadata": {},
   "source": [
    "### Save final dataframe in CSV file"
   ]
  },
  {
   "cell_type": "code",
   "execution_count": null,
   "metadata": {},
   "outputs": [],
   "source": [
    "%%spark -o df_stations -n -1"
   ]
  },
  {
   "cell_type": "code",
   "execution_count": 18,
   "metadata": {},
   "outputs": [],
   "source": [
    "%%local\n",
    "data.to_csv(\"../data/Zurich_TransportConnections_WORKINGDAY.csv\", index=False)"
   ]
  },
  {
   "cell_type": "markdown",
   "metadata": {},
   "source": [
    "### Use stop-times table (for what?)"
   ]
  },
  {
   "cell_type": "code",
   "execution_count": null,
   "metadata": {},
   "outputs": [],
   "source": [
    "#trips_df = spark.read.orc(\"hdfs:///data/sbb/timetables/orc/trips\")\n",
    "#calendar_df = spark.read.orc(\"hdfs:///data/sbb/timetables/orc/calendar\")\n",
    "#routes_df = spark.read.orc(\"hdfs:///data/sbb/timetables/orc/routes\")\n",
    "stop_times_df = spark.read.orc(\"hdfs:///data/sbb/timetables/orc/stop_times\")\n",
    "stop_times_df.show(5)"
   ]
  },
  {
   "cell_type": "code",
   "execution_count": null,
   "metadata": {},
   "outputs": [],
   "source": [
    "relevant_times = stop_times_df.join(ids,stop_times_df['stop_id']==ids['_c0'])\\\n",
    "                .select(\"stop_sequence\",\"stop_id\",\"arrival_time\",\"departure_time\")\\\n",
    "                .orderBy('stop_id','arrival_time','departure_time','stop_sequence').dropDuplicates()\n",
    "relevant_times.show(5)"
   ]
  }
 ],
 "metadata": {
  "kernelspec": {
   "display_name": "PySpark",
   "language": "",
   "name": "pysparkkernel"
  },
  "language_info": {
   "codemirror_mode": {
    "name": "python",
    "version": 3
   },
   "mimetype": "text/x-python",
   "name": "pyspark",
   "pygments_lexer": "python3"
  }
 },
 "nbformat": 4,
 "nbformat_minor": 4
}
