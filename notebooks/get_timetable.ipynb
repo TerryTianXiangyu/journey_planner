{
 "cells": [
  {
   "cell_type": "code",
   "execution_count": 1,
   "metadata": {},
   "outputs": [
    {
     "data": {
      "text/html": [
       "Current session configs: <tt>{'conf': {'spark.app.name': 'datavirus_final'}, 'kind': 'pyspark'}</tt><br>"
      ],
      "text/plain": [
       "<IPython.core.display.HTML object>"
      ]
     },
     "metadata": {},
     "output_type": "display_data"
    },
    {
     "data": {
      "text/html": [
       "<table>\n",
       "<tr><th>ID</th><th>YARN Application ID</th><th>Kind</th><th>State</th><th>Spark UI</th><th>Driver log</th><th>Current session?</th></tr><tr><td>7611</td><td>application_1589299642358_2106</td><td>pyspark</td><td>idle</td><td><a target=\"_blank\" href=\"http://iccluster044.iccluster.epfl.ch:8088/proxy/application_1589299642358_2106/\">Link</a></td><td><a target=\"_blank\" href=\"http://iccluster067.iccluster.epfl.ch:8042/node/containerlogs/container_e06_1589299642358_2106_01_000001/ebouille\">Link</a></td><td></td></tr><tr><td>7632</td><td>application_1589299642358_2126</td><td>pyspark</td><td>idle</td><td><a target=\"_blank\" href=\"http://iccluster044.iccluster.epfl.ch:8088/proxy/application_1589299642358_2126/\">Link</a></td><td><a target=\"_blank\" href=\"http://iccluster072.iccluster.epfl.ch:8042/node/containerlogs/container_e06_1589299642358_2126_01_000001/ebouille\">Link</a></td><td></td></tr><tr><td>7633</td><td>application_1589299642358_2127</td><td>pyspark</td><td>idle</td><td><a target=\"_blank\" href=\"http://iccluster044.iccluster.epfl.ch:8088/proxy/application_1589299642358_2127/\">Link</a></td><td><a target=\"_blank\" href=\"http://iccluster068.iccluster.epfl.ch:8042/node/containerlogs/container_e06_1589299642358_2127_01_000001/ebouille\">Link</a></td><td></td></tr><tr><td>7644</td><td>application_1589299642358_2140</td><td>pyspark</td><td>idle</td><td><a target=\"_blank\" href=\"http://iccluster044.iccluster.epfl.ch:8088/proxy/application_1589299642358_2140/\">Link</a></td><td><a target=\"_blank\" href=\"http://iccluster066.iccluster.epfl.ch:8042/node/containerlogs/container_e06_1589299642358_2140_01_000001/ebouille\">Link</a></td><td></td></tr><tr><td>7670</td><td>application_1589299642358_2166</td><td>pyspark</td><td>busy</td><td><a target=\"_blank\" href=\"http://iccluster044.iccluster.epfl.ch:8088/proxy/application_1589299642358_2166/\">Link</a></td><td><a target=\"_blank\" href=\"http://iccluster069.iccluster.epfl.ch:8042/node/containerlogs/container_e06_1589299642358_2166_01_000001/ebouille\">Link</a></td><td></td></tr><tr><td>7674</td><td>application_1589299642358_2170</td><td>pyspark</td><td>idle</td><td><a target=\"_blank\" href=\"http://iccluster044.iccluster.epfl.ch:8088/proxy/application_1589299642358_2170/\">Link</a></td><td><a target=\"_blank\" href=\"http://iccluster066.iccluster.epfl.ch:8042/node/containerlogs/container_e06_1589299642358_2170_01_000001/ebouille\">Link</a></td><td></td></tr><tr><td>7676</td><td>application_1589299642358_2172</td><td>pyspark</td><td>busy</td><td><a target=\"_blank\" href=\"http://iccluster044.iccluster.epfl.ch:8088/proxy/application_1589299642358_2172/\">Link</a></td><td><a target=\"_blank\" href=\"http://iccluster069.iccluster.epfl.ch:8042/node/containerlogs/container_e06_1589299642358_2172_01_000001/ebouille\">Link</a></td><td></td></tr><tr><td>7677</td><td>application_1589299642358_2173</td><td>pyspark</td><td>busy</td><td><a target=\"_blank\" href=\"http://iccluster044.iccluster.epfl.ch:8088/proxy/application_1589299642358_2173/\">Link</a></td><td><a target=\"_blank\" href=\"http://iccluster070.iccluster.epfl.ch:8042/node/containerlogs/container_e06_1589299642358_2173_01_000001/ebouille\">Link</a></td><td></td></tr><tr><td>7681</td><td>application_1589299642358_2177</td><td>pyspark</td><td>idle</td><td><a target=\"_blank\" href=\"http://iccluster044.iccluster.epfl.ch:8088/proxy/application_1589299642358_2177/\">Link</a></td><td><a target=\"_blank\" href=\"http://iccluster071.iccluster.epfl.ch:8042/node/containerlogs/container_e06_1589299642358_2177_01_000001/ebouille\">Link</a></td><td></td></tr><tr><td>7683</td><td>application_1589299642358_2179</td><td>pyspark</td><td>idle</td><td><a target=\"_blank\" href=\"http://iccluster044.iccluster.epfl.ch:8088/proxy/application_1589299642358_2179/\">Link</a></td><td><a target=\"_blank\" href=\"http://iccluster065.iccluster.epfl.ch:8042/node/containerlogs/container_e06_1589299642358_2179_01_000001/ebouille\">Link</a></td><td></td></tr><tr><td>7684</td><td>application_1589299642358_2180</td><td>pyspark</td><td>idle</td><td><a target=\"_blank\" href=\"http://iccluster044.iccluster.epfl.ch:8088/proxy/application_1589299642358_2180/\">Link</a></td><td><a target=\"_blank\" href=\"http://iccluster072.iccluster.epfl.ch:8042/node/containerlogs/container_e06_1589299642358_2180_01_000001/ebouille\">Link</a></td><td></td></tr><tr><td>7685</td><td>application_1589299642358_2181</td><td>pyspark</td><td>idle</td><td><a target=\"_blank\" href=\"http://iccluster044.iccluster.epfl.ch:8088/proxy/application_1589299642358_2181/\">Link</a></td><td><a target=\"_blank\" href=\"http://iccluster069.iccluster.epfl.ch:8042/node/containerlogs/container_e06_1589299642358_2181_01_000001/ebouille\">Link</a></td><td></td></tr><tr><td>7686</td><td>application_1589299642358_2182</td><td>pyspark</td><td>idle</td><td><a target=\"_blank\" href=\"http://iccluster044.iccluster.epfl.ch:8088/proxy/application_1589299642358_2182/\">Link</a></td><td><a target=\"_blank\" href=\"http://iccluster070.iccluster.epfl.ch:8042/node/containerlogs/container_e06_1589299642358_2182_01_000001/ebouille\">Link</a></td><td></td></tr><tr><td>7687</td><td>application_1589299642358_2183</td><td>pyspark</td><td>idle</td><td><a target=\"_blank\" href=\"http://iccluster044.iccluster.epfl.ch:8088/proxy/application_1589299642358_2183/\">Link</a></td><td><a target=\"_blank\" href=\"http://iccluster070.iccluster.epfl.ch:8042/node/containerlogs/container_e06_1589299642358_2183_01_000001/ebouille\">Link</a></td><td></td></tr><tr><td>7689</td><td>application_1589299642358_2185</td><td>pyspark</td><td>idle</td><td><a target=\"_blank\" href=\"http://iccluster044.iccluster.epfl.ch:8088/proxy/application_1589299642358_2185/\">Link</a></td><td><a target=\"_blank\" href=\"http://iccluster071.iccluster.epfl.ch:8042/node/containerlogs/container_e06_1589299642358_2185_01_000001/ebouille\">Link</a></td><td></td></tr><tr><td>7690</td><td>application_1589299642358_2186</td><td>pyspark</td><td>idle</td><td><a target=\"_blank\" href=\"http://iccluster044.iccluster.epfl.ch:8088/proxy/application_1589299642358_2186/\">Link</a></td><td><a target=\"_blank\" href=\"http://iccluster065.iccluster.epfl.ch:8042/node/containerlogs/container_e06_1589299642358_2186_01_000001/ebouille\">Link</a></td><td></td></tr><tr><td>7691</td><td>application_1589299642358_2187</td><td>pyspark</td><td>idle</td><td><a target=\"_blank\" href=\"http://iccluster044.iccluster.epfl.ch:8088/proxy/application_1589299642358_2187/\">Link</a></td><td><a target=\"_blank\" href=\"http://iccluster066.iccluster.epfl.ch:8042/node/containerlogs/container_e06_1589299642358_2187_01_000001/ebouille\">Link</a></td><td></td></tr><tr><td>7692</td><td>application_1589299642358_2188</td><td>pyspark</td><td>idle</td><td><a target=\"_blank\" href=\"http://iccluster044.iccluster.epfl.ch:8088/proxy/application_1589299642358_2188/\">Link</a></td><td><a target=\"_blank\" href=\"http://iccluster072.iccluster.epfl.ch:8042/node/containerlogs/container_e06_1589299642358_2188_01_000001/ebouille\">Link</a></td><td></td></tr><tr><td>7693</td><td>application_1589299642358_2189</td><td>pyspark</td><td>busy</td><td><a target=\"_blank\" href=\"http://iccluster044.iccluster.epfl.ch:8088/proxy/application_1589299642358_2189/\">Link</a></td><td><a target=\"_blank\" href=\"http://iccluster067.iccluster.epfl.ch:8042/node/containerlogs/container_e06_1589299642358_2189_01_000001/ebouille\">Link</a></td><td></td></tr><tr><td>7694</td><td>application_1589299642358_2190</td><td>pyspark</td><td>idle</td><td><a target=\"_blank\" href=\"http://iccluster044.iccluster.epfl.ch:8088/proxy/application_1589299642358_2190/\">Link</a></td><td><a target=\"_blank\" href=\"http://iccluster065.iccluster.epfl.ch:8042/node/containerlogs/container_e06_1589299642358_2190_01_000001/ebouille\">Link</a></td><td></td></tr><tr><td>7696</td><td>application_1589299642358_2192</td><td>pyspark</td><td>idle</td><td><a target=\"_blank\" href=\"http://iccluster044.iccluster.epfl.ch:8088/proxy/application_1589299642358_2192/\">Link</a></td><td><a target=\"_blank\" href=\"http://iccluster069.iccluster.epfl.ch:8042/node/containerlogs/container_e06_1589299642358_2192_01_000001/ebouille\">Link</a></td><td></td></tr><tr><td>7697</td><td>application_1589299642358_2193</td><td>pyspark</td><td>idle</td><td><a target=\"_blank\" href=\"http://iccluster044.iccluster.epfl.ch:8088/proxy/application_1589299642358_2193/\">Link</a></td><td><a target=\"_blank\" href=\"http://iccluster065.iccluster.epfl.ch:8042/node/containerlogs/container_e06_1589299642358_2193_01_000001/ebouille\">Link</a></td><td></td></tr><tr><td>7698</td><td>application_1589299642358_2194</td><td>pyspark</td><td>idle</td><td><a target=\"_blank\" href=\"http://iccluster044.iccluster.epfl.ch:8088/proxy/application_1589299642358_2194/\">Link</a></td><td><a target=\"_blank\" href=\"http://iccluster071.iccluster.epfl.ch:8042/node/containerlogs/container_e06_1589299642358_2194_01_000001/ebouille\">Link</a></td><td></td></tr><tr><td>7699</td><td>application_1589299642358_2195</td><td>pyspark</td><td>busy</td><td><a target=\"_blank\" href=\"http://iccluster044.iccluster.epfl.ch:8088/proxy/application_1589299642358_2195/\">Link</a></td><td><a target=\"_blank\" href=\"http://iccluster068.iccluster.epfl.ch:8042/node/containerlogs/container_e06_1589299642358_2195_01_000001/ebouille\">Link</a></td><td></td></tr><tr><td>7700</td><td>application_1589299642358_2196</td><td>pyspark</td><td>busy</td><td><a target=\"_blank\" href=\"http://iccluster044.iccluster.epfl.ch:8088/proxy/application_1589299642358_2196/\">Link</a></td><td><a target=\"_blank\" href=\"http://iccluster072.iccluster.epfl.ch:8042/node/containerlogs/container_e06_1589299642358_2196_01_000001/ebouille\">Link</a></td><td></td></tr></table>"
      ],
      "text/plain": [
       "<IPython.core.display.HTML object>"
      ]
     },
     "metadata": {},
     "output_type": "display_data"
    }
   ],
   "source": [
    "%%configure -f\n",
    "{\n",
    "    \"conf\": {\n",
    "        \"spark.app.name\": \"datavirus_final\"\n",
    "    }\n",
    "}"
   ]
  },
  {
   "cell_type": "code",
   "execution_count": 2,
   "metadata": {},
   "outputs": [
    {
     "name": "stdout",
     "output_type": "stream",
     "text": [
      "Starting Spark application\n"
     ]
    },
    {
     "data": {
      "text/html": [
       "<table>\n",
       "<tr><th>ID</th><th>YARN Application ID</th><th>Kind</th><th>State</th><th>Spark UI</th><th>Driver log</th><th>Current session?</th></tr><tr><td>7701</td><td>application_1589299642358_2197</td><td>pyspark</td><td>idle</td><td><a target=\"_blank\" href=\"http://iccluster044.iccluster.epfl.ch:8088/proxy/application_1589299642358_2197/\">Link</a></td><td><a target=\"_blank\" href=\"http://iccluster070.iccluster.epfl.ch:8042/node/containerlogs/container_e06_1589299642358_2197_01_000001/ebouille\">Link</a></td><td>✔</td></tr></table>"
      ],
      "text/plain": [
       "<IPython.core.display.HTML object>"
      ]
     },
     "metadata": {},
     "output_type": "display_data"
    },
    {
     "data": {
      "application/vnd.jupyter.widget-view+json": {
       "model_id": "",
       "version_major": 2,
       "version_minor": 0
      },
      "text/plain": [
       "FloatProgress(value=0.0, bar_style='info', description='Progress:', layout=Layout(height='25px', width='50%'),…"
      ]
     },
     "metadata": {},
     "output_type": "display_data"
    },
    {
     "name": "stdout",
     "output_type": "stream",
     "text": [
      "SparkSession available as 'spark'.\n"
     ]
    },
    {
     "data": {
      "application/vnd.jupyter.widget-view+json": {
       "model_id": "",
       "version_major": 2,
       "version_minor": 0
      },
      "text/plain": [
       "FloatProgress(value=0.0, bar_style='info', description='Progress:', layout=Layout(height='25px', width='50%'),…"
      ]
     },
     "metadata": {},
     "output_type": "display_data"
    },
    {
     "name": "stdout",
     "output_type": "stream",
     "text": [
      "<pyspark.sql.session.SparkSession object at 0x7f3b845616d0>"
     ]
    }
   ],
   "source": [
    "spark"
   ]
  },
  {
   "cell_type": "code",
   "execution_count": 6,
   "metadata": {},
   "outputs": [
    {
     "data": {
      "application/vnd.jupyter.widget-view+json": {
       "model_id": "",
       "version_major": 2,
       "version_minor": 0
      },
      "text/plain": [
       "FloatProgress(value=0.0, bar_style='info', description='Progress:', layout=Layout(height='25px', width='50%'),…"
      ]
     },
     "metadata": {},
     "output_type": "display_data"
    }
   ],
   "source": [
    "import pyspark.sql.functions as F"
   ]
  },
  {
   "cell_type": "code",
   "execution_count": 3,
   "metadata": {},
   "outputs": [
    {
     "data": {
      "application/vnd.jupyter.widget-view+json": {
       "model_id": "",
       "version_major": 2,
       "version_minor": 0
      },
      "text/plain": [
       "FloatProgress(value=0.0, bar_style='info', description='Progress:', layout=Layout(height='25px', width='50%'),…"
      ]
     },
     "metadata": {},
     "output_type": "display_data"
    }
   ],
   "source": [
    "timetable = spark.read.orc(\"/user/gflueck/timetable_zurich.orc\")"
   ]
  },
  {
   "cell_type": "code",
   "execution_count": 4,
   "metadata": {},
   "outputs": [
    {
     "data": {
      "application/vnd.jupyter.widget-view+json": {
       "model_id": "",
       "version_major": 2,
       "version_minor": 0
      },
      "text/plain": [
       "FloatProgress(value=0.0, bar_style='info', description='Progress:', layout=Layout(height='25px', width='50%'),…"
      ]
     },
     "metadata": {},
     "output_type": "display_data"
    },
    {
     "name": "stdout",
     "output_type": "stream",
     "text": [
      "+--------------------+------------+--------------+-------+-------------+\n",
      "|             trip_id|arrival_time|departure_time|stop_id|stop_sequence|\n",
      "+--------------------+------------+--------------+-------+-------------+\n",
      "|3.TA.26-453-j19-1...|    16:34:00|      16:34:00|8576279|            5|\n",
      "|3.TA.26-453-j19-1...|    16:36:00|      16:36:00|8576280|            6|\n",
      "|3.TA.26-453-j19-1...|    16:38:00|      16:38:00|8590878|            7|\n",
      "|3.TA.26-454-j19-1...|    18:21:00|      18:21:00|8595714|            1|\n",
      "|3.TA.26-454-j19-1...|    18:23:00|      18:23:00|8590758|            2|\n",
      "+--------------------+------------+--------------+-------+-------------+\n",
      "only showing top 5 rows"
     ]
    }
   ],
   "source": [
    "timetable.show(5)"
   ]
  },
  {
   "cell_type": "code",
   "execution_count": 7,
   "metadata": {},
   "outputs": [
    {
     "data": {
      "application/vnd.jupyter.widget-view+json": {
       "model_id": "",
       "version_major": 2,
       "version_minor": 0
      },
      "text/plain": [
       "FloatProgress(value=0.0, bar_style='info', description='Progress:', layout=Layout(height='25px', width='50%'),…"
      ]
     },
     "metadata": {},
     "output_type": "display_data"
    }
   ],
   "source": [
    "from pyspark.sql import Window\n",
    "trip_window = Window.partitionBy('trip_id').orderBy(F.asc('arrival_time'))\n",
    "trip_rank = F.rank().over(trip_window).alias('new_stop')\n",
    "begin =timetable.select('*', trip_rank).alias('begin').orderBy('trip_id','arrival_time').fillna(0)"
   ]
  },
  {
   "cell_type": "code",
   "execution_count": 8,
   "metadata": {},
   "outputs": [
    {
     "data": {
      "application/vnd.jupyter.widget-view+json": {
       "model_id": "",
       "version_major": 2,
       "version_minor": 0
      },
      "text/plain": [
       "FloatProgress(value=0.0, bar_style='info', description='Progress:', layout=Layout(height='25px', width='50%'),…"
      ]
     },
     "metadata": {},
     "output_type": "display_data"
    },
    {
     "name": "stdout",
     "output_type": "stream",
     "text": [
      "+--------------------+------------+--------------+-------+-------------+--------+\n",
      "|             trip_id|arrival_time|departure_time|stop_id|stop_sequence|new_stop|\n",
      "+--------------------+------------+--------------+-------+-------------+--------+\n",
      "|1.TA.1-1-E-j19-1.1.H|    05:38:00|      05:38:00|8590317|           22|       1|\n",
      "|1.TA.1-1-E-j19-1.1.H|    05:39:00|      05:39:00|8590314|           23|       2|\n",
      "|1.TA.1-1-E-j19-1.1.H|    05:40:00|      05:40:00|8578679|           24|       3|\n",
      "|  1.TA.1-1-j19-1.1.H|    05:19:00|      05:19:00|8503000|            1|       1|\n",
      "| 1.TA.1-10-j19-1.1.R|    06:03:00|      06:03:00|8590274|            1|       1|\n",
      "| 1.TA.1-10-j19-1.1.R|    06:04:00|      06:04:00|8590272|            2|       2|\n",
      "| 1.TA.1-10-j19-1.1.R|    06:05:00|      06:05:00|8590276|            3|       3|\n",
      "| 1.TA.1-10-j19-1.1.R|    06:06:00|      06:06:00|8590269|            4|       4|\n",
      "|1.TA.1-11-B-j19-1...|    06:16:00|      06:16:00|8594304|            3|       1|\n",
      "|1.TA.1-11-B-j19-1...|    06:17:00|      06:17:00|8594310|            4|       2|\n",
      "|1.TA.1-11-B-j19-1...|    06:18:00|      06:18:00|8594307|            5|       3|\n",
      "|1.TA.1-11-B-j19-1...|    06:19:00|      06:19:00|8590317|            6|       4|\n",
      "|1.TA.1-11-B-j19-1...|    06:20:00|      06:20:00|8590314|            7|       5|\n",
      "| 1.TA.1-16-j19-1.1.R|    05:54:00|      05:54:00|8503000|            3|       1|\n",
      "| 1.TA.1-17-j19-1.1.H|    06:05:00|      06:06:00|8503001|            8|       1|\n",
      "| 1.TA.1-17-j19-1.1.H|    06:15:00|      06:15:00|8503000|            9|       2|\n",
      "|1.TA.1-2-A-j19-1.1.H|    05:36:00|      05:36:00|8590396|            8|       1|\n",
      "|1.TA.1-2-A-j19-1.1.H|    05:37:00|      05:37:00|8590278|            9|       2|\n",
      "|1.TA.1-2-A-j19-1.1.H|    05:38:00|      05:38:00|8590277|           10|       3|\n",
      "|1.TA.1-2-A-j19-1.1.H|    05:39:00|      05:39:00|8590271|           11|       4|\n",
      "+--------------------+------------+--------------+-------+-------------+--------+\n",
      "only showing top 20 rows"
     ]
    }
   ],
   "source": [
    "begin.show()"
   ]
  },
  {
   "cell_type": "code",
   "execution_count": 10,
   "metadata": {},
   "outputs": [
    {
     "data": {
      "application/vnd.jupyter.widget-view+json": {
       "model_id": "",
       "version_major": 2,
       "version_minor": 0
      },
      "text/plain": [
       "FloatProgress(value=0.0, bar_style='info', description='Progress:', layout=Layout(height='25px', width='50%'),…"
      ]
     },
     "metadata": {},
     "output_type": "display_data"
    }
   ],
   "source": [
    "ids_counts = begin.groupBy('trip_id').count()\n",
    "ids_trips = ids_counts.where(ids_counts['count']>1).select('trip_id').distinct()\n",
    "df = begin.join(ids_trips, \"trip_id\").orderBy('trip_id','arrival_time','new_stop')"
   ]
  },
  {
   "cell_type": "code",
   "execution_count": 11,
   "metadata": {},
   "outputs": [
    {
     "data": {
      "application/vnd.jupyter.widget-view+json": {
       "model_id": "",
       "version_major": 2,
       "version_minor": 0
      },
      "text/plain": [
       "FloatProgress(value=0.0, bar_style='info', description='Progress:', layout=Layout(height='25px', width='50%'),…"
      ]
     },
     "metadata": {},
     "output_type": "display_data"
    },
    {
     "name": "stdout",
     "output_type": "stream",
     "text": [
      "+--------------------+------------+--------------+-------+-------------+--------+\n",
      "|             trip_id|arrival_time|departure_time|stop_id|stop_sequence|new_stop|\n",
      "+--------------------+------------+--------------+-------+-------------+--------+\n",
      "|1.TA.1-1-E-j19-1.1.H|    05:38:00|      05:38:00|8590317|           22|       1|\n",
      "|1.TA.1-1-E-j19-1.1.H|    05:39:00|      05:39:00|8590314|           23|       2|\n",
      "|1.TA.1-1-E-j19-1.1.H|    05:40:00|      05:40:00|8578679|           24|       3|\n",
      "| 1.TA.1-10-j19-1.1.R|    06:03:00|      06:03:00|8590274|            1|       1|\n",
      "| 1.TA.1-10-j19-1.1.R|    06:04:00|      06:04:00|8590272|            2|       2|\n",
      "| 1.TA.1-10-j19-1.1.R|    06:05:00|      06:05:00|8590276|            3|       3|\n",
      "| 1.TA.1-10-j19-1.1.R|    06:06:00|      06:06:00|8590269|            4|       4|\n",
      "|1.TA.1-11-B-j19-1...|    06:16:00|      06:16:00|8594304|            3|       1|\n",
      "|1.TA.1-11-B-j19-1...|    06:17:00|      06:17:00|8594310|            4|       2|\n",
      "|1.TA.1-11-B-j19-1...|    06:18:00|      06:18:00|8594307|            5|       3|\n",
      "|1.TA.1-11-B-j19-1...|    06:19:00|      06:19:00|8590317|            6|       4|\n",
      "|1.TA.1-11-B-j19-1...|    06:20:00|      06:20:00|8590314|            7|       5|\n",
      "| 1.TA.1-17-j19-1.1.H|    06:05:00|      06:06:00|8503001|            8|       1|\n",
      "| 1.TA.1-17-j19-1.1.H|    06:15:00|      06:15:00|8503000|            9|       2|\n",
      "|1.TA.1-2-A-j19-1.1.H|    05:36:00|      05:36:00|8590396|            8|       1|\n",
      "|1.TA.1-2-A-j19-1.1.H|    05:37:00|      05:37:00|8590278|            9|       2|\n",
      "|1.TA.1-2-A-j19-1.1.H|    05:38:00|      05:38:00|8590277|           10|       3|\n",
      "|1.TA.1-2-A-j19-1.1.H|    05:39:00|      05:39:00|8590271|           11|       4|\n",
      "|1.TA.1-2-A-j19-1.1.H|    05:40:00|      05:40:00|8590279|           12|       5|\n",
      "|1.TA.1-215-j19-1.1.H|    06:23:00|      06:23:00|8573723|            1|       1|\n",
      "+--------------------+------------+--------------+-------+-------------+--------+\n",
      "only showing top 20 rows"
     ]
    }
   ],
   "source": [
    "df.show()"
   ]
  },
  {
   "cell_type": "code",
   "execution_count": 19,
   "metadata": {},
   "outputs": [
    {
     "data": {
      "application/vnd.jupyter.widget-view+json": {
       "model_id": "",
       "version_major": 2,
       "version_minor": 0
      },
      "text/plain": [
       "FloatProgress(value=0.0, bar_style='info', description='Progress:', layout=Layout(height='25px', width='50%'),…"
      ]
     },
     "metadata": {},
     "output_type": "display_data"
    }
   ],
   "source": [
    "to_station = df.drop('departure_time','stop_sequence').withColumn('new_stop', df.new_stop -1).alias('to_station')\n",
    "from_station = df.drop('arrival_time','stop_sequence').join(to_station, on=['new_stop','trip_id']).orderBy('trip_id','new_stop')"
   ]
  },
  {
   "cell_type": "code",
   "execution_count": 21,
   "metadata": {},
   "outputs": [
    {
     "data": {
      "application/vnd.jupyter.widget-view+json": {
       "model_id": "",
       "version_major": 2,
       "version_minor": 0
      },
      "text/plain": [
       "FloatProgress(value=0.0, bar_style='info', description='Progress:', layout=Layout(height='25px', width='50%'),…"
      ]
     },
     "metadata": {},
     "output_type": "display_data"
    }
   ],
   "source": [
    "schedule = from_station.toDF(\"Stop_sequence\",\"Trip_ID\",\"Start_Time\",\"Start_Station\",\"Stop_Time\",\"Stop_Station\")."
   ]
  },
  {
   "cell_type": "code",
   "execution_count": 22,
   "metadata": {},
   "outputs": [
    {
     "data": {
      "application/vnd.jupyter.widget-view+json": {
       "model_id": "",
       "version_major": 2,
       "version_minor": 0
      },
      "text/plain": [
       "FloatProgress(value=0.0, bar_style='info', description='Progress:', layout=Layout(height='25px', width='50%'),…"
      ]
     },
     "metadata": {},
     "output_type": "display_data"
    },
    {
     "name": "stdout",
     "output_type": "stream",
     "text": [
      "+-------------+--------------------+----------+-------------+---------+------------+\n",
      "|Stop_sequence|             Trip_ID|Start_Time|Start_Station|Stop_Time|Stop_Station|\n",
      "+-------------+--------------------+----------+-------------+---------+------------+\n",
      "|            1|1.TA.1-1-E-j19-1.1.H|  05:38:00|      8590317| 05:39:00|     8590314|\n",
      "|            2|1.TA.1-1-E-j19-1.1.H|  05:39:00|      8590314| 05:40:00|     8578679|\n",
      "|            1| 1.TA.1-10-j19-1.1.R|  06:03:00|      8590274| 06:04:00|     8590272|\n",
      "|            2| 1.TA.1-10-j19-1.1.R|  06:04:00|      8590272| 06:05:00|     8590276|\n",
      "|            3| 1.TA.1-10-j19-1.1.R|  06:05:00|      8590276| 06:06:00|     8590269|\n",
      "|            1|1.TA.1-11-B-j19-1...|  06:16:00|      8594304| 06:17:00|     8594310|\n",
      "|            2|1.TA.1-11-B-j19-1...|  06:17:00|      8594310| 06:18:00|     8594307|\n",
      "|            3|1.TA.1-11-B-j19-1...|  06:18:00|      8594307| 06:19:00|     8590317|\n",
      "|            4|1.TA.1-11-B-j19-1...|  06:19:00|      8590317| 06:20:00|     8590314|\n",
      "|            1| 1.TA.1-17-j19-1.1.H|  06:06:00|      8503001| 06:15:00|     8503000|\n",
      "|            1|1.TA.1-2-A-j19-1.1.H|  05:36:00|      8590396| 05:37:00|     8590278|\n",
      "|            2|1.TA.1-2-A-j19-1.1.H|  05:37:00|      8590278| 05:38:00|     8590277|\n",
      "|            3|1.TA.1-2-A-j19-1.1.H|  05:38:00|      8590277| 05:39:00|     8590271|\n",
      "|            4|1.TA.1-2-A-j19-1.1.H|  05:39:00|      8590271| 05:40:00|     8590279|\n",
      "|            1|1.TA.1-215-j19-1.1.H|  06:23:00|      8573723| 06:25:00|     8583071|\n",
      "|            2|1.TA.1-215-j19-1.1.H|  06:25:00|      8583071| 06:26:00|     8572603|\n",
      "|            3|1.TA.1-215-j19-1.1.H|  06:26:00|      8572603| 06:27:00|     8570706|\n",
      "|            3|1.TA.1-215-j19-1.1.H|  06:26:00|      8572603| 06:27:00|     8502879|\n",
      "|            6|1.TA.1-215-j19-1.1.H|  06:29:00|      8572605| 06:30:00|     8582790|\n",
      "|            7|1.TA.1-215-j19-1.1.H|  06:30:00|      8582790| 06:31:00|     8583363|\n",
      "+-------------+--------------------+----------+-------------+---------+------------+\n",
      "only showing top 20 rows"
     ]
    }
   ],
   "source": [
    "schedule.show()"
   ]
  },
  {
   "cell_type": "code",
   "execution_count": 23,
   "metadata": {},
   "outputs": [
    {
     "data": {
      "application/vnd.jupyter.widget-view+json": {
       "model_id": "",
       "version_major": 2,
       "version_minor": 0
      },
      "text/plain": [
       "FloatProgress(value=0.0, bar_style='info', description='Progress:', layout=Layout(height='25px', width='50%'),…"
      ]
     },
     "metadata": {},
     "output_type": "display_data"
    }
   ],
   "source": [
    "schedule.write.format(\"orc\").save(\"/user/datavirus/schedule_zurich.orc\", mode='overwrite')"
   ]
  },
  {
   "cell_type": "code",
   "execution_count": null,
   "metadata": {},
   "outputs": [],
   "source": []
  }
 ],
 "metadata": {
  "kernelspec": {
   "display_name": "PySpark",
   "language": "",
   "name": "pysparkkernel"
  },
  "language_info": {
   "codemirror_mode": {
    "name": "python",
    "version": 3
   },
   "mimetype": "text/x-python",
   "name": "pyspark",
   "pygments_lexer": "python3"
  }
 },
 "nbformat": 4,
 "nbformat_minor": 4
}
