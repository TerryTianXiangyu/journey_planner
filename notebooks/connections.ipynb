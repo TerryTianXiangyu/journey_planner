{
 "cells": [
  {
   "cell_type": "code",
   "execution_count": 1,
   "metadata": {},
   "outputs": [
    {
     "data": {
      "text/html": [
       "Current session configs: <tt>{'conf': {'spark.app.name': 'datavirus_connections'}, 'kind': 'pyspark'}</tt><br>"
      ],
      "text/plain": [
       "<IPython.core.display.HTML object>"
      ]
     },
     "metadata": {},
     "output_type": "display_data"
    },
    {
     "data": {
      "text/html": [
       "<table>\n",
       "<tr><th>ID</th><th>YARN Application ID</th><th>Kind</th><th>State</th><th>Spark UI</th><th>Driver log</th><th>Current session?</th></tr><tr><td>7676</td><td>application_1589299642358_2172</td><td>pyspark</td><td>idle</td><td><a target=\"_blank\" href=\"http://iccluster044.iccluster.epfl.ch:8088/proxy/application_1589299642358_2172/\">Link</a></td><td><a target=\"_blank\" href=\"http://iccluster069.iccluster.epfl.ch:8042/node/containerlogs/container_e06_1589299642358_2172_01_000001/ebouille\">Link</a></td><td></td></tr><tr><td>7684</td><td>application_1589299642358_2180</td><td>pyspark</td><td>idle</td><td><a target=\"_blank\" href=\"http://iccluster044.iccluster.epfl.ch:8088/proxy/application_1589299642358_2180/\">Link</a></td><td><a target=\"_blank\" href=\"http://iccluster072.iccluster.epfl.ch:8042/node/containerlogs/container_e06_1589299642358_2180_01_000001/ebouille\">Link</a></td><td></td></tr><tr><td>7686</td><td>application_1589299642358_2182</td><td>pyspark</td><td>idle</td><td><a target=\"_blank\" href=\"http://iccluster044.iccluster.epfl.ch:8088/proxy/application_1589299642358_2182/\">Link</a></td><td><a target=\"_blank\" href=\"http://iccluster070.iccluster.epfl.ch:8042/node/containerlogs/container_e06_1589299642358_2182_01_000001/ebouille\">Link</a></td><td></td></tr><tr><td>7694</td><td>application_1589299642358_2190</td><td>pyspark</td><td>idle</td><td><a target=\"_blank\" href=\"http://iccluster044.iccluster.epfl.ch:8088/proxy/application_1589299642358_2190/\">Link</a></td><td><a target=\"_blank\" href=\"http://iccluster065.iccluster.epfl.ch:8042/node/containerlogs/container_e06_1589299642358_2190_01_000001/ebouille\">Link</a></td><td></td></tr><tr><td>7699</td><td>application_1589299642358_2195</td><td>pyspark</td><td>busy</td><td><a target=\"_blank\" href=\"http://iccluster044.iccluster.epfl.ch:8088/proxy/application_1589299642358_2195/\">Link</a></td><td><a target=\"_blank\" href=\"http://iccluster068.iccluster.epfl.ch:8042/node/containerlogs/container_e06_1589299642358_2195_01_000001/ebouille\">Link</a></td><td></td></tr><tr><td>7700</td><td>application_1589299642358_2196</td><td>pyspark</td><td>idle</td><td><a target=\"_blank\" href=\"http://iccluster044.iccluster.epfl.ch:8088/proxy/application_1589299642358_2196/\">Link</a></td><td><a target=\"_blank\" href=\"http://iccluster072.iccluster.epfl.ch:8042/node/containerlogs/container_e06_1589299642358_2196_01_000001/ebouille\">Link</a></td><td></td></tr><tr><td>7704</td><td>application_1589299642358_2200</td><td>pyspark</td><td>idle</td><td><a target=\"_blank\" href=\"http://iccluster044.iccluster.epfl.ch:8088/proxy/application_1589299642358_2200/\">Link</a></td><td><a target=\"_blank\" href=\"http://iccluster065.iccluster.epfl.ch:8042/node/containerlogs/container_e06_1589299642358_2200_01_000001/ebouille\">Link</a></td><td></td></tr><tr><td>7711</td><td>application_1589299642358_2207</td><td>pyspark</td><td>idle</td><td><a target=\"_blank\" href=\"http://iccluster044.iccluster.epfl.ch:8088/proxy/application_1589299642358_2207/\">Link</a></td><td><a target=\"_blank\" href=\"http://iccluster070.iccluster.epfl.ch:8042/node/containerlogs/container_e06_1589299642358_2207_01_000001/ebouille\">Link</a></td><td></td></tr><tr><td>7718</td><td>application_1589299642358_2214</td><td>pyspark</td><td>idle</td><td><a target=\"_blank\" href=\"http://iccluster044.iccluster.epfl.ch:8088/proxy/application_1589299642358_2214/\">Link</a></td><td><a target=\"_blank\" href=\"http://iccluster066.iccluster.epfl.ch:8042/node/containerlogs/container_e06_1589299642358_2214_01_000001/ebouille\">Link</a></td><td></td></tr><tr><td>7719</td><td>application_1589299642358_2215</td><td>pyspark</td><td>idle</td><td><a target=\"_blank\" href=\"http://iccluster044.iccluster.epfl.ch:8088/proxy/application_1589299642358_2215/\">Link</a></td><td><a target=\"_blank\" href=\"http://iccluster072.iccluster.epfl.ch:8042/node/containerlogs/container_e06_1589299642358_2215_01_000001/ebouille\">Link</a></td><td></td></tr><tr><td>7720</td><td>application_1589299642358_2216</td><td>pyspark</td><td>idle</td><td><a target=\"_blank\" href=\"http://iccluster044.iccluster.epfl.ch:8088/proxy/application_1589299642358_2216/\">Link</a></td><td><a target=\"_blank\" href=\"http://iccluster067.iccluster.epfl.ch:8042/node/containerlogs/container_e06_1589299642358_2216_01_000001/ebouille\">Link</a></td><td></td></tr><tr><td>7721</td><td>application_1589299642358_2217</td><td>pyspark</td><td>idle</td><td><a target=\"_blank\" href=\"http://iccluster044.iccluster.epfl.ch:8088/proxy/application_1589299642358_2217/\">Link</a></td><td><a target=\"_blank\" href=\"http://iccluster072.iccluster.epfl.ch:8042/node/containerlogs/container_e06_1589299642358_2217_01_000001/ebouille\">Link</a></td><td></td></tr><tr><td>7724</td><td>application_1589299642358_2220</td><td>pyspark</td><td>idle</td><td><a target=\"_blank\" href=\"http://iccluster044.iccluster.epfl.ch:8088/proxy/application_1589299642358_2220/\">Link</a></td><td><a target=\"_blank\" href=\"http://iccluster068.iccluster.epfl.ch:8042/node/containerlogs/container_e06_1589299642358_2220_01_000001/ebouille\">Link</a></td><td></td></tr><tr><td>7725</td><td>application_1589299642358_2221</td><td>pyspark</td><td>idle</td><td><a target=\"_blank\" href=\"http://iccluster044.iccluster.epfl.ch:8088/proxy/application_1589299642358_2221/\">Link</a></td><td><a target=\"_blank\" href=\"http://iccluster067.iccluster.epfl.ch:8042/node/containerlogs/container_e06_1589299642358_2221_01_000001/ebouille\">Link</a></td><td></td></tr><tr><td>7727</td><td>application_1589299642358_2223</td><td>pyspark</td><td>idle</td><td><a target=\"_blank\" href=\"http://iccluster044.iccluster.epfl.ch:8088/proxy/application_1589299642358_2223/\">Link</a></td><td><a target=\"_blank\" href=\"http://iccluster065.iccluster.epfl.ch:8042/node/containerlogs/container_e06_1589299642358_2223_01_000001/ebouille\">Link</a></td><td></td></tr><tr><td>7728</td><td>application_1589299642358_2224</td><td>pyspark</td><td>busy</td><td><a target=\"_blank\" href=\"http://iccluster044.iccluster.epfl.ch:8088/proxy/application_1589299642358_2224/\">Link</a></td><td><a target=\"_blank\" href=\"http://iccluster067.iccluster.epfl.ch:8042/node/containerlogs/container_e06_1589299642358_2224_01_000001/ebouille\">Link</a></td><td></td></tr><tr><td>7729</td><td>application_1589299642358_2225</td><td>pyspark</td><td>busy</td><td><a target=\"_blank\" href=\"http://iccluster044.iccluster.epfl.ch:8088/proxy/application_1589299642358_2225/\">Link</a></td><td><a target=\"_blank\" href=\"http://iccluster067.iccluster.epfl.ch:8042/node/containerlogs/container_e06_1589299642358_2225_01_000001/ebouille\">Link</a></td><td></td></tr><tr><td>7731</td><td>application_1589299642358_2227</td><td>pyspark</td><td>busy</td><td><a target=\"_blank\" href=\"http://iccluster044.iccluster.epfl.ch:8088/proxy/application_1589299642358_2227/\">Link</a></td><td><a target=\"_blank\" href=\"http://iccluster070.iccluster.epfl.ch:8042/node/containerlogs/container_e06_1589299642358_2227_01_000001/ebouille\">Link</a></td><td></td></tr><tr><td>7732</td><td>application_1589299642358_2228</td><td>pyspark</td><td>idle</td><td><a target=\"_blank\" href=\"http://iccluster044.iccluster.epfl.ch:8088/proxy/application_1589299642358_2228/\">Link</a></td><td><a target=\"_blank\" href=\"http://iccluster069.iccluster.epfl.ch:8042/node/containerlogs/container_e06_1589299642358_2228_01_000001/ebouille\">Link</a></td><td></td></tr><tr><td>7733</td><td>application_1589299642358_2229</td><td>pyspark</td><td>idle</td><td><a target=\"_blank\" href=\"http://iccluster044.iccluster.epfl.ch:8088/proxy/application_1589299642358_2229/\">Link</a></td><td><a target=\"_blank\" href=\"http://iccluster069.iccluster.epfl.ch:8042/node/containerlogs/container_e06_1589299642358_2229_01_000001/ebouille\">Link</a></td><td></td></tr><tr><td>7734</td><td>application_1589299642358_2230</td><td>pyspark</td><td>busy</td><td><a target=\"_blank\" href=\"http://iccluster044.iccluster.epfl.ch:8088/proxy/application_1589299642358_2230/\">Link</a></td><td><a target=\"_blank\" href=\"http://iccluster068.iccluster.epfl.ch:8042/node/containerlogs/container_e06_1589299642358_2230_01_000001/ebouille\">Link</a></td><td></td></tr></table>"
      ],
      "text/plain": [
       "<IPython.core.display.HTML object>"
      ]
     },
     "metadata": {},
     "output_type": "display_data"
    }
   ],
   "source": [
    "%%configure\n",
    "{\"conf\": {\n",
    "    \"spark.app.name\": \"datavirus_connections\"\n",
    "}}"
   ]
  },
  {
   "cell_type": "code",
   "execution_count": 2,
   "metadata": {},
   "outputs": [
    {
     "name": "stdout",
     "output_type": "stream",
     "text": [
      "Starting Spark application\n"
     ]
    },
    {
     "data": {
      "text/html": [
       "<table>\n",
       "<tr><th>ID</th><th>YARN Application ID</th><th>Kind</th><th>State</th><th>Spark UI</th><th>Driver log</th><th>Current session?</th></tr><tr><td>7735</td><td>application_1589299642358_2231</td><td>pyspark</td><td>idle</td><td><a target=\"_blank\" href=\"http://iccluster044.iccluster.epfl.ch:8088/proxy/application_1589299642358_2231/\">Link</a></td><td><a target=\"_blank\" href=\"http://iccluster065.iccluster.epfl.ch:8042/node/containerlogs/container_e06_1589299642358_2231_01_000001/ebouille\">Link</a></td><td>✔</td></tr></table>"
      ],
      "text/plain": [
       "<IPython.core.display.HTML object>"
      ]
     },
     "metadata": {},
     "output_type": "display_data"
    },
    {
     "data": {
      "application/vnd.jupyter.widget-view+json": {
       "model_id": "",
       "version_major": 2,
       "version_minor": 0
      },
      "text/plain": [
       "FloatProgress(value=0.0, bar_style='info', description='Progress:', layout=Layout(height='25px', width='50%'),…"
      ]
     },
     "metadata": {},
     "output_type": "display_data"
    },
    {
     "name": "stdout",
     "output_type": "stream",
     "text": [
      "SparkSession available as 'spark'.\n"
     ]
    },
    {
     "data": {
      "application/vnd.jupyter.widget-view+json": {
       "model_id": "",
       "version_major": 2,
       "version_minor": 0
      },
      "text/plain": [
       "FloatProgress(value=0.0, bar_style='info', description='Progress:', layout=Layout(height='25px', width='50%'),…"
      ]
     },
     "metadata": {},
     "output_type": "display_data"
    },
    {
     "name": "stdout",
     "output_type": "stream",
     "text": [
      "<pyspark.sql.session.SparkSession object at 0x7fab90514310>"
     ]
    }
   ],
   "source": [
    "spark"
   ]
  },
  {
   "cell_type": "code",
   "execution_count": 3,
   "metadata": {},
   "outputs": [
    {
     "data": {
      "text/html": [
       "Current session configs: <tt>{'conf': {'spark.app.name': 'datavirus_connections'}, 'kind': 'pyspark'}</tt><br>"
      ],
      "text/plain": [
       "<IPython.core.display.HTML object>"
      ]
     },
     "metadata": {},
     "output_type": "display_data"
    },
    {
     "data": {
      "text/html": [
       "<table>\n",
       "<tr><th>ID</th><th>YARN Application ID</th><th>Kind</th><th>State</th><th>Spark UI</th><th>Driver log</th><th>Current session?</th></tr><tr><td>7676</td><td>application_1589299642358_2172</td><td>pyspark</td><td>idle</td><td><a target=\"_blank\" href=\"http://iccluster044.iccluster.epfl.ch:8088/proxy/application_1589299642358_2172/\">Link</a></td><td><a target=\"_blank\" href=\"http://iccluster069.iccluster.epfl.ch:8042/node/containerlogs/container_e06_1589299642358_2172_01_000001/ebouille\">Link</a></td><td></td></tr><tr><td>7684</td><td>application_1589299642358_2180</td><td>pyspark</td><td>idle</td><td><a target=\"_blank\" href=\"http://iccluster044.iccluster.epfl.ch:8088/proxy/application_1589299642358_2180/\">Link</a></td><td><a target=\"_blank\" href=\"http://iccluster072.iccluster.epfl.ch:8042/node/containerlogs/container_e06_1589299642358_2180_01_000001/ebouille\">Link</a></td><td></td></tr><tr><td>7686</td><td>application_1589299642358_2182</td><td>pyspark</td><td>idle</td><td><a target=\"_blank\" href=\"http://iccluster044.iccluster.epfl.ch:8088/proxy/application_1589299642358_2182/\">Link</a></td><td><a target=\"_blank\" href=\"http://iccluster070.iccluster.epfl.ch:8042/node/containerlogs/container_e06_1589299642358_2182_01_000001/ebouille\">Link</a></td><td></td></tr><tr><td>7694</td><td>application_1589299642358_2190</td><td>pyspark</td><td>idle</td><td><a target=\"_blank\" href=\"http://iccluster044.iccluster.epfl.ch:8088/proxy/application_1589299642358_2190/\">Link</a></td><td><a target=\"_blank\" href=\"http://iccluster065.iccluster.epfl.ch:8042/node/containerlogs/container_e06_1589299642358_2190_01_000001/ebouille\">Link</a></td><td></td></tr><tr><td>7699</td><td>application_1589299642358_2195</td><td>pyspark</td><td>busy</td><td><a target=\"_blank\" href=\"http://iccluster044.iccluster.epfl.ch:8088/proxy/application_1589299642358_2195/\">Link</a></td><td><a target=\"_blank\" href=\"http://iccluster068.iccluster.epfl.ch:8042/node/containerlogs/container_e06_1589299642358_2195_01_000001/ebouille\">Link</a></td><td></td></tr><tr><td>7700</td><td>application_1589299642358_2196</td><td>pyspark</td><td>idle</td><td><a target=\"_blank\" href=\"http://iccluster044.iccluster.epfl.ch:8088/proxy/application_1589299642358_2196/\">Link</a></td><td><a target=\"_blank\" href=\"http://iccluster072.iccluster.epfl.ch:8042/node/containerlogs/container_e06_1589299642358_2196_01_000001/ebouille\">Link</a></td><td></td></tr><tr><td>7704</td><td>application_1589299642358_2200</td><td>pyspark</td><td>idle</td><td><a target=\"_blank\" href=\"http://iccluster044.iccluster.epfl.ch:8088/proxy/application_1589299642358_2200/\">Link</a></td><td><a target=\"_blank\" href=\"http://iccluster065.iccluster.epfl.ch:8042/node/containerlogs/container_e06_1589299642358_2200_01_000001/ebouille\">Link</a></td><td></td></tr><tr><td>7711</td><td>application_1589299642358_2207</td><td>pyspark</td><td>idle</td><td><a target=\"_blank\" href=\"http://iccluster044.iccluster.epfl.ch:8088/proxy/application_1589299642358_2207/\">Link</a></td><td><a target=\"_blank\" href=\"http://iccluster070.iccluster.epfl.ch:8042/node/containerlogs/container_e06_1589299642358_2207_01_000001/ebouille\">Link</a></td><td></td></tr><tr><td>7718</td><td>application_1589299642358_2214</td><td>pyspark</td><td>idle</td><td><a target=\"_blank\" href=\"http://iccluster044.iccluster.epfl.ch:8088/proxy/application_1589299642358_2214/\">Link</a></td><td><a target=\"_blank\" href=\"http://iccluster066.iccluster.epfl.ch:8042/node/containerlogs/container_e06_1589299642358_2214_01_000001/ebouille\">Link</a></td><td></td></tr><tr><td>7719</td><td>application_1589299642358_2215</td><td>pyspark</td><td>idle</td><td><a target=\"_blank\" href=\"http://iccluster044.iccluster.epfl.ch:8088/proxy/application_1589299642358_2215/\">Link</a></td><td><a target=\"_blank\" href=\"http://iccluster072.iccluster.epfl.ch:8042/node/containerlogs/container_e06_1589299642358_2215_01_000001/ebouille\">Link</a></td><td></td></tr><tr><td>7720</td><td>application_1589299642358_2216</td><td>pyspark</td><td>idle</td><td><a target=\"_blank\" href=\"http://iccluster044.iccluster.epfl.ch:8088/proxy/application_1589299642358_2216/\">Link</a></td><td><a target=\"_blank\" href=\"http://iccluster067.iccluster.epfl.ch:8042/node/containerlogs/container_e06_1589299642358_2216_01_000001/ebouille\">Link</a></td><td></td></tr><tr><td>7721</td><td>application_1589299642358_2217</td><td>pyspark</td><td>idle</td><td><a target=\"_blank\" href=\"http://iccluster044.iccluster.epfl.ch:8088/proxy/application_1589299642358_2217/\">Link</a></td><td><a target=\"_blank\" href=\"http://iccluster072.iccluster.epfl.ch:8042/node/containerlogs/container_e06_1589299642358_2217_01_000001/ebouille\">Link</a></td><td></td></tr><tr><td>7724</td><td>application_1589299642358_2220</td><td>pyspark</td><td>idle</td><td><a target=\"_blank\" href=\"http://iccluster044.iccluster.epfl.ch:8088/proxy/application_1589299642358_2220/\">Link</a></td><td><a target=\"_blank\" href=\"http://iccluster068.iccluster.epfl.ch:8042/node/containerlogs/container_e06_1589299642358_2220_01_000001/ebouille\">Link</a></td><td></td></tr><tr><td>7725</td><td>application_1589299642358_2221</td><td>pyspark</td><td>idle</td><td><a target=\"_blank\" href=\"http://iccluster044.iccluster.epfl.ch:8088/proxy/application_1589299642358_2221/\">Link</a></td><td><a target=\"_blank\" href=\"http://iccluster067.iccluster.epfl.ch:8042/node/containerlogs/container_e06_1589299642358_2221_01_000001/ebouille\">Link</a></td><td></td></tr><tr><td>7727</td><td>application_1589299642358_2223</td><td>pyspark</td><td>idle</td><td><a target=\"_blank\" href=\"http://iccluster044.iccluster.epfl.ch:8088/proxy/application_1589299642358_2223/\">Link</a></td><td><a target=\"_blank\" href=\"http://iccluster065.iccluster.epfl.ch:8042/node/containerlogs/container_e06_1589299642358_2223_01_000001/ebouille\">Link</a></td><td></td></tr><tr><td>7728</td><td>application_1589299642358_2224</td><td>pyspark</td><td>busy</td><td><a target=\"_blank\" href=\"http://iccluster044.iccluster.epfl.ch:8088/proxy/application_1589299642358_2224/\">Link</a></td><td><a target=\"_blank\" href=\"http://iccluster067.iccluster.epfl.ch:8042/node/containerlogs/container_e06_1589299642358_2224_01_000001/ebouille\">Link</a></td><td></td></tr><tr><td>7729</td><td>application_1589299642358_2225</td><td>pyspark</td><td>busy</td><td><a target=\"_blank\" href=\"http://iccluster044.iccluster.epfl.ch:8088/proxy/application_1589299642358_2225/\">Link</a></td><td><a target=\"_blank\" href=\"http://iccluster067.iccluster.epfl.ch:8042/node/containerlogs/container_e06_1589299642358_2225_01_000001/ebouille\">Link</a></td><td></td></tr><tr><td>7731</td><td>application_1589299642358_2227</td><td>pyspark</td><td>busy</td><td><a target=\"_blank\" href=\"http://iccluster044.iccluster.epfl.ch:8088/proxy/application_1589299642358_2227/\">Link</a></td><td><a target=\"_blank\" href=\"http://iccluster070.iccluster.epfl.ch:8042/node/containerlogs/container_e06_1589299642358_2227_01_000001/ebouille\">Link</a></td><td></td></tr><tr><td>7732</td><td>application_1589299642358_2228</td><td>pyspark</td><td>idle</td><td><a target=\"_blank\" href=\"http://iccluster044.iccluster.epfl.ch:8088/proxy/application_1589299642358_2228/\">Link</a></td><td><a target=\"_blank\" href=\"http://iccluster069.iccluster.epfl.ch:8042/node/containerlogs/container_e06_1589299642358_2228_01_000001/ebouille\">Link</a></td><td></td></tr><tr><td>7733</td><td>application_1589299642358_2229</td><td>pyspark</td><td>idle</td><td><a target=\"_blank\" href=\"http://iccluster044.iccluster.epfl.ch:8088/proxy/application_1589299642358_2229/\">Link</a></td><td><a target=\"_blank\" href=\"http://iccluster069.iccluster.epfl.ch:8042/node/containerlogs/container_e06_1589299642358_2229_01_000001/ebouille\">Link</a></td><td></td></tr><tr><td>7734</td><td>application_1589299642358_2230</td><td>pyspark</td><td>idle</td><td><a target=\"_blank\" href=\"http://iccluster044.iccluster.epfl.ch:8088/proxy/application_1589299642358_2230/\">Link</a></td><td><a target=\"_blank\" href=\"http://iccluster068.iccluster.epfl.ch:8042/node/containerlogs/container_e06_1589299642358_2230_01_000001/ebouille\">Link</a></td><td></td></tr><tr><td>7735</td><td>application_1589299642358_2231</td><td>pyspark</td><td>idle</td><td><a target=\"_blank\" href=\"http://iccluster044.iccluster.epfl.ch:8088/proxy/application_1589299642358_2231/\">Link</a></td><td><a target=\"_blank\" href=\"http://iccluster065.iccluster.epfl.ch:8042/node/containerlogs/container_e06_1589299642358_2231_01_000001/ebouille\">Link</a></td><td>✔</td></tr></table>"
      ],
      "text/plain": [
       "<IPython.core.display.HTML object>"
      ]
     },
     "metadata": {},
     "output_type": "display_data"
    }
   ],
   "source": [
    "%%info"
   ]
  },
  {
   "cell_type": "code",
   "execution_count": 4,
   "metadata": {},
   "outputs": [
    {
     "data": {
      "application/vnd.jupyter.widget-view+json": {
       "model_id": "",
       "version_major": 2,
       "version_minor": 0
      },
      "text/plain": [
       "FloatProgress(value=0.0, bar_style='info', description='Progress:', layout=Layout(height='25px', width='50%'),…"
      ]
     },
     "metadata": {},
     "output_type": "display_data"
    }
   ],
   "source": [
    "import pyspark.sql.functions as f"
   ]
  },
  {
   "cell_type": "code",
   "execution_count": 23,
   "metadata": {},
   "outputs": [
    {
     "data": {
      "application/vnd.jupyter.widget-view+json": {
       "model_id": "",
       "version_major": 2,
       "version_minor": 0
      },
      "text/plain": [
       "FloatProgress(value=0.0, bar_style='info', description='Progress:', layout=Layout(height='25px', width='50%'),…"
      ]
     },
     "metadata": {},
     "output_type": "display_data"
    }
   ],
   "source": [
    "probability = spark.read.orc('/user/gflueck/probability.orc')"
   ]
  },
  {
   "cell_type": "code",
   "execution_count": 7,
   "metadata": {},
   "outputs": [
    {
     "data": {
      "application/vnd.jupyter.widget-view+json": {
       "model_id": "",
       "version_major": 2,
       "version_minor": 0
      },
      "text/plain": [
       "FloatProgress(value=0.0, bar_style='info', description='Progress:', layout=Layout(height='25px', width='50%'),…"
      ]
     },
     "metadata": {},
     "output_type": "display_data"
    },
    {
     "name": "stdout",
     "output_type": "stream",
     "text": [
      "+-------------------+---------------+----------+--------------+-------+---------+------------------+--------------------+\n",
      "|arrival_time_minute|        trip_id|station_id|transport_type|line_id|line_text| delay_probability|     delay_parameter|\n",
      "+-------------------+---------------+----------+--------------+-------+---------+------------------+--------------------+\n",
      "|              21:42|   85:11:10:002|   8503202|           Zug|     10|       EC|0.8202508288487688|0.014650408388357685|\n",
      "|              02:58|85:11:13714:001|   8503000|           Zug|  13714|      SN1|0.6519774011299435|0.006361772034664491|\n",
      "+-------------------+---------------+----------+--------------+-------+---------+------------------+--------------------+\n",
      "only showing top 2 rows"
     ]
    }
   ],
   "source": [
    "probability.show(2)"
   ]
  },
  {
   "cell_type": "code",
   "execution_count": 6,
   "metadata": {},
   "outputs": [
    {
     "data": {
      "application/vnd.jupyter.widget-view+json": {
       "model_id": "",
       "version_major": 2,
       "version_minor": 0
      },
      "text/plain": [
       "FloatProgress(value=0.0, bar_style='info', description='Progress:', layout=Layout(height='25px', width='50%'),…"
      ]
     },
     "metadata": {},
     "output_type": "display_data"
    }
   ],
   "source": [
    "schedule = spark.read.orc('/user/datavirus/schedule_zurich.orc')"
   ]
  },
  {
   "cell_type": "code",
   "execution_count": 8,
   "metadata": {},
   "outputs": [
    {
     "data": {
      "application/vnd.jupyter.widget-view+json": {
       "model_id": "",
       "version_major": 2,
       "version_minor": 0
      },
      "text/plain": [
       "FloatProgress(value=0.0, bar_style='info', description='Progress:', layout=Layout(height='25px', width='50%'),…"
      ]
     },
     "metadata": {},
     "output_type": "display_data"
    },
    {
     "name": "stdout",
     "output_type": "stream",
     "text": [
      "+-------------+--------------------+----------+-------------+---------+------------+\n",
      "|Stop_sequence|             Trip_ID|Start_Time|Start_Station|Stop_Time|Stop_Station|\n",
      "+-------------+--------------------+----------+-------------+---------+------------+\n",
      "|           19|299.TA.26-308-j19...|  15:51:00|      8591833| 15:52:00|     8590833|\n",
      "|           20|299.TA.26-308-j19...|  15:52:00|      8590833| 15:53:00|     8590727|\n",
      "+-------------+--------------------+----------+-------------+---------+------------+\n",
      "only showing top 2 rows"
     ]
    }
   ],
   "source": [
    "schedule.show(2)"
   ]
  },
  {
   "cell_type": "code",
   "execution_count": 12,
   "metadata": {},
   "outputs": [
    {
     "data": {
      "application/vnd.jupyter.widget-view+json": {
       "model_id": "",
       "version_major": 2,
       "version_minor": 0
      },
      "text/plain": [
       "FloatProgress(value=0.0, bar_style='info', description='Progress:', layout=Layout(height='25px', width='50%'),…"
      ]
     },
     "metadata": {},
     "output_type": "display_data"
    },
    {
     "name": "stdout",
     "output_type": "stream",
     "text": [
      "+-------------------+----------------------+----------+--------------+-----------+---------+------------------+--------------------+\n",
      "|arrival_time_minute|trip_id               |station_id|transport_type|line_id    |line_text|delay_probability |delay_parameter     |\n",
      "+-------------------+----------------------+----------+--------------+-----------+---------+------------------+--------------------+\n",
      "| 23:49             |85:3849:109091-03010-1|8591382   |Tram          |85:3849:010|10       |0.797695300585474 |0.015237956376985337|\n",
      "| 12:38             |85:3849:141563-04007-1|8591106   |Tram          |85:3849:007|7        |0.8485443366175273|0.015191044341473024|\n",
      "| 08:24             |85:3849:142888-04011-1|8591180   |Tram          |85:3849:011|11       |0.8421321645767593|0.01299529296167841 |\n",
      "| 19:36             |85:3849:142915-04011-1|8530812   |Tram          |85:3849:011|11       |0.8228581490114534|0.01361149920342191 |\n",
      "| 13:57             |85:3849:161437-14005-1|8591058   |Tram          |85:3849:005|5        |0.7992672885357287|0.014813764406625005|\n",
      "| 08:33             |85:3849:192973-17002-1|8576197   |Tram          |85:3849:002|2        |0.8582905628147923|0.01406181864618534 |\n",
      "| 19:17             |85:3849:244783-17002-1|8591299   |Tram          |85:3849:002|2        |0.8090659886377181|0.016396252740973463|\n",
      "| 15:50             |85:3849:254585-25009-1|8591123   |Tram          |85:3849:009|9        |0.8574457244259117|0.013641600508364106|\n",
      "| 09:20             |85:3849:283519-26011-1|8591093   |Tram          |85:3849:011|11       |0.8528053005896298|0.014435128555934618|\n",
      "| 05:28             |85:3849:296616-30013-1|8591423   |Tram          |85:3849:013|13       |0.7943286791084888|0.01990500676912128 |\n",
      "| 16:52             |85:3849:302346-28017-1|8591131   |Tram          |85:3849:017|17       |0.8046697934300965|0.01448139535096665 |\n",
      "| 20:33             |85:3849:344728-12007-1|8591168   |Tram          |85:3849:007|7        |0.8718924086767632|0.013277307794445579|\n",
      "| 08:48             |85:3849:399406-31002-1|8590791   |Tram          |85:3849:002|2        |0.8582905628147923|0.01406181864618534 |\n",
      "| 13:57             |85:3849:403362-11006-1|8591397   |Tram          |85:3849:006|6        |0.8221025425405619|0.017047034645264053|\n",
      "| 09:49             |85:3849:456577-35006-1|8591123   |Tram          |85:3849:006|6        |0.8288159047340959|0.01756071607158564 |\n",
      "| 07:51             |85:3849:462827-31007-1|8591298   |Tram          |85:3849:007|7        |0.8351891727722248|0.014433422570508328|\n",
      "| 08:10             |85:3849:467549-20005-1|8591329   |Tram          |85:3849:005|5        |0.7924833822561683|0.01334789408361796 |\n",
      "| 10:04             |85:3849:48787-29006-1 |8591316   |Tram          |85:3849:006|6        |0.816405788816325 |0.017194516129158906|\n",
      "| 16:14             |85:3849:507102-34007-1|8591393   |Tram          |85:3849:007|7        |0.857904807316119 |0.011454439445658332|\n",
      "| 15:50             |85:3849:51478-03007-1 |8591324   |Tram          |85:3849:007|7        |0.8753165139020876|0.012882437566510219|\n",
      "| 19:52             |85:3849:52472-03010-1 |8588553   |Tram          |85:3849:010|10       |0.8453586647860133|0.012512408576905821|\n",
      "| 18:21             |85:3849:56184-14007-1 |8591305   |Tram          |85:3849:007|7        |0.8501081766751953|0.0110281339311235  |\n",
      "| 06:35             |85:3849:569436-43006-1|8587349   |Tram          |85:3849:006|6        |0.8415675821181661|0.01910170143435627 |\n",
      "| 16:11             |85:3849:574458-27003-1|8591036   |Tram          |85:3849:003|3        |0.8758768493340093|0.012653444799289634|\n",
      "| 21:44             |85:3849:576013-27010-1|8590762   |Tram          |85:3849:010|10       |0.8382086226551975|0.013829295416175164|\n",
      "| 18:00             |85:3849:596236-12008-1|8591178   |Tram          |85:3849:008|8        |0.8395293308158894|0.00892261148682957 |\n",
      "| 18:12             |85:3849:600488-24007-1|8587349   |Tram          |85:3849:007|7        |0.8501081766751953|0.0110281339311235  |\n",
      "| 12:38             |85:3849:650977-25010-1|8587799   |Tram          |85:3849:010|10       |0.8216527445210111|0.014447216356255182|\n",
      "| 00:03             |85:3849:689498-13009-1|8591229   |Tram          |85:3849:009|9        |0.8248429823228486|0.014852410166340745|\n",
      "| 15:54             |85:773:16315-06759-1  |8590621   |Bus           |85:773:768 |768      |0.9491405970588854|0.0117653854539044  |\n",
      "+-------------------+----------------------+----------+--------------+-----------+---------+------------------+--------------------+\n",
      "only showing top 30 rows"
     ]
    }
   ],
   "source": [
    "probability.sample(0.001).show(30, False)"
   ]
  },
  {
   "cell_type": "code",
   "execution_count": 27,
   "metadata": {},
   "outputs": [
    {
     "data": {
      "application/vnd.jupyter.widget-view+json": {
       "model_id": "",
       "version_major": 2,
       "version_minor": 0
      },
      "text/plain": [
       "FloatProgress(value=0.0, bar_style='info', description='Progress:', layout=Layout(height='25px', width='50%'),…"
      ]
     },
     "metadata": {},
     "output_type": "display_data"
    },
    {
     "name": "stdout",
     "output_type": "stream",
     "text": [
      "+-------------------+----------------------+----------+--------------+-----------+---------+-----------------+-------------------+\n",
      "|arrival_time_minute|trip_id               |station_id|transport_type|line_id    |line_text|delay_probability|delay_parameter    |\n",
      "+-------------------+----------------------+----------+--------------+-----------+---------+-----------------+-------------------+\n",
      "| 18:12             |85:3849:117317-04017-1|8587349   |Tram          |85:3849:017|17       |0.850921093628291|0.01045037426457373|\n",
      "| 18:12             |85:3849:429826-33017-1|8587349   |Tram          |85:3849:017|17       |0.850921093628291|0.01045037426457373|\n",
      "| 18:12             |85:3849:488537-14017-1|8587349   |Tram          |85:3849:017|17       |0.850921093628291|0.01045037426457373|\n",
      "| 18:12             |85:3849:486620-13017-1|8587349   |Tram          |85:3849:017|17       |0.850921093628291|0.01045037426457373|\n",
      "| 18:12             |85:3849:469751-14017-1|8587349   |Tram          |85:3849:017|17       |0.850921093628291|0.01045037426457373|\n",
      "| 18:12             |85:3849:380387-31017-1|8587349   |Tram          |85:3849:017|17       |0.850921093628291|0.01045037426457373|\n",
      "| 18:12             |85:3849:330721-27017-1|8587349   |Tram          |85:3849:017|17       |0.850921093628291|0.01045037426457373|\n",
      "| 18:12             |85:3849:490341-12017-1|8587349   |Tram          |85:3849:017|17       |0.850921093628291|0.01045037426457373|\n",
      "| 18:12             |85:3849:706157-13017-1|8587349   |Tram          |85:3849:017|17       |0.850921093628291|0.01045037426457373|\n",
      "| 18:12             |85:3849:297308-25017-1|8587349   |Tram          |85:3849:017|17       |0.850921093628291|0.01045037426457373|\n",
      "| 18:12             |85:3849:144265-04017-1|8587349   |Tram          |85:3849:017|17       |0.850921093628291|0.01045037426457373|\n",
      "| 18:12             |85:3849:390700-32017-1|8587349   |Tram          |85:3849:017|17       |0.850921093628291|0.01045037426457373|\n",
      "| 18:12             |85:3849:707331-12017-1|8587349   |Tram          |85:3849:017|17       |0.850921093628291|0.01045037426457373|\n",
      "+-------------------+----------------------+----------+--------------+-----------+---------+-----------------+-------------------+"
     ]
    }
   ],
   "source": [
    "probability.where(probability.arrival_time_minute == ' 18:12').where(probability.station_id == '8587349').where(probability.line_text == '17').show(30, False)"
   ]
  },
  {
   "cell_type": "code",
   "execution_count": 37,
   "metadata": {},
   "outputs": [
    {
     "data": {
      "application/vnd.jupyter.widget-view+json": {
       "model_id": "",
       "version_major": 2,
       "version_minor": 0
      },
      "text/plain": [
       "FloatProgress(value=0.0, bar_style='info', description='Progress:', layout=Layout(height='25px', width='50%'),…"
      ]
     },
     "metadata": {},
     "output_type": "display_data"
    },
    {
     "name": "stdout",
     "output_type": "stream",
     "text": [
      "+-------------+--------------------------+----------+-------------+---------+------------+\n",
      "|Stop_sequence|Trip_ID                   |Start_Time|Start_Station|Stop_Time|Stop_Station|\n",
      "+-------------+--------------------------+----------+-------------+---------+------------+\n",
      "|15           |140.TA.26-17-j19-1.1.H    |16:26:00  |8591368      |16:28:00 |8587349     |\n",
      "|15           |140.TA.26-7-B-j19-1.1.H   |13:25:00  |8591379      |13:27:00 |8587349     |\n",
      "|13           |1400.TA.26-13-j19-1.20.R  |17:20:00  |8591067      |17:22:00 |8587349     |\n",
      "|12           |1400.TA.26-14-A-j19-1.16.R|09:12:00  |8587348      |09:14:00 |8587349     |\n",
      "|13           |1401.TA.26-13-j19-1.20.R  |17:13:00  |8591067      |17:15:00 |8587349     |\n",
      "|12           |1401.TA.26-14-A-j19-1.16.R|08:57:00  |8587348      |08:59:00 |8587349     |\n",
      "|13           |1402.TA.26-13-j19-1.20.R  |17:05:00  |8591067      |17:07:00 |8587349     |\n",
      "|12           |1402.TA.26-14-A-j19-1.16.R|20:16:00  |8587348      |20:17:00 |8587349     |\n",
      "|1            |1402.TA.26-17-j19-1.28.R  |16:41:00  |8591067      |16:43:00 |8587349     |\n",
      "|13           |1403.TA.26-13-j19-1.20.R  |14:05:00  |8591067      |14:07:00 |8587349     |\n",
      "|12           |1403.TA.26-14-A-j19-1.16.R|20:07:00  |8587348      |20:08:00 |8587349     |\n",
      "|1            |1403.TA.26-17-j19-1.28.R  |16:33:00  |8591067      |16:36:00 |8587349     |\n",
      "|13           |1404.TA.26-13-j19-1.20.R  |16:20:00  |8591067      |16:22:00 |8587349     |\n",
      "|12           |1404.TA.26-14-A-j19-1.16.R|16:27:00  |8587348      |16:28:00 |8587349     |\n",
      "|1            |1404.TA.26-17-j19-1.28.R  |12:56:00  |8591067      |12:58:00 |8587349     |\n",
      "|13           |1405.TA.26-13-j19-1.20.R  |16:13:00  |8591067      |16:15:00 |8587349     |\n",
      "|12           |1405.TA.26-14-A-j19-1.16.R|16:17:00  |8587348      |16:18:00 |8587349     |\n",
      "|1            |1405.TA.26-17-j19-1.28.R  |12:48:00  |8591067      |12:51:00 |8587349     |\n",
      "|13           |1406.TA.26-13-j19-1.20.R  |16:05:00  |8591067      |16:07:00 |8587349     |\n",
      "|12           |1406.TA.26-14-A-j19-1.16.R|12:47:00  |8587348      |12:48:00 |8587349     |\n",
      "|1            |1406.TA.26-17-j19-1.28.R  |08:49:00  |8591067      |08:51:00 |8587349     |\n",
      "|13           |1407.TA.26-13-j19-1.20.R  |15:58:00  |8591067      |16:00:00 |8587349     |\n",
      "|12           |1407.TA.26-14-A-j19-1.16.R|08:42:00  |8587348      |08:44:00 |8587349     |\n",
      "|13           |1408.TA.26-13-j19-1.20.R  |06:50:00  |8591067      |06:52:00 |8587349     |\n",
      "|13           |1409.TA.26-13-j19-1.20.R  |06:43:00  |8591067      |06:45:00 |8587349     |\n",
      "|1            |1409.TA.26-17-j19-1.28.R  |20:50:00  |8591067      |20:53:00 |8587349     |\n",
      "+-------------+--------------------------+----------+-------------+---------+------------+"
     ]
    }
   ],
   "source": [
    "schedule.where(schedule.Trip_ID.substr(0, 3) == '140').where(schedule.Stop_Station == '8587349').show(30, False)"
   ]
  },
  {
   "cell_type": "code",
   "execution_count": 34,
   "metadata": {},
   "outputs": [
    {
     "data": {
      "application/vnd.jupyter.widget-view+json": {
       "model_id": "",
       "version_major": 2,
       "version_minor": 0
      },
      "text/plain": [
       "FloatProgress(value=0.0, bar_style='info', description='Progress:', layout=Layout(height='25px', width='50%'),…"
      ]
     },
     "metadata": {},
     "output_type": "display_data"
    },
    {
     "name": "stdout",
     "output_type": "stream",
     "text": [
      "+-------------+------------------------+----------+-------------+---------+------------+\n",
      "|Stop_sequence|Trip_ID                 |Start_Time|Start_Station|Stop_Time|Stop_Station|\n",
      "+-------------+------------------------+----------+-------------+---------+------------+\n",
      "|16           |1688.TA.26-13-j19-1.24.H|18:10:00  |8591368      |18:12:00 |8587349     |\n",
      "|16           |1689.TA.26-13-j19-1.24.H|18:10:00  |8591368      |18:12:00 |8587349     |\n",
      "|13           |776.TA.26-17-j19-1.19.R |18:09:00  |8591067      |18:12:00 |8587349     |\n",
      "|13           |782.TA.26-17-j19-1.19.R |18:09:00  |8591067      |18:12:00 |8587349     |\n",
      "|16           |79.TA.26-13-j19-1.1.H   |18:10:00  |8591368      |18:12:00 |8587349     |\n",
      "|8            |1277.TA.26-17-j19-1.27.R|18:10:00  |8588078      |18:12:00 |8587349     |\n",
      "|15           |138.TA.26-7-B-j19-1.1.H |18:10:00  |8591379      |18:12:00 |8587349     |\n",
      "+-------------+------------------------+----------+-------------+---------+------------+"
     ]
    }
   ],
   "source": [
    "schedule.where(schedule.Stop_Time == '18:12:00').where(schedule.Stop_Station == '8587349').show(30, False)"
   ]
  },
  {
   "cell_type": "code",
   "execution_count": 13,
   "metadata": {},
   "outputs": [
    {
     "data": {
      "application/vnd.jupyter.widget-view+json": {
       "model_id": "",
       "version_major": 2,
       "version_minor": 0
      },
      "text/plain": [
       "FloatProgress(value=0.0, bar_style='info', description='Progress:', layout=Layout(height='25px', width='50%'),…"
      ]
     },
     "metadata": {},
     "output_type": "display_data"
    },
    {
     "name": "stdout",
     "output_type": "stream",
     "text": [
      "+-------------+-------------------------+----------+-------------+---------+------------+\n",
      "|Stop_sequence|Trip_ID                  |Start_Time|Start_Station|Stop_Time|Stop_Station|\n",
      "+-------------+-------------------------+----------+-------------+---------+------------+\n",
      "|8            |299.TA.26-530-j19-1.2.R  |12:35:00  |8503857      |12:37:00 |8573209     |\n",
      "|3            |299.TA.26-69-j19-1.3.R   |20:40:00  |8591425      |20:41:00 |8591419     |\n",
      "|3            |2999.TA.26-8-C-j19-1.25.H|20:36:00  |8591131      |20:37:00 |8591135     |\n",
      "|4            |3.TA.26-742-j19-1.1.H    |07:43:00  |8594236      |07:45:00 |8590765     |\n",
      "|3            |3.TA.79-485-j19-1.1.R    |18:07:00  |8576249      |18:08:00 |8576250     |\n",
      "|10           |30.TA.26-17-j19-1.1.H    |18:43:00  |8580522      |18:44:00 |8591110     |\n",
      "|1            |30.TA.26-220-j19-1.1.H   |18:01:00  |8573710      |18:03:00 |8591341     |\n",
      "|4            |30.TA.26-813-j19-1.2.R   |19:39:00  |8576788      |19:40:00 |8581539     |\n",
      "|7            |300.TA.26-759-j19-1.4.H  |19:31:00  |8590548      |19:33:00 |8590575     |\n",
      "|4            |301.TA.26-3-A-j19-1.2.H  |19:45:00  |8591203      |19:47:00 |8591236     |\n",
      "|8            |301.TA.26-5-A-j19-1.106.H|18:55:00  |8502221      |18:59:00 |8502222     |\n",
      "|10           |301.TA.26-72-j19-1.3.H   |17:42:00  |8591075      |17:43:00 |8591447     |\n",
      "|5            |302.TA.26-200-j19-1.2.R  |09:51:00  |8582722      |09:54:00 |8583805     |\n",
      "|10           |795.TA.26-3-A-j19-1.2.H  |17:44:00  |8591079      |17:45:00 |8591381     |\n",
      "|6            |796.TA.26-156-j19-1.4.R  |11:32:00  |8595406      |11:33:00 |8590828     |\n",
      "|21           |799.TA.26-759-j19-1.7.R  |06:57:00  |8590575      |07:00:00 |8590548     |\n",
      "|15           |8.TA.26-236-j19-1.1.R    |14:50:00  |8581059      |14:52:00 |8503696     |\n",
      "|3            |80.TA.26-19-j19-1.16.H   |15:49:00  |8503000      |15:54:00 |8503006     |\n",
      "|20           |80.TA.26-235-j19-1.3.H   |11:47:00  |8503689      |11:49:00 |8503697     |\n",
      "|7            |80.TA.26-46-j19-1.5.R    |09:48:00  |8591247      |09:49:00 |8591312     |\n",
      "|3            |80.TA.26-796-j19-1.1.H   |19:31:00  |8590902      |19:32:00 |8590905     |\n",
      "|11           |1.TA.26-161-j19-1.1.H    |12:39:00  |8590677      |12:40:00 |8590683     |\n",
      "|6            |10.TA.26-131-j19-1.1.R   |18:53:00  |8573552      |18:55:00 |8503855     |\n",
      "|3            |10.TA.26-449-j19-1.1.H   |16:31:00  |8576277      |16:33:00 |8576260     |\n",
      "|17           |100.TA.1-350-j19-1.2.R   |16:21:00  |8502560      |16:22:00 |8572599     |\n",
      "|4            |1004.TA.26-15-A-j19-1.9.R|07:18:00  |8591174      |07:19:00 |8591373     |\n",
      "|20           |1004.TA.26-3-A-j19-1.2.H |15:41:00  |8591199      |15:42:00 |8591233     |\n",
      "|9            |149.TA.26-520-j19-1.2.H  |16:50:00  |8573211      |16:51:00 |8588553     |\n",
      "|23           |1490.TA.26-6-B-j19-1.9.R |06:54:00  |8591389      |06:55:00 |8591442     |\n",
      "|4            |1492.TA.26-2-A-j19-1.24.R|20:48:00  |8576198      |20:49:00 |8576197     |\n",
      "+-------------+-------------------------+----------+-------------+---------+------------+\n",
      "only showing top 30 rows"
     ]
    }
   ],
   "source": [
    "schedule.sample(0.001).show(30, False)"
   ]
  },
  {
   "cell_type": "code",
   "execution_count": 15,
   "metadata": {},
   "outputs": [
    {
     "data": {
      "application/vnd.jupyter.widget-view+json": {
       "model_id": "",
       "version_major": 2,
       "version_minor": 0
      },
      "text/plain": [
       "FloatProgress(value=0.0, bar_style='info', description='Progress:', layout=Layout(height='25px', width='50%'),…"
      ]
     },
     "metadata": {},
     "output_type": "display_data"
    }
   ],
   "source": [
    "stations = spark.read.csv(\"../data/zurich_stations_ids.csv\")"
   ]
  },
  {
   "cell_type": "code",
   "execution_count": 17,
   "metadata": {},
   "outputs": [
    {
     "data": {
      "application/vnd.jupyter.widget-view+json": {
       "model_id": "",
       "version_major": 2,
       "version_minor": 0
      },
      "text/plain": [
       "FloatProgress(value=0.0, bar_style='info', description='Progress:', layout=Layout(height='25px', width='50%'),…"
      ]
     },
     "metadata": {},
     "output_type": "display_data"
    }
   ],
   "source": [
    "stations = (\n",
    "    stations\n",
    "    .select(stations._c0.alias('station_id'))\n",
    ")"
   ]
  },
  {
   "cell_type": "code",
   "execution_count": 20,
   "metadata": {},
   "outputs": [
    {
     "data": {
      "application/vnd.jupyter.widget-view+json": {
       "model_id": "",
       "version_major": 2,
       "version_minor": 0
      },
      "text/plain": [
       "FloatProgress(value=0.0, bar_style='info', description='Progress:', layout=Layout(height='25px', width='50%'),…"
      ]
     },
     "metadata": {},
     "output_type": "display_data"
    },
    {
     "name": "stderr",
     "output_type": "stream",
     "text": [
      "An error was encountered:\n",
      "u'Unable to infer schema for ORC. It must be specified manually.;'\n",
      "Traceback (most recent call last):\n",
      "  File \"/hdata/sde/hadoop/yarn/local/usercache/ebouille/appcache/application_1589299642358_2070/container_e06_1589299642358_2070_01_000001/pyspark.zip/pyspark/sql/readwriter.py\", line 476, in orc\n",
      "    return self._df(self._jreader.orc(_to_seq(self._spark._sc, path)))\n",
      "  File \"/hdata/sde/hadoop/yarn/local/usercache/ebouille/appcache/application_1589299642358_2070/container_e06_1589299642358_2070_01_000001/py4j-0.10.7-src.zip/py4j/java_gateway.py\", line 1257, in __call__\n",
      "    answer, self.gateway_client, self.target_id, self.name)\n",
      "  File \"/hdata/sde/hadoop/yarn/local/usercache/ebouille/appcache/application_1589299642358_2070/container_e06_1589299642358_2070_01_000001/pyspark.zip/pyspark/sql/utils.py\", line 69, in deco\n",
      "    raise AnalysisException(s.split(': ', 1)[1], stackTrace)\n",
      "AnalysisException: u'Unable to infer schema for ORC. It must be specified manually.;'\n",
      "\n"
     ]
    }
   ],
   "source": [
    "timetable = spark.read.csv(\"/user/gflueck/timetable.csv\")"
   ]
  },
  {
   "cell_type": "code",
   "execution_count": null,
   "metadata": {},
   "outputs": [],
   "source": [
    "timetable = (\n",
    "    timetable\n",
    "    .join(f.broadcast(stations), timetable. how='right')\n",
    ")"
   ]
  },
  {
   "cell_type": "code",
   "execution_count": 28,
   "metadata": {},
   "outputs": [
    {
     "data": {
      "application/vnd.jupyter.widget-view+json": {
       "model_id": "",
       "version_major": 2,
       "version_minor": 0
      },
      "text/plain": [
       "FloatProgress(value=0.0, bar_style='info', description='Progress:', layout=Layout(height='25px', width='50%'),…"
      ]
     },
     "metadata": {},
     "output_type": "display_data"
    }
   ],
   "source": [
    "trips = spark.read.orc('/data/sbb/timetables/orc/trips')"
   ]
  },
  {
   "cell_type": "code",
   "execution_count": 32,
   "metadata": {},
   "outputs": [
    {
     "data": {
      "application/vnd.jupyter.widget-view+json": {
       "model_id": "",
       "version_major": 2,
       "version_minor": 0
      },
      "text/plain": [
       "FloatProgress(value=0.0, bar_style='info', description='Progress:', layout=Layout(height='25px', width='50%'),…"
      ]
     },
     "metadata": {},
     "output_type": "display_data"
    },
    {
     "name": "stdout",
     "output_type": "stream",
     "text": [
      "+-----------+----------+------------------------+------------------+---------------+------------+\n",
      "|route_id   |service_id|trip_id                 |trip_headsign     |trip_short_name|direction_id|\n",
      "+-----------+----------+------------------------+------------------+---------------+------------+\n",
      "|26-13-j19-1|TA+b0j2l  |1688.TA.26-13-j19-1.24.H|Zürich, Albisgütli|29954          |0           |\n",
      "+-----------+----------+------------------------+------------------+---------------+------------+"
     ]
    }
   ],
   "source": [
    "trips.where(trips.trip_id == '1688.TA.26-13-j19-1.24.H').show(20, False)"
   ]
  },
  {
   "cell_type": "code",
   "execution_count": 43,
   "metadata": {},
   "outputs": [
    {
     "data": {
      "application/vnd.jupyter.widget-view+json": {
       "model_id": "",
       "version_major": 2,
       "version_minor": 0
      },
      "text/plain": [
       "FloatProgress(value=0.0, bar_style='info', description='Progress:', layout=Layout(height='25px', width='50%'),…"
      ]
     },
     "metadata": {},
     "output_type": "display_data"
    }
   ],
   "source": [
    "routes = spark.read.orc('/data/sbb/timetables/orc/routes')"
   ]
  },
  {
   "cell_type": "code",
   "execution_count": 113,
   "metadata": {},
   "outputs": [
    {
     "name": "stderr",
     "output_type": "stream",
     "text": [
      "An error was encountered:\n",
      "Invalid status code '404' from http://iccluster044.iccluster.epfl.ch:8998/sessions/7735 with error payload: \"Session '7735' not found.\"\n"
     ]
    }
   ],
   "source": [
    "routes.orderBy(['route_id']).show(20, False)"
   ]
  },
  {
   "cell_type": "code",
   "execution_count": 38,
   "metadata": {},
   "outputs": [
    {
     "data": {
      "application/vnd.jupyter.widget-view+json": {
       "model_id": "",
       "version_major": 2,
       "version_minor": 0
      },
      "text/plain": [
       "FloatProgress(value=0.0, bar_style='info', description='Progress:', layout=Layout(height='25px', width='50%'),…"
      ]
     },
     "metadata": {},
     "output_type": "display_data"
    }
   ],
   "source": [
    "stop_times = spark.read.orc('/data/sbb/timetables/orc/stop_times')"
   ]
  },
  {
   "cell_type": "code",
   "execution_count": 42,
   "metadata": {},
   "outputs": [
    {
     "data": {
      "application/vnd.jupyter.widget-view+json": {
       "model_id": "",
       "version_major": 2,
       "version_minor": 0
      },
      "text/plain": [
       "FloatProgress(value=0.0, bar_style='info', description='Progress:', layout=Layout(height='25px', width='50%'),…"
      ]
     },
     "metadata": {},
     "output_type": "display_data"
    },
    {
     "name": "stdout",
     "output_type": "stream",
     "text": [
      "+----------------------+------------+--------------+---------------+-------------+-----------+-------------+\n",
      "|trip_id               |arrival_time|departure_time|stop_id        |stop_sequence|pickup_type|drop_off_type|\n",
      "+----------------------+------------+--------------+---------------+-------------+-----------+-------------+\n",
      "|1.TA.1-1-A-j19-1.1.R  |01:07:00    |01:07:00      |8502113:0:4    |1            |0          |0            |\n",
      "|1.TA.1-1-A-j19-1.1.R  |01:11:00    |01:11:00      |8502114:0:4    |2            |0          |0            |\n",
      "|1.TA.1-1-A-j19-1.1.R  |01:15:00    |01:16:00      |8502119:0:2    |3            |0          |0            |\n",
      "|1.TA.1-1-A-j19-1.1.R  |01:19:00    |01:19:00      |8502105:0:5    |4            |0          |0            |\n",
      "|1.TA.1-1-A-j19-1.1.R  |01:22:00    |01:22:00      |8502247:0:5    |5            |0          |0            |\n",
      "|1.TA.1-1-A-j19-1.1.R  |01:24:00    |01:24:00      |8502237:0:5    |6            |0          |0            |\n",
      "|1.TA.1-1-A-j19-1.1.R  |01:29:00    |01:29:00      |8500309:0:5    |7            |0          |0            |\n",
      "|1.TA.1-1-B-j19-1.1.R  |04:20:00    |04:20:00      |8500010:0:3    |1            |0          |0            |\n",
      "|1.TA.1-1-B-j19-1.1.R  |04:24:00    |04:24:00      |8500020:0:3    |2            |0          |0            |\n",
      "|1.TA.1-1-B-j19-1.1.R  |04:28:00    |04:28:00      |8500021:0:5    |3            |0          |0            |\n",
      "|1.TA.1-1-B-j19-1.1.R  |04:30:00    |04:30:00      |8517131:0:2    |4            |0          |0            |\n",
      "|1.TA.1-1-B-j19-1.1.R  |04:32:00    |04:32:00      |8500300:0:5    |5            |0          |0            |\n",
      "|1.TA.1-1-B-j19-1.1.R  |04:35:00    |04:35:00      |8500313:0:2    |6            |0          |0            |\n",
      "|1.TA.1-1-B-j19-1.1.R  |04:37:00    |04:38:00      |8500301:0:3    |7            |0          |0            |\n",
      "|1.TA.1-1-B-j19-1.1.R  |04:40:00    |04:41:00      |8500302:0:3    |8            |0          |0            |\n",
      "|1.TA.1-1-B-j19-1.1.R  |04:45:00    |04:45:00      |8500303:0:2    |9            |0          |0            |\n",
      "|1.TA.1-1-B-j19-1.1.R  |04:48:00    |04:49:00      |8500320:0:3    |10           |0          |0            |\n",
      "|1.TA.1-1-B-j19-1.1.R  |04:52:00    |04:52:00      |8500304:0:2    |11           |0          |0            |\n",
      "|1.TA.1-1-B-j19-1.1.R  |04:56:00    |04:56:00      |8500305:0:1    |12           |0          |0            |\n",
      "|1.TA.1-1-C-j19-1.1.H  |05:22:00    |05:22:00      |8572745        |1            |0          |0            |\n",
      "|1.TA.1-1-C-j19-1.1.H  |05:24:00    |05:24:00      |8502581        |2            |0          |0            |\n",
      "|1.TA.1-1-C-j19-1.1.H  |05:25:00    |05:25:00      |8572677        |3            |0          |0            |\n",
      "|1.TA.1-1-C-j19-1.1.H  |05:26:00    |05:26:00      |8572678        |4            |0          |0            |\n",
      "|1.TA.1-1-C-j19-1.1.H  |05:26:00    |05:26:00      |8572679        |5            |0          |0            |\n",
      "|1.TA.1-1-C-j19-1.1.H  |05:27:00    |05:27:00      |8572680        |6            |0          |0            |\n",
      "|1.TA.1-1-C-j19-1.1.H  |05:29:00    |05:29:00      |8502363        |7            |0          |0            |\n",
      "|1.TA.1-1-C-j19-1.1.H  |05:31:00    |05:31:00      |8572681        |8            |0          |0            |\n",
      "|1.TA.1-1-C-j19-1.1.H  |05:32:00    |05:32:00      |8502362        |9            |0          |0            |\n",
      "|1.TA.1-1-C-j19-1.1.H  |05:33:00    |05:33:00      |8577503        |10           |0          |0            |\n",
      "|1.TA.1-1-C-j19-1.1.H  |05:34:00    |05:34:00      |8594497        |11           |0          |0            |\n",
      "|1.TA.1-1-C-j19-1.1.H  |05:35:00    |05:35:00      |8502712        |12           |0          |0            |\n",
      "|1.TA.1-1-C-j19-1.1.H  |05:36:00    |05:36:00      |8572682        |13           |0          |0            |\n",
      "|1.TA.1-1-C-j19-1.1.H  |05:37:00    |05:37:00      |8502383        |14           |0          |0            |\n",
      "|1.TA.1-1-C-j19-1.1.H  |05:41:00    |05:41:00      |8572683        |15           |0          |0            |\n",
      "|1.TA.1-1-D-j19-1.1.R  |08:17:00    |08:17:00      |8572390        |1            |0          |0            |\n",
      "|1.TA.1-1-D-j19-1.1.R  |08:18:00    |08:18:00      |8502683        |2            |0          |0            |\n",
      "|1.TA.1-1-D-j19-1.1.R  |08:19:00    |08:19:00      |8572389        |3            |0          |0            |\n",
      "|1.TA.1-1-D-j19-1.1.R  |08:20:00    |08:20:00      |8502684        |4            |0          |0            |\n",
      "|1.TA.1-1-D-j19-1.1.R  |08:21:00    |08:21:00      |8502685        |5            |0          |0            |\n",
      "|1.TA.1-1-D-j19-1.1.R  |08:22:00    |08:22:00      |8572388        |6            |0          |0            |\n",
      "|1.TA.1-1-D-j19-1.1.R  |08:23:00    |08:23:00      |8578644        |7            |0          |0            |\n",
      "|1.TA.1-1-D-j19-1.1.R  |08:24:00    |08:24:00      |8578643        |8            |0          |0            |\n",
      "|1.TA.1-1-D-j19-1.1.R  |08:25:00    |08:25:00      |8578642        |9            |0          |0            |\n",
      "|1.TA.1-1-D-j19-1.1.R  |08:29:00    |08:29:00      |8502996:0:E    |10           |0          |0            |\n",
      "|1.TA.1-1-E-j19-1.1.H  |05:18:00    |05:18:00      |8578672        |1            |0          |0            |\n",
      "|1.TA.1-1-E-j19-1.1.H  |05:19:00    |05:19:00      |8578671        |2            |0          |0            |\n",
      "|1.TA.1-1-E-j19-1.1.H  |05:19:00    |05:19:00      |8578670        |3            |0          |0            |\n",
      "|1.TA.1-1-E-j19-1.1.H  |05:20:00    |05:20:00      |8578669        |4            |0          |0            |\n",
      "|1.TA.1-1-E-j19-1.1.H  |05:21:00    |05:21:00      |8590187        |5            |0          |0            |\n",
      "|1.TA.1-1-E-j19-1.1.H  |05:22:00    |05:22:00      |8578668        |6            |0          |0            |\n",
      "|1.TA.1-1-E-j19-1.1.H  |05:23:00    |05:23:00      |8590197        |7            |0          |0            |\n",
      "|1.TA.1-1-E-j19-1.1.H  |05:25:00    |05:25:00      |8590190:0:C    |8            |0          |0            |\n",
      "|1.TA.1-1-E-j19-1.1.H  |05:26:00    |05:26:00      |8590192        |9            |0          |0            |\n",
      "|1.TA.1-1-E-j19-1.1.H  |05:27:00    |05:27:00      |8572580        |10           |0          |0            |\n",
      "|1.TA.1-1-E-j19-1.1.H  |05:28:00    |05:28:00      |8572581        |11           |0          |0            |\n",
      "|1.TA.1-1-E-j19-1.1.H  |05:29:00    |05:29:00      |8590300        |12           |0          |0            |\n",
      "|1.TA.1-1-E-j19-1.1.H  |05:30:00    |05:30:00      |8590312        |13           |0          |0            |\n",
      "|1.TA.1-1-E-j19-1.1.H  |05:31:00    |05:31:00      |8578678        |14           |0          |0            |\n",
      "|1.TA.1-1-E-j19-1.1.H  |05:32:00    |05:32:00      |8590303        |15           |0          |0            |\n",
      "|1.TA.1-1-E-j19-1.1.H  |05:33:00    |05:33:00      |8590306        |16           |0          |0            |\n",
      "|1.TA.1-1-E-j19-1.1.H  |05:34:00    |05:34:00      |8590295        |17           |0          |0            |\n",
      "|1.TA.1-1-E-j19-1.1.H  |05:35:00    |05:35:00      |8590299        |18           |0          |0            |\n",
      "|1.TA.1-1-E-j19-1.1.H  |05:35:00    |05:35:00      |8590315        |19           |0          |0            |\n",
      "|1.TA.1-1-E-j19-1.1.H  |05:36:00    |05:36:00      |8590313        |20           |0          |0            |\n",
      "|1.TA.1-1-E-j19-1.1.H  |05:37:00    |05:37:00      |8590316        |21           |0          |0            |\n",
      "|1.TA.1-1-E-j19-1.1.H  |05:38:00    |05:38:00      |8590317        |22           |0          |0            |\n",
      "|1.TA.1-1-E-j19-1.1.H  |05:39:00    |05:39:00      |8590314        |23           |0          |0            |\n",
      "|1.TA.1-1-E-j19-1.1.H  |05:40:00    |05:40:00      |8578679        |24           |0          |0            |\n",
      "|1.TA.1-1-j19-1.1.H    |05:19:00    |05:19:00      |8503000:0:13   |1            |0          |0            |\n",
      "|1.TA.1-1-j19-1.1.H    |05:39:00    |05:40:00      |8502119:0:3    |2            |0          |0            |\n",
      "|1.TA.1-1-j19-1.1.H    |05:46:00    |05:48:00      |8502113:0:4    |3            |0          |0            |\n",
      "|1.TA.1-1-j19-1.1.H    |05:57:00    |06:02:00      |8500218:0:8    |4            |0          |0            |\n",
      "|1.TA.1-1-j19-1.1.H    |06:39:00    |06:39:00      |8507000:0:2    |6            |0          |0            |\n",
      "|1.TA.1-10-j19-1.1.R   |06:03:00    |06:03:00      |8590274        |1            |0          |0            |\n",
      "|1.TA.1-10-j19-1.1.R   |06:04:00    |06:04:00      |8590272        |2            |0          |0            |\n",
      "|1.TA.1-10-j19-1.1.R   |06:05:00    |06:05:00      |8590276        |3            |0          |0            |\n",
      "|1.TA.1-10-j19-1.1.R   |06:06:00    |06:06:00      |8590269        |4            |0          |0            |\n",
      "|1.TA.1-10-j19-1.1.R   |06:08:00    |06:08:00      |8590239        |5            |0          |0            |\n",
      "|1.TA.1-100-j19-1.1.R  |07:13:00    |07:13:00      |8500962        |1            |0          |0            |\n",
      "|1.TA.1-100-j19-1.1.R  |07:14:00    |07:14:00      |8572275        |2            |0          |0            |\n",
      "|1.TA.1-100-j19-1.1.R  |07:15:00    |07:15:00      |8572274        |3            |0          |0            |\n",
      "|1.TA.1-100-j19-1.1.R  |07:17:00    |07:17:00      |8500783        |4            |0          |0            |\n",
      "|1.TA.1-100-j19-1.1.R  |07:18:00    |07:18:00      |8572273        |5            |0          |0            |\n",
      "|1.TA.1-100-j19-1.1.R  |07:20:00    |07:20:00      |8572272        |6            |0          |0            |\n",
      "|1.TA.1-100-j19-1.1.R  |07:21:00    |07:21:00      |8572271        |7            |0          |0            |\n",
      "|1.TA.1-100-j19-1.1.R  |07:22:00    |07:22:00      |8572251        |8            |0          |0            |\n",
      "|1.TA.1-100-j19-1.1.R  |07:23:00    |07:23:00      |8572250        |9            |0          |0            |\n",
      "|1.TA.1-100-j19-1.1.R  |07:29:00    |07:29:00      |8572249        |10           |0          |0            |\n",
      "|1.TA.1-11-A-j19-1.1.H |14:23:00    |14:23:00      |8572745        |1            |0          |0            |\n",
      "|1.TA.1-11-A-j19-1.1.H |14:23:00    |14:23:00      |8572728        |2            |0          |0            |\n",
      "|1.TA.1-11-A-j19-1.1.H |14:24:00    |14:24:00      |8502386        |3            |0          |0            |\n",
      "|1.TA.1-11-A-j19-1.1.H |14:25:00    |14:25:00      |8502384        |4            |0          |0            |\n",
      "|1.TA.1-11-A-j19-1.1.H |14:26:00    |14:26:00      |8572741        |5            |0          |0            |\n",
      "|1.TA.1-11-A-j19-1.1.H |14:28:00    |14:28:00      |8502375        |6            |0          |0            |\n",
      "|1.TA.1-11-A-j19-1.1.H |14:30:00    |14:30:00      |8590393        |7            |0          |0            |\n",
      "|1.TA.1-11-A-j19-1.1.H |14:31:00    |14:31:00      |8581099        |8            |0          |0            |\n",
      "|1.TA.1-11-A-j19-1.1.H |14:32:00    |14:32:00      |8572728        |9            |0          |0            |\n",
      "|1.TA.1-11-A-j19-1.1.H |14:35:00    |14:35:00      |8572745        |10           |0          |0            |\n",
      "|1.TA.1-11-B-j19-1.1.R |06:14:00    |06:14:00      |8590239        |1            |0          |0            |\n",
      "|1.TA.1-11-B-j19-1.1.R |06:15:00    |06:15:00      |8594308        |2            |0          |0            |\n",
      "|1.TA.1-11-B-j19-1.1.R |06:16:00    |06:16:00      |8594304        |3            |0          |0            |\n",
      "|1.TA.1-11-B-j19-1.1.R |06:17:00    |06:17:00      |8594310        |4            |0          |0            |\n",
      "|1.TA.1-11-B-j19-1.1.R |06:18:00    |06:18:00      |8594307        |5            |0          |0            |\n",
      "|1.TA.1-11-B-j19-1.1.R |06:19:00    |06:19:00      |8590317        |6            |0          |0            |\n",
      "|1.TA.1-11-B-j19-1.1.R |06:20:00    |06:20:00      |8590314        |7            |0          |0            |\n",
      "|1.TA.1-11-B-j19-1.1.R |06:21:00    |06:21:00      |8594306        |8            |0          |0            |\n",
      "|1.TA.1-11-B-j19-1.1.R |06:22:00    |06:22:00      |8594309        |9            |0          |0            |\n",
      "|1.TA.1-11-B-j19-1.1.R |06:24:00    |06:24:00      |8594305        |10           |0          |0            |\n",
      "|1.TA.1-11-j19-1.1.H   |23:50:00    |23:50:00      |8503147:0:1    |1            |0          |0            |\n",
      "|1.TA.1-11-j19-1.1.H   |23:55:00    |23:55:00      |8503003:0:2    |2            |0          |0            |\n",
      "|1.TA.1-11-j19-1.1.H   |23:58:00    |23:59:00      |8503000:0:41/42|3            |0          |0            |\n",
      "|1.TA.1-11-j19-1.1.H   |24:01:00    |24:01:00      |8503020:0:4    |4            |0          |0            |\n",
      "|1.TA.1-11-j19-1.1.H   |24:05:00    |24:05:00      |8503001:0:2    |5            |0          |0            |\n",
      "|1.TA.1-11-j19-1.1.H   |24:08:00    |24:08:00      |8503509:0:3    |6            |0          |0            |\n",
      "|1.TA.1-11-j19-1.1.H   |24:11:00    |24:11:00      |8503512:0:1    |7            |0          |0            |\n",
      "|1.TA.1-11-j19-1.1.H   |24:14:00    |24:15:00      |8503508:0:3    |8            |0          |0            |\n",
      "|1.TA.1-11-j19-1.1.H   |24:19:00    |24:19:00      |8503506:0:4    |9            |0          |0            |\n",
      "|1.TA.1-11-j19-1.1.H   |24:24:00    |24:25:00      |8516219:0:2    |10           |0          |0            |\n",
      "|1.TA.1-11-j19-1.1.H   |24:27:00    |24:28:00      |8502106:0:3    |11           |0          |0            |\n",
      "|1.TA.1-11-j19-1.1.H   |24:30:00    |24:35:00      |8502105:0:3    |12           |0          |0            |\n",
      "|1.TA.1-11-j19-1.1.H   |24:40:00    |24:45:00      |8502211:0:1    |13           |0          |0            |\n",
      "|1.TA.1-11-j19-1.1.H   |24:48:00    |24:49:00      |8502119:0:4    |14           |0          |0            |\n",
      "|1.TA.1-11-j19-1.1.H   |24:53:00    |24:53:00      |8502113:0:4    |15           |0          |0            |\n",
      "|1.TA.1-12-j19-1.1.H   |25:06:00    |25:06:00      |8503504:0:2    |1            |0          |0            |\n",
      "|1.TA.1-12-j19-1.1.H   |25:10:00    |25:11:00      |8503503:0:4    |2            |1          |0            |\n",
      "|1.TA.1-12-j19-1.1.H   |25:15:00    |25:15:00      |8500309:0:3    |3            |0          |0            |\n",
      "|1.TA.1-13-j19-1.1.R   |05:11:00    |05:11:00      |8594203        |1            |0          |0            |\n",
      "|1.TA.1-13-j19-1.1.R   |05:11:00    |05:11:00      |8594282        |2            |0          |0            |\n",
      "|1.TA.1-13-j19-1.1.R   |05:13:00    |05:13:00      |8502766        |3            |0          |0            |\n",
      "|1.TA.1-13-j19-1.1.R   |05:14:00    |05:14:00      |8572653        |4            |0          |0            |\n",
      "|1.TA.1-13-j19-1.1.R   |05:15:00    |05:15:00      |8502587        |5            |0          |0            |\n",
      "|1.TA.1-13-j19-1.1.R   |05:17:00    |05:17:00      |8502768        |6            |0          |0            |\n",
      "|1.TA.1-13-j19-1.1.R   |05:18:00    |05:18:00      |8502769        |7            |0          |0            |\n",
      "|1.TA.1-13-j19-1.1.R   |05:20:00    |05:20:00      |8502584        |8            |0          |0            |\n",
      "|1.TA.1-13-j19-1.1.R   |05:21:00    |05:21:00      |8502368        |9            |0          |0            |\n",
      "|1.TA.1-13-j19-1.1.R   |05:22:00    |05:22:00      |8502583        |10           |0          |0            |\n",
      "|1.TA.1-13-j19-1.1.R   |05:23:00    |05:23:00      |8502367        |11           |0          |0            |\n",
      "|1.TA.1-13-j19-1.1.R   |05:25:00    |05:25:00      |8502582        |12           |0          |0            |\n",
      "|1.TA.1-13-j19-1.1.R   |05:26:00    |05:26:00      |8502371        |13           |0          |0            |\n",
      "|1.TA.1-13-j19-1.1.R   |05:27:00    |05:27:00      |8502385        |14           |0          |0            |\n",
      "|1.TA.1-13-j19-1.1.R   |05:28:00    |05:28:00      |8502370        |15           |0          |0            |\n",
      "|1.TA.1-13-j19-1.1.R   |05:29:00    |05:29:00      |8572654        |16           |0          |0            |\n",
      "|1.TA.1-13-j19-1.1.R   |05:30:00    |05:30:00      |8502369        |17           |0          |0            |\n",
      "|1.TA.1-13-j19-1.1.R   |05:31:00    |05:31:00      |8502581        |18           |0          |0            |\n",
      "|1.TA.1-13-j19-1.1.R   |05:38:00    |05:38:00      |8572745        |19           |0          |0            |\n",
      "|1.TA.1-134-j19-1.1.H  |05:21:00    |05:21:00      |8572748        |1            |0          |0            |\n",
      "|1.TA.1-134-j19-1.1.H  |05:21:00    |05:21:00      |8583811        |2            |0          |0            |\n",
      "|1.TA.1-134-j19-1.1.H  |05:23:00    |05:23:00      |8583810        |3            |0          |0            |\n",
      "|1.TA.1-134-j19-1.1.H  |05:23:00    |05:23:00      |8581530        |4            |0          |0            |\n",
      "|1.TA.1-134-j19-1.1.H  |05:25:00    |05:25:00      |8581950        |5            |0          |0            |\n",
      "|1.TA.1-134-j19-1.1.H  |05:26:00    |05:26:00      |8581843        |6            |0          |0            |\n",
      "|1.TA.1-134-j19-1.1.H  |05:27:00    |05:27:00      |8581951        |7            |0          |0            |\n",
      "|1.TA.1-134-j19-1.1.H  |05:30:00    |05:30:00      |8581529        |8            |0          |0            |\n",
      "|1.TA.1-134-j19-1.1.H  |05:31:00    |05:31:00      |8581549        |9            |0          |0            |\n",
      "|1.TA.1-134-j19-1.1.H  |05:32:00    |05:32:00      |8581550        |10           |0          |0            |\n",
      "|1.TA.1-134-j19-1.1.H  |05:33:00    |05:33:00      |8572398        |11           |0          |0            |\n",
      "|1.TA.1-134-j19-1.1.H  |05:34:00    |05:34:00      |8572397        |12           |0          |0            |\n",
      "|1.TA.1-134-j19-1.1.H  |05:39:00    |05:39:00      |8500583        |13           |0          |0            |\n",
      "|1.TA.1-135-j19-1.1.R  |05:16:00    |05:16:00      |8500978        |1            |0          |0            |\n",
      "|1.TA.1-135-j19-1.1.R  |05:16:00    |05:16:00      |8572394        |2            |0          |0            |\n",
      "|1.TA.1-135-j19-1.1.R  |05:17:00    |05:17:00      |8500982        |3            |0          |0            |\n",
      "|1.TA.1-135-j19-1.1.R  |05:18:00    |05:18:00      |8572395        |4            |0          |0            |\n",
      "|1.TA.1-135-j19-1.1.R  |05:20:00    |05:20:00      |8577981        |5            |0          |0            |\n",
      "|1.TA.1-135-j19-1.1.R  |05:21:00    |05:21:00      |8572396        |6            |0          |0            |\n",
      "|1.TA.1-135-j19-1.1.R  |05:22:00    |05:22:00      |8572397        |7            |0          |0            |\n",
      "|1.TA.1-135-j19-1.1.R  |05:26:00    |05:26:00      |8500583        |8            |0          |0            |\n",
      "|1.TA.1-135-j19-1.1.R  |05:27:00    |05:27:00      |8572397        |9            |0          |0            |\n",
      "|1.TA.1-135-j19-1.1.R  |05:28:00    |05:28:00      |8572398        |10           |0          |0            |\n",
      "|1.TA.1-135-j19-1.1.R  |05:31:00    |05:31:00      |8572399        |11           |0          |0            |\n",
      "|1.TA.1-135-j19-1.1.R  |05:32:00    |05:32:00      |8572400        |12           |0          |0            |\n",
      "|1.TA.1-135-j19-1.1.R  |05:35:00    |05:35:00      |8581949        |13           |0          |0            |\n",
      "|1.TA.1-135-j19-1.1.R  |05:36:00    |05:36:00      |8500983        |14           |0          |0            |\n",
      "|1.TA.1-135-j19-1.1.R  |05:37:00    |05:37:00      |8572415        |15           |0          |0            |\n",
      "|1.TA.1-135-j19-1.1.R  |05:38:00    |05:38:00      |8582053        |16           |0          |0            |\n",
      "|1.TA.1-135-j19-1.1.R  |05:39:00    |05:39:00      |8572402        |17           |0          |0            |\n",
      "|1.TA.1-135-j19-1.1.R  |05:42:00    |05:42:00      |8572403        |18           |0          |0            |\n",
      "|1.TA.1-136-j19-1.1.H  |05:34:00    |05:34:00      |8572397        |1            |0          |0            |\n",
      "|1.TA.1-136-j19-1.1.H  |05:35:00    |05:35:00      |8572414        |2            |0          |0            |\n",
      "|1.TA.1-136-j19-1.1.H  |05:36:00    |05:36:00      |8572413        |3            |0          |0            |\n",
      "|1.TA.1-136-j19-1.1.H  |05:38:00    |05:38:00      |8572412        |4            |0          |0            |\n",
      "|1.TA.1-136-j19-1.1.H  |05:38:00    |05:38:00      |8500792        |5            |0          |0            |\n",
      "|1.TA.1-136-j19-1.1.H  |05:39:00    |05:39:00      |8572411        |6            |0          |0            |\n",
      "|1.TA.1-136-j19-1.1.H  |05:41:00    |05:41:00      |8572408        |7            |0          |0            |\n",
      "|1.TA.1-136-j19-1.1.H  |05:42:00    |05:42:00      |8572409        |8            |0          |0            |\n",
      "|1.TA.1-136-j19-1.1.H  |05:43:00    |05:43:00      |8572410        |9            |0          |0            |\n",
      "|1.TA.1-136-j19-1.1.H  |05:44:00    |05:44:00      |8572409        |10           |0          |0            |\n",
      "|1.TA.1-136-j19-1.1.H  |05:44:00    |05:44:00      |8500793        |11           |0          |0            |\n",
      "|1.TA.1-136-j19-1.1.H  |05:45:00    |05:45:00      |8572408        |12           |0          |0            |\n",
      "|1.TA.1-136-j19-1.1.H  |05:45:00    |05:45:00      |8582073        |13           |0          |0            |\n",
      "|1.TA.1-136-j19-1.1.H  |05:47:00    |05:47:00      |8572407        |14           |0          |0            |\n",
      "|1.TA.1-136-j19-1.1.H  |05:48:00    |05:48:00      |8500794        |15           |0          |0            |\n",
      "|1.TA.1-136-j19-1.1.H  |05:49:00    |05:49:00      |8572406        |16           |0          |0            |\n",
      "|1.TA.1-136-j19-1.1.H  |05:50:00    |05:50:00      |8500795        |17           |0          |0            |\n",
      "|1.TA.1-136-j19-1.1.H  |05:51:00    |05:51:00      |8500593        |18           |0          |0            |\n",
      "|1.TA.1-136-j19-1.1.H  |05:52:00    |05:52:00      |8572405        |19           |0          |0            |\n",
      "|1.TA.1-136-j19-1.1.H  |05:54:00    |05:54:00      |8500796        |20           |0          |0            |\n",
      "|1.TA.1-136-j19-1.1.H  |05:56:00    |05:56:00      |8502687        |21           |0          |0            |\n",
      "|1.TA.1-136-j19-1.1.H  |05:57:00    |05:57:00      |8500687        |22           |0          |0            |\n",
      "|1.TA.1-136-j19-1.1.H  |05:58:00    |05:58:00      |8502686        |23           |0          |0            |\n",
      "|1.TA.1-136-j19-1.1.H  |05:59:00    |05:59:00      |8572390        |24           |0          |0            |\n",
      "|1.TA.1-136-j19-1.1.H  |06:01:00    |06:01:00      |8572389        |25           |0          |0            |\n",
      "|1.TA.1-136-j19-1.1.H  |06:03:00    |06:03:00      |8502685        |26           |0          |0            |\n",
      "|1.TA.1-136-j19-1.1.H  |06:04:00    |06:04:00      |8572388        |27           |0          |0            |\n",
      "|1.TA.1-136-j19-1.1.H  |06:05:00    |06:05:00      |8578644        |28           |0          |0            |\n",
      "|1.TA.1-136-j19-1.1.H  |06:06:00    |06:06:00      |8578643        |29           |0          |0            |\n",
      "|1.TA.1-136-j19-1.1.H  |06:08:00    |06:08:00      |8502996        |30           |0          |0            |\n",
      "|1.TA.1-137-j19-1.1.H  |05:10:00    |05:10:00      |8500582        |1            |0          |0            |\n",
      "|1.TA.1-137-j19-1.1.H  |05:12:00    |05:12:00      |8500975        |2            |0          |0            |\n",
      "|1.TA.1-137-j19-1.1.H  |05:13:00    |05:13:00      |8572452        |3            |0          |0            |\n",
      "|1.TA.1-137-j19-1.1.H  |05:14:00    |05:14:00      |8572454        |4            |0          |0            |\n",
      "|1.TA.1-137-j19-1.1.H  |05:15:00    |05:15:00      |8572455        |5            |0          |0            |\n",
      "|1.TA.1-139-j19-1.1.H  |05:52:00    |05:52:00      |8572460        |1            |0          |0            |\n",
      "|1.TA.1-139-j19-1.1.H  |05:57:00    |05:57:00      |8500978        |2            |0          |0            |\n",
      "|1.TA.1-14-j19-1.1.R   |05:40:00    |05:40:00      |8502113:0:12   |1            |0          |0            |\n",
      "|1.TA.1-14-j19-1.1.R   |05:41:00    |05:41:00      |8519685        |2            |0          |0            |\n",
      "|1.TA.1-14-j19-1.1.R   |05:42:00    |05:42:00      |8502123:0:1    |3            |0          |0            |\n",
      "|1.TA.1-14-j19-1.1.R   |05:45:00    |05:47:00      |8502103:0:7    |4            |0          |0            |\n",
      "|1.TA.1-14-j19-1.1.R   |05:49:00    |05:49:00      |8502189        |5            |0          |0            |\n",
      "|1.TA.1-14-j19-1.1.R   |05:51:00    |05:51:00      |8502160:0:3    |6            |0          |0            |\n",
      "|1.TA.1-14-j19-1.1.R   |05:52:00    |05:52:00      |8502184        |7            |0          |0            |\n",
      "|1.TA.1-14-j19-1.1.R   |05:54:00    |05:54:00      |8502174:0:1    |8            |0          |0            |\n",
      "|1.TA.1-14-j19-1.1.R   |05:56:00    |05:56:00      |8502161:0:1    |9            |0          |0            |\n",
      "|1.TA.1-14-j19-1.1.R   |05:58:00    |05:58:00      |8516450:0:3    |10           |0          |0            |\n",
      "|1.TA.1-14-j19-1.1.R   |05:59:00    |05:59:00      |8502162        |11           |0          |0            |\n",
      "|1.TA.1-14-j19-1.1.R   |06:00:00    |06:00:00      |8502183        |12           |0          |0            |\n",
      "|1.TA.1-14-j19-1.1.R   |06:02:00    |06:02:00      |8502163:0:1    |13           |0          |0            |\n",
      "|1.TA.1-14-j19-1.1.R   |06:06:00    |06:06:00      |8502164:0:1/2  |14           |0          |0            |\n",
      "|1.TA.1-14-j19-1.1.R   |06:08:00    |06:08:00      |8502165:0:1    |15           |0          |0            |\n",
      "|1.TA.1-14-j19-1.1.R   |06:10:00    |06:10:00      |8502166:0:2    |16           |0          |0            |\n",
      "|1.TA.1-14-j19-1.1.R   |06:14:00    |06:14:00      |8502167:0:1    |17           |0          |0            |\n",
      "|1.TA.1-14-j19-1.1.R   |06:14:00    |06:14:00      |8502176        |18           |0          |0            |\n",
      "|1.TA.1-14-j19-1.1.R   |06:15:00    |06:15:00      |8502168:0:1    |19           |0          |0            |\n",
      "|1.TA.1-14-j19-1.1.R   |06:18:00    |06:18:00      |8502169:0:1    |20           |0          |0            |\n",
      "|1.TA.1-141-j19-1.1.R  |07:05:00    |07:05:00      |8572440        |1            |0          |0            |\n",
      "|1.TA.1-141-j19-1.1.R  |07:06:00    |07:06:00      |8572439        |2            |0          |0            |\n",
      "|1.TA.1-141-j19-1.1.R  |07:07:00    |07:07:00      |8580575        |3            |0          |0            |\n",
      "|1.TA.1-141-j19-1.1.R  |07:08:00    |07:08:00      |8500589        |4            |0          |0            |\n",
      "|1.TA.1-141-j19-1.1.R  |07:09:00    |07:09:00      |8581108        |5            |0          |0            |\n",
      "|1.TA.1-141-j19-1.1.R  |07:09:00    |07:09:00      |8572438        |6            |0          |0            |\n",
      "|1.TA.1-141-j19-1.1.R  |07:11:00    |07:11:00      |8500588        |7            |0          |0            |\n",
      "|1.TA.1-141-j19-1.1.R  |07:14:00    |07:14:00      |8572424        |8            |0          |0            |\n",
      "|1.TA.1-141-j19-1.1.R  |07:18:00    |07:18:00      |8572403        |9            |0          |0            |\n",
      "|1.TA.1-141-j19-1.1.R  |07:21:00    |07:21:00      |8572437        |10           |0          |0            |\n",
      "|1.TA.1-142-A-j19-1.1.R|05:28:00    |05:28:00      |8500784        |1            |0          |0            |\n",
      "|1.TA.1-142-A-j19-1.1.R|05:29:00    |05:29:00      |8572445        |2            |0          |0            |\n",
      "|1.TA.1-142-A-j19-1.1.R|05:30:00    |05:30:00      |8572444        |3            |0          |0            |\n",
      "|1.TA.1-142-A-j19-1.1.R|05:31:00    |05:31:00      |8500785        |4            |0          |0            |\n",
      "|1.TA.1-142-A-j19-1.1.R|05:31:00    |05:31:00      |8572443        |5            |0          |0            |\n",
      "|1.TA.1-142-A-j19-1.1.R|05:32:00    |05:32:00      |8500556        |6            |0          |0            |\n",
      "|1.TA.1-142-A-j19-1.1.R|05:33:00    |05:33:00      |8500557        |7            |0          |0            |\n",
      "|1.TA.1-142-A-j19-1.1.R|05:35:00    |05:35:00      |8580181        |8            |0          |0            |\n",
      "|1.TA.1-142-A-j19-1.1.R|05:36:00    |05:36:00      |8580165        |9            |0          |0            |\n",
      "|1.TA.1-142-A-j19-1.1.R|05:38:00    |05:38:00      |8572441        |10           |0          |0            |\n",
      "|1.TA.1-142-j19-1.1.H  |24:35:00    |24:35:00      |8572464        |1            |0          |0            |\n",
      "|1.TA.1-142-j19-1.1.H  |24:45:00    |24:45:00      |8500558        |2            |1          |0            |\n",
      "|1.TA.1-142-j19-1.1.H  |24:49:00    |24:49:00      |8500776        |3            |1          |0            |\n",
      "|1.TA.1-142-j19-1.1.H  |24:52:00    |24:52:00      |8500569        |4            |1          |0            |\n",
      "|1.TA.1-142-j19-1.1.H  |24:53:00    |24:53:00      |8572448        |5            |1          |0            |\n",
      "|1.TA.1-142-j19-1.1.H  |24:54:00    |24:54:00      |8572447        |6            |1          |0            |\n",
      "|1.TA.1-142-j19-1.1.H  |24:55:00    |24:55:00      |8500777        |7            |1          |0            |\n",
      "|1.TA.1-142-j19-1.1.H  |24:57:00    |24:57:00      |8500560        |8            |1          |0            |\n",
      "|1.TA.1-142-j19-1.1.H  |24:57:00    |24:57:00      |8572446        |9            |1          |0            |\n",
      "|1.TA.1-142-j19-1.1.H  |24:59:00    |24:59:00      |8500556        |10           |1          |0            |\n",
      "|1.TA.1-142-j19-1.1.H  |25:00:00    |25:00:00      |8572443        |11           |1          |0            |\n",
      "|1.TA.1-142-j19-1.1.H  |25:00:00    |25:00:00      |8500785        |12           |1          |0            |\n",
      "|1.TA.1-142-j19-1.1.H  |25:02:00    |25:02:00      |8572444        |13           |1          |0            |\n",
      "|1.TA.1-142-j19-1.1.H  |25:04:00    |25:04:00      |8572445        |14           |1          |0            |\n",
      "|1.TA.1-142-j19-1.1.H  |25:05:00    |25:05:00      |8500784        |15           |1          |0            |\n",
      "|1.TA.1-142-j19-1.1.H  |25:06:00    |25:06:00      |8572445        |16           |1          |0            |\n",
      "|1.TA.1-142-j19-1.1.H  |25:07:00    |25:07:00      |8572444        |17           |1          |0            |\n",
      "|1.TA.1-142-j19-1.1.H  |25:08:00    |25:08:00      |8500785        |18           |1          |0            |\n",
      "|1.TA.1-142-j19-1.1.H  |25:08:00    |25:08:00      |8572443        |19           |1          |0            |\n",
      "|1.TA.1-142-j19-1.1.H  |25:09:00    |25:09:00      |8500556        |20           |1          |0            |\n",
      "|1.TA.1-142-j19-1.1.H  |25:10:00    |25:10:00      |8500557        |21           |1          |0            |\n",
      "|1.TA.1-142-j19-1.1.H  |25:12:00    |25:12:00      |8580181        |22           |1          |0            |\n",
      "|1.TA.1-142-j19-1.1.H  |25:13:00    |25:13:00      |8580165        |23           |1          |0            |\n",
      "|1.TA.1-142-j19-1.1.H  |25:15:00    |25:15:00      |8572441        |24           |0          |0            |\n",
      "|1.TA.1-143-j19-1.1.H  |05:15:00    |05:15:00      |8572403        |1            |0          |0            |\n",
      "|1.TA.1-143-j19-1.1.H  |05:16:00    |05:16:00      |8572402        |2            |0          |0            |\n",
      "|1.TA.1-143-j19-1.1.H  |05:16:00    |05:16:00      |8582053        |3            |0          |0            |\n",
      "|1.TA.1-143-j19-1.1.H  |05:19:00    |05:19:00      |8500983        |4            |0          |0            |\n",
      "|1.TA.1-143-j19-1.1.H  |05:20:00    |05:20:00      |8572415        |5            |0          |0            |\n",
      "|1.TA.1-143-j19-1.1.H  |05:22:00    |05:22:00      |8580562        |6            |0          |0            |\n",
      "|1.TA.1-143-j19-1.1.H  |05:26:00    |05:26:00      |8572416        |7            |0          |0            |\n",
      "|1.TA.1-143-j19-1.1.H  |05:27:00    |05:27:00      |8572417        |8            |0          |0            |\n",
      "|1.TA.1-143-j19-1.1.H  |05:28:00    |05:28:00      |8572418        |9            |0          |0            |\n",
      "|1.TA.1-143-j19-1.1.H  |05:30:00    |05:30:00      |8572419        |10           |0          |0            |\n",
      "|1.TA.1-143-j19-1.1.H  |05:31:00    |05:31:00      |8572420        |11           |0          |0            |\n",
      "|1.TA.1-143-j19-1.1.H  |05:33:00    |05:33:00      |8572421        |12           |0          |0            |\n",
      "|1.TA.1-143-j19-1.1.H  |05:35:00    |05:35:00      |8572422        |13           |0          |0            |\n",
      "|1.TA.1-143-j19-1.1.H  |05:37:00    |05:37:00      |8572748        |14           |0          |0            |\n",
      "|1.TA.1-144-j19-1.1.H  |06:01:00    |06:01:00      |8500983        |1            |0          |0            |\n",
      "|1.TA.1-144-j19-1.1.H  |06:02:00    |06:02:00      |8580733        |2            |0          |0            |\n",
      "|1.TA.1-144-j19-1.1.H  |06:02:00    |06:02:00      |8572436        |3            |0          |0            |\n",
      "|1.TA.1-144-j19-1.1.H  |06:03:00    |06:03:00      |8583243        |4            |0          |0            |\n",
      "|1.TA.1-144-j19-1.1.H  |06:05:00    |06:05:00      |8500585        |5            |0          |0            |\n",
      "|1.TA.1-147-j19-1.1.H  |05:45:00    |05:45:00      |8572534        |1            |0          |0            |\n",
      "|1.TA.1-147-j19-1.1.H  |05:45:00    |05:45:00      |8572535        |2            |0          |0            |\n",
      "|1.TA.1-147-j19-1.1.H  |05:48:00    |05:48:00      |8572536        |3            |0          |0            |\n",
      "|1.TA.1-147-j19-1.1.H  |05:51:00    |05:51:00      |8580184        |4            |0          |0            |\n",
      "|1.TA.1-148-j19-1.1.R  |06:00:00    |06:00:00      |8503569        |1            |0          |0            |\n",
      "|1.TA.1-148-j19-1.1.R  |06:03:00    |06:03:00      |8503573        |2            |0          |0            |\n",
      "|1.TA.1-148-j19-1.1.R  |06:05:00    |06:05:00      |8503572        |3            |0          |0            |\n",
      "|1.TA.1-148-j19-1.1.R  |06:06:00    |06:06:00      |8572529        |4            |0          |0            |\n",
      "|1.TA.1-148-j19-1.1.R  |06:08:00    |06:08:00      |8503570        |5            |0          |0            |\n",
      "|1.TA.1-148-j19-1.1.R  |06:09:00    |06:09:00      |8572528        |6            |0          |0            |\n",
      "|1.TA.1-148-j19-1.1.R  |06:10:00    |06:10:00      |8503685        |7            |0          |0            |\n",
      "|1.TA.1-148-j19-1.1.R  |06:11:00    |06:11:00      |8581109        |8            |0          |0            |\n",
      "|1.TA.1-148-j19-1.1.R  |06:12:00    |06:12:00      |8503591        |9            |0          |0            |\n",
      "|1.TA.1-148-j19-1.1.R  |06:16:00    |06:16:00      |8572494        |10           |0          |0            |\n",
      "|1.TA.1-149-j19-1.1.H  |05:52:00    |05:52:00      |8580184        |1            |0          |0            |\n",
      "|1.TA.1-149-j19-1.1.H  |05:56:00    |05:56:00      |8580329        |2            |0          |0            |\n",
      "|1.TA.1-149-j19-1.1.H  |06:00:00    |06:00:00      |8572441        |3            |0          |0            |\n",
      "|1.TA.1-16-j19-1.1.R   |05:30:00    |05:30:00      |8500309:0:3    |1            |0          |0            |\n",
      "|1.TA.1-16-j19-1.1.R   |05:37:00    |05:38:00      |8503504:0:1    |2            |0          |0            |\n",
      "|1.TA.1-16-j19-1.1.R   |05:54:00    |05:54:00      |8503000:0:6    |3            |0          |0            |\n",
      "|1.TA.1-17-A-j19-1.1.R |04:53:00    |04:53:00      |8502273:0:1    |1            |0          |0            |\n",
      "|1.TA.1-17-A-j19-1.1.R |04:54:00    |04:54:00      |8502248        |2            |0          |0            |\n",
      "|1.TA.1-17-A-j19-1.1.R |04:55:00    |04:55:00      |8502185        |3            |0          |0            |\n",
      "|1.TA.1-17-A-j19-1.1.R |04:57:00    |04:57:00      |8502272:0:1    |4            |0          |0            |\n",
      "|1.TA.1-17-A-j19-1.1.R |04:59:00    |04:59:00      |8502269:0:2    |5            |0          |0            |\n",
      "|1.TA.1-17-A-j19-1.1.R |05:02:00    |05:02:00      |8502271        |6            |0          |0            |\n",
      "|1.TA.1-17-A-j19-1.1.R |05:04:00    |05:04:00      |8502213:0:11   |7            |0          |0            |\n",
      "|1.TA.1-17-j19-1.1.H   |04:40:00    |04:40:00      |8507000:0:5    |1            |0          |0            |\n",
      "|1.TA.1-17-j19-1.1.H   |04:53:00    |04:54:00      |8508005:0:3    |2            |0          |0            |\n",
      "|1.TA.1-17-j19-1.1.H   |05:06:00    |05:06:00      |8508008:0:2    |3            |0          |0            |\n",
      "|1.TA.1-17-j19-1.1.H   |05:12:00    |05:13:00      |8508100:0:3    |4            |0          |0            |\n",
      "|1.TA.1-17-j19-1.1.H   |05:25:00    |05:30:00      |8500218:0:7    |5            |0          |0            |\n",
      "|1.TA.1-17-j19-1.1.H   |05:40:00    |05:42:00      |8502113:0:2    |6            |0          |0            |\n",
      "|1.TA.1-17-j19-1.1.H   |05:48:00    |05:49:00      |8502119:0:2    |7            |0          |0            |\n",
      "|1.TA.1-17-j19-1.1.H   |06:05:00    |06:06:00      |8503001:0:6    |8            |0          |0            |\n",
      "|1.TA.1-17-j19-1.1.H   |06:15:00    |06:15:00      |8503000:0:15   |9            |0          |0            |\n",
      "|1.TA.1-2-A-j19-1.1.H  |05:28:00    |05:28:00      |8590247        |1            |0          |0            |\n",
      "|1.TA.1-2-A-j19-1.1.H  |05:29:00    |05:29:00      |8590244        |2            |0          |0            |\n",
      "|1.TA.1-2-A-j19-1.1.H  |05:30:00    |05:30:00      |8590248        |3            |0          |0            |\n",
      "|1.TA.1-2-A-j19-1.1.H  |05:31:00    |05:31:00      |8590249        |4            |0          |0            |\n",
      "|1.TA.1-2-A-j19-1.1.H  |05:32:00    |05:32:00      |8590245        |5            |0          |0            |\n",
      "|1.TA.1-2-A-j19-1.1.H  |05:34:00    |05:34:00      |8590240        |6            |0          |0            |\n",
      "|1.TA.1-2-A-j19-1.1.H  |05:35:00    |05:35:00      |8590239        |7            |0          |0            |\n",
      "|1.TA.1-2-A-j19-1.1.H  |05:36:00    |05:36:00      |8590396        |8            |0          |0            |\n",
      "|1.TA.1-2-A-j19-1.1.H  |05:37:00    |05:37:00      |8590278        |9            |0          |0            |\n",
      "|1.TA.1-2-A-j19-1.1.H  |05:38:00    |05:38:00      |8590277        |10           |0          |0            |\n",
      "|1.TA.1-2-A-j19-1.1.H  |05:39:00    |05:39:00      |8590271        |11           |0          |0            |\n",
      "|1.TA.1-2-A-j19-1.1.H  |05:40:00    |05:40:00      |8590279        |12           |0          |0            |\n",
      "|1.TA.1-2-j19-1.1.H    |05:27:00    |05:27:00      |8590261        |1            |0          |0            |\n",
      "|1.TA.1-2-j19-1.1.H    |05:27:00    |05:27:00      |8590257        |2            |0          |0            |\n",
      "|1.TA.1-2-j19-1.1.H    |05:28:00    |05:28:00      |8590259        |3            |0          |0            |\n",
      "|1.TA.1-2-j19-1.1.H    |05:29:00    |05:29:00      |8590258        |4            |0          |0            |\n",
      "|1.TA.1-2-j19-1.1.H    |05:30:00    |05:30:00      |8590260        |5            |0          |0            |\n",
      "|1.TA.1-2-j19-1.1.H    |05:31:00    |05:31:00      |8590151        |6            |0          |0            |\n",
      "|1.TA.1-2-j19-1.1.H    |05:32:00    |05:32:00      |8590138        |7            |0          |0            |\n",
      "|1.TA.1-2-j19-1.1.H    |05:33:00    |05:33:00      |8590156        |8            |0          |0            |\n",
      "|1.TA.1-2-j19-1.1.H    |05:34:00    |05:34:00      |8590134        |9            |0          |0            |\n",
      "|1.TA.1-2-j19-1.1.H    |05:38:00    |05:49:00      |8502996:0:B    |10           |0          |0            |\n",
      "|1.TA.1-2-j19-1.1.H    |05:50:00    |05:50:00      |8578642        |11           |0          |0            |\n",
      "|1.TA.1-2-j19-1.1.H    |05:51:00    |05:51:00      |8578643        |12           |0          |0            |\n",
      "|1.TA.1-2-j19-1.1.H    |05:53:00    |05:53:00      |8578644        |13           |0          |0            |\n",
      "|1.TA.1-2-j19-1.1.H    |05:54:00    |05:54:00      |8572388        |14           |0          |0            |\n",
      "|1.TA.1-2-j19-1.1.H    |05:55:00    |05:55:00      |8578645        |15           |0          |0            |\n",
      "|1.TA.1-2-j19-1.1.H    |05:55:00    |05:55:00      |8578646        |16           |0          |0            |\n",
      "|1.TA.1-2-j19-1.1.H    |05:56:00    |05:56:00      |8578647        |17           |0          |0            |\n",
      "|1.TA.1-2-j19-1.1.H    |05:57:00    |05:57:00      |8578007        |18           |0          |0            |\n",
      "|1.TA.1-2-j19-1.1.H    |05:58:00    |05:58:00      |8578649        |19           |0          |0            |\n",
      "|1.TA.1-2-j19-1.1.H    |05:59:00    |05:59:00      |8578650        |20           |0          |0            |\n",
      "|1.TA.1-2-j19-1.1.H    |05:59:00    |05:59:00      |8578651        |21           |0          |0            |\n",
      "|1.TA.1-2-j19-1.1.H    |06:02:00    |06:02:00      |8578652        |22           |0          |0            |\n",
      "|1.TA.1-205-j19-1.1.H  |24:42:00    |24:42:00      |8573726:0:D    |1            |0          |0            |\n",
      "|1.TA.1-205-j19-1.1.H  |24:44:00    |24:44:00      |8583805        |2            |0          |0            |\n",
      "|1.TA.1-205-j19-1.1.H  |24:45:00    |24:45:00      |8581666        |3            |0          |0            |\n",
      "|1.TA.1-205-j19-1.1.H  |24:48:00    |24:48:00      |8573725        |4            |0          |0            |\n",
      "|1.TA.1-205-j19-1.1.H  |24:49:00    |24:49:00      |8583206        |5            |0          |0            |\n",
      "|1.TA.1-205-j19-1.1.H  |24:51:00    |24:51:00      |8573720        |6            |0          |0            |\n",
      "|1.TA.1-215-j19-1.1.H  |06:23:00    |06:23:00      |8573723        |1            |0          |0            |\n",
      "|1.TA.1-215-j19-1.1.H  |06:25:00    |06:25:00      |8583071        |2            |0          |0            |\n",
      "|1.TA.1-215-j19-1.1.H  |06:26:00    |06:26:00      |8572603        |3            |0          |0            |\n",
      "|1.TA.1-215-j19-1.1.H  |06:27:00    |06:27:00      |8502879        |4            |0          |0            |\n",
      "|1.TA.1-215-j19-1.1.H  |06:27:00    |06:27:00      |8570706        |5            |0          |0            |\n",
      "|1.TA.1-215-j19-1.1.H  |06:29:00    |06:29:00      |8572605        |6            |0          |0            |\n",
      "|1.TA.1-215-j19-1.1.H  |06:30:00    |06:30:00      |8582790        |7            |0          |0            |\n",
      "|1.TA.1-215-j19-1.1.H  |06:31:00    |06:31:00      |8583363        |8            |0          |0            |\n",
      "|1.TA.1-215-j19-1.1.H  |06:32:00    |06:32:00      |8582104        |9            |0          |0            |\n",
      "|1.TA.1-215-j19-1.1.H  |06:34:00    |06:34:00      |8502883        |10           |0          |0            |\n",
      "|1.TA.1-215-j19-1.1.H  |06:36:00    |06:36:00      |8573193        |11           |0          |0            |\n",
      "|1.TA.1-215-j19-1.1.H  |06:36:00    |06:36:00      |8581015        |12           |0          |0            |\n",
      "|1.TA.1-215-j19-1.1.H  |06:39:00    |06:39:00      |8573178:0:B    |13           |0          |0            |\n",
      "|1.TA.1-217-j19-1.1.H  |05:22:00    |05:22:00      |8572744        |1            |0          |0            |\n",
      "|1.TA.1-217-j19-1.1.H  |05:22:00    |05:22:00      |8581669        |2            |0          |0            |\n",
      "|1.TA.1-217-j19-1.1.H  |05:23:00    |05:23:00      |8572610        |3            |0          |0            |\n",
      "|1.TA.1-217-j19-1.1.H  |05:24:00    |05:24:00      |8582054        |4            |0          |0            |\n",
      "|1.TA.1-217-j19-1.1.H  |05:26:00    |05:26:00      |8502565        |5            |0          |0            |\n",
      "|1.TA.1-217-j19-1.1.H  |05:28:00    |05:28:00      |8502558        |6            |0          |0            |\n",
      "|1.TA.1-217-j19-1.1.H  |05:30:00    |05:30:00      |8572609        |7            |0          |0            |\n",
      "|1.TA.1-217-j19-1.1.H  |05:32:00    |05:32:00      |8502890        |8            |0          |0            |\n",
      "|1.TA.1-217-j19-1.1.H  |05:33:00    |05:33:00      |8502556        |9            |0          |0            |\n",
      "|1.TA.1-217-j19-1.1.H  |05:34:00    |05:34:00      |8572608        |10           |0          |0            |\n",
      "|1.TA.1-217-j19-1.1.H  |05:36:00    |05:36:00      |8502555        |11           |0          |0            |\n",
      "|1.TA.1-217-j19-1.1.H  |05:38:00    |05:38:00      |8502960        |12           |0          |0            |\n",
      "|1.TA.1-217-j19-1.1.H  |05:39:00    |05:39:00      |8583481        |13           |0          |0            |\n",
      "|1.TA.1-217-j19-1.1.H  |05:39:00    |05:39:00      |8502778        |14           |0          |0            |\n",
      "|1.TA.1-217-j19-1.1.H  |05:41:00    |05:41:00      |8583482        |15           |0          |0            |\n",
      "|1.TA.1-217-j19-1.1.H  |05:42:00    |05:42:00      |8502884        |16           |0          |0            |\n",
      "|1.TA.1-217-j19-1.1.H  |05:43:00    |05:43:00      |8573195        |17           |0          |0            |\n",
      "|1.TA.1-217-j19-1.1.H  |05:45:00    |05:45:00      |8583890        |18           |0          |0            |\n",
      "|1.TA.1-217-j19-1.1.H  |05:48:00    |05:48:00      |8573178        |19           |0          |0            |\n",
      "|1.TA.1-23-j19-1.1.R   |21:03:00    |21:03:00      |8508103:0:1    |1            |0          |0            |\n",
      "|1.TA.1-23-j19-1.1.R   |21:07:00    |21:07:00      |8508102:0:2    |2            |0          |0            |\n",
      "|1.TA.1-23-j19-1.1.R   |21:09:00    |21:09:00      |8508101:0:3    |3            |0          |0            |\n",
      "|1.TA.1-23-j19-1.1.R   |21:15:00    |21:15:00      |8508100:0:1    |4            |0          |0            |\n",
      "|1.TA.1-231-j19-1.1.H  |09:37:00    |09:37:00      |8572747        |1            |0          |0            |\n",
      "|1.TA.1-231-j19-1.1.H  |09:37:00    |09:37:00      |8502878        |2            |0          |0            |\n",
      "|1.TA.1-231-j19-1.1.H  |09:38:00    |09:38:00      |8582462        |3            |0          |0            |\n",
      "|1.TA.1-231-j19-1.1.H  |09:39:00    |09:39:00      |8572600        |4            |0          |0            |\n",
      "|1.TA.1-231-j19-1.1.H  |09:39:00    |09:39:00      |8572601        |5            |0          |0            |\n",
      "|1.TA.1-231-j19-1.1.H  |09:43:00    |09:43:00      |8502553        |6            |0          |0            |\n",
      "|1.TA.1-231-j19-1.1.H  |09:45:00    |09:45:00      |8572602        |7            |0          |0            |\n",
      "|1.TA.1-231-j19-1.1.H  |09:46:00    |09:47:00      |8502955        |8            |0          |0            |\n",
      "|1.TA.1-231-j19-1.1.H  |09:48:00    |09:48:00      |8573722        |9            |0          |0            |\n",
      "|1.TA.1-231-j19-1.1.H  |09:50:00    |09:50:00      |8573721        |10           |0          |0            |\n",
      "|1.TA.1-231-j19-1.1.H  |09:53:00    |09:53:00      |8503598        |11           |0          |0            |\n",
      "|1.TA.1-231-j19-1.1.H  |09:55:00    |09:59:00      |8573720        |12           |0          |0            |\n",
      "|1.TA.1-231-j19-1.1.H  |10:00:00    |10:00:00      |8503598        |13           |0          |0            |\n",
      "|1.TA.1-231-j19-1.1.H  |10:02:00    |10:02:00      |8573721        |14           |0          |0            |\n",
      "|1.TA.1-231-j19-1.1.H  |10:03:00    |10:03:00      |8573722        |15           |0          |0            |\n",
      "|1.TA.1-231-j19-1.1.H  |10:04:00    |10:04:00      |8573723        |16           |0          |0            |\n",
      "|1.TA.1-231-j19-1.1.H  |10:05:00    |10:05:00      |8583071        |17           |0          |0            |\n",
      "|1.TA.1-231-j19-1.1.H  |10:06:00    |10:06:00      |8572603        |18           |0          |0            |\n",
      "|1.TA.1-231-j19-1.1.H  |10:07:00    |10:07:00      |8502879        |19           |0          |0            |\n",
      "|1.TA.1-245-j19-1.1.R  |06:57:00    |06:57:00      |8572744        |1            |0          |0            |\n",
      "|1.TA.1-245-j19-1.1.R  |06:57:00    |06:57:00      |8581669        |2            |0          |0            |\n",
      "|1.TA.1-245-j19-1.1.R  |06:58:00    |06:58:00      |8572610        |3            |0          |0            |\n",
      "|1.TA.1-245-j19-1.1.R  |06:59:00    |06:59:00      |8582054        |4            |0          |0            |\n",
      "|1.TA.1-245-j19-1.1.R  |07:01:00    |07:01:00      |8502565        |5            |0          |0            |\n",
      "|1.TA.1-245-j19-1.1.R  |07:03:00    |07:03:00      |8502577        |6            |0          |0            |\n",
      "|1.TA.1-245-j19-1.1.R  |07:05:00    |07:05:00      |8502566        |7            |0          |0            |\n",
      "|1.TA.1-245-j19-1.1.R  |07:07:00    |07:07:00      |8502567        |8            |0          |0            |\n",
      "|1.TA.1-245-j19-1.1.R  |07:08:00    |07:08:00      |8580302        |9            |0          |0            |\n",
      "|1.TA.1-245-j19-1.1.R  |07:09:00    |07:09:00      |8502571        |10           |0          |0            |\n",
      "|1.TA.1-245-j19-1.1.R  |07:09:00    |07:09:00      |8572647        |11           |0          |0            |\n",
      "|1.TA.1-245-j19-1.1.R  |07:11:00    |07:11:00      |8502570        |12           |0          |0            |\n",
      "|1.TA.1-245-j19-1.1.R  |07:12:00    |07:12:00      |8572646        |13           |0          |0            |\n",
      "|1.TA.1-245-j19-1.1.R  |07:14:00    |07:14:00      |8572602        |14           |0          |0            |\n",
      "|1.TA.1-245-j19-1.1.R  |07:15:00    |07:15:00      |8573723        |15           |0          |0            |\n",
      "|1.TA.1-245-j19-1.1.R  |07:16:00    |07:16:00      |8573722        |16           |0          |0            |\n",
      "|1.TA.1-245-j19-1.1.R  |07:18:00    |07:18:00      |8573721        |17           |0          |0            |\n",
      "|1.TA.1-245-j19-1.1.R  |07:20:00    |07:20:00      |8503598        |18           |0          |0            |\n",
      "|1.TA.1-245-j19-1.1.R  |07:21:00    |07:21:00      |8573720        |19           |0          |0            |\n",
      "|1.TA.1-245-j19-1.1.R  |07:23:00    |07:23:00      |8583755        |20           |0          |0            |\n",
      "|1.TA.1-245-j19-1.1.R  |07:24:00    |07:24:00      |8502876        |21           |0          |0            |\n",
      "|1.TA.1-245-j19-1.1.R  |07:27:00    |07:27:00      |8573719        |22           |0          |0            |\n",
      "|1.TA.1-245-j19-1.1.R  |07:28:00    |07:28:00      |8502950        |23           |0          |0            |\n",
      "|1.TA.1-245-j19-1.1.R  |07:29:00    |07:29:00      |8583870:0:E    |24           |1          |0            |\n",
      "|1.TA.1-245-j19-1.1.R  |07:29:00    |07:29:00      |8573718:0:C    |25           |0          |0            |\n",
      "|1.TA.1-25-j19-1.1.H   |05:33:00    |05:33:00      |8500309:0:5    |1            |0          |0            |\n",
      "|1.TA.1-25-j19-1.1.H   |05:36:00    |05:36:00      |8502237:0:6    |2            |0          |0            |\n",
      "|1.TA.1-25-j19-1.1.H   |05:38:00    |05:38:00      |8502247:0:6    |3            |0          |0            |\n",
      "|1.TA.1-25-j19-1.1.H   |05:41:00    |05:42:00      |8502105:0:4    |4            |0          |0            |\n",
      "|1.TA.1-25-j19-1.1.H   |05:44:00    |05:44:00      |8502211:0:3    |5            |0          |0            |\n",
      "|1.TA.1-25-j19-1.1.H   |05:46:00    |05:46:00      |8502212:0:2    |6            |0          |0            |\n",
      "|1.TA.1-25-j19-1.1.H   |05:50:00    |05:50:00      |8502213:0:2    |7            |0          |0            |\n",
      "|1.TA.1-25-j19-1.1.H   |05:58:00    |05:58:00      |8502215:0:3    |8            |0          |0            |\n",
      "|1.TA.1-26-j19-1.1.H   |00:34:00    |00:34:00      |8502119:0:6    |1            |0          |0            |\n",
      "|1.TA.1-26-j19-1.1.H   |00:36:00    |00:36:00      |8502211:0:1    |2            |0          |0            |\n",
      "|1.TA.1-26-j19-1.1.H   |00:39:00    |00:39:00      |8502212:0:2    |3            |0          |0            |\n",
      "|1.TA.1-26-j19-1.1.H   |00:42:00    |00:42:00      |8502213:0:2    |4            |0          |0            |\n",
      "|1.TA.1-26-j19-1.1.H   |00:46:00    |00:46:00      |8502214:0:1    |5            |0          |0            |\n",
      "|1.TA.1-26-j19-1.1.H   |00:50:00    |00:50:00      |8502215:0:4    |6            |0          |0            |\n",
      "|1.TA.1-26-j19-1.1.H   |00:53:00    |00:53:00      |8502216:0:2    |7            |0          |0            |\n",
      "|1.TA.1-26-j19-1.1.H   |00:55:00    |00:55:00      |8502217:0:1    |8            |0          |0            |\n",
      "|1.TA.1-26-j19-1.1.H   |00:59:00    |00:59:00      |8502218:0:3    |9            |0          |0            |\n",
      "|1.TA.1-26-j19-1.1.H   |01:01:00    |01:01:00      |8502219:0:3    |10           |0          |0            |\n",
      "|1.TA.1-26-j19-1.1.H   |01:06:00    |01:06:00      |8502202:0:6    |11           |0          |0            |\n",
      "|1.TA.1-27-j19-1.1.H   |00:03:00    |00:03:00      |8503409:0:1    |1            |0          |0            |\n",
      "|1.TA.1-27-j19-1.1.H   |00:05:00    |00:05:00      |8503410:0:1    |2            |0          |0            |\n",
      "|1.TA.1-27-j19-1.1.H   |00:08:00    |00:08:00      |8503411:0:1    |3            |0          |0            |\n",
      "|1.TA.1-27-j19-1.1.H   |00:11:00    |00:14:00      |8500329:0:1    |4            |0          |0            |\n",
      "|1.TA.1-27-j19-1.1.H   |00:16:00    |00:16:00      |8516176:0:1    |5            |0          |0            |\n",
      "|1.TA.1-27-j19-1.1.H   |00:18:00    |00:19:00      |8503501:0:1    |6            |0          |0            |\n",
      "|1.TA.1-27-j19-1.1.H   |00:23:00    |00:23:00      |8503502        |7            |0          |0            |\n",
      "|1.TA.1-27-j19-1.1.H   |00:28:00    |00:28:00      |8503503:0:1    |8            |0          |0            |\n",
      "|1.TA.1-28-j19-1.1.R   |05:12:00    |05:12:00      |8502001:0:1    |1            |0          |0            |\n",
      "|1.TA.1-28-j19-1.1.R   |05:14:00    |05:14:00      |8502120:0:1    |2            |0          |0            |\n",
      "|1.TA.1-28-j19-1.1.R   |05:17:00    |05:17:00      |8502121:0:1    |3            |0          |0            |\n",
      "|1.TA.1-28-j19-1.1.R   |05:20:00    |05:21:00      |8502100:0:1    |4            |0          |0            |\n",
      "|1.TA.1-28-j19-1.1.R   |05:23:00    |05:23:00      |8502122:0:1    |5            |0          |0            |\n",
      "|1.TA.1-28-j19-1.1.R   |05:26:00    |05:26:00      |8502101:0:1    |6            |0          |0            |\n",
      "|1.TA.1-28-j19-1.1.R   |05:28:00    |05:28:00      |8502102        |7            |0          |0            |\n",
      "|1.TA.1-28-j19-1.1.R   |05:33:00    |05:34:00      |8502103:0:5    |8            |0          |0            |\n",
      "|1.TA.1-28-j19-1.1.R   |05:38:00    |05:40:00      |8502104:0:2    |9            |0          |0            |\n",
      "|1.TA.1-28-j19-1.1.R   |05:45:00    |05:45:00      |8502119:0:6    |10           |0          |0            |\n",
      "|1.TA.1-29-j19-1.1.H   |00:30:00    |00:30:00      |8503504:0:2    |1            |0          |0            |\n",
      "|1.TA.1-29-j19-1.1.H   |00:34:00    |00:34:00      |8503503:0:4    |2            |0          |0            |\n",
      "|1.TA.1-29-j19-1.1.H   |00:37:00    |00:38:00      |8500309:0:4    |3            |0          |0            |\n",
      "|1.TA.1-29-j19-1.1.H   |00:41:00    |00:41:00      |8502116:0:1    |4            |0          |0            |\n",
      "|1.TA.1-29-j19-1.1.H   |00:44:00    |00:44:00      |8502128:0:1    |5            |0          |0            |\n",
      "|1.TA.1-29-j19-1.1.H   |00:47:00    |00:48:00      |8502115:0:2    |6            |0          |0            |\n",
      "|1.TA.1-29-j19-1.1.H   |00:50:00    |00:50:00      |8502114:0:1    |7            |0          |0            |\n",
      "|1.TA.1-29-j19-1.1.H   |00:56:00    |00:57:00      |8502113:0:5    |8            |0          |0            |\n",
      "|1.TA.1-29-j19-1.1.H   |01:00:00    |01:00:00      |8502112:0:1    |9            |0          |0            |\n",
      "|1.TA.1-29-j19-1.1.H   |01:03:00    |01:03:00      |8502111:0:2    |10           |0          |0            |\n",
      "|1.TA.1-29-j19-1.1.H   |01:05:00    |01:05:00      |8502110:0:4    |11           |0          |0            |\n",
      "|1.TA.1-29-j19-1.1.H   |01:11:00    |01:11:00      |8500218:0:2    |12           |0          |0            |\n",
      "|1.TA.1-3-j19-1.1.H    |05:20:00    |05:20:00      |8572745        |1            |0          |0            |\n",
      "|1.TA.1-3-j19-1.1.H    |05:22:00    |05:22:00      |8572684        |2            |0          |0            |\n",
      "|1.TA.1-3-j19-1.1.H    |05:23:00    |05:23:00      |8572685        |3            |0          |0            |\n",
      "|1.TA.1-3-j19-1.1.H    |05:24:00    |05:24:00      |8502364        |4            |0          |0            |\n",
      "|1.TA.1-3-j19-1.1.H    |05:25:00    |05:25:00      |8572686        |5            |0          |0            |\n",
      "|1.TA.1-3-j19-1.1.H    |05:26:00    |05:26:00      |8502381        |6            |0          |0            |\n",
      "|1.TA.1-3-j19-1.1.H    |05:27:00    |05:27:00      |8502712        |7            |0          |0            |\n",
      "|1.TA.1-3-j19-1.1.H    |05:29:00    |05:29:00      |8502361        |8            |0          |0            |\n",
      "|1.TA.1-3-j19-1.1.H    |05:29:00    |05:29:00      |8572687        |9            |0          |0            |\n",
      "|1.TA.1-3-j19-1.1.H    |05:31:00    |05:31:00      |8502382        |10           |0          |0            |\n",
      "|1.TA.1-3-j19-1.1.H    |05:32:00    |05:32:00      |8572688        |11           |0          |0            |\n",
      "|1.TA.1-3-j19-1.1.H    |05:33:00    |05:33:00      |8502365        |12           |0          |0            |\n",
      "|1.TA.1-3-j19-1.1.H    |05:34:00    |05:34:00      |8502378        |13           |0          |0            |\n",
      "|1.TA.1-3-j19-1.1.H    |05:35:00    |05:35:00      |8595512        |14           |0          |0            |\n",
      "|1.TA.1-3-j19-1.1.H    |05:38:00    |05:38:00      |8572690        |15           |0          |0            |\n",
      "|1.TA.1-3-j19-1.1.H    |05:39:00    |05:39:00      |8572691        |16           |0          |0            |\n",
      "|1.TA.1-3-j19-1.1.H    |05:39:00    |05:39:00      |8572692        |17           |0          |0            |\n",
      "|1.TA.1-3-j19-1.1.H    |05:40:00    |05:40:00      |8572693        |18           |0          |0            |\n",
      "|1.TA.1-3-j19-1.1.H    |05:42:00    |05:42:00      |8502713        |19           |0          |0            |\n",
      "|1.TA.1-303-j19-1.1.R  |05:38:00    |05:38:00      |8587020:0:F    |1            |0          |0            |\n",
      "|1.TA.1-303-j19-1.1.R  |05:40:00    |05:40:00      |8590535        |2            |0          |0            |\n",
      "|1.TA.1-303-j19-1.1.R  |05:41:00    |05:41:00      |8590222        |3            |0          |0            |\n",
      "|1.TA.1-303-j19-1.1.R  |05:42:00    |05:42:00      |8590218        |4            |0          |0            |\n",
      "|1.TA.1-303-j19-1.1.R  |05:44:00    |05:44:00      |8590268        |5            |0          |0            |\n",
      "|1.TA.1-303-j19-1.1.R  |05:44:00    |05:44:00      |8502508        |6            |0          |0            |\n",
      "|1.TA.1-303-j19-1.1.R  |05:46:00    |05:46:00      |8590270        |7            |0          |0            |\n",
      "|1.TA.1-303-j19-1.1.R  |05:47:00    |05:47:00      |8591891        |8            |0          |0            |\n",
      "|1.TA.1-303-j19-1.1.R  |05:48:00    |05:48:00      |8590279        |9            |0          |0            |\n",
      "|1.TA.1-303-j19-1.1.R  |05:51:00    |05:51:00      |8590397        |10           |0          |0            |\n",
      "|1.TA.1-303-j19-1.1.R  |05:52:00    |05:52:00      |8590273        |11           |0          |0            |\n",
      "|1.TA.1-303-j19-1.1.R  |05:53:00    |05:53:00      |8590276        |12           |0          |0            |\n",
      "|1.TA.1-303-j19-1.1.R  |05:54:00    |05:54:00      |8590269        |13           |0          |0            |\n",
      "|1.TA.1-303-j19-1.1.R  |05:55:00    |05:55:00      |8590239        |14           |0          |0            |\n",
      "|1.TA.1-305-j19-1.1.R  |09:12:00    |09:12:00      |8587018        |1            |0          |0            |\n",
      "|1.TA.1-305-j19-1.1.R  |09:13:00    |09:13:00      |8590241        |2            |0          |0            |\n",
      "|1.TA.1-305-j19-1.1.R  |09:14:00    |09:14:00      |8590205        |3            |0          |0            |\n",
      "|1.TA.1-305-j19-1.1.R  |09:15:00    |09:15:00      |8590202        |4            |0          |0            |\n",
      "|1.TA.1-305-j19-1.1.R  |09:15:00    |09:15:00      |8590201        |5            |0          |0            |\n",
      "|1.TA.1-305-j19-1.1.R  |09:16:00    |09:16:00      |8590204        |6            |0          |0            |\n",
      "|1.TA.1-305-j19-1.1.R  |09:17:00    |09:17:00      |8590200        |7            |0          |0            |\n",
      "|1.TA.1-305-j19-1.1.R  |09:18:00    |09:18:00      |8590203        |8            |0          |0            |\n",
      "|1.TA.1-305-j19-1.1.R  |09:19:00    |09:19:00      |8590220        |9            |0          |0            |\n",
      "|1.TA.1-305-j19-1.1.R  |09:20:00    |09:20:00      |8590223        |10           |0          |0            |\n",
      "|1.TA.1-305-j19-1.1.R  |09:22:00    |09:22:00      |8590219        |11           |0          |0            |\n",
      "|1.TA.1-305-j19-1.1.R  |09:22:00    |09:22:00      |8587020:0:C    |12           |0          |0            |\n",
      "|1.TA.1-315-j19-1.1.H  |17:06:00    |17:06:00      |8595708        |1            |0          |0            |\n",
      "|1.TA.1-315-j19-1.1.H  |17:15:00    |17:15:00      |8590220        |2            |0          |0            |\n",
      "|1.TA.1-315-j19-1.1.H  |17:17:00    |17:17:00      |8590200        |3            |0          |0            |\n",
      "|1.TA.1-315-j19-1.1.H  |17:18:00    |17:18:00      |8590204        |4            |0          |0            |\n",
      "|1.TA.1-315-j19-1.1.H  |17:19:00    |17:19:00      |8590201        |5            |0          |0            |\n",
      "|1.TA.1-315-j19-1.1.H  |17:20:00    |17:20:00      |8590202        |6            |0          |0            |\n",
      "|1.TA.1-315-j19-1.1.H  |17:22:00    |17:22:00      |8590205        |7            |0          |0            |\n",
      "|1.TA.1-315-j19-1.1.H  |17:23:00    |17:23:00      |8590241        |8            |0          |0            |\n",
      "|1.TA.1-315-j19-1.1.H  |17:24:00    |17:24:00      |8587018        |9            |0          |0            |\n",
      "|1.TA.1-320-j19-1.1.H  |05:59:00    |05:59:00      |8580310        |1            |0          |0            |\n",
      "|1.TA.1-320-j19-1.1.H  |06:00:00    |06:00:00      |8572559        |2            |0          |0            |\n",
      "|1.TA.1-320-j19-1.1.H  |06:01:00    |06:01:00      |8572561        |3            |0          |0            |\n",
      "|1.TA.1-320-j19-1.1.H  |06:03:00    |06:03:00      |8503879        |4            |0          |0            |\n",
      "|1.TA.1-320-j19-1.1.H  |06:04:00    |06:04:00      |8502575        |5            |0          |0            |\n",
      "|1.TA.1-320-j19-1.1.H  |06:04:00    |06:04:00      |8580729        |6            |0          |0            |\n",
      "|1.TA.1-320-j19-1.1.H  |06:07:00    |06:07:00      |8572560        |7            |0          |0            |\n",
      "|1.TA.1-321-j19-1.1.H  |06:03:00    |06:03:00      |8580310        |1            |0          |0            |\n",
      "|1.TA.1-321-j19-1.1.H  |06:03:00    |06:03:00      |8572559        |2            |0          |0            |\n",
      "|1.TA.1-321-j19-1.1.H  |06:04:00    |06:04:00      |8572561        |3            |0          |0            |\n",
      "|1.TA.1-321-j19-1.1.H  |06:06:00    |06:06:00      |8503879        |4            |0          |0            |\n",
      "|1.TA.1-321-j19-1.1.H  |06:07:00    |06:07:00      |8502575        |5            |0          |0            |\n",
      "|1.TA.1-321-j19-1.1.H  |06:07:00    |06:07:00      |8580729        |6            |0          |0            |\n",
      "|1.TA.1-321-j19-1.1.H  |06:10:00    |06:10:00      |8572560        |7            |0          |0            |\n",
      "|1.TA.1-322-j19-1.1.H  |05:27:00    |05:27:00      |8572550:0:H    |1            |0          |0            |\n",
      "|1.TA.1-322-j19-1.1.H  |05:28:00    |05:28:00      |8572387        |2            |0          |0            |\n",
      "|1.TA.1-322-j19-1.1.H  |05:33:00    |05:33:00      |8502983        |3            |0          |0            |\n",
      "|1.TA.1-322-j19-1.1.H  |05:34:00    |05:34:00      |8580311        |4            |0          |0            |\n",
      "|1.TA.1-322-j19-1.1.H  |05:35:00    |05:35:00      |8572551        |5            |0          |0            |\n",
      "|1.TA.1-322-j19-1.1.H  |05:35:00    |05:35:00      |8579815        |6            |0          |0            |\n",
      "|1.TA.1-322-j19-1.1.H  |05:36:00    |05:36:00      |8572553        |7            |0          |0            |\n",
      "|1.TA.1-322-j19-1.1.H  |05:37:00    |05:37:00      |8502774        |8            |0          |0            |\n",
      "|1.TA.1-322-j19-1.1.H  |05:38:00    |05:38:00      |8572555        |9            |0          |0            |\n",
      "|1.TA.1-322-j19-1.1.H  |05:39:00    |05:39:00      |8572556        |10           |0          |0            |\n",
      "|1.TA.1-322-j19-1.1.H  |05:40:00    |05:40:00      |8582461        |11           |0          |0            |\n",
      "|1.TA.1-322-j19-1.1.H  |05:41:00    |05:41:00      |8502772        |12           |0          |0            |\n",
      "|1.TA.1-322-j19-1.1.H  |05:41:00    |05:41:00      |8572562        |13           |0          |0            |\n",
      "|1.TA.1-322-j19-1.1.H  |05:43:00    |05:43:00      |8572563        |14           |0          |0            |\n",
      "|1.TA.1-322-j19-1.1.H  |05:44:00    |05:44:00      |8572564        |15           |0          |0            |\n",
      "|1.TA.1-322-j19-1.1.H  |05:45:00    |05:45:00      |8502880        |16           |0          |0            |\n",
      "|1.TA.1-322-j19-1.1.H  |05:46:00    |05:46:00      |8572565        |17           |0          |0            |\n",
      "|1.TA.1-322-j19-1.1.H  |05:47:00    |05:48:00      |8502897        |18           |0          |0            |\n",
      "|1.TA.1-322-j19-1.1.H  |05:51:00    |05:51:00      |8502881        |19           |0          |0            |\n",
      "|1.TA.1-322-j19-1.1.H  |05:51:00    |05:51:00      |8572567        |20           |0          |0            |\n",
      "|1.TA.1-322-j19-1.1.H  |05:54:00    |05:54:00      |8502982        |21           |0          |0            |\n",
      "|1.TA.1-322-j19-1.1.H  |05:56:00    |05:56:00      |8572568        |22           |0          |0            |\n",
      "|1.TA.1-322-j19-1.1.H  |05:58:00    |05:58:00      |8580847        |23           |0          |0            |\n",
      "|1.TA.1-322-j19-1.1.H  |06:00:00    |06:00:00      |8572747        |24           |0          |0            |\n",
      "|1.TA.1-322-j19-1.1.H  |06:01:00    |06:01:00      |8502878        |25           |0          |0            |\n",
      "|1.TA.1-331-j19-1.1.R  |05:13:00    |05:13:00      |8580310        |1            |0          |0            |\n",
      "|1.TA.1-331-j19-1.1.R  |05:14:00    |05:14:00      |8502956        |2            |0          |0            |\n",
      "|1.TA.1-331-j19-1.1.R  |05:15:00    |05:15:00      |8583560        |3            |0          |0            |\n",
      "|1.TA.1-331-j19-1.1.R  |05:17:00    |05:17:00      |8502773        |4            |0          |0            |\n",
      "|1.TA.1-331-j19-1.1.R  |05:18:00    |05:18:00      |8579692        |5            |0          |0            |\n",
      "|1.TA.1-331-j19-1.1.R  |05:18:00    |05:18:00      |8572558        |6            |0          |0            |\n",
      "|1.TA.1-331-j19-1.1.R  |05:20:00    |05:20:00      |8502772        |7            |0          |0            |\n",
      "|1.TA.1-331-j19-1.1.R  |05:20:00    |05:20:00      |8582461        |8            |0          |0            |\n",
      "|1.TA.1-331-j19-1.1.R  |05:21:00    |05:21:00      |8572556        |9            |0          |0            |\n",
      "|1.TA.1-331-j19-1.1.R  |05:22:00    |05:22:00      |8572555        |10           |0          |0            |\n",
      "|1.TA.1-331-j19-1.1.R  |05:22:00    |05:22:00      |8579963        |11           |0          |0            |\n",
      "|1.TA.1-331-j19-1.1.R  |05:27:00    |05:27:00      |8502707        |12           |0          |0            |\n",
      "|1.TA.1-332-j19-1.1.H  |06:00:00    |06:00:00      |8502707        |1            |0          |0            |\n",
      "|1.TA.1-332-j19-1.1.H  |06:01:00    |06:01:00      |8572546        |2            |0          |0            |\n",
      "|1.TA.1-332-j19-1.1.H  |06:03:00    |06:04:00      |8502888        |3            |0          |0            |\n",
      "|1.TA.1-332-j19-1.1.H  |06:04:00    |06:04:00      |8572548        |4            |0          |0            |\n",
      "|1.TA.1-332-j19-1.1.H  |06:05:00    |06:05:00      |8502962        |5            |0          |0            |\n",
      "|1.TA.1-332-j19-1.1.H  |06:07:00    |06:07:00      |8572549        |6            |0          |0            |\n",
      "|1.TA.1-332-j19-1.1.H  |06:08:00    |06:08:00      |8502757        |7            |0          |0            |\n",
      "|1.TA.1-332-j19-1.1.H  |06:09:00    |06:09:00      |8582713        |8            |0          |0            |\n",
      "|1.TA.1-332-j19-1.1.H  |06:11:00    |06:11:00      |8572543        |9            |0          |0            |\n",
      "|1.TA.1-332-j19-1.1.H  |06:11:00    |06:11:00      |8502753        |10           |0          |0            |\n",
      "|1.TA.1-332-j19-1.1.H  |06:13:00    |06:14:00      |8502755        |11           |0          |0            |\n",
      "|1.TA.1-332-j19-1.1.H  |06:14:00    |06:14:00      |8581014        |12           |0          |0            |\n",
      "|1.TA.1-332-j19-1.1.H  |06:15:00    |06:15:00      |8502968        |13           |0          |0            |\n",
      "|1.TA.1-332-j19-1.1.H  |06:16:00    |06:16:00      |8502751        |14           |0          |0            |\n",
      "|1.TA.1-332-j19-1.1.H  |06:16:00    |06:16:00      |8572569        |15           |0          |0            |\n",
      "|1.TA.1-332-j19-1.1.H  |06:18:00    |06:18:00      |8502691        |16           |0          |0            |\n",
      "|1.TA.1-332-j19-1.1.H  |06:20:00    |06:20:00      |8572607        |17           |0          |0            |\n",
      "|1.TA.1-332-j19-1.1.H  |06:21:00    |06:21:00      |8580846        |18           |0          |0            |\n",
      "|1.TA.1-332-j19-1.1.H  |06:23:00    |06:23:00      |8580847        |19           |0          |0            |\n",
      "|1.TA.1-332-j19-1.1.H  |06:27:00    |06:27:00      |8572747        |20           |0          |0            |\n",
      "|1.TA.1-332-j19-1.1.H  |06:28:00    |06:28:00      |8502878        |21           |0          |0            |\n",
      "|1.TA.1-334-j19-1.1.H  |05:26:00    |05:26:00      |8502707        |1            |0          |0            |\n",
      "|1.TA.1-334-j19-1.1.H  |05:27:00    |05:27:00      |8572546        |2            |0          |0            |\n",
      "|1.TA.1-334-j19-1.1.H  |05:29:00    |05:30:00      |8502888        |3            |0          |0            |\n",
      "|1.TA.1-334-j19-1.1.H  |05:31:00    |05:31:00      |8502706        |4            |0          |0            |\n",
      "|1.TA.1-334-j19-1.1.H  |05:32:00    |05:32:00      |8502561        |5            |0          |0            |\n",
      "|1.TA.1-334-j19-1.1.H  |05:34:00    |05:34:00      |8502899        |6            |0          |0            |\n",
      "|1.TA.1-334-j19-1.1.H  |05:35:00    |05:35:00      |8572547        |7            |0          |0            |\n",
      "|1.TA.1-334-j19-1.1.H  |05:37:00    |05:37:00      |8580634        |8            |0          |0            |\n",
      "|1.TA.1-334-j19-1.1.H  |05:37:00    |05:37:00      |8580637        |9            |0          |0            |\n",
      "|1.TA.1-334-j19-1.1.H  |05:38:00    |05:38:00      |8587574        |10           |0          |0            |\n",
      "|1.TA.1-334-j19-1.1.H  |05:39:00    |05:39:00      |8587230        |11           |0          |0            |\n",
      "|1.TA.1-335-j19-1.1.H  |06:01:00    |06:01:00      |8502707        |1            |0          |0            |\n",
      "|1.TA.1-335-j19-1.1.H  |06:03:00    |06:03:00      |8579963        |2            |0          |0            |\n",
      "|1.TA.1-335-j19-1.1.H  |06:03:00    |06:03:00      |8572555        |3            |0          |0            |\n",
      "|1.TA.1-335-j19-1.1.H  |06:04:00    |06:04:00      |8572556        |4            |0          |0            |\n",
      "|1.TA.1-335-j19-1.1.H  |06:05:00    |06:05:00      |8582461        |5            |0          |0            |\n",
      "|1.TA.1-335-j19-1.1.H  |06:06:00    |06:06:00      |8502772        |6            |0          |0            |\n",
      "|1.TA.1-335-j19-1.1.H  |06:07:00    |06:07:00      |8572558        |7            |0          |0            |\n",
      "|1.TA.1-335-j19-1.1.H  |06:08:00    |06:08:00      |8579692        |8            |0          |0            |\n",
      "|1.TA.1-335-j19-1.1.H  |06:10:00    |06:10:00      |8502773        |9            |0          |0            |\n",
      "|1.TA.1-335-j19-1.1.H  |06:10:00    |06:10:00      |8580318        |10           |0          |0            |\n",
      "|1.TA.1-335-j19-1.1.H  |06:12:00    |06:12:00      |8502896        |11           |0          |0            |\n",
      "|1.TA.1-335-j19-1.1.H  |06:13:00    |06:13:00      |8572557        |12           |0          |0            |\n",
      "|1.TA.1-335-j19-1.1.H  |06:14:00    |06:14:00      |8572554        |13           |0          |0            |\n",
      "|1.TA.1-335-j19-1.1.H  |06:15:00    |06:15:00      |8580315        |14           |0          |0            |\n",
      "|1.TA.1-335-j19-1.1.H  |06:16:00    |06:16:00      |8572553        |15           |0          |0            |\n",
      "|1.TA.1-335-j19-1.1.H  |06:16:00    |06:16:00      |8579815        |16           |0          |0            |\n",
      "|1.TA.1-335-j19-1.1.H  |06:17:00    |06:17:00      |8572551        |17           |0          |0            |\n",
      "|1.TA.1-335-j19-1.1.H  |06:18:00    |06:18:00      |8590185        |18           |0          |0            |\n",
      "|1.TA.1-335-j19-1.1.H  |06:19:00    |06:19:00      |8590188        |19           |0          |0            |\n",
      "|1.TA.1-335-j19-1.1.H  |06:22:00    |06:22:00      |8578681        |20           |0          |0            |\n",
      "|1.TA.1-336-j19-1.1.H  |05:50:00    |05:50:00      |8502889        |1            |0          |0            |\n",
      "|1.TA.1-336-j19-1.1.H  |05:50:00    |05:50:00      |8572544        |2            |0          |0            |\n",
      "|1.TA.1-336-j19-1.1.H  |05:51:00    |05:51:00      |8502702        |3            |0          |0            |\n",
      "|1.TA.1-336-j19-1.1.H  |05:52:00    |05:52:00      |8502701        |4            |0          |0            |\n",
      "|1.TA.1-336-j19-1.1.H  |05:52:00    |05:52:00      |8580924        |5            |0          |0            |\n",
      "|1.TA.1-336-j19-1.1.H  |05:53:00    |05:53:00      |8502999        |6            |0          |0            |\n",
      "|1.TA.1-336-j19-1.1.H  |05:58:00    |05:58:00      |8502755        |7            |0          |0            |\n",
      "|1.TA.1-336-j19-1.1.H  |06:00:00    |06:00:00      |8502753        |8            |0          |0            |\n",
      "|1.TA.1-336-j19-1.1.H  |06:00:00    |06:00:00      |8572543        |9            |0          |0            |\n",
      "|1.TA.1-336-j19-1.1.H  |06:02:00    |06:02:00      |8502984        |10           |0          |0            |\n",
      "|1.TA.1-336-j19-1.1.H  |06:03:00    |06:03:00      |8572542        |11           |0          |0            |\n",
      "|1.TA.1-336-j19-1.1.H  |06:06:00    |06:07:00      |8502897        |12           |0          |0            |\n",
      "|1.TA.1-336-j19-1.1.H  |06:08:00    |06:08:00      |8572540        |13           |0          |0            |\n",
      "|1.TA.1-336-j19-1.1.H  |06:10:00    |06:10:00      |8502700        |14           |0          |0            |\n",
      "|1.TA.1-336-j19-1.1.H  |06:11:00    |06:11:00      |8572539        |15           |0          |0            |\n",
      "|1.TA.1-336-j19-1.1.H  |06:13:00    |06:14:00      |8502888        |16           |0          |0            |\n",
      "|1.TA.1-336-j19-1.1.H  |06:15:00    |06:15:00      |8572546        |17           |0          |0            |\n",
      "|1.TA.1-336-j19-1.1.H  |06:20:00    |06:20:00      |8502707        |18           |0          |0            |\n",
      "|1.TA.1-338-j19-1.1.H  |05:52:00    |05:52:00      |8572747        |1            |0          |0            |\n",
      "|1.TA.1-338-j19-1.1.H  |05:52:00    |05:52:00      |8582529        |2            |0          |0            |\n",
      "|1.TA.1-338-j19-1.1.H  |05:53:00    |05:53:00      |8576164        |3            |0          |0            |\n",
      "|1.TA.1-338-j19-1.1.H  |05:54:00    |05:54:00      |8576480        |4            |0          |0            |\n",
      "|1.TA.1-338-j19-1.1.H  |05:54:00    |05:54:00      |8576496        |5            |0          |0            |\n",
      "|1.TA.1-338-j19-1.1.H  |05:55:00    |05:55:00      |8576498        |6            |0          |0            |\n",
      "|1.TA.1-338-j19-1.1.H  |05:55:00    |05:55:00      |8572601        |7            |0          |0            |\n",
      "|1.TA.1-338-j19-1.1.H  |05:56:00    |05:56:00      |8572600        |8            |0          |0            |\n",
      "|1.TA.1-338-j19-1.1.H  |05:56:00    |05:56:00      |8582462        |9            |0          |0            |\n",
      "|1.TA.1-338-j19-1.1.H  |06:00:00    |06:00:00      |8572747        |10           |0          |0            |\n",
      "|1.TA.1-339-j19-1.1.R  |06:52:00    |06:52:00      |8572645        |1            |0          |0            |\n",
      "|1.TA.1-339-j19-1.1.R  |06:54:00    |06:54:00      |8572643        |2            |0          |0            |\n",
      "|1.TA.1-340-j19-1.1.H  |05:06:00    |05:06:00      |8578766        |1            |0          |0            |\n",
      "|1.TA.1-340-j19-1.1.H  |05:06:00    |05:06:00      |8578767        |2            |0          |0            |\n",
      "|1.TA.1-340-j19-1.1.H  |05:07:00    |05:07:00      |8502265        |3            |0          |0            |\n",
      "|1.TA.1-340-j19-1.1.H  |05:09:00    |05:09:00      |8578768        |4            |0          |0            |\n",
      "|1.TA.1-340-j19-1.1.H  |05:10:00    |05:10:00      |8578769        |5            |0          |0            |\n",
      "|1.TA.1-340-j19-1.1.H  |05:10:00    |05:10:00      |8587864        |6            |0          |0            |\n",
      "|1.TA.1-340-j19-1.1.H  |05:12:00    |05:12:00      |8587767        |7            |0          |0            |\n",
      "|1.TA.1-340-j19-1.1.H  |05:13:00    |05:13:00      |8578771        |8            |0          |0            |\n",
      "|1.TA.1-340-j19-1.1.H  |05:14:00    |05:14:00      |8587552        |9            |0          |0            |\n",
      "|1.TA.1-340-j19-1.1.H  |05:14:00    |05:14:00      |8578772        |10           |0          |0            |\n",
      "|1.TA.1-340-j19-1.1.H  |05:15:00    |05:15:00      |8578773        |11           |0          |0            |\n",
      "|1.TA.1-340-j19-1.1.H  |05:16:00    |05:16:00      |8589511        |12           |0          |0            |\n",
      "|1.TA.1-340-j19-1.1.H  |05:17:00    |05:17:00      |8587560        |13           |0          |0            |\n",
      "|1.TA.1-340-j19-1.1.H  |05:19:00    |05:19:00      |8587553        |14           |0          |0            |\n",
      "|1.TA.1-340-j19-1.1.H  |05:20:00    |05:20:00      |8587554        |15           |0          |0            |\n",
      "|1.TA.1-340-j19-1.1.H  |05:20:00    |05:20:00      |8587555        |16           |0          |0            |\n",
      "|1.TA.1-340-j19-1.1.H  |05:21:00    |05:21:00      |8587556        |17           |0          |0            |\n",
      "|1.TA.1-340-j19-1.1.H  |05:28:00    |05:28:00      |8502889        |18           |0          |0            |\n",
      "|1.TA.1-341-A-j19-1.1.H|20:19:00    |20:19:00      |8502889        |1            |0          |0            |\n",
      "|1.TA.1-341-A-j19-1.1.H|20:19:00    |20:19:00      |8572621        |2            |1          |0            |\n",
      "|1.TA.1-341-A-j19-1.1.H|20:21:00    |20:21:00      |8580303        |3            |1          |0            |\n",
      "|1.TA.1-341-A-j19-1.1.H|20:21:00    |20:21:00      |8572622        |4            |1          |0            |\n",
      "|1.TA.1-341-A-j19-1.1.H|20:23:00    |20:23:00      |8572623        |5            |1          |0            |\n",
      "|1.TA.1-341-A-j19-1.1.H|20:24:00    |20:24:00      |8580889        |6            |1          |0            |\n",
      "|1.TA.1-341-A-j19-1.1.H|20:24:00    |20:24:00      |8572624        |7            |1          |0            |\n",
      "|1.TA.1-341-A-j19-1.1.H|20:25:00    |20:25:00      |8572625        |8            |1          |0            |\n",
      "|1.TA.1-341-A-j19-1.1.H|20:27:00    |20:27:00      |8502711        |9            |1          |0            |\n",
      "|1.TA.1-341-A-j19-1.1.H|20:30:00    |20:30:00      |8572631        |10           |1          |0            |\n",
      "|1.TA.1-341-A-j19-1.1.H|20:31:00    |20:31:00      |8502670        |11           |1          |0            |\n",
      "|1.TA.1-341-A-j19-1.1.H|20:32:00    |20:32:00      |8572632        |12           |1          |0            |\n",
      "|1.TA.1-341-A-j19-1.1.H|20:34:00    |20:34:00      |8572633        |13           |1          |0            |\n",
      "|1.TA.1-341-A-j19-1.1.H|20:37:00    |20:37:00      |8572634        |14           |0          |0            |\n",
      "|1.TA.1-341-j19-1.1.H  |05:45:00    |05:45:00      |8502889        |1            |0          |0            |\n",
      "|1.TA.1-341-j19-1.1.H  |05:45:00    |05:45:00      |8572621        |2            |0          |0            |\n",
      "|1.TA.1-341-j19-1.1.H  |05:47:00    |05:47:00      |8580303        |3            |0          |0            |\n",
      "|1.TA.1-341-j19-1.1.H  |05:47:00    |05:47:00      |8572622        |4            |0          |0            |\n",
      "|1.TA.1-341-j19-1.1.H  |05:49:00    |05:49:00      |8572623        |5            |0          |0            |\n",
      "|1.TA.1-341-j19-1.1.H  |05:50:00    |05:50:00      |8580889        |6            |0          |0            |\n",
      "|1.TA.1-341-j19-1.1.H  |05:50:00    |05:50:00      |8572624        |7            |0          |0            |\n",
      "|1.TA.1-341-j19-1.1.H  |05:51:00    |05:51:00      |8572625        |8            |0          |0            |\n",
      "|1.TA.1-341-j19-1.1.H  |05:53:00    |05:53:00      |8502711        |9            |0          |0            |\n",
      "|1.TA.1-341-j19-1.1.H  |05:55:00    |05:55:00      |8502710        |10           |0          |0            |\n",
      "|1.TA.1-341-j19-1.1.H  |05:58:00    |05:58:00      |8502709        |11           |0          |0            |\n",
      "|1.TA.1-341-j19-1.1.H  |06:01:00    |06:01:00      |8572626        |12           |0          |0            |\n",
      "|1.TA.1-341-j19-1.1.H  |06:03:00    |06:03:00      |8502708        |13           |0          |0            |\n",
      "|1.TA.1-341-j19-1.1.H  |06:06:00    |06:07:00      |8502567        |14           |0          |0            |\n",
      "|1.TA.1-341-j19-1.1.H  |06:08:00    |06:08:00      |8502566        |15           |0          |0            |\n",
      "|1.TA.1-341-j19-1.1.H  |06:09:00    |06:09:00      |8502577        |16           |0          |0            |\n",
      "|1.TA.1-341-j19-1.1.H  |06:11:00    |06:11:00      |8502565        |17           |0          |0            |\n",
      "|1.TA.1-341-j19-1.1.H  |06:13:00    |06:13:00      |8582054        |18           |0          |0            |\n",
      "|1.TA.1-341-j19-1.1.H  |06:13:00    |06:13:00      |8572610        |19           |0          |0            |\n",
      "|1.TA.1-341-j19-1.1.H  |06:13:00    |06:13:00      |8581669        |20           |0          |0            |\n",
      "|1.TA.1-341-j19-1.1.H  |06:16:00    |06:16:00      |8572744        |21           |0          |0            |\n",
      "|1.TA.1-342-j19-1.1.H  |05:40:00    |05:40:00      |8502889        |1            |0          |0            |\n",
      "|1.TA.1-342-j19-1.1.H  |05:40:00    |05:40:00      |8572621        |2            |0          |0            |\n",
      "|1.TA.1-342-j19-1.1.H  |05:42:00    |05:42:00      |8580303        |3            |0          |0            |\n",
      "|1.TA.1-342-j19-1.1.H  |05:42:00    |05:42:00      |8580372        |4            |0          |0            |\n",
      "|1.TA.1-342-j19-1.1.H  |05:43:00    |05:43:00      |8580843        |5            |0          |0            |\n",
      "|1.TA.1-342-j19-1.1.H  |05:44:00    |05:44:00      |8580306        |6            |0          |0            |\n",
      "|1.TA.1-342-j19-1.1.H  |05:44:00    |05:44:00      |8580308        |7            |0          |0            |\n",
      "|1.TA.1-342-j19-1.1.H  |05:44:00    |05:44:00      |8579278        |8            |0          |0            |\n",
      "|1.TA.1-342-j19-1.1.H  |05:45:00    |05:45:00      |8580305        |9            |0          |0            |\n",
      "|1.TA.1-342-j19-1.1.H  |05:45:00    |05:45:00      |8572629        |10           |0          |0            |\n",
      "|1.TA.1-342-j19-1.1.H  |05:46:00    |05:46:00      |8572630        |11           |0          |0            |\n",
      "|1.TA.1-342-j19-1.1.H  |05:47:00    |05:47:00      |8572631        |12           |0          |0            |\n",
      "|1.TA.1-342-j19-1.1.H  |05:48:00    |05:48:00      |8502670        |13           |0          |0            |\n",
      "|1.TA.1-342-j19-1.1.H  |05:49:00    |05:49:00      |8572632        |14           |0          |0            |\n",
      "|1.TA.1-342-j19-1.1.H  |05:51:00    |05:51:00      |8572633        |15           |0          |0            |\n",
      "|1.TA.1-342-j19-1.1.H  |05:54:00    |05:54:00      |8572634        |16           |0          |0            |\n",
      "|1.TA.1-343-j19-1.1.H  |06:08:00    |06:08:00      |8502564        |1            |0          |0            |\n",
      "|1.TA.1-343-j19-1.1.H  |06:09:00    |06:09:00      |8572642        |2            |0          |0            |\n",
      "|1.TA.1-343-j19-1.1.H  |06:13:00    |06:13:00      |8581658        |3            |0          |0            |\n",
      "|1.TA.1-343-j19-1.1.H  |06:14:00    |06:14:00      |8581831        |4            |0          |0            |\n",
      "|1.TA.1-343-j19-1.1.H  |06:16:00    |06:16:00      |8581830        |5            |0          |0            |\n",
      "|1.TA.1-344-j19-1.1.H  |05:58:00    |05:58:00      |8572744        |1            |0          |0            |\n",
      "|1.TA.1-344-j19-1.1.H  |05:58:00    |05:58:00      |8581669        |2            |0          |0            |\n",
      "|1.TA.1-344-j19-1.1.H  |05:58:00    |05:58:00      |8581563        |3            |0          |0            |\n",
      "|1.TA.1-344-j19-1.1.H  |05:59:00    |05:59:00      |8583685        |4            |0          |0            |\n",
      "|1.TA.1-344-j19-1.1.H  |05:59:00    |05:59:00      |8582256        |5            |0          |0            |\n",
      "|1.TA.1-344-j19-1.1.H  |06:00:00    |06:00:00      |8572635        |6            |0          |0            |\n",
      "|1.TA.1-344-j19-1.1.H  |06:05:00    |06:05:00      |8572637        |7            |0          |0            |\n",
      "|1.TA.1-344-j19-1.1.H  |06:06:00    |06:06:00      |8502877        |8            |0          |0            |\n",
      "|1.TA.1-345-A-j19-1.1.H|20:49:00    |20:49:00      |8502889        |1            |0          |0            |\n",
      "|1.TA.1-345-A-j19-1.1.H|20:49:00    |20:49:00      |8572621        |2            |1          |0            |\n",
      "|1.TA.1-345-A-j19-1.1.H|20:50:00    |20:50:00      |8502702        |3            |1          |0            |\n",
      "|1.TA.1-345-A-j19-1.1.H|20:51:00    |20:51:00      |8502701        |4            |1          |0            |\n",
      "|1.TA.1-345-A-j19-1.1.H|20:52:00    |20:52:00      |8580377        |5            |1          |0            |\n",
      "|1.TA.1-345-A-j19-1.1.H|20:53:00    |20:53:00      |8572619        |6            |1          |0            |\n",
      "|1.TA.1-345-A-j19-1.1.H|20:54:00    |20:54:00      |8580307        |7            |1          |0            |\n",
      "|1.TA.1-345-A-j19-1.1.H|20:56:00    |20:56:00      |8572618        |8            |1          |0            |\n",
      "|1.TA.1-345-A-j19-1.1.H|20:57:00    |20:57:00      |8572617        |9            |1          |0            |\n",
      "|1.TA.1-345-A-j19-1.1.H|20:59:00    |20:59:00      |8572616        |10           |1          |0            |\n",
      "|1.TA.1-345-A-j19-1.1.H|21:00:00    |21:00:00      |8502689        |11           |1          |0            |\n",
      "|1.TA.1-345-A-j19-1.1.H|21:01:00    |21:01:00      |8572613        |12           |1          |0            |\n",
      "|1.TA.1-345-A-j19-1.1.H|21:01:00    |21:01:00      |8572611        |13           |1          |0            |\n",
      "|1.TA.1-345-A-j19-1.1.H|21:02:00    |21:02:00      |8572612        |14           |1          |0            |\n",
      "|1.TA.1-345-A-j19-1.1.H|21:02:00    |21:02:00      |8581624        |15           |1          |0            |\n",
      "|1.TA.1-345-A-j19-1.1.H|21:07:00    |21:07:00      |8581623        |16           |1          |0            |\n",
      "|1.TA.1-345-A-j19-1.1.H|21:07:00    |21:07:00      |8502755        |17           |1          |0            |\n",
      "|1.TA.1-345-A-j19-1.1.H|21:09:00    |21:09:00      |8502753        |18           |1          |0            |\n",
      "|1.TA.1-345-A-j19-1.1.H|21:09:00    |21:09:00      |8572543        |19           |1          |0            |\n",
      "|1.TA.1-345-A-j19-1.1.H|21:11:00    |21:11:00      |8502984        |20           |0          |0            |\n",
      "|1.TA.1-345-j19-1.1.R  |05:12:00    |05:12:00      |8581623        |1            |0          |0            |\n",
      "|1.TA.1-345-j19-1.1.R  |05:12:00    |05:12:00      |8502752        |2            |0          |0            |\n",
      "|1.TA.1-345-j19-1.1.R  |05:13:00    |05:13:00      |8572612        |3            |0          |0            |\n",
      "|1.TA.1-345-j19-1.1.R  |05:13:00    |05:13:00      |8572611        |4            |0          |0            |\n",
      "|1.TA.1-345-j19-1.1.R  |05:14:00    |05:14:00      |8572613        |5            |0          |0            |\n",
      "|1.TA.1-345-j19-1.1.R  |05:16:00    |05:16:00      |8502689        |6            |0          |0            |\n",
      "|1.TA.1-345-j19-1.1.R  |05:16:00    |05:16:00      |8572616        |7            |0          |0            |\n",
      "|1.TA.1-345-j19-1.1.R  |05:18:00    |05:18:00      |8572617        |8            |0          |0            |\n",
      "|1.TA.1-345-j19-1.1.R  |05:20:00    |05:20:00      |8572618        |9            |0          |0            |\n",
      "|1.TA.1-345-j19-1.1.R  |05:21:00    |05:21:00      |8580307        |10           |0          |0            |\n",
      "|1.TA.1-345-j19-1.1.R  |05:21:00    |05:21:00      |8572619        |11           |0          |0            |\n",
      "|1.TA.1-345-j19-1.1.R  |05:22:00    |05:22:00      |8580377        |12           |0          |0            |\n",
      "|1.TA.1-345-j19-1.1.R  |05:22:00    |05:22:00      |8502701        |13           |0          |0            |\n",
      "|1.TA.1-345-j19-1.1.R  |05:24:00    |05:24:00      |8580376        |14           |0          |0            |\n",
      "|1.TA.1-345-j19-1.1.R  |05:24:00    |05:24:00      |8580285        |15           |0          |0            |\n",
      "|1.TA.1-345-j19-1.1.R  |05:25:00    |05:25:00      |8572544        |16           |0          |0            |\n",
      "|1.TA.1-345-j19-1.1.R  |05:29:00    |05:29:00      |8502889        |17           |0          |0            |\n",
      "|1.TA.1-346-j19-1.1.H  |05:16:00    |05:16:00      |8587554        |1            |0          |0            |\n",
      "|1.TA.1-346-j19-1.1.H  |05:16:00    |05:16:00      |8587555        |2            |0          |0            |\n",
      "|1.TA.1-346-j19-1.1.H  |05:17:00    |05:17:00      |8583401        |3            |0          |0            |\n",
      "|1.TA.1-346-j19-1.1.H  |05:18:00    |05:18:00      |8582731        |4            |0          |0            |\n",
      "|1.TA.1-346-j19-1.1.H  |05:20:00    |05:20:00      |8582732        |5            |0          |0            |\n",
      "|1.TA.1-346-j19-1.1.H  |05:22:00    |05:22:00      |8590226        |6            |0          |0            |\n",
      "|1.TA.1-346-j19-1.1.H  |05:24:00    |05:24:00      |8590225        |7            |0          |0            |\n",
      "|1.TA.1-346-j19-1.1.H  |05:25:00    |05:25:00      |8582728        |8            |0          |0            |\n",
      "|1.TA.1-346-j19-1.1.H  |05:26:00    |05:26:00      |8583074        |9            |0          |0            |\n",
      "|1.TA.1-346-j19-1.1.H  |05:33:00    |05:33:00      |8572615        |10           |0          |0            |\n",
      "|1.TA.1-347-j19-1.1.H  |06:15:00    |06:15:00      |8577107        |1            |0          |0            |\n",
      "|1.TA.1-347-j19-1.1.H  |06:17:00    |06:17:00      |8577108        |2            |0          |0            |\n",
      "|1.TA.1-348-j19-1.1.H  |05:23:00    |05:23:00      |8577128        |1            |0          |0            |\n",
      "|1.TA.1-348-j19-1.1.H  |05:26:00    |05:26:00      |8577138        |2            |0          |0            |\n",
      "|1.TA.1-348-j19-1.1.H  |05:29:00    |05:29:00      |8577139        |3            |0          |0            |\n",
      "|1.TA.1-348-j19-1.1.H  |05:30:00    |05:30:00      |8577140        |4            |0          |0            |\n",
      "|1.TA.1-348-j19-1.1.H  |05:31:00    |05:31:00      |8577141        |5            |0          |0            |\n",
      "|1.TA.1-348-j19-1.1.H  |05:32:00    |05:32:00      |8577142        |6            |0          |0            |\n",
      "|1.TA.1-348-j19-1.1.H  |05:36:00    |05:36:00      |8577143        |7            |0          |0            |\n",
      "|1.TA.1-349-j19-1.1.R  |09:00:00    |09:00:00      |8502562        |1            |0          |0            |\n",
      "|1.TA.1-349-j19-1.1.R  |09:02:00    |09:02:00      |8572744        |2            |0          |0            |\n",
      "|1.TA.1-350-j19-1.1.R  |08:29:00    |08:29:00      |8572597        |1            |0          |0            |\n",
      "|1.TA.1-350-j19-1.1.R  |08:31:00    |08:31:00      |8502894        |2            |0          |0            |\n",
      "|1.TA.1-350-j19-1.1.R  |08:31:00    |08:31:00      |8581346        |3            |0          |0            |\n",
      "|1.TA.1-350-j19-1.1.R  |08:32:00    |08:32:00      |8572598        |4            |0          |0            |\n",
      "|1.TA.1-350-j19-1.1.R  |08:33:00    |08:33:00      |8580317        |5            |0          |0            |\n",
      "|1.TA.1-350-j19-1.1.R  |08:34:00    |08:34:00      |8502560        |6            |0          |0            |\n",
      "|1.TA.1-350-j19-1.1.R  |08:35:00    |08:35:00      |8572599        |7            |0          |0            |\n",
      "|1.TA.1-350-j19-1.1.R  |08:40:00    |08:40:00      |8572560        |8            |0          |0            |\n",
      "|1.TA.1-352-j19-1.1.H  |06:27:00    |06:27:00      |8572550:0:B    |1            |0          |0            |\n",
      "|1.TA.1-352-j19-1.1.H  |06:28:00    |06:28:00      |8572580        |2            |0          |0            |\n",
      "|1.TA.1-352-j19-1.1.H  |06:30:00    |06:30:00      |8572581        |3            |0          |0            |\n",
      "|1.TA.1-352-j19-1.1.H  |06:33:00    |06:33:00      |8572582        |4            |0          |0            |\n",
      "|1.TA.1-352-j19-1.1.H  |06:34:00    |06:34:00      |8503799        |5            |0          |0            |\n",
      "|1.TA.1-352-j19-1.1.H  |06:35:00    |06:35:00      |8557043        |6            |0          |0            |\n",
      "|1.TA.1-352-j19-1.1.H  |06:37:00    |06:37:00      |8503588        |7            |0          |0            |\n",
      "|1.TA.1-352-j19-1.1.H  |06:38:00    |06:38:00      |8580639        |8            |0          |0            |\n",
      "|1.TA.1-352-j19-1.1.H  |06:39:00    |06:39:00      |8503585        |9            |0          |0            |\n",
      "|1.TA.1-352-j19-1.1.H  |06:40:00    |06:40:00      |8572583        |10           |0          |0            |\n",
      "|1.TA.1-352-j19-1.1.H  |06:40:00    |06:40:00      |8503586        |11           |0          |0            |\n",
      "|1.TA.1-352-j19-1.1.H  |06:43:00    |06:43:00      |8572585        |12           |0          |0            |\n",
      "|1.TA.1-352-j19-1.1.H  |06:46:00    |06:46:00      |8572587        |13           |0          |0            |\n",
      "|1.TA.1-352-j19-1.1.H  |06:47:00    |06:47:00      |8503581        |14           |0          |0            |\n",
      "|1.TA.1-352-j19-1.1.H  |06:48:00    |06:48:00      |8578903        |15           |0          |0            |\n",
      "|1.TA.1-352-j19-1.1.H  |06:49:00    |06:49:00      |8503880        |16           |0          |0            |\n",
      "|1.TA.1-352-j19-1.1.H  |06:50:00    |06:50:00      |8572588        |17           |0          |0            |\n",
      "|1.TA.1-352-j19-1.1.H  |06:53:00    |06:53:00      |8503582        |18           |0          |0            |\n",
      "|1.TA.1-353-j19-1.1.H  |06:17:00    |06:17:00      |8572550:0:A    |1            |0          |0            |\n",
      "|1.TA.1-353-j19-1.1.H  |06:18:00    |06:18:00      |8572580        |2            |0          |0            |\n",
      "|1.TA.1-353-j19-1.1.H  |06:20:00    |06:20:00      |8572581        |3            |0          |0            |\n",
      "|1.TA.1-353-j19-1.1.H  |06:23:00    |06:23:00      |8572582        |4            |0          |0            |\n",
      "|1.TA.1-353-j19-1.1.H  |06:24:00    |06:24:00      |8503799        |5            |0          |0            |\n",
      "|1.TA.1-353-j19-1.1.H  |06:25:00    |06:25:00      |8557043        |6            |0          |0            |\n",
      "|1.TA.1-353-j19-1.1.H  |06:27:00    |06:27:00      |8503588        |7            |0          |0            |\n",
      "|1.TA.1-353-j19-1.1.H  |06:28:00    |06:28:00      |8580639        |8            |0          |0            |\n",
      "|1.TA.1-353-j19-1.1.H  |06:29:00    |06:29:00      |8503585        |9            |0          |0            |\n",
      "|1.TA.1-353-j19-1.1.H  |06:30:00    |06:30:00      |8572583        |10           |0          |0            |\n",
      "|1.TA.1-353-j19-1.1.H  |06:32:00    |06:33:00      |8502895        |11           |0          |0            |\n",
      "|1.TA.1-353-j19-1.1.H  |06:34:00    |06:34:00      |8572584        |12           |0          |0            |\n",
      "|1.TA.1-353-j19-1.1.H  |06:37:00    |06:37:00      |8572587        |13           |0          |0            |\n",
      "|1.TA.1-353-j19-1.1.H  |06:38:00    |06:38:00      |8503581        |14           |0          |0            |\n",
      "|1.TA.1-353-j19-1.1.H  |06:39:00    |06:39:00      |8578903        |15           |0          |0            |\n",
      "|1.TA.1-353-j19-1.1.H  |06:40:00    |06:40:00      |8503880        |16           |0          |0            |\n",
      "|1.TA.1-353-j19-1.1.H  |06:41:00    |06:41:00      |8572588        |17           |0          |0            |\n",
      "|1.TA.1-353-j19-1.1.H  |06:43:00    |06:43:00      |8503582        |18           |0          |0            |\n",
      "|1.TA.1-354-j19-1.1.H  |06:03:00    |06:03:00      |8572586        |1            |0          |0            |\n",
      "|1.TA.1-354-j19-1.1.H  |06:05:00    |06:05:00      |8503596        |2            |0          |0            |\n",
      "|1.TA.1-354-j19-1.1.H  |06:05:00    |06:05:00      |8581639        |3            |0          |0            |\n",
      "|1.TA.1-354-j19-1.1.H  |06:10:00    |06:10:00      |8572594        |4            |0          |0            |\n",
      "|1.TA.1-354-j19-1.1.H  |06:12:00    |06:12:00      |8581072        |5            |0          |0            |\n",
      "|1.TA.1-354-j19-1.1.H  |06:13:00    |06:13:00      |8503883        |6            |0          |0            |\n",
      "|1.TA.1-354-j19-1.1.H  |06:14:00    |06:14:00      |8503882        |7            |0          |0            |\n",
      "|1.TA.1-354-j19-1.1.H  |06:15:00    |06:15:00      |8503884        |8            |0          |0            |\n",
      "|1.TA.1-354-j19-1.1.H  |06:17:00    |06:17:00      |8572593        |9            |0          |0            |\n",
      "|1.TA.1-354-j19-1.1.H  |06:19:00    |06:19:00      |8580842        |10           |0          |0            |\n",
      "|1.TA.1-354-j19-1.1.H  |06:20:00    |06:20:00      |8572592        |11           |0          |0            |\n",
      "|1.TA.1-354-j19-1.1.H  |06:24:00    |06:24:00      |8572591        |12           |0          |0            |\n",
      "|1.TA.1-354-j19-1.1.H  |06:29:00    |06:29:00      |8503687        |13           |0          |0            |\n",
      "|1.TA.1-355-j19-1.1.R  |11:55:00    |11:55:00      |8503582        |1            |0          |0            |\n",
      "|1.TA.1-355-j19-1.1.R  |11:56:00    |11:56:00      |8572588        |2            |0          |0            |\n",
      "|1.TA.1-355-j19-1.1.R  |11:57:00    |11:57:00      |8503880        |3            |0          |0            |\n",
      "|1.TA.1-355-j19-1.1.R  |11:57:00    |11:57:00      |8578903        |4            |0          |0            |\n",
      "|1.TA.1-355-j19-1.1.R  |11:58:00    |11:58:00      |8503581        |5            |0          |0            |\n",
      "|1.TA.1-355-j19-1.1.R  |12:00:00    |12:00:00      |8572587        |6            |0          |0            |\n",
      "|1.TA.1-355-j19-1.1.R  |12:03:00    |12:03:00      |8572585        |7            |0          |0            |\n",
      "|1.TA.1-355-j19-1.1.R  |12:05:00    |12:05:00      |8503589        |8            |0          |0            |\n",
      "|1.TA.1-355-j19-1.1.R  |12:08:00    |12:08:00      |8503596        |9            |0          |0            |\n",
      "|1.TA.1-355-j19-1.1.R  |12:10:00    |12:10:00      |8581639        |10           |0          |0            |\n",
      "|1.TA.1-357-A-j19-1.1.H|20:34:00    |20:34:00      |8572495        |1            |0          |0            |\n",
      "|1.TA.1-357-A-j19-1.1.H|20:35:00    |20:35:00      |8503593        |2            |1          |0            |\n",
      "|1.TA.1-357-A-j19-1.1.H|20:36:00    |20:36:00      |8572496        |3            |1          |0            |\n",
      "|1.TA.1-357-A-j19-1.1.H|20:37:00    |20:37:00      |8572497        |4            |1          |0            |\n",
      "|1.TA.1-357-A-j19-1.1.H|20:39:00    |20:39:00      |8503587        |5            |1          |0            |\n",
      "|1.TA.1-357-A-j19-1.1.H|20:40:00    |20:40:00      |8572498        |6            |1          |0            |\n",
      "|1.TA.1-357-A-j19-1.1.H|20:41:00    |20:41:00      |8583661        |7            |0          |0            |\n",
      "|1.TA.1-357-j19-1.1.H  |05:34:00    |05:34:00      |8572495        |1            |0          |0            |\n",
      "|1.TA.1-357-j19-1.1.H  |05:35:00    |05:35:00      |8503593        |2            |0          |0            |\n",
      "|1.TA.1-357-j19-1.1.H  |05:36:00    |05:36:00      |8572496        |3            |0          |0            |\n",
      "|1.TA.1-357-j19-1.1.H  |05:37:00    |05:37:00      |8572497        |4            |0          |0            |\n",
      "|1.TA.1-357-j19-1.1.H  |05:39:00    |05:39:00      |8503587        |5            |0          |0            |\n",
      "|1.TA.1-358-j19-1.1.H  |06:40:00    |06:40:00      |8572503        |1            |0          |0            |\n",
      "|1.TA.1-358-j19-1.1.H  |06:42:00    |06:42:00      |8572502        |2            |0          |0            |\n",
      "|1.TA.1-358-j19-1.1.H  |06:42:00    |06:42:00      |8578779        |3            |0          |0            |\n",
      "|1.TA.1-358-j19-1.1.H  |06:44:00    |06:44:00      |8578780        |4            |0          |0            |\n",
      "|1.TA.1-358-j19-1.1.H  |06:46:00    |06:46:00      |8578781        |5            |0          |0            |\n",
      "|1.TA.1-358-j19-1.1.H  |06:48:00    |06:48:00      |8583559        |6            |0          |0            |\n",
      "|1.TA.1-358-j19-1.1.H  |06:50:00    |06:50:00      |8578783        |7            |0          |0            |\n",
      "|1.TA.1-358-j19-1.1.H  |06:55:00    |06:55:00      |8578784        |8            |0          |0            |\n",
      "|1.TA.1-358-j19-1.1.H  |06:55:00    |06:55:00      |8578785        |9            |0          |0            |\n",
      "|1.TA.1-358-j19-1.1.H  |06:58:00    |06:58:00      |8578786        |10           |0          |0            |\n",
      "|1.TA.1-358-j19-1.1.H  |06:59:00    |06:59:00      |8578787        |11           |0          |0            |\n",
      "|1.TA.1-358-j19-1.1.H  |07:00:00    |07:00:00      |8578788        |12           |0          |0            |\n",
      "|1.TA.1-36-A-j19-1.1.R |05:29:00    |05:29:00      |8503408:0:7    |1            |0          |0            |\n",
      "|1.TA.1-36-A-j19-1.1.R |05:33:00    |05:33:00      |8503409:0:1    |2            |0          |0            |\n",
      "|1.TA.1-36-A-j19-1.1.R |05:35:00    |05:35:00      |8503410:0:1    |3            |0          |0            |\n",
      "|1.TA.1-36-A-j19-1.1.R |05:38:00    |05:38:00      |8503411:0:1    |4            |0          |0            |\n",
      "|1.TA.1-36-A-j19-1.1.R |05:41:00    |05:47:00      |8500329:0:3    |5            |0          |0            |\n",
      "|1.TA.1-36-A-j19-1.1.R |05:53:00    |05:53:00      |8014474:0:5    |6            |0          |0            |\n",
      "|1.TA.1-36-j19-1.1.R   |22:02:00    |22:02:00      |8500309:0:2    |1            |0          |0            |\n",
      "|1.TA.1-36-j19-1.1.R   |22:07:00    |22:08:00      |8503504:0:1    |2            |0          |0            |\n",
      "|1.TA.1-36-j19-1.1.R   |22:24:00    |22:24:00      |8503000:0:16   |3            |0          |0            |\n",
      "|1.TA.1-360-j19-1.1.H  |05:35:00    |05:35:00      |8572464        |1            |0          |0            |\n",
      "|1.TA.1-360-j19-1.1.H  |05:35:00    |05:35:00      |8572483        |2            |0          |0            |\n",
      "|1.TA.1-360-j19-1.1.H  |05:36:00    |05:36:00      |8503574        |3            |0          |0            |\n",
      "|1.TA.1-360-j19-1.1.H  |05:37:00    |05:37:00      |8572484        |4            |0          |0            |\n",
      "|1.TA.1-360-j19-1.1.H  |05:38:00    |05:38:00      |8572485        |5            |0          |0            |\n",
      "|1.TA.1-360-j19-1.1.H  |05:39:00    |05:39:00      |8572486        |6            |0          |0            |\n",
      "|1.TA.1-360-j19-1.1.H  |05:40:00    |05:40:00      |8500555        |7            |0          |0            |\n",
      "|1.TA.1-360-j19-1.1.H  |05:43:00    |05:43:00      |8581570        |8            |0          |0            |\n",
      "|1.TA.1-360-j19-1.1.H  |05:45:00    |05:45:00      |8572524        |9            |0          |0            |\n",
      "|1.TA.1-360-j19-1.1.H  |05:46:00    |05:46:00      |8572495        |10           |0          |0            |\n",
      "|1.TA.1-360-j19-1.1.H  |05:47:00    |05:47:00      |8581907        |11           |0          |0            |\n",
      "|1.TA.1-360-j19-1.1.H  |05:48:00    |05:48:00      |8572496        |12           |0          |0            |\n",
      "|1.TA.1-360-j19-1.1.H  |05:49:00    |05:49:00      |8572497        |13           |0          |0            |\n",
      "|1.TA.1-360-j19-1.1.H  |05:51:00    |05:51:00      |8503587        |14           |0          |0            |\n",
      "|1.TA.1-360-j19-1.1.H  |05:52:00    |05:52:00      |8572498        |15           |0          |0            |\n",
      "|1.TA.1-360-j19-1.1.H  |05:53:00    |05:53:00      |8583661        |16           |0          |0            |\n",
      "|1.TA.1-360-j19-1.1.H  |05:55:00    |05:55:00      |8583893        |17           |0          |0            |\n",
      "|1.TA.1-360-j19-1.1.H  |05:58:00    |05:58:00      |8503582        |18           |0          |0            |\n",
      "|1.TA.1-360-j19-1.1.H  |06:00:00    |06:00:00      |8503583        |19           |0          |0            |\n",
      "|1.TA.1-360-j19-1.1.H  |06:01:00    |06:01:00      |8572500        |20           |0          |0            |\n",
      "|1.TA.1-360-j19-1.1.H  |06:03:00    |06:03:00      |8503584        |21           |0          |0            |\n",
      "|1.TA.1-360-j19-1.1.H  |06:05:00    |06:05:00      |8503594        |22           |0          |0            |\n",
      "|1.TA.1-360-j19-1.1.H  |06:06:00    |06:06:00      |8576763        |23           |0          |0            |\n",
      "|1.TA.1-360-j19-1.1.H  |06:07:00    |06:07:00      |8572501        |24           |0          |0            |\n",
      "|1.TA.1-360-j19-1.1.H  |06:08:00    |06:08:00      |8572502        |25           |0          |0            |\n",
      "|1.TA.1-360-j19-1.1.H  |06:11:00    |06:11:00      |8572503        |26           |0          |0            |\n",
      "|1.TA.1-361-j19-1.1.H  |18:35:00    |18:35:00      |8581749        |1            |0          |0            |\n",
      "|1.TA.1-361-j19-1.1.H  |18:37:00    |18:37:00      |8500576        |2            |0          |0            |\n",
      "|1.TA.1-361-j19-1.1.H  |18:38:00    |18:38:00      |8580328        |3            |0          |0            |\n",
      "|1.TA.1-361-j19-1.1.H  |18:39:00    |18:39:00      |8500578        |4            |0          |0            |\n",
      "|1.TA.1-361-j19-1.1.H  |18:40:00    |18:40:00      |8572522        |5            |0          |0            |\n",
      "|1.TA.1-361-j19-1.1.H  |18:41:00    |18:41:00      |8572523        |6            |0          |0            |\n",
      "|1.TA.1-361-j19-1.1.H  |18:43:00    |18:43:00      |8581294        |7            |0          |0            |\n",
      "|1.TA.1-362-j19-1.1.R  |05:27:00    |05:27:00      |8502707        |1            |0          |0            |\n",
      "|1.TA.1-362-j19-1.1.R  |05:29:00    |05:29:00      |8503881        |2            |0          |0            |\n",
      "|1.TA.1-362-j19-1.1.R  |05:31:00    |05:31:00      |8581719        |3            |0          |0            |\n",
      "|1.TA.1-362-j19-1.1.R  |05:32:00    |05:32:00      |8581730        |4            |0          |0            |\n",
      "|1.TA.1-362-j19-1.1.R  |05:36:00    |05:36:00      |8580730        |5            |0          |0            |\n",
      "|1.TA.1-362-j19-1.1.R  |05:37:00    |05:37:00      |8572515        |6            |0          |0            |\n",
      "|1.TA.1-362-j19-1.1.R  |05:38:00    |05:38:00      |8572514        |7            |0          |0            |\n",
      "|1.TA.1-362-j19-1.1.R  |05:39:00    |05:39:00      |8502775        |8            |0          |0            |\n",
      "|1.TA.1-362-j19-1.1.R  |05:40:00    |05:40:00      |8572513        |9            |0          |0            |\n",
      "|1.TA.1-362-j19-1.1.R  |05:43:00    |05:43:00      |8572512        |10           |0          |0            |\n",
      "|1.TA.1-362-j19-1.1.R  |05:44:00    |05:44:00      |8572511        |11           |0          |0            |\n",
      "|1.TA.1-362-j19-1.1.R  |05:46:00    |05:46:00      |8502873        |12           |0          |0            |\n",
      "|1.TA.1-362-j19-1.1.R  |05:47:00    |05:47:00      |8578677        |13           |0          |0            |\n",
      "|1.TA.1-362-j19-1.1.R  |05:50:00    |05:50:00      |8500576        |14           |0          |0            |\n",
      "|1.TA.1-362-j19-1.1.R  |05:55:00    |05:55:00      |8581749        |15           |0          |0            |\n",
      "|1.TA.1-363-j19-1.1.H  |05:35:00    |05:35:00      |8581749        |1            |0          |0            |\n",
      "|1.TA.1-363-j19-1.1.H  |05:37:00    |05:37:00      |8500576        |2            |0          |0            |\n",
      "|1.TA.1-363-j19-1.1.H  |05:38:00    |05:38:00      |8572516        |3            |0          |0            |\n",
      "|1.TA.1-363-j19-1.1.H  |05:40:00    |05:40:00      |8500683        |4            |0          |0            |\n",
      "|1.TA.1-363-j19-1.1.H  |05:42:00    |05:42:00      |8572517        |5            |0          |0            |\n",
      "|1.TA.1-363-j19-1.1.H  |05:43:00    |05:43:00      |8502874        |6            |0          |0            |\n",
      "|1.TA.1-363-j19-1.1.H  |05:44:00    |05:44:00      |8572518        |7            |0          |0            |\n",
      "|1.TA.1-363-j19-1.1.H  |05:46:00    |05:46:00      |8572519        |8            |0          |0            |\n",
      "|1.TA.1-363-j19-1.1.H  |05:47:00    |05:47:00      |8572520        |9            |0          |0            |\n",
      "|1.TA.1-363-j19-1.1.H  |05:48:00    |05:48:00      |8572521        |10           |0          |0            |\n",
      "|1.TA.1-363-j19-1.1.H  |05:49:00    |05:49:00      |8502966        |11           |0          |0            |\n",
      "|1.TA.1-364-j19-1.1.R  |05:00:00    |05:00:00      |8572508        |1            |0          |0            |\n",
      "|1.TA.1-364-j19-1.1.R  |05:01:00    |05:01:00      |8502965        |2            |0          |0            |\n",
      "|1.TA.1-364-j19-1.1.R  |05:03:00    |05:03:00      |8583341        |3            |0          |0            |\n",
      "|1.TA.1-364-j19-1.1.R  |05:04:00    |05:04:00      |8502703        |4            |0          |0            |\n",
      "|1.TA.1-364-j19-1.1.R  |05:04:00    |05:04:00      |8572507        |5            |0          |0            |\n",
      "|1.TA.1-364-j19-1.1.R  |05:05:00    |05:05:00      |8572506        |6            |0          |0            |\n",
      "|1.TA.1-364-j19-1.1.R  |05:06:00    |05:06:00      |8502704        |7            |0          |0            |\n",
      "|1.TA.1-364-j19-1.1.R  |05:07:00    |05:07:00      |8502967        |8            |0          |0            |\n",
      "|1.TA.1-364-j19-1.1.R  |05:09:00    |05:09:00      |8582072        |9            |0          |0            |\n",
      "|1.TA.1-364-j19-1.1.R  |05:10:00    |05:10:00      |8572505        |10           |0          |0            |\n",
      "|1.TA.1-364-j19-1.1.R  |05:11:00    |05:11:00      |8502871        |11           |0          |0            |\n",
      "|1.TA.1-364-j19-1.1.R  |05:11:00    |05:11:00      |8572504        |12           |0          |0            |\n",
      "|1.TA.1-364-j19-1.1.R  |05:13:00    |05:13:00      |8500788        |13           |0          |0            |\n",
      "+----------------------+------------+--------------+---------------+-------------+-----------+-------------+\n",
      "only showing top 1000 rows"
     ]
    }
   ],
   "source": [
    "stop_times.orderBy(['trip_id', 'stop_sequence']).show(1000, False)"
   ]
  },
  {
   "cell_type": "code",
   "execution_count": 49,
   "metadata": {},
   "outputs": [
    {
     "data": {
      "application/vnd.jupyter.widget-view+json": {
       "model_id": "",
       "version_major": 2,
       "version_minor": 0
      },
      "text/plain": [
       "FloatProgress(value=0.0, bar_style='info', description='Progress:', layout=Layout(height='25px', width='50%'),…"
      ]
     },
     "metadata": {},
     "output_type": "display_data"
    },
    {
     "name": "stdout",
     "output_type": "stream",
     "text": [
      "+-------------------+---------------+----------+--------------+-------+---------+------------------+--------------------+\n",
      "|arrival_time_minute|        trip_id|station_id|transport_type|line_id|line_text| delay_probability|     delay_parameter|\n",
      "+-------------------+---------------+----------+--------------+-------+---------+------------------+--------------------+\n",
      "|              21:42|   85:11:10:002|   8503202|           Zug|     10|       EC|0.8202508288487688|0.014650408388357685|\n",
      "|              02:58|85:11:13714:001|   8503000|           Zug|  13714|      SN1|0.6519774011299435|0.006361772034664491|\n",
      "|              02:12|85:11:13783:001|   8503000|           Zug|  13783|      SN8|0.8833798882681564|0.007784998646087192|\n",
      "|              10:08|85:11:14037:001|   8503006|           Zug|  14037|      S24|0.8132095748704679|0.015289947865916156|\n",
      "|              13:56|85:11:14051:002|   8503010|           Zug|  14051|      S24|  0.81328451151898|0.015783488520259153|\n",
      "|              15:14|85:11:14055:002|   8503204|           Zug|  14055|      S24|0.8229764472710196|0.014770271373540382|\n",
      "|              17:21|85:11:14066:002|   8503202|           Zug|  14066|      S24|0.8888496639022103|0.009861344482875898|\n",
      "|              19:57|85:11:14077:001|   8503307|           Zug|  14077|      S24|0.8456830210103476|0.012050985796682373|\n",
      "|              20:51|85:11:14080:001|   8503202|           Zug|  14080|      S24|0.8206369829555474| 0.01426967463547332|\n",
      "|              22:21|85:11:14084:001|   8503006|           Zug|  14084|      S24|0.8255917107270856|0.013662843813113116|\n",
      "+-------------------+---------------+----------+--------------+-------+---------+------------------+--------------------+\n",
      "only showing top 10 rows"
     ]
    }
   ],
   "source": [
    "probability.show(10)"
   ]
  },
  {
   "cell_type": "code",
   "execution_count": 59,
   "metadata": {},
   "outputs": [
    {
     "data": {
      "application/vnd.jupyter.widget-view+json": {
       "model_id": "",
       "version_major": 2,
       "version_minor": 0
      },
      "text/plain": [
       "FloatProgress(value=0.0, bar_style='info', description='Progress:', layout=Layout(height='25px', width='50%'),…"
      ]
     },
     "metadata": {},
     "output_type": "display_data"
    },
    {
     "name": "stdout",
     "output_type": "stream",
     "text": [
      "+-------------------+----------------------+----------+--------------+-----------+---------+------------------+--------------------+\n",
      "|arrival_time_minute|trip_id               |station_id|transport_type|line_id    |line_text|delay_probability |delay_parameter     |\n",
      "+-------------------+----------------------+----------+--------------+-----------+---------+------------------+--------------------+\n",
      "| 11:55             |85:3849:140841-04004-1|8576198   |Tram          |85:3849:004|4        |0.8574072972731869|0.014359789452007226|\n",
      "| 11:55             |85:3849:140841-04004-1|8576199   |Tram          |85:3849:004|4        |0.8574072972731869|0.014359789452007226|\n",
      "| 11:55             |85:3849:140841-04004-1|8576193   |Tram          |85:3849:004|4        |0.8574072972731869|0.014359789452007226|\n",
      "| 11:55             |85:3849:140841-04004-1|8576195   |Tram          |85:3849:004|4        |0.8574072972731869|0.014359789452007226|\n",
      "| 11:55             |85:3849:140841-04004-1|8576200   |Tram          |85:3849:004|4        |0.8574072972731869|0.014359789452007226|\n",
      "| 11:55             |85:3849:140841-04004-1|8576197   |Tram          |85:3849:004|4        |0.8574072972731869|0.014359789452007226|\n",
      "| 11:55             |85:3849:140841-04004-1|8576196   |Tram          |85:3849:004|4        |0.8574072972731869|0.014359789452007226|\n",
      "| 11:55             |85:3849:140841-04004-1|8591239   |Tram          |85:3849:004|4        |0.8574072972731869|0.014359789452007226|\n",
      "+-------------------+----------------------+----------+--------------+-----------+---------+------------------+--------------------+"
     ]
    }
   ],
   "source": [
    "(\n",
    "    probability\n",
    "    .where(probability.trip_id.substr(0, 14) == '85:3849:140841')\n",
    "    .where(probability.arrival_time_minute == ' 11:55')\n",
    ").show(20, False)"
   ]
  },
  {
   "cell_type": "code",
   "execution_count": 67,
   "metadata": {},
   "outputs": [
    {
     "data": {
      "application/vnd.jupyter.widget-view+json": {
       "model_id": "",
       "version_major": 2,
       "version_minor": 0
      },
      "text/plain": [
       "FloatProgress(value=0.0, bar_style='info', description='Progress:', layout=Layout(height='25px', width='50%'),…"
      ]
     },
     "metadata": {},
     "output_type": "display_data"
    },
    {
     "name": "stdout",
     "output_type": "stream",
     "text": [
      "+---------------------+------------+--------------+-----------+-------------+-----------+-------------+\n",
      "|trip_id              |arrival_time|departure_time|stop_id    |stop_sequence|pickup_type|drop_off_type|\n",
      "+---------------------+------------+--------------+-----------+-------------+-----------+-------------+\n",
      "|1.TA.1-1-B-j19-1.1.R |04:20:00    |04:20:00      |8500010:0:3|1            |0          |0            |\n",
      "|1.TA.1-1-B-j19-1.1.R |04:24:00    |04:24:00      |8500020:0:3|2            |0          |0            |\n",
      "|1.TA.1-1-B-j19-1.1.R |04:28:00    |04:28:00      |8500021:0:5|3            |0          |0            |\n",
      "|1.TA.1-1-B-j19-1.1.R |04:30:00    |04:30:00      |8517131:0:2|4            |0          |0            |\n",
      "|1.TA.1-1-B-j19-1.1.R |04:32:00    |04:32:00      |8500300:0:5|5            |0          |0            |\n",
      "|1.TA.1-1-B-j19-1.1.R |04:35:00    |04:35:00      |8500313:0:2|6            |0          |0            |\n",
      "|1.TA.1-1-B-j19-1.1.R |04:37:00    |04:38:00      |8500301:0:3|7            |0          |0            |\n",
      "|1.TA.1-1-B-j19-1.1.R |04:40:00    |04:41:00      |8500302:0:3|8            |0          |0            |\n",
      "|1.TA.1-1-B-j19-1.1.R |04:45:00    |04:45:00      |8500303:0:2|9            |0          |0            |\n",
      "|1.TA.1-1-B-j19-1.1.R |04:48:00    |04:49:00      |8500320:0:3|10           |0          |0            |\n",
      "|1.TA.1-1-B-j19-1.1.R |04:52:00    |04:52:00      |8500304:0:2|11           |0          |0            |\n",
      "|1.TA.1-1-B-j19-1.1.R |04:56:00    |04:56:00      |8500305:0:1|12           |0          |0            |\n",
      "|25.TA.1-1-B-j19-1.1.R|05:50:00    |05:50:00      |8500010:0:3|1            |0          |0            |\n",
      "|25.TA.1-1-B-j19-1.1.R|05:54:00    |05:54:00      |8500020:0:3|2            |0          |0            |\n",
      "|25.TA.1-1-B-j19-1.1.R|05:58:00    |05:58:00      |8500021:0:5|3            |0          |0            |\n",
      "|25.TA.1-1-B-j19-1.1.R|06:00:00    |06:00:00      |8517131:0:2|4            |0          |0            |\n",
      "|25.TA.1-1-B-j19-1.1.R|06:02:00    |06:02:00      |8500300:0:5|5            |0          |0            |\n",
      "|25.TA.1-1-B-j19-1.1.R|06:05:00    |06:05:00      |8500313:0:2|6            |0          |0            |\n",
      "|25.TA.1-1-B-j19-1.1.R|06:07:00    |06:08:00      |8500301:0:3|7            |0          |0            |\n",
      "|25.TA.1-1-B-j19-1.1.R|06:10:00    |06:11:00      |8500302:0:3|8            |0          |0            |\n",
      "+---------------------+------------+--------------+-----------+-------------+-----------+-------------+\n",
      "only showing top 20 rows"
     ]
    }
   ],
   "source": [
    "stop_times.show(20, False)"
   ]
  },
  {
   "cell_type": "code",
   "execution_count": 60,
   "metadata": {},
   "outputs": [
    {
     "data": {
      "application/vnd.jupyter.widget-view+json": {
       "model_id": "",
       "version_major": 2,
       "version_minor": 0
      },
      "text/plain": [
       "FloatProgress(value=0.0, bar_style='info', description='Progress:', layout=Layout(height='25px', width='50%'),…"
      ]
     },
     "metadata": {},
     "output_type": "display_data"
    }
   ],
   "source": [
    "from pyspark.sql import Window"
   ]
  },
  {
   "cell_type": "code",
   "execution_count": 89,
   "metadata": {},
   "outputs": [
    {
     "data": {
      "application/vnd.jupyter.widget-view+json": {
       "model_id": "",
       "version_major": 2,
       "version_minor": 0
      },
      "text/plain": [
       "FloatProgress(value=0.0, bar_style='info', description='Progress:', layout=Layout(height='25px', width='50%'),…"
      ]
     },
     "metadata": {},
     "output_type": "display_data"
    }
   ],
   "source": [
    "order = Window().partitionBy('trip_id').orderBy('arrival_time')"
   ]
  },
  {
   "cell_type": "code",
   "execution_count": 96,
   "metadata": {},
   "outputs": [
    {
     "data": {
      "application/vnd.jupyter.widget-view+json": {
       "model_id": "",
       "version_major": 2,
       "version_minor": 0
      },
      "text/plain": [
       "FloatProgress(value=0.0, bar_style='info', description='Progress:', layout=Layout(height='25px', width='50%'),…"
      ]
     },
     "metadata": {},
     "output_type": "display_data"
    }
   ],
   "source": [
    "@f.udf\n",
    "def station_hash(stations):\n",
    "    return hash(tuple(stations))"
   ]
  },
  {
   "cell_type": "code",
   "execution_count": 99,
   "metadata": {},
   "outputs": [
    {
     "data": {
      "application/vnd.jupyter.widget-view+json": {
       "model_id": "",
       "version_major": 2,
       "version_minor": 0
      },
      "text/plain": [
       "FloatProgress(value=0.0, bar_style='info', description='Progress:', layout=Layout(height='25px', width='50%'),…"
      ]
     },
     "metadata": {},
     "output_type": "display_data"
    }
   ],
   "source": [
    "start_stop = (\n",
    "    stop_times\n",
    "    .withColumn('hash', station_hash(f.collect_list(stop_times.stop_id).over(order)))\n",
    "    .withColumn('stop_id', f.last(stop_times.stop_id).over(order))\n",
    "    # .withColumn('start_id_2', f.first(stop_times.stop_id).over(order))\n",
    "    .persist()\n",
    ")"
   ]
  },
  {
   "cell_type": "code",
   "execution_count": 100,
   "metadata": {},
   "outputs": [
    {
     "data": {
      "application/vnd.jupyter.widget-view+json": {
       "model_id": "",
       "version_major": 2,
       "version_minor": 0
      },
      "text/plain": [
       "FloatProgress(value=0.0, bar_style='info', description='Progress:', layout=Layout(height='25px', width='50%'),…"
      ]
     },
     "metadata": {},
     "output_type": "display_data"
    },
    {
     "name": "stdout",
     "output_type": "stream",
     "text": [
      "+--------------------+------------+--------------+------------+-------------+-----------+-------------+--------------------+\n",
      "|             trip_id|arrival_time|departure_time|     stop_id|stop_sequence|pickup_type|drop_off_type|                hash|\n",
      "+--------------------+------------+--------------+------------+-------------+-----------+-------------+--------------------+\n",
      "|1.TA.11-12-B-j19-...|    08:30:00|      08:30:00|     8582915|            1|          0|            0|-4647608183507534734|\n",
      "|1.TA.11-12-B-j19-...|    08:31:00|      08:31:00|     8582916|            2|          0|            0|-2344871266416595320|\n",
      "|1.TA.11-12-B-j19-...|    08:33:00|      08:33:00|     8582917|            3|          0|            0| 8063082993366071779|\n",
      "|1.TA.11-12-B-j19-...|    08:35:00|      08:35:00|     8574680|            4|          0|            0|   20657248049256456|\n",
      "|1.TA.12-1-A-j19-1...|    01:30:00|      01:30:00|8505000:0:11|            1|          0|            0| 4230726535584772973|\n",
      "+--------------------+------------+--------------+------------+-------------+-----------+-------------+--------------------+\n",
      "only showing top 5 rows"
     ]
    }
   ],
   "source": [
    "start_stop.show(5)"
   ]
  },
  {
   "cell_type": "code",
   "execution_count": null,
   "metadata": {},
   "outputs": [],
   "source": [
    "probability.groupBy(['trip_id', ''])"
   ]
  },
  {
   "cell_type": "code",
   "execution_count": 78,
   "metadata": {},
   "outputs": [
    {
     "data": {
      "application/vnd.jupyter.widget-view+json": {
       "model_id": "",
       "version_major": 2,
       "version_minor": 0
      },
      "text/plain": [
       "FloatProgress(value=0.0, bar_style='info', description='Progress:', layout=Layout(height='25px', width='50%'),…"
      ]
     },
     "metadata": {},
     "output_type": "display_data"
    },
    {
     "name": "stdout",
     "output_type": "stream",
     "text": [
      "11128930"
     ]
    }
   ],
   "source": [
    "stop_times.count()"
   ]
  },
  {
   "cell_type": "code",
   "execution_count": 79,
   "metadata": {},
   "outputs": [
    {
     "data": {
      "application/vnd.jupyter.widget-view+json": {
       "model_id": "",
       "version_major": 2,
       "version_minor": 0
      },
      "text/plain": [
       "FloatProgress(value=0.0, bar_style='info', description='Progress:', layout=Layout(height='25px', width='50%'),…"
      ]
     },
     "metadata": {},
     "output_type": "display_data"
    },
    {
     "name": "stdout",
     "output_type": "stream",
     "text": [
      "1033749"
     ]
    }
   ],
   "source": [
    "start_stop.where(start_stop.start_id == start_stop.stop_id).count()"
   ]
  },
  {
   "cell_type": "code",
   "execution_count": 66,
   "metadata": {},
   "outputs": [
    {
     "data": {
      "application/vnd.jupyter.widget-view+json": {
       "model_id": "",
       "version_major": 2,
       "version_minor": 0
      },
      "text/plain": [
       "FloatProgress(value=0.0, bar_style='info', description='Progress:', layout=Layout(height='25px', width='50%'),…"
      ]
     },
     "metadata": {},
     "output_type": "display_data"
    },
    {
     "name": "stdout",
     "output_type": "stream",
     "text": [
      "+-------------------+----------------------+---------------------------------------------------------------------------------------------------------------------------------------------------------------------------------------------+-----+\n",
      "|arrival_time_minute|trip_id               |stations                                                                                                                                                                                     |count|\n",
      "+-------------------+----------------------+---------------------------------------------------------------------------------------------------------------------------------------------------------------------------------------------+-----+\n",
      "| 07:59             |85:3849:84551-02017-1 |[8591384, 8591329, 8591415, 8591059, 8591299, 8591404, 8591366]                                                                                                                              |7    |\n",
      "| 11:55             |85:3849:140841-04004-1|[8591239, 8576196, 8576197, 8576198, 8576193, 8576195, 8576199, 8576200]                                                                                                                     |8    |\n",
      "| 13:19             |85:849:117613-30031-1 |[8591364, 8591219, 8591228, 8591277, 8591287, 8588078, 8591052, 8530812, 8591375, 8591239, 8591262, 8591367, 8587348, 8530813]                                                               |14   |\n",
      "| 14:20             |85:3849:693232-28013-1|[8591110, 8576240, 8591121, 8591299, 8591446, 8591437, 8591417, 8591423, 8591353, 8591282, 8591257, 8591317, 8591039, 8580522, 8587349, 8591093, 8591368, 8591306, 8591059, 8591067, 8591316]|21   |\n",
      "| 14:35             |85:3849:693255-28013-1|[8591110, 8591317, 8591423, 8580522, 8587349, 8591121, 8591059, 8591437, 8591093, 8591306, 8591368, 8591417, 8591299, 8591039, 8591316, 8591067, 8576240, 8591446, 8591353, 8591282, 8591257]|21   |\n",
      "| 15:27             |85:849:401254-32031-1 |[8530812, 8591262, 8591364, 8591052, 8591340, 8591221, 8591239, 8591277, 8591137, 8591169, 8591375, 8591219, 8591287, 8591367, 8588078, 8530813, 8591056, 8591233]                           |18   |\n",
      "| 15:33             |85:3849:539981-04008-1|[8591381, 8591177, 8591060, 8591052, 8591184, 8591169]                                                                                                                                       |6    |\n",
      "| 15:48             |85:3849:113294-04002-1|[8591222, 8591252, 8591079, 8591038, 8591258, 8591218, 8590318, 8591138, 8591299, 8591259, 8591051, 8591448, 8591165]                                                                        |13   |\n",
      "| 16:06             |85:849:346764-34031-1 |[8591265, 8591361, 8590318, 8591186, 8591177, 8591056, 8591253, 8591334]                                                                                                                     |8    |\n",
      "| 17:22             |85:3849:206650-11003-1|[8587348, 8591262, 8591381, 8591218, 8588078, 8591367, 8591079, 8591202, 8591199, 8503083, 8591287, 8591233, 8591239]                                                                        |13   |\n",
      "| 17:38             |85:849:55739-25033-1  |[8594239, 8591236, 8580522, 8591060, 8591038, 8591177]                                                                                                                                       |6    |\n",
      "| 17:47             |85:849:561135-36031-1 |[8588078, 8591375, 8591233, 8591072, 8591424, 8530812, 8591364, 8587348, 8591115, 8591107, 8591221, 8591239, 8591228, 8591340, 8591287, 8591445, 8530813, 8591261, 8591137]                  |19   |\n",
      "| 18:00             |85:3849:166343-06008-1|[8591398, 8591374, 8591896, 8594239, 8591033, 8591057, 8591391]                                                                                                                              |7    |\n",
      "| 18:16             |85:3849:86742-02005-1 |[8591239, 8591119, 8591220, 8591202, 8530813, 8503083]                                                                                                                                       |6    |\n",
      "| 18:41             |85:3849:248909-25011-1|[8530813, 8591104, 8591142, 8591429, 8591364, 8530812, 8591180, 8503059, 8530811]                                                                                                            |9    |\n",
      "| 19:05             |85:849:541003-04033-1 |[8576198, 8591198, 8576200, 8576199, 8591137, 8591233, 8576182, 8530812, 8591094]                                                                                                            |9    |\n",
      "| 23:25             |85:849:329799-36031-1 |[8591287, 8591107, 8591364, 8591261, 8591221, 8587348, 8591233, 8591137, 8591340, 8591239, 8591424, 8591115, 8530812, 8591445, 8530813, 8588078, 8591072, 8591228, 8591375]                  |19   |\n",
      "| 08:18             |85:3849:325496-02008-1|[8580522, 8591060, 8594239, 8591074, 8591131, 8591135]                                                                                                                                       |6    |\n",
      "| 11:59             |85:3849:143201-04013-1|[8591404, 8591366, 8591059, 8591329, 8591245, 8591415]                                                                                                                                       |6    |\n",
      "| 12:20             |85:3849:693199-28013-1|[8591093, 8591446, 8580522, 8587349, 8591437, 8576240, 8591353, 8591121, 8591067, 8591110, 8591417, 8591039, 8591059, 8591316, 8591282, 8591257, 8591368, 8591423, 8591299, 8591317, 8591306]|21   |\n",
      "+-------------------+----------------------+---------------------------------------------------------------------------------------------------------------------------------------------------------------------------------------------+-----+\n",
      "only showing top 20 rows"
     ]
    }
   ],
   "source": [
    "probability.groupBy(['arrival_time_minute', 'trip_id']).agg(f.collect_list(probability.station_id).alias('stations'), f.countDistinct(probability.station_id).alias('count')).where('count  > 5').show(20, False)\n"
   ]
  },
  {
   "cell_type": "code",
   "execution_count": 101,
   "metadata": {},
   "outputs": [
    {
     "data": {
      "application/vnd.jupyter.widget-view+json": {
       "model_id": "",
       "version_major": 2,
       "version_minor": 0
      },
      "text/plain": [
       "FloatProgress(value=0.0, bar_style='info', description='Progress:', layout=Layout(height='25px', width='50%'),…"
      ]
     },
     "metadata": {},
     "output_type": "display_data"
    }
   ],
   "source": [
    "sbb = spark.read.orc('/data/sbb/orc/istdaten')"
   ]
  },
  {
   "cell_type": "code",
   "execution_count": 111,
   "metadata": {},
   "outputs": [
    {
     "data": {
      "application/vnd.jupyter.widget-view+json": {
       "model_id": "",
       "version_major": 2,
       "version_minor": 0
      },
      "text/plain": [
       "FloatProgress(value=0.0, bar_style='info', description='Progress:', layout=Layout(height='25px', width='50%'),…"
      ]
     },
     "metadata": {},
     "output_type": "display_data"
    },
    {
     "name": "stdout",
     "output_type": "stream",
     "text": [
      "+-----------+----------------------+------------+-------------+-----------------------------+----------+-----------+-----------+---------+-------------------+--------------+-------------+-------+-----------------------+----------------+-------------------+------------------+----------------+-------------------+------------------+-------------+\n",
      "|betriebstag|fahrt_bezeichner      |betreiber_id|betreiber_abk|betreiber_name               |produkt_id|linien_id  |linien_text|umlauf_id|verkehrsmittel_text|zusatzfahrt_tf|faellt_aus_tf|bpuic  |haltestellen_name      |ankunftszeit    |an_prognose        |an_prognose_status|abfahrtszeit    |ab_prognose        |ab_prognose_status|durchfahrt_tf|\n",
      "+-----------+----------------------+------------+-------------+-----------------------------+----------+-----------+-----------+---------+-------------------+--------------+-------------+-------+-----------------------+----------------+-------------------+------------------+----------------+-------------------+------------------+-------------+\n",
      "|08.09.2018 |85:3849:140841-04004-1|85:3849     |VBZ Fpl      |Verkehrsbetriebe Zürich INFO+|Tram      |85:3849:004|4          |240010   |Trm                |false         |false        |8576193|Zürich, Bellevue       |08.09.2018 11:55|08.09.2018 11:55:54|PROGNOSE          |08.09.2018 11:56|08.09.2018 11:56:24|PROGNOSE          |false        |\n",
      "|07.07.2018 |85:3849:140841-04004-1|85:3849     |VBZ Fpl      |Verkehrsbetriebe Zürich INFO+|Tram      |85:3849:004|4          |240010   |Trm                |false         |false        |8576197|Zürich, Feldeggstrasse |07.07.2018 11:55|07.07.2018 11:55:12|PROGNOSE          |07.07.2018 11:55|07.07.2018 11:55:12|PROGNOSE          |false        |\n",
      "|07.07.2018 |85:3849:140841-04004-1|85:3849     |VBZ Fpl      |Verkehrsbetriebe Zürich INFO+|Tram      |85:3849:004|4          |240010   |Trm                |false         |false        |8576200|Zürich, Wildbachstrasse|07.07.2018 11:55|07.07.2018 11:55:12|PROGNOSE          |07.07.2018 11:55|07.07.2018 11:55:12|PROGNOSE          |false        |\n",
      "|07.07.2018 |85:3849:140841-04004-1|85:3849     |VBZ Fpl      |Verkehrsbetriebe Zürich INFO+|Tram      |85:3849:004|4          |240010   |Trm                |false         |false        |8576196|Zürich, Kreuzstrasse   |07.07.2018 11:55|07.07.2018 11:55:12|PROGNOSE          |07.07.2018 11:55|07.07.2018 11:55:12|PROGNOSE          |false        |\n",
      "|07.07.2018 |85:3849:140841-04004-1|85:3849     |VBZ Fpl      |Verkehrsbetriebe Zürich INFO+|Tram      |85:3849:004|4          |240010   |Trm                |false         |false        |8576198|Zürich, Höschgasse     |07.07.2018 11:55|07.07.2018 11:55:12|PROGNOSE          |07.07.2018 11:55|07.07.2018 11:55:12|PROGNOSE          |false        |\n",
      "|23.06.2018 |85:3849:140841-04004-1|85:3849     |VBZ Fpl      |Verkehrsbetriebe Zürich INFO+|Tram      |85:3849:004|4          |240010   |Trm                |false         |false        |8591239|Zürich, Kunsthaus      |23.06.2018 11:55|23.06.2018 12:02:16|PROGNOSE          |23.06.2018 11:55|23.06.2018 12:02:53|PROGNOSE          |false        |\n",
      "|07.07.2018 |85:3849:140841-04004-1|85:3849     |VBZ Fpl      |Verkehrsbetriebe Zürich INFO+|Tram      |85:3849:004|4          |240010   |Trm                |false         |false        |8576199|Zürich, Fröhlichstrasse|07.07.2018 11:55|07.07.2018 11:55:12|PROGNOSE          |07.07.2018 11:55|07.07.2018 11:55:12|PROGNOSE          |false        |\n",
      "|07.07.2018 |85:3849:140841-04004-1|85:3849     |VBZ Fpl      |Verkehrsbetriebe Zürich INFO+|Tram      |85:3849:004|4          |240010   |Trm                |false         |false        |8576195|Zürich, Opernhaus      |07.07.2018 11:55|07.07.2018 11:55:12|PROGNOSE          |07.07.2018 11:55|07.07.2018 11:55:12|PROGNOSE          |false        |\n",
      "+-----------+----------------------+------------+-------------+-----------------------------+----------+-----------+-----------+---------+-------------------+--------------+-------------+-------+-----------------------+----------------+-------------------+------------------+----------------+-------------------+------------------+-------------+"
     ]
    }
   ],
   "source": [
    "sbb.where(sbb.fahrt_bezeichner == '85:3849:140841-04004-1').where(sbb.ankunftszeit.substr(12, 5) == '11:55').dropDuplicates(['bpuic']).show(20, False)"
   ]
  }
 ],
 "metadata": {
  "kernelspec": {
   "display_name": "PySpark",
   "language": "",
   "name": "pysparkkernel"
  },
  "language_info": {
   "codemirror_mode": {
    "name": "python",
    "version": 3
   },
   "mimetype": "text/x-python",
   "name": "pyspark",
   "pygments_lexer": "python3"
  }
 },
 "nbformat": 4,
 "nbformat_minor": 4
}
