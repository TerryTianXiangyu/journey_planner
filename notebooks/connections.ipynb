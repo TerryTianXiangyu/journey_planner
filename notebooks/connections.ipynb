{
 "cells": [
  {
   "cell_type": "code",
   "execution_count": 1,
   "metadata": {},
   "outputs": [
    {
     "data": {
      "text/html": [
       "Current session configs: <tt>{'conf': {'spark.app.name': 'datavirus_connections'}, 'kind': 'pyspark'}</tt><br>"
      ],
      "text/plain": [
       "<IPython.core.display.HTML object>"
      ]
     },
     "metadata": {},
     "output_type": "display_data"
    },
    {
     "data": {
      "text/html": [
       "<table>\n",
       "<tr><th>ID</th><th>YARN Application ID</th><th>Kind</th><th>State</th><th>Spark UI</th><th>Driver log</th><th>Current session?</th></tr><tr><td>7932</td><td>application_1589299642358_2450</td><td>pyspark</td><td>idle</td><td><a target=\"_blank\" href=\"http://iccluster044.iccluster.epfl.ch:8088/proxy/application_1589299642358_2450/\">Link</a></td><td><a target=\"_blank\" href=\"http://iccluster067.iccluster.epfl.ch:8042/node/containerlogs/container_e06_1589299642358_2450_01_000001/ebouille\">Link</a></td><td></td></tr><tr><td>7933</td><td>application_1589299642358_2451</td><td>pyspark</td><td>idle</td><td><a target=\"_blank\" href=\"http://iccluster044.iccluster.epfl.ch:8088/proxy/application_1589299642358_2451/\">Link</a></td><td><a target=\"_blank\" href=\"http://iccluster067.iccluster.epfl.ch:8042/node/containerlogs/container_e06_1589299642358_2451_01_000001/ebouille\">Link</a></td><td></td></tr><tr><td>7935</td><td>application_1589299642358_2453</td><td>pyspark</td><td>idle</td><td><a target=\"_blank\" href=\"http://iccluster044.iccluster.epfl.ch:8088/proxy/application_1589299642358_2453/\">Link</a></td><td><a target=\"_blank\" href=\"http://iccluster071.iccluster.epfl.ch:8042/node/containerlogs/container_e06_1589299642358_2453_01_000001/ebouille\">Link</a></td><td></td></tr><tr><td>7936</td><td>application_1589299642358_2454</td><td>pyspark</td><td>idle</td><td><a target=\"_blank\" href=\"http://iccluster044.iccluster.epfl.ch:8088/proxy/application_1589299642358_2454/\">Link</a></td><td><a target=\"_blank\" href=\"http://iccluster071.iccluster.epfl.ch:8042/node/containerlogs/container_e06_1589299642358_2454_01_000001/ebouille\">Link</a></td><td></td></tr><tr><td>7937</td><td>application_1589299642358_2455</td><td>pyspark</td><td>busy</td><td><a target=\"_blank\" href=\"http://iccluster044.iccluster.epfl.ch:8088/proxy/application_1589299642358_2455/\">Link</a></td><td><a target=\"_blank\" href=\"http://iccluster071.iccluster.epfl.ch:8042/node/containerlogs/container_e06_1589299642358_2455_01_000001/ebouille\">Link</a></td><td></td></tr><tr><td>7938</td><td>application_1589299642358_2456</td><td>pyspark</td><td>idle</td><td><a target=\"_blank\" href=\"http://iccluster044.iccluster.epfl.ch:8088/proxy/application_1589299642358_2456/\">Link</a></td><td><a target=\"_blank\" href=\"http://iccluster072.iccluster.epfl.ch:8042/node/containerlogs/container_e06_1589299642358_2456_01_000001/ebouille\">Link</a></td><td></td></tr><tr><td>7939</td><td>application_1589299642358_2457</td><td>pyspark</td><td>idle</td><td><a target=\"_blank\" href=\"http://iccluster044.iccluster.epfl.ch:8088/proxy/application_1589299642358_2457/\">Link</a></td><td><a target=\"_blank\" href=\"http://iccluster066.iccluster.epfl.ch:8042/node/containerlogs/container_e06_1589299642358_2457_01_000001/ebouille\">Link</a></td><td></td></tr><tr><td>7940</td><td>application_1589299642358_2458</td><td>pyspark</td><td>idle</td><td><a target=\"_blank\" href=\"http://iccluster044.iccluster.epfl.ch:8088/proxy/application_1589299642358_2458/\">Link</a></td><td><a target=\"_blank\" href=\"http://iccluster072.iccluster.epfl.ch:8042/node/containerlogs/container_e06_1589299642358_2458_01_000001/ebouille\">Link</a></td><td></td></tr><tr><td>7941</td><td>application_1589299642358_2459</td><td>pyspark</td><td>idle</td><td><a target=\"_blank\" href=\"http://iccluster044.iccluster.epfl.ch:8088/proxy/application_1589299642358_2459/\">Link</a></td><td><a target=\"_blank\" href=\"http://iccluster067.iccluster.epfl.ch:8042/node/containerlogs/container_e06_1589299642358_2459_01_000001/ebouille\">Link</a></td><td></td></tr><tr><td>7942</td><td>application_1589299642358_2460</td><td>pyspark</td><td>idle</td><td><a target=\"_blank\" href=\"http://iccluster044.iccluster.epfl.ch:8088/proxy/application_1589299642358_2460/\">Link</a></td><td><a target=\"_blank\" href=\"http://iccluster072.iccluster.epfl.ch:8042/node/containerlogs/container_e06_1589299642358_2460_01_000001/ebouille\">Link</a></td><td></td></tr><tr><td>7944</td><td>application_1589299642358_2462</td><td>pyspark</td><td>busy</td><td><a target=\"_blank\" href=\"http://iccluster044.iccluster.epfl.ch:8088/proxy/application_1589299642358_2462/\">Link</a></td><td><a target=\"_blank\" href=\"http://iccluster065.iccluster.epfl.ch:8042/node/containerlogs/container_e06_1589299642358_2462_01_000001/ebouille\">Link</a></td><td></td></tr><tr><td>7945</td><td>application_1589299642358_2463</td><td>pyspark</td><td>busy</td><td><a target=\"_blank\" href=\"http://iccluster044.iccluster.epfl.ch:8088/proxy/application_1589299642358_2463/\">Link</a></td><td><a target=\"_blank\" href=\"http://iccluster068.iccluster.epfl.ch:8042/node/containerlogs/container_e06_1589299642358_2463_01_000001/ebouille\">Link</a></td><td></td></tr></table>"
      ],
      "text/plain": [
       "<IPython.core.display.HTML object>"
      ]
     },
     "metadata": {},
     "output_type": "display_data"
    }
   ],
   "source": [
    "%%configure\n",
    "{\"conf\": {\n",
    "    \"spark.app.name\": \"datavirus_connections\"\n",
    "}}"
   ]
  },
  {
   "cell_type": "code",
   "execution_count": 2,
   "metadata": {},
   "outputs": [
    {
     "name": "stdout",
     "output_type": "stream",
     "text": [
      "Starting Spark application\n"
     ]
    },
    {
     "data": {
      "text/html": [
       "<table>\n",
       "<tr><th>ID</th><th>YARN Application ID</th><th>Kind</th><th>State</th><th>Spark UI</th><th>Driver log</th><th>Current session?</th></tr><tr><td>7946</td><td>application_1589299642358_2464</td><td>pyspark</td><td>idle</td><td><a target=\"_blank\" href=\"http://iccluster044.iccluster.epfl.ch:8088/proxy/application_1589299642358_2464/\">Link</a></td><td><a target=\"_blank\" href=\"http://iccluster065.iccluster.epfl.ch:8042/node/containerlogs/container_e06_1589299642358_2464_01_000001/ebouille\">Link</a></td><td>✔</td></tr></table>"
      ],
      "text/plain": [
       "<IPython.core.display.HTML object>"
      ]
     },
     "metadata": {},
     "output_type": "display_data"
    },
    {
     "data": {
      "application/vnd.jupyter.widget-view+json": {
       "model_id": "",
       "version_major": 2,
       "version_minor": 0
      },
      "text/plain": [
       "FloatProgress(value=0.0, bar_style='info', description='Progress:', layout=Layout(height='25px', width='50%'),…"
      ]
     },
     "metadata": {},
     "output_type": "display_data"
    },
    {
     "name": "stdout",
     "output_type": "stream",
     "text": [
      "SparkSession available as 'spark'.\n"
     ]
    },
    {
     "data": {
      "application/vnd.jupyter.widget-view+json": {
       "model_id": "",
       "version_major": 2,
       "version_minor": 0
      },
      "text/plain": [
       "FloatProgress(value=0.0, bar_style='info', description='Progress:', layout=Layout(height='25px', width='50%'),…"
      ]
     },
     "metadata": {},
     "output_type": "display_data"
    },
    {
     "name": "stdout",
     "output_type": "stream",
     "text": [
      "<pyspark.sql.session.SparkSession object at 0x7ff360f91390>"
     ]
    }
   ],
   "source": [
    "spark"
   ]
  },
  {
   "cell_type": "code",
   "execution_count": 3,
   "metadata": {},
   "outputs": [
    {
     "data": {
      "text/html": [
       "Current session configs: <tt>{'conf': {'spark.app.name': 'datavirus_connections'}, 'kind': 'pyspark'}</tt><br>"
      ],
      "text/plain": [
       "<IPython.core.display.HTML object>"
      ]
     },
     "metadata": {},
     "output_type": "display_data"
    },
    {
     "data": {
      "text/html": [
       "<table>\n",
       "<tr><th>ID</th><th>YARN Application ID</th><th>Kind</th><th>State</th><th>Spark UI</th><th>Driver log</th><th>Current session?</th></tr><tr><td>7932</td><td>application_1589299642358_2450</td><td>pyspark</td><td>idle</td><td><a target=\"_blank\" href=\"http://iccluster044.iccluster.epfl.ch:8088/proxy/application_1589299642358_2450/\">Link</a></td><td><a target=\"_blank\" href=\"http://iccluster067.iccluster.epfl.ch:8042/node/containerlogs/container_e06_1589299642358_2450_01_000001/ebouille\">Link</a></td><td></td></tr><tr><td>7933</td><td>application_1589299642358_2451</td><td>pyspark</td><td>idle</td><td><a target=\"_blank\" href=\"http://iccluster044.iccluster.epfl.ch:8088/proxy/application_1589299642358_2451/\">Link</a></td><td><a target=\"_blank\" href=\"http://iccluster067.iccluster.epfl.ch:8042/node/containerlogs/container_e06_1589299642358_2451_01_000001/ebouille\">Link</a></td><td></td></tr><tr><td>7935</td><td>application_1589299642358_2453</td><td>pyspark</td><td>idle</td><td><a target=\"_blank\" href=\"http://iccluster044.iccluster.epfl.ch:8088/proxy/application_1589299642358_2453/\">Link</a></td><td><a target=\"_blank\" href=\"http://iccluster071.iccluster.epfl.ch:8042/node/containerlogs/container_e06_1589299642358_2453_01_000001/ebouille\">Link</a></td><td></td></tr><tr><td>7936</td><td>application_1589299642358_2454</td><td>pyspark</td><td>idle</td><td><a target=\"_blank\" href=\"http://iccluster044.iccluster.epfl.ch:8088/proxy/application_1589299642358_2454/\">Link</a></td><td><a target=\"_blank\" href=\"http://iccluster071.iccluster.epfl.ch:8042/node/containerlogs/container_e06_1589299642358_2454_01_000001/ebouille\">Link</a></td><td></td></tr><tr><td>7937</td><td>application_1589299642358_2455</td><td>pyspark</td><td>busy</td><td><a target=\"_blank\" href=\"http://iccluster044.iccluster.epfl.ch:8088/proxy/application_1589299642358_2455/\">Link</a></td><td><a target=\"_blank\" href=\"http://iccluster071.iccluster.epfl.ch:8042/node/containerlogs/container_e06_1589299642358_2455_01_000001/ebouille\">Link</a></td><td></td></tr><tr><td>7938</td><td>application_1589299642358_2456</td><td>pyspark</td><td>idle</td><td><a target=\"_blank\" href=\"http://iccluster044.iccluster.epfl.ch:8088/proxy/application_1589299642358_2456/\">Link</a></td><td><a target=\"_blank\" href=\"http://iccluster072.iccluster.epfl.ch:8042/node/containerlogs/container_e06_1589299642358_2456_01_000001/ebouille\">Link</a></td><td></td></tr><tr><td>7939</td><td>application_1589299642358_2457</td><td>pyspark</td><td>idle</td><td><a target=\"_blank\" href=\"http://iccluster044.iccluster.epfl.ch:8088/proxy/application_1589299642358_2457/\">Link</a></td><td><a target=\"_blank\" href=\"http://iccluster066.iccluster.epfl.ch:8042/node/containerlogs/container_e06_1589299642358_2457_01_000001/ebouille\">Link</a></td><td></td></tr><tr><td>7940</td><td>application_1589299642358_2458</td><td>pyspark</td><td>idle</td><td><a target=\"_blank\" href=\"http://iccluster044.iccluster.epfl.ch:8088/proxy/application_1589299642358_2458/\">Link</a></td><td><a target=\"_blank\" href=\"http://iccluster072.iccluster.epfl.ch:8042/node/containerlogs/container_e06_1589299642358_2458_01_000001/ebouille\">Link</a></td><td></td></tr><tr><td>7941</td><td>application_1589299642358_2459</td><td>pyspark</td><td>idle</td><td><a target=\"_blank\" href=\"http://iccluster044.iccluster.epfl.ch:8088/proxy/application_1589299642358_2459/\">Link</a></td><td><a target=\"_blank\" href=\"http://iccluster067.iccluster.epfl.ch:8042/node/containerlogs/container_e06_1589299642358_2459_01_000001/ebouille\">Link</a></td><td></td></tr><tr><td>7942</td><td>application_1589299642358_2460</td><td>pyspark</td><td>idle</td><td><a target=\"_blank\" href=\"http://iccluster044.iccluster.epfl.ch:8088/proxy/application_1589299642358_2460/\">Link</a></td><td><a target=\"_blank\" href=\"http://iccluster072.iccluster.epfl.ch:8042/node/containerlogs/container_e06_1589299642358_2460_01_000001/ebouille\">Link</a></td><td></td></tr><tr><td>7944</td><td>application_1589299642358_2462</td><td>pyspark</td><td>busy</td><td><a target=\"_blank\" href=\"http://iccluster044.iccluster.epfl.ch:8088/proxy/application_1589299642358_2462/\">Link</a></td><td><a target=\"_blank\" href=\"http://iccluster065.iccluster.epfl.ch:8042/node/containerlogs/container_e06_1589299642358_2462_01_000001/ebouille\">Link</a></td><td></td></tr><tr><td>7945</td><td>application_1589299642358_2463</td><td>pyspark</td><td>busy</td><td><a target=\"_blank\" href=\"http://iccluster044.iccluster.epfl.ch:8088/proxy/application_1589299642358_2463/\">Link</a></td><td><a target=\"_blank\" href=\"http://iccluster068.iccluster.epfl.ch:8042/node/containerlogs/container_e06_1589299642358_2463_01_000001/ebouille\">Link</a></td><td></td></tr><tr><td>7946</td><td>application_1589299642358_2464</td><td>pyspark</td><td>idle</td><td><a target=\"_blank\" href=\"http://iccluster044.iccluster.epfl.ch:8088/proxy/application_1589299642358_2464/\">Link</a></td><td><a target=\"_blank\" href=\"http://iccluster065.iccluster.epfl.ch:8042/node/containerlogs/container_e06_1589299642358_2464_01_000001/ebouille\">Link</a></td><td>✔</td></tr></table>"
      ],
      "text/plain": [
       "<IPython.core.display.HTML object>"
      ]
     },
     "metadata": {},
     "output_type": "display_data"
    }
   ],
   "source": [
    "%%info"
   ]
  },
  {
   "cell_type": "code",
   "execution_count": 4,
   "metadata": {},
   "outputs": [
    {
     "data": {
      "application/vnd.jupyter.widget-view+json": {
       "model_id": "",
       "version_major": 2,
       "version_minor": 0
      },
      "text/plain": [
       "FloatProgress(value=0.0, bar_style='info', description='Progress:', layout=Layout(height='25px', width='50%'),…"
      ]
     },
     "metadata": {},
     "output_type": "display_data"
    }
   ],
   "source": [
    "import pyspark.sql.functions as f"
   ]
  },
  {
   "cell_type": "code",
   "execution_count": 5,
   "metadata": {},
   "outputs": [
    {
     "data": {
      "application/vnd.jupyter.widget-view+json": {
       "model_id": "",
       "version_major": 2,
       "version_minor": 0
      },
      "text/plain": [
       "FloatProgress(value=0.0, bar_style='info', description='Progress:', layout=Layout(height='25px', width='50%'),…"
      ]
     },
     "metadata": {},
     "output_type": "display_data"
    }
   ],
   "source": [
    "probability = spark.read.orc('/user/gflueck/probability.orc')"
   ]
  },
  {
   "cell_type": "code",
   "execution_count": 6,
   "metadata": {},
   "outputs": [
    {
     "data": {
      "application/vnd.jupyter.widget-view+json": {
       "model_id": "",
       "version_major": 2,
       "version_minor": 0
      },
      "text/plain": [
       "FloatProgress(value=0.0, bar_style='info', description='Progress:', layout=Layout(height='25px', width='50%'),…"
      ]
     },
     "metadata": {},
     "output_type": "display_data"
    },
    {
     "name": "stdout",
     "output_type": "stream",
     "text": [
      "+-------------------+---------------+----------+--------------+-------+---------+------------------+--------------------+\n",
      "|arrival_time_minute|        trip_id|station_id|transport_type|line_id|line_text| delay_probability|     delay_parameter|\n",
      "+-------------------+---------------+----------+--------------+-------+---------+------------------+--------------------+\n",
      "|              21:42|   85:11:10:002|   8503202|           Zug|     10|       EC|0.8202508288487688|0.014650408388357685|\n",
      "|              02:58|85:11:13714:001|   8503000|           Zug|  13714|      SN1|0.6519774011299435|0.006361772034664491|\n",
      "+-------------------+---------------+----------+--------------+-------+---------+------------------+--------------------+\n",
      "only showing top 2 rows"
     ]
    }
   ],
   "source": [
    "probability.show(2)"
   ]
  },
  {
   "cell_type": "code",
   "execution_count": 7,
   "metadata": {},
   "outputs": [
    {
     "data": {
      "application/vnd.jupyter.widget-view+json": {
       "model_id": "",
       "version_major": 2,
       "version_minor": 0
      },
      "text/plain": [
       "FloatProgress(value=0.0, bar_style='info', description='Progress:', layout=Layout(height='25px', width='50%'),…"
      ]
     },
     "metadata": {},
     "output_type": "display_data"
    }
   ],
   "source": [
    "schedule = spark.read.orc('/user/datavirus/schedule_zurich.orc')"
   ]
  },
  {
   "cell_type": "code",
   "execution_count": 8,
   "metadata": {},
   "outputs": [
    {
     "data": {
      "application/vnd.jupyter.widget-view+json": {
       "model_id": "",
       "version_major": 2,
       "version_minor": 0
      },
      "text/plain": [
       "FloatProgress(value=0.0, bar_style='info', description='Progress:', layout=Layout(height='25px', width='50%'),…"
      ]
     },
     "metadata": {},
     "output_type": "display_data"
    },
    {
     "name": "stdout",
     "output_type": "stream",
     "text": [
      "+-------------+--------------------+----------+-------------+---------+------------+\n",
      "|Stop_sequence|             Trip_ID|Start_Time|Start_Station|Stop_Time|Stop_Station|\n",
      "+-------------+--------------------+----------+-------------+---------+------------+\n",
      "|           19|299.TA.26-308-j19...|  15:51:00|      8591833| 15:52:00|     8590833|\n",
      "|           20|299.TA.26-308-j19...|  15:52:00|      8590833| 15:53:00|     8590727|\n",
      "+-------------+--------------------+----------+-------------+---------+------------+\n",
      "only showing top 2 rows"
     ]
    }
   ],
   "source": [
    "schedule.show(2)"
   ]
  },
  {
   "cell_type": "code",
   "execution_count": 57,
   "metadata": {},
   "outputs": [
    {
     "data": {
      "application/vnd.jupyter.widget-view+json": {
       "model_id": "",
       "version_major": 2,
       "version_minor": 0
      },
      "text/plain": [
       "FloatProgress(value=0.0, bar_style='info', description='Progress:', layout=Layout(height='25px', width='50%'),…"
      ]
     },
     "metadata": {},
     "output_type": "display_data"
    }
   ],
   "source": [
    "trips = spark.read.orc(\"/data/sbb/timetables/orc/trips/\")\n",
    "calendar = spark.read.orc(\"/data/sbb/timetables/orc/calendar/\")\n",
    "routes = spark.read.orc(\"/data/sbb/timetables/orc/routes/\")"
   ]
  },
  {
   "cell_type": "code",
   "execution_count": 73,
   "metadata": {},
   "outputs": [
    {
     "data": {
      "application/vnd.jupyter.widget-view+json": {
       "model_id": "",
       "version_major": 2,
       "version_minor": 0
      },
      "text/plain": [
       "FloatProgress(value=0.0, bar_style='info', description='Progress:', layout=Layout(height='25px', width='50%'),…"
      ]
     },
     "metadata": {},
     "output_type": "display_data"
    },
    {
     "name": "stdout",
     "output_type": "stream",
     "text": [
      "+-----------+----------+--------------------+------------------+---------------+------------+\n",
      "|   route_id|service_id|             trip_id|     trip_headsign|trip_short_name|direction_id|\n",
      "+-----------+----------+--------------------+------------------+---------------+------------+\n",
      "|1-1-C-j19-1|  TA+b0001|5.TA.1-1-C-j19-1.3.R|Zofingen, Altachen|            108|           1|\n",
      "|1-1-C-j19-1|  TA+b0001|7.TA.1-1-C-j19-1.3.R|Zofingen, Altachen|            112|           1|\n",
      "+-----------+----------+--------------------+------------------+---------------+------------+\n",
      "only showing top 2 rows"
     ]
    }
   ],
   "source": [
    "trips.show(2)"
   ]
  },
  {
   "cell_type": "code",
   "execution_count": 23,
   "metadata": {},
   "outputs": [
    {
     "data": {
      "application/vnd.jupyter.widget-view+json": {
       "model_id": "",
       "version_major": 2,
       "version_minor": 0
      },
      "text/plain": [
       "FloatProgress(value=0.0, bar_style='info', description='Progress:', layout=Layout(height='25px', width='50%'),…"
      ]
     },
     "metadata": {},
     "output_type": "display_data"
    }
   ],
   "source": [
    "monday_service = (\n",
    "    calendar\n",
    "    .where(calendar.monday == True)\n",
    "    .select('service_id')\n",
    "    .dropDuplicates()\n",
    ")"
   ]
  },
  {
   "cell_type": "code",
   "execution_count": 24,
   "metadata": {},
   "outputs": [
    {
     "data": {
      "application/vnd.jupyter.widget-view+json": {
       "model_id": "",
       "version_major": 2,
       "version_minor": 0
      },
      "text/plain": [
       "FloatProgress(value=0.0, bar_style='info', description='Progress:', layout=Layout(height='25px', width='50%'),…"
      ]
     },
     "metadata": {},
     "output_type": "display_data"
    }
   ],
   "source": [
    "monday_trips = (\n",
    "    trips\n",
    "    .join(f.broadcast(monday_service), 'service_id')\n",
    ")"
   ]
  },
  {
   "cell_type": "code",
   "execution_count": 59,
   "metadata": {},
   "outputs": [
    {
     "data": {
      "application/vnd.jupyter.widget-view+json": {
       "model_id": "",
       "version_major": 2,
       "version_minor": 0
      },
      "text/plain": [
       "FloatProgress(value=0.0, bar_style='info', description='Progress:', layout=Layout(height='25px', width='50%'),…"
      ]
     },
     "metadata": {},
     "output_type": "display_data"
    }
   ],
   "source": [
    "route_trips = (\n",
    "    trips\n",
    "    .join(routes, 'route_id')\n",
    ")"
   ]
  },
  {
   "cell_type": "code",
   "execution_count": 72,
   "metadata": {},
   "outputs": [
    {
     "data": {
      "application/vnd.jupyter.widget-view+json": {
       "model_id": "",
       "version_major": 2,
       "version_minor": 0
      },
      "text/plain": [
       "FloatProgress(value=0.0, bar_style='info', description='Progress:', layout=Layout(height='25px', width='50%'),…"
      ]
     },
     "metadata": {},
     "output_type": "display_data"
    },
    {
     "name": "stdout",
     "output_type": "stream",
     "text": [
      "+--------------+----------+------------------------+---------------+---------------+------------+---------+----------------+---------------+----------+----------+\n",
      "|route_id      |service_id|trip_id                 |trip_headsign  |trip_short_name|direction_id|agency_id|route_short_name|route_long_name|route_desc|route_type|\n",
      "+--------------+----------+------------------------+---------------+---------------+------------+---------+----------------+---------------+----------+----------+\n",
      "|40-18-Y-j19-1 |TA+b06uw  |25.TA.40-18-Y-j19-1.22.H|Zürich HB      |10             |0           |11       |18-Y            |               |Eurocity  |102       |\n",
      "|54-2-Y-j19-1  |TA+b046m  |13.TA.54-2-Y-j19-1.11.H |Basel Bad Bf   |100            |0           |11       |2-Y             |               |ICE       |102       |\n",
      "|5-3-j19-1     |TA+b01i5  |161.TA.5-3-j19-1.79.H   |Zürich HB      |10003          |0           |11       |3               |               |Intercity |102       |\n",
      "|54-4-Y-j19-1  |TA+b020a  |3.TA.54-4-Y-j19-1.1.H   |Basel SBB      |10004          |0           |11       |4-Y             |               |ICE       |102       |\n",
      "|40-13-Y-j19-1 |TA+b07m1  |1.TA.40-13-Y-j19-1.1.H  |Basel SBB      |10006          |0           |11       |13-Y            |               |Eurocity  |102       |\n",
      "|40-11-Y-j19-1 |TA+b07m1  |1.TA.40-11-Y-j19-1.1.H  |Interlaken Ost |10007          |0           |11       |11-Y            |               |Eurocity  |102       |\n",
      "|40-27-Y-j19-1 |TA+b020a  |4.TA.40-27-Y-j19-1.2.H  |Basel SBB      |10008          |0           |11       |27-Y            |               |Eurocity  |102       |\n",
      "|40-26-Y-j19-1 |TA+b020a  |5.TA.40-26-Y-j19-1.5.H  |Zürich HB      |10009          |0           |11       |26-Y            |               |Eurocity  |102       |\n",
      "|40-20-Y-j19-1 |TA+b09ql  |34.TA.40-20-Y-j19-1.5.H |Genève         |10036          |0           |11       |20-Y            |               |Eurocity  |102       |\n",
      "|63-132-Y-j19-1|TA+b08de  |2.TA.63-132-Y-j19-1.2.H |Brig           |10042          |0           |11       |132-Y           |               |Extrazug  |100       |\n",
      "|40-1-Y-j19-1  |TA+b07m1  |1.TA.40-1-Y-j19-1.1.H   |Basel SBB      |10050          |0           |11       |1-Y             |               |Eurocity  |102       |\n",
      "|40-6-Y-j19-1  |TA+b07m1  |29.TA.40-6-Y-j19-1.29.H |Domodossola (I)|10051          |0           |11       |6-Y             |               |Eurocity  |102       |\n",
      "|40-2-Y-j19-1  |TA+b081s  |1.TA.40-2-Y-j19-1.1.H   |Basel SBB      |10056          |0           |11       |2-Y             |               |Eurocity  |102       |\n",
      "|40-6-Y-j19-1  |TA+b07m1  |1.TA.40-6-Y-j19-1.1.H   |Domodossola (I)|10057          |0           |11       |6-Y             |               |Eurocity  |102       |\n",
      "|40-6-Y-j19-1  |TA+b081s  |3.TA.40-6-Y-j19-1.3.H   |Domodossola (I)|10059          |0           |11       |6-Y             |               |Eurocity  |102       |\n",
      "|17-4-j19-1    |TA+b0828  |62.TA.17-4-j19-1.17.R   |Zürich HB      |1007           |1           |11       |4               |               |Intercity |102       |\n",
      "|54-4-Y-j19-1  |TA+b020a  |20.TA.54-4-Y-j19-1.13.H |Basel SBB      |10070          |0           |11       |4-Y             |               |ICE       |102       |\n",
      "|54-3-Y-j19-1  |TA+b020a  |16.TA.54-3-Y-j19-1.11.H |Chur           |10071          |0           |11       |3-Y             |               |ICE       |102       |\n",
      "|54-4-Y-j19-1  |TA+b020a  |24.TA.54-4-Y-j19-1.13.H |Basel SBB      |10072          |0           |11       |4-Y             |               |ICE       |102       |\n",
      "|54-3-Y-j19-1  |TA+b03m5  |20.TA.54-3-Y-j19-1.14.H |Zürich HB      |10073          |0           |11       |3-Y             |               |ICE       |102       |\n",
      "+--------------+----------+------------------------+---------------+---------------+------------+---------+----------------+---------------+----------+----------+\n",
      "only showing top 20 rows"
     ]
    }
   ],
   "source": [
    "route_trips.where('agency_id == \"11\"').orderBy(['agency_id', 'trip_short_name']).dropDuplicates(['agency_id', 'trip_short_name']).show(20, False)"
   ]
  },
  {
   "cell_type": "code",
   "execution_count": 70,
   "metadata": {},
   "outputs": [
    {
     "data": {
      "application/vnd.jupyter.widget-view+json": {
       "model_id": "",
       "version_major": 2,
       "version_minor": 0
      },
      "text/plain": [
       "FloatProgress(value=0.0, bar_style='info', description='Progress:', layout=Layout(height='25px', width='50%'),…"
      ]
     },
     "metadata": {},
     "output_type": "display_data"
    },
    {
     "name": "stdout",
     "output_type": "stream",
     "text": [
      "+-------------------+---------------+----------+--------------+-------+---------+------------------+---------------------+--------+\n",
      "|arrival_time_minute|trip_id        |station_id|transport_type|line_id|line_text|delay_probability |delay_parameter      |operator|\n",
      "+-------------------+---------------+----------+--------------+-------+---------+------------------+---------------------+--------+\n",
      "| 21:42             |85:11:10:002   |8503202   |Zug           |10     |EC       |0.8202508288487688|0.014650408388357685 |11      |\n",
      "| 15:14             |85:11:10016:007|8503000   |Zug           |10016  |IC       |0.8229764472710196|0.014770271373540382 |11      |\n",
      "| 18:47             |85:11:10020:007|8503000   |Zug           |10020  |EC       |0.8842176300333565|0.009397486165561733 |11      |\n",
      "| 21:17             |85:11:10022:015|8503000   |Zug           |10022  |IC       |0.8202508288487688|0.014650408388357685 |11      |\n",
      "| 06:23             |85:11:1007:001 |8503000   |Zug           |1007   |IC4      |0.8335585978374608|0.014639870232901982 |11      |\n",
      "| 07:23             |85:11:1009:001 |8503000   |Zug           |1009   |IC4      |0.8737849246084934|0.010959601174916546 |11      |\n",
      "| 08:23             |85:11:1011:001 |8503000   |Zug           |1011   |IC4      |0.8771223587591788|0.010078529980141394 |11      |\n",
      "| 23:23             |85:11:1041:001 |8503000   |Zug           |1041   |RE       |0.8135884616581439|0.013691067186197232 |11      |\n",
      "| 16:14             |85:11:10823:004|8503016   |Zug           |10823  |IC8      |0.858545437538001 |0.012455941741301647 |11      |\n",
      "| 06:18             |85:11:11:001   |8503202   |Zug           |11     |EC       |0.8335585978374608|0.014639870232901982 |11      |\n",
      "| 10:20             |85:11:11466:005|8503000   |Zug           |11466  |NJ       |0.8132095748704679|0.015289947865916156 |11      |\n",
      "| 16:00             |85:11:1173:001 |8503000   |Zug           |1173   |ICE      |0.858545437538001 |0.012455941741301647 |11      |\n",
      "| 18:00             |85:11:1175:002 |8503000   |Zug           |1175   |ICE      |0.8842176300333565|0.009397486165561733 |11      |\n",
      "| 20:00             |85:11:1177:003 |8503000   |Zug           |1177   |ICE      |0.8206369829555474|0.01426967463547332  |11      |\n",
      "| 10:50             |85:11:12:001   |8503000   |Zug           |12     |EC       |0.8132095748704679|0.015289947865916156 |11      |\n",
      "| 07:00             |85:11:1251:003 |8503000   |Zug           |1251   |IC3      |0.8146718146718147|0.009104245771487746 |11      |\n",
      "| 21:23             |85:11:1252:002 |8503000   |Zug           |1252   |IC       |0.8202508288487688|0.014650408388357685 |11      |\n",
      "| 08:00             |85:11:1253:001 |8503000   |Zug           |1253   |IC3      |0.8771223587591788|0.010078529980141394 |11      |\n",
      "| 08:26             |85:11:1255:001 |8503000   |Zug           |1255   |IC3      |0.8771223587591788|0.010078529980141394 |11      |\n",
      "| 17:53             |85:11:1256:002 |8503000   |Zug           |1256   |IC3      |0.8865248226950354|0.007391529307413705 |11      |\n",
      "| 21:23             |85:11:1258:001 |8503000   |Zug           |1258   |IC3      |0.8202508288487688|0.014650408388357685 |11      |\n",
      "| 21:26             |85:11:1261:001 |8503000   |Zug           |1261   |IC3      |0.8202508288487688|0.014650408388357685 |11      |\n",
      "| 13:53             |85:11:1270:001 |8503000   |Zug           |1270   |ICE      |0.81328451151898  |0.015783488520259153 |11      |\n",
      "| 10:00             |85:11:1271:001 |8503000   |Zug           |1271   |ICE      |0.8132095748704679|0.015289947865916156 |11      |\n",
      "| 11:53             |85:11:1272:001 |8503000   |Zug           |1272   |ICE      |0.8053385403681491|0.01590320015199958  |11      |\n",
      "| 16:00             |85:11:1273:002 |8503000   |Zug           |1273   |ICE      |0.858545437538001 |0.012455941741301647 |11      |\n",
      "| 18:00             |85:11:1275:001 |8503000   |Zug           |1275   |ICE      |0.8842176300333565|0.009397486165561733 |11      |\n",
      "| 20:00             |85:11:1277:001 |8503000   |Zug           |1277   |ICE      |0.8206369829555474|0.01426967463547332  |11      |\n",
      "| 22:00             |85:11:1279:001 |8503000   |Zug           |1279   |ICE      |0.8255917107270856|0.013662843813113116 |11      |\n",
      "| 16:00             |85:11:1293:002 |8503000   |Zug           |1293   |ICE      |0.858545437538001 |0.012455941741301647 |11      |\n",
      "| 18:00             |85:11:1295:001 |8503000   |Zug           |1295   |ICE      |0.8842176300333565|0.009397486165561733 |11      |\n",
      "| 07:18             |85:11:13:001   |8503202   |Zug           |13     |EC       |0.8737849246084934|0.010959601174916546 |11      |\n",
      "| 22:18             |85:11:1310:007 |8503000   |Zug           |1310   |IC       |0.8255917107270856|0.013662843813113116 |11      |\n",
      "| 18:57             |85:11:1340:005 |8503000   |Zug           |1340   |IC       |0.8842176300333565|0.009397486165561733 |11      |\n",
      "| 01:14             |85:11:13710:001|8503508   |Zug           |13710  |SN1      |0.9666666666666667|0.0069831841714492115|11      |\n",
      "| 01:08             |85:11:13711:001|8503003   |Zug           |13711  |SN1      |0.7672413793103449|0.008999443854593257 |11      |\n",
      "| 01:58             |85:11:13712:001|8503000   |Zug           |13712  |SN1      |0.7240223463687151|0.00781334780249593  |11      |\n",
      "| 01:52             |85:11:13713:001|8503512   |Zug           |13713  |SN1      |0.8488700564971752|0.007032776718115543 |11      |\n",
      "| 02:58             |85:11:13714:001|8503000   |Zug           |13714  |SN1      |0.6519774011299435|0.006361772034664491 |11      |\n",
      "| 03:12             |85:11:13715:001|8503147   |Zug           |13715  |SN1      |0.8580765639589168|0.006882863990413421 |11      |\n",
      "| 03:55             |85:11:13716:001|8503003   |Zug           |13716  |SN1      |0.6527149321266968|0.008142472094040613 |11      |\n",
      "| 04:12             |85:11:13717:001|8503147   |Zug           |13717  |SN1      |0.8587257617728532|0.005878894767783657 |11      |\n",
      "| 13:18             |85:11:1372:003 |8503000   |Zug           |1372   |IC       |0.81328451151898  |0.015783488520259153 |11      |\n",
      "| 13:49             |85:11:1374:005 |8503000   |Zug           |1374   |IC       |0.81328451151898  |0.015783488520259153 |11      |\n",
      "| 01:07             |85:11:13750:001|8502229   |Zug           |13750  |SN5      |0.9845024469820555|0.0071912013536379014|11      |\n",
      "| 01:32             |85:11:13751:001|8503125   |Zug           |13751  |SN5      |0.8338964724962833|0.009546535686752945 |11      |\n",
      "| 01:52             |85:11:13752:001|8503003   |Zug           |13752  |SN5      |0.6471428571428571|0.018523819259865057 |11      |\n",
      "| 02:11             |85:11:13753:001|8503001   |Zug           |13753  |SN5      |0.854181558255897 |0.009374534215088685 |11      |\n",
      "| 02:59             |85:11:13754:001|8503020   |Zug           |13754  |SN5      |0.6127659574468085|0.01743763623153306  |11      |\n",
      "| 03:04             |85:11:13755:001|8502220   |Zug           |13755  |SN5      |0.8465949820788531|0.00958448303846778  |11      |\n",
      "| 04:20             |85:11:13756:001|8502223   |Zug           |13756  |SN5      |0.9845276872964169|0.0059204920521434235|11      |\n",
      "| 04:04             |85:11:13757:001|8502220   |Zug           |13757  |SN5      |0.7860199714693296|0.010729342121917262 |11      |\n",
      "| 15:14             |85:11:1376:003 |8503000   |Zug           |1376   |IC       |0.8229764472710196|0.014770271373540382 |11      |\n",
      "| 00:59             |85:11:13760:001|8503003   |Zug           |13760  |SN6      |0.8184274472211694|0.010825561963678775 |11      |\n",
      "| 01:59             |85:11:13762:001|8503003   |Zug           |13762  |SN6      |0.8338964724962833|0.009546535686752945 |11      |\n",
      "| 01:36             |85:11:13763:001|8503006   |Zug           |13763  |SN6      |0.8441971383147854|0.011816280208286973 |11      |\n",
      "| 03:17             |85:11:13764:001|8503008   |Zug           |13764  |SN6      |0.7936507936507936|0.009681975578640423 |11      |\n",
      "| 02:30             |85:11:13765:001|8503008   |Zug           |13765  |SN6      |0.8695306284805091|0.010558958208551501 |11      |\n",
      "| 04:17             |85:11:13766:001|8503008   |Zug           |13766  |SN6      |0.7731481481481481|0.011031548908735402 |11      |\n",
      "| 03:39             |85:11:13767:001|8503020   |Zug           |13767  |SN6      |0.8312202852614897|0.010847646918916683 |11      |\n",
      "| 04:39             |85:11:13769:001|8503020   |Zug           |13769  |SN6      |0.8783482142857143|0.010796647140328975 |11      |\n",
      "| 01:30             |85:11:13770:001|8503307   |Zug           |13770  |SN7      |0.9128787878787878|0.007984164188870208 |11      |\n",
      "| 01:12             |85:11:13771:001|8503111   |Zug           |13771  |SN7      |0.8877840909090909|0.016507534038535186 |11      |\n",
      "| 02:30             |85:11:13772:001|8503307   |Zug           |13772  |SN7      |0.8587026332691072|0.011464389223302635 |11      |\n",
      "| 01:45             |85:11:13773:001|8503006   |Zug           |13773  |SN7      |0.951559934318555 |0.008409702721725186 |11      |\n",
      "| 03:29             |85:11:13774:001|8503307   |Zug           |13774  |SN7      |0.8052530429212044|0.010484698345970022 |11      |\n",
      "| 03:12             |85:11:13775:001|8503111   |Zug           |13775  |SN7      |0.9082301529497451|0.01059383229971965  |11      |\n",
      "| 03:51             |85:11:13776:001|8503111   |Zug           |13776  |SN7      |0.9276315789473685|0.015063297900753165 |11      |\n",
      "| 04:05             |85:11:13777:001|8503100   |Zug           |13777  |SN7      |0.8703568827385287|0.012928982559397584 |11      |\n",
      "| 01:04             |85:11:13780:001|8503006   |Zug           |13780  |SN8      |0.8338964724962833|0.009546535686752945 |11      |\n",
      "| 01:22             |85:11:13781:001|8503009   |Zug           |13781  |SN8      |0.8448637316561844|0.010991408700395472 |11      |\n",
      "| 01:46             |85:11:13782:001|8503200   |Zug           |13782  |SN8      |0.9631710362047441|0.008468576258349203 |11      |\n",
      "| 02:12             |85:11:13783:001|8503000   |Zug           |13783  |SN8      |0.8833798882681564|0.007784998646087192 |11      |\n",
      "| 02:46             |85:11:13784:001|8503200   |Zug           |13784  |SN8      |0.8920099875156055|0.007398739780781915 |11      |\n",
      "| 03:22             |85:11:13785:001|8503009   |Zug           |13785  |SN8      |0.8354166666666667|0.01120936256650609  |11      |\n",
      "| 04:11             |85:11:13786:001|8503306   |Zug           |13786  |SN8      |0.8081359816653935|0.010517697192529984 |11      |\n",
      "| 04:12             |85:11:13787:001|8503000   |Zug           |13787  |SN8      |0.8484429065743945|0.010760332464432098 |11      |\n",
      "| 01:25             |85:11:13790:001|8503312   |Zug           |13790  |SN9      |0.8957169459962756|0.012263681909156967 |11      |\n",
      "| 01:18             |85:11:13791:001|8503126   |Zug           |13791  |SN9      |0.7944444444444444|0.010545852333484925 |11      |\n",
      "| 02:18             |85:11:13792:001|8503310   |Zug           |13792  |SN9      |0.7451117318435754|0.012608716203441103 |11      |\n",
      "| 02:05             |85:11:13793:001|8503003   |Zug           |13793  |SN9      |0.639776357827476 |0.010120408859464036 |11      |\n",
      "| 03:25             |85:11:13794:001|8503312   |Zug           |13794  |SN9      |0.7571329157967989|0.010560236052335288 |11      |\n",
      "| 02:53             |85:11:13795:001|8503006   |Zug           |13795  |SN9      |0.8046296296296296|0.011597800555199659 |11      |\n",
      "| 03:47             |85:11:13796:001|8503126   |Zug           |13796  |SN9      |0.8263888888888888|0.01398716471943393  |11      |\n",
      "| 03:56             |85:11:13797:001|8503020   |Zug           |13797  |SN9      |0.8712962962962963|0.008465351433532147 |11      |\n",
      "| 17:16             |85:11:1380:006 |8503000   |Zug           |1380   |IC       |0.8888496639022103|0.009861344482875898 |11      |\n",
      "| 17:50             |85:11:1382:006 |8503000   |Zug           |1382   |IR       |0.8888496639022103|0.009861344482875898 |11      |\n",
      "| 19:04             |85:11:1384:003 |8503000   |Zug           |1384   |IC       |0.8456830210103476|0.012050985796682373 |11      |\n",
      "| 19:50             |85:11:1386:003 |8503000   |Zug           |1386   |IR       |0.8456830210103476|0.012050985796682373 |11      |\n",
      "| 21:14             |85:11:1388:005 |8503000   |Zug           |1388   |IC       |0.8202508288487688|0.014650408388357685 |11      |\n",
      "| 23:14             |85:11:1390:001 |8503000   |Zug           |1390   |IC       |0.8135884616581439|0.013691067186197232 |11      |\n",
      "| 12:42             |85:11:14:001   |8503202   |Zug           |14     |EC       |0.81667146375004  |0.015672209537438447 |11      |\n",
      "| 04:51             |85:11:14016:004|8503203   |Zug           |14016  |S        |0.8081359816653935|0.010517697192529984 |11      |\n",
      "| 05:35             |85:11:14017:003|8503125   |Zug           |14017  |S14      |0.8183014206884802|0.015700728739292645 |11      |\n",
      "| 06:08             |85:11:14019:002|8503202   |Zug           |14019  |S24      |0.8335585978374608|0.014639870232901982 |11      |\n",
      "| 06:09             |85:11:14020:002|8503000   |Zug           |14020  |S24      |0.8335585978374608|0.014639870232901982 |11      |\n",
      "| 06:11             |85:11:14021:001|8503015   |Zug           |14021  |S24      |0.8335585978374608|0.014639870232901982 |11      |\n",
      "| 06:17             |85:11:14022:002|8503203   |Zug           |14022  |S24      |0.8335585978374608|0.014639870232901982 |11      |\n",
      "| 07:02             |85:11:14023:002|8503200   |Zug           |14023  |S24      |0.8737849246084934|0.010959601174916546 |11      |\n",
      "| 06:55             |85:11:14024:002|8503200   |Zug           |14024  |S24      |0.8335585978374608|0.014639870232901982 |11      |\n",
      "+-------------------+---------------+----------+--------------+-------+---------+------------------+---------------------+--------+\n",
      "only showing top 100 rows"
     ]
    }
   ],
   "source": [
    "probability.withColumn('operator', operator(probability.trip_id)).where('operator == \"11\"').dropDuplicates(['line_id']).orderBy(['line_id', 'line_text']).show(100, False)"
   ]
  },
  {
   "cell_type": "code",
   "execution_count": null,
   "metadata": {},
   "outputs": [],
   "source": [
    "probability.orderBy([''])"
   ]
  },
  {
   "cell_type": "code",
   "execution_count": 62,
   "metadata": {},
   "outputs": [
    {
     "data": {
      "application/vnd.jupyter.widget-view+json": {
       "model_id": "",
       "version_major": 2,
       "version_minor": 0
      },
      "text/plain": [
       "FloatProgress(value=0.0, bar_style='info', description='Progress:', layout=Layout(height='25px', width='50%'),…"
      ]
     },
     "metadata": {},
     "output_type": "display_data"
    },
    {
     "name": "stdout",
     "output_type": "stream",
     "text": [
      "+--------------+---------+----------------+---------------+-------------+----------+\n",
      "|route_id      |agency_id|route_short_name|route_long_name|route_desc   |route_type|\n",
      "+--------------+---------+----------------+---------------+-------------+----------+\n",
      "|20-20-A-j19-1 |11       |20              |               |Auoreisezug  |1700      |\n",
      "|59-100-j19-1  |11       |100             |               |InterRegio   |103       |\n",
      "|61-104-Y-j19-1|278      |104-Y           |               |Luftseilbahn |1300      |\n",
      "|61-100-Y-j19-1|134      |100-Y           |               |Standseilbahn|1400      |\n",
      "|5-1-j19-1     |823      |1               |               |Tram         |900       |\n",
      "|12-1-B-j19-1  |11       |1               |               |Extrazug     |100       |\n",
      "|90-100-Y-j19-1|181      |100-Y           |               |Schiff       |1000      |\n",
      "|1-1-B-j19-1   |11       |1               |               |S-Bahn       |400       |\n",
      "|1-1-j19-1     |11       |1               |               |Intercity    |102       |\n",
      "|4-106-A-j19-1 |879      |106             |               |Taxi         |1501      |\n",
      "|9-1-A-j19-1   |11       |1               |               |RegioExpress |106       |\n",
      "|11-40-j19-1   |801      |040             |               |Bus          |700       |\n",
      "|23-m1-j19-1   |151      |m1              |               |Metro        |401       |\n",
      "+--------------+---------+----------------+---------------+-------------+----------+"
     ]
    }
   ],
   "source": [
    "routes.dropDuplicates(['route_type']).show(100, False)"
   ]
  },
  {
   "cell_type": "code",
   "execution_count": 33,
   "metadata": {},
   "outputs": [
    {
     "data": {
      "application/vnd.jupyter.widget-view+json": {
       "model_id": "",
       "version_major": 2,
       "version_minor": 0
      },
      "text/plain": [
       "FloatProgress(value=0.0, bar_style='info', description='Progress:', layout=Layout(height='25px', width='50%'),…"
      ]
     },
     "metadata": {},
     "output_type": "display_data"
    }
   ],
   "source": [
    "s = (\n",
    "    schedule\n",
    "    .join(monday_trips, 'trip_id')\n",
    "    .persist()\n",
    ")"
   ]
  },
  {
   "cell_type": "code",
   "execution_count": 55,
   "metadata": {},
   "outputs": [
    {
     "data": {
      "application/vnd.jupyter.widget-view+json": {
       "model_id": "",
       "version_major": 2,
       "version_minor": 0
      },
      "text/plain": [
       "FloatProgress(value=0.0, bar_style='info', description='Progress:', layout=Layout(height='25px', width='50%'),…"
      ]
     },
     "metadata": {},
     "output_type": "display_data"
    }
   ],
   "source": [
    "@f.udf\n",
    "def operator(id_):\n",
    "    parts = id_.split(':')\n",
    "    if len(parts) > 1:\n",
    "        return parts[1]\n",
    "    else:\n",
    "        return None"
   ]
  },
  {
   "cell_type": "code",
   "execution_count": 78,
   "metadata": {},
   "outputs": [
    {
     "data": {
      "application/vnd.jupyter.widget-view+json": {
       "model_id": "",
       "version_major": 2,
       "version_minor": 0
      },
      "text/plain": [
       "FloatProgress(value=0.0, bar_style='info', description='Progress:', layout=Layout(height='25px', width='50%'),…"
      ]
     },
     "metadata": {},
     "output_type": "display_data"
    },
    {
     "name": "stdout",
     "output_type": "stream",
     "text": [
      "+-------------------+----------------------+----------+--------------+-----------+---------+------------------+--------------------+--------+\n",
      "|arrival_time_minute|trip_id               |station_id|transport_type|line_id    |line_text|delay_probability |delay_parameter     |operator|\n",
      "+-------------------+----------------------+----------+--------------+-----------+---------+------------------+--------------------+--------+\n",
      "| 10:27             |85:3849:106781-14003-1|8591233   |Tram          |85:3849:003|3        |0.8585163819244139|0.016802126392468718|3849    |\n",
      "| 01:23             |85:78:12400:001       |8503091   |Zug           |12400      |SN4      |0.8338964724962833|0.009546535686752945|78      |\n",
      "| 04:55             |85:773:9238-01353-1   |8576239   |Bus           |85:773:353 |N45      |0.8797847964776709|0.015267638313938462|773     |\n",
      "| 10:06             |85:3849:87595-02008-1 |8594239   |              |113852833  |T8       |0.8421052631578947|0.010342598577892695|3849    |\n",
      "+-------------------+----------------------+----------+--------------+-----------+---------+------------------+--------------------+--------+"
     ]
    }
   ],
   "source": [
    "probability.withColumn('operator', operator(probability.trip_id)).orderBy(['operator', 'line_id']).where(f.col('operator') != \"11\").dropDuplicates(['transport_type']).show(100, False)"
   ]
  },
  {
   "cell_type": "code",
   "execution_count": 79,
   "metadata": {},
   "outputs": [
    {
     "data": {
      "application/vnd.jupyter.widget-view+json": {
       "model_id": "",
       "version_major": 2,
       "version_minor": 0
      },
      "text/plain": [
       "FloatProgress(value=0.0, bar_style='info', description='Progress:', layout=Layout(height='25px', width='50%'),…"
      ]
     },
     "metadata": {},
     "output_type": "display_data"
    }
   ],
   "source": [
    "@f.udf\n",
    "def train_identifier(trip_id):\n",
    "    return ':'.join(trip_id.split(':')[:3])"
   ]
  },
  {
   "cell_type": "code",
   "execution_count": 80,
   "metadata": {},
   "outputs": [
    {
     "data": {
      "application/vnd.jupyter.widget-view+json": {
       "model_id": "",
       "version_major": 2,
       "version_minor": 0
      },
      "text/plain": [
       "FloatProgress(value=0.0, bar_style='info', description='Progress:', layout=Layout(height='25px', width='50%'),…"
      ]
     },
     "metadata": {},
     "output_type": "display_data"
    }
   ],
   "source": [
    "ident = (\n",
    "    probability\n",
    "    .withColumn('identifier', f.when(f.col('transport_type') == 'Zug', train_identifier(f.col('trip_id'))).otherwise(f.col('line_id')))\n",
    ")"
   ]
  },
  {
   "cell_type": "code",
   "execution_count": 83,
   "metadata": {},
   "outputs": [
    {
     "data": {
      "application/vnd.jupyter.widget-view+json": {
       "model_id": "",
       "version_major": 2,
       "version_minor": 0
      },
      "text/plain": [
       "FloatProgress(value=0.0, bar_style='info', description='Progress:', layout=Layout(height='25px', width='50%'),…"
      ]
     },
     "metadata": {},
     "output_type": "display_data"
    },
    {
     "name": "stdout",
     "output_type": "stream",
     "text": [
      "+-----------+-----+\n",
      "| identifier|count|\n",
      "+-----------+-----+\n",
      "| 85:11:4937|    1|\n",
      "|85:11:18383|    1|\n",
      "|85:11:13775|    1|\n",
      "|85:78:12910|    1|\n",
      "|85:78:24796|    1|\n",
      "|85:78:24447|    1|\n",
      "|85:11:18862|    1|\n",
      "|85:78:24630|    1|\n",
      "|  85:31:626|    1|\n",
      "|  85:11:816|    1|\n",
      "|85:78:23514|    1|\n",
      "|85:78:12448|    1|\n",
      "| 85:11:2171|    1|\n",
      "|85:78:24581|    1|\n",
      "|       1512|    1|\n",
      "|85:11:18965|    1|\n",
      "|85:78:24935|    1|\n",
      "| 85:11:2066|    1|\n",
      "|85:11:18924|    1|\n",
      "|  85:11:579|    1|\n",
      "+-----------+-----+\n",
      "only showing top 20 rows"
     ]
    }
   ],
   "source": [
    "ident.groupBy(['identifier']).agg(f.countDistinct('transport_type').alias('count')).show(20)"
   ]
  },
  {
   "cell_type": "code",
   "execution_count": 54,
   "metadata": {},
   "outputs": [
    {
     "data": {
      "application/vnd.jupyter.widget-view+json": {
       "model_id": "",
       "version_major": 2,
       "version_minor": 0
      },
      "text/plain": [
       "FloatProgress(value=0.0, bar_style='info', description='Progress:', layout=Layout(height='25px', width='50%'),…"
      ]
     },
     "metadata": {},
     "output_type": "display_data"
    },
    {
     "name": "stdout",
     "output_type": "stream",
     "text": [
      "+-------------------+--------------+----------+--------------+--------+---------+------------------+--------------------+\n",
      "|arrival_time_minute|trip_id       |station_id|transport_type|line_id |line_text|delay_probability |delay_parameter     |\n",
      "+-------------------+--------------+----------+--------------+--------+---------+------------------+--------------------+\n",
      "| 09:56             |85:886:99998-0|8590277   |Bus           |85:886:2|2        |0.9852139547560643|0.01685919268498297 |\n",
      "| 09:59             |85:886:99998-0|8590279   |Bus           |85:886:2|2        |0.9852139547560643|0.01685919268498297 |\n",
      "| 09:55             |85:886:99998-0|8590278   |Bus           |85:886:2|2        |0.9852139547560643|0.01685919268498297 |\n",
      "| 09:57             |85:886:99998-0|8590271   |Bus           |85:886:2|2        |0.9852139547560643|0.01685919268498297 |\n",
      "| 09:54             |85:886:99998-0|8590396   |Bus           |85:886:2|2        |0.9852139547560643|0.01685919268498297 |\n",
      "| 08:15             |85:886:99995-0|8590271   |Bus           |85:886:2|2        |0.981195722385703 |0.014802198837349052|\n",
      "| 08:16             |85:886:99995-0|8590277   |Bus           |85:886:2|2        |0.981195722385703 |0.014802198837349052|\n",
      "| 08:18             |85:886:99995-0|8590396   |Bus           |85:886:2|2        |0.981195722385703 |0.014802198837349052|\n",
      "| 08:17             |85:886:99995-0|8590278   |Bus           |85:886:2|2        |0.981195722385703 |0.014802198837349052|\n",
      "| 08:04             |85:886:99992-0|8590271   |Bus           |85:886:4|4        |0.9800205322593383|0.015522434357989112|\n",
      "| 08:01             |85:886:99992-0|8590396   |Bus           |85:886:4|4        |0.9800205322593383|0.015522434357989112|\n",
      "| 08:06             |85:886:99992-0|8590279   |Bus           |85:886:4|4        |0.9800205322593383|0.015522434357989112|\n",
      "| 08:03             |85:886:99992-0|8590277   |Bus           |85:886:4|4        |0.9800205322593383|0.015522434357989112|\n",
      "| 08:02             |85:886:99992-0|8590278   |Bus           |85:886:4|4        |0.9800205322593383|0.015522434357989112|\n",
      "| 06:55             |85:886:99989-0|8590278   |Bus           |85:886:4|4        |0.9729245680573114|0.02056270790935041 |\n",
      "| 06:54             |85:886:99989-0|8590277   |Bus           |85:886:4|4        |0.9729245680573114|0.02056270790935041 |\n",
      "| 06:56             |85:886:99989-0|8590396   |Bus           |85:886:4|4        |0.9729245680573114|0.02056270790935041 |\n",
      "| 06:53             |85:886:99989-0|8590271   |Bus           |85:886:4|4        |0.9729245680573114|0.02056270790935041 |\n",
      "| 06:42             |85:886:99986-0|8590271   |Bus           |85:886:2|2        |0.9674280531046425|0.019595169019189302|\n",
      "| 06:44             |85:886:99986-0|8590279   |Bus           |85:886:2|2        |0.9674280531046425|0.019595169019189302|\n",
      "| 06:40             |85:886:99986-0|8590278   |Bus           |85:886:2|2        |0.9674280531046425|0.019595169019189302|\n",
      "| 06:41             |85:886:99986-0|8590277   |Bus           |85:886:2|2        |0.9674280531046425|0.019595169019189302|\n",
      "| 06:39             |85:886:99986-0|8590396   |Bus           |85:886:2|2        |0.9674280531046425|0.019595169019189302|\n",
      "| 05:18             |85:886:99983-0|8590396   |Bus           |85:886:2|2        |0.951394218470197 |0.017857828826060233|\n",
      "| 05:17             |85:886:99983-0|8590278   |Bus           |85:886:2|2        |0.951394218470197 |0.017857828826060233|\n",
      "| 05:16             |85:886:99983-0|8590277   |Bus           |85:886:2|2        |0.951394218470197 |0.017857828826060233|\n",
      "| 05:15             |85:886:99983-0|8590271   |Bus           |85:886:2|2        |0.951394218470197 |0.017857828826060233|\n",
      "| 20:56             |85:886:99978-0|8590396   |Bus           |85:886:4|4        |0.9805427100602042|0.01887461097777472 |\n",
      "| 20:55             |85:886:99978-0|8590278   |Bus           |85:886:4|4        |0.9805427100602042|0.01887461097777472 |\n",
      "| 20:53             |85:886:99978-0|8590271   |Bus           |85:886:4|4        |0.9805427100602042|0.01887461097777472 |\n",
      "| 20:54             |85:886:99978-0|8590277   |Bus           |85:886:4|4        |0.9805427100602042|0.01887461097777472 |\n",
      "| 20:42             |85:886:99975-0|8590271   |Bus           |85:886:2|2        |0.9844248044045204|0.015105753614698235|\n",
      "| 20:44             |85:886:99975-0|8590279   |Bus           |85:886:2|2        |0.9844248044045204|0.015105753614698235|\n",
      "| 20:41             |85:886:99975-0|8590277   |Bus           |85:886:2|2        |0.9844248044045204|0.015105753614698235|\n",
      "| 20:39             |85:886:99975-0|8590396   |Bus           |85:886:2|2        |0.9844248044045204|0.015105753614698235|\n",
      "| 20:40             |85:886:99975-0|8590278   |Bus           |85:886:2|2        |0.9844248044045204|0.015105753614698235|\n",
      "| 19:03             |85:886:99972-0|8590396   |Bus           |85:886:2|2        |0.9861337683523654|0.013960282284836716|\n",
      "| 19:00             |85:886:99972-0|8590271   |Bus           |85:886:2|2        |0.9861337683523654|0.013960282284836716|\n",
      "| 19:02             |85:886:99972-0|8590278   |Bus           |85:886:2|2        |0.9861337683523654|0.013960282284836716|\n",
      "| 19:01             |85:886:99972-0|8590277   |Bus           |85:886:2|2        |0.9861337683523654|0.013960282284836716|\n",
      "| 18:48             |85:886:99969-0|8590277   |Bus           |85:886:4|4        |0.9882898806893504|0.007830411687439422|\n",
      "| 18:51             |85:886:99969-0|8590279   |Bus           |85:886:4|4        |0.9882898806893504|0.007830411687439422|\n",
      "| 18:47             |85:886:99969-0|8590278   |Bus           |85:886:4|4        |0.9882898806893504|0.007830411687439422|\n",
      "| 18:46             |85:886:99969-0|8590396   |Bus           |85:886:4|4        |0.9882898806893504|0.007830411687439422|\n",
      "| 18:49             |85:886:99969-0|8590271   |Bus           |85:886:4|4        |0.9882898806893504|0.007830411687439422|\n",
      "| 17:39             |85:886:99966-0|8590277   |Bus           |85:886:4|4        |0.9906227106227106|0.007398422158717549|\n",
      "| 17:38             |85:886:99966-0|8590271   |Bus           |85:886:4|4        |0.9906227106227106|0.007398422158717549|\n",
      "| 17:40             |85:886:99966-0|8590278   |Bus           |85:886:4|4        |0.9906227106227106|0.007398422158717549|\n",
      "| 17:41             |85:886:99966-0|8590396   |Bus           |85:886:4|4        |0.9906227106227106|0.007398422158717549|\n",
      "| 17:26             |85:886:99963-0|8590277   |Bus           |85:886:2|2        |0.9902800435019032|0.007762143500290367|\n",
      "| 17:25             |85:886:99963-0|8590278   |Bus           |85:886:2|2        |0.9902800435019032|0.007762143500290367|\n",
      "| 17:27             |85:886:99963-0|8590271   |Bus           |85:886:2|2        |0.9902800435019032|0.007762143500290367|\n",
      "| 17:24             |85:886:99963-0|8590396   |Bus           |85:886:2|2        |0.9902800435019032|0.007762143500290367|\n",
      "| 17:29             |85:886:99963-0|8590279   |Bus           |85:886:2|2        |0.9902800435019032|0.007762143500290367|\n",
      "| 15:47             |85:886:99960-0|8590278   |Bus           |85:886:2|2        |0.9896003262642741|0.01234783596944379 |\n",
      "| 15:46             |85:886:99960-0|8590277   |Bus           |85:886:2|2        |0.9896003262642741|0.01234783596944379 |\n",
      "| 15:45             |85:886:99960-0|8590271   |Bus           |85:886:2|2        |0.9896003262642741|0.01234783596944379 |\n",
      "| 15:48             |85:886:99960-0|8590396   |Bus           |85:886:2|2        |0.9896003262642741|0.01234783596944379 |\n",
      "| 15:32             |85:886:99957-0|8590278   |Bus           |85:886:4|4        |0.9851282051282051|0.013069373521470628|\n",
      "| 15:33             |85:886:99957-0|8590277   |Bus           |85:886:4|4        |0.9851282051282051|0.013069373521470628|\n",
      "| 15:34             |85:886:99957-0|8590271   |Bus           |85:886:4|4        |0.9851282051282051|0.013069373521470628|\n",
      "| 15:31             |85:886:99957-0|8590396   |Bus           |85:886:4|4        |0.9851282051282051|0.013069373521470628|\n",
      "| 15:36             |85:886:99957-0|8590279   |Bus           |85:886:4|4        |0.9851282051282051|0.013069373521470628|\n",
      "| 14:24             |85:886:99954-0|8590277   |Bus           |85:886:4|4        |0.9818008365744478|0.01460235619751545 |\n",
      "| 14:26             |85:886:99954-0|8590396   |Bus           |85:886:4|4        |0.9818008365744478|0.01460235619751545 |\n",
      "| 14:23             |85:886:99954-0|8590271   |Bus           |85:886:4|4        |0.9818008365744478|0.01460235619751545 |\n",
      "| 14:25             |85:886:99954-0|8590278   |Bus           |85:886:4|4        |0.9818008365744478|0.01460235619751545 |\n",
      "| 14:12             |85:886:99951-0|8590271   |Bus           |85:886:2|2        |0.9839929160138955|0.01329540256649312 |\n",
      "| 14:14             |85:886:99951-0|8590279   |Bus           |85:886:2|2        |0.9839929160138955|0.01329540256649312 |\n",
      "| 14:11             |85:886:99951-0|8590277   |Bus           |85:886:2|2        |0.9839929160138955|0.01329540256649312 |\n",
      "| 14:09             |85:886:99951-0|8590396   |Bus           |85:886:2|2        |0.9839929160138955|0.01329540256649312 |\n",
      "| 14:10             |85:886:99951-0|8590278   |Bus           |85:886:2|2        |0.9839929160138955|0.01329540256649312 |\n",
      "| 12:30             |85:886:99948-0|8590271   |Bus           |85:886:2|2        |0.9866159385827842|0.015127225151069124|\n",
      "| 12:31             |85:886:99948-0|8590277   |Bus           |85:886:2|2        |0.9866159385827842|0.015127225151069124|\n",
      "| 12:33             |85:886:99948-0|8590396   |Bus           |85:886:2|2        |0.9866159385827842|0.015127225151069124|\n",
      "| 12:32             |85:886:99948-0|8590278   |Bus           |85:886:2|2        |0.9866159385827842|0.015127225151069124|\n",
      "| 12:21             |85:886:99945-0|8590279   |Bus           |85:886:4|4        |0.9841037286645667|0.014963576822829647|\n",
      "| 12:17             |85:886:99945-0|8590278   |Bus           |85:886:4|4        |0.9841037286645667|0.014963576822829647|\n",
      "| 12:18             |85:886:99945-0|8590277   |Bus           |85:886:4|4        |0.9841037286645667|0.014963576822829647|\n",
      "| 12:16             |85:886:99945-0|8590396   |Bus           |85:886:4|4        |0.9841037286645667|0.014963576822829647|\n",
      "| 12:19             |85:886:99945-0|8590271   |Bus           |85:886:4|4        |0.9841037286645667|0.014963576822829647|\n",
      "| 11:10             |85:886:99942-0|8590278   |Bus           |85:886:4|4        |0.9837766734872844|0.016429555625798627|\n",
      "| 11:09             |85:886:99942-0|8590277   |Bus           |85:886:4|4        |0.9837766734872844|0.016429555625798627|\n",
      "| 11:08             |85:886:99942-0|8590271   |Bus           |85:886:4|4        |0.9837766734872844|0.016429555625798627|\n",
      "| 11:11             |85:886:99942-0|8590396   |Bus           |85:886:4|4        |0.9837766734872844|0.016429555625798627|\n",
      "| 10:55             |85:886:99939-0|8590278   |Bus           |85:886:2|2        |0.9827996464749473|0.016203062845152924|\n",
      "| 10:57             |85:886:99939-0|8590271   |Bus           |85:886:2|2        |0.9827996464749473|0.016203062845152924|\n",
      "| 10:54             |85:886:99939-0|8590396   |Bus           |85:886:2|2        |0.9827996464749473|0.016203062845152924|\n",
      "| 10:56             |85:886:99939-0|8590277   |Bus           |85:886:2|2        |0.9827996464749473|0.016203062845152924|\n",
      "| 10:59             |85:886:99939-0|8590279   |Bus           |85:886:2|2        |0.9827996464749473|0.016203062845152924|\n",
      "| 09:17             |85:886:99936-0|8590278   |Bus           |85:886:2|2        |0.9852139547560643|0.01685919268498297 |\n",
      "| 09:18             |85:886:99936-0|8590396   |Bus           |85:886:2|2        |0.9852139547560643|0.01685919268498297 |\n",
      "| 09:15             |85:886:99936-0|8590271   |Bus           |85:886:2|2        |0.9852139547560643|0.01685919268498297 |\n",
      "| 09:16             |85:886:99936-0|8590277   |Bus           |85:886:2|2        |0.9852139547560643|0.01685919268498297 |\n",
      "| 09:01             |85:886:99933-0|8590396   |Bus           |85:886:4|4        |0.9836649836649837|0.01780535074444322 |\n",
      "| 09:03             |85:886:99933-0|8590277   |Bus           |85:886:4|4        |0.9836649836649837|0.01780535074444322 |\n",
      "| 09:02             |85:886:99933-0|8590278   |Bus           |85:886:4|4        |0.9836649836649837|0.01780535074444322 |\n",
      "| 09:04             |85:886:99933-0|8590271   |Bus           |85:886:4|4        |0.9836649836649837|0.01780535074444322 |\n",
      "| 09:06             |85:886:99933-0|8590279   |Bus           |85:886:4|4        |0.9836649836649837|0.01780535074444322 |\n",
      "| 07:55             |85:886:99930-0|8590278   |Bus           |85:886:4|4        |0.9816338243734456|0.014644706741959466|\n",
      "+-------------------+--------------+----------+--------------+--------+---------+------------------+--------------------+\n",
      "only showing top 100 rows"
     ]
    }
   ],
   "source": [
    "probability.orderBy('trip_id', ascending=False).show(100, False)"
   ]
  },
  {
   "cell_type": "code",
   "execution_count": 52,
   "metadata": {},
   "outputs": [
    {
     "data": {
      "application/vnd.jupyter.widget-view+json": {
       "model_id": "",
       "version_major": 2,
       "version_minor": 0
      },
      "text/plain": [
       "FloatProgress(value=0.0, bar_style='info', description='Progress:', layout=Layout(height='25px', width='50%'),…"
      ]
     },
     "metadata": {},
     "output_type": "display_data"
    },
    {
     "name": "stdout",
     "output_type": "stream",
     "text": [
      "+-------------------+----------------------+----------+--------------+-----------+---------+------------------+--------------------+\n",
      "|arrival_time_minute|trip_id               |station_id|transport_type|line_id    |line_text|delay_probability |delay_parameter     |\n",
      "+-------------------+----------------------+----------+--------------+-----------+---------+------------------+--------------------+\n",
      "| 18:17             |85:886:100969-0       |8590278   |Bus           |85:886:4   |4        |0.9882898806893504|0.007830411687439422|\n",
      "| 07:00             |85:3849:210096-11014-1|8591276   |Tram          |85:3849:014|14       |0.8253783422406212|0.015651360199123544|\n",
      "| 00:06             |85:3849:210096-22010-1|8590561   |Tram          |85:3849:012|12       |0.7791568296795953|0.02033122059488754 |\n",
      "| 12:13             |85:773:100965-11733-1 |8580449   |Bus           |85:773:781 |781      |0.950653101582015 |0.010897492492510406|\n",
      "| 13:39             |85:838:510096-20850-1 |8576097   |Bus           |85:838:816 |816      |0.973705737992287 |0.01574372669555578 |\n",
      "| 11:36             |85:773:100963-11733-1 |8591225   |Bus           |85:773:781 |781      |0.9399092676604018|0.012659306250325152|\n",
      "| 14:33             |85:773:10096-01759-1  |8573241   |Bus           |85:773:742 |742      |0.9558142611456542|0.01249811158867576 |\n",
      "| 13:49             |85:838:100967-02880-1 |8588014   |Bus           |85:838:922 |922      |0.9521303258145364|0.00965699329170695 |\n",
      "| 14:24             |85:773:10096-01759-1  |8591048   |Bus           |85:773:742 |742      |0.9558142611456542|0.01249811158867576 |\n",
      "| 15:48             |85:3849:610096-31006-1|8591412   |Tram          |85:3849:006|6        |0.8386693346673336|0.016014845568289   |\n",
      "| 11:39             |85:773:100963-11733-1 |8591256   |Bus           |85:773:781 |781      |0.9399092676604018|0.012659306250325152|\n",
      "| 12:49             |85:838:100963-12880-1 |8588014   |Bus           |85:838:922 |922      |0.9554430591582295|0.009291710981689995|\n",
      "| 13:37             |85:838:100966-12880-1 |8588014   |Bus           |85:838:922 |922      |0.9521303258145364|0.00965699329170695 |\n",
      "| 13:39             |85:838:100966-12880-1 |8588024   |Bus           |85:838:922 |922      |0.9521303258145364|0.00965699329170695 |\n",
      "| 13:36             |85:882:810096-09101-1 |8576176   |Bus           |85:882:660 |660      |0.9744826200522403|0.007971757203052045|\n",
      "| 07:52             |85:3849:110096-03013-1|8587349   |Tram          |85:3849:013|13       |0.8160170924953263|0.013202096268756375|\n",
      "| 07:37             |85:3849:110096-03013-1|8591245   |Tram          |85:3849:013|13       |0.8160170924953263|0.013202096268756375|\n",
      "| 07:45             |85:3849:110096-03013-1|8591384   |Tram          |85:3849:013|13       |0.8160170924953263|0.013202096268756375|\n",
      "| 06:36             |85:3849:210096-11014-1|8591190   |Tram          |85:3849:014|14       |0.9024139553698949|0.014477187686579617|\n",
      "| 06:39             |85:3849:210096-11014-1|8591341   |Tram          |85:3849:014|14       |0.9024139553698949|0.014477187686579617|\n",
      "| 00:10             |85:3849:210096-22010-1|8587655   |Tram          |85:3849:012|12       |0.7791568296795953|0.02033122059488754 |\n",
      "| 13:36             |85:882:810096-09101-1 |8591835   |Bus           |85:882:660 |660      |0.9744826200522403|0.007971757203052045|\n",
      "| 07:09             |85:807:610096-48131-1 |8573555   |Bus           |85:807:131 |131      |0.8269383697813121|0.015012180817468196|\n",
      "| 13:48             |85:838:100967-12880-1 |8588027   |Bus           |85:838:922 |922      |0.9521303258145364|0.00965699329170695 |\n",
      "| 07:04             |85:3849:210096-11014-1|8591332   |Tram          |85:3849:014|14       |0.8253783422406212|0.015651360199123544|\n",
      "| 11:09             |85:773:100961-11733-1 |8591256   |Bus           |85:773:781 |781      |0.9399092676604018|0.012659306250325152|\n",
      "| 12:05             |85:773:100965-11733-1 |8591128   |Bus           |85:773:781 |781      |0.950653101582015 |0.010897492492510406|\n",
      "| 11:34             |85:773:100963-11733-1 |8594185   |Bus           |85:773:781 |781      |0.9399092676604018|0.012659306250325152|\n",
      "| 16:13             |85:3849:610096-31006-1|8591402   |Tram          |85:3849:006|6        |0.8074880787571143|0.013557933493944038|\n",
      "| 00:23             |85:3849:210096-22010-1|8591382   |Tram          |85:3849:012|12       |0.7791568296795953|0.02033122059488754 |\n",
      "| 16:09             |85:3849:610096-31006-1|8591074   |Tram          |85:3849:006|6        |0.8074880787571143|0.013557933493944038|\n",
      "| 07:48             |85:3849:110096-03013-1|8591316   |Tram          |85:3849:013|13       |0.8160170924953263|0.013202096268756375|\n",
      "| 13:54             |85:838:100967-02880-1 |8576080   |Bus           |85:838:922 |922      |0.9521303258145364|0.00965699329170695 |\n",
      "| 08:02             |85:3849:110096-03013-1|8591437   |Tram          |85:3849:013|13       |0.8488710371738436|0.01141084589191068 |\n",
      "| 00:17             |85:3849:210096-22010-1|8591830   |Tram          |85:3849:012|12       |0.7791568296795953|0.02033122059488754 |\n",
      "| 00:16             |85:3849:210096-22010-1|8591128   |Tram          |85:3849:012|12       |0.7791568296795953|0.02033122059488754 |\n",
      "| 14:26             |85:773:10096-01759-1  |8591207   |Bus           |85:773:742 |742      |0.9558142611456542|0.01249811158867576 |\n",
      "| 12:34             |85:773:100967-11733-1 |8594185   |Bus           |85:773:781 |781      |0.950653101582015 |0.010897492492510406|\n",
      "| 06:42             |85:3849:210096-11014-1|8591427   |Tram          |85:3849:014|14       |0.9024139553698949|0.014477187686579617|\n",
      "| 12:39             |85:773:100967-11733-1 |8591256   |Bus           |85:773:781 |781      |0.950653101582015 |0.010897492492510406|\n",
      "| 18:16             |85:886:100969-0       |8590396   |Bus           |85:886:4   |4        |0.9882898806893504|0.007830411687439422|\n",
      "| 13:22             |85:838:100965-12880-1 |8576082   |Bus           |85:838:923 |923      |0.9254545454545454|0.013255159020985783|\n",
      "| 08:06             |85:3849:110096-03013-1|8591039   |Tram          |85:3849:013|13       |0.8488710371738436|0.01141084589191068 |\n",
      "| 12:08             |85:773:100965-11733-1 |8591172   |Bus           |85:773:781 |781      |0.950653101582015 |0.010897492492510406|\n",
      "| 06:52             |85:3849:210096-11014-1|8587349   |Tram          |85:3849:014|14       |0.9024139553698949|0.014477187686579617|\n",
      "| 00:13             |85:3849:210096-22010-1|8590889   |Tram          |85:3849:012|12       |0.7791568296795953|0.02033122059488754 |\n",
      "| 12:50             |85:838:100963-12880-1 |8588023   |Bus           |85:838:922 |922      |0.9554430591582295|0.009291710981689995|\n",
      "| 16:16             |85:849:310096-32301-1 |8590618   |Bus           |85:849:301 |301      |0.9141693398615567|0.00798795012090633 |\n",
      "| 12:02             |85:773:100965-11733-1 |8590634   |Bus           |85:773:781 |781      |0.950653101582015 |0.010897492492510406|\n",
      "| 12:10             |85:773:100965-11733-1 |8591063   |Bus           |85:773:781 |781      |0.950653101582015 |0.010897492492510406|\n",
      "| 12:40             |85:838:100962-12880-1 |8588034   |Bus           |85:838:922 |922      |0.9554430591582295|0.009291710981689995|\n",
      "| 12:38             |85:773:100967-11733-1 |8591172   |Bus           |85:773:781 |781      |0.950653101582015 |0.010897492492510406|\n",
      "| 16:13             |85:849:310096-32301-1 |8590602   |Bus           |85:849:301 |301      |0.9141693398615567|0.00798795012090633 |\n",
      "| 07:05             |85:3849:210096-11014-1|8591382   |Tram          |85:3849:014|14       |0.8253783422406212|0.015651360199123544|\n",
      "| 16:11             |85:849:310096-32301-1 |8590603   |Bus           |85:849:301 |301      |0.9141693398615567|0.00798795012090633 |\n",
      "| 15:18             |85:886:100960-0       |8590396   |Bus           |85:886:2   |2        |0.9896003262642741|0.01234783596944379 |\n",
      "| 17:08             |85:886:100966-0       |8590271   |Bus           |85:886:4   |4        |0.9906227106227106|0.007398422158717549|\n",
      "| 13:15             |85:882:810096-09101-1 |8588316   |Bus           |85:882:660 |660      |0.9744826200522403|0.007971757203052045|\n",
      "| 15:15             |85:886:100960-0       |8590271   |Bus           |85:886:2   |2        |0.9896003262642741|0.01234783596944379 |\n",
      "| 16:09             |85:3849:610096-31006-1|8591131   |Tram          |85:3849:006|6        |0.8074880787571143|0.013557933493944038|\n",
      "| 06:50             |85:3849:210096-11014-1|8587348   |Tram          |85:3849:014|14       |0.9024139553698949|0.014477187686579617|\n",
      "| 14:28             |85:773:10096-01759-1  |8590765   |Bus           |85:773:742 |742      |0.9558142611456542|0.01249811158867576 |\n",
      "| 11:07             |85:773:100961-11733-1 |8591318   |Bus           |85:773:781 |781      |0.9399092676604018|0.012659306250325152|\n",
      "| 07:59             |85:3849:110096-03013-1|8591110   |Tram          |85:3849:013|13       |0.8160170924953263|0.013202096268756375|\n",
      "| 00:09             |85:3849:210096-22010-1|8594198   |Tram          |85:3849:012|12       |0.7791568296795953|0.02033122059488754 |\n",
      "| 12:03             |85:773:100965-11733-1 |8590633   |Bus           |85:773:781 |781      |0.950653101582015 |0.010897492492510406|\n",
      "| 07:42             |85:3849:110096-03013-1|8591059   |Tram          |85:3849:013|13       |0.8160170924953263|0.013202096268756375|\n",
      "| 13:05             |85:773:100969-11733-1 |8591128   |Bus           |85:773:781 |781      |0.9451604199056882|0.011708441828101629|\n",
      "| 11:43             |85:773:100963-11733-1 |8580449   |Bus           |85:773:781 |781      |0.9399092676604018|0.012659306250325152|\n",
      "| 07:09             |85:3849:210096-11014-1|8591355   |Tram          |85:3849:014|14       |0.8253783422406212|0.015651360199123544|\n",
      "| 12:36             |85:838:100962-12880-1 |8588023   |Bus           |85:838:922 |922      |0.9554430591582295|0.009291710981689995|\n",
      "| 12:47             |85:838:100963-12880-1 |8588034   |Bus           |85:838:922 |922      |0.9554430591582295|0.009291710981689995|\n",
      "| 00:11             |85:3849:210096-22010-1|8590881   |Tram          |85:3849:012|12       |0.7791568296795953|0.02033122059488754 |\n",
      "| 12:07             |85:773:100965-11733-1 |8591318   |Bus           |85:773:781 |781      |0.950653101582015 |0.010897492492510406|\n",
      "| 08:11             |85:3849:110096-03013-1|8591423   |Tram          |85:3849:013|13       |0.8488710371738436|0.01141084589191068 |\n",
      "| 06:43             |85:3849:210096-11014-1|8591381   |Tram          |85:3849:014|14       |0.9024139553698949|0.014477187686579617|\n",
      "| 00:19             |85:3849:210096-22010-1|8591294   |Tram          |85:3849:012|12       |0.7791568296795953|0.02033122059488754 |\n",
      "| 07:11             |85:807:610096-48131-1 |8573554   |Bus           |85:807:131 |131      |0.8269383697813121|0.015012180817468196|\n",
      "| 13:41             |85:838:510096-20850-1 |8581545   |Bus           |85:838:816 |816      |0.973705737992287 |0.01574372669555578 |\n",
      "| 13:02             |85:773:100969-11733-1 |8590634   |Bus           |85:773:781 |781      |0.9451604199056882|0.011708441828101629|\n",
      "| 07:44             |85:3849:110096-03013-1|8591366   |Tram          |85:3849:013|13       |0.8160170924953263|0.013202096268756375|\n",
      "| 15:45             |85:3849:610096-31006-1|8591397   |Tram          |85:3849:006|6        |0.8386693346673336|0.016014845568289   |\n",
      "| 12:36             |85:773:100967-11733-1 |8591225   |Bus           |85:773:781 |781      |0.950653101582015 |0.010897492492510406|\n",
      "| 16:13             |85:849:310096-32301-1 |8591829   |Bus           |85:849:301 |301      |0.9141693398615567|0.00798795012090633 |\n",
      "| 08:03             |85:3849:110096-03013-1|8591417   |Tram          |85:3849:013|13       |0.8488710371738436|0.01141084589191068 |\n",
      "| 11:31             |85:773:100963-11733-1 |8590626   |Bus           |85:773:781 |781      |0.9399092676604018|0.012659306250325152|\n",
      "| 13:18             |85:882:810096-09101-1 |8576163   |Bus           |85:882:660 |660      |0.9744826200522403|0.007971757203052045|\n",
      "| 12:47             |85:838:100963-02880-1 |8588024   |Bus           |85:838:922 |922      |0.9554430591582295|0.009291710981689995|\n",
      "| 07:44             |85:3849:110096-03013-1|8591415   |Tram          |85:3849:013|13       |0.8160170924953263|0.013202096268756375|\n",
      "| 15:52             |85:3849:610096-31006-1|8591123   |Tram          |85:3849:006|6        |0.8386693346673336|0.016014845568289   |\n",
      "| 06:54             |85:3849:210096-11014-1|8591379   |Tram          |85:3849:014|14       |0.9024139553698949|0.014477187686579617|\n",
      "| 08:00             |85:3849:110096-03013-1|8580522   |Tram          |85:3849:013|13       |0.8488710371738436|0.01141084589191068 |\n",
      "| 16:11             |85:3849:610096-31006-1|8591178   |Tram          |85:3849:006|6        |0.8074880787571143|0.013557933493944038|\n",
      "| 15:17             |85:886:100960-0       |8590278   |Bus           |85:886:2   |2        |0.9896003262642741|0.01234783596944379 |\n",
      "| 11:10             |85:773:100961-11733-1 |8591063   |Bus           |85:773:781 |781      |0.9399092676604018|0.012659306250325152|\n",
      "| 06:38             |85:3849:210096-11014-1|8502572   |Tram          |85:3849:014|14       |0.9024139553698949|0.014477187686579617|\n",
      "| 00:05             |85:3849:210096-22010-1|8590583   |Tram          |85:3849:012|12       |0.7791568296795953|0.02033122059488754 |\n",
      "| 15:42             |85:3849:610096-31006-1|8591389   |Tram          |85:3849:006|6        |0.8386693346673336|0.016014845568289   |\n",
      "| 17:11             |85:886:100966-0       |8590396   |Bus           |85:886:4   |4        |0.9906227106227106|0.007398422158717549|\n",
      "| 00:20             |85:3849:210096-22010-1|8591256   |Tram          |85:3849:012|12       |0.7791568296795953|0.02033122059488754 |\n",
      "+-------------------+----------------------+----------+--------------+-----------+---------+------------------+--------------------+\n",
      "only showing top 100 rows"
     ]
    }
   ],
   "source": [
    "probability.where(probability.trip_id.contains('10096')).show(100, False)"
   ]
  },
  {
   "cell_type": "code",
   "execution_count": 37,
   "metadata": {},
   "outputs": [
    {
     "data": {
      "application/vnd.jupyter.widget-view+json": {
       "model_id": "",
       "version_major": 2,
       "version_minor": 0
      },
      "text/plain": [
       "FloatProgress(value=0.0, bar_style='info', description='Progress:', layout=Layout(height='25px', width='50%'),…"
      ]
     },
     "metadata": {},
     "output_type": "display_data"
    },
    {
     "name": "stdout",
     "output_type": "stream",
     "text": [
      "+--------------------------+-------------+----------+-------------+---------+------------+----------+--------------+------------------------------+---------------+------------+\n",
      "|Trip_ID                   |Stop_sequence|Start_Time|Start_Station|Stop_Time|Stop_Station|service_id|route_id      |trip_headsign                 |trip_short_name|direction_id|\n",
      "+--------------------------+-------------+----------+-------------+---------+------------+----------+--------------+------------------------------+---------------+------------+\n",
      "|529.TA.79-229-j19-1.1.R   |4            |18:12:00  |8579994      |18:13:00 |8573713     |TA+b0nfg  |79-229-j19-1  |Bonstetten-Wettswil, Bahnhof  |10096          |1           |\n",
      "|437.TA.26-530-j19-1.1.R   |16           |16:15:00  |8582739      |16:16:00 |8503772     |TA+b0a0e  |26-530-j19-1  |Bülach, Bahnhof               |10351          |1           |\n",
      "|943.TA.26-151-j19-1.3.R   |6            |19:09:00  |8590478      |19:11:00 |8590464     |TA+b002h  |26-151-j19-1  |Adliswil, Bahnhof             |10436          |1           |\n",
      "|2336.TA.26-14-A-j19-1.25.H|22           |15:06:00  |8591341      |15:08:00 |8502572     |TA+b0j3n  |26-14-A-j19-1 |Zürich, Triemli               |1090           |0           |\n",
      "|522.TA.26-215-j19-1.3.R   |26           |17:28:00  |8503699      |17:30:00 |8502559     |TA+b0j3a  |26-215-j19-1  |Zürich Wiedikon, Bahnhof      |11078          |1           |\n",
      "|272.TA.26-240-j19-1.1.R   |5            |18:30:00  |8573158      |18:32:00 |8502762     |TA+b0nfg  |26-240-j19-1  |Thalwil, Bahnhof              |11332          |1           |\n",
      "|725.TA.26-145-j19-1.3.H   |14           |18:53:00  |8573552      |18:55:00 |8503855     |TA+b0far  |26-145-j19-1  |Horgen, Bahnhof               |1159           |0           |\n",
      "|11.TA.26-235-j19-1.1.R    |9            |08:14:00  |8574739      |08:15:00 |8502559     |TA+b0nfg  |26-235-j19-1  |Zürich Wiedikon, Bahnhof      |11722          |1           |\n",
      "|284.TA.26-46-j19-1.8.R    |10           |18:26:00  |8591353      |18:27:00 |8576240     |TA+b0igb  |26-46-j19-1   |Zürich, Rütihof               |11888          |1           |\n",
      "|772.TA.26-33-B-j19-1.6.R  |10           |16:29:00  |8594239      |16:30:00 |8580522     |TA+b0iga  |26-33-B-j19-1 |Zürich, Kirche Fluntern       |12394          |1           |\n",
      "|536.TA.26-201-j19-1.1.R   |7            |11:28:00  |8574658      |11:29:00 |8503699     |TA+b07xq  |26-201-j19-1  |Uitikon Waldegg, Bahnhof      |12529          |1           |\n",
      "|60.TA.79-10-B-j19-1.3.H   |2            |13:26:00  |8503090      |13:29:00 |8503051     |TA+b0003  |79-10-B-j19-1 |Zürich Triemli                |12847          |0           |\n",
      "|258.TA.26-240-j19-1.1.R   |5            |19:30:00  |8573158      |19:32:00 |8502762     |TA+b062q  |26-240-j19-1  |Thalwil, Bahnhof              |13192          |1           |\n",
      "|214.TA.26-652-j19-1.4.H   |6            |20:06:00  |8503371      |20:08:00 |8503370     |TA+b05sl  |26-652-j19-1  |Effretikon, Bahnhof           |13282          |0           |\n",
      "|674.TA.26-200-j19-1.3.R   |1            |09:15:00  |8573178      |09:16:00 |8502953     |TA+b08yp  |26-200-j19-1  |Zürich Enge, Bahnhof/Bederstr.|13442          |1           |\n",
      "|240.TA.26-240-j19-1.1.R   |5            |09:30:00  |8573158      |09:32:00 |8502762     |TA+b062q  |26-240-j19-1  |Thalwil, Bahnhof              |13610          |1           |\n",
      "|914.TA.79-229-j19-1.2.H   |3            |12:04:00  |8579994      |12:05:00 |8503692     |TA+b022a  |79-229-j19-1  |Wettswil a.A., Heidenchilen   |13865          |0           |\n",
      "|550.TA.79-228-j19-1.3.H   |2            |13:18:00  |8573728      |13:19:00 |8502885     |TA+b022a  |79-228-j19-1  |Bonstetten-Wettswil, Bahnhof  |14157          |0           |\n",
      "|545.TA.26-227-j19-1.9.H   |1            |10:43:00  |8573726      |10:48:00 |8503690     |TA+b022a  |26-227-j19-1  |Birmensdorf ZH, Bahnhof       |14204          |0           |\n",
      "|798.TA.26-11-A-j19-1.3.H  |24           |06:54:00  |8576193      |06:56:00 |8503059     |TA+b0003  |26-11-A-j19-1 |Zürich, Rehalp                |1436           |0           |\n",
      "|678.TA.1-245-j19-1.5.R    |18           |08:35:00  |8503699      |08:37:00 |8502559     |TA+b022a  |1-245-j19-1   |Zürich, Triemli               |14369          |1           |\n",
      "|90.TA.26-501-j19-1.1.H    |2            |14:57:00  |8582005      |15:00:00 |8580619     |TA+b002h  |26-501-j19-1  |Bachenbülach, Bramenländli    |14838          |0           |\n",
      "|683.TA.26-510-j19-1.4.R   |5            |14:09:00  |8583769      |14:10:00 |8503885     |TA+b002h  |26-510-j19-1  |Zürich Flughafen, Bahnhof     |14887          |1           |\n",
      "|695.TA.26-510-j19-1.4.R   |5            |08:08:00  |8583769      |08:09:00 |8503885     |TA+b002h  |26-510-j19-1  |Zürich Flughafen, Bahnhof     |14899          |1           |\n",
      "|1317.TA.26-67-j19-1.2.H   |12           |18:20:00  |8591170      |18:22:00 |8502572     |TA+b0ig5  |26-67-j19-1   |Zürich Wiedikon, Bahnhof      |1512           |0           |\n",
      "|971.TA.26-LAF-j19-1.2.R   |1            |14:35:00  |8503081      |14:40:00 |8503082     |TA+b0m56  |26-LAF-j19-1  |Adliswil (Luftseilbahnstation)|1572           |1           |\n",
      "|375.TA.26-3-j19-1.37.R    |1            |08:59:00  |8503020      |09:02:00 |8503000     |TA+b0sm6  |26-3-j19-1    |Wetzikon                      |18333          |1           |\n",
      "|280.TA.26-5-A-j19-1.106.H |5            |15:15:00  |8503001      |15:19:00 |8502220     |TA+b0sqp  |26-5-A-j19-1  |Zug                           |18556          |0           |\n",
      "|307.TA.26-5-A-j19-1.106.H |5            |19:45:00  |8503001      |19:49:00 |8502220     |TA+b0d37  |26-5-A-j19-1  |Zug                           |18574          |0           |\n",
      "|222.TA.26-6-A-j19-1.45.H  |9            |09:27:00  |8503003      |09:29:00 |8503000     |TA+b0st0  |26-6-A-j19-1  |Baden                         |18634          |0           |\n",
      "|37.TA.26-7-A-j19-1.12.H   |2            |07:45:00  |8503003      |07:47:00 |8503000     |TA+b0008  |26-7-A-j19-1  |Winterthur                    |18726          |0           |\n",
      "|152.TA.26-9-A-j19-1.64.R  |6            |12:49:00  |8503020      |12:53:00 |8503000     |TA+b0j0l  |26-9-A-j19-1  |Uster                         |18947          |1           |\n",
      "|61.TA.26-11-j19-1.34.R    |2            |08:55:00  |8503003      |08:58:00 |8503000     |TA+b04wg  |26-11-j19-1   |Aarau                         |19132          |1           |\n",
      "|317.TA.1-2-A-j19-1.13.H   |3            |12:41:00  |8590277      |12:42:00 |8590271     |TA+b04gp  |1-2-A-j19-1   |Spreitenbach, IKEA            |20158          |0           |\n",
      "|379.TA.26-24-j19-1.220.R  |1            |07:45:00  |8502208      |07:47:00 |8502209     |TA+b00c6  |26-24-j19-1   |Weinfelden                    |20428          |1           |\n",
      "|96.TA.26-36-j19-1.48.R    |2            |12:44:00  |8503001      |12:49:00 |8503000     |TA+b0cm0  |26-36-j19-1   |Zürich Oerlikon               |2069           |1           |\n",
      "|682.TA.26-32-j19-1.10.R   |6            |18:49:00  |8591195      |18:50:00 |8502572     |TA+b0d7h  |26-32-j19-1   |Zürich, Holzerhurd            |2088           |1           |\n",
      "|1509.TA.26-3-A-j19-1.8.R  |2            |18:57:00  |8591199      |18:58:00 |8503083     |TA+b0grm  |26-3-A-j19-1  |Zürich, Albisrieden           |2136           |1           |\n",
      "|1674.TA.26-225-j19-1.2.R  |1            |18:50:00  |8583047      |18:51:00 |8502771     |TA+b04st  |26-225-j19-1  |Affoltern a. A., Bahnhof      |2162           |1           |\n",
      "|753.TA.26-145-j19-1.3.H   |14           |10:53:00  |8573552      |10:55:00 |8503855     |TA+b0fao  |26-145-j19-1  |Horgen, Bahnhof               |2294           |0           |\n",
      "|193.TA.26-12-A-j19-1.2.H  |1            |08:29:00  |8588553      |08:31:00 |8573205     |TA+b07y2  |26-12-A-j19-1 |Stettbach, Bahnhof            |2904           |0           |\n",
      "|693.TA.26-LAF-j19-1.1.H   |1            |16:20:00  |8503082      |16:25:00 |8503081     |TA+b0bkt  |26-LAF-j19-1  |Felsenegg                     |296            |0           |\n",
      "|169.TA.26-830-j19-1.1.R   |1            |06:21:00  |8573503      |06:23:00 |8503565     |TA+b0j3b  |26-830-j19-1  |Uster, Bahnhof                |3210           |1           |\n",
      "|657.TA.26-131-j19-1.7.R   |6            |18:14:00  |8573552      |18:16:00 |8503855     |TA+b0fal  |26-131-j19-1  |Horgen, Bahnhof               |3414           |1           |\n",
      "|583.TA.26-67-j19-1.1.R    |1            |18:50:00  |8591341      |18:52:00 |8502572     |TA+b0d7h  |26-67-j19-1   |Zürich, Dunkelhölzli          |3606           |1           |\n",
      "|392.TA.26-40-j19-1.4.R    |9            |10:27:00  |8591380      |10:28:00 |8591103     |TA+b0i7m  |26-40-j19-1   |Zürich, Seebach               |37982          |1           |\n",
      "|964.TA.26-142-j19-1.2.R   |6            |20:07:00  |8590818      |20:10:00 |8573167     |TA+b0nfm  |26-142-j19-1  |Thalwil, Zentrum              |3959           |1           |\n",
      "|220.TA.26-155-j19-1.3.H   |3            |16:48:00  |8590651      |16:50:00 |8503855     |TA+b0dez  |26-155-j19-1  |Horgen, Bahnhof               |4032           |0           |\n",
      "|61.TA.1-444-j19-1.3.R     |4            |17:09:00  |8502979      |17:10:00 |8502894     |TA+b0c5t  |1-444-j19-1   |Bremgarten AG, Obertorplatz   |44446          |1           |\n",
      "|967.TA.26-140-j19-1.6.H   |6            |18:19:00  |8573163      |18:20:00 |8502776     |TA+b0nfm  |26-140-j19-1  |Langnau am Albis, Unterrengg  |467            |0           |\n",
      "|1387.TA.26-212-j19-1.2.H  |3            |13:59:00  |8573195      |14:09:00 |8502779     |TA+b0nfg  |26-212-j19-1  |Ottenbach, Post               |4821           |0           |\n",
      "|1438.TA.26-212-j19-1.2.H  |3            |18:29:00  |8573195      |18:39:00 |8502779     |TA+b0j3a  |26-212-j19-1  |Ottenbach, Post               |4937           |0           |\n",
      "|3983.TA.26-9-B-j19-1.37.H |7            |18:25:00  |8591341      |18:26:00 |8502572     |TA+b0a0s  |26-9-B-j19-1  |Zürich, Heuried               |5325           |0           |\n",
      "|1471.TA.26-212-j19-1.2.H  |3            |08:59:00  |8573195      |09:09:00 |8502779     |TA+b08yp  |26-212-j19-1  |Ottenbach, Post               |5645           |0           |\n",
      "|1323.TA.26-212-j19-1.2.H  |3            |11:59:00  |8573195      |12:09:00 |8502779     |TA+b062q  |26-212-j19-1  |Ottenbach, Post               |5925           |0           |\n",
      "|1740.TA.26-225-j19-1.2.R  |1            |08:50:00  |8583047      |08:51:00 |8502771     |TA+b0nfh  |26-225-j19-1  |Affoltern a. A., Bahnhof      |6194           |1           |\n",
      "|425.TA.26-145-j19-1.1.R   |14           |06:49:00  |8590829      |06:51:00 |8573167     |TA+b0nfm  |26-145-j19-1  |Thalwil, Zentrum              |6240           |1           |\n",
      "|559.TA.26-227-j19-1.9.H   |1            |12:43:00  |8573726      |12:48:00 |8503690     |TA+b0nfh  |26-227-j19-1  |Birmensdorf ZH, Bahnhof       |6613           |0           |\n",
      "|307.TA.1-245-j19-1.1.R    |1            |12:39:00  |8572647      |12:41:00 |8502570     |TA+b062q  |1-245-j19-1   |Birmensdorf ZH, Bahnhof       |6731           |1           |\n",
      "|253.TA.1-17-A-j19-1.17.H  |10           |19:34:00  |8502278      |19:36:00 |8502186     |TA+b04df  |1-17-A-j19-1  |Dietikon                      |675            |0           |\n",
      "|313.TA.26-531-j19-1.1.H   |2            |08:35:00  |8582739      |08:37:00 |8503781     |TA+b0haz  |26-531-j19-1  |Zürich Flughafen, Bahnhof     |691            |0           |\n",
      "|452.TA.26-521-j19-1.2.H   |1            |10:24:00  |8506897      |10:25:00 |8506889     |TA+b0a0e  |26-521-j19-1  |Zürich Flughafen, Bahnhof     |7252           |0           |\n",
      "|1914.TA.26-3-A-j19-1.8.R  |2            |19:25:00  |8591199      |19:26:00 |8503083     |TA+b004y  |26-3-A-j19-1  |Zürich, Albisrieden           |7273           |1           |\n",
      "|1543.TA.26-9-B-j19-1.14.R |3            |18:03:00  |8591390      |18:04:00 |8502572     |TA+b0a0s  |26-9-B-j19-1  |Zürich, Paradeplatz           |7711           |1           |\n",
      "|1651.TA.26-3-A-j19-1.8.R  |2            |16:42:00  |8591199      |16:43:00 |8503083     |TA+b0iga  |26-3-A-j19-1  |Zürich, Albisrieden           |7762           |1           |\n",
      "|2620.TA.26-14-A-j19-1.25.H|22           |18:45:00  |8591341      |18:46:00 |8502572     |TA+b0j3c  |26-14-A-j19-1 |Zürich, Triemli               |829            |0           |\n",
      "|11.TA.26-510-j19-1.1.H    |17           |20:22:00  |8573261      |20:25:00 |8503860     |TA+b03q4  |26-510-j19-1  |Stadel b. N., Neuwis-Huus     |8304           |0           |\n",
      "|704.TA.26-213-j19-1.2.R   |2            |14:11:00  |8572606      |14:13:00 |8572604     |TA+b0nfg  |26-213-j19-1  |Affoltern a. A., Bahnhof      |8433           |1           |\n",
      "|1525.TA.26-223-j19-1.4.R  |4            |18:08:00  |8583855      |18:19:00 |8573178     |TA+b0nfg  |26-223-j19-1  |Affoltern a. A., Bahnhof      |9009           |1           |\n",
      "|1305.TA.26-72-j19-1.7.R   |1            |05:47:00  |8591038      |05:49:00 |8591145     |TA+b0003  |26-72-j19-1   |Zürich, Albisriederplatz      |9030           |1           |\n",
      "|672.TA.1-205-j19-1.4.R    |2            |19:27:00  |8583206      |19:28:00 |8573725     |TA+b0nfh  |1-205-j19-1   |Bonstetten-Wettswil, Bahnhof  |9583           |1           |\n",
      "|768.TA.26-150-j19-1.11.H  |6            |17:53:00  |8573552      |17:55:00 |8503855     |TA+b002h  |26-150-j19-1  |Horgen, Bahnhof               |9586           |0           |\n",
      "|6.TA.26-163-j19-1.1.R     |9            |15:00:00  |8590691      |15:01:00 |8590672     |TA+b0003  |26-163-j19-1  |Kilchberg ZH, Obere Hornhalde |9993           |1           |\n",
      "|432.TA.79-229-j19-1.1.R   |4            |08:41:00  |8579994      |08:42:00 |8573713     |TA+b0nfg  |79-229-j19-1  |Bonstetten-Wettswil, Bahnhof  |10272          |1           |\n",
      "|318.TA.26-227-j19-1.7.R   |1            |19:59:00  |8573718      |20:00:00 |8502950     |TA+b07xq  |26-227-j19-1  |Bonstetten-Wettswil, Bahnhof  |10309          |1           |\n",
      "|210.TA.26-33E-j19-1.4.H   |5            |19:26:00  |8591094      |19:27:00 |8530812     |TA+b0ju6  |26-33E-j19-1  |Zürich, Kirche Fluntern       |10338          |0           |\n",
      "|398.TA.79-229-j19-1.1.R   |4            |13:12:00  |8579994      |13:13:00 |8573713     |TA+b0j3a  |79-229-j19-1  |Bonstetten-Wettswil, Bahnhof  |10603          |1           |\n",
      "|148.TA.26-33E-j19-1.4.H   |1            |20:56:00  |8576182      |20:57:00 |8576199     |TA+b004y  |26-33E-j19-1  |Zürich, Kirche Fluntern       |11205          |0           |\n",
      "|1254.TA.1-245-j19-1.8.R   |18           |20:37:00  |8503699      |20:39:00 |8502559     |TA+b0j3a  |1-245-j19-1   |Zürich Wiedikon, Bahnhof      |11236          |1           |\n",
      "|684.TA.79-221-j19-1.2.H   |16           |15:48:00  |8573712      |15:49:00 |8503692     |TA+b0j3a  |79-221-j19-1  |Bonstetten-Wettswil, Bahnhof  |11247          |0           |\n",
      "|693.TA.79-221-j19-1.2.H   |16           |13:18:00  |8573712      |13:19:00 |8503692     |TA+b0j3a  |79-221-j19-1  |Bonstetten-Wettswil, Bahnhof  |11313          |0           |\n",
      "|572.TA.26-223-j19-1.2.H   |4            |12:27:00  |8573169      |12:29:00 |8502758     |TA+b04st  |26-223-j19-1  |Hausen am Albis, Post         |125            |0           |\n",
      "|214.TA.26-4-B-j19-1.12.R  |8            |14:00:00  |8503093      |14:02:00 |8503086     |TA+b0001  |26-4-B-j19-1  |Zürich HB SZU                 |12542          |1           |\n",
      "|390.TA.26-703-j19-1.3.H   |6            |17:10:00  |8591832      |17:13:00 |8590504     |TA+b002h  |26-703-j19-1  |Benglen, Bodenacher           |12637          |0           |\n",
      "|28.TA.79-10-B-j19-1.2.R   |3            |17:00:00  |8503052      |17:01:00 |8503051     |TA+b0003  |79-10-B-j19-1 |Zürich HB SZU                 |12888          |1           |\n",
      "|98.TA.26-703-j19-1.2.R    |1            |10:15:00  |8591825      |10:16:00 |8590504     |TA+b002h  |26-703-j19-1  |Zürich, Klusplatz             |13187          |1           |\n",
      "|143.TA.26-220-j19-1.1.H   |6            |18:41:00  |8573711      |18:44:00 |8502559     |TA+b04st  |26-220-j19-1  |Bonstetten-Wettswil, Bahnhof  |1372           |0           |\n",
      "|1104.TA.26-4-j19-1.25.H   |25           |20:39:00  |8576200      |20:40:00 |8576182     |TA+b0j3c  |26-4-j19-1    |Zürich Tiefenbrunnen, Bahnhof |1394           |0           |\n",
      "|399.TA.26-223-j19-1.2.H   |4            |18:57:00  |8573169      |18:59:00 |8502758     |TA+b022a  |26-223-j19-1  |Hausen am Albis, Post         |13985          |0           |\n",
      "|675.TA.26-510-j19-1.4.R   |5            |18:08:00  |8583769      |18:09:00 |8503885     |TA+b002h  |26-510-j19-1  |Zürich Flughafen, Bahnhof     |14879          |1           |\n",
      "|104.TA.26-765-j19-1.1.R   |6            |18:41:00  |8588316      |18:42:00 |8503700     |TA+b0003  |26-765-j19-1  |Zürich Flughafen, Bahnhof     |1669           |1           |\n",
      "|218.TA.26-16-A-j19-1.90.R |3            |17:10:00  |8503020      |17:13:00 |8503000     |TA+b00c6  |26-16-A-j19-1 |Herrliberg-Feldmeilen         |19665          |1           |\n",
      "|709.TA.26-12-j19-1.285.H  |2            |14:09:00  |8503003      |14:12:00 |8503000     |TA+b04iu  |26-12-j19-1   |Brugg AG                      |20252          |0           |\n",
      "|710.TA.26-12-j19-1.285.H  |2            |15:09:00  |8503003      |15:12:00 |8503000     |TA+b04iu  |26-12-j19-1   |Brugg AG                      |20256          |0           |\n",
      "|687.TA.26-32-j19-1.10.R   |6            |18:42:00  |8591195      |18:43:00 |8502572     |TA+b0d7h  |26-32-j19-1   |Zürich, Holzerhurd            |2110           |1           |\n",
      "|5.TA.1-217-j19-1.3.H      |2            |07:45:00  |8583890      |07:48:00 |8573178     |TA+b0001  |1-217-j19-1   |Affoltern a. A., Bahnhof      |21711          |0           |\n",
      "|224.TA.26-842-j19-1.2.R   |1            |08:35:00  |8503168      |08:37:00 |8503189     |TA+b0003  |26-842-j19-1  |Uster, Bahnhof                |2275           |1           |\n",
      "|120.TA.26-10-B-j19-1.5.R  |6            |07:54:00  |8503052      |07:56:00 |8503051     |TA+b0jyq  |26-10-B-j19-1 |Zürich Selnau                 |23514          |1           |\n",
      "|159.TA.26-10-B-j19-1.5.R  |6            |20:54:00  |8503052      |20:56:00 |8503051     |TA+b0jyq  |26-10-B-j19-1 |Zürich Selnau                 |23592          |1           |\n",
      "|1216.TA.26-14-A-j19-1.11.R|4            |20:51:00  |8591390      |20:52:00 |8502572     |TA+b0j3h  |26-14-A-j19-1 |Zürich Wiedikon, Bahnhof      |2393           |1           |\n",
      "|4156.TA.26-31-j19-1.26.R  |11           |17:53:00  |8591137      |17:54:00 |8530812     |TA+b0j3c  |26-31-j19-1   |Zürich, Farbhof               |2464           |1           |\n",
      "|1231.TA.26-67-j19-1.2.H   |12           |06:05:00  |8591170      |06:06:00 |8502572     |TA+b0003  |26-67-j19-1   |Zürich Wiedikon, Bahnhof      |2756           |0           |\n",
      "|64.TA.26-655-j19-1.8.H    |2            |18:22:00  |8503381      |18:24:00 |8503374     |TA+b0003  |26-655-j19-1  |Effretikon, Bahnhof           |3015           |0           |\n",
      "|248.TA.16-13-j19-1.114.R  |1            |19:09:00  |8503000      |19:15:00 |8503006     |TA+b0hr3  |16-13-j19-1   |Sargans                       |3281           |1           |\n",
      "|866.TA.26-14-A-j19-1.10.R |4            |12:13:00  |8591390      |12:15:00 |8502572     |TA+b0003  |26-14-A-j19-1 |Zürich, Seebach               |3368           |1           |\n",
      "|441.TA.26-12-A-j19-1.3.R  |16           |19:40:00  |8587799      |19:42:00 |8573205     |TA+b000k  |26-12-A-j19-1 |Zürich Flughafen, Fracht      |3441           |1           |\n",
      "|79.TA.26-811-j19-1.1.H    |6            |06:05:00  |8588053      |06:06:00 |8503152     |TA+b0003  |26-811-j19-1  |Uster, Bahnhof                |3517           |0           |\n",
      "|1741.TA.26-3-A-j19-1.8.R  |2            |08:49:00  |8591199      |08:51:00 |8503083     |TA+b0j3n  |26-3-A-j19-1  |Zürich, Albisrieden           |3650           |1           |\n",
      "|942.TA.26-134-j19-1.4.R   |6            |20:23:00  |8590651      |20:25:00 |8503855     |TA+b0far  |26-134-j19-1  |Horgen, Bahnhof               |3826           |1           |\n",
      "|46.TA.26-726-j19-1.2.R    |9            |18:29:00  |8576129      |18:31:00 |8503150     |TA+b0003  |26-726-j19-1  |Volketswil, Dorf              |3858           |1           |\n",
      "|361.TA.1-4-B-j19-1.14.R   |1            |12:07:00  |8590279      |12:08:00 |8590271     |TA+b088x  |1-4-B-j19-1   |Baden, Ruschebach             |40079          |1           |\n",
      "|443.TA.26-18-j19-1.8.R    |12           |18:37:00  |8503074      |18:39:00 |8503065     |TA+b0j3m  |26-18-j19-1   |Forch                         |451            |1           |\n",
      "|847.TA.26-225-j19-1.1.H   |3            |10:00:00  |8580268      |10:01:00 |8502574     |TA+b0j3a  |26-225-j19-1  |Aeugst am Albis, Grossacher   |4838           |0           |\n",
      "|1545.TA.1-245-j19-1.10.H  |17           |09:47:00  |8572646      |09:48:00 |8502570     |TA+b07xq  |1-245-j19-1   |Muri AG, Bahnhof              |4894           |0           |\n",
      "|780.TA.26-223-j19-1.2.H   |4            |15:57:00  |8573169      |15:59:00 |8502758     |TA+b0j3a  |26-223-j19-1  |Hausen am Albis, Post         |4975           |0           |\n",
      "|608.TA.26-67-j19-1.1.R    |1            |13:58:00  |8591341      |13:59:00 |8502572     |TA+b0003  |26-67-j19-1   |Zürich, Dunkelhölzli          |5023           |1           |\n",
      "|1479.TA.1-245-j19-1.10.H  |17           |09:47:00  |8572646      |09:48:00 |8502570     |TA+b08yp  |1-245-j19-1   |Muri AG, Bahnhof              |5067           |0           |\n",
      "|283.TA.26-704-j19-1.9.H   |15           |10:04:00  |8576127      |10:06:00 |8503154     |TA+b0fe4  |26-704-j19-1  |Volketswil, Hofwisen          |5149           |0           |\n",
      "|1103.TA.1-245-j19-1.6.H   |11           |12:47:00  |8572646      |12:48:00 |8502570     |TA+b0j3a  |1-245-j19-1   |Muri AG, Bahnhof              |5523           |0           |\n",
      "|153.TA.26-133-j19-1.3.H   |2            |13:56:00  |8589111      |13:57:00 |8573553     |TA+b0fal  |26-133-j19-1  |Horgen, Panorama/CS           |5613           |0           |\n",
      "|1473.TA.26-212-j19-1.2.H  |3            |07:59:00  |8573195      |08:09:00 |8502779     |TA+b08yp  |26-212-j19-1  |Ottenbach, Post               |5657           |0           |\n",
      "|1491.TA.26-200-j19-1.4.H  |9            |13:11:00  |8582723      |13:12:00 |8502953     |TA+b08yp  |26-200-j19-1  |Affoltern a. A., Bahnhof      |6248           |0           |\n",
      "|1315.TA.79-229-j19-1.2.H  |3            |15:34:00  |8579994      |15:35:00 |8503692     |TA+b062q  |79-229-j19-1  |Wettswil a.A., Heidenchilen   |6366           |0           |\n",
      "|1166.TA.26-132-j19-1.3.R  |3            |05:53:00  |8590651      |05:55:00 |8503855     |TA+b0fal  |26-132-j19-1  |Horgen, Bahnhof               |6558           |1           |\n",
      "|619.TA.26-213-j19-1.1.R   |2            |07:41:00  |8572606      |07:43:00 |8572604     |TA+b0nfh  |26-213-j19-1  |Affoltern a. A., Bahnhof      |6797           |1           |\n",
      "|374.TA.26-9-B-j19-1.1.R   |2            |20:09:00  |8591390      |20:10:00 |8502572     |TA+b004y  |26-9-B-j19-1  |Zürich, Hirzenbach            |7328           |1           |\n",
      "|789.TA.26-8-C-j19-1.6.R   |2            |14:28:00  |8591199      |14:30:00 |8503083     |TA+b0a0s  |26-8-C-j19-1  |Zürich Tiefenbrunnen, Bahnhof |7362           |1           |\n",
      "|428.TA.26-521-j19-1.2.H   |1            |08:24:00  |8506897      |08:25:00 |8506889     |TA+b0344  |26-521-j19-1  |Zürich Flughafen, Bahnhof     |7650           |0           |\n",
      "|790.TA.1-245-j19-1.5.R    |18           |16:07:00  |8503699      |16:09:00 |8502559     |TA+b0nfh  |1-245-j19-1   |Zürich, Triemli               |7655           |1           |\n",
      "|1613.TA.26-225-j19-1.3.R  |1            |07:00:00  |8583047      |07:01:00 |8502771     |TA+b08yp  |26-225-j19-1  |Affoltern a. A., Bahnhof      |7743           |1           |\n",
      "|787.TA.79-228-j19-1.3.H   |2            |12:18:00  |8573728      |12:19:00 |8502885     |TA+b08yp  |79-228-j19-1  |Bonstetten-Wettswil, Bahnhof  |7994           |0           |\n",
      "|878.TA.26-11-A-j19-1.3.H  |24           |14:02:00  |8576193      |14:04:00 |8503059     |TA+b0j3k  |26-11-A-j19-1 |Zürich, Rehalp                |800            |0           |\n",
      "|570.TA.26-227-j19-1.9.H   |1            |09:43:00  |8573726      |09:48:00 |8503690     |TA+b0nfg  |26-227-j19-1  |Birmensdorf ZH, Bahnhof       |8092           |0           |\n",
      "|187.TA.26-150-j19-1.2.R   |5            |13:39:00  |8503898      |13:42:00 |8503896     |TA+b0i79  |26-150-j19-1  |Hütten, Schöntal              |8306           |1           |\n",
      "|1138.TA.26-9-B-j19-1.4.R  |2            |14:40:00  |8591199      |14:41:00 |8503083     |TA+b0a0s  |26-9-B-j19-1  |Zürich, Hirzenbach            |8386           |1           |\n",
      "|1049.TA.26-140-j19-1.6.H  |6            |14:49:00  |8573163      |14:50:00 |8502776     |TA+b0nfj  |26-140-j19-1  |Langnau am Albis, Unterrengg  |853            |0           |\n",
      "|605.TA.26-201-j19-1.1.R   |7            |09:28:00  |8574658      |09:29:00 |8503699     |TA+b0nfg  |26-201-j19-1  |Uitikon Waldegg, Bahnhof      |8965           |1           |\n",
      "|1618.TA.26-121-j19-1.13.H |5            |17:23:00  |8590651      |17:25:00 |8503855     |TA+b002h  |26-121-j19-1  |Horgen, Spital                |9003           |0           |\n",
      "|45.TA.26-67-j19-1.1.R     |1            |06:50:00  |8591341      |06:51:00 |8502572     |TA+b0003  |26-67-j19-1   |Zürich, Dunkelhölzli          |9032           |1           |\n",
      "|115.TA.26-70-A-j19-1.3.R  |4            |06:42:00  |8591270      |06:44:00 |8591061     |TA+b0003  |26-70-A-j19-1 |Zürich Wollishofen, Bahnhof   |9308           |1           |\n",
      "|654.TA.26-201-j19-1.1.R   |7            |09:58:00  |8574658      |09:59:00 |8503699     |TA+b0j3a  |26-201-j19-1  |Uitikon Waldegg, Bahnhof      |9407           |1           |\n",
      "|18.TA.63-11-Y-j19-1.1.H   |3            |13:49:00  |8502270      |13:50:00 |8502186     |TA+b0h4d  |63-11-Y-j19-1 |Bremgarten                    |944            |0           |\n",
      "|233.TA.26-46-j19-1.8.R    |10           |05:35:00  |8591353      |05:36:00 |8576240     |TA+b0003  |26-46-j19-1   |Zürich, Rütihof               |9569           |1           |\n",
      "|94.TA.79-210-j19-1.2.H    |2            |16:04:00  |8573728      |16:05:00 |8502885     |TA+b07xq  |79-210-j19-1  |Bonstetten, Dorfplatz         |9630           |0           |\n",
      "|967.TA.26-520-j19-1.3.R   |10           |20:19:00  |8573226      |20:21:00 |8506889     |TA+b0a0e  |26-520-j19-1  |Embrach-Rorbas, Bahnhof       |9830           |1           |\n",
      "|720.TA.26-140-j19-1.5.R   |6            |19:37:00  |8573162      |19:38:00 |8502776     |TA+b002h  |26-140-j19-1  |Thalwil, Zentrum              |9975           |1           |\n",
      "|534.TA.79-229-j19-1.1.R   |4            |17:12:00  |8579994      |17:13:00 |8573713     |TA+b0nfg  |79-229-j19-1  |Bonstetten-Wettswil, Bahnhof  |10114          |1           |\n",
      "|772.TA.26-531-j19-1.6.R   |9            |16:54:00  |8582739      |16:55:00 |8503772     |TA+b0344  |26-531-j19-1  |Bülach, Bahnhof               |10133          |1           |\n",
      "|277.TA.26-235-j19-1.4.R   |17           |13:28:00  |8574739      |13:29:00 |8502559     |TA+b08yp  |26-235-j19-1  |Zürich Wiedikon, Bahnhof      |10250          |1           |\n",
      "|532.TA.26-145-j19-1.1.R   |14           |09:49:00  |8590829      |09:51:00 |8573167     |TA+b002h  |26-145-j19-1  |Thalwil, Zentrum              |10730          |1           |\n",
      "|245.TA.26-523-j19-1.1.R   |1            |20:53:00  |8506897      |20:54:00 |8506889     |TA+b0344  |26-523-j19-1  |Oberembrach, Dorf             |10801          |1           |\n",
      "|679.TA.26-69-j19-1.4.H    |7            |18:06:00  |8591425      |18:08:00 |8591101     |TA+b0igc  |26-69-j19-1   |Zürich, Milchbuck             |11106          |0           |\n",
      "|166.TA.26-33E-j19-1.4.H   |5            |18:48:00  |8591094      |18:49:00 |8530812     |TA+b0igb  |26-33E-j19-1  |Zürich, Kirche Fluntern       |11251          |0           |\n",
      "|194.TA.26-72-j19-1.3.H    |3            |18:39:00  |8591323      |18:41:00 |8580522     |TA+b0igb  |26-72-j19-1   |Zürich, Morgental             |11351          |0           |\n",
      "|428.TA.26-227-j19-1.8.R   |1            |20:59:00  |8573718      |21:00:00 |8502950     |TA+b0nfg  |26-227-j19-1  |Bonstetten-Wettswil, Bahnhof  |11667          |1           |\n",
      "|18.TA.26-245-j19-1.3.R    |18           |05:59:00  |8503699      |06:01:00 |8502559     |TA+b0j3a  |26-245-j19-1  |Zürich, Triemli               |11687          |1           |\n",
      "|3834.TA.26-31-j19-1.26.R  |10           |18:37:00  |8591233      |18:38:00 |8530812     |TA+b0igb  |26-31-j19-1   |Zürich, Farbhof               |11822          |1           |\n",
      "|438.TA.26-235-j19-1.5.R   |18           |11:28:00  |8574739      |11:29:00 |8502559     |TA+b0j3a  |26-235-j19-1  |Zürich Wiedikon, Bahnhof      |12003          |1           |\n",
      "|812.TA.26-33E-j19-1.9.R   |16           |19:38:00  |8576200      |19:40:00 |8576182     |TA+b002h  |26-33E-j19-1  |Zürich Tiefenbrunnen, Bahnhof |12104          |1           |\n",
      "|846.TA.26-33E-j19-1.9.R   |11           |18:16:00  |8591137      |18:17:00 |8530812     |TA+b004y  |26-33E-j19-1  |Zürich Tiefenbrunnen, Bahnhof |12164          |1           |\n",
      "|758.TA.26-72-j19-1.6.R    |18           |18:52:00  |8594239      |18:53:00 |8580522     |TA+b004y  |26-72-j19-1   |Zürich, Milchbuck             |12204          |1           |\n",
      "|2389.TA.26-14-A-j19-1.25.H|22           |13:14:00  |8591341      |13:15:00 |8502572     |TA+b0j3n  |26-14-A-j19-1 |Zürich, Triemli               |1241           |0           |\n",
      "|1308.TA.26-8-C-j19-1.8.R  |5            |18:59:00  |8530813      |19:01:00 |8503059     |TA+b0fdi  |26-8-C-j19-1  |Zürich, Hardturm              |1265           |1           |\n",
      "|33.TA.79-210-j19-1.1.R    |2            |19:39:00  |8573729      |19:41:00 |8573726     |TA+b07xq  |79-210-j19-1  |Bonstetten-Wettswil, Bahnhof  |12750          |1           |\n",
      "|578.TA.26-LAF-j19-1.1.H   |1            |19:50:00  |8503082      |19:55:00 |8503081     |TA+b0m56  |26-LAF-j19-1  |Felsenegg                     |1280           |0           |\n",
      "|54.TA.79-10-B-j19-1.3.H   |2            |10:26:00  |8503090      |10:29:00 |8503051     |TA+b0003  |79-10-B-j19-1 |Zürich Triemli                |12811          |0           |\n",
      "|578.TA.26-212-j19-1.1.R   |3            |14:01:00  |8583890      |14:04:00 |8573178     |TA+b062q  |26-212-j19-1  |Affoltern a. A., Bahnhof      |13041          |1           |\n",
      "|84.TA.26-66-j19-1.4.R     |1            |12:10:00  |8591286      |12:12:00 |8591217     |TA+b0a0s  |26-66-j19-1   |Zürich, Morgental             |13107          |1           |\n",
      "|33.TA.26-83-j19-1.1.R     |13           |16:49:00  |8594239      |16:50:00 |8580522     |TA+b004y  |26-83-j19-1   |Zürich, Milchbuck             |13170          |1           |\n",
      "|1335.TA.26-8-C-j19-1.8.R  |5            |18:28:00  |8530813      |18:30:00 |8503059     |TA+b0fdk  |26-8-C-j19-1  |Zürich, Hardturm              |1361           |1           |\n",
      "|544.TA.1-205-j19-1.4.R    |2            |07:04:00  |8583206      |07:05:00 |8573725     |TA+b08yp  |1-205-j19-1   |Bonstetten-Wettswil, Bahnhof  |13660          |1           |\n",
      "|1343.TA.26-201-j19-1.3.H  |4            |20:57:00  |8574739      |20:59:00 |8503709     |TA+b022a  |26-201-j19-1  |Uitikon, Wängi                |13866          |0           |\n",
      "|1060.TA.26-212-j19-1.2.H  |3            |11:59:00  |8573195      |12:09:00 |8502779     |TA+b022a  |26-212-j19-1  |Ottenbach, Post               |14000          |0           |\n",
      "|600.TA.1-205-j19-1.4.R    |2            |18:27:00  |8583206      |18:28:00 |8573725     |TA+b022a  |1-205-j19-1   |Bonstetten-Wettswil, Bahnhof  |14455          |1           |\n",
      "|110.TA.26-227-j19-1.2.R   |1            |13:59:00  |8573718      |14:00:00 |8502950     |TA+b022a  |26-227-j19-1  |Bonstetten-Wettswil, Bahnhof  |14525          |1           |\n",
      "|555.TA.26-212-j19-1.1.R   |3            |14:01:00  |8583890      |14:04:00 |8573178     |TA+b022a  |26-212-j19-1  |Affoltern a. A., Bahnhof      |14552          |1           |\n",
      "|197.TA.26-762-j19-1.6.R   |5            |10:26:00  |8590744      |10:28:00 |8580536     |TA+b0fju  |26-762-j19-1  |Wallisellen, Bahnhof          |15041          |1           |\n",
      "|180.TA.26-771-j19-1.3.R   |8            |14:42:00  |8590896      |14:43:00 |8590883     |TA+b0j2d  |26-771-j19-1  |Wallisellen, Lindenplatz      |15273          |1           |\n",
      "|185.TA.26-771-j19-1.3.R   |8            |09:42:00  |8590896      |09:43:00 |8590883     |TA+b0j2d  |26-771-j19-1  |Wallisellen, Lindenplatz      |15420          |1           |\n",
      "|161.TA.26-772-j19-1.3.R   |6            |06:50:00  |8590894      |06:51:00 |8590884     |TA+b0j2d  |26-772-j19-1  |Wallisellen, Bahnhof          |15478          |1           |\n",
      "|131.TA.26-812-j19-1.2.H   |7            |13:50:00  |8588050      |13:51:00 |8503253     |TA+b0003  |26-812-j19-1  |Uster, Bahnhof                |1746           |0           |\n",
      "|48.TA.26-136-j19-1.1.R    |6            |18:37:00  |8594182      |18:39:00 |8503855     |TA+b0fal  |26-136-j19-1  |Horgen, Bahnhof               |1808           |1           |\n",
      "|78.TA.26-2-j19-1.9.R      |4            |20:07:00  |8503011      |20:12:00 |8503000     |TA+b005n  |26-2-j19-1    |Zürich Flughafen              |18276          |1           |\n",
      "|300.TA.26-5-A-j19-1.106.H |5            |18:45:00  |8503001      |18:49:00 |8502220     |TA+b0008  |26-5-A-j19-1  |Zug                           |18570          |0           |\n",
      "|570.TA.26-136-j19-1.4.H   |6            |20:54:00  |8579188      |20:56:00 |8579186     |TA+b0nfj  |26-136-j19-1  |Oberrieden, Bahnhof           |1870           |0           |\n",
      "|125.TA.26-9-A-j19-1.57.R  |6            |06:19:00  |8503020      |06:23:00 |8503000     |TA+b0008  |26-9-A-j19-1  |Uster                         |18921          |1           |\n",
      "|143.TA.26-15-j19-1.17.R   |8            |13:04:00  |8503020      |13:08:00 |8503000     |TA+b0001  |26-15-j19-1   |Rapperswil                    |19549          |1           |\n",
      "|208.TA.26-10-B-j19-1.9.H  |1            |15:50:00  |8503090      |15:53:00 |8503051     |TA+b0jyq  |26-10-B-j19-1 |Uetliberg                     |23565          |0           |\n",
      "|223.TA.26-10-B-j19-1.9.H  |1            |20:50:00  |8503090      |20:53:00 |8503051     |TA+b0jyq  |26-10-B-j19-1 |Uetliberg                     |23595          |0           |\n",
      "|309.TA.26-61-j19-1.1.H    |4            |14:31:00  |8591054      |14:32:00 |8576262     |TA+b0003  |26-61-j19-1   |Zürich, Schwamendingerplatz   |2530           |0           |\n",
      "|800.TA.26-136-j19-1.5.H   |5            |14:54:00  |8579188      |14:56:00 |8579186     |TA+b0faq  |26-136-j19-1  |Oberrieden, Bahnhof           |2696           |0           |\n",
      "|217.TA.26-735-j19-1.6.R   |1            |20:03:00  |8573205      |20:04:00 |8573213     |TA+b0grx  |26-735-j19-1  |Kloten, Härdlen               |2700           |1           |\n",
      "|312.TA.26-816-j19-1.5.R   |1            |08:22:00  |8587010      |08:23:00 |8503254     |TA+b0003  |26-816-j19-1  |Uster, Bahnhof                |2725           |1           |\n",
      "|660.TA.26-32-j19-1.10.R   |6            |15:12:00  |8591195      |15:13:00 |8502572     |TA+b0003  |26-32-j19-1   |Zürich, Holzerhurd            |2898           |1           |\n",
      "|111.TA.79-736-j19-1.5.H   |3            |18:42:00  |8580301      |18:43:00 |8573205     |TA+b0003  |79-736-j19-1  |Zürich Flughafen, Im Rohr     |2917           |0           |\n",
      "|65.TA.26-16-j19-1.58.H    |1            |05:22:00  |8503001      |05:27:00 |8503000     |TA+b05k1  |26-16-j19-1   |Zürich Flughafen              |30155          |0           |\n",
      "|1387.TA.26-10-j19-1.11.R  |26           |15:01:00  |8587799      |15:02:00 |8573205     |TA+b07y2  |26-10-j19-1   |Zürich Flughafen, Fracht      |3200           |1           |\n",
      "|1678.TA.26-3-A-j19-1.8.R  |2            |09:42:00  |8591199      |09:43:00 |8503083     |TA+b0j3n  |26-3-A-j19-1  |Zürich, Albisrieden           |3526           |1           |\n",
      "|987.TA.26-235-j19-1.13.R  |8            |07:57:00  |8574739      |07:58:00 |8502559     |TA+b04st  |26-235-j19-1  |Zürich, Triemli               |3836           |1           |\n",
      "|935.TA.26-132-j19-1.4.R   |3            |20:23:00  |8590651      |20:25:00 |8503855     |TA+b0faq  |26-132-j19-1  |Horgen, Bahnhof               |3838           |1           |\n",
      "|507.TA.26-140-j19-1.5.R   |6            |17:07:00  |8573162      |17:08:00 |8502776     |TA+b0dez  |26-140-j19-1  |Thalwil, Zentrum              |3949           |1           |\n",
      "|474.TA.1-4-B-j19-1.19.H   |3            |20:48:00  |8590277      |20:49:00 |8590271     |TA+b04gp  |1-4-B-j19-1   |Spreitenbach, IKEA            |40242          |0           |\n",
      "|1483.TA.26-212-j19-1.2.H  |3            |10:59:00  |8573195      |11:09:00 |8502779     |TA+b0nfh  |26-212-j19-1  |Ottenbach, Post               |4127           |0           |\n",
      "|1437.TA.26-213-j19-1.3.H  |4            |07:46:00  |8572606      |07:49:00 |8502779     |TA+b0nfg  |26-213-j19-1  |Ottenbach, Post               |4850           |0           |\n",
      "|27.TA.26-350-j19-1.1.H    |2            |05:34:00  |8572599      |05:36:00 |8502560     |TA+b05h5  |26-350-j19-1  |Zürich Wiedikon, Bahnhof      |50001          |0           |\n",
      "|130.TA.26-350-j19-1.4.R   |6            |20:28:00  |8573711      |20:31:00 |8502559     |TA+b05h5  |26-350-j19-1  |Berikon-Widen, Bahnhof        |50146          |1           |\n",
      "|796.TA.26-223-j19-1.2.H   |4            |09:27:00  |8573169      |09:29:00 |8502758     |TA+b0j3a  |26-223-j19-1  |Hausen am Albis, Post         |5044           |0           |\n",
      "|621.TA.26-67-j19-1.1.R    |1            |13:35:00  |8591341      |13:37:00 |8502572     |TA+b0003  |26-67-j19-1   |Zürich, Dunkelhölzli          |5181           |1           |\n",
      "|1506.TA.26-215-j19-1.6.H  |2            |11:19:00  |8591341      |11:20:00 |8502572     |TA+b0j3a  |26-215-j19-1  |Affoltern a. A., Bahnhof      |5316           |0           |\n",
      "|90.TA.26-131-j19-1.1.R    |6            |07:23:00  |8573552      |07:25:00 |8503855     |TA+b0far  |26-131-j19-1  |Horgen, Bahnhof               |5757           |1           |\n",
      "|1337.TA.26-200-j19-1.4.H  |9            |14:11:00  |8582723      |14:12:00 |8502953     |TA+b07xq  |26-200-j19-1  |Affoltern a. A., Bahnhof      |5913           |0           |\n",
      "|1055.TA.26-530-j19-1.7.H  |2            |16:13:00  |8582739      |16:15:00 |8503781     |TA+b0344  |26-530-j19-1  |Zürich Flughafen, Bahnhof     |6081           |0           |\n",
      "|914.TA.26-235-j19-1.8.H   |6            |12:28:00  |8573711      |12:31:00 |8502559     |TA+b04st  |26-235-j19-1  |Ebertswil, Schulhaus          |666            |0           |\n",
      "|1357.TA.26-8-C-j19-1.8.R  |5            |17:07:00  |8530813      |17:09:00 |8503059     |TA+b004h  |26-8-C-j19-1  |Zürich, Hardturm              |6848           |1           |\n",
      "|892.TA.26-525-j19-1.10.H  |1            |16:15:00  |8573260      |16:16:00 |8503782     |TA+b0343  |26-525-j19-1  |Oberglatt ZH, Bahnhof         |6900           |0           |\n",
      "|37.TA.26-67-j19-1.1.R     |1            |09:58:00  |8591341      |09:59:00 |8502572     |TA+b0003  |26-67-j19-1   |Zürich, Dunkelhölzli          |6903           |1           |\n",
      "|759.TA.26-215-j19-1.3.R   |26           |16:58:00  |8503699      |17:00:00 |8502559     |TA+b0nfh  |26-215-j19-1  |Zürich Wiedikon, Bahnhof      |7056           |1           |\n",
      "|142.TA.79-210-j19-1.3.H   |1            |06:38:00  |8573728      |06:39:00 |8502885     |TA+b062q  |79-210-j19-1  |Bonstetten, Dorfplatz         |7208           |0           |\n",
      "|1725.TA.26-121-j19-1.14.H |5            |08:17:00  |8590651      |08:19:00 |8503855     |TA+b0i79  |26-121-j19-1  |Horgen, Bahnhof               |7248           |0           |\n",
      "|345.TA.26-121-j19-1.2.H   |5            |08:23:00  |8590651      |08:25:00 |8503855     |TA+b0i79  |26-121-j19-1  |Horgen, Spital                |7263           |0           |\n",
      "|1630.TA.26-225-j19-1.2.R  |1            |06:20:00  |8583047      |06:21:00 |8502771     |TA+b07xq  |26-225-j19-1  |Affoltern a. A., Bahnhof      |7301           |1           |\n",
      "|763.TA.79-228-j19-1.3.H   |2            |15:18:00  |8573728      |15:19:00 |8502885     |TA+b07xq  |79-228-j19-1  |Bonstetten-Wettswil, Bahnhof  |7378           |0           |\n",
      "|1592.TA.26-6-B-j19-1.10.R |1            |18:39:00  |8591067      |18:41:00 |8588078     |TA+b004y  |26-6-B-j19-1  |Zürich, Zoo                   |7418           |1           |\n",
      "|1530.TA.26-9-B-j19-1.14.R |3            |19:18:00  |8591390      |19:19:00 |8502572     |TA+b0a0s  |26-9-B-j19-1  |Zürich, Paradeplatz           |7487           |1           |\n",
      "|1631.TA.26-225-j19-1.2.R  |1            |05:50:00  |8583047      |05:51:00 |8502771     |TA+b08yp  |26-225-j19-1  |Affoltern a. A., Bahnhof      |7784           |1           |\n",
      "|1063.TA.26-17-j19-1.27.R  |14           |14:27:00  |8591110      |14:28:00 |8580522     |TA+b0a0s  |26-17-j19-1   |Zürich, Werdhölzli            |8621           |1           |\n",
      "|1293.TA.26-32-j19-1.12.H  |19           |10:30:00  |8591447      |10:31:00 |8502572     |TA+b0003  |26-32-j19-1   |Zürich, Strassenverkehrsamt   |870            |0           |\n",
      "|756.TA.79-228-j19-1.3.H   |2            |17:48:00  |8573728      |17:49:00 |8502885     |TA+b062q  |79-228-j19-1  |Bonstetten-Wettswil, Bahnhof  |8763           |0           |\n",
      "|456.TA.26-236-j19-1.2.R   |20           |10:58:00  |8574739      |10:59:00 |8502559     |TA+b062q  |26-236-j19-1  |Zürich Wiedikon, Bahnhof      |8832           |1           |\n",
      "|754.TA.26-140-j19-1.6.H   |6            |14:19:00  |8573163      |14:20:00 |8502776     |TA+b0dez  |26-140-j19-1  |Langnau am Albis, Unterrengg  |919            |0           |\n",
      "|1300.TA.26-32-j19-1.12.H  |19           |09:38:00  |8591447      |09:39:00 |8502572     |TA+b0003  |26-32-j19-1   |Zürich, Strassenverkehrsamt   |926            |0           |\n",
      "|533.TA.79-229-j19-1.1.R   |4            |17:42:00  |8579994      |17:43:00 |8573713     |TA+b0nfg  |79-229-j19-1  |Bonstetten-Wettswil, Bahnhof  |10110          |1           |\n",
      "|145.TA.26-236-j19-1.1.R   |19           |09:58:00  |8574739      |09:59:00 |8502559     |TA+b07xq  |26-236-j19-1  |Zürich Wiedikon, Bahnhof      |10296          |1           |\n",
      "|611.TA.26-140-j19-1.5.R   |6            |10:07:00  |8573162      |10:08:00 |8502776     |TA+b002h  |26-140-j19-1  |Thalwil, Zentrum              |10616          |1           |\n",
      "|2481.TA.26-31-j19-1.17.H  |21           |19:20:00  |8591364      |19:21:00 |8530812     |TA+b0igb  |26-31-j19-1   |Zürich, Kienastenwies         |10831          |0           |\n",
      "|830.TA.26-32-j19-1.12.H   |19           |18:36:00  |8591447      |18:37:00 |8502572     |TA+b004y  |26-32-j19-1   |Zürich, Strassenverkehrsamt   |10993          |0           |\n",
      "|3006.TA.26-31-j19-1.22.R  |2            |16:32:00  |8591361      |16:34:00 |8590318     |TA+b0iga  |26-31-j19-1   |Schlieren, Zentrum            |11177          |1           |\n",
      "|325.TA.26-525-j19-1.3.R   |6            |11:10:00  |8503871      |11:12:00 |8503782     |TA+b0344  |26-525-j19-1  |Bülach, Bahnhof               |11711          |1           |\n",
      "|429.TA.26-235-j19-1.5.R   |18           |19:28:00  |8574739      |19:29:00 |8502559     |TA+b0j3a  |26-235-j19-1  |Zürich Wiedikon, Bahnhof      |11878          |1           |\n",
      "|339.TA.26-525-j19-1.4.R   |6            |10:40:00  |8503871      |10:42:00 |8503782     |TA+b0343  |26-525-j19-1  |Bülach, Bahnhof               |11902          |1           |\n",
      "|577.TA.26-212-j19-1.1.R   |3            |09:31:00  |8583890      |09:34:00 |8573178     |TA+b08yp  |26-212-j19-1  |Affoltern a. A., Bahnhof      |12067          |1           |\n",
      "|766.TA.26-72-j19-1.6.R    |18           |18:25:00  |8594239      |18:26:00 |8580522     |TA+b0iga  |26-72-j19-1   |Zürich, Milchbuck             |12223          |1           |\n",
      "|1387.TA.26-LAF-j19-1.2.R  |1            |15:35:00  |8503081      |15:40:00 |8503082     |TA+b0fak  |26-LAF-j19-1  |Adliswil (Luftseilbahnstation)|124            |1           |\n",
      "|394.TA.26-201-j19-1.1.R   |7            |08:18:00  |8574658      |08:19:00 |8503699     |TA+b07xq  |26-201-j19-1  |Uitikon Waldegg, Bahnhof      |12608          |1           |\n",
      "|112.TA.26-830-j19-1.1.R   |1            |20:21:00  |8573503      |20:23:00 |8503565     |TA+b01o6  |26-830-j19-1  |Uster, Bahnhof                |12710          |1           |\n",
      "|435.TA.26-703-j19-1.3.H   |6            |07:56:00  |8591832      |07:59:00 |8590504     |TA+b002h  |26-703-j19-1  |Benglen, Bodenacher           |12816          |0           |\n",
      "|498.TA.26-201-j19-1.1.R   |7            |15:58:00  |8574658      |15:59:00 |8503699     |TA+b08yp  |26-201-j19-1  |Uitikon Waldegg, Bahnhof      |12957          |1           |\n",
      "|41.TA.26-703-j19-1.2.R    |1            |17:09:00  |8591825      |17:10:00 |8590504     |TA+b002h  |26-703-j19-1  |Zürich, Klusplatz             |13025          |1           |\n",
      "|12.TA.26-83-j19-1.1.R     |13           |19:26:00  |8594239      |19:27:00 |8580522     |TA+b004y  |26-83-j19-1   |Zürich, Milchbuck             |13122          |1           |\n",
      "|17.TA.26-83-j19-1.1.R     |12           |18:48:00  |8591060      |18:49:00 |8580522     |TA+b004y  |26-83-j19-1   |Zürich, Milchbuck             |13133          |1           |\n",
      "|513.TA.26-165-j19-1.5.R   |16           |14:22:00  |8591357      |14:23:00 |8587347     |TA+b0a0s  |26-165-j19-1  |Zürich Enge, Bahnhof          |13174          |1           |\n",
      "|981.TA.1-245-j19-1.6.H    |11           |15:17:00  |8572646      |15:18:00 |8502570     |TA+b022a  |1-245-j19-1   |Muri AG, Bahnhof              |13805          |0           |\n",
      "|428.TA.79-229-j19-1.1.R   |4            |13:42:00  |8579994      |13:43:00 |8573713     |TA+b022a  |79-229-j19-1  |Bonstetten-Wettswil, Bahnhof  |14313          |1           |\n",
      "|266.TA.26-200-j19-1.2.R   |1            |19:15:00  |8573178      |19:16:00 |8502953     |TA+b022a  |26-200-j19-1  |Zürich Enge, Bahnhof/Bederstr.|14340          |1           |\n",
      "|281.TA.26-200-j19-1.2.R   |1            |11:45:00  |8573178      |11:46:00 |8502953     |TA+b022a  |26-200-j19-1  |Zürich Enge, Bahnhof/Bederstr.|14392          |1           |\n",
      "|11.TA.79-220-j19-1.1.H    |2            |06:20:00  |8573712      |06:21:00 |8503692     |TA+b022a  |79-220-j19-1  |Bonstetten-Wettswil, Bahnhof  |14439          |0           |\n",
      "|1594.TA.26-225-j19-1.2.R  |1            |05:50:00  |8583047      |05:51:00 |8502771     |TA+b022a  |26-225-j19-1  |Affoltern a. A., Bahnhof      |14649          |1           |\n",
      "|349.TA.26-220-j19-1.2.R   |10           |08:11:00  |8583613      |08:13:00 |8502559     |TA+b022a  |26-220-j19-1  |Zürich Wiedikon, Bahnhof      |14697          |1           |\n",
      "|91.TA.26-501-j19-1.1.H    |2            |14:27:00  |8582005      |14:30:00 |8580619     |TA+b002h  |26-501-j19-1  |Bachenbülach, Bramenländli    |14839          |0           |\n",
      "|958.TA.26-140-j19-1.6.H   |6            |09:19:00  |8573163      |09:20:00 |8502776     |TA+b0nfj  |26-140-j19-1  |Langnau am Albis, Unterrengg  |1528           |0           |\n",
      "|292.TA.26-5-A-j19-1.106.H |5            |17:15:00  |8503001      |17:19:00 |8502220     |TA+b0008  |26-5-A-j19-1  |Zug                           |18564          |0           |\n",
      "|91.TA.26-6-A-j19-1.34.R   |8            |10:25:00  |8503020      |10:28:00 |8503000     |TA+b0nsl  |26-6-A-j19-1  |Uetikon                       |18637          |1           |\n",
      "|4.TA.26-765-j19-1.1.R     |6            |14:11:00  |8588316      |14:12:00 |8503700     |TA+b0003  |26-765-j19-1  |Zürich Flughafen, Bahnhof     |1903           |1           |\n",
      "|454.TA.26-12-j19-1.165.R  |5            |10:41:00  |8503020      |10:45:00 |8503000     |TA+b01ne  |26-12-j19-1   |Wil SG                        |19239          |1           |\n",
      "|307.TA.26-842-j19-1.2.R   |1            |20:20:00  |8503168      |20:22:00 |8503189     |TA+b0003  |26-842-j19-1  |Uster, Bahnhof                |1953           |1           |\n",
      "|149.TA.1-320-j19-1.10.H   |2            |13:48:00  |8503879      |13:49:00 |8502575     |TA+b001a  |1-320-j19-1   |Berikon-Widen, Bahnhof        |20075          |0           |\n",
      "|163.TA.1-320-j19-1.10.H   |2            |20:48:00  |8503879      |20:49:00 |8502575     |TA+b001a  |1-320-j19-1   |Berikon-Widen, Bahnhof        |20143          |0           |\n",
      "|707.TA.26-12-j19-1.285.H  |2            |12:09:00  |8503003      |12:12:00 |8503000     |TA+b04iu  |26-12-j19-1   |Brugg AG                      |20244          |0           |\n",
      "|321.TA.26-842-j19-1.2.R   |1            |17:50:00  |8503168      |17:52:00 |8503189     |TA+b0003  |26-842-j19-1  |Uster, Bahnhof                |2034           |1           |\n",
      "|49.TA.1-231-j19-1.7.R     |12           |15:12:00  |8502955      |15:15:00 |8502553     |TA+b0012  |1-231-j19-1   |Bremgarten AG, Bahnhof        |23156          |1           |\n",
      "|151.TA.26-12-A-j19-1.2.H  |1            |14:45:00  |8588553      |14:47:00 |8573205     |TA+b07y2  |26-12-A-j19-1 |Stettbach, Bahnhof            |2550           |0           |\n",
      "|893.TA.26-15-A-j19-1.7.H  |17           |05:36:00  |8576193      |05:37:00 |8503059     |TA+b0j3h  |26-15-A-j19-1 |Zürich Stadelhofen FB         |2888           |0           |\n",
      "|3.TA.26-726-j19-1.1.H     |4            |17:07:00  |8588096      |17:08:00 |8503154     |TA+b0003  |26-726-j19-1  |Schwerzenbach ZH, Bahnhof     |2895           |0           |\n",
      "|200.TA.26-131-j19-1.7.R   |6            |20:14:00  |8573552      |20:16:00 |8503855     |TA+b0fal  |26-131-j19-1  |Horgen, Bahnhof               |2930           |1           |\n",
      "|5.TA.26-131-j19-1.1.R     |6            |18:53:00  |8573552      |18:55:00 |8503855     |TA+b0dez  |26-131-j19-1  |Horgen, Bahnhof               |3121           |1           |\n",
      "|73.TA.1-322-j19-1.3.H     |2            |16:58:00  |8580847      |17:00:00 |8572747     |TA+b0008  |1-322-j19-1   |Bremgarten AG, Obertorplatz   |32247          |0           |\n",
      "|1289.TA.26-8-C-j19-1.8.R  |5            |09:37:00  |8530813      |09:39:00 |8503059     |TA+b0fe2  |26-8-C-j19-1  |Zürich, Hardturm              |3249           |1           |\n",
      "|30.TA.16-13-j19-1.5.H     |2            |12:44:00  |8503006      |12:51:00 |8503000     |TA+b0fue  |16-13-j19-1   |Zürich HB                     |3266           |0           |\n",
      "|852.TA.26-14-A-j19-1.10.R |4            |12:43:00  |8591390      |12:45:00 |8502572     |TA+b0003  |26-14-A-j19-1 |Zürich, Seebach               |3312           |1           |\n",
      "|289.TA.26-155-j19-1.3.H   |3            |20:48:00  |8590651      |20:50:00 |8503855     |TA+b0faq  |26-155-j19-1  |Horgen, Bahnhof               |3652           |0           |\n",
      "|373.TA.1-4-B-j19-1.14.R   |1            |13:22:00  |8590279      |13:23:00 |8590271     |TA+b088x  |1-4-B-j19-1   |Baden, Ruschebach             |40099          |1           |\n",
      "|383.TA.1-4-B-j19-1.14.R   |1            |14:37:00  |8590279      |14:38:00 |8590271     |TA+b088x  |1-4-B-j19-1   |Baden, Ruschebach             |40117          |1           |\n",
      "|192.TA.1-4-B-j19-1.11.H   |3            |13:18:00  |8590277      |13:19:00 |8590271     |TA+b04h3  |1-4-B-j19-1   |Spreitenbach, IKEA            |40130          |0           |\n",
      "|2973.TA.26-9-B-j19-1.25.H |29           |12:02:00  |8591341      |12:04:00 |8502572     |TA+b005h  |26-9-B-j19-1  |Zürich, Heuried               |4236           |0           |\n",
      "|2982.TA.26-9-B-j19-1.25.H |29           |09:10:00  |8591341      |09:12:00 |8502572     |TA+b005h  |26-9-B-j19-1  |Zürich, Heuried               |4249           |0           |\n",
      "|724.TA.26-225-j19-1.1.H   |3            |16:00:00  |8580268      |16:01:00 |8502574     |TA+b08yp  |26-225-j19-1  |Aeugst am Albis, Grossacher   |4276           |0           |\n",
      "|810.TA.26-11-A-j19-1.3.H  |24           |18:32:00  |8576193      |18:34:00 |8503059     |TA+b0j3c  |26-11-A-j19-1 |Zürich, Rehalp                |447            |0           |\n",
      "|60.TA.1-215-j19-1.1.H     |3            |05:26:00  |8572603      |05:27:00 |8502879     |TA+b07xq  |1-215-j19-1   |Affoltern a. A., Bahnhof      |4583           |0           |\n",
      "|712.TA.26-140-j19-1.5.R   |6            |13:37:00  |8573162      |13:38:00 |8502776     |TA+b0fal  |26-140-j19-1  |Thalwil, Zentrum              |4665           |1           |\n",
      "|1566.TA.1-245-j19-1.10.H  |17           |17:18:00  |8572646      |17:19:00 |8502570     |TA+b08yp  |1-245-j19-1   |Muri AG, Bahnhof              |4988           |0           |\n",
      "|114.TA.26-350-j19-1.4.R   |6            |12:28:00  |8573711      |12:31:00 |8502559     |TA+b0c5t  |26-350-j19-1  |Berikon-Widen, Bahnhof        |50068          |1           |\n",
      "|1068.TA.1-245-j19-1.6.H   |11           |10:47:00  |8572646      |10:48:00 |8502570     |TA+b08yp  |1-245-j19-1   |Muri AG, Bahnhof              |5057           |0           |\n",
      "|1483.TA.1-245-j19-1.10.H  |17           |07:47:00  |8572646      |07:48:00 |8502570     |TA+b08yp  |1-245-j19-1   |Muri AG, Bahnhof              |5082           |0           |\n",
      "|1296.TA.26-212-j19-1.2.H  |3            |17:59:00  |8573195      |18:09:00 |8502779     |TA+b04st  |26-212-j19-1  |Ottenbach, Post               |51             |0           |\n",
      "|1463.TA.26-215-j19-1.6.H  |2            |14:19:00  |8591341      |14:20:00 |8502572     |TA+b0nfg  |26-215-j19-1  |Affoltern a. A., Bahnhof      |5234           |0           |\n",
      "|1499.TA.26-215-j19-1.6.H  |2            |14:49:00  |8591341      |14:50:00 |8502572     |TA+b0j3a  |26-215-j19-1  |Affoltern a. A., Bahnhof      |5297           |0           |\n",
      "|1254.TA.26-201-j19-1.2.H  |4            |11:27:00  |8574739      |11:29:00 |8503709     |TA+b062q  |26-201-j19-1  |Schlieren, Rütistrasse        |5320           |0           |\n",
      "|166.TA.26-235-j19-1.3.H   |6            |13:28:00  |8573711      |13:31:00 |8502559     |TA+b062q  |26-235-j19-1  |Aeugst am Albis, Grossacher   |5408           |0           |\n",
      "|148.TA.26-725-j19-1.5.R   |6            |09:38:00  |8576129      |09:39:00 |8503150     |TA+b0003  |26-725-j19-1  |Volketswil, Dorf              |591            |1           |\n",
      "|800.TA.79-228-j19-1.3.H   |2            |18:48:00  |8573728      |18:49:00 |8502885     |TA+b0nfh  |79-228-j19-1  |Bonstetten-Wettswil, Bahnhof  |6106           |0           |\n",
      "|1260.TA.26-201-j19-1.2.H  |4            |17:57:00  |8574739      |17:59:00 |8503709     |TA+b07xq  |26-201-j19-1  |Schlieren, Rütistrasse        |6143           |0           |\n",
      "|847.TA.79-228-j19-1.3.H   |2            |13:18:00  |8573728      |13:19:00 |8502885     |TA+b0nfh  |79-228-j19-1  |Bonstetten-Wettswil, Bahnhof  |6227           |0           |\n",
      "|1093.TA.26-235-j19-1.16.H |6            |11:28:00  |8573711      |11:31:00 |8502559     |TA+b08yp  |26-235-j19-1  |Aeugst am Albis, Grossacher   |6252           |0           |\n",
      "|477.TA.26-145-j19-1.1.R   |14           |05:49:00  |8590829      |05:51:00 |8573167     |TA+b0faq  |26-145-j19-1  |Thalwil, Zentrum              |6380           |1           |\n",
      "|3719.TA.26-31-j19-1.26.R  |11           |07:53:00  |8591137      |07:54:00 |8530812     |TA+b0j3n  |26-31-j19-1   |Zürich, Farbhof               |6732           |1           |\n",
      "|320.TA.1-245-j19-1.1.R    |1            |09:39:00  |8572647      |09:41:00 |8502570     |TA+b062q  |1-245-j19-1   |Birmensdorf ZH, Bahnhof       |6768           |1           |\n",
      "|764.TA.1-245-j19-1.5.R    |18           |06:35:00  |8503699      |06:37:00 |8502559     |TA+b062q  |1-245-j19-1   |Zürich, Triemli               |6820           |1           |\n",
      "|4.TA.26-743-j19-1.1.H     |7            |08:44:00  |8590570      |08:45:00 |8590547     |TA+b0003  |26-743-j19-1  |Maur, See                     |6850           |0           |\n",
      "|661.TA.26-225-j19-1.1.H   |1            |20:57:00  |8573178      |20:58:00 |8502953     |TA+b04st  |26-225-j19-1  |Aeugst am Albis, Grossacher   |7              |0           |\n",
      "|1756.TA.26-225-j19-1.3.R  |1            |17:50:00  |8583047      |17:51:00 |8502771     |TA+b07xq  |26-225-j19-1  |Affoltern a. A., Bahnhof      |7054           |1           |\n",
      "|830.TA.26-215-j19-1.3.R   |26           |07:25:00  |8503699      |07:27:00 |8502559     |TA+b0nfh  |26-215-j19-1  |Zürich Wiedikon, Bahnhof      |7249           |1           |\n",
      "|737.TA.26-200-j19-1.3.R   |1            |06:45:00  |8573178      |06:46:00 |8502953     |TA+b0nfh  |26-200-j19-1  |Zürich Enge, Bahnhof/Bederstr.|7616           |1           |\n",
      "|642.TA.26-213-j19-1.2.R   |2            |11:11:00  |8572606      |11:13:00 |8572604     |TA+b08yp  |26-213-j19-1  |Affoltern a. A., Bahnhof      |8145           |1           |\n",
      "|1561.TA.26-9-B-j19-1.14.R |3            |15:48:00  |8591390      |15:49:00 |8502572     |TA+b0a0s  |26-9-B-j19-1  |Zürich, Paradeplatz           |8153           |1           |\n",
      "|430.TA.26-531-j19-1.4.H   |2            |08:25:00  |8582739      |08:27:00 |8503781     |TA+b0344  |26-531-j19-1  |Winkel, Seebüel               |8258           |0           |\n",
      "|787.TA.26-215-j19-1.3.R   |26           |09:58:00  |8503699      |10:00:00 |8502559     |TA+b07xq  |26-215-j19-1  |Zürich Wiedikon, Bahnhof      |8409           |1           |\n",
      "|823.TA.26-215-j19-1.3.R   |26           |19:28:00  |8503699      |19:30:00 |8502559     |TA+b08yp  |26-215-j19-1  |Zürich Wiedikon, Bahnhof      |8583           |1           |\n",
      "|626.TA.26-201-j19-1.1.R   |7            |17:28:00  |8574658      |17:29:00 |8503699     |TA+b0j3a  |26-201-j19-1  |Uitikon Waldegg, Bahnhof      |9196           |1           |\n",
      "|1361.TA.26-131-j19-1.9.H  |2            |13:15:00  |8589111      |13:16:00 |8573553     |TA+b002h  |26-131-j19-1  |Horgen, Aamüli                |9344           |0           |\n",
      "|1269.TA.26-145-j19-1.3.H  |14           |14:23:00  |8573552      |14:25:00 |8503855     |TA+b002h  |26-145-j19-1  |Horgen, Bahnhof               |9544           |0           |\n",
      "|870.TA.26-521-j19-1.5.R   |10           |18:31:00  |8573226      |18:33:00 |8506889     |TA+b0344  |26-521-j19-1  |Freienstein, Post             |9622           |1           |\n",
      "|431.TA.26-201-j19-1.1.R   |7            |20:28:00  |8574658      |20:29:00 |8503699     |TA+b062q  |26-201-j19-1  |Uitikon Waldegg, Bahnhof      |9835           |1           |\n",
      "|456.TA.26-201-j19-1.1.R   |7            |18:58:00  |8574658      |18:59:00 |8503699     |TA+b062q  |26-201-j19-1  |Uitikon Waldegg, Bahnhof      |9858           |1           |\n",
      "|592.TA.26-185-j19-1.3.R   |1            |06:20:00  |8590464      |06:22:00 |8590463     |TA+b0fam  |26-185-j19-1  |Zürich Wollishofen, Bahnhof   |10195          |1           |\n",
      "|514.TA.79-229-j19-1.1.R   |4            |18:42:00  |8579994      |18:43:00 |8573713     |TA+b0j3a  |79-229-j19-1  |Bonstetten-Wettswil, Bahnhof  |10417          |1           |\n",
      "|1050.TA.26-132-j19-1.4.R  |3            |14:53:00  |8590651      |14:55:00 |8503855     |TA+b002h  |26-132-j19-1  |Horgen, Bahnhof               |10481          |1           |\n",
      "|318.TA.26-220-j19-1.2.R   |10           |17:16:00  |8583613      |17:17:00 |8502559     |TA+b062q  |26-220-j19-1  |Zürich Wiedikon, Bahnhof      |10668          |1           |\n",
      "|799.TA.26-504-j19-1.4.R   |1            |15:31:00  |8573237      |15:33:00 |8573238     |TA+b0344  |26-504-j19-1  |Bülach, Bahnhof               |10805          |1           |\n",
      "|693.TA.1-245-j19-1.5.R    |18           |18:07:00  |8503699      |18:09:00 |8502559     |TA+b0nfg  |1-245-j19-1   |Zürich, Triemli               |10872          |1           |\n",
      "|849.TA.26-32-j19-1.12.H   |19           |18:15:00  |8591447      |18:16:00 |8502572     |TA+b0iga  |26-32-j19-1   |Zürich, Strassenverkehrsamt   |11002          |0           |\n",
      "|312.TA.26-220-j19-1.2.R   |10           |17:16:00  |8583613      |17:17:00 |8502559     |TA+b0nfh  |26-220-j19-1  |Zürich Wiedikon, Bahnhof      |11137          |1           |\n",
      "|426.TA.26-530-j19-1.2.R   |16           |12:45:00  |8582739      |12:46:00 |8503772     |TA+b0344  |26-530-j19-1  |Bülach, Bahnhof               |11218          |1           |\n",
      "|516.TA.26-501-j19-1.6.R   |3            |08:33:00  |8582005      |08:34:00 |8580617     |TA+b03q4  |26-501-j19-1  |Bülach, Bahnhof               |11698          |1           |\n",
      "|75.TA.26-227-j19-1.2.R    |1            |12:59:00  |8573718      |13:00:00 |8502950     |TA+b0nfg  |26-227-j19-1  |Bonstetten-Wettswil, Bahnhof  |11795          |1           |\n",
      "|3839.TA.26-31-j19-1.26.R  |10           |18:22:00  |8591233      |18:23:00 |8530812     |TA+b0igb  |26-31-j19-1   |Zürich, Farbhof               |11847          |1           |\n",
      "|437.TA.26-235-j19-1.5.R   |18           |12:28:00  |8574739      |12:29:00 |8502559     |TA+b0j3a  |26-235-j19-1  |Zürich Wiedikon, Bahnhof      |11992          |1           |\n",
      "|21.TA.79-10-B-j19-1.2.R   |3            |14:40:00  |8503052      |14:41:00 |8503051     |TA+b0003  |79-10-B-j19-1 |Zürich HB SZU                 |12860          |1           |\n",
      "|10.TA.26-78-j19-1.4.R     |2            |18:11:00  |8591167      |18:14:00 |8591056     |TA+b004y  |26-78-j19-1   |Zürich, Dunkelhölzli          |13180          |1           |\n",
      "|491.TA.79-229-j19-1.1.R   |4            |11:12:00  |8579994      |11:13:00 |8573713     |TA+b062q  |79-229-j19-1  |Bonstetten-Wettswil, Bahnhof  |13276          |1           |\n",
      "|175.TA.26-535-j19-1.2.R   |1            |12:45:00  |8590723      |12:47:00 |8573264     |TA+b0151  |26-535-j19-1  |Stadel b. N., Neuwis-Huus     |13429          |1           |\n",
      "|1481.TA.26-225-j19-1.2.R  |1            |05:28:00  |8583047      |05:29:00 |8502771     |TA+b062q  |26-225-j19-1  |Affoltern a. A., Bahnhof      |13655          |1           |\n",
      "|61.TA.26-210-j19-1.1.R    |3            |07:10:00  |8573726      |07:12:00 |8573713     |TA+b08yp  |26-210-j19-1  |Zürich Enge, Bahnhof/Bederstr.|13700          |1           |\n",
      "|1008.TA.26-200-j19-1.4.H  |9            |07:16:00  |8582723      |07:17:00 |8502953     |TA+b022a  |26-200-j19-1  |Affoltern a. A., Bahnhof      |13906          |0           |\n",
      "|806.TA.26-LAF-j19-1.1.H   |1            |12:20:00  |8503082      |12:25:00 |8503081     |TA+b0m56  |26-LAF-j19-1  |Felsenegg                     |1445           |0           |\n",
      "|509.TA.26-213-j19-1.1.R   |2            |19:11:00  |8572606      |19:13:00 |8572604     |TA+b022a  |26-213-j19-1  |Affoltern a. A., Bahnhof      |14639          |1           |\n",
      "|514.TA.26-213-j19-1.2.R   |2            |16:41:00  |8572606      |16:43:00 |8572604     |TA+b022a  |26-213-j19-1  |Affoltern a. A., Bahnhof      |14654          |1           |\n",
      "|309.TA.26-535-j19-1.3.H   |6            |16:38:00  |8573265      |16:40:00 |8573264     |TA+b002h  |26-535-j19-1  |Niederhasli, Bahnhof          |14861          |0           |\n",
      "|897.TA.26-LAF-j19-1.2.R   |1            |18:20:00  |8503081      |18:25:00 |8503082     |TA+b0m56  |26-LAF-j19-1  |Adliswil (Luftseilbahnstation)|1500           |1           |\n",
      "|313.TA.26-830-j19-1.2.H   |4            |09:35:00  |8503872      |09:36:00 |8503565     |TA+b0j3b  |26-830-j19-1  |Pfäffikon ZH, Bahnhof         |1695           |0           |\n",
      "|551.TA.26-33E-j19-1.4.H   |5            |09:33:00  |8591094      |09:34:00 |8530812     |TA+b0003  |26-33E-j19-1  |Zürich, Kirche Fluntern       |1773           |0           |\n",
      "|383.TA.26-3-j19-1.37.R    |1            |10:29:00  |8503020      |10:32:00 |8503000     |TA+b0fd2  |26-3-j19-1    |Wetzikon                      |18339          |1           |\n",
      "|398.TA.26-3-j19-1.37.R    |1            |13:29:00  |8503020      |13:32:00 |8503000     |TA+b0sm7  |26-3-j19-1    |Wetzikon                      |18351          |1           |\n",
      "|54.TA.26-7-A-j19-1.16.H   |2            |13:45:00  |8503003      |13:47:00 |8503000     |TA+b0dcq  |26-7-A-j19-1  |Winterthur                    |18750          |0           |\n",
      "|74.TA.26-7-A-j19-1.12.H   |2            |18:15:00  |8503003      |18:17:00 |8503000     |TA+b0008  |26-7-A-j19-1  |Winterthur                    |18768          |0           |\n",
      "|132.TA.26-9-A-j19-1.57.R  |6            |07:19:00  |8503020      |07:23:00 |8503000     |TA+b0003  |26-9-A-j19-1  |Uster                         |18925          |1           |\n",
      "|773.TA.26-15-A-j19-1.6.H  |12           |17:59:00  |8576193      |18:00:00 |8503059     |TA+b0j3c  |26-15-A-j19-1 |Zürich Stadelhofen FB         |1897           |0           |\n",
      "|353.TA.26-12-j19-1.126.R  |5            |14:11:00  |8503020      |14:15:00 |8503000     |TA+b0hyy  |26-12-j19-1   |Schaffhausen                  |19253          |1           |\n",
      "|763.TA.26-140-j19-1.6.H   |6            |07:19:00  |8573163      |07:20:00 |8502776     |TA+b0nfm  |26-140-j19-1  |Langnau am Albis, Unterrengg  |1957           |0           |\n",
      "|53.TA.1-320-j19-1.4.R     |2            |14:33:00  |8580728      |14:34:00 |8502575     |TA+b001a  |1-320-j19-1   |Baden, Postautostation        |20098          |1           |\n",
      "|739.TA.26-24-j19-1.265.H  |13           |10:10:00  |8502209      |10:13:00 |8502208     |TA+b0hqg  |26-24-j19-1   |Zug                           |20435          |0           |\n",
      "|288.TA.26-652-j19-1.7.R   |5            |16:59:00  |8575921      |17:00:00 |8503370     |TA+b05sv  |26-652-j19-1  |Illnau, Bahnhof               |2161           |1           |\n",
      "|193.TA.26-10-B-j19-1.9.H  |1            |10:50:00  |8503090      |10:53:00 |8503051     |TA+b0jyq  |26-10-B-j19-1 |Uetliberg                     |23535          |0           |\n",
      "|184.TA.26-4-B-j19-1.9.R   |8            |07:54:00  |8503087      |07:58:00 |8503011     |TA+b0jy5  |26-4-B-j19-1  |Zürich Wiedikon               |30468          |1           |\n",
      "|1285.TA.26-80-j19-1.8.R   |1            |14:14:00  |8591401      |14:16:00 |8503610     |TA+b0003  |26-80-j19-1   |Zürich Oerlikon, Bahnhof Nord |3057           |1           |\n",
      "|3759.TA.26-8-C-j19-1.27.H |18           |08:20:00  |8576193      |08:22:00 |8503059     |TA+b0fe2  |26-8-C-j19-1  |Zürich, Klusplatz             |307            |0           |\n",
      "|128.TA.26-131-j19-1.7.R   |6            |18:44:00  |8573552      |18:46:00 |8503855     |TA+b0far  |26-131-j19-1  |Horgen, Bahnhof               |3167           |1           |\n",
      "|1.TA.1-322-j19-1.1.H      |2            |05:58:00  |8580847      |06:00:00 |8572747     |TA+b001a  |1-322-j19-1   |Bremgarten AG, Obertorplatz   |32201          |0           |\n",
      "|7.TA.1-331-j19-1.2.H      |2            |08:52:00  |8503879      |08:56:00 |8502575     |TA+b0008  |1-331-j19-1   |Widen, Dorf                   |33115          |0           |\n",
      "|55.TA.26-961-A-j19-1.1.R  |10           |10:52:00  |8587966      |10:53:00 |8587965     |TA+b0003  |26-961-A-j19-1|Erlenbach ZH, Bahnhof         |3491           |1           |\n",
      "|766.TA.1-245-j19-1.5.R    |18           |07:05:00  |8503699      |07:07:00 |8502559     |TA+b04st  |1-245-j19-1   |Zürich, Triemli               |3895           |1           |\n",
      "|51.TA.26-726-j19-1.2.R    |9            |17:59:00  |8576129      |18:01:00 |8503150     |TA+b0003  |26-726-j19-1  |Volketswil, Dorf              |3898           |1           |\n",
      "|372.TA.26-220-j19-1.2.R   |10           |07:11:00  |8583613      |07:13:00 |8502559     |TA+b04st  |26-220-j19-1  |Zürich Wiedikon, Bahnhof      |3902           |1           |\n",
      "|784.TA.26-225-j19-1.1.H   |3            |12:30:00  |8580268      |12:31:00 |8502574     |TA+b0nfh  |26-225-j19-1  |Aeugst am Albis, Grossacher   |3993           |0           |\n",
      "|430.TA.1-4-B-j19-1.15.R   |1            |16:30:00  |8590279      |16:31:00 |8590271     |TA+b08dw  |1-4-B-j19-1   |Baden, Bahnhof West           |40145          |1           |\n",
      "|1751.TA.26-9-B-j19-1.17.H |29           |07:02:00  |8591341      |07:04:00 |8502572     |TA+b005h  |26-9-B-j19-1  |Zürich, Triemli               |4262           |0           |\n",
      "|1367.TA.26-212-j19-1.2.H  |3            |06:59:00  |8573195      |07:09:00 |8502779     |TA+b07xq  |26-212-j19-1  |Ottenbach, Post               |4464           |0           |\n",
      "|81.TA.26-650-j19-1.6.R    |12           |07:40:00  |8575943      |07:41:00 |8503374     |TA+b0003  |26-650-j19-1  |Kemptthal, Bahnhof            |4594           |1           |\n",
      "|1229.TA.26-32-j19-1.12.H  |19           |18:07:00  |8591447      |18:09:00 |8502572     |TA+b0ig5  |26-32-j19-1   |Zürich, Strassenverkehrsamt   |475            |0           |\n",
      "|1329.TA.79-229-j19-1.2.H  |3            |08:30:00  |8579994      |08:31:00 |8503692     |TA+b07xq  |79-229-j19-1  |Wettswil a.A., Heidenchilen   |5048           |0           |\n",
      "|1067.TA.1-245-j19-1.6.H   |11           |11:17:00  |8572646      |11:18:00 |8502570     |TA+b08yp  |1-245-j19-1   |Muri AG, Bahnhof              |5052           |0           |\n",
      "|615.TA.26-67-j19-1.1.R    |1            |13:43:00  |8591341      |13:44:00 |8502572     |TA+b0003  |26-67-j19-1   |Zürich, Dunkelhölzli          |5134           |1           |\n",
      "|942.TA.26-235-j19-1.9.H   |6            |16:44:00  |8573711      |16:47:00 |8502559     |TA+b062q  |26-235-j19-1  |Stallikon, Aegerten           |5450           |0           |\n",
      "|143.TA.1-17-A-j19-1.9.R   |3            |18:35:00  |8502270      |18:36:00 |8502186     |TA+b04cm  |1-17-A-j19-1  |Wohlen AG                     |574            |1           |\n",
      "|61.TA.26-67-j19-1.1.R     |1            |11:35:00  |8591341      |11:37:00 |8502572     |TA+b0003  |26-67-j19-1   |Zürich, Dunkelhölzli          |5986           |1           |\n",
      "|509.TA.26-13-j19-1.5.H    |4            |18:40:00  |8591446      |18:42:00 |8576240     |TA+b004y  |26-13-j19-1   |Zürich, Escher-Wyss-Platz     |6033           |0           |\n",
      "|203.TA.1-17-A-j19-1.17.H  |10           |07:04:00  |8502278      |07:06:00 |8502186     |TA+b04df  |1-17-A-j19-1  |Dietikon                      |613            |0           |\n",
      "|1499.TA.26-200-j19-1.4.H  |9            |09:16:00  |8582723      |09:17:00 |8502953     |TA+b08yp  |26-200-j19-1  |Affoltern a. A., Bahnhof      |6348           |0           |\n",
      "|922.TA.26-153-j19-1.2.R   |4            |07:07:00  |8590465      |07:08:00 |8590464     |TA+b0074  |26-153-j19-1  |Adliswil, Bahnhof             |6402           |1           |\n",
      "|950.TA.26-525-j19-1.10.H  |1            |19:15:00  |8573260      |19:16:00 |8503782     |TA+b0a0e  |26-525-j19-1  |Oberglatt ZH, Bahnhof         |6464           |0           |\n",
      "|873.TA.26-525-j19-1.10.H  |1            |17:15:00  |8573260      |17:16:00 |8503782     |TA+b0344  |26-525-j19-1  |Oberglatt ZH, Bahnhof         |6758           |0           |\n",
      "|67.TA.26-701-j19-1.4.R    |4            |16:12:00  |8591261      |16:14:00 |8591107     |TA+b0fe4  |26-701-j19-1  |Zürich, Klusplatz             |7013           |1           |\n",
      "|173.TA.26-235-j19-1.3.H   |6            |12:28:00  |8573711      |12:31:00 |8502559     |TA+b0nfg  |26-235-j19-1  |Aeugst am Albis, Grossacher   |7014           |0           |\n",
      "|1540.TA.26-121-j19-1.13.H |5            |13:23:00  |8590651      |13:25:00 |8503855     |TA+b07jb  |26-121-j19-1  |Horgen, Spital                |7093           |0           |\n",
      "|932.TA.26-236-j19-1.6.H   |6            |13:58:00  |8573711      |14:01:00 |8502559     |TA+b04st  |26-236-j19-1  |Hausen am Albis, Post         |718            |0           |\n",
      "|2063.TA.26-11-A-j19-1.27.R|9            |20:42:00  |8530813      |20:44:00 |8503059     |TA+b004y  |26-11-A-j19-1 |Zürich, Auzelg                |7316           |1           |\n",
      "|829.TA.79-221-j19-1.2.H   |16           |20:48:00  |8573712      |20:49:00 |8503692     |TA+b0nfh  |79-221-j19-1  |Bonstetten-Wettswil, Bahnhof  |7541           |0           |\n",
      "|322.TA.26-210-j19-1.3.H   |6            |19:34:00  |8573728      |19:35:00 |8502885     |TA+b0nfh  |26-210-j19-1  |Bonstetten, Dorfplatz         |7544           |0           |\n",
      "|777.TA.1-245-j19-1.5.R    |18           |18:37:00  |8503699      |18:39:00 |8502559     |TA+b0nfh  |1-245-j19-1   |Zürich, Triemli               |7574           |1           |\n",
      "|26.TA.30-170-Y-j19-1.1.H  |2            |18:35:00  |8502209      |18:41:00 |8502208     |TA+b07pb  |30-170-Y-j19-1|Horgen Oberdorf               |79469          |0           |\n",
      "|307.TA.26-531-j19-1.1.H   |2            |09:35:00  |8582739      |09:37:00 |8503781     |TA+b0343  |26-531-j19-1  |Zürich Flughafen, Bahnhof     |8082           |0           |\n",
      "|654.TA.26-213-j19-1.1.R   |2            |09:11:00  |8572606      |09:13:00 |8572604     |TA+b08yp  |26-213-j19-1  |Affoltern a. A., Bahnhof      |8179           |1           |\n",
      "|96.TA.79-210-j19-1.2.H    |2            |16:04:00  |8573728      |16:05:00 |8502885     |TA+b0nfg  |79-210-j19-1  |Bonstetten, Dorfplatz         |8279           |0           |\n",
      "|603.TA.26-523-j19-1.2.H   |2            |19:04:00  |8573225      |19:05:00 |8506889     |TA+b0a0e  |26-523-j19-1  |Embrach-Rorbas, Bahnhof       |8502           |0           |\n",
      "|8.TA.26-510-j19-1.1.H     |17           |20:22:00  |8573261      |20:25:00 |8503860     |TA+b0151  |26-510-j19-1  |Stadel b. N., Neuwis-Huus     |8701           |0           |\n",
      "|848.TA.26-525-j19-1.10.H  |1            |05:45:00  |8573260      |05:46:00 |8503782     |TA+b0343  |26-525-j19-1  |Oberglatt ZH, Bahnhof         |8744           |0           |\n",
      "|1486.TA.26-121-j19-1.13.H |5            |15:23:00  |8590651      |15:25:00 |8503855     |TA+b002h  |26-121-j19-1  |Horgen, Spital                |9043           |0           |\n",
      "|672.TA.26-213-j19-1.2.R   |2            |06:41:00  |8572606      |06:43:00 |8572604     |TA+b0j3a  |26-213-j19-1  |Affoltern a. A., Bahnhof      |9109           |1           |\n",
      "|848.TA.26-121-j19-1.7.R   |2            |19:00:00  |8594182      |19:02:00 |8503855     |TA+b002h  |26-121-j19-1  |Wädenswil, Bahnhof            |9686           |1           |\n",
      "|641.TA.26-200-j19-1.3.R   |1            |08:45:00  |8573178      |08:46:00 |8502953     |TA+b0j3a  |26-200-j19-1  |Zürich Enge, Bahnhof/Bederstr.|9911           |1           |\n",
      "|778.TA.26-140-j19-1.6.H   |6            |13:19:00  |8573163      |13:20:00 |8502776     |TA+b0nfm  |26-140-j19-1  |Langnau am Albis, Unterrengg  |1043           |0           |\n",
      "|116.TA.26-227-j19-1.2.R   |1            |09:59:00  |8573718      |10:00:00 |8502950     |TA+b07xq  |26-227-j19-1  |Bonstetten-Wettswil, Bahnhof  |10452          |1           |\n",
      "|595.TA.26-215-j19-1.3.R   |26           |07:25:00  |8503699      |07:27:00 |8502559     |TA+b0nfg  |26-215-j19-1  |Zürich Wiedikon, Bahnhof      |10829          |1           |\n",
      "|298.TA.26-830-j19-1.2.H   |4            |12:35:00  |8503872      |12:36:00 |8503565     |TA+b01o6  |26-830-j19-1  |Pfäffikon ZH, Bahnhof         |11463          |0           |\n",
      "|265.TA.26-523-j19-1.1.R   |1            |16:53:00  |8506897      |16:54:00 |8506889     |TA+b0343  |26-523-j19-1  |Oberembrach, Dorf             |11510          |1           |\n",
      "|3737.TA.26-31-j19-1.26.R  |10           |16:37:00  |8591233      |16:38:00 |8530812     |TA+b0iga  |26-31-j19-1   |Zürich, Farbhof               |12024          |1           |\n",
      "|593.TA.26-501-j19-1.6.R   |3            |12:03:00  |8582005      |12:04:00 |8580617     |TA+b0151  |26-501-j19-1  |Bülach, Bahnhof               |12043          |1           |\n",
      "|97.TA.26-67-j19-1.1.R     |1            |17:20:00  |8591341      |17:22:00 |8502572     |TA+b0iga  |26-67-j19-1   |Zürich, Dunkelhölzli          |12386          |1           |\n",
      "|12.TA.26-4-B-j19-1.1.R    |7            |07:40:00  |8503093      |07:42:00 |8503086     |TA+b0008  |26-4-B-j19-1  |Zürich HB SZU                 |12466          |1           |\n",
      "|1031.TA.26-520-j19-1.3.R  |10           |07:49:00  |8573226      |07:51:00 |8506889     |TA+b0344  |26-520-j19-1  |Embrach-Rorbas, Bahnhof       |12508          |1           |\n",
      "|49.TA.79-10-B-j19-1.3.H   |2            |08:36:00  |8503090      |08:39:00 |8503051     |TA+b0003  |79-10-B-j19-1 |Zürich Triemli                |12789          |0           |\n",
      "|278.TA.26-523-j19-1.1.R   |1            |06:53:00  |8506897      |06:54:00 |8506889     |TA+b0343  |26-523-j19-1  |Oberembrach, Dorf             |13071          |1           |\n",
      "|540.TA.79-229-j19-1.1.R   |4            |07:41:00  |8579994      |07:42:00 |8573713     |TA+b062q  |79-229-j19-1  |Bonstetten-Wettswil, Bahnhof  |13571          |1           |\n",
      "|680.TA.26-236-j19-1.4.H   |6            |19:58:00  |8573711      |20:01:00 |8502559     |TA+b022a  |26-236-j19-1  |Hausen am Albis, Post         |14116          |0           |\n",
      "|557.TA.79-228-j19-1.3.H   |2            |09:48:00  |8573728      |09:49:00 |8502885     |TA+b022a  |79-228-j19-1  |Bonstetten-Wettswil, Bahnhof  |14164          |0           |\n",
      "|123.TA.79-221-j19-1.1.H   |14           |08:19:00  |8573712      |08:20:00 |8503692     |TA+b022a  |79-221-j19-1  |Bonstetten-Wettswil, Bahnhof  |14227          |0           |\n",
      "|548.TA.26-215-j19-1.3.R   |26           |14:28:00  |8503699      |14:30:00 |8502559     |TA+b022a  |26-215-j19-1  |Zürich Wiedikon, Bahnhof      |14244          |1           |\n",
      "|1669.TA.26-LAF-j19-1.2.R  |1            |20:20:00  |8503081      |20:25:00 |8503082     |TA+b0m56  |26-LAF-j19-1  |Adliswil (Luftseilbahnstation)|1425           |1           |\n",
      "|238.TA.1-245-j19-1.1.R    |1            |10:09:00  |8572647      |10:11:00 |8502570     |TA+b022a  |1-245-j19-1   |Birmensdorf ZH, Bahnhof       |14353          |1           |\n",
      "|240.TA.1-245-j19-1.1.R    |1            |09:09:00  |8572647      |09:11:00 |8502570     |TA+b022a  |1-245-j19-1   |Birmensdorf ZH, Bahnhof       |14361          |1           |\n",
      "|123.TA.26-220-j19-1.1.H   |6            |17:11:00  |8573711      |17:14:00 |8502559     |TA+b022a  |26-220-j19-1  |Bonstetten-Wettswil, Bahnhof  |14432          |0           |\n",
      "|443.TA.26-235-j19-1.5.R   |18           |17:28:00  |8574739      |17:29:00 |8502559     |TA+b022a  |26-235-j19-1  |Zürich Wiedikon, Bahnhof      |14443          |1           |\n",
      "|1476.TA.26-LAF-j19-1.2.R  |1            |12:35:00  |8503081      |12:40:00 |8503082     |TA+b0m5s  |26-LAF-j19-1  |Adliswil (Luftseilbahnstation)|169            |1           |\n",
      "|2548.TA.26-14-A-j19-1.25.H|22           |08:14:00  |8591341      |08:15:00 |8502572     |TA+b0j3n  |26-14-A-j19-1 |Zürich, Triemli               |1706           |0           |\n",
      "|54.TA.26-5-A-j19-1.28.R   |5            |09:07:00  |8502229      |09:09:00 |8502220     |TA+b056c  |26-5-A-j19-1  |Pfäffikon SZ                  |18533          |1           |\n",
      "|380.TA.26-156-j19-1.2.H   |12           |13:29:00  |8590813      |13:31:00 |8573167     |TA+b0far  |26-156-j19-1  |Thalwil, Zentrum              |1880           |0           |\n",
      "|158.TA.26-15-j19-1.41.H   |2            |18:17:00  |8503003      |18:20:00 |8503000     |TA+b0008  |26-15-j19-1   |Niederweningen                |19568          |0           |\n",
      "|783.TA.26-15-A-j19-1.6.H  |12           |16:44:00  |8576193      |16:45:00 |8503059     |TA+b0j3c  |26-15-A-j19-1 |Zürich Stadelhofen FB         |1987           |0           |\n",
      "|53.TA.26-19-j19-1.16.H    |2            |09:10:00  |8503001      |09:15:00 |8503000     |TA+b0119  |26-19-j19-1   |Effretikon                    |19933          |0           |\n",
      "|1259.TA.26-213-j19-1.3.H  |4            |15:16:00  |8572606      |15:19:00 |8502779     |TA+b04st  |26-213-j19-1  |Ottenbach, Post               |205            |0           |\n",
      "|169.TA.21-75-j19-1.48.R   |1            |17:35:00  |8503000      |17:44:00 |8503016     |TA+b0reo  |21-75-j19-1   |Konstanz                      |2129           |1           |\n",
      "|81.TA.1-231-j19-1.9.H     |9            |19:19:00  |8572603      |19:20:00 |8502879     |TA+b001a  |1-231-j19-1   |Jonen, Post                   |23171          |0           |\n",
      "|1750.TA.26-225-j19-1.2.R  |1            |11:50:00  |8583047      |11:51:00 |8502771     |TA+b04st  |26-225-j19-1  |Affoltern a. A., Bahnhof      |2402           |1           |\n",
      "|907.TA.26-14-A-j19-1.10.R |4            |19:58:00  |8591390      |20:00:00 |8502572     |TA+b0d7h  |26-14-A-j19-1 |Zürich, Seebach               |2477           |1           |\n",
      "|696.TA.26-213-j19-1.1.R   |2            |13:41:00  |8572606      |13:43:00 |8572604     |TA+b04st  |26-213-j19-1  |Affoltern a. A., Bahnhof      |2495           |1           |\n",
      "|209.TA.26-70-j19-1.44.H   |1            |12:46:00  |8503202      |12:56:00 |8503000     |TA+b08ou  |26-70-j19-1   |Zürich HB                     |2644           |0           |\n",
      "|18.TA.26-650-j19-1.3.H    |2            |07:27:00  |8588279      |07:29:00 |8503378     |TA+b0003  |26-650-j19-1  |Effretikon, Bahnhof           |2789           |0           |\n",
      "|324.TA.26-816-j19-1.5.R   |1            |08:07:00  |8587010      |08:08:00 |8503254     |TA+b0003  |26-816-j19-1  |Uster, Bahnhof                |2808           |1           |\n",
      "|1887.TA.26-3-A-j19-1.8.R  |2            |13:34:00  |8591199      |13:36:00 |8503083     |TA+b0grl  |26-3-A-j19-1  |Zürich, Albisrieden           |2915           |1           |\n",
      "|691.TA.26-32-j19-1.10.R   |6            |13:57:00  |8591195      |13:58:00 |8502572     |TA+b0003  |26-32-j19-1   |Zürich, Holzerhurd            |3179           |1           |\n",
      "|835.TA.26-14-A-j19-1.10.R |4            |13:21:00  |8591390      |13:22:00 |8502572     |TA+b0003  |26-14-A-j19-1 |Zürich, Seebach               |3241           |1           |\n",
      "|122.TA.26-456-j19-1.2.R   |10           |11:48:00  |8576283      |11:50:00 |8573277     |TA+b0003  |26-456-j19-1  |Dielsdorf, Bahnhof            |3299           |1           |\n",
      "|3095.TA.26-9-B-j19-1.25.H |29           |19:40:00  |8591341      |19:41:00 |8502572     |TA+b0j3g  |26-9-B-j19-1  |Zürich, Heuried               |334            |0           |\n",
      "|3.TA.1-338-j19-1.1.H      |3            |06:53:00  |8576164      |06:54:00 |8576480     |TA+b0008  |1-338-j19-1   |Bremgarten AG, Bahnhof        |33805          |0           |\n",
      "|759.TA.79-221-j19-1.2.H   |16           |15:48:00  |8573712      |15:49:00 |8503692     |TA+b04st  |79-221-j19-1  |Bonstetten-Wettswil, Bahnhof  |3553           |0           |\n",
      "|97.TA.26-655-j19-1.7.H    |2            |08:22:00  |8503381      |08:24:00 |8503374     |TA+b0003  |26-655-j19-1  |Effretikon, Bahnhof           |3786           |0           |\n",
      "|936.TA.26-132-j19-1.3.R   |3            |20:23:00  |8590651      |20:25:00 |8503855     |TA+b0nfk  |26-132-j19-1  |Horgen, Bahnhof               |3848           |1           |\n",
      "|765.TA.1-245-j19-1.5.R    |18           |07:35:00  |8503699      |07:37:00 |8502559     |TA+b04st  |1-245-j19-1   |Zürich, Triemli               |3875           |1           |\n",
      "|96.TA.1-4-B-j19-1.10.H    |3            |11:18:00  |8590277      |11:19:00 |8590271     |TA+b04gn  |1-4-B-j19-1   |Spreitenbach, IKEA            |40086          |0           |\n",
      "|1356.TA.26-212-j19-1.2.H  |3            |12:29:00  |8573195      |12:39:00 |8502779     |TA+b07xq  |26-212-j19-1  |Ottenbach, Post               |4417           |0           |\n",
      "|1432.TA.26-200-j19-1.4.H  |9            |14:11:00  |8582723      |14:12:00 |8502953     |TA+b0nfh  |26-200-j19-1  |Affoltern a. A., Bahnhof      |4465           |0           |\n",
      "|1482.TA.26-215-j19-1.6.H  |2            |06:49:00  |8591341      |06:50:00 |8502572     |TA+b07xq  |26-215-j19-1  |Affoltern a. A., Bahnhof      |4569           |0           |\n",
      "|1392.TA.26-213-j19-1.3.H  |4            |12:16:00  |8572606      |12:19:00 |8502779     |TA+b08yp  |26-213-j19-1  |Ottenbach, Post               |4672           |0           |\n",
      "|802.TA.26-225-j19-1.1.H   |3            |09:00:00  |8580268      |09:01:00 |8502574     |TA+b0nfg  |26-225-j19-1  |Aeugst am Albis, Grossacher   |4690           |0           |\n",
      "|1407.TA.26-213-j19-1.3.H  |4            |06:16:00  |8572606      |06:19:00 |8502779     |TA+b08yp  |26-213-j19-1  |Ottenbach, Post               |4719           |0           |\n",
      "|87.TA.26-650-j19-1.6.R    |12           |06:10:00  |8575943      |06:11:00 |8503374     |TA+b0003  |26-650-j19-1  |Kemptthal, Bahnhof            |4736           |1           |\n",
      "|1378.TA.26-212-j19-1.2.H  |3            |18:29:00  |8573195      |18:39:00 |8502779     |TA+b0nfg  |26-212-j19-1  |Ottenbach, Post               |4776           |0           |\n",
      "|625.TA.26-145-j19-1.1.R   |14           |14:19:00  |8590829      |14:21:00 |8573167     |TA+b0nfk  |26-145-j19-1  |Thalwil, Zentrum              |4782           |1           |\n",
      "|843.TA.26-225-j19-1.1.H   |3            |12:00:00  |8580268      |12:01:00 |8502574     |TA+b0j3a  |26-225-j19-1  |Aeugst am Albis, Grossacher   |4818           |0           |\n",
      "|781.TA.26-223-j19-1.2.H   |4            |15:27:00  |8573169      |15:29:00 |8502758     |TA+b0j3a  |26-223-j19-1  |Hausen am Albis, Post         |4980           |0           |\n",
      "|10.TA.26-350-j19-1.1.H    |2            |12:34:00  |8572599      |12:36:00 |8502560     |TA+b0c5t  |26-350-j19-1  |Zürich Wiedikon, Bahnhof      |50073          |0           |\n",
      "|1480.TA.1-245-j19-1.10.H  |17           |09:17:00  |8572646      |09:18:00 |8502570     |TA+b08yp  |1-245-j19-1   |Muri AG, Bahnhof              |5071           |0           |\n",
      "|1484.TA.1-245-j19-1.10.H  |17           |07:17:00  |8572646      |07:18:00 |8502570     |TA+b08yp  |1-245-j19-1   |Muri AG, Bahnhof              |5085           |0           |\n",
      "|1496.TA.26-215-j19-1.6.H  |2            |16:19:00  |8591341      |16:20:00 |8502572     |TA+b0j3a  |26-215-j19-1  |Affoltern a. A., Bahnhof      |5291           |0           |\n",
      "|3016.TA.26-9-B-j19-1.25.H |29           |17:25:00  |8591341      |17:26:00 |8502572     |TA+b004h  |26-9-B-j19-1  |Zürich, Heuried               |5434           |0           |\n",
      "|123.TA.1-17-A-j19-1.9.R   |3            |13:35:00  |8502270      |13:36:00 |8502186     |TA+b04cm  |1-17-A-j19-1  |Wohlen AG                     |544            |1           |\n",
      "|744.TA.26-236-j19-1.4.H   |6            |08:58:00  |8573711      |09:01:00 |8502559     |TA+b062q  |26-236-j19-1  |Hausen am Albis, Post         |5543           |0           |\n",
      "|66.TA.1-17-A-j19-1.5.H    |10           |19:49:00  |8502278      |19:51:00 |8502186     |TA+b04cm  |1-17-A-j19-1  |Dietikon                      |577            |0           |\n",
      "|70.TA.1-17-A-j19-1.5.H    |10           |20:49:00  |8502278      |20:51:00 |8502186     |TA+b04cm  |1-17-A-j19-1  |Dietikon                      |581            |0           |\n",
      "|1767.TA.26-225-j19-1.3.R  |1            |07:50:00  |8583047      |07:51:00 |8502771     |TA+b0nfh  |26-225-j19-1  |Affoltern a. A., Bahnhof      |6217           |1           |\n",
      "|427.TA.26-145-j19-1.1.R   |14           |06:49:00  |8590829      |06:51:00 |8573167     |TA+b0fal  |26-145-j19-1  |Thalwil, Zentrum              |6264           |1           |\n",
      "|71.TA.26-140-j19-1.2.R    |2            |06:19:00  |8573162      |06:20:00 |8502776     |TA+b0far  |26-140-j19-1  |Thalwil, Zentrum              |6278           |1           |\n",
      "|914.TA.26-236-j19-1.6.H   |6            |11:58:00  |8573711      |12:01:00 |8502559     |TA+b08yp  |26-236-j19-1  |Hausen am Albis, Post         |6605           |0           |\n",
      "|1194.TA.26-201-j19-1.2.H  |4            |07:12:00  |8574739      |07:14:00 |8503709     |TA+b08yp  |26-201-j19-1  |Schlieren, Rütistrasse        |6687           |0           |\n",
      "|328.TA.26-531-j19-1.1.H   |2            |15:35:00  |8582739      |15:37:00 |8503781     |TA+b0344  |26-531-j19-1  |Zürich Flughafen, Bahnhof     |6949           |0           |\n",
      "|1585.TA.26-11-A-j19-1.26.R|10           |20:28:00  |8591314      |20:30:00 |8580449     |TA+b0a0s  |26-11-A-j19-1 |Zürich, Auzelg                |7364           |1           |\n",
      "|904.TA.26-3-A-j19-1.2.H   |18           |12:00:00  |8591202      |12:02:00 |8503083     |TA+b0003  |26-3-A-j19-1  |Zürich, Klusplatz             |740            |0           |\n",
      "|1491.TA.26-223-j19-1.4.R  |4            |13:08:00  |8583855      |13:19:00 |8573178     |TA+b07xq  |26-223-j19-1  |Affoltern a. A., Bahnhof      |7402           |1           |\n",
      "|2590.TA.26-14-A-j19-1.25.H|22           |19:51:00  |8591341      |19:53:00 |8502572     |TA+b0j3h  |26-14-A-j19-1 |Zürich, Triemli               |747            |0           |\n",
      "|863.TA.26-121-j19-1.8.R   |2            |17:30:00  |8594182      |17:32:00 |8503855     |TA+b0ig9  |26-121-j19-1  |Wädenswil, Bahnhof            |7746           |1           |\n",
      "|2393.TA.26-11-A-j19-1.31.R|2            |17:35:00  |8591142      |17:37:00 |8530811     |TA+b0a0s  |26-11-A-j19-1 |Zürich Tiefenbrunnen, Bahnhof |7829           |1           |\n",
      "|771.TA.79-228-j19-1.3.H   |2            |13:18:00  |8573728      |13:19:00 |8502885     |TA+b08yp  |79-228-j19-1  |Bonstetten-Wettswil, Bahnhof  |7976           |0           |\n",
      "|311.TA.26-9-B-j19-1.1.R   |2            |16:10:00  |8591390      |16:11:00 |8502572     |TA+b004h  |26-9-B-j19-1  |Zürich, Hirzenbach            |8053           |1           |\n",
      "|974.TA.26-14-A-j19-1.10.R |4            |17:21:00  |8591390      |17:22:00 |8502572     |TA+b0iga  |26-14-A-j19-1 |Zürich, Seebach               |8183           |1           |\n",
      "|1927.TA.26-7-B-j19-1.10.R |14           |14:00:00  |8591262      |14:02:00 |8587348     |TA+b0a0s  |26-7-B-j19-1  |Stettbach, Bahnhof            |8680           |1           |\n",
      "|680.TA.26-215-j19-1.3.R   |26           |15:28:00  |8503699      |15:30:00 |8502559     |TA+b08yp  |26-215-j19-1  |Zürich Wiedikon, Bahnhof      |8691           |1           |\n",
      "|611.TA.26-201-j19-1.1.R   |7            |07:18:00  |8574658      |07:19:00 |8503699     |TA+b0nfg  |26-201-j19-1  |Uitikon Waldegg, Bahnhof      |9028           |1           |\n",
      "|23.TA.1-305-j19-1.1.R     |11           |07:21:00  |8590219      |07:22:00 |8587020     |TA+b0003  |1-305-j19-1   |Dietikon, Bahnhof             |9296           |1           |\n",
      "|1369.TA.26-140-j19-1.6.H  |6            |14:49:00  |8573163      |14:50:00 |8502776     |TA+b002h  |26-140-j19-1  |Langnau am Albis, Unterrengg  |9314           |0           |\n",
      "|156.TA.26-73-j19-1.3.R    |1            |16:38:00  |8591441      |16:39:00 |8591146     |TA+b0003  |26-73-j19-1   |Zürich, Schweighof            |9417           |1           |\n",
      "|148.TA.26-210-j19-1.2.R   |3            |18:41:00  |8573726      |18:43:00 |8573713     |TA+b062q  |26-210-j19-1  |Zürich Enge, Bahnhof/Bederstr.|9980           |1           |\n",
      "|705.TA.26-531-j19-1.5.R   |9            |16:24:00  |8582739      |16:25:00 |8503772     |TA+b0a0e  |26-531-j19-1  |Bülach, Bahnhof               |10260          |1           |\n",
      "|96.TA.26-227-j19-1.3.R    |1            |15:59:00  |8573718      |16:00:00 |8502950     |TA+b07xq  |26-227-j19-1  |Bonstetten-Wettswil, Bahnhof  |10365          |1           |\n",
      "|325.TA.26-227-j19-1.7.R   |1            |07:59:00  |8573718      |08:00:00 |8502950     |TA+b07xq  |26-227-j19-1  |Bonstetten-Wettswil, Bahnhof  |10487          |1           |\n",
      "|327.TA.26-227-j19-1.7.R   |1            |05:59:00  |8573718      |06:00:00 |8502950     |TA+b07xq  |26-227-j19-1  |Bonstetten-Wettswil, Bahnhof  |10523          |1           |\n",
      "|601.TA.26-215-j19-1.3.R   |26           |06:23:00  |8503699      |06:25:00 |8502559     |TA+b0nfg  |26-215-j19-1  |Zürich Wiedikon, Bahnhof      |10856          |1           |\n",
      "|793.TA.26-140-j19-1.6.H   |6            |12:49:00  |8573163      |12:50:00 |8502776     |TA+b0nfm  |26-140-j19-1  |Langnau am Albis, Unterrengg  |1104           |0           |\n",
      "|403.TA.26-89-j19-1.6.H    |9            |18:02:00  |8591208      |18:03:00 |8580912     |TA+b0iga  |26-89-j19-1   |Zürich, Sihlcity              |11578          |0           |\n",
      "|358.TA.26-220-j19-1.2.R   |10           |18:16:00  |8583613      |18:17:00 |8502559     |TA+b07xq  |26-220-j19-1  |Zürich Wiedikon, Bahnhof      |11592          |1           |\n",
      "|614.TA.26-501-j19-1.7.R   |3            |11:33:00  |8582005      |11:34:00 |8580617     |TA+b03q4  |26-501-j19-1  |Bülach, Bahnhof               |11600          |1           |\n",
      "|53.TA.26-827-j19-1.4.H    |4            |19:20:00  |8503872      |19:21:00 |8503565     |TA+b01o6  |26-827-j19-1  |Fehraltorf, Schrännenbrunnen  |11929          |0           |\n",
      "|51.TA.26-827-j19-1.4.H    |4            |09:20:00  |8503872      |09:21:00 |8503565     |TA+b01o6  |26-827-j19-1  |Fehraltorf, Schrännenbrunnen  |12138          |0           |\n",
      "|97.TA.26-75-A-j19-1.4.R   |18           |18:36:00  |8591085      |18:37:00 |8591048     |TA+b0igb  |26-75-A-j19-1 |Zürich, Seebacherplatz        |12274          |1           |\n",
      "|103.TA.26-67-j19-1.1.R    |1            |16:50:00  |8591341      |16:52:00 |8502572     |TA+b0iga  |26-67-j19-1   |Zürich, Dunkelhölzli          |12437          |1           |\n",
      "|76.TA.26-4-B-j19-1.2.H    |4            |13:03:00  |8503087      |13:04:00 |8503086     |TA+b0001  |26-4-B-j19-1  |Langnau-Gattikon              |12531          |0           |\n",
      "|563.TA.26-200-j19-1.3.R   |1            |05:45:00  |8573178      |05:46:00 |8502953     |TA+b07xq  |26-200-j19-1  |Zürich Enge, Bahnhof/Bederstr.|12643          |1           |\n",
      "|407.TA.26-912-j19-1.9.H   |6            |19:55:00  |8576200      |19:57:00 |8576182     |TA+b0a0s  |26-912-j19-1  |Itschnach, Fallacher          |13030          |0           |\n",
      "|133.TA.26-827-j19-1.5.R   |3            |17:36:00  |8573503      |17:38:00 |8503565     |TA+b01o6  |26-827-j19-1  |Uster, Bahnhof                |13051          |1           |\n",
      "|510.TA.26-652-j19-1.8.H   |2            |15:29:00  |8575920      |15:31:00 |8503372     |TA+b05sl  |26-652-j19-1  |Effretikon, Bahnhof           |13352          |0           |\n",
      "|670.TA.26-200-j19-1.3.R   |1            |09:45:00  |8573178      |09:46:00 |8502953     |TA+b08yp  |26-200-j19-1  |Zürich Enge, Bahnhof/Bederstr.|13406          |1           |\n",
      "|157.TA.26-652-j19-1.6.H   |6            |07:56:00  |8503371      |07:58:00 |8503370     |TA+b0grz  |26-652-j19-1  |Effretikon, Bahnhof           |1349           |0           |\n",
      "|976.TA.26-200-j19-1.4.H   |9            |15:11:00  |8582723      |15:12:00 |8502953     |TA+b022a  |26-200-j19-1  |Affoltern a. A., Bahnhof      |13851          |0           |\n",
      "|484.TA.26-225-j19-1.1.H   |1            |20:57:00  |8573178      |20:58:00 |8502953     |TA+b022a  |26-225-j19-1  |Aeugst am Albis, Grossacher   |13929          |0           |\n",
      "|679.TA.26-236-j19-1.4.H   |2            |20:51:00  |8591341      |20:52:00 |8502572     |TA+b022a  |26-236-j19-1  |Hausen am Albis, Post         |14114          |0           |\n",
      "|2452.TA.26-14-A-j19-1.25.H|22           |11:21:00  |8591341      |11:23:00 |8502572     |TA+b0j3n  |26-14-A-j19-1 |Zürich, Triemli               |1418           |0           |\n",
      "|540.TA.26-215-j19-1.3.R   |26           |18:28:00  |8503699      |18:30:00 |8502559     |TA+b022a  |26-215-j19-1  |Zürich Wiedikon, Bahnhof      |14236          |1           |\n",
      "|164.TA.26-210-j19-1.2.R   |3            |06:43:00  |8573726      |06:45:00 |8573713     |TA+b022a  |26-210-j19-1  |Zürich Enge, Bahnhof/Bederstr.|14618          |1           |\n",
      "|353.TA.26-220-j19-1.2.R   |10           |06:11:00  |8583613      |06:13:00 |8502559     |TA+b022a  |26-220-j19-1  |Zürich Wiedikon, Bahnhof      |14701          |1           |\n",
      "|88.TA.26-501-j19-1.1.H    |2            |15:57:00  |8582005      |16:00:00 |8580619     |TA+b002h  |26-501-j19-1  |Bachenbülach, Bramenländli    |14835          |0           |\n",
      "|28.TA.26-LAF-j19-1.1.H    |1            |09:50:00  |8503082      |09:55:00 |8503081     |TA+b0m56  |26-LAF-j19-1  |Felsenegg                     |1485           |0           |\n",
      "|692.TA.26-510-j19-1.4.R   |5            |09:39:00  |8583769      |09:40:00 |8503885     |TA+b002h  |26-510-j19-1  |Zürich Flughafen, Bahnhof     |14896          |1           |\n",
      "|383.TA.26-2-j19-1.163.H   |2            |06:41:00  |8503006      |06:46:00 |8503000     |TA+b005n  |26-2-j19-1    |Ziegelbrücke                  |18223          |0           |\n",
      "|51.TA.26-7-A-j19-1.12.H   |2            |12:45:00  |8503003      |12:47:00 |8503000     |TA+b07xc  |26-7-A-j19-1  |Winterthur                    |18746          |0           |\n",
      "|323.TA.26-12-j19-1.126.R  |5            |07:11:00  |8503020      |07:15:00 |8503000     |TA+b01ne  |26-12-j19-1   |Schaffhausen                  |19225          |1           |\n",
      "|378.TA.26-12-j19-1.126.R  |5            |18:11:00  |8503020      |18:15:00 |8503000     |TA+b01ne  |26-12-j19-1   |Schaffhausen                  |19269          |1           |\n",
      "|4.TA.26-735-j19-1.1.H     |8            |09:25:00  |8573213      |09:28:00 |8573205     |TA+b0grx  |26-735-j19-1  |Zürich Flughafen, Bahnhof     |1956           |0           |\n",
      "|509.TA.26-24-j19-1.239.H  |13           |09:40:00  |8502209      |09:43:00 |8502208     |TA+b0hqg  |26-24-j19-1   |Zug                           |20433          |0           |\n",
      "|22.TA.1-217-j19-1.1.H     |2            |16:15:00  |8583890      |16:18:00 |8573178     |TA+b001a  |1-217-j19-1   |Affoltern a. A., Bahnhof      |21745          |0           |\n",
      "|809.TA.26-140-j19-1.6.H   |6            |06:19:00  |8573163      |06:20:00 |8502776     |TA+b0far  |26-140-j19-1  |Langnau am Albis, Unterrengg  |2200           |0           |\n",
      "|1819.TA.26-9-B-j19-1.19.R |4            |19:10:00  |8591390      |19:11:00 |8502572     |TA+b0ig6  |26-9-B-j19-1  |Zürich, Hirzenbach            |2249           |1           |\n",
      "|84.TA.26-827-j19-1.4.H    |4            |07:20:00  |8503872      |07:21:00 |8503565     |TA+b0j3b  |26-827-j19-1  |Fehraltorf, Schrännenbrunnen  |2392           |0           |\n",
      "|660.TA.26-33-B-j19-1.3.H  |21           |05:51:00  |8591214      |05:52:00 |8503610     |TA+b0003  |26-33-B-j19-1 |Zürich, Triemli               |2531           |0           |\n",
      "|177.TA.26-210-j19-1.2.R   |3            |18:11:00  |8573726      |18:13:00 |8573713     |TA+b04st  |26-210-j19-1  |Zürich Enge, Bahnhof/Bederstr.|2718           |1           |\n",
      "|3755.TA.26-8-C-j19-1.27.H |18           |08:50:00  |8576193      |08:52:00 |8503059     |TA+b0fe2  |26-8-C-j19-1  |Zürich, Klusplatz             |272            |0           |\n",
      "|111.TA.26-734-j19-1.4.R   |3            |13:00:00  |8588553      |13:02:00 |8573211     |TA+b0003  |26-734-j19-1  |Egetswil, Dorf                |2948           |1           |\n",
      "|204.TA.26-131-j19-1.7.R   |6            |19:44:00  |8573552      |19:46:00 |8503855     |TA+b0nfj  |26-131-j19-1  |Horgen, Bahnhof               |2964           |1           |\n",
      "|354.TA.26-842-j19-1.3.R   |1            |07:18:00  |8503168      |07:19:00 |8503189     |TA+b0d7g  |26-842-j19-1  |Uster, Bahnhof                |2980           |1           |\n",
      "|12.TA.26-737-j19-1.1.H    |3            |17:40:00  |8580301      |17:42:00 |8573205     |TA+b0003  |26-737-j19-1  |Zürich Flughafen, Bahnhof     |3250           |0           |\n",
      "|625.TA.26-491-j19-1.6.R   |2            |18:34:00  |8576265      |18:36:00 |8576245     |TA+b0d74  |26-491-j19-1  |Hüttikon                      |3365           |1           |\n",
      "|19.TA.1-338-j19-1.1.H     |3            |18:27:00  |8576164      |18:28:00 |8576480     |TA+b0008  |1-338-j19-1   |Bremgarten AG, Bahnhof        |33837          |0           |\n",
      "|794.TA.1-245-j19-1.5.R    |18           |19:07:00  |8503699      |19:09:00 |8502559     |TA+b04st  |1-245-j19-1   |Zürich, Triemli               |3408           |1           |\n",
      "|294.TA.1-245-j19-1.1.R    |1            |12:39:00  |8572647      |12:41:00 |8502570     |TA+b04st  |1-245-j19-1   |Birmensdorf ZH, Bahnhof       |3641           |1           |\n",
      "|927.TA.26-14-A-j19-1.10.R |4            |09:36:00  |8591390      |09:37:00 |8502572     |TA+b0003  |26-14-A-j19-1 |Zürich, Seebach               |3656           |1           |\n",
      "|15.TA.26-140-j19-1.1.R    |2            |17:16:00  |8573162      |17:17:00 |8502776     |TA+b0fao  |26-140-j19-1  |Thalwil, Zentrum              |3891           |1           |\n",
      "|432.TA.1-4-B-j19-1.16.H   |3            |11:26:00  |8590277      |11:27:00 |8590271     |TA+b01ny  |1-4-B-j19-1   |Spreitenbach, Shopping Center |40090          |0           |\n",
      "|387.TA.1-4-B-j19-1.14.R   |1            |15:07:00  |8590279      |15:08:00 |8590271     |TA+b088x  |1-4-B-j19-1   |Baden, Ruschebach             |40123          |1           |\n",
      "|1447.TA.26-212-j19-1.2.H  |3            |18:59:00  |8573195      |19:09:00 |8502779     |TA+b0nfh  |26-212-j19-1  |Ottenbach, Post               |4078           |0           |\n",
      "|180.TA.26-765-j19-1.2.H   |13           |12:14:00  |8576159      |12:15:00 |8503700     |TA+b0003  |26-765-j19-1  |Dietlikon, Bahnhof/Bad        |4118           |0           |\n",
      "|1356.TA.26-200-j19-1.4.H  |9            |09:16:00  |8582723      |09:17:00 |8502953     |TA+b062q  |26-200-j19-1  |Affoltern a. A., Bahnhof      |4315           |0           |\n",
      "|743.TA.26-225-j19-1.1.H   |3            |06:30:00  |8580268      |06:31:00 |8502574     |TA+b08yp  |26-225-j19-1  |Aeugst am Albis, Grossacher   |4333           |0           |\n",
      "|682.TA.26-223-j19-1.2.H   |4            |10:57:00  |8573169      |10:59:00 |8502758     |TA+b08yp  |26-223-j19-1  |Hausen am Albis, Post         |4408           |0           |\n",
      "|1371.TA.26-32-j19-1.12.H  |19           |18:43:00  |8591447      |18:45:00 |8502572     |TA+b0ig5  |26-32-j19-1   |Zürich, Strassenverkehrsamt   |442            |0           |\n",
      "|813.TA.26-3-A-j19-1.2.H   |18           |15:30:00  |8591202      |15:32:00 |8503083     |TA+b0grl  |26-3-A-j19-1  |Zürich, Klusplatz             |462            |0           |\n",
      "|1275.TA.26-201-j19-1.2.H  |4            |09:27:00  |8574739      |09:29:00 |8503709     |TA+b0nfh  |26-201-j19-1  |Schlieren, Rütistrasse        |4685           |0           |\n",
      "|1228.TA.26-32-j19-1.12.H  |19           |18:13:00  |8591447      |18:15:00 |8502572     |TA+b0ig5  |26-32-j19-1   |Zürich, Strassenverkehrsamt   |470            |0           |\n",
      "|62.TA.80-159-Y-j19-1.9.H  |1            |19:05:00  |8503000      |19:11:00 |8503006     |TA+b0i8c  |80-159-Y-j19-1|Schaffhausen                  |4934           |0           |\n",
      "|1161.TA.26-201-j19-1.2.H  |4            |09:57:00  |8574739      |09:59:00 |8503709     |TA+b0nfg  |26-201-j19-1  |Schlieren, Rütistrasse        |5104           |0           |\n",
      "|1225.TA.79-229-j19-1.2.H  |3            |18:04:00  |8579994      |18:05:00 |8503692     |TA+b0nfg  |79-229-j19-1  |Wettswil a.A., Heidenchilen   |5321           |0           |\n",
      "|3029.TA.26-9-B-j19-1.25.H |29           |16:47:00  |8591341      |16:49:00 |8502572     |TA+b004h  |26-9-B-j19-1  |Zürich, Heuried               |5498           |0           |\n",
      "|547.TA.26-140-j19-1.5.R   |6            |06:37:00  |8573162      |06:38:00 |8502776     |TA+b0nfk  |26-140-j19-1  |Thalwil, Zentrum              |6209           |1           |\n",
      "|53.TA.26-133-j19-1.2.R    |3            |13:04:00  |8573552      |13:06:00 |8503855     |TA+b0nfk  |26-133-j19-1  |Horgen, Bahnhof               |6212           |1           |\n",
      "|235.TA.1-17-A-j19-1.17.H  |10           |15:04:00  |8502278      |15:06:00 |8502186     |TA+b04df  |1-17-A-j19-1  |Dietikon                      |647            |0           |\n",
      "|1341.TA.26-8-C-j19-1.8.R  |5            |17:37:00  |8530813      |17:39:00 |8503059     |TA+b004h  |26-8-C-j19-1  |Zürich, Hardturm              |6744           |1           |\n",
      "|208.TA.79-221-j19-1.1.H   |14           |16:48:00  |8573712      |16:50:00 |8503692     |TA+b062q  |79-221-j19-1  |Bonstetten-Wettswil, Bahnhof  |6883           |0           |\n",
      "|56.TA.26-70-A-j19-1.3.R   |4            |13:13:00  |8591270      |13:14:00 |8591061     |TA+b0003  |26-70-A-j19-1 |Zürich Wollishofen, Bahnhof   |6958           |1           |\n",
      "|589.TA.26-227-j19-1.9.H   |1            |14:43:00  |8573726      |14:48:00 |8503690     |TA+b07xq  |26-227-j19-1  |Birmensdorf ZH, Bahnhof       |7015           |0           |\n",
      "|1270.TA.26-32-j19-1.12.H  |19           |13:23:00  |8591447      |13:24:00 |8502572     |TA+b0003  |26-32-j19-1   |Zürich, Strassenverkehrsamt   |711            |0           |\n",
      "|1650.TA.26-6-B-j19-1.10.R |1            |20:39:00  |8591067      |20:41:00 |8588078     |TA+b004y  |26-6-B-j19-1  |Zürich, Zoo                   |7121           |1           |\n",
      "|273.TA.26-531-j19-1.1.H   |2            |13:05:00  |8582739      |13:07:00 |8503781     |TA+b0344  |26-531-j19-1  |Zürich Flughafen, Bahnhof     |7353           |0           |\n",
      "|5.TA.79-18-j19-1.1.R      |5            |05:49:00  |8503062      |05:50:00 |8503061     |TA+b0003  |79-18-j19-1   |Esslingen                     |743            |1           |\n",
      "|1759.TA.26-225-j19-1.3.R  |1            |13:50:00  |8583047      |13:51:00 |8502771     |TA+b08yp  |26-225-j19-1  |Affoltern a. A., Bahnhof      |7539           |1           |\n",
      "|852.TA.79-221-j19-1.2.H   |16           |15:48:00  |8573712      |15:49:00 |8503692     |TA+b0nfh  |79-221-j19-1  |Bonstetten-Wettswil, Bahnhof  |7685           |0           |\n",
      "|651.TA.26-201-j19-1.1.R   |7            |17:28:00  |8574658      |17:29:00 |8503699     |TA+b0nfh  |26-201-j19-1  |Uitikon Waldegg, Bahnhof      |7689           |1           |\n",
      "|592.TA.26-13-j19-1.10.R   |23           |17:01:00  |8591353      |17:02:00 |8576240     |TA+b0a0s  |26-13-j19-1   |Zürich, Frankental            |8370           |1           |\n",
      "|1144.TA.26-7-B-j19-1.6.R  |14           |13:40:00  |8591067      |13:42:00 |8588078     |TA+b002h  |26-7-B-j19-1  |Stettbach, Bahnhof            |8699           |1           |\n",
      "|1688.TA.26-225-j19-1.2.R  |1            |15:50:00  |8583047      |15:51:00 |8502771     |TA+b0nfg  |26-225-j19-1  |Affoltern a. A., Bahnhof      |8824           |1           |\n",
      "|726.TA.26-215-j19-1.3.R   |26           |06:23:00  |8503699      |06:25:00 |8502559     |TA+b08yp  |26-215-j19-1  |Zürich Wiedikon, Bahnhof      |9024           |1           |\n",
      "|64.TA.26-918-j19-1.2.H    |4            |14:19:00  |8590702      |14:20:00 |8590701     |TA+b0003  |26-918-j19-1  |Küsnacht ZH, Gartenstrasse    |9067           |0           |\n",
      "|1820.TA.26-225-j19-1.2.R  |1            |16:50:00  |8583047      |16:51:00 |8502771     |TA+b0j3a  |26-225-j19-1  |Affoltern a. A., Bahnhof      |9361           |1           |\n",
      "|613.TA.26-523-j19-1.2.H   |2            |14:04:00  |8573225      |14:05:00 |8506889     |TA+b0344  |26-523-j19-1  |Embrach-Rorbas, Bahnhof       |9440           |0           |\n",
      "|680.TA.79-221-j19-1.2.H   |16           |09:18:00  |8573712      |09:19:00 |8503692     |TA+b08yp  |79-221-j19-1  |Bonstetten-Wettswil, Bahnhof  |9654           |0           |\n",
      "|555.TA.1-205-j19-1.4.R    |2            |15:57:00  |8583206      |15:58:00 |8573725     |TA+b0nfh  |1-205-j19-1   |Bonstetten-Wettswil, Bahnhof  |9656           |1           |\n",
      "|2299.TA.26-14-A-j19-1.25.H|22           |16:45:00  |8591341      |16:46:00 |8502572     |TA+b0j3c  |26-14-A-j19-1 |Zürich, Triemli               |975            |0           |\n",
      "|772.TA.26-140-j19-1.6.H   |6            |13:19:00  |8573163      |13:20:00 |8502776     |TA+b0far  |26-140-j19-1  |Langnau am Albis, Unterrengg  |1008           |0           |\n",
      "|971.TA.26-132-j19-1.3.R   |3            |19:23:00  |8590651      |19:25:00 |8503855     |TA+b002h  |26-132-j19-1  |Horgen, Bahnhof               |10228          |1           |\n",
      "|632.TA.79-228-j19-1.3.H   |2            |14:48:00  |8573728      |14:49:00 |8502885     |TA+b0nfg  |79-228-j19-1  |Bonstetten-Wettswil, Bahnhof  |10346          |0           |\n",
      "|599.TA.26-215-j19-1.3.R   |26           |19:28:00  |8503699      |19:30:00 |8502559     |TA+b0nfg  |26-215-j19-1  |Zürich Wiedikon, Bahnhof      |10407          |1           |\n",
      "|157.TA.26-236-j19-1.1.R   |19           |17:58:00  |8574739      |17:59:00 |8502559     |TA+b08yp  |26-236-j19-1  |Zürich Wiedikon, Bahnhof      |10484          |1           |\n",
      "|458.TA.26-145-j19-1.1.R   |14           |12:49:00  |8590829      |12:51:00 |8573167     |TA+b002h  |26-145-j19-1  |Thalwil, Zentrum              |10557          |1           |\n",
      "|242.TA.26-240-j19-1.1.R   |5            |15:30:00  |8573158      |15:32:00 |8502762     |TA+b07xq  |26-240-j19-1  |Thalwil, Bahnhof              |10563          |1           |\n",
      "|133.TA.26-133-j19-1.3.H   |2            |15:56:00  |8589111      |15:57:00 |8573553     |TA+b002h  |26-133-j19-1  |Horgen, Panorama/CS           |10676          |0           |\n",
      "|667.TA.1-245-j19-1.5.R    |18           |06:35:00  |8503699      |06:37:00 |8502559     |TA+b0nfg  |1-245-j19-1   |Zürich, Triemli               |11150          |1           |\n",
      "|169.TA.79-221-j19-1.1.H   |14           |06:19:00  |8573712      |06:20:00 |8503692     |TA+b0j3a  |79-221-j19-1  |Bonstetten-Wettswil, Bahnhof  |11534          |0           |\n",
      "|3842.TA.26-31-j19-1.26.R  |11           |18:15:00  |8591137      |18:16:00 |8530812     |TA+b0igb  |26-31-j19-1   |Zürich, Farbhof               |11863          |1           |\n",
      "|544.TA.26-501-j19-1.6.R   |3            |15:33:00  |8582005      |15:34:00 |8580617     |TA+b0151  |26-501-j19-1  |Bülach, Bahnhof               |11945          |1           |\n",
      "|151.TA.26-46-j19-1.8.R    |10           |16:26:00  |8591353      |16:27:00 |8576240     |TA+b0iga  |26-46-j19-1   |Zürich, Rütihof               |12081          |1           |\n",
      "|62.TA.26-827-j19-1.4.H    |4            |06:20:00  |8503872      |06:21:00 |8503565     |TA+b01o6  |26-827-j19-1  |Fehraltorf, Schrännenbrunnen  |12215          |0           |\n",
      "|17.TA.26-4-B-j19-1.1.R    |7            |10:20:00  |8503093      |10:22:00 |8503086     |TA+b0001  |26-4-B-j19-1  |Zürich HB SZU                 |12498          |1           |\n",
      "|371.TA.1-205-j19-1.2.R    |3            |13:28:00  |8583805      |13:30:00 |8573726     |TA+b07xq  |1-205-j19-1   |Bonstetten-Wettswil, Bahnhof  |12680          |1           |\n",
      "|268.TA.26-10-B-j19-1.10.R |6            |16:20:00  |8503052      |16:21:00 |8503051     |TA+b0001  |26-10-B-j19-1 |Zürich HB SZU                 |12880          |1           |\n",
      "|66.TA.79-10-B-j19-1.3.H   |2            |16:16:00  |8503090      |16:19:00 |8503051     |TA+b0003  |79-10-B-j19-1 |Zürich Triemli                |12881          |0           |\n",
      "|67.TA.26-66-j19-1.4.R     |1            |16:55:00  |8591286      |16:57:00 |8591217     |TA+b0a0s  |26-66-j19-1   |Zürich, Morgental             |12937          |1           |\n",
      "|857.TA.26-140-j19-1.6.H   |6            |10:49:00  |8573163      |10:50:00 |8502776     |TA+b0far  |26-140-j19-1  |Langnau am Albis, Unterrengg  |1305           |0           |\n",
      "|178.TA.26-535-j19-1.2.R   |1            |06:45:00  |8590723      |06:47:00 |8573264     |TA+b03q4  |26-535-j19-1  |Stadel b. N., Neuwis-Huus     |13065          |1           |\n",
      "|447.TA.26-213-j19-1.1.R   |2            |13:11:00  |8572606      |13:13:00 |8572604     |TA+b062q  |26-213-j19-1  |Affoltern a. A., Bahnhof      |13116          |1           |\n",
      "|128.TA.26-827-j19-1.5.R   |3            |12:06:00  |8573503      |12:08:00 |8503565     |TA+b01o6  |26-827-j19-1  |Uster, Bahnhof                |13328          |1           |\n",
      "|536.TA.79-229-j19-1.1.R   |4            |08:11:00  |8579994      |08:12:00 |8573713     |TA+b062q  |79-229-j19-1  |Bonstetten-Wettswil, Bahnhof  |13520          |1           |\n",
      "|925.TA.79-229-j19-1.2.H   |3            |08:00:00  |8579994      |08:01:00 |8503692     |TA+b022a  |79-229-j19-1  |Wettswil a.A., Heidenchilen   |13889          |0           |\n",
      "|538.TA.26-215-j19-1.3.R   |26           |19:28:00  |8503699      |19:30:00 |8502559     |TA+b022a  |26-215-j19-1  |Zürich Wiedikon, Bahnhof      |14232          |1           |\n",
      "|438.TA.26-201-j19-1.1.R   |7            |18:58:00  |8574658      |18:59:00 |8503699     |TA+b022a  |26-201-j19-1  |Uitikon Waldegg, Bahnhof      |14331          |1           |\n",
      "|1679.TA.26-LAF-j19-1.2.R  |1            |19:35:00  |8503081      |19:40:00 |8503082     |TA+b0m56  |26-LAF-j19-1  |Adliswil (Luftseilbahnstation)|1435           |1           |\n",
      "|1575.TA.26-225-j19-1.2.R  |1            |11:50:00  |8583047      |11:51:00 |8502771     |TA+b022a  |26-225-j19-1  |Affoltern a. A., Bahnhof      |14613          |1           |\n",
      "|1413.TA.26-223-j19-1.4.R  |4            |10:08:00  |8583855      |10:19:00 |8573178     |TA+b022a  |26-223-j19-1  |Affoltern a. A., Bahnhof      |14659          |1           |\n",
      "|522.TA.26-213-j19-1.2.R   |2            |12:41:00  |8572606      |12:43:00 |8572604     |TA+b022a  |26-213-j19-1  |Affoltern a. A., Bahnhof      |14672          |1           |\n",
      "|316.TA.26-535-j19-1.3.H   |6            |09:38:00  |8573265      |09:40:00 |8573264     |TA+b002h  |26-535-j19-1  |Niederhasli, Bahnhof          |14868          |0           |\n",
      "|317.TA.26-725-j19-1.11.H  |8            |07:04:00  |8587858      |07:05:00 |8503150     |TA+b0003  |26-725-j19-1  |Schwerzenbach ZH, Bahnhof     |1487           |0           |\n",
      "|678.TA.26-225-j19-1.1.H   |3            |17:00:00  |8580268      |17:01:00 |8502574     |TA+b04st  |26-225-j19-1  |Aeugst am Albis, Grossacher   |15             |0           |\n",
      "|211.TA.26-134-j19-1.1.H   |1            |15:34:00  |8503855      |15:36:00 |8577912     |TA+b0faq  |26-134-j19-1  |Horgen, Risi/Dow              |1686           |0           |\n",
      "|545.TA.26-33-B-j19-1.3.H  |21           |12:55:00  |8591214      |12:56:00 |8503610     |TA+b0003  |26-33-B-j19-1 |Zürich, Triemli               |1765           |0           |\n",
      "|341.TA.26-5-A-j19-1.123.R |5            |20:07:00  |8502229      |20:09:00 |8502220     |TA+b0h71  |26-5-A-j19-1  |Pfäffikon SZ                  |18577          |1           |\n",
      "|9.TA.26-6-A-j19-1.8.R     |1            |05:53:00  |8503020      |05:56:00 |8503000     |TA+b0008  |26-6-A-j19-1  |Uetikon                       |18619          |1           |\n",
      "|349.TA.26-12-j19-1.126.R  |5            |13:11:00  |8503020      |13:15:00 |8503000     |TA+b0hyy  |26-12-j19-1   |Schaffhausen                  |19249          |1           |\n",
      "|91.TA.26-14-j19-1.32.R    |8            |11:55:00  |8503001      |11:59:00 |8502220     |TA+b010q  |26-14-j19-1   |Affoltern am Albis            |19442          |1           |\n",
      "|122.TA.1-320-j19-1.9.R    |2            |11:48:00  |8580728      |11:49:00 |8502575     |TA+b0008  |1-320-j19-1   |Remetschwil, Garage           |20064          |1           |\n",
      "|704.TA.26-12-j19-1.285.H  |2            |09:09:00  |8503003      |09:12:00 |8503000     |TA+b04iu  |26-12-j19-1   |Brugg AG                      |20232          |0           |\n",
      "|1055.TA.26-520-j19-1.3.R  |10           |11:49:00  |8573226      |11:51:00 |8506889     |TA+b0haz  |26-520-j19-1  |Embrach-Rorbas, Bahnhof       |2144           |1           |\n",
      "|74.TA.26-827-j19-1.4.H    |4            |17:20:00  |8503872      |17:21:00 |8503565     |TA+b0j3b  |26-827-j19-1  |Fehraltorf, Schrännenbrunnen  |2199           |0           |\n",
      "|12.TA.1-231-j19-1.1.H     |17           |07:34:00  |8572603      |07:35:00 |8502879     |TA+b0008  |1-231-j19-1   |Jonen, Post                   |23111          |0           |\n",
      "|1393.TA.26-215-j19-1.6.H  |2            |11:49:00  |8591341      |11:50:00 |8502572     |TA+b04st  |26-215-j19-1  |Affoltern a. A., Bahnhof      |232            |0           |\n",
      "|1394.TA.26-215-j19-1.6.H  |2            |11:19:00  |8591341      |11:20:00 |8502572     |TA+b04st  |26-215-j19-1  |Affoltern a. A., Bahnhof      |234            |0           |\n",
      "|1623.TA.26-3-A-j19-1.8.R  |2            |17:26:00  |8591199      |17:27:00 |8503083     |TA+b0grj  |26-3-A-j19-1  |Zürich, Albisrieden           |2341           |1           |\n",
      "|133.TA.26-10-B-j19-1.5.R  |6            |12:14:00  |8503052      |12:16:00 |8503051     |TA+b0jyq  |26-10-B-j19-1 |Zürich Selnau                 |23540          |1           |\n",
      "|1853.TA.26-9-B-j19-1.19.R |4            |16:38:00  |8591390      |16:40:00 |8502572     |TA+b0j3c  |26-9-B-j19-1  |Zürich, Hirzenbach            |2605           |1           |\n",
      "|176.TA.26-70-j19-1.41.H   |1            |08:46:00  |8503202      |08:56:00 |8503000     |TA+b056m  |26-70-j19-1   |Zürich HB                     |2628           |0           |\n",
      "|1794.TA.26-3-A-j19-1.8.R  |2            |14:49:00  |8591199      |14:51:00 |8503083     |TA+b0grl  |26-3-A-j19-1  |Zürich, Albisrieden           |2720           |1           |\n",
      "|209.TA.26-731-j19-1.3.R   |3            |16:34:00  |8588553      |16:36:00 |8573211     |TA+b0003  |26-731-j19-1  |Kloten, Buchhalden            |2729           |1           |\n",
      "|3756.TA.26-8-C-j19-1.27.H |18           |08:43:00  |8576193      |08:44:00 |8503059     |TA+b0fe2  |26-8-C-j19-1  |Zürich, Klusplatz             |282            |0           |\n",
      "|1.TA.26-726-j19-1.1.H     |4            |16:37:00  |8588096      |16:38:00 |8503154     |TA+b0003  |26-726-j19-1  |Schwerzenbach ZH, Bahnhof     |2953           |0           |\n",
      "|192.TA.26-4-B-j19-1.10.H  |2            |07:53:00  |8503087      |07:54:00 |8503086     |TA+b0jy5  |26-4-B-j19-1  |Langnau-Gattikon              |30469          |0           |\n",
      "|153.TA.26-4-B-j19-1.6.H   |2            |17:53:00  |8503087      |17:54:00 |8503086     |TA+b0jy5  |26-4-B-j19-1  |Langnau-Gattikon              |30589          |0           |\n",
      "|128.TA.26-140-j19-1.5.R   |6            |20:07:00  |8573162      |20:08:00 |8502776     |TA+b0dez  |26-140-j19-1  |Thalwil, Zentrum              |3089           |1           |\n",
      "|76.TA.16-13-j19-1.5.H     |2            |19:44:00  |8503006      |19:51:00 |8503000     |TA+b0ksy  |16-13-j19-1   |Zürich HB                     |3280           |0           |\n",
      "|716.TA.79-228-j19-1.3.H   |2            |17:18:00  |8573728      |17:19:00 |8502885     |TA+b04st  |79-228-j19-1  |Bonstetten-Wettswil, Bahnhof  |3454           |0           |\n",
      "|168.TA.26-236-j19-1.1.R   |19           |16:58:00  |8574739      |16:59:00 |8502559     |TA+b04st  |26-236-j19-1  |Zürich Wiedikon, Bahnhof      |3661           |1           |\n",
      "|123.TA.26-727-j19-1.3.H   |7            |06:25:00  |8588096      |06:26:00 |8503154     |TA+b0003  |26-727-j19-1  |Schwerzenbach ZH, Bahnhof     |3819           |0           |\n",
      "|1472.TA.1-245-j19-1.10.H  |17           |09:47:00  |8572646      |09:48:00 |8502570     |TA+b04st  |1-245-j19-1   |Muri AG, Bahnhof              |383            |0           |\n",
      "|87.TA.1-215-j19-1.2.R     |9            |05:20:00  |8583755      |05:21:00 |8502876     |TA+b04st  |1-215-j19-1   |Birmensdorf ZH, Bahnhof       |3953           |1           |\n",
      "|1073.TA.1-245-j19-1.6.H   |11           |14:47:00  |8572646      |14:48:00 |8502570     |TA+b0nfh  |1-245-j19-1   |Muri AG, Bahnhof              |4415           |0           |\n",
      "|1372.TA.26-32-j19-1.12.H  |19           |18:37:00  |8591447      |18:39:00 |8502572     |TA+b0ig5  |26-32-j19-1   |Zürich, Strassenverkehrsamt   |448            |0           |\n",
      "|709.TA.26-223-j19-1.2.H   |4            |17:27:00  |8573169      |17:29:00 |8502758     |TA+b0nfg  |26-223-j19-1  |Hausen am Albis, Post         |4789           |0           |\n",
      "|1396.TA.26-212-j19-1.2.H  |3            |10:29:00  |8573195      |10:39:00 |8502779     |TA+b0nfg  |26-212-j19-1  |Ottenbach, Post               |4856           |0           |\n",
      "|1482.TA.1-245-j19-1.10.H  |17           |08:17:00  |8572646      |08:18:00 |8502570     |TA+b08yp  |1-245-j19-1   |Muri AG, Bahnhof              |5079           |0           |\n",
      "|1200.TA.26-201-j19-1.2.H  |4            |14:57:00  |8574739      |14:59:00 |8503709     |TA+b0j3a  |26-201-j19-1  |Schlieren, Rütistrasse        |5170           |0           |\n",
      "|1220.TA.79-229-j19-1.2.H  |3            |20:34:00  |8579994      |20:35:00 |8503692     |TA+b0nfg  |79-229-j19-1  |Wettswil a.A., Heidenchilen   |5306           |0           |\n",
      "|1264.TA.26-212-j19-1.2.H  |3            |17:29:00  |8573195      |17:39:00 |8502779     |TA+b04st  |26-212-j19-1  |Ottenbach, Post               |54             |0           |\n",
      "|952.TA.26-235-j19-1.10.H  |6            |12:28:00  |8573711      |12:31:00 |8502559     |TA+b062q  |26-235-j19-1  |Ebertswil, Schulhaus          |5412           |0           |\n",
      "|611.TA.26-223-j19-1.2.H   |4            |10:27:00  |8573169      |10:29:00 |8502758     |TA+b062q  |26-223-j19-1  |Hausen am Albis, Post         |5855           |0           |\n",
      "|520.TA.26-140-j19-1.5.R   |6            |07:07:00  |8573162      |07:08:00 |8502776     |TA+b0fao  |26-140-j19-1  |Thalwil, Zentrum              |6069           |1           |\n",
      "|1212.TA.26-201-j19-1.2.H  |4            |20:27:00  |8574739      |20:29:00 |8503709     |TA+b07xq  |26-201-j19-1  |Schlieren, Rütistrasse        |6091           |0           |\n",
      "|1302.TA.26-201-j19-1.2.H  |4            |09:57:00  |8574739      |09:59:00 |8503709     |TA+b07xq  |26-201-j19-1  |Schlieren, Rütistrasse        |6333           |0           |\n",
      "|1084.TA.26-142-j19-1.2.R  |6            |06:37:00  |8590818      |06:40:00 |8573167     |TA+b0nfj  |26-142-j19-1  |Thalwil, Zentrum              |6407           |1           |\n",
      "|915.TA.26-236-j19-1.6.H   |6            |10:58:00  |8573711      |11:01:00 |8502559     |TA+b08yp  |26-236-j19-1  |Hausen am Albis, Post         |6612           |0           |\n",
      "|925.TA.26-236-j19-1.6.H   |2            |20:51:00  |8591341      |20:52:00 |8502572     |TA+b04st  |26-236-j19-1  |Hausen am Albis, Post         |700            |0           |\n",
      "|703.TA.26-236-j19-1.4.H   |2            |20:51:00  |8591341      |20:52:00 |8502572     |TA+b0j3a  |26-236-j19-1  |Hausen am Albis, Post         |7256           |0           |\n",
      "|723.TA.26-200-j19-1.3.R   |1            |13:45:00  |8573178      |13:46:00 |8502953     |TA+b0nfh  |26-200-j19-1  |Zürich Enge, Bahnhof/Bederstr.|7434           |1           |\n",
      "|1494.TA.26-223-j19-1.4.R  |4            |09:38:00  |8583855      |09:49:00 |8573178     |TA+b08yp  |26-223-j19-1  |Affoltern a. A., Bahnhof      |7953           |1           |\n",
      "|1392.TA.26-201-j19-1.4.R  |3            |05:48:00  |8574658      |05:49:00 |8503699     |TA+b0nfh  |26-201-j19-1  |Uitikon Waldegg, Bahnhof      |7980           |1           |\n",
      "|81.TA.26-12-A-j19-1.2.H   |1            |07:14:00  |8588553      |07:16:00 |8573205     |TA+b002h  |26-12-A-j19-1 |Stettbach, Bahnhof            |8483           |0           |\n",
      "|558.TA.26-201-j19-1.1.R   |7            |18:58:00  |8574658      |18:59:00 |8503699     |TA+b0nfg  |26-201-j19-1  |Uitikon Waldegg, Bahnhof      |8682           |1           |\n",
      "|5.TA.26-39-j19-1.1.H      |5            |14:27:00  |8591156      |14:29:00 |8530473     |TA+b0003  |26-39-j19-1   |Zürich, Zoo                   |8931           |0           |\n",
      "|604.TA.26-201-j19-1.1.R   |7            |09:58:00  |8574658      |09:59:00 |8503699     |TA+b0nfg  |26-201-j19-1  |Uitikon Waldegg, Bahnhof      |8952           |1           |\n",
      "|110.TA.26-67-j19-1.1.R    |1            |06:28:00  |8591341      |06:29:00 |8502572     |TA+b0003  |26-67-j19-1   |Zürich, Dunkelhölzli          |9441           |1           |\n",
      "|191.TA.26-155-j19-1.3.H   |3            |18:48:00  |8590651      |18:50:00 |8503855     |TA+b002h  |26-155-j19-1  |Horgen, Bahnhof               |10169          |0           |\n",
      "|614.TA.26-215-j19-1.3.R   |26           |18:28:00  |8503699      |18:30:00 |8502559     |TA+b0nfg  |26-215-j19-1  |Zürich Wiedikon, Bahnhof      |10433          |1           |\n",
      "|74.TA.26-227-j19-1.3.R    |1            |15:59:00  |8573718      |16:00:00 |8502950     |TA+b08yp  |26-227-j19-1  |Bonstetten-Wettswil, Bahnhof  |10628          |1           |\n",
      "|1106.TA.26-121-j19-1.11.R |2            |06:30:00  |8594182      |06:32:00 |8503855     |TA+b0a5i  |26-121-j19-1  |Wädenswil, Bahnhof            |10891          |1           |\n",
      "|16.TA.26-46-j19-1.3.H     |7            |18:39:00  |8591431      |18:40:00 |8576240     |TA+b004y  |26-46-j19-1   |Zürich, Hardplatz             |11048          |0           |\n",
      "|683.TA.1-245-j19-1.5.R    |18           |20:07:00  |8503699      |20:09:00 |8502559     |TA+b0j3a  |1-245-j19-1   |Zürich, Triemli               |11245          |1           |\n",
      "|450.TA.26-530-j19-1.1.R   |16           |12:15:00  |8582739      |12:16:00 |8503772     |TA+b0343  |26-530-j19-1  |Bülach, Bahnhof               |11376          |1           |\n",
      "|294.TA.26-830-j19-1.2.H   |4            |14:35:00  |8503872      |14:36:00 |8503565     |TA+b01o6  |26-830-j19-1  |Pfäffikon ZH, Bahnhof         |11393          |0           |\n",
      "|296.TA.26-830-j19-1.2.H   |4            |13:35:00  |8503872      |13:36:00 |8503565     |TA+b01o6  |26-830-j19-1  |Pfäffikon ZH, Bahnhof         |11428          |0           |\n",
      "|303.TA.26-830-j19-1.2.H   |4            |10:05:00  |8503872      |10:06:00 |8503565     |TA+b01o6  |26-830-j19-1  |Pfäffikon ZH, Bahnhof         |11537          |0           |\n",
      "|213.TA.26-156-j19-1.2.H   |12           |18:59:00  |8590813      |19:01:00 |8573167     |TA+b0far  |26-156-j19-1  |Thalwil, Zentrum              |1158           |0           |\n",
      "|716.TA.1-245-j19-1.5.R    |18           |09:05:00  |8503699      |09:07:00 |8502559     |TA+b0j3a  |1-245-j19-1   |Zürich, Triemli               |11588          |1           |\n",
      "|457.TA.26-212-j19-1.1.R   |3            |19:31:00  |8583890      |19:34:00 |8573178     |TA+b08yp  |26-212-j19-1  |Affoltern a. A., Bahnhof      |11749          |1           |\n",
      "|2386.TA.26-14-A-j19-1.25.H|22           |13:36:00  |8591341      |13:38:00 |8502572     |TA+b0j3n  |26-14-A-j19-1 |Zürich, Triemli               |1207           |0           |\n",
      "|856.TA.26-33E-j19-1.9.R   |11           |17:40:00  |8591137      |17:41:00 |8530812     |TA+b002h  |26-33E-j19-1  |Zürich Tiefenbrunnen, Bahnhof |12192          |1           |\n",
      "|733.TA.26-33-B-j19-1.6.R  |10           |19:42:00  |8594239      |19:43:00 |8580522     |TA+b004y  |26-33-B-j19-1 |Zürich, Kirche Fluntern       |12195          |1           |\n",
      "|501.TA.26-201-j19-1.1.R   |7            |20:58:00  |8574658      |20:59:00 |8503699     |TA+b07xq  |26-201-j19-1  |Uitikon Waldegg, Bahnhof      |12296          |1           |\n",
      "|156.TA.26-83-j19-1.2.H    |3            |18:42:00  |8591323      |18:43:00 |8580522     |TA+b0a0s  |26-83-j19-1   |Zürich Altstetten, Bahnhof    |12408          |0           |\n",
      "|671.TA.26-200-j19-1.3.R   |1            |15:15:00  |8573178      |15:16:00 |8502953     |TA+b07xq  |26-200-j19-1  |Zürich Enge, Bahnhof/Bederstr.|12420          |1           |\n",
      "|23.TA.26-10-B-j19-1.4.H   |2            |06:26:00  |8503090      |06:29:00 |8503051     |TA+b0003  |26-10-B-j19-1 |Uetliberg                     |12763          |0           |\n",
      "|258.TA.26-10-B-j19-1.10.R |6            |13:50:00  |8503052      |13:51:00 |8503051     |TA+b0003  |26-10-B-j19-1 |Zürich HB SZU                 |12850          |1           |\n",
      "|8.TA.26-83-j19-1.1.R      |13           |16:12:00  |8594239      |16:13:00 |8580522     |TA+b002h  |26-83-j19-1   |Zürich, Milchbuck             |12944          |1           |\n",
      "|645.TA.26-LAF-j19-1.1.H   |1            |18:20:00  |8503082      |18:25:00 |8503081     |TA+b0m56  |26-LAF-j19-1  |Felsenegg                     |1304           |0           |\n",
      "|115.TA.26-830-j19-1.1.R   |1            |12:51:00  |8573503      |12:53:00 |8503565     |TA+b01o6  |26-830-j19-1  |Uster, Bahnhof                |13126          |1           |\n",
      "|52.TA.26-E-B-j19-1.10.H   |1            |16:01:00  |8506897      |16:02:00 |8506889     |TA+b0a0e  |26-E-B-j19-1  |Zürich Flughafen, Bahnhof     |13367          |0           |\n",
      "|279.TA.26-523-j19-1.1.R   |1            |05:53:00  |8506897      |05:54:00 |8506889     |TA+b0344  |26-523-j19-1  |Oberembrach, Dorf             |13563          |1           |\n",
      "|635.TA.26-33-B-j19-1.3.H  |21           |17:50:00  |8591214      |17:51:00 |8503610     |TA+b0ig5  |26-33-B-j19-1 |Zürich, Triemli               |1377           |0           |\n",
      "|206.TA.1-205-j19-1.1.H    |5            |08:01:00  |8583206      |08:03:00 |8573720     |TA+b022a  |1-205-j19-1   |Arni AG, Stockacker           |14105          |0           |\n",
      "|796.TA.26-11-A-j19-1.3.H  |24           |07:09:00  |8576193      |07:11:00 |8503059     |TA+b0003  |26-11-A-j19-1 |Zürich, Rehalp                |1412           |0           |\n",
      "|454.TA.26-235-j19-1.5.R   |18           |06:28:00  |8574739      |06:29:00 |8502559     |TA+b022a  |26-235-j19-1  |Zürich Wiedikon, Bahnhof      |14460          |1           |\n",
      "|955.TA.26-140-j19-1.6.H   |6            |09:19:00  |8573163      |09:20:00 |8502776     |TA+b0far  |26-140-j19-1  |Langnau am Albis, Unterrengg  |1496           |0           |\n",
      "|559.TA.26-501-j19-1.6.R   |3            |11:03:00  |8582005      |11:04:00 |8580617     |TA+b002h  |26-501-j19-1  |Bülach, Bahnhof               |15006          |1           |\n",
      "|255.TA.26-18-j19-1.5.R    |17           |07:19:00  |8503062      |07:20:00 |8503061     |TA+b0003  |26-18-j19-1   |Esslingen                     |155            |1           |\n",
      "|1235.TA.26-67-j19-1.2.H   |14           |15:03:00  |8591341      |15:04:00 |8573710     |TA+b0003  |26-67-j19-1   |Zürich Wiedikon, Bahnhof      |1791           |0           |\n",
      "|62.TA.26-2-j19-1.9.R      |4            |15:37:00  |8503011      |15:42:00 |8503000     |TA+b09gj  |26-2-j19-1    |Zürich Flughafen              |18258          |1           |\n",
      "|153.TA.26-6-A-j19-1.34.R  |8            |18:25:00  |8503020      |18:28:00 |8503000     |TA+b04iu  |26-6-A-j19-1  |Uetikon                       |18669          |1           |\n",
      "|17.TA.26-9-A-j19-1.2.H    |6            |09:59:00  |8503003      |10:02:00 |8503000     |TA+b0001  |26-9-A-j19-1  |Schaffhausen                  |18936          |0           |\n",
      "|551.TA.26-11-j19-1.126.R  |2            |18:25:00  |8503003      |18:28:00 |8503000     |TA+b0003  |26-11-j19-1   |Aarau                         |19170          |1           |\n",
      "|993.TA.26-12-j19-1.353.H  |2            |13:39:00  |8503003      |13:42:00 |8503000     |TA+b0s9o  |26-12-j19-1   |Brugg AG                      |19250          |0           |\n",
      "|503.TA.26-14-A-j19-1.7.H  |18           |06:16:00  |8591341      |06:17:00 |8502572     |TA+b0j3n  |26-14-A-j19-1 |Zürich, Triemli               |1936           |0           |\n",
      "|98.TA.26-19-j19-1.15.R    |4            |10:34:00  |8503006      |10:39:00 |8503000     |TA+b010q  |26-19-j19-1   |Zürich HB                     |19938          |1           |\n",
      "|1401.TA.26-140-j19-1.8.H  |8            |07:09:00  |8573163      |07:10:00 |8502776     |TA+b0nfj  |26-140-j19-1  |Langnau-Gattikon, Bahnhof     |2016           |0           |\n",
      "|140.TA.26-650-j19-1.7.H   |1            |14:44:00  |8575944      |14:46:00 |8503374     |TA+b0003  |26-650-j19-1  |Effretikon, Bahnhof           |2415           |0           |\n",
      "|278.TA.26-787-j19-1.2.H   |17           |08:26:00  |8591063      |08:28:00 |8580449     |TA+b0m5r  |26-787-j19-1  |Zürich Oerlikon, Bahnhof      |2436           |0           |\n",
      "|687.TA.26-15-A-j19-1.6.H  |12           |09:19:00  |8576193      |09:21:00 |8503059     |TA+b0j3h  |26-15-A-j19-1 |Zürich Stadelhofen FB         |2545           |0           |\n",
      "|112.TA.26-721-j19-1.3.H   |3            |18:44:00  |8576129      |18:46:00 |8503151     |TA+b0003  |26-721-j19-1  |Schwerzenbach ZH, Bahnhof     |2812           |0           |\n",
      "|1188.TA.26-5-B-j19-1.23.R |8            |18:28:00  |8591105      |18:30:00 |8576193     |TA+b0j3c  |26-5-B-j19-1  |Zürich, Kirche Fluntern       |2988           |1           |\n",
      "|500.TA.26-4-j19-1.20.R    |7            |17:31:00  |8576195      |17:32:00 |8576193     |TA+b0j3c  |26-4-j19-1    |Zürich Altstetten, Bahnhof N  |3145           |1           |\n",
      "|18.TA.1-322-j19-1.1.H     |2            |14:28:00  |8580847      |14:30:00 |8572747     |TA+b001a  |1-322-j19-1   |Bremgarten AG, Obertorplatz   |32235          |0           |\n",
      "|340.TA.26-652-j19-1.7.R   |5            |16:17:00  |8575921      |16:18:00 |8503370     |TA+b0grz  |26-652-j19-1  |Illnau, Bahnhof               |3570           |1           |\n",
      "|648.TA.26-32-j19-1.10.R   |6            |11:34:00  |8591195      |11:35:00 |8502572     |TA+b0003  |26-32-j19-1   |Zürich, Holzerhurd            |3863           |1           |\n",
      "|779.TA.26-225-j19-1.1.H   |3            |15:00:00  |8580268      |15:01:00 |8502574     |TA+b0nfh  |26-225-j19-1  |Aeugst am Albis, Grossacher   |3983           |0           |\n",
      "|1527.TA.26-215-j19-1.6.H  |2            |15:49:00  |8591341      |15:50:00 |8502572     |TA+b062q  |26-215-j19-1  |Affoltern a. A., Bahnhof      |3996           |0           |\n",
      "|988.TA.26-142-j19-1.2.R   |6            |19:37:00  |8590818      |19:40:00 |8573167     |TA+b0fal  |26-142-j19-1  |Thalwil, Zentrum              |4066           |1           |\n",
      "|1413.TA.26-215-j19-1.6.H  |2            |09:49:00  |8591341      |09:50:00 |8502572     |TA+b0nfh  |26-215-j19-1  |Affoltern a. A., Bahnhof      |4205           |0           |\n",
      "|36.TA.1-444-j19-1.2.H     |3            |15:11:00  |8581346      |15:12:00 |8502894     |TA+b0n0h  |1-444-j19-1   |Zürich Enge, Bahnhof/Bederstr.|44441          |0           |\n",
      "|68.TA.1-215-j19-1.1.H     |3            |06:26:00  |8572603      |06:27:00 |8502879     |TA+b08yp  |1-215-j19-1   |Affoltern a. A., Bahnhof      |4730           |0           |\n",
      "|18.TA.26-816-j19-1.1.H    |4            |09:18:00  |8576097      |09:19:00 |8503254     |TA+b0003  |26-816-j19-1  |Uster, Pfannenstielstrasse    |483            |0           |\n",
      "|1315.TA.26-201-j19-1.2.H  |4            |18:27:00  |8574739      |18:29:00 |8503709     |TA+b0nfg  |26-201-j19-1  |Schlieren, Rütistrasse        |5041           |0           |\n",
      "|1158.TA.26-201-j19-1.2.H  |4            |11:27:00  |8574739      |11:29:00 |8503709     |TA+b0nfg  |26-201-j19-1  |Schlieren, Rütistrasse        |5096           |0           |\n",
      "|942.TA.26-3-A-j19-1.2.H   |18           |19:13:00  |8591202      |19:14:00 |8503083     |TA+b004y  |26-3-A-j19-1  |Zürich, Klusplatz             |5179           |0           |\n",
      "|358.TA.26-150-j19-1.6.R   |5            |12:39:00  |8503898      |12:42:00 |8503896     |TA+b0i76  |26-150-j19-1  |Wädenswil, Bahnhof            |5352           |1           |\n",
      "|637.TA.26-3-A-j19-1.2.H   |18           |16:53:00  |8591202      |16:54:00 |8503083     |TA+b0iga  |26-3-A-j19-1  |Zürich, Klusplatz             |5377           |0           |\n",
      "|1045.TA.26-236-j19-1.12.H |6            |18:14:00  |8573711      |18:17:00 |8502559     |TA+b062q  |26-236-j19-1  |Ebertswil, Schulhaus          |5497           |0           |\n",
      "|4000.TA.26-9-B-j19-1.37.H |7            |14:10:00  |8591341      |14:11:00 |8502572     |TA+b0a0s  |26-9-B-j19-1  |Zürich, Heuried               |5799           |0           |\n",
      "|1029.TA.26-530-j19-1.7.H  |2            |18:13:00  |8582739      |18:15:00 |8503781     |TA+b0344  |26-530-j19-1  |Zürich Flughafen, Bahnhof     |5859           |0           |\n",
      "|1335.TA.26-200-j19-1.4.H  |9            |15:11:00  |8582723      |15:12:00 |8502953     |TA+b07xq  |26-200-j19-1  |Affoltern a. A., Bahnhof      |5904           |0           |\n",
      "|223.TA.1-17-A-j19-1.17.H  |10           |12:04:00  |8502278      |12:06:00 |8502186     |TA+b04df  |1-17-A-j19-1  |Dietikon                      |635            |0           |\n",
      "|501.TA.26-145-j19-1.1.R   |14           |05:49:00  |8590829      |05:51:00 |8573167     |TA+b0dez  |26-145-j19-1  |Thalwil, Zentrum              |6423           |1           |\n",
      "|254.TA.1-205-j19-1.1.H    |5            |10:31:00  |8583206      |10:33:00 |8573720     |TA+b0nfg  |1-205-j19-1   |Arni AG, Stockacker           |6609           |0           |\n",
      "|335.TA.26-200-j19-1.2.R   |1            |09:45:00  |8573178      |09:46:00 |8502953     |TA+b062q  |26-200-j19-1  |Zürich Enge, Bahnhof/Bederstr.|6875           |1           |\n",
      "|490.TA.26-520-j19-1.2.H   |1            |15:08:00  |8506897      |15:09:00 |8506889     |TA+b0344  |26-520-j19-1  |Zürich Flughafen, Bahnhof     |6952           |0           |\n",
      "|285.TA.1-245-j19-1.1.R    |1            |10:39:00  |8572647      |10:41:00 |8502570     |TA+b0nfh  |1-245-j19-1   |Birmensdorf ZH, Bahnhof       |7791           |1           |\n",
      "|54.TA.26-77-j19-1.1.R     |7            |12:58:00  |8591094      |12:59:00 |8530812     |TA+b0003  |26-77-j19-1   |Zürich Hegibachplatz          |8089           |1           |\n",
      "|76.TA.26-67-j19-1.1.R     |1            |07:50:00  |8591341      |07:51:00 |8502572     |TA+b0003  |26-67-j19-1   |Zürich, Dunkelhölzli          |8173           |1           |\n",
      "|906.TA.26-525-j19-1.10.H  |1            |08:15:00  |8573260      |08:16:00 |8503782     |TA+b0344  |26-525-j19-1  |Oberglatt ZH, Bahnhof         |8229           |0           |\n",
      "|788.TA.26-215-j19-1.3.R   |26           |09:28:00  |8503699      |09:30:00 |8502559     |TA+b07xq  |26-215-j19-1  |Zürich Wiedikon, Bahnhof      |8424           |1           |\n",
      "|789.TA.26-215-j19-1.3.R   |26           |08:58:00  |8503699      |09:00:00 |8502559     |TA+b07xq  |26-215-j19-1  |Zürich Wiedikon, Bahnhof      |8432           |1           |\n",
      "|25.TA.26-812-j19-1.2.H    |7            |20:35:00  |8588050      |20:36:00 |8503253     |TA+b0003  |26-812-j19-1  |Uster, Bahnhof                |851            |0           |\n",
      "|835.TA.26-121-j19-1.8.R   |2            |06:30:00  |8594182      |06:32:00 |8503855     |TA+b07jb  |26-121-j19-1  |Wädenswil, Bahnhof            |8547           |1           |\n",
      "|934.TA.26-3-A-j19-1.2.H   |18           |10:45:00  |8591202      |10:47:00 |8503083     |TA+b0003  |26-3-A-j19-1  |Zürich, Klusplatz             |862            |0           |\n",
      "|395.TA.26-94-j19-1.3.R    |11           |07:48:00  |8591382      |07:49:00 |8580449     |TA+b0003  |26-94-j19-1   |Zürich Oerlikon, Bahnhof      |8662           |1           |\n",
      "|1295.TA.26-32-j19-1.12.H  |19           |10:15:00  |8591447      |10:16:00 |8502572     |TA+b0003  |26-32-j19-1   |Zürich, Strassenverkehrsamt   |886            |0           |\n",
      "|324.TA.1-245-j19-1.1.R    |1            |10:39:00  |8572647      |10:41:00 |8502570     |TA+b07xq  |1-245-j19-1   |Birmensdorf ZH, Bahnhof       |8975           |1           |\n",
      "|331.TA.26-510-j19-1.2.H   |17           |09:52:00  |8573261      |09:55:00 |8503860     |TA+b0151  |26-510-j19-1  |Kaiserstuhl AG, Bahnhof       |9016           |0           |\n",
      "|16.TA.63-11-Y-j19-1.1.H   |3            |12:49:00  |8502270      |12:50:00 |8502186     |TA+b0h4d  |63-11-Y-j19-1 |Bremgarten                    |940            |0           |\n",
      "|176.TA.79-221-j19-1.1.H   |14           |17:48:00  |8573712      |17:50:00 |8503692     |TA+b08yp  |79-221-j19-1  |Bonstetten-Wettswil, Bahnhof  |9472           |0           |\n",
      "|1200.TA.26-530-j19-1.8.R  |9            |18:52:00  |8573209      |18:53:00 |8503788     |TA+b0344  |26-530-j19-1  |Winkel, Schwärzen             |9618           |1           |\n",
      "|297.TA.26-240-j19-1.1.R   |5            |14:30:00  |8573158      |14:32:00 |8502762     |TA+b0nfh  |26-240-j19-1  |Thalwil, Bahnhof              |10088          |1           |\n",
      "|671.TA.26-136-j19-1.4.H   |6            |07:54:00  |8579188      |07:56:00 |8579186     |TA+b002h  |26-136-j19-1  |Oberrieden, Bahnhof           |10177          |0           |\n",
      "|506.TA.26-140-j19-1.5.R   |6            |17:07:00  |8573162      |17:08:00 |8502776     |TA+b002h  |26-140-j19-1  |Thalwil, Zentrum              |10203          |1           |\n",
      "|1023.TA.26-236-j19-1.11.R |22           |06:41:00  |8574739      |06:42:00 |8502559     |TA+b08yp  |26-236-j19-1  |Zürich Wiedikon, Bahnhof      |10710          |1           |\n",
      "|630.TA.79-228-j19-1.3.H   |2            |06:18:00  |8573728      |06:19:00 |8502885     |TA+b0j3a  |79-228-j19-1  |Bonstetten-Wettswil, Bahnhof  |11237          |0           |\n",
      "|174.TA.26-33E-j19-1.4.H   |5            |18:11:00  |8591094      |18:12:00 |8530812     |TA+b0igb  |26-33E-j19-1  |Zürich, Kirche Fluntern       |11280          |0           |\n",
      "|984.TA.26-80-j19-1.8.R    |1            |18:45:00  |8591401      |18:46:00 |8503610     |TA+b004y  |26-80-j19-1   |Zürich Oerlikon, Bahnhof Nord |11718          |1           |\n",
      "|377.TA.26-525-j19-1.2.R   |6            |08:40:00  |8503871      |08:42:00 |8503782     |TA+b0344  |26-525-j19-1  |Bülach, Bahnhof               |12307          |1           |\n",
      "|8.TA.26-4-B-j19-1.1.R     |7            |06:40:00  |8503093      |06:42:00 |8503086     |TA+b0008  |26-4-B-j19-1  |Zürich HB SZU                 |12454          |1           |\n",
      "|6.TA.79-10-B-j19-1.2.R    |3            |07:50:00  |8503052      |07:51:00 |8503051     |TA+b0003  |79-10-B-j19-1 |Zürich HB SZU                 |12778          |1           |\n",
      "|254.TA.26-10-B-j19-1.10.R |6            |12:50:00  |8503052      |12:51:00 |8503051     |TA+b0003  |26-10-B-j19-1 |Zürich HB SZU                 |12838          |1           |\n",
      "|15.TA.26-94-j19-1.1.H     |11           |19:15:00  |8587652      |19:16:00 |8587651     |TA+b004y  |26-94-j19-1   |Wallisellen, Glatt (Bus)      |12986          |0           |\n",
      "|579.TA.26-223-j19-1.2.H   |4            |10:57:00  |8573169      |10:59:00 |8502758     |TA+b04st  |26-223-j19-1  |Hausen am Albis, Post         |132            |0           |\n",
      "|1053.TA.26-212-j19-1.2.H  |3            |15:29:00  |8573195      |15:39:00 |8502779     |TA+b022a  |26-212-j19-1  |Ottenbach, Post               |13986          |0           |\n",
      "|473.TA.26-201-j19-1.1.R   |7            |11:28:00  |8574658      |11:29:00 |8503699     |TA+b022a  |26-201-j19-1  |Uitikon Waldegg, Bahnhof      |14387          |1           |\n",
      "|89.TA.26-501-j19-1.1.H    |2            |15:27:00  |8582005      |15:30:00 |8580619     |TA+b002h  |26-501-j19-1  |Bachenbülach, Bramenländli    |14836          |0           |\n",
      "|182.TA.26-771-j19-1.3.R   |8            |12:42:00  |8590896      |12:43:00 |8590883     |TA+b0j2d  |26-771-j19-1  |Wallisellen, Lindenplatz      |15331          |1           |\n",
      "|37.TA.26-18-j19-1.3.H     |17           |07:04:00  |8530813      |07:07:00 |8503059     |TA+b0003  |26-18-j19-1   |Zürich Stadelhofen FB         |154            |0           |\n",
      "|61.TA.26-5-A-j19-1.28.R   |5            |10:37:00  |8502229      |10:39:00 |8502220     |TA+b00np  |26-5-A-j19-1  |Pfäffikon SZ                  |18539          |1           |\n",
      "|143.TA.26-36-j19-1.43.R   |2            |17:44:00  |8503001      |17:49:00 |8503000     |TA+b0cm0  |26-36-j19-1   |Zürich Oerlikon               |2079           |1           |\n",
      "|15.TA.1-217-j19-1.1.H     |2            |12:45:00  |8583890      |12:48:00 |8573178     |TA+b0001  |1-217-j19-1   |Affoltern a. A., Bahnhof      |21731          |0           |\n",
      "|325.TA.26-9-B-j19-1.1.R   |2            |15:33:00  |8591390      |15:34:00 |8502572     |TA+b0ify  |26-9-B-j19-1  |Zürich, Hirzenbach            |2762           |1           |\n",
      "|387.TA.26-156-j19-1.2.H   |12           |06:29:00  |8590813      |06:31:00 |8573167     |TA+b0nfj  |26-156-j19-1  |Thalwil, Zentrum              |2931           |0           |\n",
      "|1213.TA.26-13-j19-1.20.R  |25           |15:07:00  |8591353      |15:08:00 |8576240     |TA+b0ifz  |26-13-j19-1   |Zürich, Frankental            |3140           |1           |\n",
      "|3084.TA.26-9-B-j19-1.25.H |29           |20:02:00  |8591341      |20:04:00 |8502572     |TA+b0j3c  |26-9-B-j19-1  |Zürich, Heuried               |317            |0           |\n",
      "|724.TA.1-245-j19-1.5.R    |18           |17:07:00  |8503699      |17:09:00 |8502559     |TA+b04st  |1-245-j19-1   |Zürich, Triemli               |3490           |1           |\n",
      "|737.TA.26-32-j19-1.10.R   |6            |12:27:00  |8591195      |12:28:00 |8502572     |TA+b0003  |26-32-j19-1   |Zürich, Holzerhurd            |3581           |1           |\n",
      "|102.TA.26-721-j19-1.3.H   |3            |06:17:00  |8576129      |06:19:00 |8503151     |TA+b0003  |26-721-j19-1  |Schwerzenbach ZH, Bahnhof     |3711           |0           |\n",
      "|3839.TA.26-9-B-j19-1.29.R |2            |08:34:00  |8591390      |08:35:00 |8502572     |TA+b0j3n  |26-9-B-j19-1  |Zürich Wiedikon, Bahnhof      |3740           |1           |\n",
      "|312.TA.26-155-j19-1.3.H   |3            |19:48:00  |8590651      |19:50:00 |8503855     |TA+b0dez  |26-155-j19-1  |Horgen, Bahnhof               |3781           |0           |\n",
      "|1252.TA.26-132-j19-1.4.R  |3            |20:53:00  |8590651      |20:55:00 |8503855     |TA+b0fao  |26-132-j19-1  |Horgen, Bahnhof               |3808           |1           |\n",
      "|771.TA.26-225-j19-1.1.H   |3            |19:00:00  |8580268      |19:01:00 |8502574     |TA+b0nfh  |26-225-j19-1  |Aeugst am Albis, Grossacher   |3967           |0           |\n",
      "|729.TA.26-223-j19-1.2.H   |4            |15:27:00  |8573169      |15:29:00 |8502758     |TA+b0nfh  |26-223-j19-1  |Hausen am Albis, Post         |4044           |0           |\n",
      "|914.TA.26-225-j19-1.1.H   |3            |13:30:00  |8580268      |13:31:00 |8502574     |TA+b07xq  |26-225-j19-1  |Aeugst am Albis, Grossacher   |4165           |0           |\n",
      "|1337.TA.26-212-j19-1.2.H  |3            |19:29:00  |8573195      |19:39:00 |8502779     |TA+b07xq  |26-212-j19-1  |Ottenbach, Post               |4369           |0           |\n",
      "|1070.TA.1-245-j19-1.6.H   |11           |16:17:00  |8572646      |16:18:00 |8502570     |TA+b0nfh  |1-245-j19-1   |Muri AG, Bahnhof              |4403           |0           |\n",
      "|639.TA.26-140-j19-1.5.R   |6            |14:37:00  |8573162      |14:38:00 |8502776     |TA+b0nfk  |26-140-j19-1  |Thalwil, Zentrum              |4437           |1           |\n",
      "|5.TA.1-445-j19-1.2.H      |6            |06:40:00  |8572599      |06:42:00 |8502560     |TA+b0n0g  |1-445-j19-1   |Zürich Enge, Bahnhof/Bederstr.|44505          |0           |\n",
      "|677.TA.26-140-j19-1.5.R   |6            |14:07:00  |8573162      |14:08:00 |8502776     |TA+b0fao  |26-140-j19-1  |Thalwil, Zentrum              |4564           |1           |\n",
      "|726.TA.26-140-j19-1.5.R   |6            |13:07:00  |8573162      |13:08:00 |8502776     |TA+b0fao  |26-140-j19-1  |Thalwil, Zentrum              |4740           |1           |\n",
      "|949.TA.26-134-j19-1.4.R   |6            |14:23:00  |8590651      |14:25:00 |8503855     |TA+b0nfk  |26-134-j19-1  |Horgen, Bahnhof               |4884           |1           |\n",
      "|2440.TA.26-9-B-j19-1.24.H |21           |17:18:00  |8591202      |17:19:00 |8503083     |TA+b0a0s  |26-9-B-j19-1  |Zürich, Klusplatz             |5426           |0           |\n",
      "|877.TA.26-225-j19-1.1.H   |3            |15:30:00  |8580268      |15:31:00 |8502574     |TA+b062q  |26-225-j19-1  |Aeugst am Albis, Grossacher   |5656           |0           |\n",
      "|437.TA.26-521-j19-1.2.H   |1            |19:56:00  |8506897      |19:57:00 |8506889     |TA+b0a0e  |26-521-j19-1  |Zürich Flughafen, Bahnhof     |5732           |0           |\n",
      "|90.TA.26-140-j19-1.2.R    |2            |07:49:00  |8573162      |07:50:00 |8502776     |TA+b0fal  |26-140-j19-1  |Thalwil, Zentrum              |5802           |1           |\n",
      "|450.TA.26-768-j19-1.1.H   |1            |06:16:00  |8573205      |06:17:00 |8573213     |TA+b002h  |26-768-j19-1  |Zürich Oerlikon, Bahnhof      |5829           |0           |\n",
      "|973.TA.26-134-j19-1.4.R   |6            |08:53:00  |8590651      |08:55:00 |8503855     |TA+b0nfm  |26-134-j19-1  |Horgen, Bahnhof               |5965           |1           |\n",
      "|400.TA.26-485-j19-1.5.R   |3            |13:27:00  |8591155      |13:28:00 |8576242     |TA+b002h  |26-485-j19-1  |Buchs ZH, Linde               |6019           |1           |\n",
      "|1480.TA.26-200-j19-1.4.H  |9            |18:42:00  |8582723      |18:43:00 |8502953     |TA+b08yp  |26-200-j19-1  |Affoltern a. A., Bahnhof      |6121           |0           |\n",
      "|616.TA.26-131-j19-1.7.R   |6            |06:14:00  |8573552      |06:16:00 |8503855     |TA+b0faq  |26-131-j19-1  |Horgen, Bahnhof               |6300           |1           |\n",
      "|943.TA.26-525-j19-1.10.H  |1            |19:45:00  |8573260      |19:46:00 |8503782     |TA+b0a0e  |26-525-j19-1  |Oberglatt ZH, Bahnhof         |6388           |0           |\n",
      "|1131.TA.26-134-j19-1.2.R  |6            |06:23:00  |8590651      |06:25:00 |8503855     |TA+b0fal  |26-134-j19-1  |Horgen, Bahnhof               |6460           |1           |\n",
      "|1493.TA.26-2-A-j19-1.24.R |7            |20:38:00  |8576195      |20:40:00 |8576193     |TA+b004y  |26-2-A-j19-1  |Zürich, Farbhof               |7012           |1           |\n",
      "|929.TA.26-236-j19-1.6.H   |6            |16:59:00  |8573711      |17:02:00 |8502559     |TA+b04st  |26-236-j19-1  |Hausen am Albis, Post         |714            |0           |\n",
      "|1026.TA.26-140-j19-1.6.H  |6            |15:49:00  |8573163      |15:50:00 |8502776     |TA+b0nfk  |26-140-j19-1  |Langnau am Albis, Unterrengg  |727            |0           |\n",
      "|833.TA.26-121-j19-1.7.R   |2            |20:00:00  |8594182      |20:02:00 |8503855     |TA+b07jb  |26-121-j19-1  |Wädenswil, Bahnhof            |7521           |1           |\n",
      "|465.TA.26-23-A-j19-1.2.H  |4            |07:03:00  |8591156      |07:05:00 |8530473     |TA+b0003  |26-23-A-j19-1 |Zürich, Rigiblick             |7621           |0           |\n",
      "|3832.TA.26-9-B-j19-1.29.R |2            |18:26:00  |8591390      |18:27:00 |8502572     |TA+b004y  |26-9-B-j19-1  |Zürich Wiedikon, Bahnhof      |7625           |1           |\n",
      "|323.TA.26-4-j19-1.15.R    |8            |20:14:00  |8591110      |20:15:00 |8580522     |TA+b0a0s  |26-4-j19-1    |Zürich Altstetten, Bahnhof N  |8421           |1           |\n",
      "|15.TA.1-445-j19-1.6.H     |6            |08:10:00  |8572599      |08:12:00 |8502560     |TA+b0aiq  |1-445-j19-1   |Zürich Enge, Bahnhof/Bederstr.|84511          |0           |\n",
      "|735.TA.1-245-j19-1.5.R    |18           |19:37:00  |8503699      |19:39:00 |8502559     |TA+b07xq  |1-245-j19-1   |Zürich, Triemli               |8714           |1           |\n",
      "|109.TA.79-228-j19-1.1.H   |1            |05:14:00  |8573728      |05:15:00 |8502885     |TA+b062q  |79-228-j19-1  |Bonstetten-Wettswil, Bahnhof  |9201           |0           |\n",
      "|640.TA.26-156-j19-1.2.H   |12           |10:59:00  |8590813      |11:01:00 |8573167     |TA+b002h  |26-156-j19-1  |Thalwil, Zentrum              |9687           |0           |\n",
      "|92.TA.26-652-j19-1.4.H    |6            |12:06:00  |8503371      |12:08:00 |8503370     |TA+b05sv  |26-652-j19-1  |Effretikon, Bahnhof           |987            |0           |\n",
      "|5.TA.26-745-j19-1.1.R     |7            |07:33:00  |8590592      |07:35:00 |8590552     |TA+b0003  |26-745-j19-1  |Stettbach, Bahnhof            |9951           |1           |\n",
      "|826.TA.26-521-j19-1.5.R   |10           |14:01:00  |8573226      |14:03:00 |8506889     |TA+b0344  |26-521-j19-1  |Freienstein, Post             |10803          |1           |\n",
      "|594.TA.26-215-j19-1.3.R   |26           |07:55:00  |8503699      |07:57:00 |8502559     |TA+b0nfg  |26-215-j19-1  |Zürich Wiedikon, Bahnhof      |10814          |1           |\n",
      "|623.TA.1-205-j19-1.4.R    |2            |15:27:00  |8583206      |15:28:00 |8573725     |TA+b0j3a  |1-205-j19-1   |Bonstetten-Wettswil, Bahnhof  |10888          |1           |\n",
      "|665.TA.1-245-j19-1.5.R    |18           |07:35:00  |8503699      |07:37:00 |8502559     |TA+b0nfg  |1-245-j19-1   |Zürich, Triemli               |11134          |1           |\n",
      "|203.TA.26-33-B-j19-1.3.H  |21           |19:18:00  |8591214      |19:19:00 |8503610     |TA+b0igb  |26-33-B-j19-1 |Zürich, Triemli               |11379          |0           |\n",
      "|601.TA.26-501-j19-1.6.R   |3            |15:33:00  |8582005      |15:34:00 |8580617     |TA+b03q4  |26-501-j19-1  |Bülach, Bahnhof               |11467          |1           |\n",
      "|992.TA.26-80-j19-1.8.R    |1            |18:07:00  |8591401      |18:08:00 |8503610     |TA+b004y  |26-80-j19-1   |Zürich Oerlikon, Bahnhof Nord |11756          |1           |\n",
      "|884.TA.26-33E-j19-1.9.R   |11           |16:47:00  |8591137      |16:48:00 |8530812     |TA+b0igc  |26-33E-j19-1  |Zürich Tiefenbrunnen, Bahnhof |12242          |1           |\n",
      "|818.TA.26-140-j19-1.6.H   |6            |11:49:00  |8573163      |11:50:00 |8502776     |TA+b0fal  |26-140-j19-1  |Langnau am Albis, Unterrengg  |1236           |0           |\n",
      "|667.TA.26-510-j19-1.4.R   |5            |20:39:00  |8583769      |20:40:00 |8503885     |TA+b0151  |26-510-j19-1  |Zürich Flughafen, Bahnhof     |12699          |1           |\n",
      "|855.TA.26-140-j19-1.6.H   |6            |11:19:00  |8573163      |11:20:00 |8502776     |TA+b0fao  |26-140-j19-1  |Langnau am Albis, Unterrengg  |1290           |0           |\n",
      "|77.TA.79-10-B-j19-1.3.H   |2            |19:26:00  |8503090      |19:29:00 |8503051     |TA+b0003  |79-10-B-j19-1 |Zürich Triemli                |12919          |0           |\n",
      "|285.TA.26-210-j19-1.3.H   |6            |18:04:00  |8573728      |18:05:00 |8502885     |TA+b022a  |26-210-j19-1  |Bonstetten, Dorfplatz         |14417          |0           |\n",
      "|622.TA.26-240-j19-1.2.H   |19           |19:32:00  |8502963      |19:33:00 |8502758     |TA+b022a  |26-240-j19-1  |Hausen am Albis, Post         |14478          |0           |\n",
      "|1265.TA.26-11-A-j19-1.21.H|18           |06:16:00  |8576193      |06:18:00 |8503059     |TA+b0j3o  |26-11-A-j19-1 |Zürich, Rehalp                |1492           |0           |\n",
      "|554.TA.26-501-j19-1.6.R   |3            |13:33:00  |8582005      |13:34:00 |8580617     |TA+b002h  |26-501-j19-1  |Bülach, Bahnhof               |14984          |1           |\n",
      "|529.TA.26-33-B-j19-1.3.H  |21           |14:55:00  |8591214      |14:56:00 |8503610     |TA+b0003  |26-33-B-j19-1 |Zürich, Triemli               |1601           |0           |\n",
      "|72.TA.26-5-A-j19-1.37.R   |5            |13:07:00  |8502229      |13:09:00 |8502220     |TA+b0h71  |26-5-A-j19-1  |Pfäffikon SZ                  |18549          |1           |\n",
      "|107.TA.26-6-A-j19-1.34.R  |8            |12:55:00  |8503020      |12:58:00 |8503000     |TA+b01fo  |26-6-A-j19-1  |Uetikon                       |18647          |1           |\n",
      "|143.TA.26-9-A-j19-1.57.R  |6            |09:19:00  |8503020      |09:23:00 |8503000     |TA+b0003  |26-9-A-j19-1  |Uster                         |18933          |1           |\n",
      "|38.TA.26-9-A-j19-1.3.H    |6            |18:29:00  |8503003      |18:32:00 |8503000     |TA+b0003  |26-9-A-j19-1  |Schaffhausen                  |18970          |0           |\n",
      "|392.TA.26-14-j19-1.62.H   |1            |06:12:00  |8503000      |06:16:00 |8503006     |TA+b059q  |26-14-j19-1   |Hinwil                        |19421          |0           |\n",
      "|239.TA.26-16-A-j19-1.90.R |3            |19:40:00  |8503020      |19:43:00 |8503000     |TA+b000n  |26-16-A-j19-1 |Herrliberg-Feldmeilen         |19675          |1           |\n",
      "|115.TA.26-19-j19-1.15.R   |4            |14:34:00  |8503006      |14:39:00 |8503000     |TA+b010q  |26-19-j19-1   |Zürich HB                     |19954          |1           |\n",
      "|19.TA.26-19-j19-1.8.R     |5            |17:34:00  |8503006      |17:39:00 |8503000     |TA+b010q  |26-19-j19-1   |Zürich HB                     |19966          |1           |\n",
      "|1505.TA.26-LAF-j19-1.2.R  |1            |09:05:00  |8503081      |09:10:00 |8503082     |TA+b0fak  |26-LAF-j19-1  |Adliswil (Luftseilbahnstation)|200            |1           |\n",
      "|4.TA.26-20-j19-1.2.H      |3            |07:00:00  |8503003      |07:03:00 |8503000     |TA+b00c6  |26-20-j19-1   |Zürich Hardbrücke             |20024          |0           |\n",
      "|318.TA.26-842-j19-1.2.R   |1            |18:35:00  |8503168      |18:37:00 |8503189     |TA+b0003  |26-842-j19-1  |Uster, Bahnhof                |2012           |1           |\n",
      "|687.TA.26-145-j19-1.3.H   |14           |12:53:00  |8573552      |12:55:00 |8503855     |TA+b0fal  |26-145-j19-1  |Horgen, Bahnhof               |2020           |0           |\n",
      "|132.TA.21-75-j19-1.44.R   |1            |10:35:00  |8503000      |10:44:00 |8503016     |TA+b08de  |21-75-j19-1   |Konstanz                      |2115           |1           |\n",
      "|589.TA.26-33-B-j19-1.3.H  |21           |09:10:00  |8591214      |09:11:00 |8503610     |TA+b0003  |26-33-B-j19-1 |Zürich, Triemli               |2138           |0           |\n",
      "|190.TA.26-10-B-j19-1.9.H  |1            |09:50:00  |8503090      |09:53:00 |8503051     |TA+b0jyq  |26-10-B-j19-1 |Uetliberg                     |23529          |0           |\n",
      "|212.TA.6-17-j19-1.89.R    |1            |10:00:00  |8503001      |10:06:00 |8503000     |TA+b0oyj  |6-17-j19-1    |Zürich HB                     |2363           |1           |\n",
      "|1337.TA.26-8-C-j19-1.8.R  |5            |13:07:00  |8530813      |13:09:00 |8503059     |TA+b0fe2  |26-8-C-j19-1  |Zürich, Hardturm              |2431           |1           |\n",
      "|1031.TA.26-14-A-j19-1.10.R|4            |15:43:00  |8591390      |15:45:00 |8502572     |TA+b0003  |26-14-A-j19-1 |Zürich, Seebach               |2951           |1           |\n",
      "|23.TA.1-331-j19-1.3.R     |2            |05:30:00  |8503879      |05:33:00 |8502750     |TA+b0008  |1-331-j19-1   |Mellingen Heitersberg, Bahnhof|33104          |1           |\n",
      "|1473.TA.1-245-j19-1.10.H  |17           |09:17:00  |8572646      |09:18:00 |8502570     |TA+b04st  |1-245-j19-1   |Muri AG, Bahnhof              |388            |0           |\n",
      "|635.TA.26-4-j19-1.20.R    |7            |08:54:00  |8576195      |08:56:00 |8576193     |TA+b0j3h  |26-4-j19-1    |Zürich Altstetten, Bahnhof N  |3884           |1           |\n",
      "|198.TA.1-4-B-j19-1.11.H   |3            |14:03:00  |8590277      |14:04:00 |8590271     |TA+b04h3  |1-4-B-j19-1   |Spreitenbach, IKEA            |40140          |0           |\n",
      "|538.TA.26-18-j19-1.11.H   |12           |15:49:00  |8530813      |15:52:00 |8503059     |TA+b0003  |26-18-j19-1   |Zürich Stadelhofen FB         |428            |0           |\n",
      "|1200.TA.79-229-j19-1.2.H  |3            |16:04:00  |8579994      |16:05:00 |8503692     |TA+b0nfh  |79-229-j19-1  |Wettswil a.A., Heidenchilen   |4546           |0           |\n",
      "|1363.TA.26-201-j19-1.3.H  |4            |20:57:00  |8574739      |20:59:00 |8503709     |TA+b0nfh  |26-201-j19-1  |Uitikon, Wängi                |4580           |0           |\n",
      "|470.TA.26-520-j19-1.2.H   |1            |17:08:00  |8506897      |17:09:00 |8506889     |TA+b0haz  |26-520-j19-1  |Zürich Flughafen, Bahnhof     |495            |0           |\n",
      "|597.TA.26-223-j19-1.2.H   |4            |07:57:00  |8573169      |07:59:00 |8502758     |TA+b0j3a  |26-223-j19-1  |Hausen am Albis, Post         |5059           |0           |\n",
      "|281.TA.26-704-j19-1.9.H   |15           |10:34:00  |8576127      |10:36:00 |8503154     |TA+b0fe4  |26-704-j19-1  |Volketswil, Hofwisen          |5101           |0           |\n",
      "|1455.TA.26-140-j19-1.9.H  |6            |17:36:00  |8573163      |17:37:00 |8502776     |TA+b0nfj  |26-140-j19-1  |Langnau-Gattikon, Bahnhof     |521            |0           |\n",
      "|1147.TA.26-134-j19-1.4.R  |6            |11:23:00  |8590651      |11:25:00 |8503855     |TA+b0nfk  |26-134-j19-1  |Horgen, Bahnhof               |5458           |1           |\n",
      "|745.TA.26-236-j19-1.4.H   |6            |07:58:00  |8573711      |08:01:00 |8502559     |TA+b062q  |26-236-j19-1  |Hausen am Albis, Post         |5546           |0           |\n",
      "|519.TA.26-140-j19-1.5.R   |6            |07:07:00  |8573162      |07:08:00 |8502776     |TA+b0nfm  |26-140-j19-1  |Thalwil, Zentrum              |6059           |1           |\n",
      "|1014.TA.26-134-j19-1.2.R  |6            |07:53:00  |8590651      |07:55:00 |8503855     |TA+b0faq  |26-134-j19-1  |Horgen, Bahnhof               |6104           |1           |\n",
      "|381.TA.26-521-j19-1.2.H   |1            |17:26:00  |8506897      |17:27:00 |8506889     |TA+b0a0e  |26-521-j19-1  |Zürich Flughafen, Bahnhof     |6147           |0           |\n",
      "|56.TA.26-133-j19-1.2.R    |3            |13:04:00  |8573552      |13:06:00 |8503855     |TA+b0nfm  |26-133-j19-1  |Horgen, Bahnhof               |6245           |1           |\n",
      "|213.TA.1-17-A-j19-1.17.H  |10           |09:34:00  |8502278      |09:36:00 |8502186     |TA+b04df  |1-17-A-j19-1  |Dietikon                      |625            |0           |\n",
      "|668.TA.26-131-j19-1.7.R   |6            |05:44:00  |8573552      |05:46:00 |8503855     |TA+b0nfm  |26-131-j19-1  |Horgen, Bahnhof               |6527           |1           |\n",
      "|917.TA.26-236-j19-1.6.H   |6            |08:58:00  |8573711      |09:01:00 |8502559     |TA+b08yp  |26-236-j19-1  |Hausen am Albis, Post         |6632           |0           |\n",
      "|306.TA.1-245-j19-1.1.R    |1            |13:09:00  |8572647      |13:11:00 |8502570     |TA+b062q  |1-245-j19-1   |Birmensdorf ZH, Bahnhof       |6721           |1           |\n",
      "|1709.TA.26-121-j19-1.14.H |5            |16:57:00  |8590651      |16:59:00 |8503855     |TA+b0i79  |26-121-j19-1  |Horgen, Bahnhof               |6991           |0           |\n",
      "|741.TA.26-236-j19-1.4.H   |6            |15:58:00  |8573711      |16:01:00 |8502559     |TA+b0nfg  |26-236-j19-1  |Hausen am Albis, Post         |7101           |0           |\n",
      "|421.TA.26-520-j19-1.2.H   |1            |12:38:00  |8506897      |12:39:00 |8506889     |TA+b0a0e  |26-520-j19-1  |Zürich Flughafen, Bahnhof     |7335           |0           |\n",
      "|11.TA.30-57-Y-j19-1.1.H   |1            |10:48:00  |8502208      |10:53:00 |8502209     |TA+b07pb  |30-57-Y-j19-1 |Thalwil                       |79440          |0           |\n",
      "|1640.TA.26-10-j19-1.11.R  |26           |18:01:00  |8587799      |18:02:00 |8573205     |TA+b002h  |26-10-j19-1   |Zürich Flughafen, Fracht      |8286           |1           |\n",
      "|1369.TA.26-2-A-j19-1.24.R |7            |10:28:00  |8576195      |10:30:00 |8576193     |TA+b0a0s  |26-2-A-j19-1  |Zürich, Farbhof               |8758           |1           |\n",
      "|7.TA.30-82-Y-j19-1.1.H    |1            |20:53:00  |8503316      |20:57:00 |8503315     |TA+b0c8q  |30-82-Y-j19-1 |Oberglatt                     |88261          |0           |\n",
      "|459.TA.26-236-j19-1.2.R   |20           |07:59:00  |8574739      |08:00:00 |8502559     |TA+b062q  |26-236-j19-1  |Zürich Wiedikon, Bahnhof      |8876           |1           |\n",
      "|1544.TA.26-10-j19-1.11.R  |26           |06:01:00  |8587799      |06:03:00 |8573205     |TA+b002h  |26-10-j19-1   |Zürich Flughafen, Fracht      |8977           |1           |\n",
      "|701.TA.1-205-j19-1.3.R    |2            |14:27:00  |8583206      |14:28:00 |8573725     |TA+b062q  |1-205-j19-1   |Bonstetten-Wettswil, Bahnhof  |9139           |1           |\n",
      "|539.TA.26-530-j19-1.2.R   |16           |20:15:00  |8582739      |20:16:00 |8503772     |TA+b0343  |26-530-j19-1  |Bülach, Bahnhof               |9380           |1           |\n",
      "|339.TA.1-245-j19-1.1.R    |1            |11:09:00  |8572647      |11:11:00 |8502570     |TA+b08yp  |1-245-j19-1   |Birmensdorf ZH, Bahnhof       |9456           |1           |\n",
      "|281.TA.1-245-j19-1.1.R    |1            |10:09:00  |8572647      |10:11:00 |8502570     |TA+b08yp  |1-245-j19-1   |Birmensdorf ZH, Bahnhof       |9477           |1           |\n",
      "|634.TA.26-156-j19-1.2.H   |12           |13:59:00  |8590813      |14:01:00 |8573167     |TA+b002h  |26-156-j19-1  |Thalwil, Zentrum              |9560           |0           |\n",
      "|217.TA.26-35-B-j19-1.6.R  |5            |11:01:00  |8591284      |11:03:00 |8590318     |TA+b0003  |26-35-B-j19-1 |Zürich, Solidapark            |9680           |1           |\n",
      "|1293.TA.26-212-j19-1.2.H  |3            |09:59:00  |8573195      |10:09:00 |8502779     |TA+b04st  |26-212-j19-1  |Ottenbach, Post               |101            |0           |\n",
      "|273.TA.26-235-j19-1.4.R   |17           |17:28:00  |8574739      |17:29:00 |8502559     |TA+b08yp  |26-235-j19-1  |Zürich Wiedikon, Bahnhof      |10212          |1           |\n",
      "|29.TA.79-18-A-j19-1.3.R   |4            |13:46:00  |8590601      |13:48:00 |8503061     |TA+b0aa4  |79-18-A-j19-1 |Esslingen, Bahnhof            |1041           |1           |\n",
      "|341.TA.26-535-j19-1.3.H   |6            |10:38:00  |8573265      |10:40:00 |8573264     |TA+b03q4  |26-535-j19-1  |Niederhasli, Bahnhof          |10782          |0           |\n",
      "|623.TA.26-3-A-j19-1.2.H   |18           |08:23:00  |8591202      |08:24:00 |8503083     |TA+b0i57  |26-3-A-j19-1  |Zürich, Klusplatz             |1093           |0           |\n",
      "|825.TA.26-32-j19-1.12.H   |19           |19:16:00  |8591447      |19:17:00 |8502572     |TA+b004y  |26-32-j19-1   |Zürich, Strassenverkehrsamt   |10975          |0           |\n",
      "|670.TA.26-225-j19-1.1.H   |3            |19:00:00  |8580268      |19:01:00 |8502574     |TA+b04st  |26-225-j19-1  |Aeugst am Albis, Grossacher   |11             |0           |\n",
      "|159.TA.26-72-j19-1.3.H    |3            |20:17:00  |8591323      |20:18:00 |8580522     |TA+b004y  |26-72-j19-1   |Zürich, Morgental             |11306          |0           |\n",
      "|471.TA.26-235-j19-1.5.R   |18           |14:28:00  |8574739      |14:29:00 |8502559     |TA+b0nfg  |26-235-j19-1  |Zürich Wiedikon, Bahnhof      |11604          |1           |\n",
      "|134.TA.26-62-j19-1.2.H    |5            |19:08:00  |8591054      |19:10:00 |8576262     |TA+b0igb  |26-62-j19-1   |Zürich, Schwamendingerplatz   |11738          |0           |\n",
      "|236.TA.26-69-j19-1.3.R    |1            |19:21:00  |8591276      |19:24:00 |8591101     |TA+b004y  |26-69-j19-1   |Zürich, ETH Hönggerberg       |11798          |1           |\n",
      "|50.TA.26-842-j19-1.1.H    |5            |11:19:00  |8503189      |11:20:00 |8503168     |TA+b0003  |26-842-j19-1  |Oetwil am See, Zentrum        |1192           |0           |\n",
      "|708.TA.26-531-j19-1.5.R   |9            |08:54:00  |8582739      |08:55:00 |8503772     |TA+b0343  |26-531-j19-1  |Bülach, Bahnhof               |12144          |1           |\n",
      "|876.TA.26-33E-j19-1.9.R   |11           |17:17:00  |8591137      |17:18:00 |8530812     |TA+b0igc  |26-33E-j19-1  |Zürich Tiefenbrunnen, Bahnhof |12211          |1           |\n",
      "|756.TA.26-33-B-j19-1.6.R  |10           |17:59:00  |8594239      |18:00:00 |8580522     |TA+b0iga  |26-33-B-j19-1 |Zürich, Kirche Fluntern       |12293          |1           |\n",
      "|56.TA.26-842-j19-1.1.H    |5            |09:49:00  |8503189      |09:50:00 |8503168     |TA+b0003  |26-842-j19-1  |Oetwil am See, Zentrum        |1235           |0           |\n",
      "|233.TA.26-156-j19-1.2.H   |12           |18:29:00  |8590813      |18:31:00 |8573167     |TA+b0nfm  |26-156-j19-1  |Thalwil, Zentrum              |1259           |0           |\n",
      "|237.TA.26-76-j19-1.2.R    |5            |16:36:00  |8591341      |16:38:00 |8573710     |TA+b0iga  |26-76-j19-1   |Zürich Wiedikon, Bahnhof      |12696          |1           |\n",
      "|639.TA.26-200-j19-1.3.R   |1            |17:15:00  |8573178      |17:16:00 |8502953     |TA+b08yp  |26-200-j19-1  |Zürich Enge, Bahnhof/Bederstr.|12862          |1           |\n",
      "|471.TA.26-213-j19-1.1.R   |2            |16:11:00  |8572606      |16:13:00 |8572604     |TA+b062q  |26-213-j19-1  |Affoltern a. A., Bahnhof      |12918          |1           |\n",
      "|373.TA.26-525-j19-1.3.R   |6            |06:10:00  |8503871      |06:12:00 |8503782     |TA+b0344  |26-525-j19-1  |Bülach, Bahnhof               |12941          |1           |\n",
      "|588.TA.1-205-j19-1.4.R    |2            |15:27:00  |8583206      |15:28:00 |8573725     |TA+b08yp  |1-205-j19-1   |Bonstetten-Wettswil, Bahnhof  |13246          |1           |\n",
      "|671.TA.79-221-j19-1.2.H   |16           |10:48:00  |8573712      |10:49:00 |8503692     |TA+b022a  |79-221-j19-1  |Bonstetten-Wettswil, Bahnhof  |14217          |0           |\n",
      "|229.TA.1-245-j19-1.1.R    |1            |14:39:00  |8572647      |14:41:00 |8502570     |TA+b022a  |1-245-j19-1   |Birmensdorf ZH, Bahnhof       |14317          |1           |\n",
      "|163.TA.26-210-j19-1.2.R   |3            |07:13:00  |8573726      |07:15:00 |8573713     |TA+b022a  |26-210-j19-1  |Zürich Enge, Bahnhof/Bederstr.|14615          |1           |\n",
      "|427.TA.26-510-j19-1.3.R   |5            |05:39:00  |8583769      |05:40:00 |8503885     |TA+b002h  |26-510-j19-1  |Zürich Flughafen, Bahnhof     |14904          |1           |\n",
      "|46.TA.16-5-j19-1.21.H     |2            |11:15:00  |8503006      |11:21:00 |8503000     |TA+b0qj2  |16-5-j19-1    |Lausanne                      |1518           |0           |\n",
      "|349.TA.26-200-j19-1.2.R   |1            |19:15:00  |8573178      |19:16:00 |8502953     |TA+b04st  |26-200-j19-1  |Zürich Enge, Bahnhof/Bederstr.|1539           |1           |\n",
      "|1033.TA.26-LAF-j19-1.2.R  |1            |12:05:00  |8503081      |12:10:00 |8503082     |TA+b0m56  |26-LAF-j19-1  |Adliswil (Luftseilbahnstation)|1624           |1           |\n",
      "|47.TA.26-136-j19-1.1.R    |6            |18:37:00  |8594182      |18:39:00 |8503855     |TA+b0fao  |26-136-j19-1  |Horgen, Bahnhof               |1793           |1           |\n",
      "|34.TA.26-2-j19-1.9.R      |4            |07:07:00  |8503011      |07:12:00 |8503000     |TA+b002h  |26-2-j19-1    |Zürich Flughafen              |18224          |1           |\n",
      "|257.TA.26-5-A-j19-1.103.H |5            |10:45:00  |8503001      |10:49:00 |8502220     |TA+b0sqn  |26-5-A-j19-1  |Zug                           |18538          |0           |\n",
      "|324.TA.26-6-A-j19-1.45.H  |9            |17:57:00  |8503003      |17:59:00 |8503000     |TA+b00cg  |26-6-A-j19-1  |Baden                         |18668          |0           |\n",
      "|537.TA.26-8-A-j19-1.350.H |8            |12:49:00  |8503011      |12:53:00 |8503000     |TA+b01ay  |26-8-A-j19-1  |Winterthur                    |18846          |0           |\n",
      "|248.TA.26-652-j19-1.7.R   |5            |19:59:00  |8575921      |20:00:00 |8503370     |TA+b05sv  |26-652-j19-1  |Illnau, Bahnhof               |1958           |1           |\n",
      "|3.TA.26-19-j19-1.3.H      |2            |16:10:00  |8503001      |16:15:00 |8503000     |TA+b0119  |26-19-j19-1   |Pfäffikon ZH                  |19961          |0           |\n",
      "|842.TA.26-24-j19-1.266.H  |5            |20:41:00  |8503015      |20:46:00 |8503000     |TA+b0six  |26-24-j19-1   |Zug                           |20479          |0           |\n",
      "|186.TA.26-10-B-j19-1.9.H  |1            |08:30:00  |8503090      |08:33:00 |8503051     |TA+b0jyq  |26-10-B-j19-1 |Uetliberg                     |23521          |0           |\n",
      "|1736.TA.26-225-j19-1.3.R  |1            |13:20:00  |8583047      |13:21:00 |8502771     |TA+b04st  |26-225-j19-1  |Affoltern a. A., Bahnhof      |2354           |1           |\n",
      "|704.TA.26-15-A-j19-1.6.H  |12           |07:52:00  |8576193      |07:53:00 |8503059     |TA+b0j3h  |26-15-A-j19-1 |Zürich Stadelhofen FB         |2683           |0           |\n",
      "|870.TA.26-145-j19-1.3.H   |14           |07:53:00  |8573552      |07:55:00 |8503855     |TA+b0dez  |26-145-j19-1  |Horgen, Bahnhof               |2714           |0           |\n",
      "|22.TA.1-331-j19-1.2.H     |2            |19:52:00  |8503879      |19:56:00 |8502575     |TA+b0008  |1-331-j19-1   |Widen, Dorf                   |33159          |0           |\n",
      "|1130.TA.26-5-B-j19-1.23.R |8            |12:00:00  |8591105      |12:03:00 |8576193     |TA+b0j3n  |26-5-B-j19-1  |Zürich, Kirche Fluntern       |3521           |1           |\n",
      "|690.TA.26-140-j19-1.5.R   |6            |18:07:00  |8573162      |18:08:00 |8502776     |TA+b0nfk  |26-140-j19-1  |Thalwil, Zentrum              |3578           |1           |\n",
      "|787.TA.26-531-j19-1.5.R   |9            |07:00:00  |8582739      |07:01:00 |8503772     |TA+b0haz  |26-531-j19-1  |Bülach, Bahnhof               |3584           |1           |\n",
      "|1768.TA.26-3-A-j19-1.8.R  |2            |08:13:00  |8591199      |08:14:00 |8503083     |TA+b0grl  |26-3-A-j19-1  |Zürich, Albisrieden           |3742           |1           |\n",
      "|119.TA.26-325-j19-1.1.R   |7            |13:51:00  |8590219      |13:52:00 |8587020     |TA+b0hb3  |26-325-j19-1  |Dietikon, Bahnhof             |37675          |1           |\n",
      "|33.TA.1-444-j19-1.2.H     |3            |12:11:00  |8581346      |12:12:00 |8502894     |TA+b0n0h  |1-444-j19-1   |Zürich Enge, Bahnhof/Bederstr.|44429          |0           |\n",
      "|742.TA.26-223-j19-1.2.H   |4            |09:57:00  |8573169      |09:59:00 |8502758     |TA+b0nfg  |26-223-j19-1  |Hausen am Albis, Post         |4864           |0           |\n",
      "|1501.TA.26-212-j19-1.2.H  |3            |07:59:00  |8573195      |08:09:00 |8502779     |TA+b0j3a  |26-212-j19-1  |Ottenbach, Post               |5045           |0           |\n",
      "|1150.TA.79-229-j19-1.2.H  |3            |05:34:00  |8579994      |05:35:00 |8503692     |TA+b07xq  |79-229-j19-1  |Wettswil a.A., Heidenchilen   |5076           |0           |\n",
      "|710.TA.26-32-j19-1.10.R   |6            |08:29:00  |8591195      |08:30:00 |8502572     |TA+b0003  |26-32-j19-1   |Zürich, Holzerhurd            |5475           |1           |\n",
      "|734.TA.26-236-j19-1.4.H   |6            |13:58:00  |8573711      |14:01:00 |8502559     |TA+b062q  |26-236-j19-1  |Hausen am Albis, Post         |5520           |0           |\n",
      "|1138.TA.26-530-j19-1.6.H  |2            |20:13:00  |8582739      |20:15:00 |8503781     |TA+b0344  |26-530-j19-1  |Zürich Flughafen, Bahnhof     |5714           |0           |\n",
      "|617.TA.26-223-j19-1.2.H   |4            |08:27:00  |8573169      |08:29:00 |8502758     |TA+b062q  |26-223-j19-1  |Hausen am Albis, Post         |5872           |0           |\n",
      "|1013.TA.26-134-j19-1.2.R  |6            |07:53:00  |8590651      |07:55:00 |8503855     |TA+b0far  |26-134-j19-1  |Horgen, Bahnhof               |6094           |1           |\n",
      "|645.TA.26-8-C-j19-1.6.R   |2            |18:13:00  |8591199      |18:15:00 |8503083     |TA+b0a0s  |26-8-C-j19-1  |Zürich Tiefenbrunnen, Bahnhof |6621           |1           |\n",
      "|195.TA.1-17-A-j19-1.16.R  |3            |18:19:00  |8502270      |18:20:00 |8502186     |TA+b001a  |1-17-A-j19-1  |Bremgarten West               |672            |1           |\n",
      "|378.TA.26-521-j19-1.2.H   |1            |13:24:00  |8506897      |13:25:00 |8506889     |TA+b0344  |26-521-j19-1  |Zürich Flughafen, Bahnhof     |6841           |0           |\n",
      "|337.TA.26-504-j19-1.3.H   |8            |15:26:00  |8573238      |15:29:00 |8573237     |TA+b0a0e  |26-504-j19-1  |Oberglatt ZH, Bahnhof         |7337           |0           |\n",
      "|610.TA.26-8-C-j19-1.6.R   |2            |13:58:00  |8591199      |14:00:00 |8503083     |TA+b0a0s  |26-8-C-j19-1  |Zürich Tiefenbrunnen, Bahnhof |7508           |1           |\n",
      "|2373.TA.26-11-A-j19-1.31.R|2            |18:35:00  |8591142      |18:37:00 |8530811     |TA+b0a0s  |26-11-A-j19-1 |Zürich Tiefenbrunnen, Bahnhof |7652           |1           |\n",
      "|1917.TA.26-11-A-j19-1.27.R|9            |18:27:00  |8530813      |18:29:00 |8503059     |TA+b004y  |26-11-A-j19-1 |Zürich, Auzelg                |7702           |1           |\n",
      "|1614.TA.26-225-j19-1.2.R  |1            |06:50:00  |8583047      |06:51:00 |8502771     |TA+b08yp  |26-225-j19-1  |Affoltern a. A., Bahnhof      |7754           |1           |\n",
      "|554.TA.26-201-j19-1.1.R   |7            |13:28:00  |8574658      |13:29:00 |8503699     |TA+b0nfh  |26-201-j19-1  |Uitikon Waldegg, Bahnhof      |7799           |1           |\n",
      "|15.TA.26-67-j19-1.1.R     |1            |08:20:00  |8591341      |08:21:00 |8502572     |TA+b0003  |26-67-j19-1   |Zürich, Dunkelhölzli          |7813           |1           |\n",
      "|1565.TA.26-9-B-j19-1.14.R |3            |15:18:00  |8591390      |15:19:00 |8502572     |TA+b0a0s  |26-9-B-j19-1  |Zürich, Paradeplatz           |8257           |1           |\n",
      "|92.TA.79-210-j19-1.2.H    |2            |16:04:00  |8573728      |16:05:00 |8502885     |TA+b04st  |79-210-j19-1  |Bonstetten, Dorfplatz         |854            |0           |\n",
      "|1343.TA.26-2-A-j19-1.24.R |7            |11:28:00  |8576195      |11:30:00 |8576193     |TA+b0a0s  |26-2-A-j19-1  |Zürich, Farbhof               |8697           |1           |\n",
      "|1395.TA.26-2-A-j19-1.24.R |7            |08:51:00  |8576195      |08:52:00 |8576193     |TA+b0a0s  |26-2-A-j19-1  |Zürich, Farbhof               |8847           |1           |\n",
      "|599.TA.26-201-j19-1.1.R   |7            |11:28:00  |8574658      |11:29:00 |8503699     |TA+b0nfg  |26-201-j19-1  |Uitikon Waldegg, Bahnhof      |8897           |1           |\n",
      "|1507.TA.26-10-j19-1.11.R  |26           |08:57:00  |8587799      |08:59:00 |8573205     |TA+b002h  |26-10-j19-1   |Zürich Flughafen, Fracht      |8906           |1           |\n",
      "|712.TA.26-212-j19-1.1.R   |3            |14:01:00  |8583890      |14:04:00 |8573178     |TA+b0j3a  |26-212-j19-1  |Affoltern a. A., Bahnhof      |9258           |1           |\n",
      "|15.TA.63-11-Y-j19-1.1.H   |3            |12:19:00  |8502270      |12:20:00 |8502186     |TA+b0h4d  |63-11-Y-j19-1 |Bremgarten                    |938            |0           |\n",
      "|962.TA.26-520-j19-1.3.R   |10           |20:49:00  |8573226      |20:51:00 |8506889     |TA+b0a0e  |26-520-j19-1  |Embrach-Rorbas, Bahnhof       |9766           |1           |\n",
      "|694.TA.26-240-j19-1.2.H   |19           |08:32:00  |8502963      |08:33:00 |8502758     |TA+b04st  |26-240-j19-1  |Hausen am Albis, Post         |986            |0           |\n",
      "|539.TA.26-523-j19-1.2.H   |2            |07:04:00  |8573225      |07:05:00 |8506889     |TA+b0344  |26-523-j19-1  |Embrach-Rorbas, Bahnhof       |10068          |0           |\n",
      "|384.TA.26-525-j19-1.2.R   |6            |16:40:00  |8503871      |16:42:00 |8503782     |TA+b0343  |26-525-j19-1  |Bülach, Bahnhof               |10440          |1           |\n",
      "|524.TA.26-215-j19-1.3.R   |26           |14:28:00  |8503699      |14:30:00 |8502559     |TA+b0nfg  |26-215-j19-1  |Zürich Wiedikon, Bahnhof      |10569          |1           |\n",
      "|310.TA.26-220-j19-1.2.R   |10           |18:16:00  |8583613      |18:17:00 |8502559     |TA+b062q  |26-220-j19-1  |Zürich Wiedikon, Bahnhof      |10630          |1           |\n",
      "|353.TA.26-525-j19-1.4.R   |6            |15:40:00  |8503871      |15:42:00 |8503782     |TA+b0343  |26-525-j19-1  |Bülach, Bahnhof               |10723          |1           |\n",
      "|1317.TA.26-32-j19-1.12.H  |19           |07:48:00  |8591447      |07:49:00 |8502572     |TA+b0003  |26-32-j19-1   |Zürich, Strassenverkehrsamt   |1112           |0           |\n",
      "|811.TA.26-504-j19-1.6.R   |1            |13:01:00  |8573237      |13:03:00 |8573238     |TA+b0343  |26-504-j19-1  |Bülach, Bahnhof               |11384          |1           |\n",
      "|869.TA.26-67-j19-1.2.H    |12           |18:37:00  |8591170      |18:39:00 |8502572     |TA+b0igb  |26-67-j19-1   |Zürich Wiedikon, Bahnhof      |11539          |0           |\n",
      "|163.TA.26-83-j19-1.2.H    |3            |17:49:00  |8591323      |17:51:00 |8580522     |TA+b0igc  |26-83-j19-1   |Zürich Altstetten, Bahnhof    |12425          |0           |\n",
      "|120.TA.26-4-B-j19-1.3.R   |6            |08:10:00  |8503093      |08:12:00 |8503086     |TA+b0003  |26-4-B-j19-1  |Zürich HB SZU                 |12472          |1           |\n",
      "|266.TA.26-10-B-j19-1.10.R |6            |15:50:00  |8503052      |15:51:00 |8503051     |TA+b0003  |26-10-B-j19-1 |Zürich HB SZU                 |12874          |1           |\n",
      "|42.TA.79-210-j19-1.1.R    |2            |09:09:00  |8573729      |09:11:00 |8573726     |TA+b07xq  |79-210-j19-1  |Bonstetten-Wettswil, Bahnhof  |12955          |1           |\n",
      "|657.TA.26-184-j19-1.6.R   |3            |18:13:00  |8590484      |18:14:00 |8590472     |TA+b002h  |26-184-j19-1  |Zürich Wollishofen, Bahnhof   |13144          |1           |\n",
      "|758.TA.26-11-A-j19-1.3.H  |24           |08:10:00  |8576193      |08:12:00 |8503059     |TA+b0j3o  |26-11-A-j19-1 |Zürich, Rehalp                |1318           |0           |\n",
      "|530.TA.26-212-j19-1.1.R   |3            |11:31:00  |8583890      |11:34:00 |8573178     |TA+b062q  |26-212-j19-1  |Affoltern a. A., Bahnhof      |13244          |1           |\n",
      "|266.TA.26-240-j19-1.1.R   |5            |17:30:00  |8573158      |17:32:00 |8502762     |TA+b062q  |26-240-j19-1  |Thalwil, Bahnhof              |13275          |1           |\n",
      "|492.TA.26-225-j19-1.1.H   |3            |17:00:00  |8580268      |17:01:00 |8502574     |TA+b022a  |26-225-j19-1  |Aeugst am Albis, Grossacher   |13937          |0           |\n",
      "|507.TA.26-225-j19-1.1.H   |3            |09:30:00  |8580268      |09:31:00 |8502574     |TA+b022a  |26-225-j19-1  |Aeugst am Albis, Grossacher   |13952          |0           |\n",
      "|406.TA.26-223-j19-1.2.H   |4            |15:27:00  |8573169      |15:29:00 |8502758     |TA+b022a  |26-223-j19-1  |Hausen am Albis, Post         |13999          |0           |\n",
      "+--------------------------+-------------+----------+-------------+---------+------------+----------+--------------+------------------------------+---------------+------------+\n",
      "only showing top 1000 rows"
     ]
    }
   ],
   "source": [
    "s.orderBy(['trip_short_name', 'Stop_Station']).dropDuplicates(['trip_short_name']).show(1000, False)"
   ]
  },
  {
   "cell_type": "code",
   "execution_count": null,
   "metadata": {},
   "outputs": [],
   "source": []
  },
  {
   "cell_type": "code",
   "execution_count": 28,
   "metadata": {},
   "outputs": [
    {
     "data": {
      "application/vnd.jupyter.widget-view+json": {
       "model_id": "",
       "version_major": 2,
       "version_minor": 0
      },
      "text/plain": [
       "FloatProgress(value=0.0, bar_style='info', description='Progress:', layout=Layout(height='25px', width='50%'),…"
      ]
     },
     "metadata": {},
     "output_type": "display_data"
    },
    {
     "name": "stdout",
     "output_type": "stream",
     "text": [
      "+---------------------+-------------+----------+-------------+---------+------------+----------+-----------+------------------------+---------------+------------+\n",
      "|Trip_ID              |Stop_sequence|Start_Time|Start_Station|Stop_Time|Stop_Station|service_id|route_id   |trip_headsign           |trip_short_name|direction_id|\n",
      "+---------------------+-------------+----------+-------------+---------+------------+----------+-----------+------------------------+---------------+------------+\n",
      "|3.TA.1-217-j19-1.1.H |2            |06:45:00  |8583890      |06:48:00 |8573178     |TA+b0001  |1-217-j19-1|Affoltern a. A., Bahnhof|21707          |0           |\n",
      "|3.TA.1-217-j19-1.1.H |1            |06:43:00  |8573195      |06:45:00 |8583890     |TA+b0001  |1-217-j19-1|Affoltern a. A., Bahnhof|21707          |0           |\n",
      "|7.TA.1-217-j19-1.1.H |2            |08:45:00  |8583890      |08:48:00 |8573178     |TA+b0001  |1-217-j19-1|Affoltern a. A., Bahnhof|21715          |0           |\n",
      "|7.TA.1-217-j19-1.1.H |1            |08:43:00  |8573195      |08:45:00 |8583890     |TA+b0001  |1-217-j19-1|Affoltern a. A., Bahnhof|21715          |0           |\n",
      "|9.TA.1-217-j19-1.1.H |2            |09:45:00  |8583890      |09:48:00 |8573178     |TA+b0001  |1-217-j19-1|Affoltern a. A., Bahnhof|21719          |0           |\n",
      "|9.TA.1-217-j19-1.1.H |1            |09:43:00  |8573195      |09:45:00 |8583890     |TA+b0001  |1-217-j19-1|Affoltern a. A., Bahnhof|21719          |0           |\n",
      "|15.TA.1-217-j19-1.1.H|2            |12:45:00  |8583890      |12:48:00 |8573178     |TA+b0001  |1-217-j19-1|Affoltern a. A., Bahnhof|21731          |0           |\n",
      "|15.TA.1-217-j19-1.1.H|1            |12:43:00  |8573195      |12:45:00 |8583890     |TA+b0001  |1-217-j19-1|Affoltern a. A., Bahnhof|21731          |0           |\n",
      "|17.TA.1-217-j19-1.1.H|2            |13:45:00  |8583890      |13:48:00 |8573178     |TA+b0001  |1-217-j19-1|Affoltern a. A., Bahnhof|21735          |0           |\n",
      "|17.TA.1-217-j19-1.1.H|1            |13:43:00  |8573195      |13:45:00 |8583890     |TA+b0001  |1-217-j19-1|Affoltern a. A., Bahnhof|21735          |0           |\n",
      "|19.TA.1-217-j19-1.1.H|2            |14:45:00  |8583890      |14:48:00 |8573178     |TA+b0001  |1-217-j19-1|Affoltern a. A., Bahnhof|21739          |0           |\n",
      "|19.TA.1-217-j19-1.1.H|1            |14:43:00  |8573195      |14:45:00 |8583890     |TA+b0001  |1-217-j19-1|Affoltern a. A., Bahnhof|21739          |0           |\n",
      "|21.TA.1-217-j19-1.1.H|2            |15:45:00  |8583890      |15:48:00 |8573178     |TA+b0001  |1-217-j19-1|Affoltern a. A., Bahnhof|21743          |0           |\n",
      "|21.TA.1-217-j19-1.1.H|1            |15:43:00  |8573195      |15:45:00 |8583890     |TA+b0001  |1-217-j19-1|Affoltern a. A., Bahnhof|21743          |0           |\n",
      "|23.TA.1-217-j19-1.1.H|2            |16:45:00  |8583890      |16:48:00 |8573178     |TA+b0001  |1-217-j19-1|Affoltern a. A., Bahnhof|21747          |0           |\n",
      "|23.TA.1-217-j19-1.1.H|1            |16:43:00  |8573195      |16:45:00 |8583890     |TA+b0001  |1-217-j19-1|Affoltern a. A., Bahnhof|21747          |0           |\n",
      "|29.TA.1-217-j19-1.1.H|2            |19:45:00  |8583890      |19:48:00 |8573178     |TA+b0001  |1-217-j19-1|Affoltern a. A., Bahnhof|21759          |0           |\n",
      "|29.TA.1-217-j19-1.1.H|1            |19:43:00  |8573195      |19:45:00 |8583890     |TA+b0001  |1-217-j19-1|Affoltern a. A., Bahnhof|21759          |0           |\n",
      "|31.TA.1-217-j19-1.1.H|2            |20:45:00  |8583890      |20:48:00 |8573178     |TA+b0001  |1-217-j19-1|Affoltern a. A., Bahnhof|21763          |0           |\n",
      "|31.TA.1-217-j19-1.1.H|1            |20:43:00  |8573195      |20:45:00 |8583890     |TA+b0001  |1-217-j19-1|Affoltern a. A., Bahnhof|21763          |0           |\n",
      "+---------------------+-------------+----------+-------------+---------+------------+----------+-----------+------------------------+---------------+------------+\n",
      "only showing top 20 rows"
     ]
    }
   ],
   "source": [
    "s.show(20, False)"
   ]
  },
  {
   "cell_type": "code",
   "execution_count": null,
   "metadata": {},
   "outputs": [],
   "source": []
  },
  {
   "cell_type": "code",
   "execution_count": 12,
   "metadata": {},
   "outputs": [
    {
     "data": {
      "application/vnd.jupyter.widget-view+json": {
       "model_id": "",
       "version_major": 2,
       "version_minor": 0
      },
      "text/plain": [
       "FloatProgress(value=0.0, bar_style='info', description='Progress:', layout=Layout(height='25px', width='50%'),…"
      ]
     },
     "metadata": {},
     "output_type": "display_data"
    },
    {
     "name": "stdout",
     "output_type": "stream",
     "text": [
      "+-------------------+----------------------+----------+--------------+-----------+---------+------------------+--------------------+\n",
      "|arrival_time_minute|trip_id               |station_id|transport_type|line_id    |line_text|delay_probability |delay_parameter     |\n",
      "+-------------------+----------------------+----------+--------------+-----------+---------+------------------+--------------------+\n",
      "| 23:49             |85:3849:109091-03010-1|8591382   |Tram          |85:3849:010|10       |0.797695300585474 |0.015237956376985337|\n",
      "| 12:38             |85:3849:141563-04007-1|8591106   |Tram          |85:3849:007|7        |0.8485443366175273|0.015191044341473024|\n",
      "| 08:24             |85:3849:142888-04011-1|8591180   |Tram          |85:3849:011|11       |0.8421321645767593|0.01299529296167841 |\n",
      "| 19:36             |85:3849:142915-04011-1|8530812   |Tram          |85:3849:011|11       |0.8228581490114534|0.01361149920342191 |\n",
      "| 13:57             |85:3849:161437-14005-1|8591058   |Tram          |85:3849:005|5        |0.7992672885357287|0.014813764406625005|\n",
      "| 08:33             |85:3849:192973-17002-1|8576197   |Tram          |85:3849:002|2        |0.8582905628147923|0.01406181864618534 |\n",
      "| 19:17             |85:3849:244783-17002-1|8591299   |Tram          |85:3849:002|2        |0.8090659886377181|0.016396252740973463|\n",
      "| 15:50             |85:3849:254585-25009-1|8591123   |Tram          |85:3849:009|9        |0.8574457244259117|0.013641600508364106|\n",
      "| 09:20             |85:3849:283519-26011-1|8591093   |Tram          |85:3849:011|11       |0.8528053005896298|0.014435128555934618|\n",
      "| 05:28             |85:3849:296616-30013-1|8591423   |Tram          |85:3849:013|13       |0.7943286791084888|0.01990500676912128 |\n",
      "| 16:52             |85:3849:302346-28017-1|8591131   |Tram          |85:3849:017|17       |0.8046697934300965|0.01448139535096665 |\n",
      "| 20:33             |85:3849:344728-12007-1|8591168   |Tram          |85:3849:007|7        |0.8718924086767632|0.013277307794445579|\n",
      "| 08:48             |85:3849:399406-31002-1|8590791   |Tram          |85:3849:002|2        |0.8582905628147923|0.01406181864618534 |\n",
      "| 13:57             |85:3849:403362-11006-1|8591397   |Tram          |85:3849:006|6        |0.8221025425405619|0.017047034645264053|\n",
      "| 09:49             |85:3849:456577-35006-1|8591123   |Tram          |85:3849:006|6        |0.8288159047340959|0.01756071607158564 |\n",
      "| 07:51             |85:3849:462827-31007-1|8591298   |Tram          |85:3849:007|7        |0.8351891727722248|0.014433422570508328|\n",
      "| 08:10             |85:3849:467549-20005-1|8591329   |Tram          |85:3849:005|5        |0.7924833822561683|0.01334789408361796 |\n",
      "| 10:04             |85:3849:48787-29006-1 |8591316   |Tram          |85:3849:006|6        |0.816405788816325 |0.017194516129158906|\n",
      "| 16:14             |85:3849:507102-34007-1|8591393   |Tram          |85:3849:007|7        |0.857904807316119 |0.011454439445658332|\n",
      "| 15:50             |85:3849:51478-03007-1 |8591324   |Tram          |85:3849:007|7        |0.8753165139020876|0.012882437566510219|\n",
      "| 19:52             |85:3849:52472-03010-1 |8588553   |Tram          |85:3849:010|10       |0.8453586647860133|0.012512408576905821|\n",
      "| 18:21             |85:3849:56184-14007-1 |8591305   |Tram          |85:3849:007|7        |0.8501081766751953|0.0110281339311235  |\n",
      "| 06:35             |85:3849:569436-43006-1|8587349   |Tram          |85:3849:006|6        |0.8415675821181661|0.01910170143435627 |\n",
      "| 16:11             |85:3849:574458-27003-1|8591036   |Tram          |85:3849:003|3        |0.8758768493340093|0.012653444799289634|\n",
      "| 21:44             |85:3849:576013-27010-1|8590762   |Tram          |85:3849:010|10       |0.8382086226551975|0.013829295416175164|\n",
      "| 18:00             |85:3849:596236-12008-1|8591178   |Tram          |85:3849:008|8        |0.8395293308158894|0.00892261148682957 |\n",
      "| 18:12             |85:3849:600488-24007-1|8587349   |Tram          |85:3849:007|7        |0.8501081766751953|0.0110281339311235  |\n",
      "| 12:38             |85:3849:650977-25010-1|8587799   |Tram          |85:3849:010|10       |0.8216527445210111|0.014447216356255182|\n",
      "| 00:03             |85:3849:689498-13009-1|8591229   |Tram          |85:3849:009|9        |0.8248429823228486|0.014852410166340745|\n",
      "| 15:54             |85:773:16315-06759-1  |8590621   |Bus           |85:773:768 |768      |0.9491405970588854|0.0117653854539044  |\n",
      "+-------------------+----------------------+----------+--------------+-----------+---------+------------------+--------------------+\n",
      "only showing top 30 rows"
     ]
    }
   ],
   "source": [
    "probability.sample(0.001).show(30, False)"
   ]
  },
  {
   "cell_type": "code",
   "execution_count": 27,
   "metadata": {},
   "outputs": [
    {
     "data": {
      "application/vnd.jupyter.widget-view+json": {
       "model_id": "",
       "version_major": 2,
       "version_minor": 0
      },
      "text/plain": [
       "FloatProgress(value=0.0, bar_style='info', description='Progress:', layout=Layout(height='25px', width='50%'),…"
      ]
     },
     "metadata": {},
     "output_type": "display_data"
    },
    {
     "name": "stdout",
     "output_type": "stream",
     "text": [
      "+-------------------+----------------------+----------+--------------+-----------+---------+-----------------+-------------------+\n",
      "|arrival_time_minute|trip_id               |station_id|transport_type|line_id    |line_text|delay_probability|delay_parameter    |\n",
      "+-------------------+----------------------+----------+--------------+-----------+---------+-----------------+-------------------+\n",
      "| 18:12             |85:3849:117317-04017-1|8587349   |Tram          |85:3849:017|17       |0.850921093628291|0.01045037426457373|\n",
      "| 18:12             |85:3849:429826-33017-1|8587349   |Tram          |85:3849:017|17       |0.850921093628291|0.01045037426457373|\n",
      "| 18:12             |85:3849:488537-14017-1|8587349   |Tram          |85:3849:017|17       |0.850921093628291|0.01045037426457373|\n",
      "| 18:12             |85:3849:486620-13017-1|8587349   |Tram          |85:3849:017|17       |0.850921093628291|0.01045037426457373|\n",
      "| 18:12             |85:3849:469751-14017-1|8587349   |Tram          |85:3849:017|17       |0.850921093628291|0.01045037426457373|\n",
      "| 18:12             |85:3849:380387-31017-1|8587349   |Tram          |85:3849:017|17       |0.850921093628291|0.01045037426457373|\n",
      "| 18:12             |85:3849:330721-27017-1|8587349   |Tram          |85:3849:017|17       |0.850921093628291|0.01045037426457373|\n",
      "| 18:12             |85:3849:490341-12017-1|8587349   |Tram          |85:3849:017|17       |0.850921093628291|0.01045037426457373|\n",
      "| 18:12             |85:3849:706157-13017-1|8587349   |Tram          |85:3849:017|17       |0.850921093628291|0.01045037426457373|\n",
      "| 18:12             |85:3849:297308-25017-1|8587349   |Tram          |85:3849:017|17       |0.850921093628291|0.01045037426457373|\n",
      "| 18:12             |85:3849:144265-04017-1|8587349   |Tram          |85:3849:017|17       |0.850921093628291|0.01045037426457373|\n",
      "| 18:12             |85:3849:390700-32017-1|8587349   |Tram          |85:3849:017|17       |0.850921093628291|0.01045037426457373|\n",
      "| 18:12             |85:3849:707331-12017-1|8587349   |Tram          |85:3849:017|17       |0.850921093628291|0.01045037426457373|\n",
      "+-------------------+----------------------+----------+--------------+-----------+---------+-----------------+-------------------+"
     ]
    }
   ],
   "source": [
    "probability.where(probability.arrival_time_minute == ' 18:12').where(probability.station_id == '8587349').where(probability.line_text == '17').show(30, False)"
   ]
  },
  {
   "cell_type": "code",
   "execution_count": 37,
   "metadata": {},
   "outputs": [
    {
     "data": {
      "application/vnd.jupyter.widget-view+json": {
       "model_id": "",
       "version_major": 2,
       "version_minor": 0
      },
      "text/plain": [
       "FloatProgress(value=0.0, bar_style='info', description='Progress:', layout=Layout(height='25px', width='50%'),…"
      ]
     },
     "metadata": {},
     "output_type": "display_data"
    },
    {
     "name": "stdout",
     "output_type": "stream",
     "text": [
      "+-------------+--------------------------+----------+-------------+---------+------------+\n",
      "|Stop_sequence|Trip_ID                   |Start_Time|Start_Station|Stop_Time|Stop_Station|\n",
      "+-------------+--------------------------+----------+-------------+---------+------------+\n",
      "|15           |140.TA.26-17-j19-1.1.H    |16:26:00  |8591368      |16:28:00 |8587349     |\n",
      "|15           |140.TA.26-7-B-j19-1.1.H   |13:25:00  |8591379      |13:27:00 |8587349     |\n",
      "|13           |1400.TA.26-13-j19-1.20.R  |17:20:00  |8591067      |17:22:00 |8587349     |\n",
      "|12           |1400.TA.26-14-A-j19-1.16.R|09:12:00  |8587348      |09:14:00 |8587349     |\n",
      "|13           |1401.TA.26-13-j19-1.20.R  |17:13:00  |8591067      |17:15:00 |8587349     |\n",
      "|12           |1401.TA.26-14-A-j19-1.16.R|08:57:00  |8587348      |08:59:00 |8587349     |\n",
      "|13           |1402.TA.26-13-j19-1.20.R  |17:05:00  |8591067      |17:07:00 |8587349     |\n",
      "|12           |1402.TA.26-14-A-j19-1.16.R|20:16:00  |8587348      |20:17:00 |8587349     |\n",
      "|1            |1402.TA.26-17-j19-1.28.R  |16:41:00  |8591067      |16:43:00 |8587349     |\n",
      "|13           |1403.TA.26-13-j19-1.20.R  |14:05:00  |8591067      |14:07:00 |8587349     |\n",
      "|12           |1403.TA.26-14-A-j19-1.16.R|20:07:00  |8587348      |20:08:00 |8587349     |\n",
      "|1            |1403.TA.26-17-j19-1.28.R  |16:33:00  |8591067      |16:36:00 |8587349     |\n",
      "|13           |1404.TA.26-13-j19-1.20.R  |16:20:00  |8591067      |16:22:00 |8587349     |\n",
      "|12           |1404.TA.26-14-A-j19-1.16.R|16:27:00  |8587348      |16:28:00 |8587349     |\n",
      "|1            |1404.TA.26-17-j19-1.28.R  |12:56:00  |8591067      |12:58:00 |8587349     |\n",
      "|13           |1405.TA.26-13-j19-1.20.R  |16:13:00  |8591067      |16:15:00 |8587349     |\n",
      "|12           |1405.TA.26-14-A-j19-1.16.R|16:17:00  |8587348      |16:18:00 |8587349     |\n",
      "|1            |1405.TA.26-17-j19-1.28.R  |12:48:00  |8591067      |12:51:00 |8587349     |\n",
      "|13           |1406.TA.26-13-j19-1.20.R  |16:05:00  |8591067      |16:07:00 |8587349     |\n",
      "|12           |1406.TA.26-14-A-j19-1.16.R|12:47:00  |8587348      |12:48:00 |8587349     |\n",
      "|1            |1406.TA.26-17-j19-1.28.R  |08:49:00  |8591067      |08:51:00 |8587349     |\n",
      "|13           |1407.TA.26-13-j19-1.20.R  |15:58:00  |8591067      |16:00:00 |8587349     |\n",
      "|12           |1407.TA.26-14-A-j19-1.16.R|08:42:00  |8587348      |08:44:00 |8587349     |\n",
      "|13           |1408.TA.26-13-j19-1.20.R  |06:50:00  |8591067      |06:52:00 |8587349     |\n",
      "|13           |1409.TA.26-13-j19-1.20.R  |06:43:00  |8591067      |06:45:00 |8587349     |\n",
      "|1            |1409.TA.26-17-j19-1.28.R  |20:50:00  |8591067      |20:53:00 |8587349     |\n",
      "+-------------+--------------------------+----------+-------------+---------+------------+"
     ]
    }
   ],
   "source": [
    "schedule.where(schedule.Trip_ID.substr(0, 3) == '140').where(schedule.Stop_Station == '8587349').show(30, False)"
   ]
  },
  {
   "cell_type": "code",
   "execution_count": 34,
   "metadata": {},
   "outputs": [
    {
     "data": {
      "application/vnd.jupyter.widget-view+json": {
       "model_id": "",
       "version_major": 2,
       "version_minor": 0
      },
      "text/plain": [
       "FloatProgress(value=0.0, bar_style='info', description='Progress:', layout=Layout(height='25px', width='50%'),…"
      ]
     },
     "metadata": {},
     "output_type": "display_data"
    },
    {
     "name": "stdout",
     "output_type": "stream",
     "text": [
      "+-------------+------------------------+----------+-------------+---------+------------+\n",
      "|Stop_sequence|Trip_ID                 |Start_Time|Start_Station|Stop_Time|Stop_Station|\n",
      "+-------------+------------------------+----------+-------------+---------+------------+\n",
      "|16           |1688.TA.26-13-j19-1.24.H|18:10:00  |8591368      |18:12:00 |8587349     |\n",
      "|16           |1689.TA.26-13-j19-1.24.H|18:10:00  |8591368      |18:12:00 |8587349     |\n",
      "|13           |776.TA.26-17-j19-1.19.R |18:09:00  |8591067      |18:12:00 |8587349     |\n",
      "|13           |782.TA.26-17-j19-1.19.R |18:09:00  |8591067      |18:12:00 |8587349     |\n",
      "|16           |79.TA.26-13-j19-1.1.H   |18:10:00  |8591368      |18:12:00 |8587349     |\n",
      "|8            |1277.TA.26-17-j19-1.27.R|18:10:00  |8588078      |18:12:00 |8587349     |\n",
      "|15           |138.TA.26-7-B-j19-1.1.H |18:10:00  |8591379      |18:12:00 |8587349     |\n",
      "+-------------+------------------------+----------+-------------+---------+------------+"
     ]
    }
   ],
   "source": [
    "schedule.where(schedule.Stop_Time == '18:12:00').where(schedule.Stop_Station == '8587349').show(30, False)"
   ]
  },
  {
   "cell_type": "code",
   "execution_count": 13,
   "metadata": {},
   "outputs": [
    {
     "data": {
      "application/vnd.jupyter.widget-view+json": {
       "model_id": "",
       "version_major": 2,
       "version_minor": 0
      },
      "text/plain": [
       "FloatProgress(value=0.0, bar_style='info', description='Progress:', layout=Layout(height='25px', width='50%'),…"
      ]
     },
     "metadata": {},
     "output_type": "display_data"
    },
    {
     "name": "stdout",
     "output_type": "stream",
     "text": [
      "+-------------+-------------------------+----------+-------------+---------+------------+\n",
      "|Stop_sequence|Trip_ID                  |Start_Time|Start_Station|Stop_Time|Stop_Station|\n",
      "+-------------+-------------------------+----------+-------------+---------+------------+\n",
      "|8            |299.TA.26-530-j19-1.2.R  |12:35:00  |8503857      |12:37:00 |8573209     |\n",
      "|3            |299.TA.26-69-j19-1.3.R   |20:40:00  |8591425      |20:41:00 |8591419     |\n",
      "|3            |2999.TA.26-8-C-j19-1.25.H|20:36:00  |8591131      |20:37:00 |8591135     |\n",
      "|4            |3.TA.26-742-j19-1.1.H    |07:43:00  |8594236      |07:45:00 |8590765     |\n",
      "|3            |3.TA.79-485-j19-1.1.R    |18:07:00  |8576249      |18:08:00 |8576250     |\n",
      "|10           |30.TA.26-17-j19-1.1.H    |18:43:00  |8580522      |18:44:00 |8591110     |\n",
      "|1            |30.TA.26-220-j19-1.1.H   |18:01:00  |8573710      |18:03:00 |8591341     |\n",
      "|4            |30.TA.26-813-j19-1.2.R   |19:39:00  |8576788      |19:40:00 |8581539     |\n",
      "|7            |300.TA.26-759-j19-1.4.H  |19:31:00  |8590548      |19:33:00 |8590575     |\n",
      "|4            |301.TA.26-3-A-j19-1.2.H  |19:45:00  |8591203      |19:47:00 |8591236     |\n",
      "|8            |301.TA.26-5-A-j19-1.106.H|18:55:00  |8502221      |18:59:00 |8502222     |\n",
      "|10           |301.TA.26-72-j19-1.3.H   |17:42:00  |8591075      |17:43:00 |8591447     |\n",
      "|5            |302.TA.26-200-j19-1.2.R  |09:51:00  |8582722      |09:54:00 |8583805     |\n",
      "|10           |795.TA.26-3-A-j19-1.2.H  |17:44:00  |8591079      |17:45:00 |8591381     |\n",
      "|6            |796.TA.26-156-j19-1.4.R  |11:32:00  |8595406      |11:33:00 |8590828     |\n",
      "|21           |799.TA.26-759-j19-1.7.R  |06:57:00  |8590575      |07:00:00 |8590548     |\n",
      "|15           |8.TA.26-236-j19-1.1.R    |14:50:00  |8581059      |14:52:00 |8503696     |\n",
      "|3            |80.TA.26-19-j19-1.16.H   |15:49:00  |8503000      |15:54:00 |8503006     |\n",
      "|20           |80.TA.26-235-j19-1.3.H   |11:47:00  |8503689      |11:49:00 |8503697     |\n",
      "|7            |80.TA.26-46-j19-1.5.R    |09:48:00  |8591247      |09:49:00 |8591312     |\n",
      "|3            |80.TA.26-796-j19-1.1.H   |19:31:00  |8590902      |19:32:00 |8590905     |\n",
      "|11           |1.TA.26-161-j19-1.1.H    |12:39:00  |8590677      |12:40:00 |8590683     |\n",
      "|6            |10.TA.26-131-j19-1.1.R   |18:53:00  |8573552      |18:55:00 |8503855     |\n",
      "|3            |10.TA.26-449-j19-1.1.H   |16:31:00  |8576277      |16:33:00 |8576260     |\n",
      "|17           |100.TA.1-350-j19-1.2.R   |16:21:00  |8502560      |16:22:00 |8572599     |\n",
      "|4            |1004.TA.26-15-A-j19-1.9.R|07:18:00  |8591174      |07:19:00 |8591373     |\n",
      "|20           |1004.TA.26-3-A-j19-1.2.H |15:41:00  |8591199      |15:42:00 |8591233     |\n",
      "|9            |149.TA.26-520-j19-1.2.H  |16:50:00  |8573211      |16:51:00 |8588553     |\n",
      "|23           |1490.TA.26-6-B-j19-1.9.R |06:54:00  |8591389      |06:55:00 |8591442     |\n",
      "|4            |1492.TA.26-2-A-j19-1.24.R|20:48:00  |8576198      |20:49:00 |8576197     |\n",
      "+-------------+-------------------------+----------+-------------+---------+------------+\n",
      "only showing top 30 rows"
     ]
    }
   ],
   "source": [
    "schedule.sample(0.001).show(30, False)"
   ]
  },
  {
   "cell_type": "code",
   "execution_count": 15,
   "metadata": {},
   "outputs": [
    {
     "data": {
      "application/vnd.jupyter.widget-view+json": {
       "model_id": "",
       "version_major": 2,
       "version_minor": 0
      },
      "text/plain": [
       "FloatProgress(value=0.0, bar_style='info', description='Progress:', layout=Layout(height='25px', width='50%'),…"
      ]
     },
     "metadata": {},
     "output_type": "display_data"
    }
   ],
   "source": [
    "stations = spark.read.csv(\"../data/zurich_stations_ids.csv\")"
   ]
  },
  {
   "cell_type": "code",
   "execution_count": 17,
   "metadata": {},
   "outputs": [
    {
     "data": {
      "application/vnd.jupyter.widget-view+json": {
       "model_id": "",
       "version_major": 2,
       "version_minor": 0
      },
      "text/plain": [
       "FloatProgress(value=0.0, bar_style='info', description='Progress:', layout=Layout(height='25px', width='50%'),…"
      ]
     },
     "metadata": {},
     "output_type": "display_data"
    }
   ],
   "source": [
    "stations = (\n",
    "    stations\n",
    "    .select(stations._c0.alias('station_id'))\n",
    ")"
   ]
  },
  {
   "cell_type": "code",
   "execution_count": 20,
   "metadata": {},
   "outputs": [
    {
     "data": {
      "application/vnd.jupyter.widget-view+json": {
       "model_id": "",
       "version_major": 2,
       "version_minor": 0
      },
      "text/plain": [
       "FloatProgress(value=0.0, bar_style='info', description='Progress:', layout=Layout(height='25px', width='50%'),…"
      ]
     },
     "metadata": {},
     "output_type": "display_data"
    },
    {
     "name": "stderr",
     "output_type": "stream",
     "text": [
      "An error was encountered:\n",
      "u'Unable to infer schema for ORC. It must be specified manually.;'\n",
      "Traceback (most recent call last):\n",
      "  File \"/hdata/sde/hadoop/yarn/local/usercache/ebouille/appcache/application_1589299642358_2070/container_e06_1589299642358_2070_01_000001/pyspark.zip/pyspark/sql/readwriter.py\", line 476, in orc\n",
      "    return self._df(self._jreader.orc(_to_seq(self._spark._sc, path)))\n",
      "  File \"/hdata/sde/hadoop/yarn/local/usercache/ebouille/appcache/application_1589299642358_2070/container_e06_1589299642358_2070_01_000001/py4j-0.10.7-src.zip/py4j/java_gateway.py\", line 1257, in __call__\n",
      "    answer, self.gateway_client, self.target_id, self.name)\n",
      "  File \"/hdata/sde/hadoop/yarn/local/usercache/ebouille/appcache/application_1589299642358_2070/container_e06_1589299642358_2070_01_000001/pyspark.zip/pyspark/sql/utils.py\", line 69, in deco\n",
      "    raise AnalysisException(s.split(': ', 1)[1], stackTrace)\n",
      "AnalysisException: u'Unable to infer schema for ORC. It must be specified manually.;'\n",
      "\n"
     ]
    }
   ],
   "source": [
    "timetable = spark.read.csv(\"/user/gflueck/timetable.csv\")"
   ]
  },
  {
   "cell_type": "code",
   "execution_count": null,
   "metadata": {},
   "outputs": [],
   "source": [
    "timetable = (\n",
    "    timetable\n",
    "    .join(f.broadcast(stations), timetable. how='right')\n",
    ")"
   ]
  },
  {
   "cell_type": "code",
   "execution_count": 28,
   "metadata": {},
   "outputs": [
    {
     "data": {
      "application/vnd.jupyter.widget-view+json": {
       "model_id": "",
       "version_major": 2,
       "version_minor": 0
      },
      "text/plain": [
       "FloatProgress(value=0.0, bar_style='info', description='Progress:', layout=Layout(height='25px', width='50%'),…"
      ]
     },
     "metadata": {},
     "output_type": "display_data"
    }
   ],
   "source": [
    "trips = spark.read.orc('/data/sbb/timetables/orc/trips')"
   ]
  },
  {
   "cell_type": "code",
   "execution_count": 32,
   "metadata": {},
   "outputs": [
    {
     "data": {
      "application/vnd.jupyter.widget-view+json": {
       "model_id": "",
       "version_major": 2,
       "version_minor": 0
      },
      "text/plain": [
       "FloatProgress(value=0.0, bar_style='info', description='Progress:', layout=Layout(height='25px', width='50%'),…"
      ]
     },
     "metadata": {},
     "output_type": "display_data"
    },
    {
     "name": "stdout",
     "output_type": "stream",
     "text": [
      "+-----------+----------+------------------------+------------------+---------------+------------+\n",
      "|route_id   |service_id|trip_id                 |trip_headsign     |trip_short_name|direction_id|\n",
      "+-----------+----------+------------------------+------------------+---------------+------------+\n",
      "|26-13-j19-1|TA+b0j2l  |1688.TA.26-13-j19-1.24.H|Zürich, Albisgütli|29954          |0           |\n",
      "+-----------+----------+------------------------+------------------+---------------+------------+"
     ]
    }
   ],
   "source": [
    "trips.where(trips.trip_id == '1688.TA.26-13-j19-1.24.H').show(20, False)"
   ]
  },
  {
   "cell_type": "code",
   "execution_count": 43,
   "metadata": {},
   "outputs": [
    {
     "data": {
      "application/vnd.jupyter.widget-view+json": {
       "model_id": "",
       "version_major": 2,
       "version_minor": 0
      },
      "text/plain": [
       "FloatProgress(value=0.0, bar_style='info', description='Progress:', layout=Layout(height='25px', width='50%'),…"
      ]
     },
     "metadata": {},
     "output_type": "display_data"
    }
   ],
   "source": [
    "routes = spark.read.orc('/data/sbb/timetables/orc/routes')"
   ]
  },
  {
   "cell_type": "code",
   "execution_count": 113,
   "metadata": {},
   "outputs": [
    {
     "name": "stderr",
     "output_type": "stream",
     "text": [
      "An error was encountered:\n",
      "Invalid status code '404' from http://iccluster044.iccluster.epfl.ch:8998/sessions/7735 with error payload: \"Session '7735' not found.\"\n"
     ]
    }
   ],
   "source": [
    "routes.orderBy(['route_id']).show(20, False)"
   ]
  },
  {
   "cell_type": "code",
   "execution_count": 38,
   "metadata": {},
   "outputs": [
    {
     "data": {
      "application/vnd.jupyter.widget-view+json": {
       "model_id": "",
       "version_major": 2,
       "version_minor": 0
      },
      "text/plain": [
       "FloatProgress(value=0.0, bar_style='info', description='Progress:', layout=Layout(height='25px', width='50%'),…"
      ]
     },
     "metadata": {},
     "output_type": "display_data"
    }
   ],
   "source": [
    "stop_times = spark.read.orc('/data/sbb/timetables/orc/stop_times')"
   ]
  },
  {
   "cell_type": "code",
   "execution_count": 42,
   "metadata": {},
   "outputs": [
    {
     "data": {
      "application/vnd.jupyter.widget-view+json": {
       "model_id": "",
       "version_major": 2,
       "version_minor": 0
      },
      "text/plain": [
       "FloatProgress(value=0.0, bar_style='info', description='Progress:', layout=Layout(height='25px', width='50%'),…"
      ]
     },
     "metadata": {},
     "output_type": "display_data"
    },
    {
     "name": "stdout",
     "output_type": "stream",
     "text": [
      "+----------------------+------------+--------------+---------------+-------------+-----------+-------------+\n",
      "|trip_id               |arrival_time|departure_time|stop_id        |stop_sequence|pickup_type|drop_off_type|\n",
      "+----------------------+------------+--------------+---------------+-------------+-----------+-------------+\n",
      "|1.TA.1-1-A-j19-1.1.R  |01:07:00    |01:07:00      |8502113:0:4    |1            |0          |0            |\n",
      "|1.TA.1-1-A-j19-1.1.R  |01:11:00    |01:11:00      |8502114:0:4    |2            |0          |0            |\n",
      "|1.TA.1-1-A-j19-1.1.R  |01:15:00    |01:16:00      |8502119:0:2    |3            |0          |0            |\n",
      "|1.TA.1-1-A-j19-1.1.R  |01:19:00    |01:19:00      |8502105:0:5    |4            |0          |0            |\n",
      "|1.TA.1-1-A-j19-1.1.R  |01:22:00    |01:22:00      |8502247:0:5    |5            |0          |0            |\n",
      "|1.TA.1-1-A-j19-1.1.R  |01:24:00    |01:24:00      |8502237:0:5    |6            |0          |0            |\n",
      "|1.TA.1-1-A-j19-1.1.R  |01:29:00    |01:29:00      |8500309:0:5    |7            |0          |0            |\n",
      "|1.TA.1-1-B-j19-1.1.R  |04:20:00    |04:20:00      |8500010:0:3    |1            |0          |0            |\n",
      "|1.TA.1-1-B-j19-1.1.R  |04:24:00    |04:24:00      |8500020:0:3    |2            |0          |0            |\n",
      "|1.TA.1-1-B-j19-1.1.R  |04:28:00    |04:28:00      |8500021:0:5    |3            |0          |0            |\n",
      "|1.TA.1-1-B-j19-1.1.R  |04:30:00    |04:30:00      |8517131:0:2    |4            |0          |0            |\n",
      "|1.TA.1-1-B-j19-1.1.R  |04:32:00    |04:32:00      |8500300:0:5    |5            |0          |0            |\n",
      "|1.TA.1-1-B-j19-1.1.R  |04:35:00    |04:35:00      |8500313:0:2    |6            |0          |0            |\n",
      "|1.TA.1-1-B-j19-1.1.R  |04:37:00    |04:38:00      |8500301:0:3    |7            |0          |0            |\n",
      "|1.TA.1-1-B-j19-1.1.R  |04:40:00    |04:41:00      |8500302:0:3    |8            |0          |0            |\n",
      "|1.TA.1-1-B-j19-1.1.R  |04:45:00    |04:45:00      |8500303:0:2    |9            |0          |0            |\n",
      "|1.TA.1-1-B-j19-1.1.R  |04:48:00    |04:49:00      |8500320:0:3    |10           |0          |0            |\n",
      "|1.TA.1-1-B-j19-1.1.R  |04:52:00    |04:52:00      |8500304:0:2    |11           |0          |0            |\n",
      "|1.TA.1-1-B-j19-1.1.R  |04:56:00    |04:56:00      |8500305:0:1    |12           |0          |0            |\n",
      "|1.TA.1-1-C-j19-1.1.H  |05:22:00    |05:22:00      |8572745        |1            |0          |0            |\n",
      "|1.TA.1-1-C-j19-1.1.H  |05:24:00    |05:24:00      |8502581        |2            |0          |0            |\n",
      "|1.TA.1-1-C-j19-1.1.H  |05:25:00    |05:25:00      |8572677        |3            |0          |0            |\n",
      "|1.TA.1-1-C-j19-1.1.H  |05:26:00    |05:26:00      |8572678        |4            |0          |0            |\n",
      "|1.TA.1-1-C-j19-1.1.H  |05:26:00    |05:26:00      |8572679        |5            |0          |0            |\n",
      "|1.TA.1-1-C-j19-1.1.H  |05:27:00    |05:27:00      |8572680        |6            |0          |0            |\n",
      "|1.TA.1-1-C-j19-1.1.H  |05:29:00    |05:29:00      |8502363        |7            |0          |0            |\n",
      "|1.TA.1-1-C-j19-1.1.H  |05:31:00    |05:31:00      |8572681        |8            |0          |0            |\n",
      "|1.TA.1-1-C-j19-1.1.H  |05:32:00    |05:32:00      |8502362        |9            |0          |0            |\n",
      "|1.TA.1-1-C-j19-1.1.H  |05:33:00    |05:33:00      |8577503        |10           |0          |0            |\n",
      "|1.TA.1-1-C-j19-1.1.H  |05:34:00    |05:34:00      |8594497        |11           |0          |0            |\n",
      "|1.TA.1-1-C-j19-1.1.H  |05:35:00    |05:35:00      |8502712        |12           |0          |0            |\n",
      "|1.TA.1-1-C-j19-1.1.H  |05:36:00    |05:36:00      |8572682        |13           |0          |0            |\n",
      "|1.TA.1-1-C-j19-1.1.H  |05:37:00    |05:37:00      |8502383        |14           |0          |0            |\n",
      "|1.TA.1-1-C-j19-1.1.H  |05:41:00    |05:41:00      |8572683        |15           |0          |0            |\n",
      "|1.TA.1-1-D-j19-1.1.R  |08:17:00    |08:17:00      |8572390        |1            |0          |0            |\n",
      "|1.TA.1-1-D-j19-1.1.R  |08:18:00    |08:18:00      |8502683        |2            |0          |0            |\n",
      "|1.TA.1-1-D-j19-1.1.R  |08:19:00    |08:19:00      |8572389        |3            |0          |0            |\n",
      "|1.TA.1-1-D-j19-1.1.R  |08:20:00    |08:20:00      |8502684        |4            |0          |0            |\n",
      "|1.TA.1-1-D-j19-1.1.R  |08:21:00    |08:21:00      |8502685        |5            |0          |0            |\n",
      "|1.TA.1-1-D-j19-1.1.R  |08:22:00    |08:22:00      |8572388        |6            |0          |0            |\n",
      "|1.TA.1-1-D-j19-1.1.R  |08:23:00    |08:23:00      |8578644        |7            |0          |0            |\n",
      "|1.TA.1-1-D-j19-1.1.R  |08:24:00    |08:24:00      |8578643        |8            |0          |0            |\n",
      "|1.TA.1-1-D-j19-1.1.R  |08:25:00    |08:25:00      |8578642        |9            |0          |0            |\n",
      "|1.TA.1-1-D-j19-1.1.R  |08:29:00    |08:29:00      |8502996:0:E    |10           |0          |0            |\n",
      "|1.TA.1-1-E-j19-1.1.H  |05:18:00    |05:18:00      |8578672        |1            |0          |0            |\n",
      "|1.TA.1-1-E-j19-1.1.H  |05:19:00    |05:19:00      |8578671        |2            |0          |0            |\n",
      "|1.TA.1-1-E-j19-1.1.H  |05:19:00    |05:19:00      |8578670        |3            |0          |0            |\n",
      "|1.TA.1-1-E-j19-1.1.H  |05:20:00    |05:20:00      |8578669        |4            |0          |0            |\n",
      "|1.TA.1-1-E-j19-1.1.H  |05:21:00    |05:21:00      |8590187        |5            |0          |0            |\n",
      "|1.TA.1-1-E-j19-1.1.H  |05:22:00    |05:22:00      |8578668        |6            |0          |0            |\n",
      "|1.TA.1-1-E-j19-1.1.H  |05:23:00    |05:23:00      |8590197        |7            |0          |0            |\n",
      "|1.TA.1-1-E-j19-1.1.H  |05:25:00    |05:25:00      |8590190:0:C    |8            |0          |0            |\n",
      "|1.TA.1-1-E-j19-1.1.H  |05:26:00    |05:26:00      |8590192        |9            |0          |0            |\n",
      "|1.TA.1-1-E-j19-1.1.H  |05:27:00    |05:27:00      |8572580        |10           |0          |0            |\n",
      "|1.TA.1-1-E-j19-1.1.H  |05:28:00    |05:28:00      |8572581        |11           |0          |0            |\n",
      "|1.TA.1-1-E-j19-1.1.H  |05:29:00    |05:29:00      |8590300        |12           |0          |0            |\n",
      "|1.TA.1-1-E-j19-1.1.H  |05:30:00    |05:30:00      |8590312        |13           |0          |0            |\n",
      "|1.TA.1-1-E-j19-1.1.H  |05:31:00    |05:31:00      |8578678        |14           |0          |0            |\n",
      "|1.TA.1-1-E-j19-1.1.H  |05:32:00    |05:32:00      |8590303        |15           |0          |0            |\n",
      "|1.TA.1-1-E-j19-1.1.H  |05:33:00    |05:33:00      |8590306        |16           |0          |0            |\n",
      "|1.TA.1-1-E-j19-1.1.H  |05:34:00    |05:34:00      |8590295        |17           |0          |0            |\n",
      "|1.TA.1-1-E-j19-1.1.H  |05:35:00    |05:35:00      |8590299        |18           |0          |0            |\n",
      "|1.TA.1-1-E-j19-1.1.H  |05:35:00    |05:35:00      |8590315        |19           |0          |0            |\n",
      "|1.TA.1-1-E-j19-1.1.H  |05:36:00    |05:36:00      |8590313        |20           |0          |0            |\n",
      "|1.TA.1-1-E-j19-1.1.H  |05:37:00    |05:37:00      |8590316        |21           |0          |0            |\n",
      "|1.TA.1-1-E-j19-1.1.H  |05:38:00    |05:38:00      |8590317        |22           |0          |0            |\n",
      "|1.TA.1-1-E-j19-1.1.H  |05:39:00    |05:39:00      |8590314        |23           |0          |0            |\n",
      "|1.TA.1-1-E-j19-1.1.H  |05:40:00    |05:40:00      |8578679        |24           |0          |0            |\n",
      "|1.TA.1-1-j19-1.1.H    |05:19:00    |05:19:00      |8503000:0:13   |1            |0          |0            |\n",
      "|1.TA.1-1-j19-1.1.H    |05:39:00    |05:40:00      |8502119:0:3    |2            |0          |0            |\n",
      "|1.TA.1-1-j19-1.1.H    |05:46:00    |05:48:00      |8502113:0:4    |3            |0          |0            |\n",
      "|1.TA.1-1-j19-1.1.H    |05:57:00    |06:02:00      |8500218:0:8    |4            |0          |0            |\n",
      "|1.TA.1-1-j19-1.1.H    |06:39:00    |06:39:00      |8507000:0:2    |6            |0          |0            |\n",
      "|1.TA.1-10-j19-1.1.R   |06:03:00    |06:03:00      |8590274        |1            |0          |0            |\n",
      "|1.TA.1-10-j19-1.1.R   |06:04:00    |06:04:00      |8590272        |2            |0          |0            |\n",
      "|1.TA.1-10-j19-1.1.R   |06:05:00    |06:05:00      |8590276        |3            |0          |0            |\n",
      "|1.TA.1-10-j19-1.1.R   |06:06:00    |06:06:00      |8590269        |4            |0          |0            |\n",
      "|1.TA.1-10-j19-1.1.R   |06:08:00    |06:08:00      |8590239        |5            |0          |0            |\n",
      "|1.TA.1-100-j19-1.1.R  |07:13:00    |07:13:00      |8500962        |1            |0          |0            |\n",
      "|1.TA.1-100-j19-1.1.R  |07:14:00    |07:14:00      |8572275        |2            |0          |0            |\n",
      "|1.TA.1-100-j19-1.1.R  |07:15:00    |07:15:00      |8572274        |3            |0          |0            |\n",
      "|1.TA.1-100-j19-1.1.R  |07:17:00    |07:17:00      |8500783        |4            |0          |0            |\n",
      "|1.TA.1-100-j19-1.1.R  |07:18:00    |07:18:00      |8572273        |5            |0          |0            |\n",
      "|1.TA.1-100-j19-1.1.R  |07:20:00    |07:20:00      |8572272        |6            |0          |0            |\n",
      "|1.TA.1-100-j19-1.1.R  |07:21:00    |07:21:00      |8572271        |7            |0          |0            |\n",
      "|1.TA.1-100-j19-1.1.R  |07:22:00    |07:22:00      |8572251        |8            |0          |0            |\n",
      "|1.TA.1-100-j19-1.1.R  |07:23:00    |07:23:00      |8572250        |9            |0          |0            |\n",
      "|1.TA.1-100-j19-1.1.R  |07:29:00    |07:29:00      |8572249        |10           |0          |0            |\n",
      "|1.TA.1-11-A-j19-1.1.H |14:23:00    |14:23:00      |8572745        |1            |0          |0            |\n",
      "|1.TA.1-11-A-j19-1.1.H |14:23:00    |14:23:00      |8572728        |2            |0          |0            |\n",
      "|1.TA.1-11-A-j19-1.1.H |14:24:00    |14:24:00      |8502386        |3            |0          |0            |\n",
      "|1.TA.1-11-A-j19-1.1.H |14:25:00    |14:25:00      |8502384        |4            |0          |0            |\n",
      "|1.TA.1-11-A-j19-1.1.H |14:26:00    |14:26:00      |8572741        |5            |0          |0            |\n",
      "|1.TA.1-11-A-j19-1.1.H |14:28:00    |14:28:00      |8502375        |6            |0          |0            |\n",
      "|1.TA.1-11-A-j19-1.1.H |14:30:00    |14:30:00      |8590393        |7            |0          |0            |\n",
      "|1.TA.1-11-A-j19-1.1.H |14:31:00    |14:31:00      |8581099        |8            |0          |0            |\n",
      "|1.TA.1-11-A-j19-1.1.H |14:32:00    |14:32:00      |8572728        |9            |0          |0            |\n",
      "|1.TA.1-11-A-j19-1.1.H |14:35:00    |14:35:00      |8572745        |10           |0          |0            |\n",
      "|1.TA.1-11-B-j19-1.1.R |06:14:00    |06:14:00      |8590239        |1            |0          |0            |\n",
      "|1.TA.1-11-B-j19-1.1.R |06:15:00    |06:15:00      |8594308        |2            |0          |0            |\n",
      "|1.TA.1-11-B-j19-1.1.R |06:16:00    |06:16:00      |8594304        |3            |0          |0            |\n",
      "|1.TA.1-11-B-j19-1.1.R |06:17:00    |06:17:00      |8594310        |4            |0          |0            |\n",
      "|1.TA.1-11-B-j19-1.1.R |06:18:00    |06:18:00      |8594307        |5            |0          |0            |\n",
      "|1.TA.1-11-B-j19-1.1.R |06:19:00    |06:19:00      |8590317        |6            |0          |0            |\n",
      "|1.TA.1-11-B-j19-1.1.R |06:20:00    |06:20:00      |8590314        |7            |0          |0            |\n",
      "|1.TA.1-11-B-j19-1.1.R |06:21:00    |06:21:00      |8594306        |8            |0          |0            |\n",
      "|1.TA.1-11-B-j19-1.1.R |06:22:00    |06:22:00      |8594309        |9            |0          |0            |\n",
      "|1.TA.1-11-B-j19-1.1.R |06:24:00    |06:24:00      |8594305        |10           |0          |0            |\n",
      "|1.TA.1-11-j19-1.1.H   |23:50:00    |23:50:00      |8503147:0:1    |1            |0          |0            |\n",
      "|1.TA.1-11-j19-1.1.H   |23:55:00    |23:55:00      |8503003:0:2    |2            |0          |0            |\n",
      "|1.TA.1-11-j19-1.1.H   |23:58:00    |23:59:00      |8503000:0:41/42|3            |0          |0            |\n",
      "|1.TA.1-11-j19-1.1.H   |24:01:00    |24:01:00      |8503020:0:4    |4            |0          |0            |\n",
      "|1.TA.1-11-j19-1.1.H   |24:05:00    |24:05:00      |8503001:0:2    |5            |0          |0            |\n",
      "|1.TA.1-11-j19-1.1.H   |24:08:00    |24:08:00      |8503509:0:3    |6            |0          |0            |\n",
      "|1.TA.1-11-j19-1.1.H   |24:11:00    |24:11:00      |8503512:0:1    |7            |0          |0            |\n",
      "|1.TA.1-11-j19-1.1.H   |24:14:00    |24:15:00      |8503508:0:3    |8            |0          |0            |\n",
      "|1.TA.1-11-j19-1.1.H   |24:19:00    |24:19:00      |8503506:0:4    |9            |0          |0            |\n",
      "|1.TA.1-11-j19-1.1.H   |24:24:00    |24:25:00      |8516219:0:2    |10           |0          |0            |\n",
      "|1.TA.1-11-j19-1.1.H   |24:27:00    |24:28:00      |8502106:0:3    |11           |0          |0            |\n",
      "|1.TA.1-11-j19-1.1.H   |24:30:00    |24:35:00      |8502105:0:3    |12           |0          |0            |\n",
      "|1.TA.1-11-j19-1.1.H   |24:40:00    |24:45:00      |8502211:0:1    |13           |0          |0            |\n",
      "|1.TA.1-11-j19-1.1.H   |24:48:00    |24:49:00      |8502119:0:4    |14           |0          |0            |\n",
      "|1.TA.1-11-j19-1.1.H   |24:53:00    |24:53:00      |8502113:0:4    |15           |0          |0            |\n",
      "|1.TA.1-12-j19-1.1.H   |25:06:00    |25:06:00      |8503504:0:2    |1            |0          |0            |\n",
      "|1.TA.1-12-j19-1.1.H   |25:10:00    |25:11:00      |8503503:0:4    |2            |1          |0            |\n",
      "|1.TA.1-12-j19-1.1.H   |25:15:00    |25:15:00      |8500309:0:3    |3            |0          |0            |\n",
      "|1.TA.1-13-j19-1.1.R   |05:11:00    |05:11:00      |8594203        |1            |0          |0            |\n",
      "|1.TA.1-13-j19-1.1.R   |05:11:00    |05:11:00      |8594282        |2            |0          |0            |\n",
      "|1.TA.1-13-j19-1.1.R   |05:13:00    |05:13:00      |8502766        |3            |0          |0            |\n",
      "|1.TA.1-13-j19-1.1.R   |05:14:00    |05:14:00      |8572653        |4            |0          |0            |\n",
      "|1.TA.1-13-j19-1.1.R   |05:15:00    |05:15:00      |8502587        |5            |0          |0            |\n",
      "|1.TA.1-13-j19-1.1.R   |05:17:00    |05:17:00      |8502768        |6            |0          |0            |\n",
      "|1.TA.1-13-j19-1.1.R   |05:18:00    |05:18:00      |8502769        |7            |0          |0            |\n",
      "|1.TA.1-13-j19-1.1.R   |05:20:00    |05:20:00      |8502584        |8            |0          |0            |\n",
      "|1.TA.1-13-j19-1.1.R   |05:21:00    |05:21:00      |8502368        |9            |0          |0            |\n",
      "|1.TA.1-13-j19-1.1.R   |05:22:00    |05:22:00      |8502583        |10           |0          |0            |\n",
      "|1.TA.1-13-j19-1.1.R   |05:23:00    |05:23:00      |8502367        |11           |0          |0            |\n",
      "|1.TA.1-13-j19-1.1.R   |05:25:00    |05:25:00      |8502582        |12           |0          |0            |\n",
      "|1.TA.1-13-j19-1.1.R   |05:26:00    |05:26:00      |8502371        |13           |0          |0            |\n",
      "|1.TA.1-13-j19-1.1.R   |05:27:00    |05:27:00      |8502385        |14           |0          |0            |\n",
      "|1.TA.1-13-j19-1.1.R   |05:28:00    |05:28:00      |8502370        |15           |0          |0            |\n",
      "|1.TA.1-13-j19-1.1.R   |05:29:00    |05:29:00      |8572654        |16           |0          |0            |\n",
      "|1.TA.1-13-j19-1.1.R   |05:30:00    |05:30:00      |8502369        |17           |0          |0            |\n",
      "|1.TA.1-13-j19-1.1.R   |05:31:00    |05:31:00      |8502581        |18           |0          |0            |\n",
      "|1.TA.1-13-j19-1.1.R   |05:38:00    |05:38:00      |8572745        |19           |0          |0            |\n",
      "|1.TA.1-134-j19-1.1.H  |05:21:00    |05:21:00      |8572748        |1            |0          |0            |\n",
      "|1.TA.1-134-j19-1.1.H  |05:21:00    |05:21:00      |8583811        |2            |0          |0            |\n",
      "|1.TA.1-134-j19-1.1.H  |05:23:00    |05:23:00      |8583810        |3            |0          |0            |\n",
      "|1.TA.1-134-j19-1.1.H  |05:23:00    |05:23:00      |8581530        |4            |0          |0            |\n",
      "|1.TA.1-134-j19-1.1.H  |05:25:00    |05:25:00      |8581950        |5            |0          |0            |\n",
      "|1.TA.1-134-j19-1.1.H  |05:26:00    |05:26:00      |8581843        |6            |0          |0            |\n",
      "|1.TA.1-134-j19-1.1.H  |05:27:00    |05:27:00      |8581951        |7            |0          |0            |\n",
      "|1.TA.1-134-j19-1.1.H  |05:30:00    |05:30:00      |8581529        |8            |0          |0            |\n",
      "|1.TA.1-134-j19-1.1.H  |05:31:00    |05:31:00      |8581549        |9            |0          |0            |\n",
      "|1.TA.1-134-j19-1.1.H  |05:32:00    |05:32:00      |8581550        |10           |0          |0            |\n",
      "|1.TA.1-134-j19-1.1.H  |05:33:00    |05:33:00      |8572398        |11           |0          |0            |\n",
      "|1.TA.1-134-j19-1.1.H  |05:34:00    |05:34:00      |8572397        |12           |0          |0            |\n",
      "|1.TA.1-134-j19-1.1.H  |05:39:00    |05:39:00      |8500583        |13           |0          |0            |\n",
      "|1.TA.1-135-j19-1.1.R  |05:16:00    |05:16:00      |8500978        |1            |0          |0            |\n",
      "|1.TA.1-135-j19-1.1.R  |05:16:00    |05:16:00      |8572394        |2            |0          |0            |\n",
      "|1.TA.1-135-j19-1.1.R  |05:17:00    |05:17:00      |8500982        |3            |0          |0            |\n",
      "|1.TA.1-135-j19-1.1.R  |05:18:00    |05:18:00      |8572395        |4            |0          |0            |\n",
      "|1.TA.1-135-j19-1.1.R  |05:20:00    |05:20:00      |8577981        |5            |0          |0            |\n",
      "|1.TA.1-135-j19-1.1.R  |05:21:00    |05:21:00      |8572396        |6            |0          |0            |\n",
      "|1.TA.1-135-j19-1.1.R  |05:22:00    |05:22:00      |8572397        |7            |0          |0            |\n",
      "|1.TA.1-135-j19-1.1.R  |05:26:00    |05:26:00      |8500583        |8            |0          |0            |\n",
      "|1.TA.1-135-j19-1.1.R  |05:27:00    |05:27:00      |8572397        |9            |0          |0            |\n",
      "|1.TA.1-135-j19-1.1.R  |05:28:00    |05:28:00      |8572398        |10           |0          |0            |\n",
      "|1.TA.1-135-j19-1.1.R  |05:31:00    |05:31:00      |8572399        |11           |0          |0            |\n",
      "|1.TA.1-135-j19-1.1.R  |05:32:00    |05:32:00      |8572400        |12           |0          |0            |\n",
      "|1.TA.1-135-j19-1.1.R  |05:35:00    |05:35:00      |8581949        |13           |0          |0            |\n",
      "|1.TA.1-135-j19-1.1.R  |05:36:00    |05:36:00      |8500983        |14           |0          |0            |\n",
      "|1.TA.1-135-j19-1.1.R  |05:37:00    |05:37:00      |8572415        |15           |0          |0            |\n",
      "|1.TA.1-135-j19-1.1.R  |05:38:00    |05:38:00      |8582053        |16           |0          |0            |\n",
      "|1.TA.1-135-j19-1.1.R  |05:39:00    |05:39:00      |8572402        |17           |0          |0            |\n",
      "|1.TA.1-135-j19-1.1.R  |05:42:00    |05:42:00      |8572403        |18           |0          |0            |\n",
      "|1.TA.1-136-j19-1.1.H  |05:34:00    |05:34:00      |8572397        |1            |0          |0            |\n",
      "|1.TA.1-136-j19-1.1.H  |05:35:00    |05:35:00      |8572414        |2            |0          |0            |\n",
      "|1.TA.1-136-j19-1.1.H  |05:36:00    |05:36:00      |8572413        |3            |0          |0            |\n",
      "|1.TA.1-136-j19-1.1.H  |05:38:00    |05:38:00      |8572412        |4            |0          |0            |\n",
      "|1.TA.1-136-j19-1.1.H  |05:38:00    |05:38:00      |8500792        |5            |0          |0            |\n",
      "|1.TA.1-136-j19-1.1.H  |05:39:00    |05:39:00      |8572411        |6            |0          |0            |\n",
      "|1.TA.1-136-j19-1.1.H  |05:41:00    |05:41:00      |8572408        |7            |0          |0            |\n",
      "|1.TA.1-136-j19-1.1.H  |05:42:00    |05:42:00      |8572409        |8            |0          |0            |\n",
      "|1.TA.1-136-j19-1.1.H  |05:43:00    |05:43:00      |8572410        |9            |0          |0            |\n",
      "|1.TA.1-136-j19-1.1.H  |05:44:00    |05:44:00      |8572409        |10           |0          |0            |\n",
      "|1.TA.1-136-j19-1.1.H  |05:44:00    |05:44:00      |8500793        |11           |0          |0            |\n",
      "|1.TA.1-136-j19-1.1.H  |05:45:00    |05:45:00      |8572408        |12           |0          |0            |\n",
      "|1.TA.1-136-j19-1.1.H  |05:45:00    |05:45:00      |8582073        |13           |0          |0            |\n",
      "|1.TA.1-136-j19-1.1.H  |05:47:00    |05:47:00      |8572407        |14           |0          |0            |\n",
      "|1.TA.1-136-j19-1.1.H  |05:48:00    |05:48:00      |8500794        |15           |0          |0            |\n",
      "|1.TA.1-136-j19-1.1.H  |05:49:00    |05:49:00      |8572406        |16           |0          |0            |\n",
      "|1.TA.1-136-j19-1.1.H  |05:50:00    |05:50:00      |8500795        |17           |0          |0            |\n",
      "|1.TA.1-136-j19-1.1.H  |05:51:00    |05:51:00      |8500593        |18           |0          |0            |\n",
      "|1.TA.1-136-j19-1.1.H  |05:52:00    |05:52:00      |8572405        |19           |0          |0            |\n",
      "|1.TA.1-136-j19-1.1.H  |05:54:00    |05:54:00      |8500796        |20           |0          |0            |\n",
      "|1.TA.1-136-j19-1.1.H  |05:56:00    |05:56:00      |8502687        |21           |0          |0            |\n",
      "|1.TA.1-136-j19-1.1.H  |05:57:00    |05:57:00      |8500687        |22           |0          |0            |\n",
      "|1.TA.1-136-j19-1.1.H  |05:58:00    |05:58:00      |8502686        |23           |0          |0            |\n",
      "|1.TA.1-136-j19-1.1.H  |05:59:00    |05:59:00      |8572390        |24           |0          |0            |\n",
      "|1.TA.1-136-j19-1.1.H  |06:01:00    |06:01:00      |8572389        |25           |0          |0            |\n",
      "|1.TA.1-136-j19-1.1.H  |06:03:00    |06:03:00      |8502685        |26           |0          |0            |\n",
      "|1.TA.1-136-j19-1.1.H  |06:04:00    |06:04:00      |8572388        |27           |0          |0            |\n",
      "|1.TA.1-136-j19-1.1.H  |06:05:00    |06:05:00      |8578644        |28           |0          |0            |\n",
      "|1.TA.1-136-j19-1.1.H  |06:06:00    |06:06:00      |8578643        |29           |0          |0            |\n",
      "|1.TA.1-136-j19-1.1.H  |06:08:00    |06:08:00      |8502996        |30           |0          |0            |\n",
      "|1.TA.1-137-j19-1.1.H  |05:10:00    |05:10:00      |8500582        |1            |0          |0            |\n",
      "|1.TA.1-137-j19-1.1.H  |05:12:00    |05:12:00      |8500975        |2            |0          |0            |\n",
      "|1.TA.1-137-j19-1.1.H  |05:13:00    |05:13:00      |8572452        |3            |0          |0            |\n",
      "|1.TA.1-137-j19-1.1.H  |05:14:00    |05:14:00      |8572454        |4            |0          |0            |\n",
      "|1.TA.1-137-j19-1.1.H  |05:15:00    |05:15:00      |8572455        |5            |0          |0            |\n",
      "|1.TA.1-139-j19-1.1.H  |05:52:00    |05:52:00      |8572460        |1            |0          |0            |\n",
      "|1.TA.1-139-j19-1.1.H  |05:57:00    |05:57:00      |8500978        |2            |0          |0            |\n",
      "|1.TA.1-14-j19-1.1.R   |05:40:00    |05:40:00      |8502113:0:12   |1            |0          |0            |\n",
      "|1.TA.1-14-j19-1.1.R   |05:41:00    |05:41:00      |8519685        |2            |0          |0            |\n",
      "|1.TA.1-14-j19-1.1.R   |05:42:00    |05:42:00      |8502123:0:1    |3            |0          |0            |\n",
      "|1.TA.1-14-j19-1.1.R   |05:45:00    |05:47:00      |8502103:0:7    |4            |0          |0            |\n",
      "|1.TA.1-14-j19-1.1.R   |05:49:00    |05:49:00      |8502189        |5            |0          |0            |\n",
      "|1.TA.1-14-j19-1.1.R   |05:51:00    |05:51:00      |8502160:0:3    |6            |0          |0            |\n",
      "|1.TA.1-14-j19-1.1.R   |05:52:00    |05:52:00      |8502184        |7            |0          |0            |\n",
      "|1.TA.1-14-j19-1.1.R   |05:54:00    |05:54:00      |8502174:0:1    |8            |0          |0            |\n",
      "|1.TA.1-14-j19-1.1.R   |05:56:00    |05:56:00      |8502161:0:1    |9            |0          |0            |\n",
      "|1.TA.1-14-j19-1.1.R   |05:58:00    |05:58:00      |8516450:0:3    |10           |0          |0            |\n",
      "|1.TA.1-14-j19-1.1.R   |05:59:00    |05:59:00      |8502162        |11           |0          |0            |\n",
      "|1.TA.1-14-j19-1.1.R   |06:00:00    |06:00:00      |8502183        |12           |0          |0            |\n",
      "|1.TA.1-14-j19-1.1.R   |06:02:00    |06:02:00      |8502163:0:1    |13           |0          |0            |\n",
      "|1.TA.1-14-j19-1.1.R   |06:06:00    |06:06:00      |8502164:0:1/2  |14           |0          |0            |\n",
      "|1.TA.1-14-j19-1.1.R   |06:08:00    |06:08:00      |8502165:0:1    |15           |0          |0            |\n",
      "|1.TA.1-14-j19-1.1.R   |06:10:00    |06:10:00      |8502166:0:2    |16           |0          |0            |\n",
      "|1.TA.1-14-j19-1.1.R   |06:14:00    |06:14:00      |8502167:0:1    |17           |0          |0            |\n",
      "|1.TA.1-14-j19-1.1.R   |06:14:00    |06:14:00      |8502176        |18           |0          |0            |\n",
      "|1.TA.1-14-j19-1.1.R   |06:15:00    |06:15:00      |8502168:0:1    |19           |0          |0            |\n",
      "|1.TA.1-14-j19-1.1.R   |06:18:00    |06:18:00      |8502169:0:1    |20           |0          |0            |\n",
      "|1.TA.1-141-j19-1.1.R  |07:05:00    |07:05:00      |8572440        |1            |0          |0            |\n",
      "|1.TA.1-141-j19-1.1.R  |07:06:00    |07:06:00      |8572439        |2            |0          |0            |\n",
      "|1.TA.1-141-j19-1.1.R  |07:07:00    |07:07:00      |8580575        |3            |0          |0            |\n",
      "|1.TA.1-141-j19-1.1.R  |07:08:00    |07:08:00      |8500589        |4            |0          |0            |\n",
      "|1.TA.1-141-j19-1.1.R  |07:09:00    |07:09:00      |8581108        |5            |0          |0            |\n",
      "|1.TA.1-141-j19-1.1.R  |07:09:00    |07:09:00      |8572438        |6            |0          |0            |\n",
      "|1.TA.1-141-j19-1.1.R  |07:11:00    |07:11:00      |8500588        |7            |0          |0            |\n",
      "|1.TA.1-141-j19-1.1.R  |07:14:00    |07:14:00      |8572424        |8            |0          |0            |\n",
      "|1.TA.1-141-j19-1.1.R  |07:18:00    |07:18:00      |8572403        |9            |0          |0            |\n",
      "|1.TA.1-141-j19-1.1.R  |07:21:00    |07:21:00      |8572437        |10           |0          |0            |\n",
      "|1.TA.1-142-A-j19-1.1.R|05:28:00    |05:28:00      |8500784        |1            |0          |0            |\n",
      "|1.TA.1-142-A-j19-1.1.R|05:29:00    |05:29:00      |8572445        |2            |0          |0            |\n",
      "|1.TA.1-142-A-j19-1.1.R|05:30:00    |05:30:00      |8572444        |3            |0          |0            |\n",
      "|1.TA.1-142-A-j19-1.1.R|05:31:00    |05:31:00      |8500785        |4            |0          |0            |\n",
      "|1.TA.1-142-A-j19-1.1.R|05:31:00    |05:31:00      |8572443        |5            |0          |0            |\n",
      "|1.TA.1-142-A-j19-1.1.R|05:32:00    |05:32:00      |8500556        |6            |0          |0            |\n",
      "|1.TA.1-142-A-j19-1.1.R|05:33:00    |05:33:00      |8500557        |7            |0          |0            |\n",
      "|1.TA.1-142-A-j19-1.1.R|05:35:00    |05:35:00      |8580181        |8            |0          |0            |\n",
      "|1.TA.1-142-A-j19-1.1.R|05:36:00    |05:36:00      |8580165        |9            |0          |0            |\n",
      "|1.TA.1-142-A-j19-1.1.R|05:38:00    |05:38:00      |8572441        |10           |0          |0            |\n",
      "|1.TA.1-142-j19-1.1.H  |24:35:00    |24:35:00      |8572464        |1            |0          |0            |\n",
      "|1.TA.1-142-j19-1.1.H  |24:45:00    |24:45:00      |8500558        |2            |1          |0            |\n",
      "|1.TA.1-142-j19-1.1.H  |24:49:00    |24:49:00      |8500776        |3            |1          |0            |\n",
      "|1.TA.1-142-j19-1.1.H  |24:52:00    |24:52:00      |8500569        |4            |1          |0            |\n",
      "|1.TA.1-142-j19-1.1.H  |24:53:00    |24:53:00      |8572448        |5            |1          |0            |\n",
      "|1.TA.1-142-j19-1.1.H  |24:54:00    |24:54:00      |8572447        |6            |1          |0            |\n",
      "|1.TA.1-142-j19-1.1.H  |24:55:00    |24:55:00      |8500777        |7            |1          |0            |\n",
      "|1.TA.1-142-j19-1.1.H  |24:57:00    |24:57:00      |8500560        |8            |1          |0            |\n",
      "|1.TA.1-142-j19-1.1.H  |24:57:00    |24:57:00      |8572446        |9            |1          |0            |\n",
      "|1.TA.1-142-j19-1.1.H  |24:59:00    |24:59:00      |8500556        |10           |1          |0            |\n",
      "|1.TA.1-142-j19-1.1.H  |25:00:00    |25:00:00      |8572443        |11           |1          |0            |\n",
      "|1.TA.1-142-j19-1.1.H  |25:00:00    |25:00:00      |8500785        |12           |1          |0            |\n",
      "|1.TA.1-142-j19-1.1.H  |25:02:00    |25:02:00      |8572444        |13           |1          |0            |\n",
      "|1.TA.1-142-j19-1.1.H  |25:04:00    |25:04:00      |8572445        |14           |1          |0            |\n",
      "|1.TA.1-142-j19-1.1.H  |25:05:00    |25:05:00      |8500784        |15           |1          |0            |\n",
      "|1.TA.1-142-j19-1.1.H  |25:06:00    |25:06:00      |8572445        |16           |1          |0            |\n",
      "|1.TA.1-142-j19-1.1.H  |25:07:00    |25:07:00      |8572444        |17           |1          |0            |\n",
      "|1.TA.1-142-j19-1.1.H  |25:08:00    |25:08:00      |8500785        |18           |1          |0            |\n",
      "|1.TA.1-142-j19-1.1.H  |25:08:00    |25:08:00      |8572443        |19           |1          |0            |\n",
      "|1.TA.1-142-j19-1.1.H  |25:09:00    |25:09:00      |8500556        |20           |1          |0            |\n",
      "|1.TA.1-142-j19-1.1.H  |25:10:00    |25:10:00      |8500557        |21           |1          |0            |\n",
      "|1.TA.1-142-j19-1.1.H  |25:12:00    |25:12:00      |8580181        |22           |1          |0            |\n",
      "|1.TA.1-142-j19-1.1.H  |25:13:00    |25:13:00      |8580165        |23           |1          |0            |\n",
      "|1.TA.1-142-j19-1.1.H  |25:15:00    |25:15:00      |8572441        |24           |0          |0            |\n",
      "|1.TA.1-143-j19-1.1.H  |05:15:00    |05:15:00      |8572403        |1            |0          |0            |\n",
      "|1.TA.1-143-j19-1.1.H  |05:16:00    |05:16:00      |8572402        |2            |0          |0            |\n",
      "|1.TA.1-143-j19-1.1.H  |05:16:00    |05:16:00      |8582053        |3            |0          |0            |\n",
      "|1.TA.1-143-j19-1.1.H  |05:19:00    |05:19:00      |8500983        |4            |0          |0            |\n",
      "|1.TA.1-143-j19-1.1.H  |05:20:00    |05:20:00      |8572415        |5            |0          |0            |\n",
      "|1.TA.1-143-j19-1.1.H  |05:22:00    |05:22:00      |8580562        |6            |0          |0            |\n",
      "|1.TA.1-143-j19-1.1.H  |05:26:00    |05:26:00      |8572416        |7            |0          |0            |\n",
      "|1.TA.1-143-j19-1.1.H  |05:27:00    |05:27:00      |8572417        |8            |0          |0            |\n",
      "|1.TA.1-143-j19-1.1.H  |05:28:00    |05:28:00      |8572418        |9            |0          |0            |\n",
      "|1.TA.1-143-j19-1.1.H  |05:30:00    |05:30:00      |8572419        |10           |0          |0            |\n",
      "|1.TA.1-143-j19-1.1.H  |05:31:00    |05:31:00      |8572420        |11           |0          |0            |\n",
      "|1.TA.1-143-j19-1.1.H  |05:33:00    |05:33:00      |8572421        |12           |0          |0            |\n",
      "|1.TA.1-143-j19-1.1.H  |05:35:00    |05:35:00      |8572422        |13           |0          |0            |\n",
      "|1.TA.1-143-j19-1.1.H  |05:37:00    |05:37:00      |8572748        |14           |0          |0            |\n",
      "|1.TA.1-144-j19-1.1.H  |06:01:00    |06:01:00      |8500983        |1            |0          |0            |\n",
      "|1.TA.1-144-j19-1.1.H  |06:02:00    |06:02:00      |8580733        |2            |0          |0            |\n",
      "|1.TA.1-144-j19-1.1.H  |06:02:00    |06:02:00      |8572436        |3            |0          |0            |\n",
      "|1.TA.1-144-j19-1.1.H  |06:03:00    |06:03:00      |8583243        |4            |0          |0            |\n",
      "|1.TA.1-144-j19-1.1.H  |06:05:00    |06:05:00      |8500585        |5            |0          |0            |\n",
      "|1.TA.1-147-j19-1.1.H  |05:45:00    |05:45:00      |8572534        |1            |0          |0            |\n",
      "|1.TA.1-147-j19-1.1.H  |05:45:00    |05:45:00      |8572535        |2            |0          |0            |\n",
      "|1.TA.1-147-j19-1.1.H  |05:48:00    |05:48:00      |8572536        |3            |0          |0            |\n",
      "|1.TA.1-147-j19-1.1.H  |05:51:00    |05:51:00      |8580184        |4            |0          |0            |\n",
      "|1.TA.1-148-j19-1.1.R  |06:00:00    |06:00:00      |8503569        |1            |0          |0            |\n",
      "|1.TA.1-148-j19-1.1.R  |06:03:00    |06:03:00      |8503573        |2            |0          |0            |\n",
      "|1.TA.1-148-j19-1.1.R  |06:05:00    |06:05:00      |8503572        |3            |0          |0            |\n",
      "|1.TA.1-148-j19-1.1.R  |06:06:00    |06:06:00      |8572529        |4            |0          |0            |\n",
      "|1.TA.1-148-j19-1.1.R  |06:08:00    |06:08:00      |8503570        |5            |0          |0            |\n",
      "|1.TA.1-148-j19-1.1.R  |06:09:00    |06:09:00      |8572528        |6            |0          |0            |\n",
      "|1.TA.1-148-j19-1.1.R  |06:10:00    |06:10:00      |8503685        |7            |0          |0            |\n",
      "|1.TA.1-148-j19-1.1.R  |06:11:00    |06:11:00      |8581109        |8            |0          |0            |\n",
      "|1.TA.1-148-j19-1.1.R  |06:12:00    |06:12:00      |8503591        |9            |0          |0            |\n",
      "|1.TA.1-148-j19-1.1.R  |06:16:00    |06:16:00      |8572494        |10           |0          |0            |\n",
      "|1.TA.1-149-j19-1.1.H  |05:52:00    |05:52:00      |8580184        |1            |0          |0            |\n",
      "|1.TA.1-149-j19-1.1.H  |05:56:00    |05:56:00      |8580329        |2            |0          |0            |\n",
      "|1.TA.1-149-j19-1.1.H  |06:00:00    |06:00:00      |8572441        |3            |0          |0            |\n",
      "|1.TA.1-16-j19-1.1.R   |05:30:00    |05:30:00      |8500309:0:3    |1            |0          |0            |\n",
      "|1.TA.1-16-j19-1.1.R   |05:37:00    |05:38:00      |8503504:0:1    |2            |0          |0            |\n",
      "|1.TA.1-16-j19-1.1.R   |05:54:00    |05:54:00      |8503000:0:6    |3            |0          |0            |\n",
      "|1.TA.1-17-A-j19-1.1.R |04:53:00    |04:53:00      |8502273:0:1    |1            |0          |0            |\n",
      "|1.TA.1-17-A-j19-1.1.R |04:54:00    |04:54:00      |8502248        |2            |0          |0            |\n",
      "|1.TA.1-17-A-j19-1.1.R |04:55:00    |04:55:00      |8502185        |3            |0          |0            |\n",
      "|1.TA.1-17-A-j19-1.1.R |04:57:00    |04:57:00      |8502272:0:1    |4            |0          |0            |\n",
      "|1.TA.1-17-A-j19-1.1.R |04:59:00    |04:59:00      |8502269:0:2    |5            |0          |0            |\n",
      "|1.TA.1-17-A-j19-1.1.R |05:02:00    |05:02:00      |8502271        |6            |0          |0            |\n",
      "|1.TA.1-17-A-j19-1.1.R |05:04:00    |05:04:00      |8502213:0:11   |7            |0          |0            |\n",
      "|1.TA.1-17-j19-1.1.H   |04:40:00    |04:40:00      |8507000:0:5    |1            |0          |0            |\n",
      "|1.TA.1-17-j19-1.1.H   |04:53:00    |04:54:00      |8508005:0:3    |2            |0          |0            |\n",
      "|1.TA.1-17-j19-1.1.H   |05:06:00    |05:06:00      |8508008:0:2    |3            |0          |0            |\n",
      "|1.TA.1-17-j19-1.1.H   |05:12:00    |05:13:00      |8508100:0:3    |4            |0          |0            |\n",
      "|1.TA.1-17-j19-1.1.H   |05:25:00    |05:30:00      |8500218:0:7    |5            |0          |0            |\n",
      "|1.TA.1-17-j19-1.1.H   |05:40:00    |05:42:00      |8502113:0:2    |6            |0          |0            |\n",
      "|1.TA.1-17-j19-1.1.H   |05:48:00    |05:49:00      |8502119:0:2    |7            |0          |0            |\n",
      "|1.TA.1-17-j19-1.1.H   |06:05:00    |06:06:00      |8503001:0:6    |8            |0          |0            |\n",
      "|1.TA.1-17-j19-1.1.H   |06:15:00    |06:15:00      |8503000:0:15   |9            |0          |0            |\n",
      "|1.TA.1-2-A-j19-1.1.H  |05:28:00    |05:28:00      |8590247        |1            |0          |0            |\n",
      "|1.TA.1-2-A-j19-1.1.H  |05:29:00    |05:29:00      |8590244        |2            |0          |0            |\n",
      "|1.TA.1-2-A-j19-1.1.H  |05:30:00    |05:30:00      |8590248        |3            |0          |0            |\n",
      "|1.TA.1-2-A-j19-1.1.H  |05:31:00    |05:31:00      |8590249        |4            |0          |0            |\n",
      "|1.TA.1-2-A-j19-1.1.H  |05:32:00    |05:32:00      |8590245        |5            |0          |0            |\n",
      "|1.TA.1-2-A-j19-1.1.H  |05:34:00    |05:34:00      |8590240        |6            |0          |0            |\n",
      "|1.TA.1-2-A-j19-1.1.H  |05:35:00    |05:35:00      |8590239        |7            |0          |0            |\n",
      "|1.TA.1-2-A-j19-1.1.H  |05:36:00    |05:36:00      |8590396        |8            |0          |0            |\n",
      "|1.TA.1-2-A-j19-1.1.H  |05:37:00    |05:37:00      |8590278        |9            |0          |0            |\n",
      "|1.TA.1-2-A-j19-1.1.H  |05:38:00    |05:38:00      |8590277        |10           |0          |0            |\n",
      "|1.TA.1-2-A-j19-1.1.H  |05:39:00    |05:39:00      |8590271        |11           |0          |0            |\n",
      "|1.TA.1-2-A-j19-1.1.H  |05:40:00    |05:40:00      |8590279        |12           |0          |0            |\n",
      "|1.TA.1-2-j19-1.1.H    |05:27:00    |05:27:00      |8590261        |1            |0          |0            |\n",
      "|1.TA.1-2-j19-1.1.H    |05:27:00    |05:27:00      |8590257        |2            |0          |0            |\n",
      "|1.TA.1-2-j19-1.1.H    |05:28:00    |05:28:00      |8590259        |3            |0          |0            |\n",
      "|1.TA.1-2-j19-1.1.H    |05:29:00    |05:29:00      |8590258        |4            |0          |0            |\n",
      "|1.TA.1-2-j19-1.1.H    |05:30:00    |05:30:00      |8590260        |5            |0          |0            |\n",
      "|1.TA.1-2-j19-1.1.H    |05:31:00    |05:31:00      |8590151        |6            |0          |0            |\n",
      "|1.TA.1-2-j19-1.1.H    |05:32:00    |05:32:00      |8590138        |7            |0          |0            |\n",
      "|1.TA.1-2-j19-1.1.H    |05:33:00    |05:33:00      |8590156        |8            |0          |0            |\n",
      "|1.TA.1-2-j19-1.1.H    |05:34:00    |05:34:00      |8590134        |9            |0          |0            |\n",
      "|1.TA.1-2-j19-1.1.H    |05:38:00    |05:49:00      |8502996:0:B    |10           |0          |0            |\n",
      "|1.TA.1-2-j19-1.1.H    |05:50:00    |05:50:00      |8578642        |11           |0          |0            |\n",
      "|1.TA.1-2-j19-1.1.H    |05:51:00    |05:51:00      |8578643        |12           |0          |0            |\n",
      "|1.TA.1-2-j19-1.1.H    |05:53:00    |05:53:00      |8578644        |13           |0          |0            |\n",
      "|1.TA.1-2-j19-1.1.H    |05:54:00    |05:54:00      |8572388        |14           |0          |0            |\n",
      "|1.TA.1-2-j19-1.1.H    |05:55:00    |05:55:00      |8578645        |15           |0          |0            |\n",
      "|1.TA.1-2-j19-1.1.H    |05:55:00    |05:55:00      |8578646        |16           |0          |0            |\n",
      "|1.TA.1-2-j19-1.1.H    |05:56:00    |05:56:00      |8578647        |17           |0          |0            |\n",
      "|1.TA.1-2-j19-1.1.H    |05:57:00    |05:57:00      |8578007        |18           |0          |0            |\n",
      "|1.TA.1-2-j19-1.1.H    |05:58:00    |05:58:00      |8578649        |19           |0          |0            |\n",
      "|1.TA.1-2-j19-1.1.H    |05:59:00    |05:59:00      |8578650        |20           |0          |0            |\n",
      "|1.TA.1-2-j19-1.1.H    |05:59:00    |05:59:00      |8578651        |21           |0          |0            |\n",
      "|1.TA.1-2-j19-1.1.H    |06:02:00    |06:02:00      |8578652        |22           |0          |0            |\n",
      "|1.TA.1-205-j19-1.1.H  |24:42:00    |24:42:00      |8573726:0:D    |1            |0          |0            |\n",
      "|1.TA.1-205-j19-1.1.H  |24:44:00    |24:44:00      |8583805        |2            |0          |0            |\n",
      "|1.TA.1-205-j19-1.1.H  |24:45:00    |24:45:00      |8581666        |3            |0          |0            |\n",
      "|1.TA.1-205-j19-1.1.H  |24:48:00    |24:48:00      |8573725        |4            |0          |0            |\n",
      "|1.TA.1-205-j19-1.1.H  |24:49:00    |24:49:00      |8583206        |5            |0          |0            |\n",
      "|1.TA.1-205-j19-1.1.H  |24:51:00    |24:51:00      |8573720        |6            |0          |0            |\n",
      "|1.TA.1-215-j19-1.1.H  |06:23:00    |06:23:00      |8573723        |1            |0          |0            |\n",
      "|1.TA.1-215-j19-1.1.H  |06:25:00    |06:25:00      |8583071        |2            |0          |0            |\n",
      "|1.TA.1-215-j19-1.1.H  |06:26:00    |06:26:00      |8572603        |3            |0          |0            |\n",
      "|1.TA.1-215-j19-1.1.H  |06:27:00    |06:27:00      |8502879        |4            |0          |0            |\n",
      "|1.TA.1-215-j19-1.1.H  |06:27:00    |06:27:00      |8570706        |5            |0          |0            |\n",
      "|1.TA.1-215-j19-1.1.H  |06:29:00    |06:29:00      |8572605        |6            |0          |0            |\n",
      "|1.TA.1-215-j19-1.1.H  |06:30:00    |06:30:00      |8582790        |7            |0          |0            |\n",
      "|1.TA.1-215-j19-1.1.H  |06:31:00    |06:31:00      |8583363        |8            |0          |0            |\n",
      "|1.TA.1-215-j19-1.1.H  |06:32:00    |06:32:00      |8582104        |9            |0          |0            |\n",
      "|1.TA.1-215-j19-1.1.H  |06:34:00    |06:34:00      |8502883        |10           |0          |0            |\n",
      "|1.TA.1-215-j19-1.1.H  |06:36:00    |06:36:00      |8573193        |11           |0          |0            |\n",
      "|1.TA.1-215-j19-1.1.H  |06:36:00    |06:36:00      |8581015        |12           |0          |0            |\n",
      "|1.TA.1-215-j19-1.1.H  |06:39:00    |06:39:00      |8573178:0:B    |13           |0          |0            |\n",
      "|1.TA.1-217-j19-1.1.H  |05:22:00    |05:22:00      |8572744        |1            |0          |0            |\n",
      "|1.TA.1-217-j19-1.1.H  |05:22:00    |05:22:00      |8581669        |2            |0          |0            |\n",
      "|1.TA.1-217-j19-1.1.H  |05:23:00    |05:23:00      |8572610        |3            |0          |0            |\n",
      "|1.TA.1-217-j19-1.1.H  |05:24:00    |05:24:00      |8582054        |4            |0          |0            |\n",
      "|1.TA.1-217-j19-1.1.H  |05:26:00    |05:26:00      |8502565        |5            |0          |0            |\n",
      "|1.TA.1-217-j19-1.1.H  |05:28:00    |05:28:00      |8502558        |6            |0          |0            |\n",
      "|1.TA.1-217-j19-1.1.H  |05:30:00    |05:30:00      |8572609        |7            |0          |0            |\n",
      "|1.TA.1-217-j19-1.1.H  |05:32:00    |05:32:00      |8502890        |8            |0          |0            |\n",
      "|1.TA.1-217-j19-1.1.H  |05:33:00    |05:33:00      |8502556        |9            |0          |0            |\n",
      "|1.TA.1-217-j19-1.1.H  |05:34:00    |05:34:00      |8572608        |10           |0          |0            |\n",
      "|1.TA.1-217-j19-1.1.H  |05:36:00    |05:36:00      |8502555        |11           |0          |0            |\n",
      "|1.TA.1-217-j19-1.1.H  |05:38:00    |05:38:00      |8502960        |12           |0          |0            |\n",
      "|1.TA.1-217-j19-1.1.H  |05:39:00    |05:39:00      |8583481        |13           |0          |0            |\n",
      "|1.TA.1-217-j19-1.1.H  |05:39:00    |05:39:00      |8502778        |14           |0          |0            |\n",
      "|1.TA.1-217-j19-1.1.H  |05:41:00    |05:41:00      |8583482        |15           |0          |0            |\n",
      "|1.TA.1-217-j19-1.1.H  |05:42:00    |05:42:00      |8502884        |16           |0          |0            |\n",
      "|1.TA.1-217-j19-1.1.H  |05:43:00    |05:43:00      |8573195        |17           |0          |0            |\n",
      "|1.TA.1-217-j19-1.1.H  |05:45:00    |05:45:00      |8583890        |18           |0          |0            |\n",
      "|1.TA.1-217-j19-1.1.H  |05:48:00    |05:48:00      |8573178        |19           |0          |0            |\n",
      "|1.TA.1-23-j19-1.1.R   |21:03:00    |21:03:00      |8508103:0:1    |1            |0          |0            |\n",
      "|1.TA.1-23-j19-1.1.R   |21:07:00    |21:07:00      |8508102:0:2    |2            |0          |0            |\n",
      "|1.TA.1-23-j19-1.1.R   |21:09:00    |21:09:00      |8508101:0:3    |3            |0          |0            |\n",
      "|1.TA.1-23-j19-1.1.R   |21:15:00    |21:15:00      |8508100:0:1    |4            |0          |0            |\n",
      "|1.TA.1-231-j19-1.1.H  |09:37:00    |09:37:00      |8572747        |1            |0          |0            |\n",
      "|1.TA.1-231-j19-1.1.H  |09:37:00    |09:37:00      |8502878        |2            |0          |0            |\n",
      "|1.TA.1-231-j19-1.1.H  |09:38:00    |09:38:00      |8582462        |3            |0          |0            |\n",
      "|1.TA.1-231-j19-1.1.H  |09:39:00    |09:39:00      |8572600        |4            |0          |0            |\n",
      "|1.TA.1-231-j19-1.1.H  |09:39:00    |09:39:00      |8572601        |5            |0          |0            |\n",
      "|1.TA.1-231-j19-1.1.H  |09:43:00    |09:43:00      |8502553        |6            |0          |0            |\n",
      "|1.TA.1-231-j19-1.1.H  |09:45:00    |09:45:00      |8572602        |7            |0          |0            |\n",
      "|1.TA.1-231-j19-1.1.H  |09:46:00    |09:47:00      |8502955        |8            |0          |0            |\n",
      "|1.TA.1-231-j19-1.1.H  |09:48:00    |09:48:00      |8573722        |9            |0          |0            |\n",
      "|1.TA.1-231-j19-1.1.H  |09:50:00    |09:50:00      |8573721        |10           |0          |0            |\n",
      "|1.TA.1-231-j19-1.1.H  |09:53:00    |09:53:00      |8503598        |11           |0          |0            |\n",
      "|1.TA.1-231-j19-1.1.H  |09:55:00    |09:59:00      |8573720        |12           |0          |0            |\n",
      "|1.TA.1-231-j19-1.1.H  |10:00:00    |10:00:00      |8503598        |13           |0          |0            |\n",
      "|1.TA.1-231-j19-1.1.H  |10:02:00    |10:02:00      |8573721        |14           |0          |0            |\n",
      "|1.TA.1-231-j19-1.1.H  |10:03:00    |10:03:00      |8573722        |15           |0          |0            |\n",
      "|1.TA.1-231-j19-1.1.H  |10:04:00    |10:04:00      |8573723        |16           |0          |0            |\n",
      "|1.TA.1-231-j19-1.1.H  |10:05:00    |10:05:00      |8583071        |17           |0          |0            |\n",
      "|1.TA.1-231-j19-1.1.H  |10:06:00    |10:06:00      |8572603        |18           |0          |0            |\n",
      "|1.TA.1-231-j19-1.1.H  |10:07:00    |10:07:00      |8502879        |19           |0          |0            |\n",
      "|1.TA.1-245-j19-1.1.R  |06:57:00    |06:57:00      |8572744        |1            |0          |0            |\n",
      "|1.TA.1-245-j19-1.1.R  |06:57:00    |06:57:00      |8581669        |2            |0          |0            |\n",
      "|1.TA.1-245-j19-1.1.R  |06:58:00    |06:58:00      |8572610        |3            |0          |0            |\n",
      "|1.TA.1-245-j19-1.1.R  |06:59:00    |06:59:00      |8582054        |4            |0          |0            |\n",
      "|1.TA.1-245-j19-1.1.R  |07:01:00    |07:01:00      |8502565        |5            |0          |0            |\n",
      "|1.TA.1-245-j19-1.1.R  |07:03:00    |07:03:00      |8502577        |6            |0          |0            |\n",
      "|1.TA.1-245-j19-1.1.R  |07:05:00    |07:05:00      |8502566        |7            |0          |0            |\n",
      "|1.TA.1-245-j19-1.1.R  |07:07:00    |07:07:00      |8502567        |8            |0          |0            |\n",
      "|1.TA.1-245-j19-1.1.R  |07:08:00    |07:08:00      |8580302        |9            |0          |0            |\n",
      "|1.TA.1-245-j19-1.1.R  |07:09:00    |07:09:00      |8502571        |10           |0          |0            |\n",
      "|1.TA.1-245-j19-1.1.R  |07:09:00    |07:09:00      |8572647        |11           |0          |0            |\n",
      "|1.TA.1-245-j19-1.1.R  |07:11:00    |07:11:00      |8502570        |12           |0          |0            |\n",
      "|1.TA.1-245-j19-1.1.R  |07:12:00    |07:12:00      |8572646        |13           |0          |0            |\n",
      "|1.TA.1-245-j19-1.1.R  |07:14:00    |07:14:00      |8572602        |14           |0          |0            |\n",
      "|1.TA.1-245-j19-1.1.R  |07:15:00    |07:15:00      |8573723        |15           |0          |0            |\n",
      "|1.TA.1-245-j19-1.1.R  |07:16:00    |07:16:00      |8573722        |16           |0          |0            |\n",
      "|1.TA.1-245-j19-1.1.R  |07:18:00    |07:18:00      |8573721        |17           |0          |0            |\n",
      "|1.TA.1-245-j19-1.1.R  |07:20:00    |07:20:00      |8503598        |18           |0          |0            |\n",
      "|1.TA.1-245-j19-1.1.R  |07:21:00    |07:21:00      |8573720        |19           |0          |0            |\n",
      "|1.TA.1-245-j19-1.1.R  |07:23:00    |07:23:00      |8583755        |20           |0          |0            |\n",
      "|1.TA.1-245-j19-1.1.R  |07:24:00    |07:24:00      |8502876        |21           |0          |0            |\n",
      "|1.TA.1-245-j19-1.1.R  |07:27:00    |07:27:00      |8573719        |22           |0          |0            |\n",
      "|1.TA.1-245-j19-1.1.R  |07:28:00    |07:28:00      |8502950        |23           |0          |0            |\n",
      "|1.TA.1-245-j19-1.1.R  |07:29:00    |07:29:00      |8583870:0:E    |24           |1          |0            |\n",
      "|1.TA.1-245-j19-1.1.R  |07:29:00    |07:29:00      |8573718:0:C    |25           |0          |0            |\n",
      "|1.TA.1-25-j19-1.1.H   |05:33:00    |05:33:00      |8500309:0:5    |1            |0          |0            |\n",
      "|1.TA.1-25-j19-1.1.H   |05:36:00    |05:36:00      |8502237:0:6    |2            |0          |0            |\n",
      "|1.TA.1-25-j19-1.1.H   |05:38:00    |05:38:00      |8502247:0:6    |3            |0          |0            |\n",
      "|1.TA.1-25-j19-1.1.H   |05:41:00    |05:42:00      |8502105:0:4    |4            |0          |0            |\n",
      "|1.TA.1-25-j19-1.1.H   |05:44:00    |05:44:00      |8502211:0:3    |5            |0          |0            |\n",
      "|1.TA.1-25-j19-1.1.H   |05:46:00    |05:46:00      |8502212:0:2    |6            |0          |0            |\n",
      "|1.TA.1-25-j19-1.1.H   |05:50:00    |05:50:00      |8502213:0:2    |7            |0          |0            |\n",
      "|1.TA.1-25-j19-1.1.H   |05:58:00    |05:58:00      |8502215:0:3    |8            |0          |0            |\n",
      "|1.TA.1-26-j19-1.1.H   |00:34:00    |00:34:00      |8502119:0:6    |1            |0          |0            |\n",
      "|1.TA.1-26-j19-1.1.H   |00:36:00    |00:36:00      |8502211:0:1    |2            |0          |0            |\n",
      "|1.TA.1-26-j19-1.1.H   |00:39:00    |00:39:00      |8502212:0:2    |3            |0          |0            |\n",
      "|1.TA.1-26-j19-1.1.H   |00:42:00    |00:42:00      |8502213:0:2    |4            |0          |0            |\n",
      "|1.TA.1-26-j19-1.1.H   |00:46:00    |00:46:00      |8502214:0:1    |5            |0          |0            |\n",
      "|1.TA.1-26-j19-1.1.H   |00:50:00    |00:50:00      |8502215:0:4    |6            |0          |0            |\n",
      "|1.TA.1-26-j19-1.1.H   |00:53:00    |00:53:00      |8502216:0:2    |7            |0          |0            |\n",
      "|1.TA.1-26-j19-1.1.H   |00:55:00    |00:55:00      |8502217:0:1    |8            |0          |0            |\n",
      "|1.TA.1-26-j19-1.1.H   |00:59:00    |00:59:00      |8502218:0:3    |9            |0          |0            |\n",
      "|1.TA.1-26-j19-1.1.H   |01:01:00    |01:01:00      |8502219:0:3    |10           |0          |0            |\n",
      "|1.TA.1-26-j19-1.1.H   |01:06:00    |01:06:00      |8502202:0:6    |11           |0          |0            |\n",
      "|1.TA.1-27-j19-1.1.H   |00:03:00    |00:03:00      |8503409:0:1    |1            |0          |0            |\n",
      "|1.TA.1-27-j19-1.1.H   |00:05:00    |00:05:00      |8503410:0:1    |2            |0          |0            |\n",
      "|1.TA.1-27-j19-1.1.H   |00:08:00    |00:08:00      |8503411:0:1    |3            |0          |0            |\n",
      "|1.TA.1-27-j19-1.1.H   |00:11:00    |00:14:00      |8500329:0:1    |4            |0          |0            |\n",
      "|1.TA.1-27-j19-1.1.H   |00:16:00    |00:16:00      |8516176:0:1    |5            |0          |0            |\n",
      "|1.TA.1-27-j19-1.1.H   |00:18:00    |00:19:00      |8503501:0:1    |6            |0          |0            |\n",
      "|1.TA.1-27-j19-1.1.H   |00:23:00    |00:23:00      |8503502        |7            |0          |0            |\n",
      "|1.TA.1-27-j19-1.1.H   |00:28:00    |00:28:00      |8503503:0:1    |8            |0          |0            |\n",
      "|1.TA.1-28-j19-1.1.R   |05:12:00    |05:12:00      |8502001:0:1    |1            |0          |0            |\n",
      "|1.TA.1-28-j19-1.1.R   |05:14:00    |05:14:00      |8502120:0:1    |2            |0          |0            |\n",
      "|1.TA.1-28-j19-1.1.R   |05:17:00    |05:17:00      |8502121:0:1    |3            |0          |0            |\n",
      "|1.TA.1-28-j19-1.1.R   |05:20:00    |05:21:00      |8502100:0:1    |4            |0          |0            |\n",
      "|1.TA.1-28-j19-1.1.R   |05:23:00    |05:23:00      |8502122:0:1    |5            |0          |0            |\n",
      "|1.TA.1-28-j19-1.1.R   |05:26:00    |05:26:00      |8502101:0:1    |6            |0          |0            |\n",
      "|1.TA.1-28-j19-1.1.R   |05:28:00    |05:28:00      |8502102        |7            |0          |0            |\n",
      "|1.TA.1-28-j19-1.1.R   |05:33:00    |05:34:00      |8502103:0:5    |8            |0          |0            |\n",
      "|1.TA.1-28-j19-1.1.R   |05:38:00    |05:40:00      |8502104:0:2    |9            |0          |0            |\n",
      "|1.TA.1-28-j19-1.1.R   |05:45:00    |05:45:00      |8502119:0:6    |10           |0          |0            |\n",
      "|1.TA.1-29-j19-1.1.H   |00:30:00    |00:30:00      |8503504:0:2    |1            |0          |0            |\n",
      "|1.TA.1-29-j19-1.1.H   |00:34:00    |00:34:00      |8503503:0:4    |2            |0          |0            |\n",
      "|1.TA.1-29-j19-1.1.H   |00:37:00    |00:38:00      |8500309:0:4    |3            |0          |0            |\n",
      "|1.TA.1-29-j19-1.1.H   |00:41:00    |00:41:00      |8502116:0:1    |4            |0          |0            |\n",
      "|1.TA.1-29-j19-1.1.H   |00:44:00    |00:44:00      |8502128:0:1    |5            |0          |0            |\n",
      "|1.TA.1-29-j19-1.1.H   |00:47:00    |00:48:00      |8502115:0:2    |6            |0          |0            |\n",
      "|1.TA.1-29-j19-1.1.H   |00:50:00    |00:50:00      |8502114:0:1    |7            |0          |0            |\n",
      "|1.TA.1-29-j19-1.1.H   |00:56:00    |00:57:00      |8502113:0:5    |8            |0          |0            |\n",
      "|1.TA.1-29-j19-1.1.H   |01:00:00    |01:00:00      |8502112:0:1    |9            |0          |0            |\n",
      "|1.TA.1-29-j19-1.1.H   |01:03:00    |01:03:00      |8502111:0:2    |10           |0          |0            |\n",
      "|1.TA.1-29-j19-1.1.H   |01:05:00    |01:05:00      |8502110:0:4    |11           |0          |0            |\n",
      "|1.TA.1-29-j19-1.1.H   |01:11:00    |01:11:00      |8500218:0:2    |12           |0          |0            |\n",
      "|1.TA.1-3-j19-1.1.H    |05:20:00    |05:20:00      |8572745        |1            |0          |0            |\n",
      "|1.TA.1-3-j19-1.1.H    |05:22:00    |05:22:00      |8572684        |2            |0          |0            |\n",
      "|1.TA.1-3-j19-1.1.H    |05:23:00    |05:23:00      |8572685        |3            |0          |0            |\n",
      "|1.TA.1-3-j19-1.1.H    |05:24:00    |05:24:00      |8502364        |4            |0          |0            |\n",
      "|1.TA.1-3-j19-1.1.H    |05:25:00    |05:25:00      |8572686        |5            |0          |0            |\n",
      "|1.TA.1-3-j19-1.1.H    |05:26:00    |05:26:00      |8502381        |6            |0          |0            |\n",
      "|1.TA.1-3-j19-1.1.H    |05:27:00    |05:27:00      |8502712        |7            |0          |0            |\n",
      "|1.TA.1-3-j19-1.1.H    |05:29:00    |05:29:00      |8502361        |8            |0          |0            |\n",
      "|1.TA.1-3-j19-1.1.H    |05:29:00    |05:29:00      |8572687        |9            |0          |0            |\n",
      "|1.TA.1-3-j19-1.1.H    |05:31:00    |05:31:00      |8502382        |10           |0          |0            |\n",
      "|1.TA.1-3-j19-1.1.H    |05:32:00    |05:32:00      |8572688        |11           |0          |0            |\n",
      "|1.TA.1-3-j19-1.1.H    |05:33:00    |05:33:00      |8502365        |12           |0          |0            |\n",
      "|1.TA.1-3-j19-1.1.H    |05:34:00    |05:34:00      |8502378        |13           |0          |0            |\n",
      "|1.TA.1-3-j19-1.1.H    |05:35:00    |05:35:00      |8595512        |14           |0          |0            |\n",
      "|1.TA.1-3-j19-1.1.H    |05:38:00    |05:38:00      |8572690        |15           |0          |0            |\n",
      "|1.TA.1-3-j19-1.1.H    |05:39:00    |05:39:00      |8572691        |16           |0          |0            |\n",
      "|1.TA.1-3-j19-1.1.H    |05:39:00    |05:39:00      |8572692        |17           |0          |0            |\n",
      "|1.TA.1-3-j19-1.1.H    |05:40:00    |05:40:00      |8572693        |18           |0          |0            |\n",
      "|1.TA.1-3-j19-1.1.H    |05:42:00    |05:42:00      |8502713        |19           |0          |0            |\n",
      "|1.TA.1-303-j19-1.1.R  |05:38:00    |05:38:00      |8587020:0:F    |1            |0          |0            |\n",
      "|1.TA.1-303-j19-1.1.R  |05:40:00    |05:40:00      |8590535        |2            |0          |0            |\n",
      "|1.TA.1-303-j19-1.1.R  |05:41:00    |05:41:00      |8590222        |3            |0          |0            |\n",
      "|1.TA.1-303-j19-1.1.R  |05:42:00    |05:42:00      |8590218        |4            |0          |0            |\n",
      "|1.TA.1-303-j19-1.1.R  |05:44:00    |05:44:00      |8590268        |5            |0          |0            |\n",
      "|1.TA.1-303-j19-1.1.R  |05:44:00    |05:44:00      |8502508        |6            |0          |0            |\n",
      "|1.TA.1-303-j19-1.1.R  |05:46:00    |05:46:00      |8590270        |7            |0          |0            |\n",
      "|1.TA.1-303-j19-1.1.R  |05:47:00    |05:47:00      |8591891        |8            |0          |0            |\n",
      "|1.TA.1-303-j19-1.1.R  |05:48:00    |05:48:00      |8590279        |9            |0          |0            |\n",
      "|1.TA.1-303-j19-1.1.R  |05:51:00    |05:51:00      |8590397        |10           |0          |0            |\n",
      "|1.TA.1-303-j19-1.1.R  |05:52:00    |05:52:00      |8590273        |11           |0          |0            |\n",
      "|1.TA.1-303-j19-1.1.R  |05:53:00    |05:53:00      |8590276        |12           |0          |0            |\n",
      "|1.TA.1-303-j19-1.1.R  |05:54:00    |05:54:00      |8590269        |13           |0          |0            |\n",
      "|1.TA.1-303-j19-1.1.R  |05:55:00    |05:55:00      |8590239        |14           |0          |0            |\n",
      "|1.TA.1-305-j19-1.1.R  |09:12:00    |09:12:00      |8587018        |1            |0          |0            |\n",
      "|1.TA.1-305-j19-1.1.R  |09:13:00    |09:13:00      |8590241        |2            |0          |0            |\n",
      "|1.TA.1-305-j19-1.1.R  |09:14:00    |09:14:00      |8590205        |3            |0          |0            |\n",
      "|1.TA.1-305-j19-1.1.R  |09:15:00    |09:15:00      |8590202        |4            |0          |0            |\n",
      "|1.TA.1-305-j19-1.1.R  |09:15:00    |09:15:00      |8590201        |5            |0          |0            |\n",
      "|1.TA.1-305-j19-1.1.R  |09:16:00    |09:16:00      |8590204        |6            |0          |0            |\n",
      "|1.TA.1-305-j19-1.1.R  |09:17:00    |09:17:00      |8590200        |7            |0          |0            |\n",
      "|1.TA.1-305-j19-1.1.R  |09:18:00    |09:18:00      |8590203        |8            |0          |0            |\n",
      "|1.TA.1-305-j19-1.1.R  |09:19:00    |09:19:00      |8590220        |9            |0          |0            |\n",
      "|1.TA.1-305-j19-1.1.R  |09:20:00    |09:20:00      |8590223        |10           |0          |0            |\n",
      "|1.TA.1-305-j19-1.1.R  |09:22:00    |09:22:00      |8590219        |11           |0          |0            |\n",
      "|1.TA.1-305-j19-1.1.R  |09:22:00    |09:22:00      |8587020:0:C    |12           |0          |0            |\n",
      "|1.TA.1-315-j19-1.1.H  |17:06:00    |17:06:00      |8595708        |1            |0          |0            |\n",
      "|1.TA.1-315-j19-1.1.H  |17:15:00    |17:15:00      |8590220        |2            |0          |0            |\n",
      "|1.TA.1-315-j19-1.1.H  |17:17:00    |17:17:00      |8590200        |3            |0          |0            |\n",
      "|1.TA.1-315-j19-1.1.H  |17:18:00    |17:18:00      |8590204        |4            |0          |0            |\n",
      "|1.TA.1-315-j19-1.1.H  |17:19:00    |17:19:00      |8590201        |5            |0          |0            |\n",
      "|1.TA.1-315-j19-1.1.H  |17:20:00    |17:20:00      |8590202        |6            |0          |0            |\n",
      "|1.TA.1-315-j19-1.1.H  |17:22:00    |17:22:00      |8590205        |7            |0          |0            |\n",
      "|1.TA.1-315-j19-1.1.H  |17:23:00    |17:23:00      |8590241        |8            |0          |0            |\n",
      "|1.TA.1-315-j19-1.1.H  |17:24:00    |17:24:00      |8587018        |9            |0          |0            |\n",
      "|1.TA.1-320-j19-1.1.H  |05:59:00    |05:59:00      |8580310        |1            |0          |0            |\n",
      "|1.TA.1-320-j19-1.1.H  |06:00:00    |06:00:00      |8572559        |2            |0          |0            |\n",
      "|1.TA.1-320-j19-1.1.H  |06:01:00    |06:01:00      |8572561        |3            |0          |0            |\n",
      "|1.TA.1-320-j19-1.1.H  |06:03:00    |06:03:00      |8503879        |4            |0          |0            |\n",
      "|1.TA.1-320-j19-1.1.H  |06:04:00    |06:04:00      |8502575        |5            |0          |0            |\n",
      "|1.TA.1-320-j19-1.1.H  |06:04:00    |06:04:00      |8580729        |6            |0          |0            |\n",
      "|1.TA.1-320-j19-1.1.H  |06:07:00    |06:07:00      |8572560        |7            |0          |0            |\n",
      "|1.TA.1-321-j19-1.1.H  |06:03:00    |06:03:00      |8580310        |1            |0          |0            |\n",
      "|1.TA.1-321-j19-1.1.H  |06:03:00    |06:03:00      |8572559        |2            |0          |0            |\n",
      "|1.TA.1-321-j19-1.1.H  |06:04:00    |06:04:00      |8572561        |3            |0          |0            |\n",
      "|1.TA.1-321-j19-1.1.H  |06:06:00    |06:06:00      |8503879        |4            |0          |0            |\n",
      "|1.TA.1-321-j19-1.1.H  |06:07:00    |06:07:00      |8502575        |5            |0          |0            |\n",
      "|1.TA.1-321-j19-1.1.H  |06:07:00    |06:07:00      |8580729        |6            |0          |0            |\n",
      "|1.TA.1-321-j19-1.1.H  |06:10:00    |06:10:00      |8572560        |7            |0          |0            |\n",
      "|1.TA.1-322-j19-1.1.H  |05:27:00    |05:27:00      |8572550:0:H    |1            |0          |0            |\n",
      "|1.TA.1-322-j19-1.1.H  |05:28:00    |05:28:00      |8572387        |2            |0          |0            |\n",
      "|1.TA.1-322-j19-1.1.H  |05:33:00    |05:33:00      |8502983        |3            |0          |0            |\n",
      "|1.TA.1-322-j19-1.1.H  |05:34:00    |05:34:00      |8580311        |4            |0          |0            |\n",
      "|1.TA.1-322-j19-1.1.H  |05:35:00    |05:35:00      |8572551        |5            |0          |0            |\n",
      "|1.TA.1-322-j19-1.1.H  |05:35:00    |05:35:00      |8579815        |6            |0          |0            |\n",
      "|1.TA.1-322-j19-1.1.H  |05:36:00    |05:36:00      |8572553        |7            |0          |0            |\n",
      "|1.TA.1-322-j19-1.1.H  |05:37:00    |05:37:00      |8502774        |8            |0          |0            |\n",
      "|1.TA.1-322-j19-1.1.H  |05:38:00    |05:38:00      |8572555        |9            |0          |0            |\n",
      "|1.TA.1-322-j19-1.1.H  |05:39:00    |05:39:00      |8572556        |10           |0          |0            |\n",
      "|1.TA.1-322-j19-1.1.H  |05:40:00    |05:40:00      |8582461        |11           |0          |0            |\n",
      "|1.TA.1-322-j19-1.1.H  |05:41:00    |05:41:00      |8502772        |12           |0          |0            |\n",
      "|1.TA.1-322-j19-1.1.H  |05:41:00    |05:41:00      |8572562        |13           |0          |0            |\n",
      "|1.TA.1-322-j19-1.1.H  |05:43:00    |05:43:00      |8572563        |14           |0          |0            |\n",
      "|1.TA.1-322-j19-1.1.H  |05:44:00    |05:44:00      |8572564        |15           |0          |0            |\n",
      "|1.TA.1-322-j19-1.1.H  |05:45:00    |05:45:00      |8502880        |16           |0          |0            |\n",
      "|1.TA.1-322-j19-1.1.H  |05:46:00    |05:46:00      |8572565        |17           |0          |0            |\n",
      "|1.TA.1-322-j19-1.1.H  |05:47:00    |05:48:00      |8502897        |18           |0          |0            |\n",
      "|1.TA.1-322-j19-1.1.H  |05:51:00    |05:51:00      |8502881        |19           |0          |0            |\n",
      "|1.TA.1-322-j19-1.1.H  |05:51:00    |05:51:00      |8572567        |20           |0          |0            |\n",
      "|1.TA.1-322-j19-1.1.H  |05:54:00    |05:54:00      |8502982        |21           |0          |0            |\n",
      "|1.TA.1-322-j19-1.1.H  |05:56:00    |05:56:00      |8572568        |22           |0          |0            |\n",
      "|1.TA.1-322-j19-1.1.H  |05:58:00    |05:58:00      |8580847        |23           |0          |0            |\n",
      "|1.TA.1-322-j19-1.1.H  |06:00:00    |06:00:00      |8572747        |24           |0          |0            |\n",
      "|1.TA.1-322-j19-1.1.H  |06:01:00    |06:01:00      |8502878        |25           |0          |0            |\n",
      "|1.TA.1-331-j19-1.1.R  |05:13:00    |05:13:00      |8580310        |1            |0          |0            |\n",
      "|1.TA.1-331-j19-1.1.R  |05:14:00    |05:14:00      |8502956        |2            |0          |0            |\n",
      "|1.TA.1-331-j19-1.1.R  |05:15:00    |05:15:00      |8583560        |3            |0          |0            |\n",
      "|1.TA.1-331-j19-1.1.R  |05:17:00    |05:17:00      |8502773        |4            |0          |0            |\n",
      "|1.TA.1-331-j19-1.1.R  |05:18:00    |05:18:00      |8579692        |5            |0          |0            |\n",
      "|1.TA.1-331-j19-1.1.R  |05:18:00    |05:18:00      |8572558        |6            |0          |0            |\n",
      "|1.TA.1-331-j19-1.1.R  |05:20:00    |05:20:00      |8502772        |7            |0          |0            |\n",
      "|1.TA.1-331-j19-1.1.R  |05:20:00    |05:20:00      |8582461        |8            |0          |0            |\n",
      "|1.TA.1-331-j19-1.1.R  |05:21:00    |05:21:00      |8572556        |9            |0          |0            |\n",
      "|1.TA.1-331-j19-1.1.R  |05:22:00    |05:22:00      |8572555        |10           |0          |0            |\n",
      "|1.TA.1-331-j19-1.1.R  |05:22:00    |05:22:00      |8579963        |11           |0          |0            |\n",
      "|1.TA.1-331-j19-1.1.R  |05:27:00    |05:27:00      |8502707        |12           |0          |0            |\n",
      "|1.TA.1-332-j19-1.1.H  |06:00:00    |06:00:00      |8502707        |1            |0          |0            |\n",
      "|1.TA.1-332-j19-1.1.H  |06:01:00    |06:01:00      |8572546        |2            |0          |0            |\n",
      "|1.TA.1-332-j19-1.1.H  |06:03:00    |06:04:00      |8502888        |3            |0          |0            |\n",
      "|1.TA.1-332-j19-1.1.H  |06:04:00    |06:04:00      |8572548        |4            |0          |0            |\n",
      "|1.TA.1-332-j19-1.1.H  |06:05:00    |06:05:00      |8502962        |5            |0          |0            |\n",
      "|1.TA.1-332-j19-1.1.H  |06:07:00    |06:07:00      |8572549        |6            |0          |0            |\n",
      "|1.TA.1-332-j19-1.1.H  |06:08:00    |06:08:00      |8502757        |7            |0          |0            |\n",
      "|1.TA.1-332-j19-1.1.H  |06:09:00    |06:09:00      |8582713        |8            |0          |0            |\n",
      "|1.TA.1-332-j19-1.1.H  |06:11:00    |06:11:00      |8572543        |9            |0          |0            |\n",
      "|1.TA.1-332-j19-1.1.H  |06:11:00    |06:11:00      |8502753        |10           |0          |0            |\n",
      "|1.TA.1-332-j19-1.1.H  |06:13:00    |06:14:00      |8502755        |11           |0          |0            |\n",
      "|1.TA.1-332-j19-1.1.H  |06:14:00    |06:14:00      |8581014        |12           |0          |0            |\n",
      "|1.TA.1-332-j19-1.1.H  |06:15:00    |06:15:00      |8502968        |13           |0          |0            |\n",
      "|1.TA.1-332-j19-1.1.H  |06:16:00    |06:16:00      |8502751        |14           |0          |0            |\n",
      "|1.TA.1-332-j19-1.1.H  |06:16:00    |06:16:00      |8572569        |15           |0          |0            |\n",
      "|1.TA.1-332-j19-1.1.H  |06:18:00    |06:18:00      |8502691        |16           |0          |0            |\n",
      "|1.TA.1-332-j19-1.1.H  |06:20:00    |06:20:00      |8572607        |17           |0          |0            |\n",
      "|1.TA.1-332-j19-1.1.H  |06:21:00    |06:21:00      |8580846        |18           |0          |0            |\n",
      "|1.TA.1-332-j19-1.1.H  |06:23:00    |06:23:00      |8580847        |19           |0          |0            |\n",
      "|1.TA.1-332-j19-1.1.H  |06:27:00    |06:27:00      |8572747        |20           |0          |0            |\n",
      "|1.TA.1-332-j19-1.1.H  |06:28:00    |06:28:00      |8502878        |21           |0          |0            |\n",
      "|1.TA.1-334-j19-1.1.H  |05:26:00    |05:26:00      |8502707        |1            |0          |0            |\n",
      "|1.TA.1-334-j19-1.1.H  |05:27:00    |05:27:00      |8572546        |2            |0          |0            |\n",
      "|1.TA.1-334-j19-1.1.H  |05:29:00    |05:30:00      |8502888        |3            |0          |0            |\n",
      "|1.TA.1-334-j19-1.1.H  |05:31:00    |05:31:00      |8502706        |4            |0          |0            |\n",
      "|1.TA.1-334-j19-1.1.H  |05:32:00    |05:32:00      |8502561        |5            |0          |0            |\n",
      "|1.TA.1-334-j19-1.1.H  |05:34:00    |05:34:00      |8502899        |6            |0          |0            |\n",
      "|1.TA.1-334-j19-1.1.H  |05:35:00    |05:35:00      |8572547        |7            |0          |0            |\n",
      "|1.TA.1-334-j19-1.1.H  |05:37:00    |05:37:00      |8580634        |8            |0          |0            |\n",
      "|1.TA.1-334-j19-1.1.H  |05:37:00    |05:37:00      |8580637        |9            |0          |0            |\n",
      "|1.TA.1-334-j19-1.1.H  |05:38:00    |05:38:00      |8587574        |10           |0          |0            |\n",
      "|1.TA.1-334-j19-1.1.H  |05:39:00    |05:39:00      |8587230        |11           |0          |0            |\n",
      "|1.TA.1-335-j19-1.1.H  |06:01:00    |06:01:00      |8502707        |1            |0          |0            |\n",
      "|1.TA.1-335-j19-1.1.H  |06:03:00    |06:03:00      |8579963        |2            |0          |0            |\n",
      "|1.TA.1-335-j19-1.1.H  |06:03:00    |06:03:00      |8572555        |3            |0          |0            |\n",
      "|1.TA.1-335-j19-1.1.H  |06:04:00    |06:04:00      |8572556        |4            |0          |0            |\n",
      "|1.TA.1-335-j19-1.1.H  |06:05:00    |06:05:00      |8582461        |5            |0          |0            |\n",
      "|1.TA.1-335-j19-1.1.H  |06:06:00    |06:06:00      |8502772        |6            |0          |0            |\n",
      "|1.TA.1-335-j19-1.1.H  |06:07:00    |06:07:00      |8572558        |7            |0          |0            |\n",
      "|1.TA.1-335-j19-1.1.H  |06:08:00    |06:08:00      |8579692        |8            |0          |0            |\n",
      "|1.TA.1-335-j19-1.1.H  |06:10:00    |06:10:00      |8502773        |9            |0          |0            |\n",
      "|1.TA.1-335-j19-1.1.H  |06:10:00    |06:10:00      |8580318        |10           |0          |0            |\n",
      "|1.TA.1-335-j19-1.1.H  |06:12:00    |06:12:00      |8502896        |11           |0          |0            |\n",
      "|1.TA.1-335-j19-1.1.H  |06:13:00    |06:13:00      |8572557        |12           |0          |0            |\n",
      "|1.TA.1-335-j19-1.1.H  |06:14:00    |06:14:00      |8572554        |13           |0          |0            |\n",
      "|1.TA.1-335-j19-1.1.H  |06:15:00    |06:15:00      |8580315        |14           |0          |0            |\n",
      "|1.TA.1-335-j19-1.1.H  |06:16:00    |06:16:00      |8572553        |15           |0          |0            |\n",
      "|1.TA.1-335-j19-1.1.H  |06:16:00    |06:16:00      |8579815        |16           |0          |0            |\n",
      "|1.TA.1-335-j19-1.1.H  |06:17:00    |06:17:00      |8572551        |17           |0          |0            |\n",
      "|1.TA.1-335-j19-1.1.H  |06:18:00    |06:18:00      |8590185        |18           |0          |0            |\n",
      "|1.TA.1-335-j19-1.1.H  |06:19:00    |06:19:00      |8590188        |19           |0          |0            |\n",
      "|1.TA.1-335-j19-1.1.H  |06:22:00    |06:22:00      |8578681        |20           |0          |0            |\n",
      "|1.TA.1-336-j19-1.1.H  |05:50:00    |05:50:00      |8502889        |1            |0          |0            |\n",
      "|1.TA.1-336-j19-1.1.H  |05:50:00    |05:50:00      |8572544        |2            |0          |0            |\n",
      "|1.TA.1-336-j19-1.1.H  |05:51:00    |05:51:00      |8502702        |3            |0          |0            |\n",
      "|1.TA.1-336-j19-1.1.H  |05:52:00    |05:52:00      |8502701        |4            |0          |0            |\n",
      "|1.TA.1-336-j19-1.1.H  |05:52:00    |05:52:00      |8580924        |5            |0          |0            |\n",
      "|1.TA.1-336-j19-1.1.H  |05:53:00    |05:53:00      |8502999        |6            |0          |0            |\n",
      "|1.TA.1-336-j19-1.1.H  |05:58:00    |05:58:00      |8502755        |7            |0          |0            |\n",
      "|1.TA.1-336-j19-1.1.H  |06:00:00    |06:00:00      |8502753        |8            |0          |0            |\n",
      "|1.TA.1-336-j19-1.1.H  |06:00:00    |06:00:00      |8572543        |9            |0          |0            |\n",
      "|1.TA.1-336-j19-1.1.H  |06:02:00    |06:02:00      |8502984        |10           |0          |0            |\n",
      "|1.TA.1-336-j19-1.1.H  |06:03:00    |06:03:00      |8572542        |11           |0          |0            |\n",
      "|1.TA.1-336-j19-1.1.H  |06:06:00    |06:07:00      |8502897        |12           |0          |0            |\n",
      "|1.TA.1-336-j19-1.1.H  |06:08:00    |06:08:00      |8572540        |13           |0          |0            |\n",
      "|1.TA.1-336-j19-1.1.H  |06:10:00    |06:10:00      |8502700        |14           |0          |0            |\n",
      "|1.TA.1-336-j19-1.1.H  |06:11:00    |06:11:00      |8572539        |15           |0          |0            |\n",
      "|1.TA.1-336-j19-1.1.H  |06:13:00    |06:14:00      |8502888        |16           |0          |0            |\n",
      "|1.TA.1-336-j19-1.1.H  |06:15:00    |06:15:00      |8572546        |17           |0          |0            |\n",
      "|1.TA.1-336-j19-1.1.H  |06:20:00    |06:20:00      |8502707        |18           |0          |0            |\n",
      "|1.TA.1-338-j19-1.1.H  |05:52:00    |05:52:00      |8572747        |1            |0          |0            |\n",
      "|1.TA.1-338-j19-1.1.H  |05:52:00    |05:52:00      |8582529        |2            |0          |0            |\n",
      "|1.TA.1-338-j19-1.1.H  |05:53:00    |05:53:00      |8576164        |3            |0          |0            |\n",
      "|1.TA.1-338-j19-1.1.H  |05:54:00    |05:54:00      |8576480        |4            |0          |0            |\n",
      "|1.TA.1-338-j19-1.1.H  |05:54:00    |05:54:00      |8576496        |5            |0          |0            |\n",
      "|1.TA.1-338-j19-1.1.H  |05:55:00    |05:55:00      |8576498        |6            |0          |0            |\n",
      "|1.TA.1-338-j19-1.1.H  |05:55:00    |05:55:00      |8572601        |7            |0          |0            |\n",
      "|1.TA.1-338-j19-1.1.H  |05:56:00    |05:56:00      |8572600        |8            |0          |0            |\n",
      "|1.TA.1-338-j19-1.1.H  |05:56:00    |05:56:00      |8582462        |9            |0          |0            |\n",
      "|1.TA.1-338-j19-1.1.H  |06:00:00    |06:00:00      |8572747        |10           |0          |0            |\n",
      "|1.TA.1-339-j19-1.1.R  |06:52:00    |06:52:00      |8572645        |1            |0          |0            |\n",
      "|1.TA.1-339-j19-1.1.R  |06:54:00    |06:54:00      |8572643        |2            |0          |0            |\n",
      "|1.TA.1-340-j19-1.1.H  |05:06:00    |05:06:00      |8578766        |1            |0          |0            |\n",
      "|1.TA.1-340-j19-1.1.H  |05:06:00    |05:06:00      |8578767        |2            |0          |0            |\n",
      "|1.TA.1-340-j19-1.1.H  |05:07:00    |05:07:00      |8502265        |3            |0          |0            |\n",
      "|1.TA.1-340-j19-1.1.H  |05:09:00    |05:09:00      |8578768        |4            |0          |0            |\n",
      "|1.TA.1-340-j19-1.1.H  |05:10:00    |05:10:00      |8578769        |5            |0          |0            |\n",
      "|1.TA.1-340-j19-1.1.H  |05:10:00    |05:10:00      |8587864        |6            |0          |0            |\n",
      "|1.TA.1-340-j19-1.1.H  |05:12:00    |05:12:00      |8587767        |7            |0          |0            |\n",
      "|1.TA.1-340-j19-1.1.H  |05:13:00    |05:13:00      |8578771        |8            |0          |0            |\n",
      "|1.TA.1-340-j19-1.1.H  |05:14:00    |05:14:00      |8587552        |9            |0          |0            |\n",
      "|1.TA.1-340-j19-1.1.H  |05:14:00    |05:14:00      |8578772        |10           |0          |0            |\n",
      "|1.TA.1-340-j19-1.1.H  |05:15:00    |05:15:00      |8578773        |11           |0          |0            |\n",
      "|1.TA.1-340-j19-1.1.H  |05:16:00    |05:16:00      |8589511        |12           |0          |0            |\n",
      "|1.TA.1-340-j19-1.1.H  |05:17:00    |05:17:00      |8587560        |13           |0          |0            |\n",
      "|1.TA.1-340-j19-1.1.H  |05:19:00    |05:19:00      |8587553        |14           |0          |0            |\n",
      "|1.TA.1-340-j19-1.1.H  |05:20:00    |05:20:00      |8587554        |15           |0          |0            |\n",
      "|1.TA.1-340-j19-1.1.H  |05:20:00    |05:20:00      |8587555        |16           |0          |0            |\n",
      "|1.TA.1-340-j19-1.1.H  |05:21:00    |05:21:00      |8587556        |17           |0          |0            |\n",
      "|1.TA.1-340-j19-1.1.H  |05:28:00    |05:28:00      |8502889        |18           |0          |0            |\n",
      "|1.TA.1-341-A-j19-1.1.H|20:19:00    |20:19:00      |8502889        |1            |0          |0            |\n",
      "|1.TA.1-341-A-j19-1.1.H|20:19:00    |20:19:00      |8572621        |2            |1          |0            |\n",
      "|1.TA.1-341-A-j19-1.1.H|20:21:00    |20:21:00      |8580303        |3            |1          |0            |\n",
      "|1.TA.1-341-A-j19-1.1.H|20:21:00    |20:21:00      |8572622        |4            |1          |0            |\n",
      "|1.TA.1-341-A-j19-1.1.H|20:23:00    |20:23:00      |8572623        |5            |1          |0            |\n",
      "|1.TA.1-341-A-j19-1.1.H|20:24:00    |20:24:00      |8580889        |6            |1          |0            |\n",
      "|1.TA.1-341-A-j19-1.1.H|20:24:00    |20:24:00      |8572624        |7            |1          |0            |\n",
      "|1.TA.1-341-A-j19-1.1.H|20:25:00    |20:25:00      |8572625        |8            |1          |0            |\n",
      "|1.TA.1-341-A-j19-1.1.H|20:27:00    |20:27:00      |8502711        |9            |1          |0            |\n",
      "|1.TA.1-341-A-j19-1.1.H|20:30:00    |20:30:00      |8572631        |10           |1          |0            |\n",
      "|1.TA.1-341-A-j19-1.1.H|20:31:00    |20:31:00      |8502670        |11           |1          |0            |\n",
      "|1.TA.1-341-A-j19-1.1.H|20:32:00    |20:32:00      |8572632        |12           |1          |0            |\n",
      "|1.TA.1-341-A-j19-1.1.H|20:34:00    |20:34:00      |8572633        |13           |1          |0            |\n",
      "|1.TA.1-341-A-j19-1.1.H|20:37:00    |20:37:00      |8572634        |14           |0          |0            |\n",
      "|1.TA.1-341-j19-1.1.H  |05:45:00    |05:45:00      |8502889        |1            |0          |0            |\n",
      "|1.TA.1-341-j19-1.1.H  |05:45:00    |05:45:00      |8572621        |2            |0          |0            |\n",
      "|1.TA.1-341-j19-1.1.H  |05:47:00    |05:47:00      |8580303        |3            |0          |0            |\n",
      "|1.TA.1-341-j19-1.1.H  |05:47:00    |05:47:00      |8572622        |4            |0          |0            |\n",
      "|1.TA.1-341-j19-1.1.H  |05:49:00    |05:49:00      |8572623        |5            |0          |0            |\n",
      "|1.TA.1-341-j19-1.1.H  |05:50:00    |05:50:00      |8580889        |6            |0          |0            |\n",
      "|1.TA.1-341-j19-1.1.H  |05:50:00    |05:50:00      |8572624        |7            |0          |0            |\n",
      "|1.TA.1-341-j19-1.1.H  |05:51:00    |05:51:00      |8572625        |8            |0          |0            |\n",
      "|1.TA.1-341-j19-1.1.H  |05:53:00    |05:53:00      |8502711        |9            |0          |0            |\n",
      "|1.TA.1-341-j19-1.1.H  |05:55:00    |05:55:00      |8502710        |10           |0          |0            |\n",
      "|1.TA.1-341-j19-1.1.H  |05:58:00    |05:58:00      |8502709        |11           |0          |0            |\n",
      "|1.TA.1-341-j19-1.1.H  |06:01:00    |06:01:00      |8572626        |12           |0          |0            |\n",
      "|1.TA.1-341-j19-1.1.H  |06:03:00    |06:03:00      |8502708        |13           |0          |0            |\n",
      "|1.TA.1-341-j19-1.1.H  |06:06:00    |06:07:00      |8502567        |14           |0          |0            |\n",
      "|1.TA.1-341-j19-1.1.H  |06:08:00    |06:08:00      |8502566        |15           |0          |0            |\n",
      "|1.TA.1-341-j19-1.1.H  |06:09:00    |06:09:00      |8502577        |16           |0          |0            |\n",
      "|1.TA.1-341-j19-1.1.H  |06:11:00    |06:11:00      |8502565        |17           |0          |0            |\n",
      "|1.TA.1-341-j19-1.1.H  |06:13:00    |06:13:00      |8582054        |18           |0          |0            |\n",
      "|1.TA.1-341-j19-1.1.H  |06:13:00    |06:13:00      |8572610        |19           |0          |0            |\n",
      "|1.TA.1-341-j19-1.1.H  |06:13:00    |06:13:00      |8581669        |20           |0          |0            |\n",
      "|1.TA.1-341-j19-1.1.H  |06:16:00    |06:16:00      |8572744        |21           |0          |0            |\n",
      "|1.TA.1-342-j19-1.1.H  |05:40:00    |05:40:00      |8502889        |1            |0          |0            |\n",
      "|1.TA.1-342-j19-1.1.H  |05:40:00    |05:40:00      |8572621        |2            |0          |0            |\n",
      "|1.TA.1-342-j19-1.1.H  |05:42:00    |05:42:00      |8580303        |3            |0          |0            |\n",
      "|1.TA.1-342-j19-1.1.H  |05:42:00    |05:42:00      |8580372        |4            |0          |0            |\n",
      "|1.TA.1-342-j19-1.1.H  |05:43:00    |05:43:00      |8580843        |5            |0          |0            |\n",
      "|1.TA.1-342-j19-1.1.H  |05:44:00    |05:44:00      |8580306        |6            |0          |0            |\n",
      "|1.TA.1-342-j19-1.1.H  |05:44:00    |05:44:00      |8580308        |7            |0          |0            |\n",
      "|1.TA.1-342-j19-1.1.H  |05:44:00    |05:44:00      |8579278        |8            |0          |0            |\n",
      "|1.TA.1-342-j19-1.1.H  |05:45:00    |05:45:00      |8580305        |9            |0          |0            |\n",
      "|1.TA.1-342-j19-1.1.H  |05:45:00    |05:45:00      |8572629        |10           |0          |0            |\n",
      "|1.TA.1-342-j19-1.1.H  |05:46:00    |05:46:00      |8572630        |11           |0          |0            |\n",
      "|1.TA.1-342-j19-1.1.H  |05:47:00    |05:47:00      |8572631        |12           |0          |0            |\n",
      "|1.TA.1-342-j19-1.1.H  |05:48:00    |05:48:00      |8502670        |13           |0          |0            |\n",
      "|1.TA.1-342-j19-1.1.H  |05:49:00    |05:49:00      |8572632        |14           |0          |0            |\n",
      "|1.TA.1-342-j19-1.1.H  |05:51:00    |05:51:00      |8572633        |15           |0          |0            |\n",
      "|1.TA.1-342-j19-1.1.H  |05:54:00    |05:54:00      |8572634        |16           |0          |0            |\n",
      "|1.TA.1-343-j19-1.1.H  |06:08:00    |06:08:00      |8502564        |1            |0          |0            |\n",
      "|1.TA.1-343-j19-1.1.H  |06:09:00    |06:09:00      |8572642        |2            |0          |0            |\n",
      "|1.TA.1-343-j19-1.1.H  |06:13:00    |06:13:00      |8581658        |3            |0          |0            |\n",
      "|1.TA.1-343-j19-1.1.H  |06:14:00    |06:14:00      |8581831        |4            |0          |0            |\n",
      "|1.TA.1-343-j19-1.1.H  |06:16:00    |06:16:00      |8581830        |5            |0          |0            |\n",
      "|1.TA.1-344-j19-1.1.H  |05:58:00    |05:58:00      |8572744        |1            |0          |0            |\n",
      "|1.TA.1-344-j19-1.1.H  |05:58:00    |05:58:00      |8581669        |2            |0          |0            |\n",
      "|1.TA.1-344-j19-1.1.H  |05:58:00    |05:58:00      |8581563        |3            |0          |0            |\n",
      "|1.TA.1-344-j19-1.1.H  |05:59:00    |05:59:00      |8583685        |4            |0          |0            |\n",
      "|1.TA.1-344-j19-1.1.H  |05:59:00    |05:59:00      |8582256        |5            |0          |0            |\n",
      "|1.TA.1-344-j19-1.1.H  |06:00:00    |06:00:00      |8572635        |6            |0          |0            |\n",
      "|1.TA.1-344-j19-1.1.H  |06:05:00    |06:05:00      |8572637        |7            |0          |0            |\n",
      "|1.TA.1-344-j19-1.1.H  |06:06:00    |06:06:00      |8502877        |8            |0          |0            |\n",
      "|1.TA.1-345-A-j19-1.1.H|20:49:00    |20:49:00      |8502889        |1            |0          |0            |\n",
      "|1.TA.1-345-A-j19-1.1.H|20:49:00    |20:49:00      |8572621        |2            |1          |0            |\n",
      "|1.TA.1-345-A-j19-1.1.H|20:50:00    |20:50:00      |8502702        |3            |1          |0            |\n",
      "|1.TA.1-345-A-j19-1.1.H|20:51:00    |20:51:00      |8502701        |4            |1          |0            |\n",
      "|1.TA.1-345-A-j19-1.1.H|20:52:00    |20:52:00      |8580377        |5            |1          |0            |\n",
      "|1.TA.1-345-A-j19-1.1.H|20:53:00    |20:53:00      |8572619        |6            |1          |0            |\n",
      "|1.TA.1-345-A-j19-1.1.H|20:54:00    |20:54:00      |8580307        |7            |1          |0            |\n",
      "|1.TA.1-345-A-j19-1.1.H|20:56:00    |20:56:00      |8572618        |8            |1          |0            |\n",
      "|1.TA.1-345-A-j19-1.1.H|20:57:00    |20:57:00      |8572617        |9            |1          |0            |\n",
      "|1.TA.1-345-A-j19-1.1.H|20:59:00    |20:59:00      |8572616        |10           |1          |0            |\n",
      "|1.TA.1-345-A-j19-1.1.H|21:00:00    |21:00:00      |8502689        |11           |1          |0            |\n",
      "|1.TA.1-345-A-j19-1.1.H|21:01:00    |21:01:00      |8572613        |12           |1          |0            |\n",
      "|1.TA.1-345-A-j19-1.1.H|21:01:00    |21:01:00      |8572611        |13           |1          |0            |\n",
      "|1.TA.1-345-A-j19-1.1.H|21:02:00    |21:02:00      |8572612        |14           |1          |0            |\n",
      "|1.TA.1-345-A-j19-1.1.H|21:02:00    |21:02:00      |8581624        |15           |1          |0            |\n",
      "|1.TA.1-345-A-j19-1.1.H|21:07:00    |21:07:00      |8581623        |16           |1          |0            |\n",
      "|1.TA.1-345-A-j19-1.1.H|21:07:00    |21:07:00      |8502755        |17           |1          |0            |\n",
      "|1.TA.1-345-A-j19-1.1.H|21:09:00    |21:09:00      |8502753        |18           |1          |0            |\n",
      "|1.TA.1-345-A-j19-1.1.H|21:09:00    |21:09:00      |8572543        |19           |1          |0            |\n",
      "|1.TA.1-345-A-j19-1.1.H|21:11:00    |21:11:00      |8502984        |20           |0          |0            |\n",
      "|1.TA.1-345-j19-1.1.R  |05:12:00    |05:12:00      |8581623        |1            |0          |0            |\n",
      "|1.TA.1-345-j19-1.1.R  |05:12:00    |05:12:00      |8502752        |2            |0          |0            |\n",
      "|1.TA.1-345-j19-1.1.R  |05:13:00    |05:13:00      |8572612        |3            |0          |0            |\n",
      "|1.TA.1-345-j19-1.1.R  |05:13:00    |05:13:00      |8572611        |4            |0          |0            |\n",
      "|1.TA.1-345-j19-1.1.R  |05:14:00    |05:14:00      |8572613        |5            |0          |0            |\n",
      "|1.TA.1-345-j19-1.1.R  |05:16:00    |05:16:00      |8502689        |6            |0          |0            |\n",
      "|1.TA.1-345-j19-1.1.R  |05:16:00    |05:16:00      |8572616        |7            |0          |0            |\n",
      "|1.TA.1-345-j19-1.1.R  |05:18:00    |05:18:00      |8572617        |8            |0          |0            |\n",
      "|1.TA.1-345-j19-1.1.R  |05:20:00    |05:20:00      |8572618        |9            |0          |0            |\n",
      "|1.TA.1-345-j19-1.1.R  |05:21:00    |05:21:00      |8580307        |10           |0          |0            |\n",
      "|1.TA.1-345-j19-1.1.R  |05:21:00    |05:21:00      |8572619        |11           |0          |0            |\n",
      "|1.TA.1-345-j19-1.1.R  |05:22:00    |05:22:00      |8580377        |12           |0          |0            |\n",
      "|1.TA.1-345-j19-1.1.R  |05:22:00    |05:22:00      |8502701        |13           |0          |0            |\n",
      "|1.TA.1-345-j19-1.1.R  |05:24:00    |05:24:00      |8580376        |14           |0          |0            |\n",
      "|1.TA.1-345-j19-1.1.R  |05:24:00    |05:24:00      |8580285        |15           |0          |0            |\n",
      "|1.TA.1-345-j19-1.1.R  |05:25:00    |05:25:00      |8572544        |16           |0          |0            |\n",
      "|1.TA.1-345-j19-1.1.R  |05:29:00    |05:29:00      |8502889        |17           |0          |0            |\n",
      "|1.TA.1-346-j19-1.1.H  |05:16:00    |05:16:00      |8587554        |1            |0          |0            |\n",
      "|1.TA.1-346-j19-1.1.H  |05:16:00    |05:16:00      |8587555        |2            |0          |0            |\n",
      "|1.TA.1-346-j19-1.1.H  |05:17:00    |05:17:00      |8583401        |3            |0          |0            |\n",
      "|1.TA.1-346-j19-1.1.H  |05:18:00    |05:18:00      |8582731        |4            |0          |0            |\n",
      "|1.TA.1-346-j19-1.1.H  |05:20:00    |05:20:00      |8582732        |5            |0          |0            |\n",
      "|1.TA.1-346-j19-1.1.H  |05:22:00    |05:22:00      |8590226        |6            |0          |0            |\n",
      "|1.TA.1-346-j19-1.1.H  |05:24:00    |05:24:00      |8590225        |7            |0          |0            |\n",
      "|1.TA.1-346-j19-1.1.H  |05:25:00    |05:25:00      |8582728        |8            |0          |0            |\n",
      "|1.TA.1-346-j19-1.1.H  |05:26:00    |05:26:00      |8583074        |9            |0          |0            |\n",
      "|1.TA.1-346-j19-1.1.H  |05:33:00    |05:33:00      |8572615        |10           |0          |0            |\n",
      "|1.TA.1-347-j19-1.1.H  |06:15:00    |06:15:00      |8577107        |1            |0          |0            |\n",
      "|1.TA.1-347-j19-1.1.H  |06:17:00    |06:17:00      |8577108        |2            |0          |0            |\n",
      "|1.TA.1-348-j19-1.1.H  |05:23:00    |05:23:00      |8577128        |1            |0          |0            |\n",
      "|1.TA.1-348-j19-1.1.H  |05:26:00    |05:26:00      |8577138        |2            |0          |0            |\n",
      "|1.TA.1-348-j19-1.1.H  |05:29:00    |05:29:00      |8577139        |3            |0          |0            |\n",
      "|1.TA.1-348-j19-1.1.H  |05:30:00    |05:30:00      |8577140        |4            |0          |0            |\n",
      "|1.TA.1-348-j19-1.1.H  |05:31:00    |05:31:00      |8577141        |5            |0          |0            |\n",
      "|1.TA.1-348-j19-1.1.H  |05:32:00    |05:32:00      |8577142        |6            |0          |0            |\n",
      "|1.TA.1-348-j19-1.1.H  |05:36:00    |05:36:00      |8577143        |7            |0          |0            |\n",
      "|1.TA.1-349-j19-1.1.R  |09:00:00    |09:00:00      |8502562        |1            |0          |0            |\n",
      "|1.TA.1-349-j19-1.1.R  |09:02:00    |09:02:00      |8572744        |2            |0          |0            |\n",
      "|1.TA.1-350-j19-1.1.R  |08:29:00    |08:29:00      |8572597        |1            |0          |0            |\n",
      "|1.TA.1-350-j19-1.1.R  |08:31:00    |08:31:00      |8502894        |2            |0          |0            |\n",
      "|1.TA.1-350-j19-1.1.R  |08:31:00    |08:31:00      |8581346        |3            |0          |0            |\n",
      "|1.TA.1-350-j19-1.1.R  |08:32:00    |08:32:00      |8572598        |4            |0          |0            |\n",
      "|1.TA.1-350-j19-1.1.R  |08:33:00    |08:33:00      |8580317        |5            |0          |0            |\n",
      "|1.TA.1-350-j19-1.1.R  |08:34:00    |08:34:00      |8502560        |6            |0          |0            |\n",
      "|1.TA.1-350-j19-1.1.R  |08:35:00    |08:35:00      |8572599        |7            |0          |0            |\n",
      "|1.TA.1-350-j19-1.1.R  |08:40:00    |08:40:00      |8572560        |8            |0          |0            |\n",
      "|1.TA.1-352-j19-1.1.H  |06:27:00    |06:27:00      |8572550:0:B    |1            |0          |0            |\n",
      "|1.TA.1-352-j19-1.1.H  |06:28:00    |06:28:00      |8572580        |2            |0          |0            |\n",
      "|1.TA.1-352-j19-1.1.H  |06:30:00    |06:30:00      |8572581        |3            |0          |0            |\n",
      "|1.TA.1-352-j19-1.1.H  |06:33:00    |06:33:00      |8572582        |4            |0          |0            |\n",
      "|1.TA.1-352-j19-1.1.H  |06:34:00    |06:34:00      |8503799        |5            |0          |0            |\n",
      "|1.TA.1-352-j19-1.1.H  |06:35:00    |06:35:00      |8557043        |6            |0          |0            |\n",
      "|1.TA.1-352-j19-1.1.H  |06:37:00    |06:37:00      |8503588        |7            |0          |0            |\n",
      "|1.TA.1-352-j19-1.1.H  |06:38:00    |06:38:00      |8580639        |8            |0          |0            |\n",
      "|1.TA.1-352-j19-1.1.H  |06:39:00    |06:39:00      |8503585        |9            |0          |0            |\n",
      "|1.TA.1-352-j19-1.1.H  |06:40:00    |06:40:00      |8572583        |10           |0          |0            |\n",
      "|1.TA.1-352-j19-1.1.H  |06:40:00    |06:40:00      |8503586        |11           |0          |0            |\n",
      "|1.TA.1-352-j19-1.1.H  |06:43:00    |06:43:00      |8572585        |12           |0          |0            |\n",
      "|1.TA.1-352-j19-1.1.H  |06:46:00    |06:46:00      |8572587        |13           |0          |0            |\n",
      "|1.TA.1-352-j19-1.1.H  |06:47:00    |06:47:00      |8503581        |14           |0          |0            |\n",
      "|1.TA.1-352-j19-1.1.H  |06:48:00    |06:48:00      |8578903        |15           |0          |0            |\n",
      "|1.TA.1-352-j19-1.1.H  |06:49:00    |06:49:00      |8503880        |16           |0          |0            |\n",
      "|1.TA.1-352-j19-1.1.H  |06:50:00    |06:50:00      |8572588        |17           |0          |0            |\n",
      "|1.TA.1-352-j19-1.1.H  |06:53:00    |06:53:00      |8503582        |18           |0          |0            |\n",
      "|1.TA.1-353-j19-1.1.H  |06:17:00    |06:17:00      |8572550:0:A    |1            |0          |0            |\n",
      "|1.TA.1-353-j19-1.1.H  |06:18:00    |06:18:00      |8572580        |2            |0          |0            |\n",
      "|1.TA.1-353-j19-1.1.H  |06:20:00    |06:20:00      |8572581        |3            |0          |0            |\n",
      "|1.TA.1-353-j19-1.1.H  |06:23:00    |06:23:00      |8572582        |4            |0          |0            |\n",
      "|1.TA.1-353-j19-1.1.H  |06:24:00    |06:24:00      |8503799        |5            |0          |0            |\n",
      "|1.TA.1-353-j19-1.1.H  |06:25:00    |06:25:00      |8557043        |6            |0          |0            |\n",
      "|1.TA.1-353-j19-1.1.H  |06:27:00    |06:27:00      |8503588        |7            |0          |0            |\n",
      "|1.TA.1-353-j19-1.1.H  |06:28:00    |06:28:00      |8580639        |8            |0          |0            |\n",
      "|1.TA.1-353-j19-1.1.H  |06:29:00    |06:29:00      |8503585        |9            |0          |0            |\n",
      "|1.TA.1-353-j19-1.1.H  |06:30:00    |06:30:00      |8572583        |10           |0          |0            |\n",
      "|1.TA.1-353-j19-1.1.H  |06:32:00    |06:33:00      |8502895        |11           |0          |0            |\n",
      "|1.TA.1-353-j19-1.1.H  |06:34:00    |06:34:00      |8572584        |12           |0          |0            |\n",
      "|1.TA.1-353-j19-1.1.H  |06:37:00    |06:37:00      |8572587        |13           |0          |0            |\n",
      "|1.TA.1-353-j19-1.1.H  |06:38:00    |06:38:00      |8503581        |14           |0          |0            |\n",
      "|1.TA.1-353-j19-1.1.H  |06:39:00    |06:39:00      |8578903        |15           |0          |0            |\n",
      "|1.TA.1-353-j19-1.1.H  |06:40:00    |06:40:00      |8503880        |16           |0          |0            |\n",
      "|1.TA.1-353-j19-1.1.H  |06:41:00    |06:41:00      |8572588        |17           |0          |0            |\n",
      "|1.TA.1-353-j19-1.1.H  |06:43:00    |06:43:00      |8503582        |18           |0          |0            |\n",
      "|1.TA.1-354-j19-1.1.H  |06:03:00    |06:03:00      |8572586        |1            |0          |0            |\n",
      "|1.TA.1-354-j19-1.1.H  |06:05:00    |06:05:00      |8503596        |2            |0          |0            |\n",
      "|1.TA.1-354-j19-1.1.H  |06:05:00    |06:05:00      |8581639        |3            |0          |0            |\n",
      "|1.TA.1-354-j19-1.1.H  |06:10:00    |06:10:00      |8572594        |4            |0          |0            |\n",
      "|1.TA.1-354-j19-1.1.H  |06:12:00    |06:12:00      |8581072        |5            |0          |0            |\n",
      "|1.TA.1-354-j19-1.1.H  |06:13:00    |06:13:00      |8503883        |6            |0          |0            |\n",
      "|1.TA.1-354-j19-1.1.H  |06:14:00    |06:14:00      |8503882        |7            |0          |0            |\n",
      "|1.TA.1-354-j19-1.1.H  |06:15:00    |06:15:00      |8503884        |8            |0          |0            |\n",
      "|1.TA.1-354-j19-1.1.H  |06:17:00    |06:17:00      |8572593        |9            |0          |0            |\n",
      "|1.TA.1-354-j19-1.1.H  |06:19:00    |06:19:00      |8580842        |10           |0          |0            |\n",
      "|1.TA.1-354-j19-1.1.H  |06:20:00    |06:20:00      |8572592        |11           |0          |0            |\n",
      "|1.TA.1-354-j19-1.1.H  |06:24:00    |06:24:00      |8572591        |12           |0          |0            |\n",
      "|1.TA.1-354-j19-1.1.H  |06:29:00    |06:29:00      |8503687        |13           |0          |0            |\n",
      "|1.TA.1-355-j19-1.1.R  |11:55:00    |11:55:00      |8503582        |1            |0          |0            |\n",
      "|1.TA.1-355-j19-1.1.R  |11:56:00    |11:56:00      |8572588        |2            |0          |0            |\n",
      "|1.TA.1-355-j19-1.1.R  |11:57:00    |11:57:00      |8503880        |3            |0          |0            |\n",
      "|1.TA.1-355-j19-1.1.R  |11:57:00    |11:57:00      |8578903        |4            |0          |0            |\n",
      "|1.TA.1-355-j19-1.1.R  |11:58:00    |11:58:00      |8503581        |5            |0          |0            |\n",
      "|1.TA.1-355-j19-1.1.R  |12:00:00    |12:00:00      |8572587        |6            |0          |0            |\n",
      "|1.TA.1-355-j19-1.1.R  |12:03:00    |12:03:00      |8572585        |7            |0          |0            |\n",
      "|1.TA.1-355-j19-1.1.R  |12:05:00    |12:05:00      |8503589        |8            |0          |0            |\n",
      "|1.TA.1-355-j19-1.1.R  |12:08:00    |12:08:00      |8503596        |9            |0          |0            |\n",
      "|1.TA.1-355-j19-1.1.R  |12:10:00    |12:10:00      |8581639        |10           |0          |0            |\n",
      "|1.TA.1-357-A-j19-1.1.H|20:34:00    |20:34:00      |8572495        |1            |0          |0            |\n",
      "|1.TA.1-357-A-j19-1.1.H|20:35:00    |20:35:00      |8503593        |2            |1          |0            |\n",
      "|1.TA.1-357-A-j19-1.1.H|20:36:00    |20:36:00      |8572496        |3            |1          |0            |\n",
      "|1.TA.1-357-A-j19-1.1.H|20:37:00    |20:37:00      |8572497        |4            |1          |0            |\n",
      "|1.TA.1-357-A-j19-1.1.H|20:39:00    |20:39:00      |8503587        |5            |1          |0            |\n",
      "|1.TA.1-357-A-j19-1.1.H|20:40:00    |20:40:00      |8572498        |6            |1          |0            |\n",
      "|1.TA.1-357-A-j19-1.1.H|20:41:00    |20:41:00      |8583661        |7            |0          |0            |\n",
      "|1.TA.1-357-j19-1.1.H  |05:34:00    |05:34:00      |8572495        |1            |0          |0            |\n",
      "|1.TA.1-357-j19-1.1.H  |05:35:00    |05:35:00      |8503593        |2            |0          |0            |\n",
      "|1.TA.1-357-j19-1.1.H  |05:36:00    |05:36:00      |8572496        |3            |0          |0            |\n",
      "|1.TA.1-357-j19-1.1.H  |05:37:00    |05:37:00      |8572497        |4            |0          |0            |\n",
      "|1.TA.1-357-j19-1.1.H  |05:39:00    |05:39:00      |8503587        |5            |0          |0            |\n",
      "|1.TA.1-358-j19-1.1.H  |06:40:00    |06:40:00      |8572503        |1            |0          |0            |\n",
      "|1.TA.1-358-j19-1.1.H  |06:42:00    |06:42:00      |8572502        |2            |0          |0            |\n",
      "|1.TA.1-358-j19-1.1.H  |06:42:00    |06:42:00      |8578779        |3            |0          |0            |\n",
      "|1.TA.1-358-j19-1.1.H  |06:44:00    |06:44:00      |8578780        |4            |0          |0            |\n",
      "|1.TA.1-358-j19-1.1.H  |06:46:00    |06:46:00      |8578781        |5            |0          |0            |\n",
      "|1.TA.1-358-j19-1.1.H  |06:48:00    |06:48:00      |8583559        |6            |0          |0            |\n",
      "|1.TA.1-358-j19-1.1.H  |06:50:00    |06:50:00      |8578783        |7            |0          |0            |\n",
      "|1.TA.1-358-j19-1.1.H  |06:55:00    |06:55:00      |8578784        |8            |0          |0            |\n",
      "|1.TA.1-358-j19-1.1.H  |06:55:00    |06:55:00      |8578785        |9            |0          |0            |\n",
      "|1.TA.1-358-j19-1.1.H  |06:58:00    |06:58:00      |8578786        |10           |0          |0            |\n",
      "|1.TA.1-358-j19-1.1.H  |06:59:00    |06:59:00      |8578787        |11           |0          |0            |\n",
      "|1.TA.1-358-j19-1.1.H  |07:00:00    |07:00:00      |8578788        |12           |0          |0            |\n",
      "|1.TA.1-36-A-j19-1.1.R |05:29:00    |05:29:00      |8503408:0:7    |1            |0          |0            |\n",
      "|1.TA.1-36-A-j19-1.1.R |05:33:00    |05:33:00      |8503409:0:1    |2            |0          |0            |\n",
      "|1.TA.1-36-A-j19-1.1.R |05:35:00    |05:35:00      |8503410:0:1    |3            |0          |0            |\n",
      "|1.TA.1-36-A-j19-1.1.R |05:38:00    |05:38:00      |8503411:0:1    |4            |0          |0            |\n",
      "|1.TA.1-36-A-j19-1.1.R |05:41:00    |05:47:00      |8500329:0:3    |5            |0          |0            |\n",
      "|1.TA.1-36-A-j19-1.1.R |05:53:00    |05:53:00      |8014474:0:5    |6            |0          |0            |\n",
      "|1.TA.1-36-j19-1.1.R   |22:02:00    |22:02:00      |8500309:0:2    |1            |0          |0            |\n",
      "|1.TA.1-36-j19-1.1.R   |22:07:00    |22:08:00      |8503504:0:1    |2            |0          |0            |\n",
      "|1.TA.1-36-j19-1.1.R   |22:24:00    |22:24:00      |8503000:0:16   |3            |0          |0            |\n",
      "|1.TA.1-360-j19-1.1.H  |05:35:00    |05:35:00      |8572464        |1            |0          |0            |\n",
      "|1.TA.1-360-j19-1.1.H  |05:35:00    |05:35:00      |8572483        |2            |0          |0            |\n",
      "|1.TA.1-360-j19-1.1.H  |05:36:00    |05:36:00      |8503574        |3            |0          |0            |\n",
      "|1.TA.1-360-j19-1.1.H  |05:37:00    |05:37:00      |8572484        |4            |0          |0            |\n",
      "|1.TA.1-360-j19-1.1.H  |05:38:00    |05:38:00      |8572485        |5            |0          |0            |\n",
      "|1.TA.1-360-j19-1.1.H  |05:39:00    |05:39:00      |8572486        |6            |0          |0            |\n",
      "|1.TA.1-360-j19-1.1.H  |05:40:00    |05:40:00      |8500555        |7            |0          |0            |\n",
      "|1.TA.1-360-j19-1.1.H  |05:43:00    |05:43:00      |8581570        |8            |0          |0            |\n",
      "|1.TA.1-360-j19-1.1.H  |05:45:00    |05:45:00      |8572524        |9            |0          |0            |\n",
      "|1.TA.1-360-j19-1.1.H  |05:46:00    |05:46:00      |8572495        |10           |0          |0            |\n",
      "|1.TA.1-360-j19-1.1.H  |05:47:00    |05:47:00      |8581907        |11           |0          |0            |\n",
      "|1.TA.1-360-j19-1.1.H  |05:48:00    |05:48:00      |8572496        |12           |0          |0            |\n",
      "|1.TA.1-360-j19-1.1.H  |05:49:00    |05:49:00      |8572497        |13           |0          |0            |\n",
      "|1.TA.1-360-j19-1.1.H  |05:51:00    |05:51:00      |8503587        |14           |0          |0            |\n",
      "|1.TA.1-360-j19-1.1.H  |05:52:00    |05:52:00      |8572498        |15           |0          |0            |\n",
      "|1.TA.1-360-j19-1.1.H  |05:53:00    |05:53:00      |8583661        |16           |0          |0            |\n",
      "|1.TA.1-360-j19-1.1.H  |05:55:00    |05:55:00      |8583893        |17           |0          |0            |\n",
      "|1.TA.1-360-j19-1.1.H  |05:58:00    |05:58:00      |8503582        |18           |0          |0            |\n",
      "|1.TA.1-360-j19-1.1.H  |06:00:00    |06:00:00      |8503583        |19           |0          |0            |\n",
      "|1.TA.1-360-j19-1.1.H  |06:01:00    |06:01:00      |8572500        |20           |0          |0            |\n",
      "|1.TA.1-360-j19-1.1.H  |06:03:00    |06:03:00      |8503584        |21           |0          |0            |\n",
      "|1.TA.1-360-j19-1.1.H  |06:05:00    |06:05:00      |8503594        |22           |0          |0            |\n",
      "|1.TA.1-360-j19-1.1.H  |06:06:00    |06:06:00      |8576763        |23           |0          |0            |\n",
      "|1.TA.1-360-j19-1.1.H  |06:07:00    |06:07:00      |8572501        |24           |0          |0            |\n",
      "|1.TA.1-360-j19-1.1.H  |06:08:00    |06:08:00      |8572502        |25           |0          |0            |\n",
      "|1.TA.1-360-j19-1.1.H  |06:11:00    |06:11:00      |8572503        |26           |0          |0            |\n",
      "|1.TA.1-361-j19-1.1.H  |18:35:00    |18:35:00      |8581749        |1            |0          |0            |\n",
      "|1.TA.1-361-j19-1.1.H  |18:37:00    |18:37:00      |8500576        |2            |0          |0            |\n",
      "|1.TA.1-361-j19-1.1.H  |18:38:00    |18:38:00      |8580328        |3            |0          |0            |\n",
      "|1.TA.1-361-j19-1.1.H  |18:39:00    |18:39:00      |8500578        |4            |0          |0            |\n",
      "|1.TA.1-361-j19-1.1.H  |18:40:00    |18:40:00      |8572522        |5            |0          |0            |\n",
      "|1.TA.1-361-j19-1.1.H  |18:41:00    |18:41:00      |8572523        |6            |0          |0            |\n",
      "|1.TA.1-361-j19-1.1.H  |18:43:00    |18:43:00      |8581294        |7            |0          |0            |\n",
      "|1.TA.1-362-j19-1.1.R  |05:27:00    |05:27:00      |8502707        |1            |0          |0            |\n",
      "|1.TA.1-362-j19-1.1.R  |05:29:00    |05:29:00      |8503881        |2            |0          |0            |\n",
      "|1.TA.1-362-j19-1.1.R  |05:31:00    |05:31:00      |8581719        |3            |0          |0            |\n",
      "|1.TA.1-362-j19-1.1.R  |05:32:00    |05:32:00      |8581730        |4            |0          |0            |\n",
      "|1.TA.1-362-j19-1.1.R  |05:36:00    |05:36:00      |8580730        |5            |0          |0            |\n",
      "|1.TA.1-362-j19-1.1.R  |05:37:00    |05:37:00      |8572515        |6            |0          |0            |\n",
      "|1.TA.1-362-j19-1.1.R  |05:38:00    |05:38:00      |8572514        |7            |0          |0            |\n",
      "|1.TA.1-362-j19-1.1.R  |05:39:00    |05:39:00      |8502775        |8            |0          |0            |\n",
      "|1.TA.1-362-j19-1.1.R  |05:40:00    |05:40:00      |8572513        |9            |0          |0            |\n",
      "|1.TA.1-362-j19-1.1.R  |05:43:00    |05:43:00      |8572512        |10           |0          |0            |\n",
      "|1.TA.1-362-j19-1.1.R  |05:44:00    |05:44:00      |8572511        |11           |0          |0            |\n",
      "|1.TA.1-362-j19-1.1.R  |05:46:00    |05:46:00      |8502873        |12           |0          |0            |\n",
      "|1.TA.1-362-j19-1.1.R  |05:47:00    |05:47:00      |8578677        |13           |0          |0            |\n",
      "|1.TA.1-362-j19-1.1.R  |05:50:00    |05:50:00      |8500576        |14           |0          |0            |\n",
      "|1.TA.1-362-j19-1.1.R  |05:55:00    |05:55:00      |8581749        |15           |0          |0            |\n",
      "|1.TA.1-363-j19-1.1.H  |05:35:00    |05:35:00      |8581749        |1            |0          |0            |\n",
      "|1.TA.1-363-j19-1.1.H  |05:37:00    |05:37:00      |8500576        |2            |0          |0            |\n",
      "|1.TA.1-363-j19-1.1.H  |05:38:00    |05:38:00      |8572516        |3            |0          |0            |\n",
      "|1.TA.1-363-j19-1.1.H  |05:40:00    |05:40:00      |8500683        |4            |0          |0            |\n",
      "|1.TA.1-363-j19-1.1.H  |05:42:00    |05:42:00      |8572517        |5            |0          |0            |\n",
      "|1.TA.1-363-j19-1.1.H  |05:43:00    |05:43:00      |8502874        |6            |0          |0            |\n",
      "|1.TA.1-363-j19-1.1.H  |05:44:00    |05:44:00      |8572518        |7            |0          |0            |\n",
      "|1.TA.1-363-j19-1.1.H  |05:46:00    |05:46:00      |8572519        |8            |0          |0            |\n",
      "|1.TA.1-363-j19-1.1.H  |05:47:00    |05:47:00      |8572520        |9            |0          |0            |\n",
      "|1.TA.1-363-j19-1.1.H  |05:48:00    |05:48:00      |8572521        |10           |0          |0            |\n",
      "|1.TA.1-363-j19-1.1.H  |05:49:00    |05:49:00      |8502966        |11           |0          |0            |\n",
      "|1.TA.1-364-j19-1.1.R  |05:00:00    |05:00:00      |8572508        |1            |0          |0            |\n",
      "|1.TA.1-364-j19-1.1.R  |05:01:00    |05:01:00      |8502965        |2            |0          |0            |\n",
      "|1.TA.1-364-j19-1.1.R  |05:03:00    |05:03:00      |8583341        |3            |0          |0            |\n",
      "|1.TA.1-364-j19-1.1.R  |05:04:00    |05:04:00      |8502703        |4            |0          |0            |\n",
      "|1.TA.1-364-j19-1.1.R  |05:04:00    |05:04:00      |8572507        |5            |0          |0            |\n",
      "|1.TA.1-364-j19-1.1.R  |05:05:00    |05:05:00      |8572506        |6            |0          |0            |\n",
      "|1.TA.1-364-j19-1.1.R  |05:06:00    |05:06:00      |8502704        |7            |0          |0            |\n",
      "|1.TA.1-364-j19-1.1.R  |05:07:00    |05:07:00      |8502967        |8            |0          |0            |\n",
      "|1.TA.1-364-j19-1.1.R  |05:09:00    |05:09:00      |8582072        |9            |0          |0            |\n",
      "|1.TA.1-364-j19-1.1.R  |05:10:00    |05:10:00      |8572505        |10           |0          |0            |\n",
      "|1.TA.1-364-j19-1.1.R  |05:11:00    |05:11:00      |8502871        |11           |0          |0            |\n",
      "|1.TA.1-364-j19-1.1.R  |05:11:00    |05:11:00      |8572504        |12           |0          |0            |\n",
      "|1.TA.1-364-j19-1.1.R  |05:13:00    |05:13:00      |8500788        |13           |0          |0            |\n",
      "+----------------------+------------+--------------+---------------+-------------+-----------+-------------+\n",
      "only showing top 1000 rows"
     ]
    }
   ],
   "source": [
    "stop_times.orderBy(['trip_id', 'stop_sequence']).show(1000, False)"
   ]
  },
  {
   "cell_type": "code",
   "execution_count": 49,
   "metadata": {},
   "outputs": [
    {
     "data": {
      "application/vnd.jupyter.widget-view+json": {
       "model_id": "",
       "version_major": 2,
       "version_minor": 0
      },
      "text/plain": [
       "FloatProgress(value=0.0, bar_style='info', description='Progress:', layout=Layout(height='25px', width='50%'),…"
      ]
     },
     "metadata": {},
     "output_type": "display_data"
    },
    {
     "name": "stdout",
     "output_type": "stream",
     "text": [
      "+-------------------+---------------+----------+--------------+-------+---------+------------------+--------------------+\n",
      "|arrival_time_minute|        trip_id|station_id|transport_type|line_id|line_text| delay_probability|     delay_parameter|\n",
      "+-------------------+---------------+----------+--------------+-------+---------+------------------+--------------------+\n",
      "|              21:42|   85:11:10:002|   8503202|           Zug|     10|       EC|0.8202508288487688|0.014650408388357685|\n",
      "|              02:58|85:11:13714:001|   8503000|           Zug|  13714|      SN1|0.6519774011299435|0.006361772034664491|\n",
      "|              02:12|85:11:13783:001|   8503000|           Zug|  13783|      SN8|0.8833798882681564|0.007784998646087192|\n",
      "|              10:08|85:11:14037:001|   8503006|           Zug|  14037|      S24|0.8132095748704679|0.015289947865916156|\n",
      "|              13:56|85:11:14051:002|   8503010|           Zug|  14051|      S24|  0.81328451151898|0.015783488520259153|\n",
      "|              15:14|85:11:14055:002|   8503204|           Zug|  14055|      S24|0.8229764472710196|0.014770271373540382|\n",
      "|              17:21|85:11:14066:002|   8503202|           Zug|  14066|      S24|0.8888496639022103|0.009861344482875898|\n",
      "|              19:57|85:11:14077:001|   8503307|           Zug|  14077|      S24|0.8456830210103476|0.012050985796682373|\n",
      "|              20:51|85:11:14080:001|   8503202|           Zug|  14080|      S24|0.8206369829555474| 0.01426967463547332|\n",
      "|              22:21|85:11:14084:001|   8503006|           Zug|  14084|      S24|0.8255917107270856|0.013662843813113116|\n",
      "+-------------------+---------------+----------+--------------+-------+---------+------------------+--------------------+\n",
      "only showing top 10 rows"
     ]
    }
   ],
   "source": [
    "probability.show(10)"
   ]
  },
  {
   "cell_type": "code",
   "execution_count": 59,
   "metadata": {},
   "outputs": [
    {
     "data": {
      "application/vnd.jupyter.widget-view+json": {
       "model_id": "",
       "version_major": 2,
       "version_minor": 0
      },
      "text/plain": [
       "FloatProgress(value=0.0, bar_style='info', description='Progress:', layout=Layout(height='25px', width='50%'),…"
      ]
     },
     "metadata": {},
     "output_type": "display_data"
    },
    {
     "name": "stdout",
     "output_type": "stream",
     "text": [
      "+-------------------+----------------------+----------+--------------+-----------+---------+------------------+--------------------+\n",
      "|arrival_time_minute|trip_id               |station_id|transport_type|line_id    |line_text|delay_probability |delay_parameter     |\n",
      "+-------------------+----------------------+----------+--------------+-----------+---------+------------------+--------------------+\n",
      "| 11:55             |85:3849:140841-04004-1|8576198   |Tram          |85:3849:004|4        |0.8574072972731869|0.014359789452007226|\n",
      "| 11:55             |85:3849:140841-04004-1|8576199   |Tram          |85:3849:004|4        |0.8574072972731869|0.014359789452007226|\n",
      "| 11:55             |85:3849:140841-04004-1|8576193   |Tram          |85:3849:004|4        |0.8574072972731869|0.014359789452007226|\n",
      "| 11:55             |85:3849:140841-04004-1|8576195   |Tram          |85:3849:004|4        |0.8574072972731869|0.014359789452007226|\n",
      "| 11:55             |85:3849:140841-04004-1|8576200   |Tram          |85:3849:004|4        |0.8574072972731869|0.014359789452007226|\n",
      "| 11:55             |85:3849:140841-04004-1|8576197   |Tram          |85:3849:004|4        |0.8574072972731869|0.014359789452007226|\n",
      "| 11:55             |85:3849:140841-04004-1|8576196   |Tram          |85:3849:004|4        |0.8574072972731869|0.014359789452007226|\n",
      "| 11:55             |85:3849:140841-04004-1|8591239   |Tram          |85:3849:004|4        |0.8574072972731869|0.014359789452007226|\n",
      "+-------------------+----------------------+----------+--------------+-----------+---------+------------------+--------------------+"
     ]
    }
   ],
   "source": [
    "(\n",
    "    probability\n",
    "    .where(probability.trip_id.substr(0, 14) == '85:3849:140841')\n",
    "    .where(probability.arrival_time_minute == ' 11:55')\n",
    ").show(20, False)"
   ]
  },
  {
   "cell_type": "code",
   "execution_count": 67,
   "metadata": {},
   "outputs": [
    {
     "data": {
      "application/vnd.jupyter.widget-view+json": {
       "model_id": "",
       "version_major": 2,
       "version_minor": 0
      },
      "text/plain": [
       "FloatProgress(value=0.0, bar_style='info', description='Progress:', layout=Layout(height='25px', width='50%'),…"
      ]
     },
     "metadata": {},
     "output_type": "display_data"
    },
    {
     "name": "stdout",
     "output_type": "stream",
     "text": [
      "+---------------------+------------+--------------+-----------+-------------+-----------+-------------+\n",
      "|trip_id              |arrival_time|departure_time|stop_id    |stop_sequence|pickup_type|drop_off_type|\n",
      "+---------------------+------------+--------------+-----------+-------------+-----------+-------------+\n",
      "|1.TA.1-1-B-j19-1.1.R |04:20:00    |04:20:00      |8500010:0:3|1            |0          |0            |\n",
      "|1.TA.1-1-B-j19-1.1.R |04:24:00    |04:24:00      |8500020:0:3|2            |0          |0            |\n",
      "|1.TA.1-1-B-j19-1.1.R |04:28:00    |04:28:00      |8500021:0:5|3            |0          |0            |\n",
      "|1.TA.1-1-B-j19-1.1.R |04:30:00    |04:30:00      |8517131:0:2|4            |0          |0            |\n",
      "|1.TA.1-1-B-j19-1.1.R |04:32:00    |04:32:00      |8500300:0:5|5            |0          |0            |\n",
      "|1.TA.1-1-B-j19-1.1.R |04:35:00    |04:35:00      |8500313:0:2|6            |0          |0            |\n",
      "|1.TA.1-1-B-j19-1.1.R |04:37:00    |04:38:00      |8500301:0:3|7            |0          |0            |\n",
      "|1.TA.1-1-B-j19-1.1.R |04:40:00    |04:41:00      |8500302:0:3|8            |0          |0            |\n",
      "|1.TA.1-1-B-j19-1.1.R |04:45:00    |04:45:00      |8500303:0:2|9            |0          |0            |\n",
      "|1.TA.1-1-B-j19-1.1.R |04:48:00    |04:49:00      |8500320:0:3|10           |0          |0            |\n",
      "|1.TA.1-1-B-j19-1.1.R |04:52:00    |04:52:00      |8500304:0:2|11           |0          |0            |\n",
      "|1.TA.1-1-B-j19-1.1.R |04:56:00    |04:56:00      |8500305:0:1|12           |0          |0            |\n",
      "|25.TA.1-1-B-j19-1.1.R|05:50:00    |05:50:00      |8500010:0:3|1            |0          |0            |\n",
      "|25.TA.1-1-B-j19-1.1.R|05:54:00    |05:54:00      |8500020:0:3|2            |0          |0            |\n",
      "|25.TA.1-1-B-j19-1.1.R|05:58:00    |05:58:00      |8500021:0:5|3            |0          |0            |\n",
      "|25.TA.1-1-B-j19-1.1.R|06:00:00    |06:00:00      |8517131:0:2|4            |0          |0            |\n",
      "|25.TA.1-1-B-j19-1.1.R|06:02:00    |06:02:00      |8500300:0:5|5            |0          |0            |\n",
      "|25.TA.1-1-B-j19-1.1.R|06:05:00    |06:05:00      |8500313:0:2|6            |0          |0            |\n",
      "|25.TA.1-1-B-j19-1.1.R|06:07:00    |06:08:00      |8500301:0:3|7            |0          |0            |\n",
      "|25.TA.1-1-B-j19-1.1.R|06:10:00    |06:11:00      |8500302:0:3|8            |0          |0            |\n",
      "+---------------------+------------+--------------+-----------+-------------+-----------+-------------+\n",
      "only showing top 20 rows"
     ]
    }
   ],
   "source": [
    "stop_times.show(20, False)"
   ]
  },
  {
   "cell_type": "code",
   "execution_count": 60,
   "metadata": {},
   "outputs": [
    {
     "data": {
      "application/vnd.jupyter.widget-view+json": {
       "model_id": "",
       "version_major": 2,
       "version_minor": 0
      },
      "text/plain": [
       "FloatProgress(value=0.0, bar_style='info', description='Progress:', layout=Layout(height='25px', width='50%'),…"
      ]
     },
     "metadata": {},
     "output_type": "display_data"
    }
   ],
   "source": [
    "from pyspark.sql import Window"
   ]
  },
  {
   "cell_type": "code",
   "execution_count": 89,
   "metadata": {},
   "outputs": [
    {
     "data": {
      "application/vnd.jupyter.widget-view+json": {
       "model_id": "",
       "version_major": 2,
       "version_minor": 0
      },
      "text/plain": [
       "FloatProgress(value=0.0, bar_style='info', description='Progress:', layout=Layout(height='25px', width='50%'),…"
      ]
     },
     "metadata": {},
     "output_type": "display_data"
    }
   ],
   "source": [
    "order = Window().partitionBy('trip_id').orderBy('arrival_time')"
   ]
  },
  {
   "cell_type": "code",
   "execution_count": 96,
   "metadata": {},
   "outputs": [
    {
     "data": {
      "application/vnd.jupyter.widget-view+json": {
       "model_id": "",
       "version_major": 2,
       "version_minor": 0
      },
      "text/plain": [
       "FloatProgress(value=0.0, bar_style='info', description='Progress:', layout=Layout(height='25px', width='50%'),…"
      ]
     },
     "metadata": {},
     "output_type": "display_data"
    }
   ],
   "source": [
    "@f.udf\n",
    "def station_hash(stations):\n",
    "    return hash(tuple(stations))"
   ]
  },
  {
   "cell_type": "code",
   "execution_count": 99,
   "metadata": {},
   "outputs": [
    {
     "data": {
      "application/vnd.jupyter.widget-view+json": {
       "model_id": "",
       "version_major": 2,
       "version_minor": 0
      },
      "text/plain": [
       "FloatProgress(value=0.0, bar_style='info', description='Progress:', layout=Layout(height='25px', width='50%'),…"
      ]
     },
     "metadata": {},
     "output_type": "display_data"
    }
   ],
   "source": [
    "start_stop = (\n",
    "    stop_times\n",
    "    .withColumn('hash', station_hash(f.collect_list(stop_times.stop_id).over(order)))\n",
    "    .withColumn('stop_id', f.last(stop_times.stop_id).over(order))\n",
    "    # .withColumn('start_id_2', f.first(stop_times.stop_id).over(order))\n",
    "    .persist()\n",
    ")"
   ]
  },
  {
   "cell_type": "code",
   "execution_count": 100,
   "metadata": {},
   "outputs": [
    {
     "data": {
      "application/vnd.jupyter.widget-view+json": {
       "model_id": "",
       "version_major": 2,
       "version_minor": 0
      },
      "text/plain": [
       "FloatProgress(value=0.0, bar_style='info', description='Progress:', layout=Layout(height='25px', width='50%'),…"
      ]
     },
     "metadata": {},
     "output_type": "display_data"
    },
    {
     "name": "stdout",
     "output_type": "stream",
     "text": [
      "+--------------------+------------+--------------+------------+-------------+-----------+-------------+--------------------+\n",
      "|             trip_id|arrival_time|departure_time|     stop_id|stop_sequence|pickup_type|drop_off_type|                hash|\n",
      "+--------------------+------------+--------------+------------+-------------+-----------+-------------+--------------------+\n",
      "|1.TA.11-12-B-j19-...|    08:30:00|      08:30:00|     8582915|            1|          0|            0|-4647608183507534734|\n",
      "|1.TA.11-12-B-j19-...|    08:31:00|      08:31:00|     8582916|            2|          0|            0|-2344871266416595320|\n",
      "|1.TA.11-12-B-j19-...|    08:33:00|      08:33:00|     8582917|            3|          0|            0| 8063082993366071779|\n",
      "|1.TA.11-12-B-j19-...|    08:35:00|      08:35:00|     8574680|            4|          0|            0|   20657248049256456|\n",
      "|1.TA.12-1-A-j19-1...|    01:30:00|      01:30:00|8505000:0:11|            1|          0|            0| 4230726535584772973|\n",
      "+--------------------+------------+--------------+------------+-------------+-----------+-------------+--------------------+\n",
      "only showing top 5 rows"
     ]
    }
   ],
   "source": [
    "start_stop.show(5)"
   ]
  },
  {
   "cell_type": "code",
   "execution_count": null,
   "metadata": {},
   "outputs": [],
   "source": [
    "probability.groupBy(['trip_id', ''])"
   ]
  },
  {
   "cell_type": "code",
   "execution_count": 78,
   "metadata": {},
   "outputs": [
    {
     "data": {
      "application/vnd.jupyter.widget-view+json": {
       "model_id": "",
       "version_major": 2,
       "version_minor": 0
      },
      "text/plain": [
       "FloatProgress(value=0.0, bar_style='info', description='Progress:', layout=Layout(height='25px', width='50%'),…"
      ]
     },
     "metadata": {},
     "output_type": "display_data"
    },
    {
     "name": "stdout",
     "output_type": "stream",
     "text": [
      "11128930"
     ]
    }
   ],
   "source": [
    "stop_times.count()"
   ]
  },
  {
   "cell_type": "code",
   "execution_count": 79,
   "metadata": {},
   "outputs": [
    {
     "data": {
      "application/vnd.jupyter.widget-view+json": {
       "model_id": "",
       "version_major": 2,
       "version_minor": 0
      },
      "text/plain": [
       "FloatProgress(value=0.0, bar_style='info', description='Progress:', layout=Layout(height='25px', width='50%'),…"
      ]
     },
     "metadata": {},
     "output_type": "display_data"
    },
    {
     "name": "stdout",
     "output_type": "stream",
     "text": [
      "1033749"
     ]
    }
   ],
   "source": [
    "start_stop.where(start_stop.start_id == start_stop.stop_id).count()"
   ]
  },
  {
   "cell_type": "code",
   "execution_count": 66,
   "metadata": {},
   "outputs": [
    {
     "data": {
      "application/vnd.jupyter.widget-view+json": {
       "model_id": "",
       "version_major": 2,
       "version_minor": 0
      },
      "text/plain": [
       "FloatProgress(value=0.0, bar_style='info', description='Progress:', layout=Layout(height='25px', width='50%'),…"
      ]
     },
     "metadata": {},
     "output_type": "display_data"
    },
    {
     "name": "stdout",
     "output_type": "stream",
     "text": [
      "+-------------------+----------------------+---------------------------------------------------------------------------------------------------------------------------------------------------------------------------------------------+-----+\n",
      "|arrival_time_minute|trip_id               |stations                                                                                                                                                                                     |count|\n",
      "+-------------------+----------------------+---------------------------------------------------------------------------------------------------------------------------------------------------------------------------------------------+-----+\n",
      "| 07:59             |85:3849:84551-02017-1 |[8591384, 8591329, 8591415, 8591059, 8591299, 8591404, 8591366]                                                                                                                              |7    |\n",
      "| 11:55             |85:3849:140841-04004-1|[8591239, 8576196, 8576197, 8576198, 8576193, 8576195, 8576199, 8576200]                                                                                                                     |8    |\n",
      "| 13:19             |85:849:117613-30031-1 |[8591364, 8591219, 8591228, 8591277, 8591287, 8588078, 8591052, 8530812, 8591375, 8591239, 8591262, 8591367, 8587348, 8530813]                                                               |14   |\n",
      "| 14:20             |85:3849:693232-28013-1|[8591110, 8576240, 8591121, 8591299, 8591446, 8591437, 8591417, 8591423, 8591353, 8591282, 8591257, 8591317, 8591039, 8580522, 8587349, 8591093, 8591368, 8591306, 8591059, 8591067, 8591316]|21   |\n",
      "| 14:35             |85:3849:693255-28013-1|[8591110, 8591317, 8591423, 8580522, 8587349, 8591121, 8591059, 8591437, 8591093, 8591306, 8591368, 8591417, 8591299, 8591039, 8591316, 8591067, 8576240, 8591446, 8591353, 8591282, 8591257]|21   |\n",
      "| 15:27             |85:849:401254-32031-1 |[8530812, 8591262, 8591364, 8591052, 8591340, 8591221, 8591239, 8591277, 8591137, 8591169, 8591375, 8591219, 8591287, 8591367, 8588078, 8530813, 8591056, 8591233]                           |18   |\n",
      "| 15:33             |85:3849:539981-04008-1|[8591381, 8591177, 8591060, 8591052, 8591184, 8591169]                                                                                                                                       |6    |\n",
      "| 15:48             |85:3849:113294-04002-1|[8591222, 8591252, 8591079, 8591038, 8591258, 8591218, 8590318, 8591138, 8591299, 8591259, 8591051, 8591448, 8591165]                                                                        |13   |\n",
      "| 16:06             |85:849:346764-34031-1 |[8591265, 8591361, 8590318, 8591186, 8591177, 8591056, 8591253, 8591334]                                                                                                                     |8    |\n",
      "| 17:22             |85:3849:206650-11003-1|[8587348, 8591262, 8591381, 8591218, 8588078, 8591367, 8591079, 8591202, 8591199, 8503083, 8591287, 8591233, 8591239]                                                                        |13   |\n",
      "| 17:38             |85:849:55739-25033-1  |[8594239, 8591236, 8580522, 8591060, 8591038, 8591177]                                                                                                                                       |6    |\n",
      "| 17:47             |85:849:561135-36031-1 |[8588078, 8591375, 8591233, 8591072, 8591424, 8530812, 8591364, 8587348, 8591115, 8591107, 8591221, 8591239, 8591228, 8591340, 8591287, 8591445, 8530813, 8591261, 8591137]                  |19   |\n",
      "| 18:00             |85:3849:166343-06008-1|[8591398, 8591374, 8591896, 8594239, 8591033, 8591057, 8591391]                                                                                                                              |7    |\n",
      "| 18:16             |85:3849:86742-02005-1 |[8591239, 8591119, 8591220, 8591202, 8530813, 8503083]                                                                                                                                       |6    |\n",
      "| 18:41             |85:3849:248909-25011-1|[8530813, 8591104, 8591142, 8591429, 8591364, 8530812, 8591180, 8503059, 8530811]                                                                                                            |9    |\n",
      "| 19:05             |85:849:541003-04033-1 |[8576198, 8591198, 8576200, 8576199, 8591137, 8591233, 8576182, 8530812, 8591094]                                                                                                            |9    |\n",
      "| 23:25             |85:849:329799-36031-1 |[8591287, 8591107, 8591364, 8591261, 8591221, 8587348, 8591233, 8591137, 8591340, 8591239, 8591424, 8591115, 8530812, 8591445, 8530813, 8588078, 8591072, 8591228, 8591375]                  |19   |\n",
      "| 08:18             |85:3849:325496-02008-1|[8580522, 8591060, 8594239, 8591074, 8591131, 8591135]                                                                                                                                       |6    |\n",
      "| 11:59             |85:3849:143201-04013-1|[8591404, 8591366, 8591059, 8591329, 8591245, 8591415]                                                                                                                                       |6    |\n",
      "| 12:20             |85:3849:693199-28013-1|[8591093, 8591446, 8580522, 8587349, 8591437, 8576240, 8591353, 8591121, 8591067, 8591110, 8591417, 8591039, 8591059, 8591316, 8591282, 8591257, 8591368, 8591423, 8591299, 8591317, 8591306]|21   |\n",
      "+-------------------+----------------------+---------------------------------------------------------------------------------------------------------------------------------------------------------------------------------------------+-----+\n",
      "only showing top 20 rows"
     ]
    }
   ],
   "source": [
    "probability.groupBy(['arrival_time_minute', 'trip_id']).agg(f.collect_list(probability.station_id).alias('stations'), f.countDistinct(probability.station_id).alias('count')).where('count  > 5').show(20, False)\n"
   ]
  },
  {
   "cell_type": "code",
   "execution_count": 101,
   "metadata": {},
   "outputs": [
    {
     "data": {
      "application/vnd.jupyter.widget-view+json": {
       "model_id": "",
       "version_major": 2,
       "version_minor": 0
      },
      "text/plain": [
       "FloatProgress(value=0.0, bar_style='info', description='Progress:', layout=Layout(height='25px', width='50%'),…"
      ]
     },
     "metadata": {},
     "output_type": "display_data"
    }
   ],
   "source": [
    "sbb = spark.read.orc('/data/sbb/orc/istdaten')"
   ]
  },
  {
   "cell_type": "code",
   "execution_count": 111,
   "metadata": {},
   "outputs": [
    {
     "data": {
      "application/vnd.jupyter.widget-view+json": {
       "model_id": "",
       "version_major": 2,
       "version_minor": 0
      },
      "text/plain": [
       "FloatProgress(value=0.0, bar_style='info', description='Progress:', layout=Layout(height='25px', width='50%'),…"
      ]
     },
     "metadata": {},
     "output_type": "display_data"
    },
    {
     "name": "stdout",
     "output_type": "stream",
     "text": [
      "+-----------+----------------------+------------+-------------+-----------------------------+----------+-----------+-----------+---------+-------------------+--------------+-------------+-------+-----------------------+----------------+-------------------+------------------+----------------+-------------------+------------------+-------------+\n",
      "|betriebstag|fahrt_bezeichner      |betreiber_id|betreiber_abk|betreiber_name               |produkt_id|linien_id  |linien_text|umlauf_id|verkehrsmittel_text|zusatzfahrt_tf|faellt_aus_tf|bpuic  |haltestellen_name      |ankunftszeit    |an_prognose        |an_prognose_status|abfahrtszeit    |ab_prognose        |ab_prognose_status|durchfahrt_tf|\n",
      "+-----------+----------------------+------------+-------------+-----------------------------+----------+-----------+-----------+---------+-------------------+--------------+-------------+-------+-----------------------+----------------+-------------------+------------------+----------------+-------------------+------------------+-------------+\n",
      "|08.09.2018 |85:3849:140841-04004-1|85:3849     |VBZ Fpl      |Verkehrsbetriebe Zürich INFO+|Tram      |85:3849:004|4          |240010   |Trm                |false         |false        |8576193|Zürich, Bellevue       |08.09.2018 11:55|08.09.2018 11:55:54|PROGNOSE          |08.09.2018 11:56|08.09.2018 11:56:24|PROGNOSE          |false        |\n",
      "|07.07.2018 |85:3849:140841-04004-1|85:3849     |VBZ Fpl      |Verkehrsbetriebe Zürich INFO+|Tram      |85:3849:004|4          |240010   |Trm                |false         |false        |8576197|Zürich, Feldeggstrasse |07.07.2018 11:55|07.07.2018 11:55:12|PROGNOSE          |07.07.2018 11:55|07.07.2018 11:55:12|PROGNOSE          |false        |\n",
      "|07.07.2018 |85:3849:140841-04004-1|85:3849     |VBZ Fpl      |Verkehrsbetriebe Zürich INFO+|Tram      |85:3849:004|4          |240010   |Trm                |false         |false        |8576200|Zürich, Wildbachstrasse|07.07.2018 11:55|07.07.2018 11:55:12|PROGNOSE          |07.07.2018 11:55|07.07.2018 11:55:12|PROGNOSE          |false        |\n",
      "|07.07.2018 |85:3849:140841-04004-1|85:3849     |VBZ Fpl      |Verkehrsbetriebe Zürich INFO+|Tram      |85:3849:004|4          |240010   |Trm                |false         |false        |8576196|Zürich, Kreuzstrasse   |07.07.2018 11:55|07.07.2018 11:55:12|PROGNOSE          |07.07.2018 11:55|07.07.2018 11:55:12|PROGNOSE          |false        |\n",
      "|07.07.2018 |85:3849:140841-04004-1|85:3849     |VBZ Fpl      |Verkehrsbetriebe Zürich INFO+|Tram      |85:3849:004|4          |240010   |Trm                |false         |false        |8576198|Zürich, Höschgasse     |07.07.2018 11:55|07.07.2018 11:55:12|PROGNOSE          |07.07.2018 11:55|07.07.2018 11:55:12|PROGNOSE          |false        |\n",
      "|23.06.2018 |85:3849:140841-04004-1|85:3849     |VBZ Fpl      |Verkehrsbetriebe Zürich INFO+|Tram      |85:3849:004|4          |240010   |Trm                |false         |false        |8591239|Zürich, Kunsthaus      |23.06.2018 11:55|23.06.2018 12:02:16|PROGNOSE          |23.06.2018 11:55|23.06.2018 12:02:53|PROGNOSE          |false        |\n",
      "|07.07.2018 |85:3849:140841-04004-1|85:3849     |VBZ Fpl      |Verkehrsbetriebe Zürich INFO+|Tram      |85:3849:004|4          |240010   |Trm                |false         |false        |8576199|Zürich, Fröhlichstrasse|07.07.2018 11:55|07.07.2018 11:55:12|PROGNOSE          |07.07.2018 11:55|07.07.2018 11:55:12|PROGNOSE          |false        |\n",
      "|07.07.2018 |85:3849:140841-04004-1|85:3849     |VBZ Fpl      |Verkehrsbetriebe Zürich INFO+|Tram      |85:3849:004|4          |240010   |Trm                |false         |false        |8576195|Zürich, Opernhaus      |07.07.2018 11:55|07.07.2018 11:55:12|PROGNOSE          |07.07.2018 11:55|07.07.2018 11:55:12|PROGNOSE          |false        |\n",
      "+-----------+----------------------+------------+-------------+-----------------------------+----------+-----------+-----------+---------+-------------------+--------------+-------------+-------+-----------------------+----------------+-------------------+------------------+----------------+-------------------+------------------+-------------+"
     ]
    }
   ],
   "source": [
    "sbb.where(sbb.fahrt_bezeichner == '85:3849:140841-04004-1').where(sbb.ankunftszeit.substr(12, 5) == '11:55').dropDuplicates(['bpuic']).show(20, False)"
   ]
  }
 ],
 "metadata": {
  "kernelspec": {
   "display_name": "PySpark",
   "language": "",
   "name": "pysparkkernel"
  },
  "language_info": {
   "codemirror_mode": {
    "name": "python",
    "version": 3
   },
   "mimetype": "text/x-python",
   "name": "pyspark",
   "pygments_lexer": "python3"
  }
 },
 "nbformat": 4,
 "nbformat_minor": 4
}
