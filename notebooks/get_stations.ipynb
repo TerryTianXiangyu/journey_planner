{
 "cells": [
  {
   "cell_type": "markdown",
   "metadata": {},
   "source": [
    "# Get Zurich stations and corresponding walking connections\n",
    "\n",
    "In this notebook, we filter the station list data from two different data sources to obtain a dataframe containing the IDs (and additional information) of every station within 15 km from Zurich HB. The notebook is structured as follows: \n",
    "\n",
    "*   **[Start Spark](#spark)** — import libraries and explain tools that will be used\n",
    "*   **[Public Transport Network](#network)**  — define network structure and connections timetable.\n",
    "*   **[Probabilistic Model](#probability)** — analyse delay for associating every connection with an uncertainty rsk.\n",
    "*   **[Route Planner Algorithm](#algorithm)**  — to apply a function to each element.\n",
    "*   **[User Interface](#interface)** — design interface with desired trip as input and connection alternatives as output\n",
    "*   **[Validation Method](#validation)** — test the developed system for checking its proper funtioning.\n",
    "\n"
   ]
  },
  {
   "cell_type": "markdown",
   "metadata": {},
   "source": [
    "### 1. Start Spark"
   ]
  },
  {
   "cell_type": "code",
   "execution_count": 1,
   "metadata": {},
   "outputs": [
    {
     "data": {
      "text/html": [
       "Current session configs: <tt>{'conf': {'spark.app.name': 'datavirus_final'}, 'kind': 'pyspark'}</tt><br>"
      ],
      "text/plain": [
       "<IPython.core.display.HTML object>"
      ]
     },
     "metadata": {},
     "output_type": "display_data"
    },
    {
     "data": {
      "text/html": [
       "<table>\n",
       "<tr><th>ID</th><th>YARN Application ID</th><th>Kind</th><th>State</th><th>Spark UI</th><th>Driver log</th><th>Current session?</th></tr><tr><td>8403</td><td>application_1589299642358_2935</td><td>pyspark</td><td>idle</td><td><a target=\"_blank\" href=\"http://iccluster044.iccluster.epfl.ch:8088/proxy/application_1589299642358_2935/\">Link</a></td><td><a target=\"_blank\" href=\"http://iccluster066.iccluster.epfl.ch:8042/node/containerlogs/container_e06_1589299642358_2935_01_000001/ebouille\">Link</a></td><td></td></tr><tr><td>8420</td><td>application_1589299642358_2952</td><td>pyspark</td><td>idle</td><td><a target=\"_blank\" href=\"http://iccluster044.iccluster.epfl.ch:8088/proxy/application_1589299642358_2952/\">Link</a></td><td><a target=\"_blank\" href=\"http://iccluster070.iccluster.epfl.ch:8042/node/containerlogs/container_e06_1589299642358_2952_01_000001/ebouille\">Link</a></td><td></td></tr><tr><td>8424</td><td>application_1589299642358_2956</td><td>pyspark</td><td>idle</td><td><a target=\"_blank\" href=\"http://iccluster044.iccluster.epfl.ch:8088/proxy/application_1589299642358_2956/\">Link</a></td><td><a target=\"_blank\" href=\"http://iccluster071.iccluster.epfl.ch:8042/node/containerlogs/container_e06_1589299642358_2956_01_000001/ebouille\">Link</a></td><td></td></tr><tr><td>8435</td><td>application_1589299642358_2967</td><td>pyspark</td><td>idle</td><td><a target=\"_blank\" href=\"http://iccluster044.iccluster.epfl.ch:8088/proxy/application_1589299642358_2967/\">Link</a></td><td><a target=\"_blank\" href=\"http://iccluster069.iccluster.epfl.ch:8042/node/containerlogs/container_e06_1589299642358_2967_01_000001/ebouille\">Link</a></td><td></td></tr><tr><td>8437</td><td>application_1589299642358_2969</td><td>pyspark</td><td>idle</td><td><a target=\"_blank\" href=\"http://iccluster044.iccluster.epfl.ch:8088/proxy/application_1589299642358_2969/\">Link</a></td><td><a target=\"_blank\" href=\"http://iccluster068.iccluster.epfl.ch:8042/node/containerlogs/container_e06_1589299642358_2969_01_000001/ebouille\">Link</a></td><td></td></tr><tr><td>8439</td><td>application_1589299642358_2971</td><td>pyspark</td><td>idle</td><td><a target=\"_blank\" href=\"http://iccluster044.iccluster.epfl.ch:8088/proxy/application_1589299642358_2971/\">Link</a></td><td><a target=\"_blank\" href=\"http://iccluster065.iccluster.epfl.ch:8042/node/containerlogs/container_e06_1589299642358_2971_01_000001/ebouille\">Link</a></td><td></td></tr><tr><td>8454</td><td>application_1589299642358_2986</td><td>pyspark</td><td>idle</td><td><a target=\"_blank\" href=\"http://iccluster044.iccluster.epfl.ch:8088/proxy/application_1589299642358_2986/\">Link</a></td><td><a target=\"_blank\" href=\"http://iccluster067.iccluster.epfl.ch:8042/node/containerlogs/container_e06_1589299642358_2986_01_000001/ebouille\">Link</a></td><td></td></tr><tr><td>8455</td><td>application_1589299642358_2987</td><td>pyspark</td><td>idle</td><td><a target=\"_blank\" href=\"http://iccluster044.iccluster.epfl.ch:8088/proxy/application_1589299642358_2987/\">Link</a></td><td><a target=\"_blank\" href=\"http://iccluster065.iccluster.epfl.ch:8042/node/containerlogs/container_e06_1589299642358_2987_01_000001/ebouille\">Link</a></td><td></td></tr><tr><td>8456</td><td>application_1589299642358_2988</td><td>pyspark</td><td>idle</td><td><a target=\"_blank\" href=\"http://iccluster044.iccluster.epfl.ch:8088/proxy/application_1589299642358_2988/\">Link</a></td><td><a target=\"_blank\" href=\"http://iccluster072.iccluster.epfl.ch:8042/node/containerlogs/container_e06_1589299642358_2988_01_000001/ebouille\">Link</a></td><td></td></tr><tr><td>8457</td><td>application_1589299642358_2989</td><td>pyspark</td><td>idle</td><td><a target=\"_blank\" href=\"http://iccluster044.iccluster.epfl.ch:8088/proxy/application_1589299642358_2989/\">Link</a></td><td><a target=\"_blank\" href=\"http://iccluster069.iccluster.epfl.ch:8042/node/containerlogs/container_e06_1589299642358_2989_01_000001/ebouille\">Link</a></td><td></td></tr><tr><td>8458</td><td>application_1589299642358_2991</td><td>pyspark</td><td>idle</td><td><a target=\"_blank\" href=\"http://iccluster044.iccluster.epfl.ch:8088/proxy/application_1589299642358_2991/\">Link</a></td><td><a target=\"_blank\" href=\"http://iccluster070.iccluster.epfl.ch:8042/node/containerlogs/container_e06_1589299642358_2991_01_000001/ebouille\">Link</a></td><td></td></tr><tr><td>8459</td><td>application_1589299642358_2992</td><td>pyspark</td><td>idle</td><td><a target=\"_blank\" href=\"http://iccluster044.iccluster.epfl.ch:8088/proxy/application_1589299642358_2992/\">Link</a></td><td><a target=\"_blank\" href=\"http://iccluster066.iccluster.epfl.ch:8042/node/containerlogs/container_e06_1589299642358_2992_01_000001/ebouille\">Link</a></td><td></td></tr><tr><td>8460</td><td>application_1589299642358_2995</td><td>pyspark</td><td>idle</td><td><a target=\"_blank\" href=\"http://iccluster044.iccluster.epfl.ch:8088/proxy/application_1589299642358_2995/\">Link</a></td><td><a target=\"_blank\" href=\"http://iccluster071.iccluster.epfl.ch:8042/node/containerlogs/container_e06_1589299642358_2995_01_000001/ebouille\">Link</a></td><td></td></tr><tr><td>8463</td><td>application_1589299642358_2998</td><td>pyspark</td><td>idle</td><td><a target=\"_blank\" href=\"http://iccluster044.iccluster.epfl.ch:8088/proxy/application_1589299642358_2998/\">Link</a></td><td><a target=\"_blank\" href=\"http://iccluster070.iccluster.epfl.ch:8042/node/containerlogs/container_e06_1589299642358_2998_01_000001/ebouille\">Link</a></td><td></td></tr><tr><td>8465</td><td>application_1589299642358_3000</td><td>pyspark</td><td>idle</td><td><a target=\"_blank\" href=\"http://iccluster044.iccluster.epfl.ch:8088/proxy/application_1589299642358_3000/\">Link</a></td><td><a target=\"_blank\" href=\"http://iccluster069.iccluster.epfl.ch:8042/node/containerlogs/container_e06_1589299642358_3000_01_000001/ebouille\">Link</a></td><td></td></tr><tr><td>8467</td><td>application_1589299642358_3002</td><td>pyspark</td><td>idle</td><td><a target=\"_blank\" href=\"http://iccluster044.iccluster.epfl.ch:8088/proxy/application_1589299642358_3002/\">Link</a></td><td><a target=\"_blank\" href=\"http://iccluster072.iccluster.epfl.ch:8042/node/containerlogs/container_e06_1589299642358_3002_01_000001/ebouille\">Link</a></td><td></td></tr><tr><td>8469</td><td>application_1589299642358_3004</td><td>pyspark</td><td>idle</td><td><a target=\"_blank\" href=\"http://iccluster044.iccluster.epfl.ch:8088/proxy/application_1589299642358_3004/\">Link</a></td><td><a target=\"_blank\" href=\"http://iccluster072.iccluster.epfl.ch:8042/node/containerlogs/container_e06_1589299642358_3004_01_000001/ebouille\">Link</a></td><td></td></tr><tr><td>8470</td><td>application_1589299642358_3005</td><td>pyspark</td><td>idle</td><td><a target=\"_blank\" href=\"http://iccluster044.iccluster.epfl.ch:8088/proxy/application_1589299642358_3005/\">Link</a></td><td><a target=\"_blank\" href=\"http://iccluster072.iccluster.epfl.ch:8042/node/containerlogs/container_e06_1589299642358_3005_01_000001/ebouille\">Link</a></td><td></td></tr><tr><td>8471</td><td>application_1589299642358_3006</td><td>pyspark</td><td>idle</td><td><a target=\"_blank\" href=\"http://iccluster044.iccluster.epfl.ch:8088/proxy/application_1589299642358_3006/\">Link</a></td><td><a target=\"_blank\" href=\"http://iccluster071.iccluster.epfl.ch:8042/node/containerlogs/container_e06_1589299642358_3006_01_000001/ebouille\">Link</a></td><td></td></tr><tr><td>8472</td><td>application_1589299642358_3007</td><td>pyspark</td><td>idle</td><td><a target=\"_blank\" href=\"http://iccluster044.iccluster.epfl.ch:8088/proxy/application_1589299642358_3007/\">Link</a></td><td><a target=\"_blank\" href=\"http://iccluster071.iccluster.epfl.ch:8042/node/containerlogs/container_e06_1589299642358_3007_01_000001/ebouille\">Link</a></td><td></td></tr><tr><td>8473</td><td>application_1589299642358_3008</td><td>pyspark</td><td>busy</td><td><a target=\"_blank\" href=\"http://iccluster044.iccluster.epfl.ch:8088/proxy/application_1589299642358_3008/\">Link</a></td><td><a target=\"_blank\" href=\"http://iccluster071.iccluster.epfl.ch:8042/node/containerlogs/container_e06_1589299642358_3008_01_000001/ebouille\">Link</a></td><td></td></tr><tr><td>8476</td><td>application_1589299642358_3011</td><td>pyspark</td><td>idle</td><td><a target=\"_blank\" href=\"http://iccluster044.iccluster.epfl.ch:8088/proxy/application_1589299642358_3011/\">Link</a></td><td><a target=\"_blank\" href=\"http://iccluster069.iccluster.epfl.ch:8042/node/containerlogs/container_e06_1589299642358_3011_01_000001/ebouille\">Link</a></td><td></td></tr><tr><td>8477</td><td>application_1589299642358_3012</td><td>pyspark</td><td>idle</td><td><a target=\"_blank\" href=\"http://iccluster044.iccluster.epfl.ch:8088/proxy/application_1589299642358_3012/\">Link</a></td><td><a target=\"_blank\" href=\"http://iccluster068.iccluster.epfl.ch:8042/node/containerlogs/container_e06_1589299642358_3012_01_000001/ebouille\">Link</a></td><td></td></tr><tr><td>8478</td><td>application_1589299642358_3013</td><td>pyspark</td><td>idle</td><td><a target=\"_blank\" href=\"http://iccluster044.iccluster.epfl.ch:8088/proxy/application_1589299642358_3013/\">Link</a></td><td><a target=\"_blank\" href=\"http://iccluster065.iccluster.epfl.ch:8042/node/containerlogs/container_e06_1589299642358_3013_01_000001/ebouille\">Link</a></td><td></td></tr><tr><td>8480</td><td>application_1589299642358_3015</td><td>pyspark</td><td>idle</td><td><a target=\"_blank\" href=\"http://iccluster044.iccluster.epfl.ch:8088/proxy/application_1589299642358_3015/\">Link</a></td><td><a target=\"_blank\" href=\"http://iccluster069.iccluster.epfl.ch:8042/node/containerlogs/container_e06_1589299642358_3015_01_000001/ebouille\">Link</a></td><td></td></tr><tr><td>8481</td><td>application_1589299642358_3016</td><td>pyspark</td><td>idle</td><td><a target=\"_blank\" href=\"http://iccluster044.iccluster.epfl.ch:8088/proxy/application_1589299642358_3016/\">Link</a></td><td><a target=\"_blank\" href=\"http://iccluster071.iccluster.epfl.ch:8042/node/containerlogs/container_e06_1589299642358_3016_01_000001/ebouille\">Link</a></td><td></td></tr><tr><td>8482</td><td>application_1589299642358_3017</td><td>pyspark</td><td>idle</td><td><a target=\"_blank\" href=\"http://iccluster044.iccluster.epfl.ch:8088/proxy/application_1589299642358_3017/\">Link</a></td><td><a target=\"_blank\" href=\"http://iccluster067.iccluster.epfl.ch:8042/node/containerlogs/container_e06_1589299642358_3017_01_000001/ebouille\">Link</a></td><td></td></tr><tr><td>8483</td><td>application_1589299642358_3018</td><td>pyspark</td><td>idle</td><td><a target=\"_blank\" href=\"http://iccluster044.iccluster.epfl.ch:8088/proxy/application_1589299642358_3018/\">Link</a></td><td><a target=\"_blank\" href=\"http://iccluster066.iccluster.epfl.ch:8042/node/containerlogs/container_e06_1589299642358_3018_01_000001/ebouille\">Link</a></td><td></td></tr><tr><td>8484</td><td>application_1589299642358_3019</td><td>pyspark</td><td>idle</td><td><a target=\"_blank\" href=\"http://iccluster044.iccluster.epfl.ch:8088/proxy/application_1589299642358_3019/\">Link</a></td><td><a target=\"_blank\" href=\"http://iccluster071.iccluster.epfl.ch:8042/node/containerlogs/container_e06_1589299642358_3019_01_000001/ebouille\">Link</a></td><td></td></tr><tr><td>8486</td><td>application_1589299642358_3021</td><td>pyspark</td><td>idle</td><td><a target=\"_blank\" href=\"http://iccluster044.iccluster.epfl.ch:8088/proxy/application_1589299642358_3021/\">Link</a></td><td><a target=\"_blank\" href=\"http://iccluster067.iccluster.epfl.ch:8042/node/containerlogs/container_e06_1589299642358_3021_01_000001/ebouille\">Link</a></td><td></td></tr><tr><td>8487</td><td>application_1589299642358_3022</td><td>pyspark</td><td>idle</td><td><a target=\"_blank\" href=\"http://iccluster044.iccluster.epfl.ch:8088/proxy/application_1589299642358_3022/\">Link</a></td><td><a target=\"_blank\" href=\"http://iccluster068.iccluster.epfl.ch:8042/node/containerlogs/container_e06_1589299642358_3022_01_000001/ebouille\">Link</a></td><td></td></tr><tr><td>8488</td><td>application_1589299642358_3023</td><td>pyspark</td><td>idle</td><td><a target=\"_blank\" href=\"http://iccluster044.iccluster.epfl.ch:8088/proxy/application_1589299642358_3023/\">Link</a></td><td><a target=\"_blank\" href=\"http://iccluster072.iccluster.epfl.ch:8042/node/containerlogs/container_e06_1589299642358_3023_01_000001/ebouille\">Link</a></td><td></td></tr></table>"
      ],
      "text/plain": [
       "<IPython.core.display.HTML object>"
      ]
     },
     "metadata": {},
     "output_type": "display_data"
    }
   ],
   "source": [
    "%%configure\n",
    "{\"conf\": {\n",
    "    \"spark.app.name\": \"datavirus_final\"\n",
    "}}"
   ]
  },
  {
   "cell_type": "code",
   "execution_count": 2,
   "metadata": {},
   "outputs": [
    {
     "name": "stdout",
     "output_type": "stream",
     "text": [
      "Starting Spark application\n"
     ]
    },
    {
     "data": {
      "text/html": [
       "<table>\n",
       "<tr><th>ID</th><th>YARN Application ID</th><th>Kind</th><th>State</th><th>Spark UI</th><th>Driver log</th><th>Current session?</th></tr><tr><td>8490</td><td>application_1589299642358_3025</td><td>pyspark</td><td>idle</td><td><a target=\"_blank\" href=\"http://iccluster044.iccluster.epfl.ch:8088/proxy/application_1589299642358_3025/\">Link</a></td><td><a target=\"_blank\" href=\"http://iccluster065.iccluster.epfl.ch:8042/node/containerlogs/container_e06_1589299642358_3025_01_000001/ebouille\">Link</a></td><td>✔</td></tr></table>"
      ],
      "text/plain": [
       "<IPython.core.display.HTML object>"
      ]
     },
     "metadata": {},
     "output_type": "display_data"
    },
    {
     "data": {
      "application/vnd.jupyter.widget-view+json": {
       "model_id": "",
       "version_major": 2,
       "version_minor": 0
      },
      "text/plain": [
       "FloatProgress(value=0.0, bar_style='info', description='Progress:', layout=Layout(height='25px', width='50%'),…"
      ]
     },
     "metadata": {},
     "output_type": "display_data"
    },
    {
     "name": "stdout",
     "output_type": "stream",
     "text": [
      "SparkSession available as 'spark'.\n"
     ]
    },
    {
     "data": {
      "application/vnd.jupyter.widget-view+json": {
       "model_id": "",
       "version_major": 2,
       "version_minor": 0
      },
      "text/plain": [
       "FloatProgress(value=0.0, bar_style='info', description='Progress:', layout=Layout(height='25px', width='50%'),…"
      ]
     },
     "metadata": {},
     "output_type": "display_data"
    },
    {
     "name": "stdout",
     "output_type": "stream",
     "text": [
      "<pyspark.sql.session.SparkSession object at 0x7f9485cd0850>"
     ]
    }
   ],
   "source": [
    "# Initialization\n",
    "spark"
   ]
  },
  {
   "cell_type": "markdown",
   "metadata": {},
   "source": [
    "### 2. Get station list from [BFKOORD_GEO](https://opentransportdata.swiss/en/cookbook/hafas-rohdaten-format-hrdf/#Abgrenzung)\n",
    "\n",
    "We load the station list provided by the Open Data Switzerland platform"
   ]
  },
  {
   "cell_type": "code",
   "execution_count": 3,
   "metadata": {},
   "outputs": [
    {
     "data": {
      "application/vnd.jupyter.widget-view+json": {
       "model_id": "",
       "version_major": 2,
       "version_minor": 0
      },
      "text/plain": [
       "FloatProgress(value=0.0, bar_style='info', description='Progress:', layout=Layout(height='25px', width='50%'),…"
      ]
     },
     "metadata": {},
     "output_type": "display_data"
    },
    {
     "name": "stdout",
     "output_type": "stream",
     "text": [
      "+---------+---------+---------+------+----------------+\n",
      "|StationID|Longitude| Latitude|Height|          Remark|\n",
      "+---------+---------+---------+------+----------------+\n",
      "|  0000002|26.074412|44.446770|     0|       Bucuresti|\n",
      "|  0000003| 1.811446|50.901549|     0|          Calais|\n",
      "|  0000004| 1.075329|51.284212|     0|      Canterbury|\n",
      "|  0000005|-3.543547|50.729172|     0|          Exeter|\n",
      "|  0000007| 9.733756|46.922368|   744|Fideris, Bahnhof|\n",
      "+---------+---------+---------+------+----------------+\n",
      "only showing top 5 rows"
     ]
    }
   ],
   "source": [
    "metadata = spark.read.csv('/data/sbb/stations/bfkoordgeo.csv', header=True)\n",
    "metadata.show(5)"
   ]
  },
  {
   "cell_type": "markdown",
   "metadata": {},
   "source": [
    "We compute the distance from stations using the Haversine formula, expressed in terms of a two-argument inverse tangent function to calculate the great circle distance between two points on the Earth:\n",
    "\n",
    "$$ a = sin^2(\\Delta{\\phi}/2) + cos(\\phi_1) * cos(\\phi_2) * sin^2(\\Delta{\\lambda}/2) $$\n",
    "\n",
    "$$ distance =  2R * atan2(\\sqrt{a},\\sqrt{1-a}) $$\n",
    "\n",
    "with $R$ being the mean Earth radius (6371 km)</li>, $\\phi$ the latitude and $\\lambda$ the longitude\n",
    "       \n",
    "\n"
   ]
  },
  {
   "cell_type": "code",
   "execution_count": 4,
   "metadata": {},
   "outputs": [
    {
     "data": {
      "application/vnd.jupyter.widget-view+json": {
       "model_id": "",
       "version_major": 2,
       "version_minor": 0
      },
      "text/plain": [
       "FloatProgress(value=0.0, bar_style='info', description='Progress:', layout=Layout(height='25px', width='50%'),…"
      ]
     },
     "metadata": {},
     "output_type": "display_data"
    },
    {
     "name": "stdout",
     "output_type": "stream",
     "text": [
      "+---------+---------+---------+------+--------------------+--------------------+\n",
      "|StationID|Longitude| Latitude|Height|              Remark|Distance_from_Zurich|\n",
      "+---------+---------+---------+------+--------------------+--------------------+\n",
      "|  0000065| 8.595545|47.409209|   430|  Wallisellen, Glatt|   5409.956757262041|\n",
      "|  0000066| 8.595545|47.409209|   430|Wallisellen, Zent...|   5409.956757262041|\n",
      "|  0000176| 8.521961|47.351679|     0|Zimmerberg-Basist...|   3250.669988842345|\n",
      "|  8502186| 8.398942|47.393407|   428|Dietikon Stoffelbach|  10768.073179887586|\n",
      "|  8502187| 8.377032|47.364740|   502|Rudolfstetten Hof...|  12377.426176789762|\n",
      "+---------+---------+---------+------+--------------------+--------------------+\n",
      "only showing top 5 rows"
     ]
    }
   ],
   "source": [
    "import pyspark.sql.functions as F\n",
    "import math\n",
    "df_stations =(\n",
    "    metadata\n",
    "            .withColumn(\"dlon\", F.radians(F.col(\"Longitude\")) - math.radians(8.540192)) \n",
    "            .withColumn(\"dlat\", F.radians(F.col(\"Latitude\")) - math.radians(47.378177)) \n",
    "            .withColumn(\"a\", F.sin(F.col(\"dlat\") / 2) ** 2 + math.cos(math.radians(47.378177)) \n",
    "                        *F.cos(F.radians(F.col(\"Latitude\")))* F.sin(F.col(\"dlon\") / 2) ** 2)\n",
    "            .withColumn(\"Distance_from_Zurich\", 1000*6371*2*F.atan2( F.sqrt(F.col(\"a\")),F.sqrt( 1- F.col(\"a\"))))             \n",
    "            .drop(\"dlon\", \"dlat\",\"a\") \\\n",
    "           .filter(F.col(\"Distance_from_Zurich\")<15000)\n",
    ")\n",
    "df_stations.show(5)\n",
    "df_stations.select(\"StationID\").write.format('csv').mode('overwrite').save(\"../data/zurich_stations_ids.csv\")\n",
    "df_stations.write.format('csv').mode('overwrite').save(\"../data/zurich_stations_info.csv\")"
   ]
  },
  {
   "cell_type": "markdown",
   "metadata": {},
   "source": [
    "### 3. Get station list from time-table stops\n",
    "\n",
    "Another alternative is to get the stations from the stops appearing in the time table. We will try to obtain the Zurich stations from this datset and compared them with the stations obtained from the BFKOORD_GEO dataset"
   ]
  },
  {
   "cell_type": "code",
   "execution_count": 5,
   "metadata": {},
   "outputs": [
    {
     "data": {
      "application/vnd.jupyter.widget-view+json": {
       "model_id": "",
       "version_major": 2,
       "version_minor": 0
      },
      "text/plain": [
       "FloatProgress(value=0.0, bar_style='info', description='Progress:', layout=Layout(height='25px', width='50%'),…"
      ]
     },
     "metadata": {},
     "output_type": "display_data"
    },
    {
     "name": "stdout",
     "output_type": "stream",
     "text": [
      "+-------+--------------------+----------------+----------------+-------------+--------------+\n",
      "|stop_id|           stop_name|        stop_lat|        stop_lon|location_type|parent_station|\n",
      "+-------+--------------------+----------------+----------------+-------------+--------------+\n",
      "|1322000|            Altoggio|46.1672513851495|  8.345807131427|             |              |\n",
      "|1322001|        Antronapiana| 46.060121674738|8.11361957990831|             |              |\n",
      "|1322002|              Anzola|45.9898698225697|8.34571729989858|             |              |\n",
      "|1322003|              Baceno|46.2614983591677|8.31925293162473|             |              |\n",
      "|1322004|Beura Cardezza, c...|46.0790618438814|8.29927439970313|             |              |\n",
      "+-------+--------------------+----------------+----------------+-------------+--------------+\n",
      "only showing top 5 rows"
     ]
    }
   ],
   "source": [
    "stop_metadata = spark.read.orc(\"hdfs:///data/sbb/timetables/orc/stops\")\n",
    "stop_metadata.show(5)"
   ]
  },
  {
   "cell_type": "code",
   "execution_count": 6,
   "metadata": {},
   "outputs": [
    {
     "data": {
      "application/vnd.jupyter.widget-view+json": {
       "model_id": "",
       "version_major": 2,
       "version_minor": 0
      },
      "text/plain": [
       "FloatProgress(value=0.0, bar_style='info', description='Progress:', layout=Layout(height='25px', width='50%'),…"
      ]
     },
     "metadata": {},
     "output_type": "display_data"
    },
    {
     "name": "stdout",
     "output_type": "stream",
     "text": [
      "+-----------+--------------------+----------------+----------------+-------------+--------------+--------------------+\n",
      "|    stop_id|           stop_name|        stop_lat|        stop_lon|location_type|parent_station|Distance_from_Zurich|\n",
      "+-----------+--------------------+----------------+----------------+-------------+--------------+--------------------+\n",
      "|    8500926|Oetwil a.d.L., Sc...|47.4236270123012| 8.4031825286317|             |              |  11483.706414892196|\n",
      "|    8502186|Dietikon Stoffelbach|47.3934058321612|8.39894248049007|             |      8502186P|  10768.017150422354|\n",
      "|8502186:0:1|Dietikon Stoffelbach|47.3934666445388|8.39894248049007|             |      8502186P|  10769.076553178611|\n",
      "|8502186:0:2|Dietikon Stoffelbach|47.3935274568464|8.39894248049007|             |      8502186P|  10770.140096033407|\n",
      "|   8502186P|Dietikon Stoffelbach|47.3934058321612|8.39894248049007|            1|              |  10768.017150422354|\n",
      "+-----------+--------------------+----------------+----------------+-------------+--------------+--------------------+\n",
      "only showing top 5 rows"
     ]
    }
   ],
   "source": [
    "df_stops =(\n",
    "    stop_metadata\n",
    "            .withColumn(\"dlon\", F.radians(F.col(\"stop_lon\")) - math.radians(8.540192)) \n",
    "            .withColumn(\"dlat\", F.radians(F.col(\"stop_lat\")) - math.radians(47.378177)) \n",
    "            .withColumn(\"a\", F.sin(F.col(\"dlat\") / 2) ** 2 + math.cos(math.radians(47.378177)) \n",
    "                        *F.cos(F.radians(F.col(\"stop_lat\")))* F.sin(F.col(\"dlon\") / 2) ** 2)\n",
    "            .withColumn(\"Distance_from_Zurich\", 1000*6371*2*F.atan2( F.sqrt(F.col(\"a\")),F.sqrt( 1- F.col(\"a\"))))             \n",
    "            .drop(\"dlon\", \"dlat\",\"a\") \\\n",
    "           .filter(F.col(\"Distance_from_Zurich\")<15000)\n",
    ")\n",
    "\n",
    "df_stops.show(5)"
   ]
  },
  {
   "cell_type": "markdown",
   "metadata": {},
   "source": [
    "We observe that the stop_ids contain more information than in the previous dataframe because in this case they also distiguish between different platfroms inside the same station. There are "
   ]
  },
  {
   "cell_type": "code",
   "execution_count": 23,
   "metadata": {},
   "outputs": [
    {
     "data": {
      "application/vnd.jupyter.widget-view+json": {
       "model_id": "",
       "version_major": 2,
       "version_minor": 0
      },
      "text/plain": [
       "FloatProgress(value=0.0, bar_style='info', description='Progress:', layout=Layout(height='25px', width='50%'),…"
      ]
     },
     "metadata": {},
     "output_type": "display_data"
    },
    {
     "name": "stdout",
     "output_type": "stream",
     "text": [
      "+------------+---------+----------------+----------------+-------------+--------------+--------------------+\n",
      "|     stop_id|stop_name|        stop_lat|        stop_lon|location_type|parent_station|Distance_from_Zurich|\n",
      "+------------+---------+----------------+----------------+-------------+--------------+--------------------+\n",
      "|     8503000|Zürich HB|47.3781762039461|8.54019357578468|             |      8503000P| 0.14803143371142663|\n",
      "|8503000:0:10|Zürich HB|47.3794536181612|8.54019357578468|             |      8503000P|   141.9535123729413|\n",
      "|8503000:0:11|Zürich HB|47.3795144466376|8.54019357578468|             |      8503000P|   148.7173280882197|\n",
      "|8503000:0:12|Zürich HB|47.3786020121232|8.54019357578468|             |      8503000P|   47.25934080565981|\n",
      "|8503000:0:13|Zürich HB|47.3785411825942|8.54019357578468|             |      8503000P|  40.495430668280754|\n",
      "+------------+---------+----------------+----------------+-------------+--------------+--------------------+\n",
      "only showing top 5 rows"
     ]
    }
   ],
   "source": [
    "df_stops.where(F.col('stop_name')=='Zürich HB').show(5) "
   ]
  },
  {
   "cell_type": "markdown",
   "metadata": {},
   "source": [
    "### 4. Compare both dataframes to see which stations are missing\n",
    "\n",
    "Nonetheless, if we don't make a disticntion between the patforms and only take into account the first 7 characters of the station ID (corresponding to the parent station) we see that the first dataframe is more complete than the second one, so we decide to stick to the filtered station list obtained from the BFKOORD_GEO dataset"
   ]
  },
  {
   "cell_type": "code",
   "execution_count": 37,
   "metadata": {},
   "outputs": [
    {
     "data": {
      "application/vnd.jupyter.widget-view+json": {
       "model_id": "",
       "version_major": 2,
       "version_minor": 0
      },
      "text/plain": [
       "FloatProgress(value=0.0, bar_style='info', description='Progress:', layout=Layout(height='25px', width='50%'),…"
      ]
     },
     "metadata": {},
     "output_type": "display_data"
    },
    {
     "name": "stdout",
     "output_type": "stream",
     "text": [
      "+---------+---------+---------+------+--------------------+--------------------+\n",
      "|StationID|Longitude| Latitude|Height|              Remark|Distance_from_Zurich|\n",
      "+---------+---------+---------+------+--------------------+--------------------+\n",
      "|  0000065| 8.595545|47.409209|   430|  Wallisellen, Glatt|   5409.956757262041|\n",
      "|  0000066| 8.595545|47.409209|   430|Wallisellen, Zent...|   5409.956757262041|\n",
      "|  0000176| 8.521961|47.351679|     0|Zimmerberg-Basist...|   3250.669988842345|\n",
      "|  8502229| 8.430330|47.380971|   456|   Urdorf Weihermatt|   8277.819213423541|\n",
      "|  8502273| 8.346555|47.351473|   386|          Bremgarten|  14883.063708751546|\n",
      "|  8502276| 8.366793|47.362187|   550|       Berikon-Widen|  13178.777609530798|\n",
      "|  8502758| 8.532976|47.244746|   617|Hausen am Albis, ...|  14846.820829250355|\n",
      "|  8503001| 8.488940|47.391481|   399|   Zürich Altstetten|   4132.461995948391|\n",
      "|  8503006| 8.544115|47.411529|   442|     Zürich Oerlikon|   3720.310973238964|\n",
      "|  8503007| 8.544636|47.418747|   442|      Zürich Seebach|   4523.561743740274|\n",
      "|  8503008| 8.508565|47.420913|   456|    Zürich Affoltern|   5314.904608086458|\n",
      "|  8503015| 8.529359|47.393032|   425|    Zürich Wipkingen|   1842.172729700027|\n",
      "|  8503016| 8.562386|47.450383|   430|    Zürich Flughafen|   8200.776260391967|\n",
      "|  8503020| 8.517106|47.385195|   415|   Zürich Hardbrücke|  1905.3151501473199|\n",
      "|  8503065| 8.647968|47.325340|   689|               Forch|   10021.95044275618|\n",
      "|  8503069| 8.583204|47.351016|   524|       Zürich Rehalp|   4428.953737988142|\n",
      "|  8503088| 8.539170|47.377431|   396|       Zürich HB SZU|  113.14930069563538|\n",
      "|  8503125| 8.718688|47.350367|   464|               Uster|   13794.70466555812|\n",
      "|  8503126| 8.686399|47.369359|   449|  Nänikon-Greifensee|  11053.346977366054|\n",
      "|  8503127| 8.658659|47.384381|   443|    Schwerzenbach ZH|   8946.243548330194|\n",
      "+---------+---------+---------+------+--------------------+--------------------+\n",
      "only showing top 20 rows"
     ]
    }
   ],
   "source": [
    "only_names_stations = df_stations.select('StationID').distinct()\n",
    "only_names_stops =  df_stops.where(F.length('stop_id')==7).select('stop_id')\n",
    "missing_ids = only_names_stations.subtract(only_names_stops)\n",
    "missing_stations = df_stations.join(missing_ids,on =['StationID'])\n",
    "missing_stations.show()"
   ]
  },
  {
   "cell_type": "markdown",
   "metadata": {},
   "source": [
    "### 5. Get the walking transfer times between different stations\n",
    "\n"
   ]
  },
  {
   "cell_type": "code",
   "execution_count": 26,
   "metadata": {},
   "outputs": [
    {
     "data": {
      "application/vnd.jupyter.widget-view+json": {
       "model_id": "",
       "version_major": 2,
       "version_minor": 0
      },
      "text/plain": [
       "FloatProgress(value=0.0, bar_style='info', description='Progress:', layout=Layout(height='25px', width='50%'),…"
      ]
     },
     "metadata": {},
     "output_type": "display_data"
    },
    {
     "name": "stdout",
     "output_type": "stream",
     "text": [
      "+-------+--------+---------+---+-------+--------+---------+---+\n",
      "|    id1|    lon1|     lat1| h1|    id2|    lon2|     lat2| h2|\n",
      "+-------+--------+---------+---+-------+--------+---------+---+\n",
      "|0000065|8.595545|47.409209|430|0000065|8.595545|47.409209|430|\n",
      "|0000065|8.595545|47.409209|430|0000066|8.595545|47.409209|430|\n",
      "|0000065|8.595545|47.409209|430|0000176|8.521961|47.351679|  0|\n",
      "|0000065|8.595545|47.409209|430|8502186|8.398942|47.393407|428|\n",
      "|0000065|8.595545|47.409209|430|8502187|8.377032|47.364740|502|\n",
      "+-------+--------+---------+---+-------+--------+---------+---+\n",
      "only showing top 5 rows"
     ]
    }
   ],
   "source": [
    "station_pairs = df_stations.select('StationID','Longitude','Latitude','Height')\n",
    "joinedDF = station_pairs.crossJoin(station_pairs).toDF('id1','lon1','lat1','h1','id2','lon2','lat2','h2')\n",
    "joinedDF.show(5)"
   ]
  },
  {
   "cell_type": "code",
   "execution_count": 48,
   "metadata": {},
   "outputs": [
    {
     "data": {
      "application/vnd.jupyter.widget-view+json": {
       "model_id": "",
       "version_major": 2,
       "version_minor": 0
      },
      "text/plain": [
       "FloatProgress(value=0.0, bar_style='info', description='Progress:', layout=Layout(height='25px', width='50%'),…"
      ]
     },
     "metadata": {},
     "output_type": "display_data"
    },
    {
     "name": "stdout",
     "output_type": "stream",
     "text": [
      "+-------+--------+---------+---+-------+--------+---------+---+-----+------------------+-----+-----------------+\n",
      "|    id1|    lon1|     lat1| h1|    id2|    lon2|     lat2| h2|   dh|       Distance(m)|speed|Transfer_time (s)|\n",
      "+-------+--------+---------+---+-------+--------+---------+---+-----+------------------+-----+-----------------+\n",
      "|0000176|8.521961|47.351679|  0|8503086|8.526232|47.352124|422|422.0| 553.9113633018651|45.78|            846.0|\n",
      "|8502188|8.354599|47.355907|445|8502268|8.359234|47.357579|523| 78.0|435.18144490895634|49.22|            650.0|\n",
      "|8502188|8.354599|47.355907|445|8502274|8.354713|47.352524|410|-35.0|377.91621690174395|50.35|            570.0|\n",
      "|8502188|8.354599|47.355907|445|8517377|8.350274|47.353792|400|-45.0|432.23423336871673|50.45|            634.0|\n",
      "|8502188|8.354599|47.355907|445|8580847|8.349997|47.353839|386|-59.0| 450.5219233405746|50.59|            654.0|\n",
      "|8502208|8.589802|47.258748|484|8573553|8.589041|47.261463|409|-75.0| 317.4487969263393|50.75|            495.0|\n",
      "|8502208|8.589802|47.258748|484|8573555|8.593161|47.257670|409|-75.0|313.18688462219933|50.75|            490.0|\n",
      "|8502208|8.589802|47.258748|484|8589111|8.592081|47.260884|408|-76.0| 313.2712996670355|50.76|            490.0|\n",
      "|8502208|8.589802|47.258748|484|8590655|8.587067|47.258145|520| 36.0|239.92806444757124|49.64|            410.0|\n",
      "|8502208|8.589802|47.258748|484|8594182|8.590976|47.262946|421|-63.0| 481.0492381145724|50.63|            690.0|\n",
      "+-------+--------+---------+---+-------+--------+---------+---+-----+------------------+-----+-----------------+\n",
      "only showing top 10 rows"
     ]
    }
   ],
   "source": [
    "from pyspark.sql.types import IntegerType\n",
    "\n",
    "distance =(\n",
    "    joinedDF\n",
    "            .withColumn(\"dlon\", F.radians(F.col(\"lon1\")) -F.radians(F.col(\"lon2\"))) \n",
    "            .withColumn(\"dlat\", F.radians(F.col(\"lat1\")) - F.radians(F.col(\"lat2\"))) \n",
    "            .withColumn(\"a\", F.sin(F.col(\"dlat\") / 2) ** 2 + F.radians(F.col(\"lat2\"))\n",
    "                        *F.cos(F.radians(F.col(\"lat1\")))* F.sin(F.col(\"dlon\") / 2) ** 2)\n",
    "            .withColumn(\"Distance\", 1000*6371*2*F.atan2( F.sqrt(F.col(\"a\")),F.sqrt( 1- F.col(\"a\"))))             \n",
    "            .drop(\"dlon\", \"dlat\",\"a\") \\\n",
    "            .filter(F.col(\"Distance\")<500)\n",
    "            .withColumn(\"dh\", F.col(\"h2\")-F.col(\"h1\"))\n",
    "            .withColumn(\"Distance(m)\", F.sqrt(F.pow(F.col(\"Distance\"),2)+F.pow(F.col(\"dh\"),2)))\n",
    "            .withColumn(\"speed\",50-F.col(\"dh\")/100)\n",
    "            .withColumn(\"Transfer_time (s)\", F.round(60*(2+(F.col(\"Distance(m)\")/F.col(\"speed\")).cast(FloatType()))))\n",
    "            .drop(\"dlon\", \"dlat\",\"a\",\"Distance\",'dh')\n",
    "            .toDF('ID_1','Lon_1','Lat_1','ID_2','Lon_2','Lat_2','Distance (m)','Speed (m/min)','Transfer time (sec)')\n",
    ")\n",
    "\n",
    "distance.write.format('csv').mode('overwrite').save(\"../data/zurich_walking_connections.csv\")\n",
    "distance.where(F.abs(F.col('dh'))>30).show(10)"
   ]
  },
  {
   "cell_type": "markdown",
   "metadata": {},
   "source": [
    "### 6. (Optional) Download data in CSV format"
   ]
  },
  {
   "cell_type": "code",
   "execution_count": 44,
   "metadata": {},
   "outputs": [
    {
     "data": {
      "application/vnd.jupyter.widget-view+json": {
       "model_id": "",
       "version_major": 2,
       "version_minor": 0
      },
      "text/plain": [
       "FloatProgress(value=0.0, bar_style='info', description='Progress:', layout=Layout(height='25px', width='50%'),…"
      ]
     },
     "metadata": {},
     "output_type": "display_data"
    },
    {
     "data": {
      "application/vnd.jupyter.widget-view+json": {
       "model_id": "",
       "version_major": 2,
       "version_minor": 0
      },
      "text/plain": [
       "FloatProgress(value=0.0, bar_style='info', description='Progress:', layout=Layout(height='25px', width='50%'),…"
      ]
     },
     "metadata": {},
     "output_type": "display_data"
    }
   ],
   "source": [
    "%%spark -o df_stations -n -1"
   ]
  },
  {
   "cell_type": "code",
   "execution_count": 45,
   "metadata": {},
   "outputs": [],
   "source": [
    "%%local\n",
    "df_stations.to_csv(\"../data/Zurich_Stations.csv\", index=False)"
   ]
  },
  {
   "cell_type": "code",
   "execution_count": 46,
   "metadata": {},
   "outputs": [
    {
     "data": {
      "application/vnd.jupyter.widget-view+json": {
       "model_id": "",
       "version_major": 2,
       "version_minor": 0
      },
      "text/plain": [
       "FloatProgress(value=0.0, bar_style='info', description='Progress:', layout=Layout(height='25px', width='50%'),…"
      ]
     },
     "metadata": {},
     "output_type": "display_data"
    },
    {
     "data": {
      "application/vnd.jupyter.widget-view+json": {
       "model_id": "",
       "version_major": 2,
       "version_minor": 0
      },
      "text/plain": [
       "FloatProgress(value=0.0, bar_style='info', description='Progress:', layout=Layout(height='25px', width='50%'),…"
      ]
     },
     "metadata": {},
     "output_type": "display_data"
    }
   ],
   "source": [
    "%%spark -o distance -n -1"
   ]
  },
  {
   "cell_type": "code",
   "execution_count": 47,
   "metadata": {},
   "outputs": [],
   "source": [
    "%%local\n",
    "distance.to_csv(\"../data/Zurich_WalkingConnections.csv\", index=False)"
   ]
  }
 ],
 "metadata": {
  "kernelspec": {
   "display_name": "PySpark",
   "language": "",
   "name": "pysparkkernel"
  },
  "language_info": {
   "codemirror_mode": {
    "name": "python",
    "version": 3
   },
   "mimetype": "text/x-python",
   "name": "pyspark",
   "pygments_lexer": "python3"
  }
 },
 "nbformat": 4,
 "nbformat_minor": 4
}
