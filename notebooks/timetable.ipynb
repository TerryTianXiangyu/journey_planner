{
 "cells": [
  {
   "cell_type": "code",
   "execution_count": 1,
   "metadata": {},
   "outputs": [
    {
     "data": {
      "text/html": [
       "Current session configs: <tt>{'conf': {'spark.app.name': 'datavirus_timetable'}, 'kind': 'pyspark'}</tt><br>"
      ],
      "text/plain": [
       "<IPython.core.display.HTML object>"
      ]
     },
     "metadata": {},
     "output_type": "display_data"
    },
    {
     "data": {
      "text/html": [
       "<table>\n",
       "<tr><th>ID</th><th>YARN Application ID</th><th>Kind</th><th>State</th><th>Spark UI</th><th>Driver log</th><th>Current session?</th></tr><tr><td>8044</td><td>application_1589299642358_2564</td><td>pyspark</td><td>busy</td><td><a target=\"_blank\" href=\"http://iccluster044.iccluster.epfl.ch:8088/proxy/application_1589299642358_2564/\">Link</a></td><td><a target=\"_blank\" href=\"http://iccluster067.iccluster.epfl.ch:8042/node/containerlogs/container_e06_1589299642358_2564_01_000001/ebouille\">Link</a></td><td></td></tr><tr><td>8063</td><td>application_1589299642358_2587</td><td>pyspark</td><td>busy</td><td><a target=\"_blank\" href=\"http://iccluster044.iccluster.epfl.ch:8088/proxy/application_1589299642358_2587/\">Link</a></td><td><a target=\"_blank\" href=\"http://iccluster069.iccluster.epfl.ch:8042/node/containerlogs/container_e06_1589299642358_2587_01_000001/ebouille\">Link</a></td><td></td></tr><tr><td>8082</td><td>application_1589299642358_2606</td><td>pyspark</td><td>idle</td><td><a target=\"_blank\" href=\"http://iccluster044.iccluster.epfl.ch:8088/proxy/application_1589299642358_2606/\">Link</a></td><td><a target=\"_blank\" href=\"http://iccluster072.iccluster.epfl.ch:8042/node/containerlogs/container_e06_1589299642358_2606_01_000001/ebouille\">Link</a></td><td></td></tr><tr><td>8091</td><td>application_1589299642358_2615</td><td>pyspark</td><td>busy</td><td><a target=\"_blank\" href=\"http://iccluster044.iccluster.epfl.ch:8088/proxy/application_1589299642358_2615/\">Link</a></td><td><a target=\"_blank\" href=\"http://iccluster070.iccluster.epfl.ch:8042/node/containerlogs/container_e06_1589299642358_2615_01_000001/ebouille\">Link</a></td><td></td></tr><tr><td>8095</td><td>application_1589299642358_2619</td><td>pyspark</td><td>busy</td><td><a target=\"_blank\" href=\"http://iccluster044.iccluster.epfl.ch:8088/proxy/application_1589299642358_2619/\">Link</a></td><td><a target=\"_blank\" href=\"http://iccluster071.iccluster.epfl.ch:8042/node/containerlogs/container_e06_1589299642358_2619_01_000001/ebouille\">Link</a></td><td></td></tr><tr><td>8101</td><td>application_1589299642358_2625</td><td>pyspark</td><td>idle</td><td><a target=\"_blank\" href=\"http://iccluster044.iccluster.epfl.ch:8088/proxy/application_1589299642358_2625/\">Link</a></td><td><a target=\"_blank\" href=\"http://iccluster066.iccluster.epfl.ch:8042/node/containerlogs/container_e06_1589299642358_2625_01_000001/ebouille\">Link</a></td><td></td></tr><tr><td>8103</td><td>application_1589299642358_2627</td><td>pyspark</td><td>idle</td><td><a target=\"_blank\" href=\"http://iccluster044.iccluster.epfl.ch:8088/proxy/application_1589299642358_2627/\">Link</a></td><td><a target=\"_blank\" href=\"http://iccluster065.iccluster.epfl.ch:8042/node/containerlogs/container_e06_1589299642358_2627_01_000001/ebouille\">Link</a></td><td></td></tr><tr><td>8107</td><td>application_1589299642358_2631</td><td>pyspark</td><td>busy</td><td><a target=\"_blank\" href=\"http://iccluster044.iccluster.epfl.ch:8088/proxy/application_1589299642358_2631/\">Link</a></td><td><a target=\"_blank\" href=\"http://iccluster072.iccluster.epfl.ch:8042/node/containerlogs/container_e06_1589299642358_2631_01_000001/ebouille\">Link</a></td><td></td></tr><tr><td>8108</td><td>application_1589299642358_2632</td><td>pyspark</td><td>idle</td><td><a target=\"_blank\" href=\"http://iccluster044.iccluster.epfl.ch:8088/proxy/application_1589299642358_2632/\">Link</a></td><td><a target=\"_blank\" href=\"http://iccluster071.iccluster.epfl.ch:8042/node/containerlogs/container_e06_1589299642358_2632_01_000001/ebouille\">Link</a></td><td></td></tr><tr><td>8110</td><td>application_1589299642358_2635</td><td>pyspark</td><td>idle</td><td><a target=\"_blank\" href=\"http://iccluster044.iccluster.epfl.ch:8088/proxy/application_1589299642358_2635/\">Link</a></td><td><a target=\"_blank\" href=\"http://iccluster072.iccluster.epfl.ch:8042/node/containerlogs/container_e06_1589299642358_2635_01_000001/ebouille\">Link</a></td><td></td></tr><tr><td>8112</td><td>application_1589299642358_2637</td><td>pyspark</td><td>idle</td><td><a target=\"_blank\" href=\"http://iccluster044.iccluster.epfl.ch:8088/proxy/application_1589299642358_2637/\">Link</a></td><td><a target=\"_blank\" href=\"http://iccluster068.iccluster.epfl.ch:8042/node/containerlogs/container_e06_1589299642358_2637_01_000001/ebouille\">Link</a></td><td></td></tr><tr><td>8114</td><td>application_1589299642358_2639</td><td>pyspark</td><td>idle</td><td><a target=\"_blank\" href=\"http://iccluster044.iccluster.epfl.ch:8088/proxy/application_1589299642358_2639/\">Link</a></td><td><a target=\"_blank\" href=\"http://iccluster068.iccluster.epfl.ch:8042/node/containerlogs/container_e06_1589299642358_2639_01_000001/ebouille\">Link</a></td><td></td></tr><tr><td>8116</td><td>application_1589299642358_2641</td><td>pyspark</td><td>busy</td><td><a target=\"_blank\" href=\"http://iccluster044.iccluster.epfl.ch:8088/proxy/application_1589299642358_2641/\">Link</a></td><td><a target=\"_blank\" href=\"http://iccluster067.iccluster.epfl.ch:8042/node/containerlogs/container_e06_1589299642358_2641_01_000001/ebouille\">Link</a></td><td></td></tr><tr><td>8117</td><td>application_1589299642358_2642</td><td>pyspark</td><td>idle</td><td><a target=\"_blank\" href=\"http://iccluster044.iccluster.epfl.ch:8088/proxy/application_1589299642358_2642/\">Link</a></td><td><a target=\"_blank\" href=\"http://iccluster072.iccluster.epfl.ch:8042/node/containerlogs/container_e06_1589299642358_2642_01_000001/ebouille\">Link</a></td><td></td></tr><tr><td>8119</td><td>application_1589299642358_2644</td><td>pyspark</td><td>busy</td><td><a target=\"_blank\" href=\"http://iccluster044.iccluster.epfl.ch:8088/proxy/application_1589299642358_2644/\">Link</a></td><td><a target=\"_blank\" href=\"http://iccluster069.iccluster.epfl.ch:8042/node/containerlogs/container_e06_1589299642358_2644_01_000001/ebouille\">Link</a></td><td></td></tr><tr><td>8121</td><td>application_1589299642358_2646</td><td>pyspark</td><td>idle</td><td><a target=\"_blank\" href=\"http://iccluster044.iccluster.epfl.ch:8088/proxy/application_1589299642358_2646/\">Link</a></td><td><a target=\"_blank\" href=\"http://iccluster069.iccluster.epfl.ch:8042/node/containerlogs/container_e06_1589299642358_2646_01_000001/ebouille\">Link</a></td><td></td></tr><tr><td>8122</td><td>application_1589299642358_2647</td><td>pyspark</td><td>idle</td><td><a target=\"_blank\" href=\"http://iccluster044.iccluster.epfl.ch:8088/proxy/application_1589299642358_2647/\">Link</a></td><td><a target=\"_blank\" href=\"http://iccluster070.iccluster.epfl.ch:8042/node/containerlogs/container_e06_1589299642358_2647_01_000001/ebouille\">Link</a></td><td></td></tr><tr><td>8124</td><td>application_1589299642358_2649</td><td>pyspark</td><td>idle</td><td><a target=\"_blank\" href=\"http://iccluster044.iccluster.epfl.ch:8088/proxy/application_1589299642358_2649/\">Link</a></td><td><a target=\"_blank\" href=\"http://iccluster065.iccluster.epfl.ch:8042/node/containerlogs/container_e06_1589299642358_2649_01_000001/ebouille\">Link</a></td><td></td></tr><tr><td>8126</td><td>application_1589299642358_2651</td><td>pyspark</td><td>idle</td><td><a target=\"_blank\" href=\"http://iccluster044.iccluster.epfl.ch:8088/proxy/application_1589299642358_2651/\">Link</a></td><td><a target=\"_blank\" href=\"http://iccluster070.iccluster.epfl.ch:8042/node/containerlogs/container_e06_1589299642358_2651_01_000001/ebouille\">Link</a></td><td></td></tr><tr><td>8128</td><td>application_1589299642358_2653</td><td>pyspark</td><td>idle</td><td><a target=\"_blank\" href=\"http://iccluster044.iccluster.epfl.ch:8088/proxy/application_1589299642358_2653/\">Link</a></td><td><a target=\"_blank\" href=\"http://iccluster072.iccluster.epfl.ch:8042/node/containerlogs/container_e06_1589299642358_2653_01_000001/ebouille\">Link</a></td><td></td></tr><tr><td>8129</td><td>application_1589299642358_2654</td><td>pyspark</td><td>idle</td><td><a target=\"_blank\" href=\"http://iccluster044.iccluster.epfl.ch:8088/proxy/application_1589299642358_2654/\">Link</a></td><td><a target=\"_blank\" href=\"http://iccluster066.iccluster.epfl.ch:8042/node/containerlogs/container_e06_1589299642358_2654_01_000001/ebouille\">Link</a></td><td></td></tr><tr><td>8130</td><td>application_1589299642358_2655</td><td>pyspark</td><td>idle</td><td><a target=\"_blank\" href=\"http://iccluster044.iccluster.epfl.ch:8088/proxy/application_1589299642358_2655/\">Link</a></td><td><a target=\"_blank\" href=\"http://iccluster070.iccluster.epfl.ch:8042/node/containerlogs/container_e06_1589299642358_2655_01_000001/ebouille\">Link</a></td><td></td></tr><tr><td>8131</td><td>application_1589299642358_2656</td><td>pyspark</td><td>idle</td><td><a target=\"_blank\" href=\"http://iccluster044.iccluster.epfl.ch:8088/proxy/application_1589299642358_2656/\">Link</a></td><td><a target=\"_blank\" href=\"http://iccluster068.iccluster.epfl.ch:8042/node/containerlogs/container_e06_1589299642358_2656_01_000001/ebouille\">Link</a></td><td></td></tr><tr><td>8132</td><td>application_1589299642358_2657</td><td>pyspark</td><td>idle</td><td><a target=\"_blank\" href=\"http://iccluster044.iccluster.epfl.ch:8088/proxy/application_1589299642358_2657/\">Link</a></td><td><a target=\"_blank\" href=\"http://iccluster067.iccluster.epfl.ch:8042/node/containerlogs/container_e06_1589299642358_2657_01_000001/ebouille\">Link</a></td><td></td></tr><tr><td>8133</td><td>application_1589299642358_2658</td><td>pyspark</td><td>idle</td><td><a target=\"_blank\" href=\"http://iccluster044.iccluster.epfl.ch:8088/proxy/application_1589299642358_2658/\">Link</a></td><td><a target=\"_blank\" href=\"http://iccluster065.iccluster.epfl.ch:8042/node/containerlogs/container_e06_1589299642358_2658_01_000001/ebouille\">Link</a></td><td></td></tr><tr><td>8134</td><td>application_1589299642358_2659</td><td>pyspark</td><td>idle</td><td><a target=\"_blank\" href=\"http://iccluster044.iccluster.epfl.ch:8088/proxy/application_1589299642358_2659/\">Link</a></td><td><a target=\"_blank\" href=\"http://iccluster066.iccluster.epfl.ch:8042/node/containerlogs/container_e06_1589299642358_2659_01_000001/ebouille\">Link</a></td><td></td></tr><tr><td>8135</td><td>application_1589299642358_2660</td><td>pyspark</td><td>idle</td><td><a target=\"_blank\" href=\"http://iccluster044.iccluster.epfl.ch:8088/proxy/application_1589299642358_2660/\">Link</a></td><td><a target=\"_blank\" href=\"http://iccluster072.iccluster.epfl.ch:8042/node/containerlogs/container_e06_1589299642358_2660_01_000001/ebouille\">Link</a></td><td></td></tr><tr><td>8137</td><td>application_1589299642358_2662</td><td>pyspark</td><td>idle</td><td><a target=\"_blank\" href=\"http://iccluster044.iccluster.epfl.ch:8088/proxy/application_1589299642358_2662/\">Link</a></td><td><a target=\"_blank\" href=\"http://iccluster068.iccluster.epfl.ch:8042/node/containerlogs/container_e06_1589299642358_2662_01_000001/ebouille\">Link</a></td><td></td></tr><tr><td>8138</td><td>application_1589299642358_2663</td><td>pyspark</td><td>busy</td><td><a target=\"_blank\" href=\"http://iccluster044.iccluster.epfl.ch:8088/proxy/application_1589299642358_2663/\">Link</a></td><td><a target=\"_blank\" href=\"http://iccluster068.iccluster.epfl.ch:8042/node/containerlogs/container_e06_1589299642358_2663_01_000001/ebouille\">Link</a></td><td></td></tr><tr><td>8139</td><td>application_1589299642358_2664</td><td>pyspark</td><td>idle</td><td><a target=\"_blank\" href=\"http://iccluster044.iccluster.epfl.ch:8088/proxy/application_1589299642358_2664/\">Link</a></td><td><a target=\"_blank\" href=\"http://iccluster068.iccluster.epfl.ch:8042/node/containerlogs/container_e06_1589299642358_2664_01_000001/ebouille\">Link</a></td><td></td></tr><tr><td>8140</td><td>application_1589299642358_2665</td><td>pyspark</td><td>busy</td><td><a target=\"_blank\" href=\"http://iccluster044.iccluster.epfl.ch:8088/proxy/application_1589299642358_2665/\">Link</a></td><td><a target=\"_blank\" href=\"http://iccluster072.iccluster.epfl.ch:8042/node/containerlogs/container_e06_1589299642358_2665_01_000001/ebouille\">Link</a></td><td></td></tr><tr><td>8141</td><td>application_1589299642358_2666</td><td>pyspark</td><td>busy</td><td><a target=\"_blank\" href=\"http://iccluster044.iccluster.epfl.ch:8088/proxy/application_1589299642358_2666/\">Link</a></td><td><a target=\"_blank\" href=\"http://iccluster068.iccluster.epfl.ch:8042/node/containerlogs/container_e06_1589299642358_2666_01_000001/ebouille\">Link</a></td><td></td></tr><tr><td>8143</td><td>application_1589299642358_2668</td><td>pyspark</td><td>busy</td><td><a target=\"_blank\" href=\"http://iccluster044.iccluster.epfl.ch:8088/proxy/application_1589299642358_2668/\">Link</a></td><td><a target=\"_blank\" href=\"http://iccluster068.iccluster.epfl.ch:8042/node/containerlogs/container_e06_1589299642358_2668_01_000001/ebouille\">Link</a></td><td></td></tr><tr><td>8144</td><td>application_1589299642358_2669</td><td>pyspark</td><td>idle</td><td><a target=\"_blank\" href=\"http://iccluster044.iccluster.epfl.ch:8088/proxy/application_1589299642358_2669/\">Link</a></td><td><a target=\"_blank\" href=\"http://iccluster068.iccluster.epfl.ch:8042/node/containerlogs/container_e06_1589299642358_2669_01_000001/ebouille\">Link</a></td><td></td></tr><tr><td>8145</td><td>application_1589299642358_2670</td><td>pyspark</td><td>busy</td><td><a target=\"_blank\" href=\"http://iccluster044.iccluster.epfl.ch:8088/proxy/application_1589299642358_2670/\">Link</a></td><td><a target=\"_blank\" href=\"http://iccluster065.iccluster.epfl.ch:8042/node/containerlogs/container_e06_1589299642358_2670_01_000001/ebouille\">Link</a></td><td></td></tr><tr><td>8146</td><td>application_1589299642358_2671</td><td>pyspark</td><td>idle</td><td><a target=\"_blank\" href=\"http://iccluster044.iccluster.epfl.ch:8088/proxy/application_1589299642358_2671/\">Link</a></td><td><a target=\"_blank\" href=\"http://iccluster069.iccluster.epfl.ch:8042/node/containerlogs/container_e06_1589299642358_2671_01_000001/ebouille\">Link</a></td><td></td></tr><tr><td>8147</td><td>application_1589299642358_2673</td><td>pyspark</td><td>busy</td><td><a target=\"_blank\" href=\"http://iccluster044.iccluster.epfl.ch:8088/proxy/application_1589299642358_2673/\">Link</a></td><td><a target=\"_blank\" href=\"http://iccluster071.iccluster.epfl.ch:8042/node/containerlogs/container_e06_1589299642358_2673_01_000001/ebouille\">Link</a></td><td></td></tr></table>"
      ],
      "text/plain": [
       "<IPython.core.display.HTML object>"
      ]
     },
     "metadata": {},
     "output_type": "display_data"
    }
   ],
   "source": [
    "%%configure -f\n",
    "{\n",
    "    \"conf\": {\n",
    "        \"spark.app.name\": \"datavirus_timetable\"\n",
    "    }\n",
    "}"
   ]
  },
  {
   "cell_type": "code",
   "execution_count": 2,
   "metadata": {},
   "outputs": [
    {
     "name": "stdout",
     "output_type": "stream",
     "text": [
      "Starting Spark application\n"
     ]
    },
    {
     "data": {
      "text/html": [
       "<table>\n",
       "<tr><th>ID</th><th>YARN Application ID</th><th>Kind</th><th>State</th><th>Spark UI</th><th>Driver log</th><th>Current session?</th></tr><tr><td>8148</td><td>application_1589299642358_2674</td><td>pyspark</td><td>idle</td><td><a target=\"_blank\" href=\"http://iccluster044.iccluster.epfl.ch:8088/proxy/application_1589299642358_2674/\">Link</a></td><td><a target=\"_blank\" href=\"http://iccluster072.iccluster.epfl.ch:8042/node/containerlogs/container_e06_1589299642358_2674_01_000001/ebouille\">Link</a></td><td>✔</td></tr></table>"
      ],
      "text/plain": [
       "<IPython.core.display.HTML object>"
      ]
     },
     "metadata": {},
     "output_type": "display_data"
    },
    {
     "data": {
      "application/vnd.jupyter.widget-view+json": {
       "model_id": "",
       "version_major": 2,
       "version_minor": 0
      },
      "text/plain": [
       "FloatProgress(value=0.0, bar_style='info', description='Progress:', layout=Layout(height='25px', width='50%'),…"
      ]
     },
     "metadata": {},
     "output_type": "display_data"
    },
    {
     "name": "stdout",
     "output_type": "stream",
     "text": [
      "SparkSession available as 'spark'.\n"
     ]
    },
    {
     "data": {
      "application/vnd.jupyter.widget-view+json": {
       "model_id": "",
       "version_major": 2,
       "version_minor": 0
      },
      "text/plain": [
       "FloatProgress(value=0.0, bar_style='info', description='Progress:', layout=Layout(height='25px', width='50%'),…"
      ]
     },
     "metadata": {},
     "output_type": "display_data"
    },
    {
     "name": "stdout",
     "output_type": "stream",
     "text": [
      "<pyspark.sql.session.SparkSession object at 0x7fa73abf36d0>"
     ]
    }
   ],
   "source": [
    "spark"
   ]
  },
  {
   "cell_type": "code",
   "execution_count": 3,
   "metadata": {},
   "outputs": [
    {
     "data": {
      "text/html": [
       "Current session configs: <tt>{'conf': {'spark.app.name': 'datavirus_timetable'}, 'kind': 'pyspark'}</tt><br>"
      ],
      "text/plain": [
       "<IPython.core.display.HTML object>"
      ]
     },
     "metadata": {},
     "output_type": "display_data"
    },
    {
     "data": {
      "text/html": [
       "<table>\n",
       "<tr><th>ID</th><th>YARN Application ID</th><th>Kind</th><th>State</th><th>Spark UI</th><th>Driver log</th><th>Current session?</th></tr><tr><td>8044</td><td>application_1589299642358_2564</td><td>pyspark</td><td>busy</td><td><a target=\"_blank\" href=\"http://iccluster044.iccluster.epfl.ch:8088/proxy/application_1589299642358_2564/\">Link</a></td><td><a target=\"_blank\" href=\"http://iccluster067.iccluster.epfl.ch:8042/node/containerlogs/container_e06_1589299642358_2564_01_000001/ebouille\">Link</a></td><td></td></tr><tr><td>8063</td><td>application_1589299642358_2587</td><td>pyspark</td><td>busy</td><td><a target=\"_blank\" href=\"http://iccluster044.iccluster.epfl.ch:8088/proxy/application_1589299642358_2587/\">Link</a></td><td><a target=\"_blank\" href=\"http://iccluster069.iccluster.epfl.ch:8042/node/containerlogs/container_e06_1589299642358_2587_01_000001/ebouille\">Link</a></td><td></td></tr><tr><td>8082</td><td>application_1589299642358_2606</td><td>pyspark</td><td>idle</td><td><a target=\"_blank\" href=\"http://iccluster044.iccluster.epfl.ch:8088/proxy/application_1589299642358_2606/\">Link</a></td><td><a target=\"_blank\" href=\"http://iccluster072.iccluster.epfl.ch:8042/node/containerlogs/container_e06_1589299642358_2606_01_000001/ebouille\">Link</a></td><td></td></tr><tr><td>8091</td><td>application_1589299642358_2615</td><td>pyspark</td><td>busy</td><td><a target=\"_blank\" href=\"http://iccluster044.iccluster.epfl.ch:8088/proxy/application_1589299642358_2615/\">Link</a></td><td><a target=\"_blank\" href=\"http://iccluster070.iccluster.epfl.ch:8042/node/containerlogs/container_e06_1589299642358_2615_01_000001/ebouille\">Link</a></td><td></td></tr><tr><td>8095</td><td>application_1589299642358_2619</td><td>pyspark</td><td>busy</td><td><a target=\"_blank\" href=\"http://iccluster044.iccluster.epfl.ch:8088/proxy/application_1589299642358_2619/\">Link</a></td><td><a target=\"_blank\" href=\"http://iccluster071.iccluster.epfl.ch:8042/node/containerlogs/container_e06_1589299642358_2619_01_000001/ebouille\">Link</a></td><td></td></tr><tr><td>8101</td><td>application_1589299642358_2625</td><td>pyspark</td><td>idle</td><td><a target=\"_blank\" href=\"http://iccluster044.iccluster.epfl.ch:8088/proxy/application_1589299642358_2625/\">Link</a></td><td><a target=\"_blank\" href=\"http://iccluster066.iccluster.epfl.ch:8042/node/containerlogs/container_e06_1589299642358_2625_01_000001/ebouille\">Link</a></td><td></td></tr><tr><td>8103</td><td>application_1589299642358_2627</td><td>pyspark</td><td>idle</td><td><a target=\"_blank\" href=\"http://iccluster044.iccluster.epfl.ch:8088/proxy/application_1589299642358_2627/\">Link</a></td><td><a target=\"_blank\" href=\"http://iccluster065.iccluster.epfl.ch:8042/node/containerlogs/container_e06_1589299642358_2627_01_000001/ebouille\">Link</a></td><td></td></tr><tr><td>8107</td><td>application_1589299642358_2631</td><td>pyspark</td><td>busy</td><td><a target=\"_blank\" href=\"http://iccluster044.iccluster.epfl.ch:8088/proxy/application_1589299642358_2631/\">Link</a></td><td><a target=\"_blank\" href=\"http://iccluster072.iccluster.epfl.ch:8042/node/containerlogs/container_e06_1589299642358_2631_01_000001/ebouille\">Link</a></td><td></td></tr><tr><td>8108</td><td>application_1589299642358_2632</td><td>pyspark</td><td>idle</td><td><a target=\"_blank\" href=\"http://iccluster044.iccluster.epfl.ch:8088/proxy/application_1589299642358_2632/\">Link</a></td><td><a target=\"_blank\" href=\"http://iccluster071.iccluster.epfl.ch:8042/node/containerlogs/container_e06_1589299642358_2632_01_000001/ebouille\">Link</a></td><td></td></tr><tr><td>8110</td><td>application_1589299642358_2635</td><td>pyspark</td><td>idle</td><td><a target=\"_blank\" href=\"http://iccluster044.iccluster.epfl.ch:8088/proxy/application_1589299642358_2635/\">Link</a></td><td><a target=\"_blank\" href=\"http://iccluster072.iccluster.epfl.ch:8042/node/containerlogs/container_e06_1589299642358_2635_01_000001/ebouille\">Link</a></td><td></td></tr><tr><td>8112</td><td>application_1589299642358_2637</td><td>pyspark</td><td>idle</td><td><a target=\"_blank\" href=\"http://iccluster044.iccluster.epfl.ch:8088/proxy/application_1589299642358_2637/\">Link</a></td><td><a target=\"_blank\" href=\"http://iccluster068.iccluster.epfl.ch:8042/node/containerlogs/container_e06_1589299642358_2637_01_000001/ebouille\">Link</a></td><td></td></tr><tr><td>8114</td><td>application_1589299642358_2639</td><td>pyspark</td><td>idle</td><td><a target=\"_blank\" href=\"http://iccluster044.iccluster.epfl.ch:8088/proxy/application_1589299642358_2639/\">Link</a></td><td><a target=\"_blank\" href=\"http://iccluster068.iccluster.epfl.ch:8042/node/containerlogs/container_e06_1589299642358_2639_01_000001/ebouille\">Link</a></td><td></td></tr><tr><td>8116</td><td>application_1589299642358_2641</td><td>pyspark</td><td>busy</td><td><a target=\"_blank\" href=\"http://iccluster044.iccluster.epfl.ch:8088/proxy/application_1589299642358_2641/\">Link</a></td><td><a target=\"_blank\" href=\"http://iccluster067.iccluster.epfl.ch:8042/node/containerlogs/container_e06_1589299642358_2641_01_000001/ebouille\">Link</a></td><td></td></tr><tr><td>8117</td><td>application_1589299642358_2642</td><td>pyspark</td><td>idle</td><td><a target=\"_blank\" href=\"http://iccluster044.iccluster.epfl.ch:8088/proxy/application_1589299642358_2642/\">Link</a></td><td><a target=\"_blank\" href=\"http://iccluster072.iccluster.epfl.ch:8042/node/containerlogs/container_e06_1589299642358_2642_01_000001/ebouille\">Link</a></td><td></td></tr><tr><td>8119</td><td>application_1589299642358_2644</td><td>pyspark</td><td>idle</td><td><a target=\"_blank\" href=\"http://iccluster044.iccluster.epfl.ch:8088/proxy/application_1589299642358_2644/\">Link</a></td><td><a target=\"_blank\" href=\"http://iccluster069.iccluster.epfl.ch:8042/node/containerlogs/container_e06_1589299642358_2644_01_000001/ebouille\">Link</a></td><td></td></tr><tr><td>8121</td><td>application_1589299642358_2646</td><td>pyspark</td><td>idle</td><td><a target=\"_blank\" href=\"http://iccluster044.iccluster.epfl.ch:8088/proxy/application_1589299642358_2646/\">Link</a></td><td><a target=\"_blank\" href=\"http://iccluster069.iccluster.epfl.ch:8042/node/containerlogs/container_e06_1589299642358_2646_01_000001/ebouille\">Link</a></td><td></td></tr><tr><td>8122</td><td>application_1589299642358_2647</td><td>pyspark</td><td>idle</td><td><a target=\"_blank\" href=\"http://iccluster044.iccluster.epfl.ch:8088/proxy/application_1589299642358_2647/\">Link</a></td><td><a target=\"_blank\" href=\"http://iccluster070.iccluster.epfl.ch:8042/node/containerlogs/container_e06_1589299642358_2647_01_000001/ebouille\">Link</a></td><td></td></tr><tr><td>8124</td><td>application_1589299642358_2649</td><td>pyspark</td><td>idle</td><td><a target=\"_blank\" href=\"http://iccluster044.iccluster.epfl.ch:8088/proxy/application_1589299642358_2649/\">Link</a></td><td><a target=\"_blank\" href=\"http://iccluster065.iccluster.epfl.ch:8042/node/containerlogs/container_e06_1589299642358_2649_01_000001/ebouille\">Link</a></td><td></td></tr><tr><td>8126</td><td>application_1589299642358_2651</td><td>pyspark</td><td>idle</td><td><a target=\"_blank\" href=\"http://iccluster044.iccluster.epfl.ch:8088/proxy/application_1589299642358_2651/\">Link</a></td><td><a target=\"_blank\" href=\"http://iccluster070.iccluster.epfl.ch:8042/node/containerlogs/container_e06_1589299642358_2651_01_000001/ebouille\">Link</a></td><td></td></tr><tr><td>8128</td><td>application_1589299642358_2653</td><td>pyspark</td><td>idle</td><td><a target=\"_blank\" href=\"http://iccluster044.iccluster.epfl.ch:8088/proxy/application_1589299642358_2653/\">Link</a></td><td><a target=\"_blank\" href=\"http://iccluster072.iccluster.epfl.ch:8042/node/containerlogs/container_e06_1589299642358_2653_01_000001/ebouille\">Link</a></td><td></td></tr><tr><td>8129</td><td>application_1589299642358_2654</td><td>pyspark</td><td>idle</td><td><a target=\"_blank\" href=\"http://iccluster044.iccluster.epfl.ch:8088/proxy/application_1589299642358_2654/\">Link</a></td><td><a target=\"_blank\" href=\"http://iccluster066.iccluster.epfl.ch:8042/node/containerlogs/container_e06_1589299642358_2654_01_000001/ebouille\">Link</a></td><td></td></tr><tr><td>8130</td><td>application_1589299642358_2655</td><td>pyspark</td><td>idle</td><td><a target=\"_blank\" href=\"http://iccluster044.iccluster.epfl.ch:8088/proxy/application_1589299642358_2655/\">Link</a></td><td><a target=\"_blank\" href=\"http://iccluster070.iccluster.epfl.ch:8042/node/containerlogs/container_e06_1589299642358_2655_01_000001/ebouille\">Link</a></td><td></td></tr><tr><td>8131</td><td>application_1589299642358_2656</td><td>pyspark</td><td>idle</td><td><a target=\"_blank\" href=\"http://iccluster044.iccluster.epfl.ch:8088/proxy/application_1589299642358_2656/\">Link</a></td><td><a target=\"_blank\" href=\"http://iccluster068.iccluster.epfl.ch:8042/node/containerlogs/container_e06_1589299642358_2656_01_000001/ebouille\">Link</a></td><td></td></tr><tr><td>8132</td><td>application_1589299642358_2657</td><td>pyspark</td><td>idle</td><td><a target=\"_blank\" href=\"http://iccluster044.iccluster.epfl.ch:8088/proxy/application_1589299642358_2657/\">Link</a></td><td><a target=\"_blank\" href=\"http://iccluster067.iccluster.epfl.ch:8042/node/containerlogs/container_e06_1589299642358_2657_01_000001/ebouille\">Link</a></td><td></td></tr><tr><td>8133</td><td>application_1589299642358_2658</td><td>pyspark</td><td>idle</td><td><a target=\"_blank\" href=\"http://iccluster044.iccluster.epfl.ch:8088/proxy/application_1589299642358_2658/\">Link</a></td><td><a target=\"_blank\" href=\"http://iccluster065.iccluster.epfl.ch:8042/node/containerlogs/container_e06_1589299642358_2658_01_000001/ebouille\">Link</a></td><td></td></tr><tr><td>8134</td><td>application_1589299642358_2659</td><td>pyspark</td><td>idle</td><td><a target=\"_blank\" href=\"http://iccluster044.iccluster.epfl.ch:8088/proxy/application_1589299642358_2659/\">Link</a></td><td><a target=\"_blank\" href=\"http://iccluster066.iccluster.epfl.ch:8042/node/containerlogs/container_e06_1589299642358_2659_01_000001/ebouille\">Link</a></td><td></td></tr><tr><td>8135</td><td>application_1589299642358_2660</td><td>pyspark</td><td>idle</td><td><a target=\"_blank\" href=\"http://iccluster044.iccluster.epfl.ch:8088/proxy/application_1589299642358_2660/\">Link</a></td><td><a target=\"_blank\" href=\"http://iccluster072.iccluster.epfl.ch:8042/node/containerlogs/container_e06_1589299642358_2660_01_000001/ebouille\">Link</a></td><td></td></tr><tr><td>8137</td><td>application_1589299642358_2662</td><td>pyspark</td><td>idle</td><td><a target=\"_blank\" href=\"http://iccluster044.iccluster.epfl.ch:8088/proxy/application_1589299642358_2662/\">Link</a></td><td><a target=\"_blank\" href=\"http://iccluster068.iccluster.epfl.ch:8042/node/containerlogs/container_e06_1589299642358_2662_01_000001/ebouille\">Link</a></td><td></td></tr><tr><td>8138</td><td>application_1589299642358_2663</td><td>pyspark</td><td>busy</td><td><a target=\"_blank\" href=\"http://iccluster044.iccluster.epfl.ch:8088/proxy/application_1589299642358_2663/\">Link</a></td><td><a target=\"_blank\" href=\"http://iccluster068.iccluster.epfl.ch:8042/node/containerlogs/container_e06_1589299642358_2663_01_000001/ebouille\">Link</a></td><td></td></tr><tr><td>8139</td><td>application_1589299642358_2664</td><td>pyspark</td><td>idle</td><td><a target=\"_blank\" href=\"http://iccluster044.iccluster.epfl.ch:8088/proxy/application_1589299642358_2664/\">Link</a></td><td><a target=\"_blank\" href=\"http://iccluster068.iccluster.epfl.ch:8042/node/containerlogs/container_e06_1589299642358_2664_01_000001/ebouille\">Link</a></td><td></td></tr><tr><td>8140</td><td>application_1589299642358_2665</td><td>pyspark</td><td>idle</td><td><a target=\"_blank\" href=\"http://iccluster044.iccluster.epfl.ch:8088/proxy/application_1589299642358_2665/\">Link</a></td><td><a target=\"_blank\" href=\"http://iccluster072.iccluster.epfl.ch:8042/node/containerlogs/container_e06_1589299642358_2665_01_000001/ebouille\">Link</a></td><td></td></tr><tr><td>8141</td><td>application_1589299642358_2666</td><td>pyspark</td><td>busy</td><td><a target=\"_blank\" href=\"http://iccluster044.iccluster.epfl.ch:8088/proxy/application_1589299642358_2666/\">Link</a></td><td><a target=\"_blank\" href=\"http://iccluster068.iccluster.epfl.ch:8042/node/containerlogs/container_e06_1589299642358_2666_01_000001/ebouille\">Link</a></td><td></td></tr><tr><td>8143</td><td>application_1589299642358_2668</td><td>pyspark</td><td>busy</td><td><a target=\"_blank\" href=\"http://iccluster044.iccluster.epfl.ch:8088/proxy/application_1589299642358_2668/\">Link</a></td><td><a target=\"_blank\" href=\"http://iccluster068.iccluster.epfl.ch:8042/node/containerlogs/container_e06_1589299642358_2668_01_000001/ebouille\">Link</a></td><td></td></tr><tr><td>8144</td><td>application_1589299642358_2669</td><td>pyspark</td><td>idle</td><td><a target=\"_blank\" href=\"http://iccluster044.iccluster.epfl.ch:8088/proxy/application_1589299642358_2669/\">Link</a></td><td><a target=\"_blank\" href=\"http://iccluster068.iccluster.epfl.ch:8042/node/containerlogs/container_e06_1589299642358_2669_01_000001/ebouille\">Link</a></td><td></td></tr><tr><td>8145</td><td>application_1589299642358_2670</td><td>pyspark</td><td>busy</td><td><a target=\"_blank\" href=\"http://iccluster044.iccluster.epfl.ch:8088/proxy/application_1589299642358_2670/\">Link</a></td><td><a target=\"_blank\" href=\"http://iccluster065.iccluster.epfl.ch:8042/node/containerlogs/container_e06_1589299642358_2670_01_000001/ebouille\">Link</a></td><td></td></tr><tr><td>8146</td><td>application_1589299642358_2671</td><td>pyspark</td><td>idle</td><td><a target=\"_blank\" href=\"http://iccluster044.iccluster.epfl.ch:8088/proxy/application_1589299642358_2671/\">Link</a></td><td><a target=\"_blank\" href=\"http://iccluster069.iccluster.epfl.ch:8042/node/containerlogs/container_e06_1589299642358_2671_01_000001/ebouille\">Link</a></td><td></td></tr><tr><td>8147</td><td>application_1589299642358_2673</td><td>pyspark</td><td>busy</td><td><a target=\"_blank\" href=\"http://iccluster044.iccluster.epfl.ch:8088/proxy/application_1589299642358_2673/\">Link</a></td><td><a target=\"_blank\" href=\"http://iccluster071.iccluster.epfl.ch:8042/node/containerlogs/container_e06_1589299642358_2673_01_000001/ebouille\">Link</a></td><td></td></tr><tr><td>8148</td><td>application_1589299642358_2674</td><td>pyspark</td><td>idle</td><td><a target=\"_blank\" href=\"http://iccluster044.iccluster.epfl.ch:8088/proxy/application_1589299642358_2674/\">Link</a></td><td><a target=\"_blank\" href=\"http://iccluster072.iccluster.epfl.ch:8042/node/containerlogs/container_e06_1589299642358_2674_01_000001/ebouille\">Link</a></td><td>✔</td></tr></table>"
      ],
      "text/plain": [
       "<IPython.core.display.HTML object>"
      ]
     },
     "metadata": {},
     "output_type": "display_data"
    }
   ],
   "source": [
    "%%info"
   ]
  },
  {
   "cell_type": "code",
   "execution_count": 33,
   "metadata": {},
   "outputs": [
    {
     "data": {
      "application/vnd.jupyter.widget-view+json": {
       "model_id": "",
       "version_major": 2,
       "version_minor": 0
      },
      "text/plain": [
       "FloatProgress(value=0.0, bar_style='info', description='Progress:', layout=Layout(height='25px', width='50%'),…"
      ]
     },
     "metadata": {},
     "output_type": "display_data"
    }
   ],
   "source": [
    "import pyspark.sql.functions as f\n",
    "from pyspark.sql import Window"
   ]
  },
  {
   "cell_type": "code",
   "execution_count": 5,
   "metadata": {},
   "outputs": [
    {
     "data": {
      "application/vnd.jupyter.widget-view+json": {
       "model_id": "",
       "version_major": 2,
       "version_minor": 0
      },
      "text/plain": [
       "FloatProgress(value=0.0, bar_style='info', description='Progress:', layout=Layout(height='25px', width='50%'),…"
      ]
     },
     "metadata": {},
     "output_type": "display_data"
    }
   ],
   "source": [
    "trips = spark.read.orc(\"/data/sbb/timetables/orc/trips/\")\n",
    "calendar = spark.read.orc(\"/data/sbb/timetables/orc/calendar/\")\n",
    "routes = spark.read.orc(\"/data/sbb/timetables/orc/routes/\")"
   ]
  },
  {
   "cell_type": "code",
   "execution_count": 6,
   "metadata": {},
   "outputs": [
    {
     "data": {
      "application/vnd.jupyter.widget-view+json": {
       "model_id": "",
       "version_major": 2,
       "version_minor": 0
      },
      "text/plain": [
       "FloatProgress(value=0.0, bar_style='info', description='Progress:', layout=Layout(height='25px', width='50%'),…"
      ]
     },
     "metadata": {},
     "output_type": "display_data"
    },
    {
     "name": "stdout",
     "output_type": "stream",
     "text": [
      "+-----------+----------+--------------------+------------------+---------------+------------+\n",
      "|   route_id|service_id|             trip_id|     trip_headsign|trip_short_name|direction_id|\n",
      "+-----------+----------+--------------------+------------------+---------------+------------+\n",
      "|1-1-C-j19-1|  TA+b0001|5.TA.1-1-C-j19-1.3.R|Zofingen, Altachen|            108|           1|\n",
      "+-----------+----------+--------------------+------------------+---------------+------------+\n",
      "only showing top 1 row"
     ]
    }
   ],
   "source": [
    "trips.show(1)"
   ]
  },
  {
   "cell_type": "code",
   "execution_count": 7,
   "metadata": {},
   "outputs": [
    {
     "data": {
      "application/vnd.jupyter.widget-view+json": {
       "model_id": "",
       "version_major": 2,
       "version_minor": 0
      },
      "text/plain": [
       "FloatProgress(value=0.0, bar_style='info', description='Progress:', layout=Layout(height='25px', width='50%'),…"
      ]
     },
     "metadata": {},
     "output_type": "display_data"
    },
    {
     "name": "stdout",
     "output_type": "stream",
     "text": [
      "+----------+------+-------+---------+--------+------+--------+------+\n",
      "|service_id|monday|tuesday|wednesday|thursday|friday|saturday|sunday|\n",
      "+----------+------+-------+---------+--------+------+--------+------+\n",
      "|  TA+b0nx9|  true|   true|     true|    true|  true|   false| false|\n",
      "+----------+------+-------+---------+--------+------+--------+------+\n",
      "only showing top 1 row"
     ]
    }
   ],
   "source": [
    "calendar.show(1)"
   ]
  },
  {
   "cell_type": "code",
   "execution_count": 8,
   "metadata": {},
   "outputs": [
    {
     "data": {
      "application/vnd.jupyter.widget-view+json": {
       "model_id": "",
       "version_major": 2,
       "version_minor": 0
      },
      "text/plain": [
       "FloatProgress(value=0.0, bar_style='info', description='Progress:', layout=Layout(height='25px', width='50%'),…"
      ]
     },
     "metadata": {},
     "output_type": "display_data"
    },
    {
     "name": "stdout",
     "output_type": "stream",
     "text": [
      "+-----------+---------+----------------+---------------+----------+----------+\n",
      "|   route_id|agency_id|route_short_name|route_long_name|route_desc|route_type|\n",
      "+-----------+---------+----------------+---------------+----------+----------+\n",
      "|11-40-j19-1|      801|             040|               |       Bus|       700|\n",
      "+-----------+---------+----------------+---------------+----------+----------+\n",
      "only showing top 1 row"
     ]
    }
   ],
   "source": [
    "routes.show(1)"
   ]
  },
  {
   "cell_type": "code",
   "execution_count": 9,
   "metadata": {},
   "outputs": [
    {
     "data": {
      "application/vnd.jupyter.widget-view+json": {
       "model_id": "",
       "version_major": 2,
       "version_minor": 0
      },
      "text/plain": [
       "FloatProgress(value=0.0, bar_style='info', description='Progress:', layout=Layout(height='25px', width='50%'),…"
      ]
     },
     "metadata": {},
     "output_type": "display_data"
    }
   ],
   "source": [
    "# select all services that are scheduled on mondays\n",
    "monday_service_id = (\n",
    "    calendar\n",
    "    .where(calendar.monday == True)\n",
    "    .select('service_id')\n",
    "    .dropDuplicates()\n",
    ")"
   ]
  },
  {
   "cell_type": "code",
   "execution_count": 10,
   "metadata": {},
   "outputs": [
    {
     "data": {
      "application/vnd.jupyter.widget-view+json": {
       "model_id": "",
       "version_major": 2,
       "version_minor": 0
      },
      "text/plain": [
       "FloatProgress(value=0.0, bar_style='info', description='Progress:', layout=Layout(height='25px', width='50%'),…"
      ]
     },
     "metadata": {},
     "output_type": "display_data"
    }
   ],
   "source": [
    "# keep only trips that are scheduled on mondays\n",
    "monday_trips = (\n",
    "    trips\n",
    "    .join(f.broadcast(monday_service_id), 'service_id')\n",
    ")"
   ]
  },
  {
   "cell_type": "code",
   "execution_count": 16,
   "metadata": {},
   "outputs": [
    {
     "data": {
      "application/vnd.jupyter.widget-view+json": {
       "model_id": "",
       "version_major": 2,
       "version_minor": 0
      },
      "text/plain": [
       "FloatProgress(value=0.0, bar_style='info', description='Progress:', layout=Layout(height='25px', width='50%'),…"
      ]
     },
     "metadata": {},
     "output_type": "display_data"
    }
   ],
   "source": [
    "# add route information to trips\n",
    "route_trips = (\n",
    "    trips\n",
    "    .join(routes, 'route_id')\n",
    "    \n",
    "    # drop all transports that are not of type:\n",
    "    # InterCity, InterRegio, Regionalzug, S-Bahn, Bus, Tram\n",
    "    .where(routes.route_type.isin(['102', '103', '106', '400', '700', '900']))\n",
    "    \n",
    "    # create id that is used to merge with ist data\n",
    "    .withColumn(\n",
    "        'id',\n",
    "        f.when(routes.route_type.isin(['700', '900']),\n",
    "            f.concat_ws(':', f.lit('85'), routes.agency_id.cast('int').cast('string'), routes.route_short_name.cast('int').cast('string'))\n",
    "        ).otherwise(\n",
    "            f.concat_ws(':', f.lit('85'), routes.agency_id.cast('int').cast('string'), trips.trip_short_name.cast('int').cast('string'))\n",
    "        )\n",
    "    )\n",
    ")"
   ]
  },
  {
   "cell_type": "code",
   "execution_count": 17,
   "metadata": {},
   "outputs": [
    {
     "data": {
      "application/vnd.jupyter.widget-view+json": {
       "model_id": "",
       "version_major": 2,
       "version_minor": 0
      },
      "text/plain": [
       "FloatProgress(value=0.0, bar_style='info', description='Progress:', layout=Layout(height='25px', width='50%'),…"
      ]
     },
     "metadata": {},
     "output_type": "display_data"
    }
   ],
   "source": [
    "probability = spark.read.orc('/user/datavirus/probability.orc')"
   ]
  },
  {
   "cell_type": "code",
   "execution_count": 20,
   "metadata": {},
   "outputs": [
    {
     "data": {
      "application/vnd.jupyter.widget-view+json": {
       "model_id": "",
       "version_major": 2,
       "version_minor": 0
      },
      "text/plain": [
       "FloatProgress(value=0.0, bar_style='info', description='Progress:', layout=Layout(height='25px', width='50%'),…"
      ]
     },
     "metadata": {},
     "output_type": "display_data"
    }
   ],
   "source": [
    "route_probability = (\n",
    "    route_trips\n",
    "    .join(probability, 'id')\n",
    ")"
   ]
  },
  {
   "cell_type": "code",
   "execution_count": 45,
   "metadata": {},
   "outputs": [
    {
     "data": {
      "application/vnd.jupyter.widget-view+json": {
       "model_id": "",
       "version_major": 2,
       "version_minor": 0
      },
      "text/plain": [
       "FloatProgress(value=0.0, bar_style='info', description='Progress:', layout=Layout(height='25px', width='50%'),…"
      ]
     },
     "metadata": {},
     "output_type": "display_data"
    }
   ],
   "source": [
    "stop_time = spark.read.orc(\"/data/sbb/timetables/orc/stop_times/\")\n",
    "\n",
    "stop_time = (\n",
    "    stop_time\n",
    "    .select(['trip_id', 'arrival_time', 'departure_time', 'stop_id', 'stop_sequence'])\n",
    "    .filter(\n",
    "        (stop_time.departure_time >= '05:00:00')\n",
    "        & (stop_time.departure_time <= '21:00:00')\n",
    "        & (stop_time.arrival_time >= '05:00:00')\n",
    "        & (stop_time.arrival_time <= '21:00:00') \n",
    "    )\n",
    "    .withColumn('station_id', stop_time.stop_id.substr(0, 7))\n",
    "    .drop('stop_id')\n",
    "    \n",
    ")"
   ]
  },
  {
   "cell_type": "code",
   "execution_count": 46,
   "metadata": {},
   "outputs": [
    {
     "data": {
      "application/vnd.jupyter.widget-view+json": {
       "model_id": "",
       "version_major": 2,
       "version_minor": 0
      },
      "text/plain": [
       "FloatProgress(value=0.0, bar_style='info', description='Progress:', layout=Layout(height='25px', width='50%'),…"
      ]
     },
     "metadata": {},
     "output_type": "display_data"
    }
   ],
   "source": [
    "stations = spark.read.csv(\"../data/zurich_stations_ids.csv\")\n",
    "stations = (\n",
    "    stations\n",
    "    .select(stations._c0.alias('station_id'))\n",
    ")"
   ]
  },
  {
   "cell_type": "code",
   "execution_count": 54,
   "metadata": {},
   "outputs": [
    {
     "data": {
      "application/vnd.jupyter.widget-view+json": {
       "model_id": "",
       "version_major": 2,
       "version_minor": 0
      },
      "text/plain": [
       "FloatProgress(value=0.0, bar_style='info', description='Progress:', layout=Layout(height='25px', width='50%'),…"
      ]
     },
     "metadata": {},
     "output_type": "display_data"
    }
   ],
   "source": [
    "stop_filtered = (\n",
    "    stop_time\n",
    "    .join(f.broadcast(stations), 'station_id')\n",
    ")"
   ]
  },
  {
   "cell_type": "code",
   "execution_count": 55,
   "metadata": {},
   "outputs": [
    {
     "data": {
      "application/vnd.jupyter.widget-view+json": {
       "model_id": "",
       "version_major": 2,
       "version_minor": 0
      },
      "text/plain": [
       "FloatProgress(value=0.0, bar_style='info', description='Progress:', layout=Layout(height='25px', width='50%'),…"
      ]
     },
     "metadata": {},
     "output_type": "display_data"
    }
   ],
   "source": [
    "stop_keep = (\n",
    "    stop_filtered\n",
    "    .groupBy('trip_id')\n",
    "    .count()\n",
    "    .filter('count > 1')\n",
    "    .select('trip_id')\n",
    ")"
   ]
  },
  {
   "cell_type": "code",
   "execution_count": 56,
   "metadata": {},
   "outputs": [
    {
     "data": {
      "application/vnd.jupyter.widget-view+json": {
       "model_id": "",
       "version_major": 2,
       "version_minor": 0
      },
      "text/plain": [
       "FloatProgress(value=0.0, bar_style='info', description='Progress:', layout=Layout(height='25px', width='50%'),…"
      ]
     },
     "metadata": {},
     "output_type": "display_data"
    }
   ],
   "source": [
    "trip_window = Window.partitionBy('trip_id').orderBy(f.asc('arrival_time'))\n",
    "stop_sequence = f.rank().over(trip_window)"
   ]
  },
  {
   "cell_type": "code",
   "execution_count": 57,
   "metadata": {},
   "outputs": [
    {
     "data": {
      "application/vnd.jupyter.widget-view+json": {
       "model_id": "",
       "version_major": 2,
       "version_minor": 0
      },
      "text/plain": [
       "FloatProgress(value=0.0, bar_style='info', description='Progress:', layout=Layout(height='25px', width='50%'),…"
      ]
     },
     "metadata": {},
     "output_type": "display_data"
    }
   ],
   "source": [
    "stop_resequenced = (\n",
    "    stop_filtered\n",
    "    .join(stop_keep, 'trip_id')\n",
    "    .withColumn('stop_sequence', stop_sequence)\n",
    ")"
   ]
  },
  {
   "cell_type": "code",
   "execution_count": 71,
   "metadata": {},
   "outputs": [
    {
     "data": {
      "application/vnd.jupyter.widget-view+json": {
       "model_id": "",
       "version_major": 2,
       "version_minor": 0
      },
      "text/plain": [
       "FloatProgress(value=0.0, bar_style='info', description='Progress:', layout=Layout(height='25px', width='50%'),…"
      ]
     },
     "metadata": {},
     "output_type": "display_data"
    }
   ],
   "source": [
    "stop_resequenced.write.format('orc').save('/user/datavirus/stop_resequenced.orc')"
   ]
  },
  {
   "cell_type": "code",
   "execution_count": 84,
   "metadata": {},
   "outputs": [
    {
     "data": {
      "application/vnd.jupyter.widget-view+json": {
       "model_id": "",
       "version_major": 2,
       "version_minor": 0
      },
      "text/plain": [
       "FloatProgress(value=0.0, bar_style='info', description='Progress:', layout=Layout(height='25px', width='50%'),…"
      ]
     },
     "metadata": {},
     "output_type": "display_data"
    }
   ],
   "source": [
    "stop_resequenced = spark.read.orc('/user/datavirus/stop_resequenced.orc')"
   ]
  },
  {
   "cell_type": "code",
   "execution_count": 85,
   "metadata": {},
   "outputs": [
    {
     "data": {
      "application/vnd.jupyter.widget-view+json": {
       "model_id": "",
       "version_major": 2,
       "version_minor": 0
      },
      "text/plain": [
       "FloatProgress(value=0.0, bar_style='info', description='Progress:', layout=Layout(height='25px', width='50%'),…"
      ]
     },
     "metadata": {},
     "output_type": "display_data"
    }
   ],
   "source": [
    "departure = stop_resequenced.alias('departure')\n",
    "arrival = stop_resequenced.withColumn('stop_sequence', stop_resequenced.stop_sequence - 1).alias('arrival')"
   ]
  },
  {
   "cell_type": "code",
   "execution_count": 89,
   "metadata": {},
   "outputs": [
    {
     "data": {
      "application/vnd.jupyter.widget-view+json": {
       "model_id": "",
       "version_major": 2,
       "version_minor": 0
      },
      "text/plain": [
       "FloatProgress(value=0.0, bar_style='info', description='Progress:', layout=Layout(height='25px', width='50%'),…"
      ]
     },
     "metadata": {},
     "output_type": "display_data"
    }
   ],
   "source": [
    "joined = (\n",
    "    departure\n",
    "    .join(arrival, ['trip_id', 'stop_sequence'])\n",
    ")"
   ]
  },
  {
   "cell_type": "code",
   "execution_count": null,
   "metadata": {},
   "outputs": [
    {
     "data": {
      "application/vnd.jupyter.widget-view+json": {
       "model_id": "b6293b6be368424bb6e09439f7cd94aa",
       "version_major": 2,
       "version_minor": 0
      },
      "text/plain": [
       "FloatProgress(value=0.0, bar_style='info', description='Progress:', layout=Layout(height='25px', width='50%'),…"
      ]
     },
     "metadata": {},
     "output_type": "display_data"
    }
   ],
   "source": [
    "joined.show(100, False)"
   ]
  },
  {
   "cell_type": "code",
   "execution_count": null,
   "metadata": {},
   "outputs": [],
   "source": [
    "departure.join(arrival, ['trip_id', 'stop_sequence']).select(departure.trip_id, departure.departure_time)"
   ]
  },
  {
   "cell_type": "code",
   "execution_count": null,
   "metadata": {},
   "outputs": [],
   "source": [
    "\n",
    "new_counting =timetable.select('*', trip_rank).alias('new_counting').orderBy('trip_id','arrival_time').fillna(0)# Remove trips which only appear once (meaning the go to/come from stops outside Zurich)\n",
    "ids_counts = begin.groupBy('trip_id').count()\n",
    "ids_trips = ids_counts.where(ids_counts['count']>1).select('trip_id').distinct()\n",
    "df = new_counting.join(ids_trips, \"trip_id\").orderBy('trip_id','arrival_time','new_stop')# Match each stop with the next stop (to transform trips to connections)\n",
    "to_station = df.drop('departure_time','stop_sequence').withColumn('new_stop', df.new_stop -1).alias('to_station')\n",
    "from_station = df.drop('arrival_time','stop_sequence').join(to_station, on=['new_stop','trip_id']).orderBy('trip_id','new_stop')# Write schedule in \"connection\" format (two stops per row)\n",
    "schedule = from_station.toDF(\"Stop_sequence\",\"Trip_ID\",\"Start_Time\",\"Start_Station\",\"Stop_Time\",\"Stop_Station\")\n",
    "schedule.write.format(\"orc\").save(\"/user/datavirus/schedule_zurich.orc\", mode='overwrite')"
   ]
  },
  {
   "cell_type": "code",
   "execution_count": null,
   "metadata": {},
   "outputs": [],
   "source": [
    "raw_connection = (\n",
    "    \n",
    ")"
   ]
  },
  {
   "cell_type": "code",
   "execution_count": 27,
   "metadata": {},
   "outputs": [
    {
     "data": {
      "application/vnd.jupyter.widget-view+json": {
       "model_id": "",
       "version_major": 2,
       "version_minor": 0
      },
      "text/plain": [
       "FloatProgress(value=0.0, bar_style='info', description='Progress:', layout=Layout(height='25px', width='50%'),…"
      ]
     },
     "metadata": {},
     "output_type": "display_data"
    }
   ],
   "source": [
    "departure = (\n",
    "    stop_time\n",
    "    .join(route_probability, 'station_id')\n",
    ")"
   ]
  },
  {
   "cell_type": "code",
   "execution_count": null,
   "metadata": {},
   "outputs": [],
   "source": []
  },
  {
   "cell_type": "code",
   "execution_count": null,
   "metadata": {},
   "outputs": [],
   "source": []
  },
  {
   "cell_type": "code",
   "execution_count": null,
   "metadata": {},
   "outputs": [],
   "source": []
  },
  {
   "cell_type": "code",
   "execution_count": null,
   "metadata": {},
   "outputs": [],
   "source": []
  },
  {
   "cell_type": "code",
   "execution_count": 12,
   "metadata": {},
   "outputs": [
    {
     "data": {
      "application/vnd.jupyter.widget-view+json": {
       "model_id": "",
       "version_major": 2,
       "version_minor": 0
      },
      "text/plain": [
       "FloatProgress(value=0.0, bar_style='info', description='Progress:', layout=Layout(height='25px', width='50%'),…"
      ]
     },
     "metadata": {},
     "output_type": "display_data"
    }
   ],
   "source": [
    "stations = spark.read.csv(\"../data/zurich_stations_ids.csv\")\n",
    "stations = (\n",
    "    stations\n",
    "    .select(stations._c0.alias('stop_id'))\n",
    ")"
   ]
  },
  {
   "cell_type": "code",
   "execution_count": 14,
   "metadata": {},
   "outputs": [
    {
     "data": {
      "application/vnd.jupyter.widget-view+json": {
       "model_id": "",
       "version_major": 2,
       "version_minor": 0
      },
      "text/plain": [
       "FloatProgress(value=0.0, bar_style='info', description='Progress:', layout=Layout(height='25px', width='50%'),…"
      ]
     },
     "metadata": {},
     "output_type": "display_data"
    }
   ],
   "source": [
    "sbb = spark.read.orc('/data/sbb/orc/istdaten')"
   ]
  },
  {
   "cell_type": "code",
   "execution_count": 22,
   "metadata": {},
   "outputs": [
    {
     "data": {
      "application/vnd.jupyter.widget-view+json": {
       "model_id": "",
       "version_major": 2,
       "version_minor": 0
      },
      "text/plain": [
       "FloatProgress(value=0.0, bar_style='info', description='Progress:', layout=Layout(height='25px', width='50%'),…"
      ]
     },
     "metadata": {},
     "output_type": "display_data"
    },
    {
     "name": "stdout",
     "output_type": "stream",
     "text": [
      "+-----------+----------------+------------+-------------+----------------+----------+---------+-----------+---------+-------------------+--------------+-------------+-------+----------------------+----------------+-------------------+------------------+----------------+-------------------+------------------+-------------+\n",
      "|betriebstag|fahrt_bezeichner|betreiber_id|betreiber_abk|betreiber_name  |produkt_id|linien_id|linien_text|umlauf_id|verkehrsmittel_text|zusatzfahrt_tf|faellt_aus_tf|bpuic  |haltestellen_name     |ankunftszeit    |an_prognose        |an_prognose_status|abfahrtszeit    |ab_prognose        |ab_prognose_status|durchfahrt_tf|\n",
      "+-----------+----------------+------------+-------------+----------------+----------+---------+-----------+---------+-------------------+--------------+-------------+-------+----------------------+----------------+-------------------+------------------+----------------+-------------------+------------------+-------------+\n",
      "|03.09.2018 |85:94:3110:002  |85:94       |WB           |Waldenburgerbahn|Zug       |3110     |R          |         |R                  |false         |false        |8500023|Liestal               |                |                   |PROGNOSE          |03.09.2018 06:35|03.09.2018 06:37:51|REAL              |false        |\n",
      "|03.09.2018 |85:94:3110:002  |85:94       |WB           |Waldenburgerbahn|Zug       |3110     |R          |         |R                  |false         |false        |8500081|Altmarkt              |03.09.2018 06:37|03.09.2018 06:39:39|PROGNOSE          |03.09.2018 06:37|03.09.2018 06:39:57|PROGNOSE          |false        |\n",
      "|03.09.2018 |85:94:3110:002  |85:94       |WB           |Waldenburgerbahn|Zug       |3110     |R          |         |R                  |false         |false        |8500082|Bubendorf             |03.09.2018 06:40|03.09.2018 06:42:12|PROGNOSE          |03.09.2018 06:40|03.09.2018 06:42:30|PROGNOSE          |false        |\n",
      "|03.09.2018 |85:94:3110:002  |85:94       |WB           |Waldenburgerbahn|Zug       |3110     |R          |         |R                  |false         |false        |8500080|Talhaus               |03.09.2018 06:41|03.09.2018 06:43:48|PROGNOSE          |03.09.2018 06:41|03.09.2018 06:44:06|PROGNOSE          |false        |\n",
      "|03.09.2018 |85:94:3110:002  |85:94       |WB           |Waldenburgerbahn|Zug       |3110     |R          |         |R                  |false         |false        |8500083|Lampenberg-Ramlinsburg|03.09.2018 06:44|03.09.2018 06:45:58|PROGNOSE          |03.09.2018 06:44|03.09.2018 06:46:16|PROGNOSE          |false        |\n",
      "|03.09.2018 |85:94:3110:002  |85:94       |WB           |Waldenburgerbahn|Zug       |3110     |R          |         |R                  |false         |false        |8500084|Hölstein              |03.09.2018 06:47|03.09.2018 06:48:30|PROGNOSE          |03.09.2018 06:47|03.09.2018 06:48:48|PROGNOSE          |false        |\n",
      "|03.09.2018 |85:94:3110:002  |85:94       |WB           |Waldenburgerbahn|Zug       |3110     |R          |         |R                  |false         |false        |8500092|Hölstein Süd          |03.09.2018 06:48|03.09.2018 06:49:44|PROGNOSE          |03.09.2018 06:48|03.09.2018 06:50:02|PROGNOSE          |false        |\n",
      "|03.09.2018 |85:94:3110:002  |85:94       |WB           |Waldenburgerbahn|Zug       |3110     |R          |         |R                  |false         |false        |8500093|Hölstein Weidbächli   |03.09.2018 06:49|03.09.2018 06:50:58|PROGNOSE          |03.09.2018 06:49|03.09.2018 06:51:16|PROGNOSE          |false        |\n",
      "|03.09.2018 |85:94:3110:002  |85:94       |WB           |Waldenburgerbahn|Zug       |3110     |R          |         |R                  |false         |false        |8500094|Hirschlang            |03.09.2018 06:51|03.09.2018 06:52:34|PROGNOSE          |03.09.2018 06:51|03.09.2018 06:52:52|PROGNOSE          |false        |\n",
      "|03.09.2018 |85:94:3110:002  |85:94       |WB           |Waldenburgerbahn|Zug       |3110     |R          |         |R                  |false         |false        |8500085|Niederdorf            |03.09.2018 06:52|03.09.2018 06:53:53|PROGNOSE          |03.09.2018 06:52|03.09.2018 06:54:11|PROGNOSE          |false        |\n",
      "+-----------+----------------+------------+-------------+----------------+----------+---------+-----------+---------+-------------------+--------------+-------------+-------+----------------------+----------------+-------------------+------------------+----------------+-------------------+------------------+-------------+\n",
      "only showing top 10 rows"
     ]
    }
   ],
   "source": [
    "sbb.where(sbb.fahrt_bezeichner.substr(0, 10) == '85:151:2').show(10, False)"
   ]
  },
  {
   "cell_type": "code",
   "execution_count": 25,
   "metadata": {},
   "outputs": [
    {
     "data": {
      "application/vnd.jupyter.widget-view+json": {
       "model_id": "",
       "version_major": 2,
       "version_minor": 0
      },
      "text/plain": [
       "FloatProgress(value=0.0, bar_style='info', description='Progress:', layout=Layout(height='25px', width='50%'),…"
      ]
     },
     "metadata": {},
     "output_type": "display_data"
    },
    {
     "name": "stdout",
     "output_type": "stream",
     "text": [
      "0"
     ]
    }
   ],
   "source": [
    "route_trips.where(route_trips.route_type.isNull()).count()"
   ]
  },
  {
   "cell_type": "code",
   "execution_count": 13,
   "metadata": {},
   "outputs": [
    {
     "data": {
      "application/vnd.jupyter.widget-view+json": {
       "model_id": "",
       "version_major": 2,
       "version_minor": 0
      },
      "text/plain": [
       "FloatProgress(value=0.0, bar_style='info', description='Progress:', layout=Layout(height='25px', width='50%'),…"
      ]
     },
     "metadata": {},
     "output_type": "display_data"
    },
    {
     "name": "stdout",
     "output_type": "stream",
     "text": [
      "+--------------+----------+-----------------------+-------------------------+---------------+------------+---------+----------------+---------------+-------------+----------+------------+-------------+\n",
      "|route_id      |service_id|trip_id                |trip_headsign            |trip_short_name|direction_id|agency_id|route_short_name|route_long_name|route_desc   |route_type|ist_trip_id |ist_line_id  |\n",
      "+--------------+----------+-----------------------+-------------------------+---------------+------------+---------+----------------+---------------+-------------+----------+------------+-------------+\n",
      "|20-20-A-j19-1 |TA+b080b  |1.TA.20-20-A-j19-1.1.H |Castione-Arbedo          |31211          |0           |11       |20              |               |Auoreisezug  |1700      |85:11:31211 |85:11:20     |\n",
      "|24-90-j19-1   |TA+b0001  |1.TA.24-90-j19-1.1.H   |Brig                     |1705           |0           |11       |90              |               |InterRegio   |103       |85:11:1705  |85:11:90     |\n",
      "|61-384-Y-j19-1|TA+b0001  |1.TA.61-384-Y-j19-1.1.H|Sulwald                  |1              |0           |3085     |384-Y           |               |Luftseilbahn |1300      |85:3085:1   |85:3085:384-Y|\n",
      "|12-251-0-j19-1|TA+b0001  |1.TA.12-251-0-j19-1.1.R|Luzern, Gütsch           |33417          |1           |820      |2510            |               |Standseilbahn|1400      |85:820:33417|85:820:2510  |\n",
      "|4-10-j19-1    |TA+b0001  |1.TA.4-10-j19-1.1.H    |Dornach, Bahnhof         |10001          |0           |37       |10              |               |Tram         |900       |85:37:10001 |85:37:10     |\n",
      "|64-1-Y-j19-1  |TA+b000l  |2.TA.64-1-Y-j19-1.1.H  |Rigi Kulm                |115            |0           |137      |1-Y             |               |Extrazug     |100       |85:137:115  |85:137:1-Y   |\n",
      "|90-158-Y-j19-1|TA+b0001  |2.TA.90-158-Y-j19-1.1.H|Magadino                 |103            |0           |190      |158-Y           |               |Schiff       |1000      |85:190:103  |85:190:158-Y |\n",
      "|1-14-j19-1    |TA+b0001  |1.TA.1-14-j19-1.1.R    |Menziken                 |101            |1           |96       |14              |               |S-Bahn       |400       |85:96:101   |85:96:14     |\n",
      "|11-3-j19-1    |TA+b0001  |404.TA.11-3-j19-1.150.H|Chur                     |577            |0           |11       |3               |               |Intercity    |102       |85:11:577   |85:11:3      |\n",
      "|1-341-A-j19-1 |TA+b0001  |2.TA.1-341-A-j19-1.1.H |Uezwil, Waage            |34193          |0           |801      |341             |               |Taxi         |1501      |85:801:34193|85:801:341   |\n",
      "|4-19-j19-1    |TA+b0001  |4.TA.4-19-j19-1.1.R    |Waldenburg               |3110           |1           |94       |19              |               |Regionalzug  |106       |85:94:3110  |85:94:19     |\n",
      "|1-1-C-j19-1   |TA+b0001  |5.TA.1-1-C-j19-1.3.R   |Zofingen, Altachen       |108            |1           |723      |1               |               |Bus          |700       |85:723:108  |85:723:1     |\n",
      "|23-m2-j19-1   |TA+b0001  |394.TA.23-m2-j19-1.1.R |Lausanne, Ouchy-Olympique|2              |1           |151      |m2              |               |Metro        |401       |85:151:2    |85:151:m2    |\n",
      "+--------------+----------+-----------------------+-------------------------+---------------+------------+---------+----------------+---------------+-------------+----------+------------+-------------+"
     ]
    }
   ],
   "source": [
    "route_trips.dropDuplicates(['route_type']).show(100, False)"
   ]
  },
  {
   "cell_type": "code",
   "execution_count": 22,
   "metadata": {},
   "outputs": [
    {
     "data": {
      "application/vnd.jupyter.widget-view+json": {
       "model_id": "",
       "version_major": 2,
       "version_minor": 0
      },
      "text/plain": [
       "FloatProgress(value=0.0, bar_style='info', description='Progress:', layout=Layout(height='25px', width='50%'),…"
      ]
     },
     "metadata": {},
     "output_type": "display_data"
    },
    {
     "name": "stdout",
     "output_type": "stream",
     "text": [
      "+-----------+----------+---------------------+------------------+---------------+------------+---------+----------------+---------------+----------+----------+----------------+----------------+\n",
      "|route_id   |service_id|trip_id              |trip_headsign     |trip_short_name|direction_id|agency_id|route_short_name|route_long_name|route_desc|route_type|train_identifier|other_identifier|\n",
      "+-----------+----------+---------------------+------------------+---------------+------------+---------+----------------+---------------+----------+----------+----------------+----------------+\n",
      "|1-1-C-j19-1|TA+b0001  |5.TA.1-1-C-j19-1.3.R |Zofingen, Altachen|108            |1           |723      |1               |               |Bus       |700       |85:723:108      |85:723:1        |\n",
      "|1-1-C-j19-1|TA+b0001  |7.TA.1-1-C-j19-1.3.R |Zofingen, Altachen|112            |1           |723      |1               |               |Bus       |700       |85:723:112      |85:723:1        |\n",
      "|1-1-C-j19-1|TA+b0001  |9.TA.1-1-C-j19-1.3.R |Zofingen, Altachen|116            |1           |723      |1               |               |Bus       |700       |85:723:116      |85:723:1        |\n",
      "|1-1-C-j19-1|TA+b0001  |11.TA.1-1-C-j19-1.3.R|Zofingen, Altachen|120            |1           |723      |1               |               |Bus       |700       |85:723:120      |85:723:1        |\n",
      "|1-1-C-j19-1|TA+b0001  |13.TA.1-1-C-j19-1.3.R|Zofingen, Altachen|124            |1           |723      |1               |               |Bus       |700       |85:723:124      |85:723:1        |\n",
      "+-----------+----------+---------------------+------------------+---------------+------------+---------+----------------+---------------+----------+----------+----------------+----------------+\n",
      "only showing top 5 rows"
     ]
    }
   ],
   "source": [
    "route_trips.show(5, False)"
   ]
  },
  {
   "cell_type": "code",
   "execution_count": 23,
   "metadata": {},
   "outputs": [
    {
     "data": {
      "application/vnd.jupyter.widget-view+json": {
       "model_id": "",
       "version_major": 2,
       "version_minor": 0
      },
      "text/plain": [
       "FloatProgress(value=0.0, bar_style='info', description='Progress:', layout=Layout(height='25px', width='50%'),…"
      ]
     },
     "metadata": {},
     "output_type": "display_data"
    },
    {
     "name": "stdout",
     "output_type": "stream",
     "text": [
      "+--------------+----------+------------------------+-------------------------+---------------+------------+---------+----------------+---------------+-------------+----------+----------------+----------------+\n",
      "|route_id      |service_id|trip_id                 |trip_headsign            |trip_short_name|direction_id|agency_id|route_short_name|route_long_name|route_desc   |route_type|train_identifier|other_identifier|\n",
      "+--------------+----------+------------------------+-------------------------+---------------+------------+---------+----------------+---------------+-------------+----------+----------------+----------------+\n",
      "|57-3-Y-j19-1  |TA+b0030  |9.TA.57-3-Y-j19-1.9.H   |Zürich HB                |9211           |0           |11       |3-Y             |               |TGV          |102       |85:11:9211      |85:11:3-Y       |\n",
      "|40-12-Y-j19-1 |TA+b000n  |14.TA.40-12-Y-j19-1.7.H |Como S. Giovanni         |315            |0           |11       |12-Y            |               |Eurocity     |102       |85:11:315       |85:11:12-Y      |\n",
      "|12-251-0-j19-1|TA+b0001  |1.TA.12-251-0-j19-1.1.R |Luzern, Gütsch           |33417          |1           |820      |2510            |               |Standseilbahn|1400      |85:820:33417    |85:820:2510     |\n",
      "|4-19-j19-1    |TA+b0001  |4.TA.4-19-j19-1.1.R     |Waldenburg               |3110           |1           |94       |19              |               |Regionalzug  |106       |85:94:3110      |85:94:19        |\n",
      "|79-14-Y-j19-1 |TA+b0001  |25.TA.79-14-Y-j19-1.20.H|Basel Bad Bf             |17344          |0           |06       |14-Y            |               |RegioExpress |106       |85:06:17344     |85:06:14-Y      |\n",
      "|1-14-j19-1    |TA+b0001  |1.TA.1-14-j19-1.1.R     |Menziken                 |101            |1           |96       |14              |               |S-Bahn       |400       |85:96:101       |85:96:14        |\n",
      "|61-384-Y-j19-1|TA+b0001  |1.TA.61-384-Y-j19-1.1.H |Sulwald                  |1              |0           |3085     |384-Y           |               |Luftseilbahn |1300      |85:3085:1       |85:3085:384-Y   |\n",
      "|61-480-Y-j19-1|TA+b005y  |71.TA.61-480-Y-j19-1.1.H|Sareis                   |101            |0           |3133     |480-Y           |               |Sesselbahn   |1300      |85:3133:101     |85:3133:480-Y   |\n",
      "|1-341-A-j19-1 |TA+b0001  |2.TA.1-341-A-j19-1.1.H  |Uezwil, Waage            |34193          |0           |801      |341             |               |Taxi         |1501      |85:801:34193    |85:801:341      |\n",
      "|90-170-Y-j19-1|TA+b0001  |2.TA.90-170-Y-j19-1.1.H |Friedrichshafen Autoquai |204            |0           |195      |170-Y           |               |Fähre        |1000      |85:195:204      |85:195:170-Y    |\n",
      "|4-10-j19-1    |TA+b0001  |1.TA.4-10-j19-1.1.H     |Dornach, Bahnhof         |10001          |0           |37       |10              |               |Tram         |900       |85:37:10001     |85:37:10        |\n",
      "|54-3-Y-j19-1  |TA+b0030  |140.TA.54-3-Y-j19-1.45.H|Zürich HB                |1295           |0           |11       |3-Y             |               |ICE          |102       |85:11:1295      |85:11:3-Y       |\n",
      "|1-1-C-j19-1   |TA+b0001  |5.TA.1-1-C-j19-1.3.R    |Zofingen, Altachen       |108            |1           |723      |1               |               |Bus          |700       |85:723:108      |85:723:1        |\n",
      "|61-40-Y-j19-1 |TA+b0001  |1.TA.61-40-Y-j19-1.1.H  |Mörel ARBAG              |102            |0           |209      |40-Y            |               |Gondelbahn   |1300      |85:209:102      |85:209:40-Y     |\n",
      "|20-20-A-j19-1 |TA+b080b  |1.TA.20-20-A-j19-1.1.H  |Castione-Arbedo          |31211          |0           |11       |20              |               |Auoreisezug  |1700      |85:11:31211     |85:11:20        |\n",
      "|55-2-Y-j19-1  |TA+b0663  |2.TA.55-2-Y-j19-1.2.H   |Dijon Ville              |223            |0           |11       |2-Y             |               |Nacht-Zug    |102       |85:11:223       |85:11:2-Y       |\n",
      "|52-1-Y-j19-1  |TA+b04ku  |2.TA.52-1-Y-j19-1.2.H   |Zürich HB                |17784          |0           |11       |1-Y             |               |Eurostar     |102       |85:11:17784     |85:11:1-Y       |\n",
      "|90-158-Y-j19-1|TA+b0001  |2.TA.90-158-Y-j19-1.1.H |Magadino                 |103            |0           |190      |158-Y           |               |Schiff       |1000      |85:190:103      |85:190:158-Y    |\n",
      "|76-1-Y-j19-1  |TA+b0001  |1.TA.76-1-Y-j19-1.1.H   |Locarno FART             |41             |0           |49       |1-Y             |               |Schnellzug   |102       |85:49:41        |85:49:1-Y       |\n",
      "|24-90-j19-1   |TA+b0001  |1.TA.24-90-j19-1.1.H    |Brig                     |1705           |0           |11       |90              |               |InterRegio   |103       |85:11:1705      |85:11:90        |\n",
      "|11-3-j19-1    |TA+b0001  |404.TA.11-3-j19-1.150.H |Chur                     |577            |0           |11       |3               |               |Intercity    |102       |85:11:577       |85:11:3         |\n",
      "|64-1-Y-j19-1  |TA+b000l  |2.TA.64-1-Y-j19-1.1.H   |Rigi Kulm                |115            |0           |137      |1-Y             |               |Extrazug     |100       |85:137:115      |85:137:1-Y      |\n",
      "|23-m2-j19-1   |TA+b0001  |394.TA.23-m2-j19-1.1.R  |Lausanne, Ouchy-Olympique|2              |1           |151      |m2              |               |Metro        |401       |85:151:2        |85:151:m2       |\n",
      "+--------------+----------+------------------------+-------------------------+---------------+------------+---------+----------------+---------------+-------------+----------+----------------+----------------+"
     ]
    }
   ],
   "source": [
    "route_trips.dropDuplicates(['route_desc']).show(100, False)"
   ]
  },
  {
   "cell_type": "code",
   "execution_count": null,
   "metadata": {},
   "outputs": [],
   "source": [
    "@f.udf\n",
    "def trip_id(id_):\n",
    "    parts = id_.split(':')\n",
    "    if len(parts) > 1:\n",
    "        return parts[1]\n",
    "    else:\n",
    "        return None"
   ]
  },
  {
   "cell_type": "code",
   "execution_count": 25,
   "metadata": {},
   "outputs": [
    {
     "data": {
      "application/vnd.jupyter.widget-view+json": {
       "model_id": "",
       "version_major": 2,
       "version_minor": 0
      },
      "text/plain": [
       "FloatProgress(value=0.0, bar_style='info', description='Progress:', layout=Layout(height='25px', width='50%'),…"
      ]
     },
     "metadata": {},
     "output_type": "display_data"
    }
   ],
   "source": [
    "stop_time = spark.read.orc(\"/data/sbb/timetables/orc/stop_times/\").repartition(10, 'stop_id')"
   ]
  },
  {
   "cell_type": "code",
   "execution_count": 26,
   "metadata": {},
   "outputs": [
    {
     "data": {
      "application/vnd.jupyter.widget-view+json": {
       "model_id": "",
       "version_major": 2,
       "version_minor": 0
      },
      "text/plain": [
       "FloatProgress(value=0.0, bar_style='info', description='Progress:', layout=Layout(height='25px', width='50%'),…"
      ]
     },
     "metadata": {},
     "output_type": "display_data"
    },
    {
     "name": "stdout",
     "output_type": "stream",
     "text": [
      "root\n",
      " |-- trip_id: string (nullable = true)\n",
      " |-- arrival_time: string (nullable = true)\n",
      " |-- departure_time: string (nullable = true)\n",
      " |-- stop_id: string (nullable = true)\n",
      " |-- stop_sequence: short (nullable = true)\n",
      " |-- pickup_type: byte (nullable = true)\n",
      " |-- drop_off_type: byte (nullable = true)"
     ]
    }
   ],
   "source": [
    "stop_time.printSchema()"
   ]
  },
  {
   "cell_type": "code",
   "execution_count": 27,
   "metadata": {},
   "outputs": [
    {
     "data": {
      "application/vnd.jupyter.widget-view+json": {
       "model_id": "",
       "version_major": 2,
       "version_minor": 0
      },
      "text/plain": [
       "FloatProgress(value=0.0, bar_style='info', description='Progress:', layout=Layout(height='25px', width='50%'),…"
      ]
     },
     "metadata": {},
     "output_type": "display_data"
    },
    {
     "name": "stdout",
     "output_type": "stream",
     "text": [
      "+--------------------+------------+--------------+-----------+-------------+-----------+-------------+\n",
      "|             trip_id|arrival_time|departure_time|    stop_id|stop_sequence|pickup_type|drop_off_type|\n",
      "+--------------------+------------+--------------+-----------+-------------+-----------+-------------+\n",
      "|1.TA.1-1-B-j19-1.1.R|    04:28:00|      04:28:00|8500021:0:5|            3|          0|            0|\n",
      "|1.TA.1-1-B-j19-1.1.R|    04:35:00|      04:35:00|8500313:0:2|            6|          0|            0|\n",
      "|1.TA.1-1-B-j19-1.1.R|    04:52:00|      04:52:00|8500304:0:2|           11|          0|            0|\n",
      "|25.TA.1-1-B-j19-1...|    05:58:00|      05:58:00|8500021:0:5|            3|          0|            0|\n",
      "|25.TA.1-1-B-j19-1...|    06:05:00|      06:05:00|8500313:0:2|            6|          0|            0|\n",
      "|25.TA.1-1-B-j19-1...|    06:22:00|      06:22:00|8500304:0:2|           11|          0|            0|\n",
      "|28.TA.1-1-B-j19-1...|    06:28:00|      06:28:00|8500021:0:5|            3|          0|            0|\n",
      "|28.TA.1-1-B-j19-1...|    06:35:00|      06:35:00|8500313:0:2|            6|          0|            0|\n",
      "|28.TA.1-1-B-j19-1...|    06:52:00|      06:52:00|8500304:0:2|           11|          0|            0|\n",
      "|45.TA.1-1-B-j19-1...|    09:28:00|      09:28:00|8500021:0:5|            3|          0|            0|\n",
      "+--------------------+------------+--------------+-----------+-------------+-----------+-------------+\n",
      "only showing top 10 rows"
     ]
    }
   ],
   "source": [
    "stop_time.show(10)"
   ]
  },
  {
   "cell_type": "code",
   "execution_count": 28,
   "metadata": {},
   "outputs": [
    {
     "data": {
      "application/vnd.jupyter.widget-view+json": {
       "model_id": "",
       "version_major": 2,
       "version_minor": 0
      },
      "text/plain": [
       "FloatProgress(value=0.0, bar_style='info', description='Progress:', layout=Layout(height='25px', width='50%'),…"
      ]
     },
     "metadata": {},
     "output_type": "display_data"
    }
   ],
   "source": [
    "@f.udf\n",
    "def parent_station_id(stop_id):\n",
    "    return stop_id.split(':')[0]"
   ]
  },
  {
   "cell_type": "code",
   "execution_count": 29,
   "metadata": {},
   "outputs": [
    {
     "data": {
      "application/vnd.jupyter.widget-view+json": {
       "model_id": "",
       "version_major": 2,
       "version_minor": 0
      },
      "text/plain": [
       "FloatProgress(value=0.0, bar_style='info', description='Progress:', layout=Layout(height='25px', width='50%'),…"
      ]
     },
     "metadata": {},
     "output_type": "display_data"
    }
   ],
   "source": [
    "stop_time = (\n",
    "    stop_time\n",
    "    .select(['trip_id', 'arrival_time', 'departure_time', 'stop_id', 'stop_sequence'])\n",
    "    .withColumn('stop_id', parent_station_id(stop_time.stop_id))\n",
    "    .filter(\n",
    "        (stop_time.departure_time >= '05:00:00')\n",
    "        & (stop_time.departure_time <= '21:00:00')\n",
    "        & (stop_time.arrival_time >= '05:00:00')\n",
    "        & (stop_time.arrival_time <= '21:00:00')\n",
    "    )\n",
    ")"
   ]
  },
  {
   "cell_type": "code",
   "execution_count": 30,
   "metadata": {},
   "outputs": [
    {
     "data": {
      "application/vnd.jupyter.widget-view+json": {
       "model_id": "",
       "version_major": 2,
       "version_minor": 0
      },
      "text/plain": [
       "FloatProgress(value=0.0, bar_style='info', description='Progress:', layout=Layout(height='25px', width='50%'),…"
      ]
     },
     "metadata": {},
     "output_type": "display_data"
    },
    {
     "name": "stdout",
     "output_type": "stream",
     "text": [
      "+--------------------+------------+--------------+-------+-------------+\n",
      "|             trip_id|arrival_time|departure_time|stop_id|stop_sequence|\n",
      "+--------------------+------------+--------------+-------+-------------+\n",
      "|25.TA.1-1-B-j19-1...|    05:58:00|      05:58:00|8500021|            3|\n",
      "|25.TA.1-1-B-j19-1...|    06:05:00|      06:05:00|8500313|            6|\n",
      "|25.TA.1-1-B-j19-1...|    06:22:00|      06:22:00|8500304|           11|\n",
      "|28.TA.1-1-B-j19-1...|    06:28:00|      06:28:00|8500021|            3|\n",
      "|28.TA.1-1-B-j19-1...|    06:35:00|      06:35:00|8500313|            6|\n",
      "|28.TA.1-1-B-j19-1...|    06:52:00|      06:52:00|8500304|           11|\n",
      "|45.TA.1-1-B-j19-1...|    09:28:00|      09:28:00|8500021|            3|\n",
      "|45.TA.1-1-B-j19-1...|    09:35:00|      09:35:00|8500313|            6|\n",
      "|45.TA.1-1-B-j19-1...|    09:52:00|      09:52:00|8500304|           11|\n",
      "|53.TA.1-1-B-j19-1...|    10:28:00|      10:28:00|8500021|            3|\n",
      "+--------------------+------------+--------------+-------+-------------+\n",
      "only showing top 10 rows"
     ]
    }
   ],
   "source": [
    "stop_time.show(10)"
   ]
  },
  {
   "cell_type": "code",
   "execution_count": 31,
   "metadata": {},
   "outputs": [
    {
     "data": {
      "application/vnd.jupyter.widget-view+json": {
       "model_id": "",
       "version_major": 2,
       "version_minor": 0
      },
      "text/plain": [
       "FloatProgress(value=0.0, bar_style='info', description='Progress:', layout=Layout(height='25px', width='50%'),…"
      ]
     },
     "metadata": {},
     "output_type": "display_data"
    }
   ],
   "source": [
    "stations = spark.read.csv(\"../data/zurich_stations_ids.csv\")\n",
    "stations = (\n",
    "    stations\n",
    "    .select(stations._c0.alias('stop_id'))\n",
    ")"
   ]
  },
  {
   "cell_type": "code",
   "execution_count": 37,
   "metadata": {},
   "outputs": [
    {
     "data": {
      "application/vnd.jupyter.widget-view+json": {
       "model_id": "",
       "version_major": 2,
       "version_minor": 0
      },
      "text/plain": [
       "FloatProgress(value=0.0, bar_style='info', description='Progress:', layout=Layout(height='25px', width='50%'),…"
      ]
     },
     "metadata": {},
     "output_type": "display_data"
    }
   ],
   "source": [
    "stop_ids = [row['stop_id'] for row in stations.collect()]"
   ]
  },
  {
   "cell_type": "code",
   "execution_count": 38,
   "metadata": {},
   "outputs": [
    {
     "data": {
      "application/vnd.jupyter.widget-view+json": {
       "model_id": "",
       "version_major": 2,
       "version_minor": 0
      },
      "text/plain": [
       "FloatProgress(value=0.0, bar_style='info', description='Progress:', layout=Layout(height='25px', width='50%'),…"
      ]
     },
     "metadata": {},
     "output_type": "display_data"
    }
   ],
   "source": [
    "stop_ids = spark.sparkContext.broadcast(stop_ids)"
   ]
  },
  {
   "cell_type": "code",
   "execution_count": 39,
   "metadata": {},
   "outputs": [
    {
     "data": {
      "application/vnd.jupyter.widget-view+json": {
       "model_id": "",
       "version_major": 2,
       "version_minor": 0
      },
      "text/plain": [
       "FloatProgress(value=0.0, bar_style='info', description='Progress:', layout=Layout(height='25px', width='50%'),…"
      ]
     },
     "metadata": {},
     "output_type": "display_data"
    }
   ],
   "source": [
    "filtered = stop_time.where(stop_time.stop_id.isin(stop_ids.value))"
   ]
  },
  {
   "cell_type": "code",
   "execution_count": 40,
   "metadata": {},
   "outputs": [
    {
     "data": {
      "application/vnd.jupyter.widget-view+json": {
       "model_id": "",
       "version_major": 2,
       "version_minor": 0
      },
      "text/plain": [
       "FloatProgress(value=0.0, bar_style='info', description='Progress:', layout=Layout(height='25px', width='50%'),…"
      ]
     },
     "metadata": {},
     "output_type": "display_data"
    },
    {
     "name": "stdout",
     "output_type": "stream",
     "text": [
      "+--------------------+------------+--------------+-------+-------------+\n",
      "|             trip_id|arrival_time|departure_time|stop_id|stop_sequence|\n",
      "+--------------------+------------+--------------+-------+-------------+\n",
      "|1.TA.1-11-B-j19-1...|    06:16:00|      06:16:00|8594304|            3|\n",
      "|2.TA.1-11-B-j19-1...|    06:46:00|      06:46:00|8594304|            3|\n",
      "|3.TA.1-11-B-j19-1...|    07:16:00|      07:16:00|8594304|            3|\n",
      "|4.TA.1-11-B-j19-1...|    07:46:00|      07:46:00|8594304|            3|\n",
      "|5.TA.1-11-B-j19-1...|    08:16:00|      08:16:00|8594304|            3|\n",
      "|6.TA.1-11-B-j19-1...|    08:46:00|      08:46:00|8594304|            3|\n",
      "|7.TA.1-11-B-j19-1...|    09:16:00|      09:16:00|8594304|            3|\n",
      "|8.TA.1-11-B-j19-1...|    09:46:00|      09:46:00|8594304|            3|\n",
      "|9.TA.1-11-B-j19-1...|    10:16:00|      10:16:00|8594304|            3|\n",
      "|10.TA.1-11-B-j19-...|    10:46:00|      10:46:00|8594304|            3|\n",
      "+--------------------+------------+--------------+-------+-------------+\n",
      "only showing top 10 rows"
     ]
    }
   ],
   "source": [
    "filtered.show(10)"
   ]
  },
  {
   "cell_type": "code",
   "execution_count": 41,
   "metadata": {},
   "outputs": [
    {
     "data": {
      "application/vnd.jupyter.widget-view+json": {
       "model_id": "",
       "version_major": 2,
       "version_minor": 0
      },
      "text/plain": [
       "FloatProgress(value=0.0, bar_style='info', description='Progress:', layout=Layout(height='25px', width='50%'),…"
      ]
     },
     "metadata": {},
     "output_type": "display_data"
    }
   ],
   "source": [
    "timetable = (\n",
    "    filtered\n",
    "    .orderBy(['trip_id', 'stop_sequence'])\n",
    ")"
   ]
  },
  {
   "cell_type": "code",
   "execution_count": 42,
   "metadata": {},
   "outputs": [
    {
     "data": {
      "application/vnd.jupyter.widget-view+json": {
       "model_id": "",
       "version_major": 2,
       "version_minor": 0
      },
      "text/plain": [
       "FloatProgress(value=0.0, bar_style='info', description='Progress:', layout=Layout(height='25px', width='50%'),…"
      ]
     },
     "metadata": {},
     "output_type": "display_data"
    }
   ],
   "source": [
    "timetable.write.format(\"csv\").save(\"/user/gflueck/timetable_zurich.csv\", mode='overwrite')"
   ]
  },
  {
   "cell_type": "code",
   "execution_count": null,
   "metadata": {},
   "outputs": [],
   "source": [
    "(\n",
    "    stop_time\n",
    "    .groupBy(['trip_id', 'arrival_time'])\n",
    "    .agg(\n",
    "        f.collect_list(f.col('stop_sequence')).alias('sequence'), \n",
    "        f.collect_list(f.col('stop_id')).alias('stops'), \n",
    "        f.countDistinct(f.col('stop_id')).alias('count'),\n",
    "    )\n",
    "    .where(f.col('count') > 5)\n",
    ").show(10, False)"
   ]
  },
  {
   "cell_type": "code",
   "execution_count": 14,
   "metadata": {},
   "outputs": [
    {
     "data": {
      "application/vnd.jupyter.widget-view+json": {
       "model_id": "",
       "version_major": 2,
       "version_minor": 0
      },
      "text/plain": [
       "FloatProgress(value=0.0, bar_style='info', description='Progress:', layout=Layout(height='25px', width='50%'),…"
      ]
     },
     "metadata": {},
     "output_type": "display_data"
    }
   ],
   "source": [
    "departure = stop_time.alias('departure')\n",
    "arrival = stop_time.withColumn('stop_sequence', stop_time.stop_sequence - 1).alias('arrival')"
   ]
  },
  {
   "cell_type": "code",
   "execution_count": 15,
   "metadata": {},
   "outputs": [
    {
     "data": {
      "application/vnd.jupyter.widget-view+json": {
       "model_id": "",
       "version_major": 2,
       "version_minor": 0
      },
      "text/plain": [
       "FloatProgress(value=0.0, bar_style='info', description='Progress:', layout=Layout(height='25px', width='50%'),…"
      ]
     },
     "metadata": {},
     "output_type": "display_data"
    }
   ],
   "source": [
    "timetable = (\n",
    "    departure\n",
    "    .join(arrival, ['trip_id', 'stop_sequence'])\n",
    "    .select(\n",
    "        departure.trip_id,\n",
    "        departure.stop_sequence,\n",
    "        departure.stop_id.alias('start_id'),\n",
    "        departure.departure_time.alias('start_time'),\n",
    "        arrival.arrival_time.alias('stop_time'),\n",
    "        arrival.stop_id.alias('stop_id')\n",
    "    )\n",
    ")"
   ]
  },
  {
   "cell_type": "code",
   "execution_count": null,
   "metadata": {},
   "outputs": [
    {
     "data": {
      "application/vnd.jupyter.widget-view+json": {
       "model_id": "996fea4df9be412cb18990f501ed4eb7",
       "version_major": 2,
       "version_minor": 0
      },
      "text/plain": [
       "FloatProgress(value=0.0, bar_style='info', description='Progress:', layout=Layout(height='25px', width='50%'),…"
      ]
     },
     "metadata": {},
     "output_type": "display_data"
    }
   ],
   "source": [
    "timetable.write.format(\"csv\").save(\"/user/gflueck/timetable.csv\", mode='overwrite')"
   ]
  }
 ],
 "metadata": {
  "kernelspec": {
   "display_name": "PySpark",
   "language": "",
   "name": "pysparkkernel"
  },
  "language_info": {
   "codemirror_mode": {
    "name": "python",
    "version": 3
   },
   "mimetype": "text/x-python",
   "name": "pyspark",
   "pygments_lexer": "python3"
  }
 },
 "nbformat": 4,
 "nbformat_minor": 4
}
