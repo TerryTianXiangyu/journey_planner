{
 "cells": [
  {
   "cell_type": "markdown",
   "metadata": {},
   "source": [
    "# Spark Kernel for getting stations and walking connections\n",
    "\n"
   ]
  },
  {
   "cell_type": "markdown",
   "metadata": {},
   "source": [
    "### Start Spark"
   ]
  },
  {
   "cell_type": "code",
   "execution_count": 1,
   "metadata": {},
   "outputs": [
    {
     "data": {
      "text/html": [
       "Current session configs: <tt>{'conf': {'spark.app.name': 'datavirus_final'}, 'kind': 'pyspark'}</tt><br>"
      ],
      "text/plain": [
       "<IPython.core.display.HTML object>"
      ]
     },
     "metadata": {},
     "output_type": "display_data"
    },
    {
     "data": {
      "text/html": [
       "<table>\n",
       "<tr><th>ID</th><th>YARN Application ID</th><th>Kind</th><th>State</th><th>Spark UI</th><th>Driver log</th><th>Current session?</th></tr><tr><td>6849</td><td>application_1589299642358_1346</td><td>pyspark</td><td>idle</td><td><a target=\"_blank\" href=\"http://iccluster044.iccluster.epfl.ch:8088/proxy/application_1589299642358_1346/\">Link</a></td><td><a target=\"_blank\" href=\"http://iccluster066.iccluster.epfl.ch:8042/node/containerlogs/container_e06_1589299642358_1346_01_000001/ebouille\">Link</a></td><td></td></tr><tr><td>6858</td><td>application_1589299642358_1352</td><td>pyspark</td><td>idle</td><td><a target=\"_blank\" href=\"http://iccluster044.iccluster.epfl.ch:8088/proxy/application_1589299642358_1352/\">Link</a></td><td><a target=\"_blank\" href=\"http://iccluster065.iccluster.epfl.ch:8042/node/containerlogs/container_e06_1589299642358_1352_01_000001/ebouille\">Link</a></td><td></td></tr><tr><td>6866</td><td>application_1589299642358_1360</td><td>pyspark</td><td>idle</td><td><a target=\"_blank\" href=\"http://iccluster044.iccluster.epfl.ch:8088/proxy/application_1589299642358_1360/\">Link</a></td><td><a target=\"_blank\" href=\"http://iccluster068.iccluster.epfl.ch:8042/node/containerlogs/container_e06_1589299642358_1360_01_000001/ebouille\">Link</a></td><td></td></tr><tr><td>6867</td><td>application_1589299642358_1361</td><td>pyspark</td><td>idle</td><td><a target=\"_blank\" href=\"http://iccluster044.iccluster.epfl.ch:8088/proxy/application_1589299642358_1361/\">Link</a></td><td><a target=\"_blank\" href=\"http://iccluster065.iccluster.epfl.ch:8042/node/containerlogs/container_e06_1589299642358_1361_01_000001/ebouille\">Link</a></td><td></td></tr><tr><td>6869</td><td>application_1589299642358_1363</td><td>pyspark</td><td>idle</td><td><a target=\"_blank\" href=\"http://iccluster044.iccluster.epfl.ch:8088/proxy/application_1589299642358_1363/\">Link</a></td><td><a target=\"_blank\" href=\"http://iccluster065.iccluster.epfl.ch:8042/node/containerlogs/container_e06_1589299642358_1363_01_000001/ebouille\">Link</a></td><td></td></tr><tr><td>6871</td><td>application_1589299642358_1365</td><td>pyspark</td><td>busy</td><td><a target=\"_blank\" href=\"http://iccluster044.iccluster.epfl.ch:8088/proxy/application_1589299642358_1365/\">Link</a></td><td><a target=\"_blank\" href=\"http://iccluster065.iccluster.epfl.ch:8042/node/containerlogs/container_e06_1589299642358_1365_01_000001/ebouille\">Link</a></td><td></td></tr><tr><td>6872</td><td>application_1589299642358_1366</td><td>pyspark</td><td>idle</td><td><a target=\"_blank\" href=\"http://iccluster044.iccluster.epfl.ch:8088/proxy/application_1589299642358_1366/\">Link</a></td><td><a target=\"_blank\" href=\"http://iccluster070.iccluster.epfl.ch:8042/node/containerlogs/container_e06_1589299642358_1366_01_000001/ebouille\">Link</a></td><td></td></tr><tr><td>6875</td><td>application_1589299642358_1369</td><td>pyspark</td><td>idle</td><td><a target=\"_blank\" href=\"http://iccluster044.iccluster.epfl.ch:8088/proxy/application_1589299642358_1369/\">Link</a></td><td><a target=\"_blank\" href=\"http://iccluster067.iccluster.epfl.ch:8042/node/containerlogs/container_e06_1589299642358_1369_01_000001/ebouille\">Link</a></td><td></td></tr><tr><td>6876</td><td>application_1589299642358_1370</td><td>pyspark</td><td>busy</td><td><a target=\"_blank\" href=\"http://iccluster044.iccluster.epfl.ch:8088/proxy/application_1589299642358_1370/\">Link</a></td><td><a target=\"_blank\" href=\"http://iccluster070.iccluster.epfl.ch:8042/node/containerlogs/container_e06_1589299642358_1370_01_000001/ebouille\">Link</a></td><td></td></tr><tr><td>6877</td><td>application_1589299642358_1371</td><td>pyspark</td><td>idle</td><td><a target=\"_blank\" href=\"http://iccluster044.iccluster.epfl.ch:8088/proxy/application_1589299642358_1371/\">Link</a></td><td><a target=\"_blank\" href=\"http://iccluster071.iccluster.epfl.ch:8042/node/containerlogs/container_e06_1589299642358_1371_01_000001/ebouille\">Link</a></td><td></td></tr><tr><td>6878</td><td>application_1589299642358_1372</td><td>pyspark</td><td>idle</td><td><a target=\"_blank\" href=\"http://iccluster044.iccluster.epfl.ch:8088/proxy/application_1589299642358_1372/\">Link</a></td><td><a target=\"_blank\" href=\"http://iccluster072.iccluster.epfl.ch:8042/node/containerlogs/container_e06_1589299642358_1372_01_000001/ebouille\">Link</a></td><td></td></tr><tr><td>6879</td><td>application_1589299642358_1373</td><td>pyspark</td><td>idle</td><td><a target=\"_blank\" href=\"http://iccluster044.iccluster.epfl.ch:8088/proxy/application_1589299642358_1373/\">Link</a></td><td><a target=\"_blank\" href=\"http://iccluster071.iccluster.epfl.ch:8042/node/containerlogs/container_e06_1589299642358_1373_01_000001/ebouille\">Link</a></td><td></td></tr></table>"
      ],
      "text/plain": [
       "<IPython.core.display.HTML object>"
      ]
     },
     "metadata": {},
     "output_type": "display_data"
    }
   ],
   "source": [
    "%%configure\n",
    "{\"conf\": {\n",
    "    \"spark.app.name\": \"datavirus_final\"\n",
    "}}"
   ]
  },
  {
   "cell_type": "code",
   "execution_count": 2,
   "metadata": {},
   "outputs": [
    {
     "name": "stdout",
     "output_type": "stream",
     "text": [
      "Starting Spark application\n"
     ]
    },
    {
     "data": {
      "text/html": [
       "<table>\n",
       "<tr><th>ID</th><th>YARN Application ID</th><th>Kind</th><th>State</th><th>Spark UI</th><th>Driver log</th><th>Current session?</th></tr><tr><td>6880</td><td>application_1589299642358_1374</td><td>pyspark</td><td>idle</td><td><a target=\"_blank\" href=\"http://iccluster044.iccluster.epfl.ch:8088/proxy/application_1589299642358_1374/\">Link</a></td><td><a target=\"_blank\" href=\"http://iccluster065.iccluster.epfl.ch:8042/node/containerlogs/container_e06_1589299642358_1374_01_000001/ebouille\">Link</a></td><td>✔</td></tr></table>"
      ],
      "text/plain": [
       "<IPython.core.display.HTML object>"
      ]
     },
     "metadata": {},
     "output_type": "display_data"
    },
    {
     "data": {
      "application/vnd.jupyter.widget-view+json": {
       "model_id": "",
       "version_major": 2,
       "version_minor": 0
      },
      "text/plain": [
       "FloatProgress(value=0.0, bar_style='info', description='Progress:', layout=Layout(height='25px', width='50%'),…"
      ]
     },
     "metadata": {},
     "output_type": "display_data"
    },
    {
     "name": "stdout",
     "output_type": "stream",
     "text": [
      "SparkSession available as 'spark'.\n"
     ]
    },
    {
     "data": {
      "application/vnd.jupyter.widget-view+json": {
       "model_id": "",
       "version_major": 2,
       "version_minor": 0
      },
      "text/plain": [
       "FloatProgress(value=0.0, bar_style='info', description='Progress:', layout=Layout(height='25px', width='50%'),…"
      ]
     },
     "metadata": {},
     "output_type": "display_data"
    },
    {
     "name": "stdout",
     "output_type": "stream",
     "text": [
      "<pyspark.sql.session.SparkSession object at 0x7f866993e850>"
     ]
    }
   ],
   "source": [
    "# Initialization\n",
    "spark"
   ]
  },
  {
   "cell_type": "code",
   "execution_count": 3,
   "metadata": {},
   "outputs": [
    {
     "data": {
      "application/vnd.jupyter.widget-view+json": {
       "model_id": "",
       "version_major": 2,
       "version_minor": 0
      },
      "text/plain": [
       "FloatProgress(value=0.0, bar_style='info', description='Progress:', layout=Layout(height='25px', width='50%'),…"
      ]
     },
     "metadata": {},
     "output_type": "display_data"
    }
   ],
   "source": [
    "import pyspark.sql.functions as F\n",
    "import math"
   ]
  },
  {
   "cell_type": "markdown",
   "metadata": {},
   "source": [
    "### Read the station list data from [BFKOORD_GEO](https://opentransportdata.swiss/en/cookbook/hafas-rohdaten-format-hrdf/#Abgrenzung)"
   ]
  },
  {
   "cell_type": "code",
   "execution_count": 4,
   "metadata": {},
   "outputs": [
    {
     "data": {
      "application/vnd.jupyter.widget-view+json": {
       "model_id": "",
       "version_major": 2,
       "version_minor": 0
      },
      "text/plain": [
       "FloatProgress(value=0.0, bar_style='info', description='Progress:', layout=Layout(height='25px', width='50%'),…"
      ]
     },
     "metadata": {},
     "output_type": "display_data"
    },
    {
     "name": "stdout",
     "output_type": "stream",
     "text": [
      "+---------+---------+---------+------+----------------+\n",
      "|StationID|Longitude| Latitude|Height|          Remark|\n",
      "+---------+---------+---------+------+----------------+\n",
      "|  0000002|26.074412|44.446770|     0|       Bucuresti|\n",
      "|  0000003| 1.811446|50.901549|     0|          Calais|\n",
      "|  0000004| 1.075329|51.284212|     0|      Canterbury|\n",
      "|  0000005|-3.543547|50.729172|     0|          Exeter|\n",
      "|  0000007| 9.733756|46.922368|   744|Fideris, Bahnhof|\n",
      "+---------+---------+---------+------+----------------+\n",
      "only showing top 5 rows"
     ]
    }
   ],
   "source": [
    "metadata = spark.read.csv('/data/sbb/stations/bfkoordgeo.csv', header=True)\n",
    "metadata.show(5)"
   ]
  },
  {
   "cell_type": "code",
   "execution_count": 5,
   "metadata": {},
   "outputs": [
    {
     "data": {
      "application/vnd.jupyter.widget-view+json": {
       "model_id": "",
       "version_major": 2,
       "version_minor": 0
      },
      "text/plain": [
       "FloatProgress(value=0.0, bar_style='info', description='Progress:', layout=Layout(height='25px', width='50%'),…"
      ]
     },
     "metadata": {},
     "output_type": "display_data"
    },
    {
     "name": "stdout",
     "output_type": "stream",
     "text": [
      "+---------+---------+---------+------+--------------------+--------------------+\n",
      "|StationID|Longitude| Latitude|Height|              Remark|Distance_from_Zurich|\n",
      "+---------+---------+---------+------+--------------------+--------------------+\n",
      "|  0000176| 8.521961|47.351679|     0|Zimmerberg-Basist...|  10676.361524930166|\n",
      "|  8502572| 8.513918|47.370293|   421|Zürich, Goldbrunn...|   7107.377290914878|\n",
      "|  8503000| 8.540192|47.378177|   408|           Zürich HB|2.323101710999253...|\n",
      "|  8503001| 8.488940|47.391481|   399|   Zürich Altstetten|  13572.481490959273|\n",
      "|  8503003| 8.548466|47.366611|   411|  Zürich Stadelhofen|   4693.551820280705|\n",
      "+---------+---------+---------+------+--------------------+--------------------+\n",
      "only showing top 5 rows"
     ]
    }
   ],
   "source": [
    "df_stations = metadata.withColumn(\"dlon\", F.radians(F.col(\"Longitude\")) - math.radians(8.540192)) \\\n",
    "             .withColumn(\"dlat\", F.radians(F.col(\"Latitude\")) - math.radians(47.378177)) \\\n",
    "             .withColumn(\"Distance_from_Zurich\", F.asin(F.sqrt( F.sin(F.col(\"dlat\") / 2) ** 2 + math.cos(math.radians(47.378177))\n",
    "                                               *F.cos(F.radians(F.col(\"Latitude\"))) * F.sin(F.col(\"dlon\") / 2) ** 2)) * 2 * 3963 * 5280) \\\n",
    "             .drop(\"dlon\", \"dlat\") \\\n",
    "             .filter(F.col(\"Distance_from_Zurich\")<15000)\n",
    "\n",
    "#zurich_stations = list(df_stations.select('Remark').toPandas()['Remark'])\n",
    "df_stations.show(5)"
   ]
  },
  {
   "cell_type": "markdown",
   "metadata": {},
   "source": [
    "### Read the station list data from the time-table stops"
   ]
  },
  {
   "cell_type": "code",
   "execution_count": 6,
   "metadata": {},
   "outputs": [
    {
     "data": {
      "application/vnd.jupyter.widget-view+json": {
       "model_id": "",
       "version_major": 2,
       "version_minor": 0
      },
      "text/plain": [
       "FloatProgress(value=0.0, bar_style='info', description='Progress:', layout=Layout(height='25px', width='50%'),…"
      ]
     },
     "metadata": {},
     "output_type": "display_data"
    },
    {
     "name": "stdout",
     "output_type": "stream",
     "text": [
      "+-------+--------------------+----------------+----------------+-------------+--------------+\n",
      "|stop_id|           stop_name|        stop_lat|        stop_lon|location_type|parent_station|\n",
      "+-------+--------------------+----------------+----------------+-------------+--------------+\n",
      "|1322000|            Altoggio|46.1672513851495|  8.345807131427|             |              |\n",
      "|1322001|        Antronapiana| 46.060121674738|8.11361957990831|             |              |\n",
      "|1322002|              Anzola|45.9898698225697|8.34571729989858|             |              |\n",
      "|1322003|              Baceno|46.2614983591677|8.31925293162473|             |              |\n",
      "|1322004|Beura Cardezza, c...|46.0790618438814|8.29927439970313|             |              |\n",
      "+-------+--------------------+----------------+----------------+-------------+--------------+\n",
      "only showing top 5 rows"
     ]
    }
   ],
   "source": [
    "stop_metadata = spark.read.orc(\"hdfs:///data/sbb/timetables/orc/stops\")\n",
    "stop_metadata.show(5)"
   ]
  },
  {
   "cell_type": "code",
   "execution_count": 7,
   "metadata": {},
   "outputs": [
    {
     "data": {
      "application/vnd.jupyter.widget-view+json": {
       "model_id": "",
       "version_major": 2,
       "version_minor": 0
      },
      "text/plain": [
       "FloatProgress(value=0.0, bar_style='info', description='Progress:', layout=Layout(height='25px', width='50%'),…"
      ]
     },
     "metadata": {},
     "output_type": "display_data"
    },
    {
     "name": "stdout",
     "output_type": "stream",
     "text": [
      "+------------+--------------------+----------------+----------------+-------------+--------------+--------------------+\n",
      "|     stop_id|           stop_name|        stop_lat|        stop_lon|location_type|parent_station|Distance_from_Zurich|\n",
      "+------------+--------------------+----------------+----------------+-------------+--------------+--------------------+\n",
      "|     8502495|Zürich Wollishofe...|47.3476976601166|8.53331248070737|             |              |  11260.511488118353|\n",
      "|     8502572|Zürich, Goldbrunn...|47.3702920484894|8.51391785372053|             |              |   7107.551200745138|\n",
      "|     8503000|           Zürich HB|47.3781762039461|8.54019357578468|             |      8503000P|  0.4861881116144193|\n",
      "|8503000:0:10|           Zürich HB|47.3794536181612|8.54019357578468|             |      8503000P|  466.22604663935687|\n",
      "|8503000:0:11|           Zürich HB|47.3795144466376|8.54019357578468|             |      8503000P|   488.4408337792945|\n",
      "+------------+--------------------+----------------+----------------+-------------+--------------+--------------------+\n",
      "only showing top 5 rows"
     ]
    }
   ],
   "source": [
    "df_stops = stop_metadata.withColumn(\"dlon\", F.radians(F.col(\"stop_lon\")) - math.radians(8.540192)) \\\n",
    "                 .withColumn(\"dlat\", F.radians(F.col(\"stop_lat\")) - math.radians(47.378177)) \\\n",
    "                 .withColumn(\"Distance_from_Zurich\", F.asin(F.sqrt( F.sin(F.col(\"dlat\") / 2) ** 2 + math.cos(math.radians(47.378177))\n",
    "                                               *F.cos(F.radians(F.col(\"stop_lat\"))) * F.sin(F.col(\"dlon\") / 2) ** 2)) * 2 * 3963 * 5280) \\\n",
    "                 .drop(\"dlon\", \"dlat\") \\\n",
    "                 .filter(F.col(\"Distance_from_Zurich\")<15000)\n",
    "df_stops.show(5)"
   ]
  },
  {
   "cell_type": "code",
   "execution_count": 8,
   "metadata": {},
   "outputs": [
    {
     "data": {
      "application/vnd.jupyter.widget-view+json": {
       "model_id": "",
       "version_major": 2,
       "version_minor": 0
      },
      "text/plain": [
       "FloatProgress(value=0.0, bar_style='info', description='Progress:', layout=Layout(height='25px', width='50%'),…"
      ]
     },
     "metadata": {},
     "output_type": "display_data"
    },
    {
     "name": "stdout",
     "output_type": "stream",
     "text": [
      "+------------+---------+----------------+----------------+-------------+--------------+--------------------+\n",
      "|     stop_id|stop_name|        stop_lat|        stop_lon|location_type|parent_station|Distance_from_Zurich|\n",
      "+------------+---------+----------------+----------------+-------------+--------------+--------------------+\n",
      "|     8503000|Zürich HB|47.3781762039461|8.54019357578468|             |      8503000P|  0.4861881116144193|\n",
      "|8503000:0:10|Zürich HB|47.3794536181612|8.54019357578468|             |      8503000P|  466.22604663935687|\n",
      "|8503000:0:11|Zürich HB|47.3795144466376|8.54019357578468|             |      8503000P|   488.4408337792945|\n",
      "|8503000:0:12|Zürich HB|47.3786020121232|8.54019357578468|             |      8503000P|  155.21655831042875|\n",
      "|8503000:0:13|Zürich HB|47.3785411825942|8.54019357578468|             |      8503000P|   133.0014610545808|\n",
      "+------------+---------+----------------+----------------+-------------+--------------+--------------------+\n",
      "only showing top 5 rows"
     ]
    }
   ],
   "source": [
    "#proof that there are many rows for the same station (for example, Zurich HB)\n",
    "df_stops.where(F.col('stop_name')=='Zürich HB').show(5) "
   ]
  },
  {
   "cell_type": "markdown",
   "metadata": {},
   "source": [
    "### Compare both dataframes to see which stations are missing"
   ]
  },
  {
   "cell_type": "code",
   "execution_count": 9,
   "metadata": {},
   "outputs": [
    {
     "data": {
      "application/vnd.jupyter.widget-view+json": {
       "model_id": "",
       "version_major": 2,
       "version_minor": 0
      },
      "text/plain": [
       "FloatProgress(value=0.0, bar_style='info', description='Progress:', layout=Layout(height='25px', width='50%'),…"
      ]
     },
     "metadata": {},
     "output_type": "display_data"
    }
   ],
   "source": [
    "only_names_stations = df_stations.select('StationID').distinct()\n",
    "only_names_stops =  df_stops.where(F.length('stop_id')==7).select('stop_id')"
   ]
  },
  {
   "cell_type": "code",
   "execution_count": 10,
   "metadata": {},
   "outputs": [
    {
     "data": {
      "application/vnd.jupyter.widget-view+json": {
       "model_id": "",
       "version_major": 2,
       "version_minor": 0
      },
      "text/plain": [
       "FloatProgress(value=0.0, bar_style='info', description='Progress:', layout=Layout(height='25px', width='50%'),…"
      ]
     },
     "metadata": {},
     "output_type": "display_data"
    },
    {
     "name": "stdout",
     "output_type": "stream",
     "text": [
      "+---------+---------+---------+------+--------------------+--------------------+\n",
      "|StationID|Longitude| Latitude|Height|              Remark|Distance_from_Zurich|\n",
      "+---------+---------+---------+------+--------------------+--------------------+\n",
      "|  0000176| 8.521961|47.351679|     0|Zimmerberg-Basist...|  10676.361524930166|\n",
      "|  8503001| 8.488940|47.391481|   399|   Zürich Altstetten|  13572.481490959273|\n",
      "|  8503006| 8.544115|47.411529|   442|     Zürich Oerlikon|  12218.830294000149|\n",
      "|  8503007| 8.544636|47.418747|   442|      Zürich Seebach|  14856.992780652563|\n",
      "|  8503015| 8.529359|47.393032|   425|    Zürich Wipkingen|  6050.3533490488735|\n",
      "|  8503020| 8.517106|47.385195|   415|   Zürich Hardbrücke|   6257.735615033529|\n",
      "|  8503069| 8.583204|47.351016|   524|       Zürich Rehalp|   14546.26629164279|\n",
      "|  8503088| 8.539170|47.377431|   396|       Zürich HB SZU|    371.622725366178|\n",
      "|  8530471| 8.546402|47.376858|   446|         Hochschulen|  1609.5264027953037|\n",
      "|  8530472| 8.548920|47.385883|   490|Zürich Seilbahn R...|   3546.579533402909|\n",
      "|  8591091| 8.567340|47.402607|   455|Zürich, Bocklerst...|  11164.844854364981|\n",
      "|  8591114| 8.575643|47.378823|   608|  Zürich, Dreiwiesen|   8770.155558734778|\n",
      "|  8591288| 8.543185|47.377555|   409|Zürich, Neumühleq...|   774.2461389341328|\n",
      "+---------+---------+---------+------+--------------------+--------------------+"
     ]
    }
   ],
   "source": [
    "missing_ids = only_names_stations.subtract(only_names_stops)\n",
    "missing_stations = df_stations.join(missing_ids,on =['StationID'])\n",
    "missing_stations.show()"
   ]
  },
  {
   "cell_type": "markdown",
   "metadata": {},
   "source": [
    "### Create CSV file for storing the stations "
   ]
  },
  {
   "cell_type": "code",
   "execution_count": 11,
   "metadata": {},
   "outputs": [
    {
     "data": {
      "application/vnd.jupyter.widget-view+json": {
       "model_id": "",
       "version_major": 2,
       "version_minor": 0
      },
      "text/plain": [
       "FloatProgress(value=0.0, bar_style='info', description='Progress:', layout=Layout(height='25px', width='50%'),…"
      ]
     },
     "metadata": {},
     "output_type": "display_data"
    },
    {
     "data": {
      "application/vnd.jupyter.widget-view+json": {
       "model_id": "",
       "version_major": 2,
       "version_minor": 0
      },
      "text/plain": [
       "FloatProgress(value=0.0, bar_style='info', description='Progress:', layout=Layout(height='25px', width='50%'),…"
      ]
     },
     "metadata": {},
     "output_type": "display_data"
    }
   ],
   "source": [
    "%%spark -o df_stations -n -1"
   ]
  },
  {
   "cell_type": "code",
   "execution_count": 12,
   "metadata": {},
   "outputs": [],
   "source": [
    "%%local\n",
    "df_stations.to_csv(\"../data/Zurich_Stations.csv\", index=False)"
   ]
  },
  {
   "cell_type": "markdown",
   "metadata": {},
   "source": [
    "### Get the walking transfer times between different stations"
   ]
  },
  {
   "cell_type": "code",
   "execution_count": 13,
   "metadata": {},
   "outputs": [
    {
     "data": {
      "application/vnd.jupyter.widget-view+json": {
       "model_id": "",
       "version_major": 2,
       "version_minor": 0
      },
      "text/plain": [
       "FloatProgress(value=0.0, bar_style='info', description='Progress:', layout=Layout(height='25px', width='50%'),…"
      ]
     },
     "metadata": {},
     "output_type": "display_data"
    },
    {
     "name": "stdout",
     "output_type": "stream",
     "text": [
      "+-------+--------+---------+---+-------+--------+---------+---+\n",
      "|    id1|    lon1|     lat1| h1|    id2|    lon2|     lat2| h2|\n",
      "+-------+--------+---------+---+-------+--------+---------+---+\n",
      "|0000176|8.521961|47.351679|  0|0000176|8.521961|47.351679|  0|\n",
      "|0000176|8.521961|47.351679|  0|8502572|8.513918|47.370293|421|\n",
      "|0000176|8.521961|47.351679|  0|8503000|8.540192|47.378177|408|\n",
      "|0000176|8.521961|47.351679|  0|8503001|8.488940|47.391481|399|\n",
      "|0000176|8.521961|47.351679|  0|8503003|8.548466|47.366611|411|\n",
      "+-------+--------+---------+---+-------+--------+---------+---+\n",
      "only showing top 5 rows"
     ]
    }
   ],
   "source": [
    "station_pairs = df_stations.select('StationID','Longitude','Latitude','Height')\n",
    "joinedDF = station_pairs.crossJoin(station_pairs).toDF('id1','lon1','lat1','h1','id2','lon2','lat2','h2')\n",
    "joinedDF.show(5)"
   ]
  },
  {
   "cell_type": "code",
   "execution_count": 41,
   "metadata": {},
   "outputs": [
    {
     "data": {
      "application/vnd.jupyter.widget-view+json": {
       "model_id": "",
       "version_major": 2,
       "version_minor": 0
      },
      "text/plain": [
       "FloatProgress(value=0.0, bar_style='info', description='Progress:', layout=Layout(height='25px', width='50%'),…"
      ]
     },
     "metadata": {},
     "output_type": "display_data"
    },
    {
     "name": "stdout",
     "output_type": "stream",
     "text": [
      "+-------+--------+---------+---+-------+--------+---------+---+------------------+-----------------+\n",
      "|    id1|    lon1|     lat1| h1|    id2|    lon2|     lat2| h2|       Distance(m)|Transfer_time (s)|\n",
      "+-------+--------+---------+---+-------+--------+---------+---+------------------+-----------------+\n",
      "|0000176|8.521961|47.351679|  0|0000176|8.521961|47.351679|  0|               0.0|            120.0|\n",
      "|8502572|8.513918|47.370293|421|8502572|8.513918|47.370293|421|               0.0|            120.0|\n",
      "|8503000|8.540192|47.378177|408|8503000|8.540192|47.378177|408|               0.0|            120.0|\n",
      "|8503000|8.540192|47.378177|408|8503088|8.539170|47.377431|396|371.81641976561485|            561.0|\n",
      "|8503000|8.540192|47.378177|408|8503446|8.541715|47.378846|480|454.67719547158157|            708.0|\n",
      "|8503000|8.540192|47.378177|408|8587348|8.539338|47.377241|408| 401.8110520444312|            602.0|\n",
      "|8503000|8.540192|47.378177|408|8587349|8.541742|47.377560|408| 444.6416307076613|            654.0|\n",
      "|8503001|8.488940|47.391481|399|8503001|8.488940|47.391481|399|               0.0|            120.0|\n",
      "|8503001|8.488940|47.391481|399|8591056|8.488376|47.391109|399| 194.6818748525234|            354.0|\n",
      "|8503001|8.488940|47.391481|399|8591057|8.489905|47.392066|398|320.26042238881735|            504.0|\n",
      "+-------+--------+---------+---+-------+--------+---------+---+------------------+-----------------+\n",
      "only showing top 10 rows"
     ]
    }
   ],
   "source": [
    "from pyspark.sql.types import FloatType\n",
    "\n",
    "distance = (\n",
    "    joinedDF\n",
    "        .withColumn(\"dlon\", F.radians(F.col(\"lon1\")) - F.radians(F.col(\"lon2\")))\n",
    "        .withColumn(\"dlat\", F.radians(F.col(\"lat1\")) - F.radians(F.col(\"lat2\"))) \n",
    "        .withColumn(\"Distance\", F.asin(F.sqrt( F.sin(F.col(\"dlat\") / 2) ** 2 + F.cos(F.radians(\"lat2\"))\n",
    "                                           *F.cos(F.radians(F.col(\"lat1\"))) * F.sin(F.col(\"dlon\") / 2) ** 2)) * 2 * 3963 * 5280)  \n",
    "        .filter(F.col(\"Distance\")<500)\n",
    "        .withColumn(\"dh\", F.col(\"h2\")-F.col(\"h1\"))\n",
    "        .withColumn(\"Distance(m)\", F.sqrt(F.pow(F.col(\"Distance\"),2)+F.pow(F.col(\"dh\"),2)))\n",
    "        .withColumn(\"Walking_time\",F.round(60*(2+F.col(\"Distance\")/50)).cast(FloatType()))\n",
    "        .withColumn(\"speed\",50-10*F.col(\"dh\")/200)\n",
    "        .withColumn(\"Transfer_time (s)\", F.round(60*(2+(F.col(\"Distance(m)\")/F.col(\"speed\")).cast(FloatType()))))\n",
    "        .drop(\"dlon\", \"dlat\",\"dh\",\"speed\",\"Distance\",\"Walking_time\")\n",
    ")\n",
    "\n",
    "distance.show(10)"
   ]
  },
  {
   "cell_type": "code",
   "execution_count": 42,
   "metadata": {},
   "outputs": [
    {
     "data": {
      "application/vnd.jupyter.widget-view+json": {
       "model_id": "",
       "version_major": 2,
       "version_minor": 0
      },
      "text/plain": [
       "FloatProgress(value=0.0, bar_style='info', description='Progress:', layout=Layout(height='25px', width='50%'),…"
      ]
     },
     "metadata": {},
     "output_type": "display_data"
    },
    {
     "data": {
      "application/vnd.jupyter.widget-view+json": {
       "model_id": "",
       "version_major": 2,
       "version_minor": 0
      },
      "text/plain": [
       "FloatProgress(value=0.0, bar_style='info', description='Progress:', layout=Layout(height='25px', width='50%'),…"
      ]
     },
     "metadata": {},
     "output_type": "display_data"
    }
   ],
   "source": [
    "%%spark -o distance -n -1"
   ]
  },
  {
   "cell_type": "code",
   "execution_count": 43,
   "metadata": {},
   "outputs": [],
   "source": [
    "%%local\n",
    "distance.to_csv(\"../data/Zurich_WalkingConnections.csv\", index=False)"
   ]
  },
  {
   "cell_type": "code",
   "execution_count": 44,
   "metadata": {},
   "outputs": [
    {
     "data": {
      "application/vnd.jupyter.widget-view+json": {
       "model_id": "",
       "version_major": 2,
       "version_minor": 0
      },
      "text/plain": [
       "FloatProgress(value=0.0, bar_style='info', description='Progress:', layout=Layout(height='25px', width='50%'),…"
      ]
     },
     "metadata": {},
     "output_type": "display_data"
    },
    {
     "name": "stdout",
     "output_type": "stream",
     "text": [
      "+-------+--------+---------+---+-------+--------+---------+---+------------------+-----------------+\n",
      "|    id1|    lon1|     lat1| h1|    id2|    lon2|     lat2| h2|       Distance(m)|Transfer_time (s)|\n",
      "+-------+--------+---------+---+-------+--------+---------+---+------------------+-----------------+\n",
      "|0000176|8.521961|47.351679|  0|0000176|8.521961|47.351679|  0|               0.0|            120.0|\n",
      "|8502572|8.513918|47.370293|421|8502572|8.513918|47.370293|421|               0.0|            120.0|\n",
      "|8503000|8.540192|47.378177|408|8503000|8.540192|47.378177|408|               0.0|            120.0|\n",
      "|8503000|8.540192|47.378177|408|8503088|8.539170|47.377431|396|371.81641976561485|            561.0|\n",
      "|8503000|8.540192|47.378177|408|8503446|8.541715|47.378846|480|454.67719547158157|            708.0|\n",
      "+-------+--------+---------+---+-------+--------+---------+---+------------------+-----------------+\n",
      "only showing top 5 rows"
     ]
    }
   ],
   "source": [
    "distance.show(5)"
   ]
  },
  {
   "cell_type": "code",
   "execution_count": null,
   "metadata": {},
   "outputs": [],
   "source": []
  }
 ],
 "metadata": {
  "kernelspec": {
   "display_name": "PySpark",
   "language": "",
   "name": "pysparkkernel"
  },
  "language_info": {
   "codemirror_mode": {
    "name": "python",
    "version": 3
   },
   "mimetype": "text/x-python",
   "name": "pyspark",
   "pygments_lexer": "python3"
  }
 },
 "nbformat": 4,
 "nbformat_minor": 4
}
