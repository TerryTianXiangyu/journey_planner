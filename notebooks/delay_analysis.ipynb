{
 "cells": [
  {
   "cell_type": "code",
   "execution_count": 1,
   "metadata": {},
   "outputs": [
    {
     "data": {
      "text/html": [
       "Current session configs: <tt>{'conf': {'spark.app.name': 'datavirus_delay_analysis'}, 'kind': 'pyspark'}</tt><br>"
      ],
      "text/plain": [
       "<IPython.core.display.HTML object>"
      ]
     },
     "metadata": {},
     "output_type": "display_data"
    },
    {
     "data": {
      "text/html": [
       "<table>\n",
       "<tr><th>ID</th><th>YARN Application ID</th><th>Kind</th><th>State</th><th>Spark UI</th><th>Driver log</th><th>Current session?</th></tr><tr><td>7933</td><td>application_1589299642358_2451</td><td>pyspark</td><td>idle</td><td><a target=\"_blank\" href=\"http://iccluster044.iccluster.epfl.ch:8088/proxy/application_1589299642358_2451/\">Link</a></td><td><a target=\"_blank\" href=\"http://iccluster067.iccluster.epfl.ch:8042/node/containerlogs/container_e06_1589299642358_2451_01_000001/ebouille\">Link</a></td><td></td></tr><tr><td>7992</td><td>application_1589299642358_2514</td><td>pyspark</td><td>idle</td><td><a target=\"_blank\" href=\"http://iccluster044.iccluster.epfl.ch:8088/proxy/application_1589299642358_2514/\">Link</a></td><td><a target=\"_blank\" href=\"http://iccluster066.iccluster.epfl.ch:8042/node/containerlogs/container_e06_1589299642358_2514_01_000001/ebouille\">Link</a></td><td></td></tr><tr><td>7994</td><td>application_1589299642358_2517</td><td>pyspark</td><td>idle</td><td><a target=\"_blank\" href=\"http://iccluster044.iccluster.epfl.ch:8088/proxy/application_1589299642358_2517/\">Link</a></td><td><a target=\"_blank\" href=\"http://iccluster066.iccluster.epfl.ch:8042/node/containerlogs/container_e06_1589299642358_2517_01_000001/ebouille\">Link</a></td><td></td></tr><tr><td>8008</td><td>application_1589299642358_2531</td><td>pyspark</td><td>idle</td><td><a target=\"_blank\" href=\"http://iccluster044.iccluster.epfl.ch:8088/proxy/application_1589299642358_2531/\">Link</a></td><td><a target=\"_blank\" href=\"http://iccluster069.iccluster.epfl.ch:8042/node/containerlogs/container_e06_1589299642358_2531_01_000001/ebouille\">Link</a></td><td></td></tr><tr><td>8018</td><td>application_1589299642358_2541</td><td>pyspark</td><td>idle</td><td><a target=\"_blank\" href=\"http://iccluster044.iccluster.epfl.ch:8088/proxy/application_1589299642358_2541/\">Link</a></td><td><a target=\"_blank\" href=\"http://iccluster066.iccluster.epfl.ch:8042/node/containerlogs/container_e06_1589299642358_2541_01_000001/ebouille\">Link</a></td><td></td></tr><tr><td>8033</td><td>application_1589299642358_2553</td><td>pyspark</td><td>busy</td><td><a target=\"_blank\" href=\"http://iccluster044.iccluster.epfl.ch:8088/proxy/application_1589299642358_2553/\">Link</a></td><td><a target=\"_blank\" href=\"http://iccluster067.iccluster.epfl.ch:8042/node/containerlogs/container_e06_1589299642358_2553_01_000001/ebouille\">Link</a></td><td></td></tr><tr><td>8037</td><td>application_1589299642358_2557</td><td>pyspark</td><td>idle</td><td><a target=\"_blank\" href=\"http://iccluster044.iccluster.epfl.ch:8088/proxy/application_1589299642358_2557/\">Link</a></td><td><a target=\"_blank\" href=\"http://iccluster069.iccluster.epfl.ch:8042/node/containerlogs/container_e06_1589299642358_2557_01_000001/ebouille\">Link</a></td><td></td></tr><tr><td>8038</td><td>application_1589299642358_2558</td><td>pyspark</td><td>idle</td><td><a target=\"_blank\" href=\"http://iccluster044.iccluster.epfl.ch:8088/proxy/application_1589299642358_2558/\">Link</a></td><td><a target=\"_blank\" href=\"http://iccluster072.iccluster.epfl.ch:8042/node/containerlogs/container_e06_1589299642358_2558_01_000001/ebouille\">Link</a></td><td></td></tr><tr><td>8039</td><td>application_1589299642358_2559</td><td>pyspark</td><td>idle</td><td><a target=\"_blank\" href=\"http://iccluster044.iccluster.epfl.ch:8088/proxy/application_1589299642358_2559/\">Link</a></td><td><a target=\"_blank\" href=\"http://iccluster072.iccluster.epfl.ch:8042/node/containerlogs/container_e06_1589299642358_2559_01_000001/ebouille\">Link</a></td><td></td></tr><tr><td>8042</td><td>application_1589299642358_2562</td><td>pyspark</td><td>idle</td><td><a target=\"_blank\" href=\"http://iccluster044.iccluster.epfl.ch:8088/proxy/application_1589299642358_2562/\">Link</a></td><td><a target=\"_blank\" href=\"http://iccluster069.iccluster.epfl.ch:8042/node/containerlogs/container_e06_1589299642358_2562_01_000001/ebouille\">Link</a></td><td></td></tr><tr><td>8044</td><td>application_1589299642358_2564</td><td>pyspark</td><td>busy</td><td><a target=\"_blank\" href=\"http://iccluster044.iccluster.epfl.ch:8088/proxy/application_1589299642358_2564/\">Link</a></td><td><a target=\"_blank\" href=\"http://iccluster067.iccluster.epfl.ch:8042/node/containerlogs/container_e06_1589299642358_2564_01_000001/ebouille\">Link</a></td><td></td></tr><tr><td>8045</td><td>application_1589299642358_2565</td><td>pyspark</td><td>idle</td><td><a target=\"_blank\" href=\"http://iccluster044.iccluster.epfl.ch:8088/proxy/application_1589299642358_2565/\">Link</a></td><td><a target=\"_blank\" href=\"http://iccluster067.iccluster.epfl.ch:8042/node/containerlogs/container_e06_1589299642358_2565_01_000001/ebouille\">Link</a></td><td></td></tr><tr><td>8046</td><td>application_1589299642358_2566</td><td>pyspark</td><td>idle</td><td><a target=\"_blank\" href=\"http://iccluster044.iccluster.epfl.ch:8088/proxy/application_1589299642358_2566/\">Link</a></td><td><a target=\"_blank\" href=\"http://iccluster070.iccluster.epfl.ch:8042/node/containerlogs/container_e06_1589299642358_2566_01_000001/ebouille\">Link</a></td><td></td></tr><tr><td>8047</td><td>application_1589299642358_2567</td><td>pyspark</td><td>idle</td><td><a target=\"_blank\" href=\"http://iccluster044.iccluster.epfl.ch:8088/proxy/application_1589299642358_2567/\">Link</a></td><td><a target=\"_blank\" href=\"http://iccluster069.iccluster.epfl.ch:8042/node/containerlogs/container_e06_1589299642358_2567_01_000001/ebouille\">Link</a></td><td></td></tr><tr><td>8048</td><td>application_1589299642358_2568</td><td>pyspark</td><td>idle</td><td><a target=\"_blank\" href=\"http://iccluster044.iccluster.epfl.ch:8088/proxy/application_1589299642358_2568/\">Link</a></td><td><a target=\"_blank\" href=\"http://iccluster069.iccluster.epfl.ch:8042/node/containerlogs/container_e06_1589299642358_2568_01_000001/ebouille\">Link</a></td><td></td></tr><tr><td>8050</td><td>application_1589299642358_2570</td><td>pyspark</td><td>idle</td><td><a target=\"_blank\" href=\"http://iccluster044.iccluster.epfl.ch:8088/proxy/application_1589299642358_2570/\">Link</a></td><td><a target=\"_blank\" href=\"http://iccluster066.iccluster.epfl.ch:8042/node/containerlogs/container_e06_1589299642358_2570_01_000001/ebouille\">Link</a></td><td></td></tr><tr><td>8051</td><td>application_1589299642358_2571</td><td>pyspark</td><td>idle</td><td><a target=\"_blank\" href=\"http://iccluster044.iccluster.epfl.ch:8088/proxy/application_1589299642358_2571/\">Link</a></td><td><a target=\"_blank\" href=\"http://iccluster072.iccluster.epfl.ch:8042/node/containerlogs/container_e06_1589299642358_2571_01_000001/ebouille\">Link</a></td><td></td></tr><tr><td>8052</td><td>application_1589299642358_2572</td><td>pyspark</td><td>idle</td><td><a target=\"_blank\" href=\"http://iccluster044.iccluster.epfl.ch:8088/proxy/application_1589299642358_2572/\">Link</a></td><td><a target=\"_blank\" href=\"http://iccluster068.iccluster.epfl.ch:8042/node/containerlogs/container_e06_1589299642358_2572_01_000001/ebouille\">Link</a></td><td></td></tr><tr><td>8063</td><td>application_1589299642358_2587</td><td>pyspark</td><td>busy</td><td><a target=\"_blank\" href=\"http://iccluster044.iccluster.epfl.ch:8088/proxy/application_1589299642358_2587/\">Link</a></td><td><a target=\"_blank\" href=\"http://iccluster069.iccluster.epfl.ch:8042/node/containerlogs/container_e06_1589299642358_2587_01_000001/ebouille\">Link</a></td><td></td></tr><tr><td>8066</td><td>application_1589299642358_2590</td><td>pyspark</td><td>idle</td><td><a target=\"_blank\" href=\"http://iccluster044.iccluster.epfl.ch:8088/proxy/application_1589299642358_2590/\">Link</a></td><td><a target=\"_blank\" href=\"http://iccluster067.iccluster.epfl.ch:8042/node/containerlogs/container_e06_1589299642358_2590_01_000001/ebouille\">Link</a></td><td></td></tr><tr><td>8067</td><td>application_1589299642358_2591</td><td>pyspark</td><td>idle</td><td><a target=\"_blank\" href=\"http://iccluster044.iccluster.epfl.ch:8088/proxy/application_1589299642358_2591/\">Link</a></td><td><a target=\"_blank\" href=\"http://iccluster066.iccluster.epfl.ch:8042/node/containerlogs/container_e06_1589299642358_2591_01_000001/ebouille\">Link</a></td><td></td></tr><tr><td>8069</td><td>application_1589299642358_2593</td><td>pyspark</td><td>idle</td><td><a target=\"_blank\" href=\"http://iccluster044.iccluster.epfl.ch:8088/proxy/application_1589299642358_2593/\">Link</a></td><td><a target=\"_blank\" href=\"http://iccluster070.iccluster.epfl.ch:8042/node/containerlogs/container_e06_1589299642358_2593_01_000001/ebouille\">Link</a></td><td></td></tr><tr><td>8070</td><td>application_1589299642358_2594</td><td>pyspark</td><td>idle</td><td><a target=\"_blank\" href=\"http://iccluster044.iccluster.epfl.ch:8088/proxy/application_1589299642358_2594/\">Link</a></td><td><a target=\"_blank\" href=\"http://iccluster067.iccluster.epfl.ch:8042/node/containerlogs/container_e06_1589299642358_2594_01_000001/ebouille\">Link</a></td><td></td></tr><tr><td>8073</td><td>application_1589299642358_2597</td><td>pyspark</td><td>idle</td><td><a target=\"_blank\" href=\"http://iccluster044.iccluster.epfl.ch:8088/proxy/application_1589299642358_2597/\">Link</a></td><td><a target=\"_blank\" href=\"http://iccluster065.iccluster.epfl.ch:8042/node/containerlogs/container_e06_1589299642358_2597_01_000001/ebouille\">Link</a></td><td></td></tr><tr><td>8074</td><td>application_1589299642358_2598</td><td>pyspark</td><td>idle</td><td><a target=\"_blank\" href=\"http://iccluster044.iccluster.epfl.ch:8088/proxy/application_1589299642358_2598/\">Link</a></td><td><a target=\"_blank\" href=\"http://iccluster069.iccluster.epfl.ch:8042/node/containerlogs/container_e06_1589299642358_2598_01_000001/ebouille\">Link</a></td><td></td></tr><tr><td>8075</td><td>application_1589299642358_2599</td><td>pyspark</td><td>busy</td><td><a target=\"_blank\" href=\"http://iccluster044.iccluster.epfl.ch:8088/proxy/application_1589299642358_2599/\">Link</a></td><td><a target=\"_blank\" href=\"http://iccluster071.iccluster.epfl.ch:8042/node/containerlogs/container_e06_1589299642358_2599_01_000001/ebouille\">Link</a></td><td></td></tr><tr><td>8076</td><td>application_1589299642358_2600</td><td>pyspark</td><td>busy</td><td><a target=\"_blank\" href=\"http://iccluster044.iccluster.epfl.ch:8088/proxy/application_1589299642358_2600/\">Link</a></td><td><a target=\"_blank\" href=\"http://iccluster070.iccluster.epfl.ch:8042/node/containerlogs/container_e06_1589299642358_2600_01_000001/ebouille\">Link</a></td><td></td></tr><tr><td>8078</td><td>application_1589299642358_2602</td><td>pyspark</td><td>idle</td><td><a target=\"_blank\" href=\"http://iccluster044.iccluster.epfl.ch:8088/proxy/application_1589299642358_2602/\">Link</a></td><td><a target=\"_blank\" href=\"http://iccluster072.iccluster.epfl.ch:8042/node/containerlogs/container_e06_1589299642358_2602_01_000001/ebouille\">Link</a></td><td></td></tr><tr><td>8079</td><td>application_1589299642358_2603</td><td>pyspark</td><td>idle</td><td><a target=\"_blank\" href=\"http://iccluster044.iccluster.epfl.ch:8088/proxy/application_1589299642358_2603/\">Link</a></td><td><a target=\"_blank\" href=\"http://iccluster065.iccluster.epfl.ch:8042/node/containerlogs/container_e06_1589299642358_2603_01_000001/ebouille\">Link</a></td><td></td></tr><tr><td>8080</td><td>application_1589299642358_2604</td><td>pyspark</td><td>idle</td><td><a target=\"_blank\" href=\"http://iccluster044.iccluster.epfl.ch:8088/proxy/application_1589299642358_2604/\">Link</a></td><td><a target=\"_blank\" href=\"http://iccluster067.iccluster.epfl.ch:8042/node/containerlogs/container_e06_1589299642358_2604_01_000001/ebouille\">Link</a></td><td></td></tr><tr><td>8081</td><td>application_1589299642358_2605</td><td>pyspark</td><td>idle</td><td><a target=\"_blank\" href=\"http://iccluster044.iccluster.epfl.ch:8088/proxy/application_1589299642358_2605/\">Link</a></td><td><a target=\"_blank\" href=\"http://iccluster072.iccluster.epfl.ch:8042/node/containerlogs/container_e06_1589299642358_2605_01_000001/ebouille\">Link</a></td><td></td></tr></table>"
      ],
      "text/plain": [
       "<IPython.core.display.HTML object>"
      ]
     },
     "metadata": {},
     "output_type": "display_data"
    }
   ],
   "source": [
    "%%configure -f\n",
    "{\n",
    "    \"conf\": {\n",
    "        \"spark.app.name\": \"datavirus_delay_analysis\"\n",
    "    }\n",
    "}"
   ]
  },
  {
   "cell_type": "code",
   "execution_count": 2,
   "metadata": {},
   "outputs": [
    {
     "name": "stdout",
     "output_type": "stream",
     "text": [
      "Starting Spark application\n"
     ]
    },
    {
     "data": {
      "text/html": [
       "<table>\n",
       "<tr><th>ID</th><th>YARN Application ID</th><th>Kind</th><th>State</th><th>Spark UI</th><th>Driver log</th><th>Current session?</th></tr><tr><td>8082</td><td>application_1589299642358_2606</td><td>pyspark</td><td>idle</td><td><a target=\"_blank\" href=\"http://iccluster044.iccluster.epfl.ch:8088/proxy/application_1589299642358_2606/\">Link</a></td><td><a target=\"_blank\" href=\"http://iccluster072.iccluster.epfl.ch:8042/node/containerlogs/container_e06_1589299642358_2606_01_000001/ebouille\">Link</a></td><td>✔</td></tr></table>"
      ],
      "text/plain": [
       "<IPython.core.display.HTML object>"
      ]
     },
     "metadata": {},
     "output_type": "display_data"
    },
    {
     "data": {
      "application/vnd.jupyter.widget-view+json": {
       "model_id": "",
       "version_major": 2,
       "version_minor": 0
      },
      "text/plain": [
       "FloatProgress(value=0.0, bar_style='info', description='Progress:', layout=Layout(height='25px', width='50%'),…"
      ]
     },
     "metadata": {},
     "output_type": "display_data"
    },
    {
     "name": "stdout",
     "output_type": "stream",
     "text": [
      "SparkSession available as 'spark'.\n"
     ]
    },
    {
     "data": {
      "application/vnd.jupyter.widget-view+json": {
       "model_id": "",
       "version_major": 2,
       "version_minor": 0
      },
      "text/plain": [
       "FloatProgress(value=0.0, bar_style='info', description='Progress:', layout=Layout(height='25px', width='50%'),…"
      ]
     },
     "metadata": {},
     "output_type": "display_data"
    },
    {
     "name": "stdout",
     "output_type": "stream",
     "text": [
      "<pyspark.sql.session.SparkSession object at 0x7efc2fa47710>"
     ]
    }
   ],
   "source": [
    "# Initialization\n",
    "spark"
   ]
  },
  {
   "cell_type": "code",
   "execution_count": 3,
   "metadata": {},
   "outputs": [
    {
     "data": {
      "text/html": [
       "Current session configs: <tt>{'conf': {'spark.app.name': 'datavirus_delay_analysis'}, 'kind': 'pyspark'}</tt><br>"
      ],
      "text/plain": [
       "<IPython.core.display.HTML object>"
      ]
     },
     "metadata": {},
     "output_type": "display_data"
    },
    {
     "data": {
      "text/html": [
       "<table>\n",
       "<tr><th>ID</th><th>YARN Application ID</th><th>Kind</th><th>State</th><th>Spark UI</th><th>Driver log</th><th>Current session?</th></tr><tr><td>7933</td><td>application_1589299642358_2451</td><td>pyspark</td><td>idle</td><td><a target=\"_blank\" href=\"http://iccluster044.iccluster.epfl.ch:8088/proxy/application_1589299642358_2451/\">Link</a></td><td><a target=\"_blank\" href=\"http://iccluster067.iccluster.epfl.ch:8042/node/containerlogs/container_e06_1589299642358_2451_01_000001/ebouille\">Link</a></td><td></td></tr><tr><td>7992</td><td>application_1589299642358_2514</td><td>pyspark</td><td>idle</td><td><a target=\"_blank\" href=\"http://iccluster044.iccluster.epfl.ch:8088/proxy/application_1589299642358_2514/\">Link</a></td><td><a target=\"_blank\" href=\"http://iccluster066.iccluster.epfl.ch:8042/node/containerlogs/container_e06_1589299642358_2514_01_000001/ebouille\">Link</a></td><td></td></tr><tr><td>7994</td><td>application_1589299642358_2517</td><td>pyspark</td><td>idle</td><td><a target=\"_blank\" href=\"http://iccluster044.iccluster.epfl.ch:8088/proxy/application_1589299642358_2517/\">Link</a></td><td><a target=\"_blank\" href=\"http://iccluster066.iccluster.epfl.ch:8042/node/containerlogs/container_e06_1589299642358_2517_01_000001/ebouille\">Link</a></td><td></td></tr><tr><td>8008</td><td>application_1589299642358_2531</td><td>pyspark</td><td>idle</td><td><a target=\"_blank\" href=\"http://iccluster044.iccluster.epfl.ch:8088/proxy/application_1589299642358_2531/\">Link</a></td><td><a target=\"_blank\" href=\"http://iccluster069.iccluster.epfl.ch:8042/node/containerlogs/container_e06_1589299642358_2531_01_000001/ebouille\">Link</a></td><td></td></tr><tr><td>8018</td><td>application_1589299642358_2541</td><td>pyspark</td><td>idle</td><td><a target=\"_blank\" href=\"http://iccluster044.iccluster.epfl.ch:8088/proxy/application_1589299642358_2541/\">Link</a></td><td><a target=\"_blank\" href=\"http://iccluster066.iccluster.epfl.ch:8042/node/containerlogs/container_e06_1589299642358_2541_01_000001/ebouille\">Link</a></td><td></td></tr><tr><td>8033</td><td>application_1589299642358_2553</td><td>pyspark</td><td>busy</td><td><a target=\"_blank\" href=\"http://iccluster044.iccluster.epfl.ch:8088/proxy/application_1589299642358_2553/\">Link</a></td><td><a target=\"_blank\" href=\"http://iccluster067.iccluster.epfl.ch:8042/node/containerlogs/container_e06_1589299642358_2553_01_000001/ebouille\">Link</a></td><td></td></tr><tr><td>8037</td><td>application_1589299642358_2557</td><td>pyspark</td><td>idle</td><td><a target=\"_blank\" href=\"http://iccluster044.iccluster.epfl.ch:8088/proxy/application_1589299642358_2557/\">Link</a></td><td><a target=\"_blank\" href=\"http://iccluster069.iccluster.epfl.ch:8042/node/containerlogs/container_e06_1589299642358_2557_01_000001/ebouille\">Link</a></td><td></td></tr><tr><td>8038</td><td>application_1589299642358_2558</td><td>pyspark</td><td>idle</td><td><a target=\"_blank\" href=\"http://iccluster044.iccluster.epfl.ch:8088/proxy/application_1589299642358_2558/\">Link</a></td><td><a target=\"_blank\" href=\"http://iccluster072.iccluster.epfl.ch:8042/node/containerlogs/container_e06_1589299642358_2558_01_000001/ebouille\">Link</a></td><td></td></tr><tr><td>8039</td><td>application_1589299642358_2559</td><td>pyspark</td><td>idle</td><td><a target=\"_blank\" href=\"http://iccluster044.iccluster.epfl.ch:8088/proxy/application_1589299642358_2559/\">Link</a></td><td><a target=\"_blank\" href=\"http://iccluster072.iccluster.epfl.ch:8042/node/containerlogs/container_e06_1589299642358_2559_01_000001/ebouille\">Link</a></td><td></td></tr><tr><td>8042</td><td>application_1589299642358_2562</td><td>pyspark</td><td>idle</td><td><a target=\"_blank\" href=\"http://iccluster044.iccluster.epfl.ch:8088/proxy/application_1589299642358_2562/\">Link</a></td><td><a target=\"_blank\" href=\"http://iccluster069.iccluster.epfl.ch:8042/node/containerlogs/container_e06_1589299642358_2562_01_000001/ebouille\">Link</a></td><td></td></tr><tr><td>8044</td><td>application_1589299642358_2564</td><td>pyspark</td><td>busy</td><td><a target=\"_blank\" href=\"http://iccluster044.iccluster.epfl.ch:8088/proxy/application_1589299642358_2564/\">Link</a></td><td><a target=\"_blank\" href=\"http://iccluster067.iccluster.epfl.ch:8042/node/containerlogs/container_e06_1589299642358_2564_01_000001/ebouille\">Link</a></td><td></td></tr><tr><td>8045</td><td>application_1589299642358_2565</td><td>pyspark</td><td>idle</td><td><a target=\"_blank\" href=\"http://iccluster044.iccluster.epfl.ch:8088/proxy/application_1589299642358_2565/\">Link</a></td><td><a target=\"_blank\" href=\"http://iccluster067.iccluster.epfl.ch:8042/node/containerlogs/container_e06_1589299642358_2565_01_000001/ebouille\">Link</a></td><td></td></tr><tr><td>8046</td><td>application_1589299642358_2566</td><td>pyspark</td><td>idle</td><td><a target=\"_blank\" href=\"http://iccluster044.iccluster.epfl.ch:8088/proxy/application_1589299642358_2566/\">Link</a></td><td><a target=\"_blank\" href=\"http://iccluster070.iccluster.epfl.ch:8042/node/containerlogs/container_e06_1589299642358_2566_01_000001/ebouille\">Link</a></td><td></td></tr><tr><td>8047</td><td>application_1589299642358_2567</td><td>pyspark</td><td>idle</td><td><a target=\"_blank\" href=\"http://iccluster044.iccluster.epfl.ch:8088/proxy/application_1589299642358_2567/\">Link</a></td><td><a target=\"_blank\" href=\"http://iccluster069.iccluster.epfl.ch:8042/node/containerlogs/container_e06_1589299642358_2567_01_000001/ebouille\">Link</a></td><td></td></tr><tr><td>8050</td><td>application_1589299642358_2570</td><td>pyspark</td><td>idle</td><td><a target=\"_blank\" href=\"http://iccluster044.iccluster.epfl.ch:8088/proxy/application_1589299642358_2570/\">Link</a></td><td><a target=\"_blank\" href=\"http://iccluster066.iccluster.epfl.ch:8042/node/containerlogs/container_e06_1589299642358_2570_01_000001/ebouille\">Link</a></td><td></td></tr><tr><td>8051</td><td>application_1589299642358_2571</td><td>pyspark</td><td>idle</td><td><a target=\"_blank\" href=\"http://iccluster044.iccluster.epfl.ch:8088/proxy/application_1589299642358_2571/\">Link</a></td><td><a target=\"_blank\" href=\"http://iccluster072.iccluster.epfl.ch:8042/node/containerlogs/container_e06_1589299642358_2571_01_000001/ebouille\">Link</a></td><td></td></tr><tr><td>8052</td><td>application_1589299642358_2572</td><td>pyspark</td><td>idle</td><td><a target=\"_blank\" href=\"http://iccluster044.iccluster.epfl.ch:8088/proxy/application_1589299642358_2572/\">Link</a></td><td><a target=\"_blank\" href=\"http://iccluster068.iccluster.epfl.ch:8042/node/containerlogs/container_e06_1589299642358_2572_01_000001/ebouille\">Link</a></td><td></td></tr><tr><td>8063</td><td>application_1589299642358_2587</td><td>pyspark</td><td>idle</td><td><a target=\"_blank\" href=\"http://iccluster044.iccluster.epfl.ch:8088/proxy/application_1589299642358_2587/\">Link</a></td><td><a target=\"_blank\" href=\"http://iccluster069.iccluster.epfl.ch:8042/node/containerlogs/container_e06_1589299642358_2587_01_000001/ebouille\">Link</a></td><td></td></tr><tr><td>8066</td><td>application_1589299642358_2590</td><td>pyspark</td><td>idle</td><td><a target=\"_blank\" href=\"http://iccluster044.iccluster.epfl.ch:8088/proxy/application_1589299642358_2590/\">Link</a></td><td><a target=\"_blank\" href=\"http://iccluster067.iccluster.epfl.ch:8042/node/containerlogs/container_e06_1589299642358_2590_01_000001/ebouille\">Link</a></td><td></td></tr><tr><td>8067</td><td>application_1589299642358_2591</td><td>pyspark</td><td>idle</td><td><a target=\"_blank\" href=\"http://iccluster044.iccluster.epfl.ch:8088/proxy/application_1589299642358_2591/\">Link</a></td><td><a target=\"_blank\" href=\"http://iccluster066.iccluster.epfl.ch:8042/node/containerlogs/container_e06_1589299642358_2591_01_000001/ebouille\">Link</a></td><td></td></tr><tr><td>8069</td><td>application_1589299642358_2593</td><td>pyspark</td><td>idle</td><td><a target=\"_blank\" href=\"http://iccluster044.iccluster.epfl.ch:8088/proxy/application_1589299642358_2593/\">Link</a></td><td><a target=\"_blank\" href=\"http://iccluster070.iccluster.epfl.ch:8042/node/containerlogs/container_e06_1589299642358_2593_01_000001/ebouille\">Link</a></td><td></td></tr><tr><td>8070</td><td>application_1589299642358_2594</td><td>pyspark</td><td>idle</td><td><a target=\"_blank\" href=\"http://iccluster044.iccluster.epfl.ch:8088/proxy/application_1589299642358_2594/\">Link</a></td><td><a target=\"_blank\" href=\"http://iccluster067.iccluster.epfl.ch:8042/node/containerlogs/container_e06_1589299642358_2594_01_000001/ebouille\">Link</a></td><td></td></tr><tr><td>8073</td><td>application_1589299642358_2597</td><td>pyspark</td><td>idle</td><td><a target=\"_blank\" href=\"http://iccluster044.iccluster.epfl.ch:8088/proxy/application_1589299642358_2597/\">Link</a></td><td><a target=\"_blank\" href=\"http://iccluster065.iccluster.epfl.ch:8042/node/containerlogs/container_e06_1589299642358_2597_01_000001/ebouille\">Link</a></td><td></td></tr><tr><td>8074</td><td>application_1589299642358_2598</td><td>pyspark</td><td>idle</td><td><a target=\"_blank\" href=\"http://iccluster044.iccluster.epfl.ch:8088/proxy/application_1589299642358_2598/\">Link</a></td><td><a target=\"_blank\" href=\"http://iccluster069.iccluster.epfl.ch:8042/node/containerlogs/container_e06_1589299642358_2598_01_000001/ebouille\">Link</a></td><td></td></tr><tr><td>8075</td><td>application_1589299642358_2599</td><td>pyspark</td><td>busy</td><td><a target=\"_blank\" href=\"http://iccluster044.iccluster.epfl.ch:8088/proxy/application_1589299642358_2599/\">Link</a></td><td><a target=\"_blank\" href=\"http://iccluster071.iccluster.epfl.ch:8042/node/containerlogs/container_e06_1589299642358_2599_01_000001/ebouille\">Link</a></td><td></td></tr><tr><td>8076</td><td>application_1589299642358_2600</td><td>pyspark</td><td>busy</td><td><a target=\"_blank\" href=\"http://iccluster044.iccluster.epfl.ch:8088/proxy/application_1589299642358_2600/\">Link</a></td><td><a target=\"_blank\" href=\"http://iccluster070.iccluster.epfl.ch:8042/node/containerlogs/container_e06_1589299642358_2600_01_000001/ebouille\">Link</a></td><td></td></tr><tr><td>8078</td><td>application_1589299642358_2602</td><td>pyspark</td><td>idle</td><td><a target=\"_blank\" href=\"http://iccluster044.iccluster.epfl.ch:8088/proxy/application_1589299642358_2602/\">Link</a></td><td><a target=\"_blank\" href=\"http://iccluster072.iccluster.epfl.ch:8042/node/containerlogs/container_e06_1589299642358_2602_01_000001/ebouille\">Link</a></td><td></td></tr><tr><td>8079</td><td>application_1589299642358_2603</td><td>pyspark</td><td>idle</td><td><a target=\"_blank\" href=\"http://iccluster044.iccluster.epfl.ch:8088/proxy/application_1589299642358_2603/\">Link</a></td><td><a target=\"_blank\" href=\"http://iccluster065.iccluster.epfl.ch:8042/node/containerlogs/container_e06_1589299642358_2603_01_000001/ebouille\">Link</a></td><td></td></tr><tr><td>8080</td><td>application_1589299642358_2604</td><td>pyspark</td><td>idle</td><td><a target=\"_blank\" href=\"http://iccluster044.iccluster.epfl.ch:8088/proxy/application_1589299642358_2604/\">Link</a></td><td><a target=\"_blank\" href=\"http://iccluster067.iccluster.epfl.ch:8042/node/containerlogs/container_e06_1589299642358_2604_01_000001/ebouille\">Link</a></td><td></td></tr><tr><td>8081</td><td>application_1589299642358_2605</td><td>pyspark</td><td>idle</td><td><a target=\"_blank\" href=\"http://iccluster044.iccluster.epfl.ch:8088/proxy/application_1589299642358_2605/\">Link</a></td><td><a target=\"_blank\" href=\"http://iccluster072.iccluster.epfl.ch:8042/node/containerlogs/container_e06_1589299642358_2605_01_000001/ebouille\">Link</a></td><td></td></tr><tr><td>8082</td><td>application_1589299642358_2606</td><td>pyspark</td><td>idle</td><td><a target=\"_blank\" href=\"http://iccluster044.iccluster.epfl.ch:8088/proxy/application_1589299642358_2606/\">Link</a></td><td><a target=\"_blank\" href=\"http://iccluster072.iccluster.epfl.ch:8042/node/containerlogs/container_e06_1589299642358_2606_01_000001/ebouille\">Link</a></td><td>✔</td></tr></table>"
      ],
      "text/plain": [
       "<IPython.core.display.HTML object>"
      ]
     },
     "metadata": {},
     "output_type": "display_data"
    }
   ],
   "source": [
    "%%info"
   ]
  },
  {
   "cell_type": "code",
   "execution_count": 64,
   "metadata": {},
   "outputs": [
    {
     "data": {
      "application/vnd.jupyter.widget-view+json": {
       "model_id": "",
       "version_major": 2,
       "version_minor": 0
      },
      "text/plain": [
       "FloatProgress(value=0.0, bar_style='info', description='Progress:', layout=Layout(height='25px', width='50%'),…"
      ]
     },
     "metadata": {},
     "output_type": "display_data"
    }
   ],
   "source": [
    "import pyspark.sql.functions as f"
   ]
  },
  {
   "cell_type": "code",
   "execution_count": 75,
   "metadata": {},
   "outputs": [
    {
     "data": {
      "application/vnd.jupyter.widget-view+json": {
       "model_id": "",
       "version_major": 2,
       "version_minor": 0
      },
      "text/plain": [
       "FloatProgress(value=0.0, bar_style='info', description='Progress:', layout=Layout(height='25px', width='50%'),…"
      ]
     },
     "metadata": {},
     "output_type": "display_data"
    }
   ],
   "source": [
    "sbb = spark.read.orc('/data/sbb/orc/istdaten').sample(0.0001).cache()"
   ]
  },
  {
   "cell_type": "code",
   "execution_count": 76,
   "metadata": {},
   "outputs": [
    {
     "data": {
      "application/vnd.jupyter.widget-view+json": {
       "model_id": "",
       "version_major": 2,
       "version_minor": 0
      },
      "text/plain": [
       "FloatProgress(value=0.0, bar_style='info', description='Progress:', layout=Layout(height='25px', width='50%'),…"
      ]
     },
     "metadata": {},
     "output_type": "display_data"
    },
    {
     "name": "stdout",
     "output_type": "stream",
     "text": [
      "+-----------+----------------+------------+-------------+-------------------------------+----------+---------+-----------+---------+-------------------+--------------+-------------+-------+-----------------+----------------+-------------------+------------------+------------+-----------+------------------+-------------+\n",
      "|betriebstag|fahrt_bezeichner|betreiber_id|betreiber_abk|betreiber_name                 |produkt_id|linien_id|linien_text|umlauf_id|verkehrsmittel_text|zusatzfahrt_tf|faellt_aus_tf|bpuic  |haltestellen_name|ankunftszeit    |an_prognose        |an_prognose_status|abfahrtszeit|ab_prognose|ab_prognose_status|durchfahrt_tf|\n",
      "+-----------+----------------+------------+-------------+-------------------------------+----------+---------+-----------+---------+-------------------+--------------+-------------+-------+-----------------+----------------+-------------------+------------------+------------+-----------+------------------+-------------+\n",
      "|03.09.2018 |85:11:11227:003 |85:11       |SBB          |Schweizerische Bundesbahnen SBB|Zug       |11227    |R          |         |R                  |false         |false        |8501008|Genève           |03.09.2018 09:38|03.09.2018 09:33:21|REAL              |            |           |PROGNOSE          |false        |\n",
      "+-----------+----------------+------------+-------------+-------------------------------+----------+---------+-----------+---------+-------------------+--------------+-------------+-------+-----------------+----------------+-------------------+------------------+------------+-----------+------------------+-------------+\n",
      "only showing top 1 row"
     ]
    }
   ],
   "source": [
    "sbb.show(1, False)"
   ]
  },
  {
   "cell_type": "code",
   "execution_count": 77,
   "metadata": {},
   "outputs": [
    {
     "data": {
      "application/vnd.jupyter.widget-view+json": {
       "model_id": "",
       "version_major": 2,
       "version_minor": 0
      },
      "text/plain": [
       "FloatProgress(value=0.0, bar_style='info', description='Progress:', layout=Layout(height='25px', width='50%'),…"
      ]
     },
     "metadata": {},
     "output_type": "display_data"
    }
   ],
   "source": [
    "sbb_filtered = (\n",
    "    sbb\n",
    "    \n",
    "    # filter out any trips that we are not interested in\n",
    "    .where(sbb.zusatzfahrt_tf == 'false')\n",
    "    .where(sbb.faellt_aus_tf == 'false')\n",
    "    .where(sbb.durchfahrt_tf == 'false')\n",
    "    .where(sbb.ankunftszeit.isNotNull())\n",
    "    .where(sbb.an_prognose.isNotNull())\n",
    "    .where(sbb.an_prognose_status.isin('REAL', 'PROGNOSE'))\n",
    "    .where(sbb.betreiber_id.substr(0, 2) == '85')\n",
    "    \n",
    "    # convert produkt_id to lowercase\n",
    "    .withColumn('produkt_id', f.lower(sbb.produkt_id))\n",
    "    .where(f.col('produkt_id').isin('bus', 'tram', 'zug'))\n",
    "    \n",
    "    #\n",
    "    .withColumn(\n",
    "        'id',\n",
    "        f.when(f.col('produkt_id') == 'zug', f.concat_ws(':', sbb.betreiber_id, sbb.linien_id))\n",
    "        .otherwise(f.concat_ws(':', sbb.betreiber_id, sbb.linien_text))\n",
    "    )\n",
    "    \n",
    "    # calculate delay\n",
    "    .withColumn('ankunftszeit_ts', f.unix_timestamp(f.col('ankunftszeit'), \"dd.MM.yyyy HH:mm\").cast('long'))\n",
    "    .withColumn('an_prognose_ts', f.unix_timestamp(f.col('an_prognose'), \"dd.MM.yyyy HH:mm:ss\").cast('long'))\n",
    "    .withColumn('delay', f.col('an_prognose_ts') - f.col('ankunftszeit_ts'))\n",
    "    .where(f.col('delay').isNotNull())\n",
    "    \n",
    "    # sometimes there are more multiple REAL and PROGNOSE values for the exactly same trip on the same day\n",
    "    # and time. There is no way which one is the closest to the actual arrival time of the train so we \n",
    "    # just drop all duplicates and keep one \"randomly\".\n",
    "    \n",
    "    .select(['betriebstag', 'id', 'produkt_id', 'linien_text', 'bpuic', 'ankunftszeit', 'an_prognose_status', 'delay'])\n",
    "    .dropDuplicates(['betriebstag', 'id', 'bpuic', 'ankunftszeit', 'an_prognose_status'])\n",
    ")"
   ]
  },
  {
   "cell_type": "code",
   "execution_count": 79,
   "metadata": {},
   "outputs": [
    {
     "data": {
      "application/vnd.jupyter.widget-view+json": {
       "model_id": "",
       "version_major": 2,
       "version_minor": 0
      },
      "text/plain": [
       "FloatProgress(value=0.0, bar_style='info', description='Progress:', layout=Layout(height='25px', width='50%'),…"
      ]
     },
     "metadata": {},
     "output_type": "display_data"
    }
   ],
   "source": [
    "sbb_filtered.write.format('orc').save('/user/datavirus/sbb_filtered.orc')"
   ]
  },
  {
   "cell_type": "code",
   "execution_count": 81,
   "metadata": {},
   "outputs": [
    {
     "data": {
      "application/vnd.jupyter.widget-view+json": {
       "model_id": "",
       "version_major": 2,
       "version_minor": 0
      },
      "text/plain": [
       "FloatProgress(value=0.0, bar_style='info', description='Progress:', layout=Layout(height='25px', width='50%'),…"
      ]
     },
     "metadata": {},
     "output_type": "display_data"
    }
   ],
   "source": [
    "sbb_filtered = spark.read.orc('/user/datavirus/sbb_filtered.orc')"
   ]
  },
  {
   "cell_type": "code",
   "execution_count": 20,
   "metadata": {},
   "outputs": [
    {
     "data": {
      "application/vnd.jupyter.widget-view+json": {
       "model_id": "",
       "version_major": 2,
       "version_minor": 0
      },
      "text/plain": [
       "FloatProgress(value=0.0, bar_style='info', description='Progress:', layout=Layout(height='25px', width='50%'),…"
      ]
     },
     "metadata": {},
     "output_type": "display_data"
    }
   ],
   "source": [
    "# sbb = spark.read.orc('/user/datavirus/sbb.orc')"
   ]
  },
  {
   "cell_type": "code",
   "execution_count": 82,
   "metadata": {},
   "outputs": [
    {
     "data": {
      "application/vnd.jupyter.widget-view+json": {
       "model_id": "",
       "version_major": 2,
       "version_minor": 0
      },
      "text/plain": [
       "FloatProgress(value=0.0, bar_style='info', description='Progress:', layout=Layout(height='25px', width='50%'),…"
      ]
     },
     "metadata": {},
     "output_type": "display_data"
    }
   ],
   "source": [
    "# remove all stations that are not in 15km radius around zurich \n",
    "\n",
    "stations = spark.read.csv(\"../data/zurich_stations_ids.csv\")\n",
    "stations = (\n",
    "    stations\n",
    "    .select(stations._c0.alias('stop_id'))\n",
    ")\n",
    "stop_ids = [row['stop_id'] for row in stations.collect()]\n",
    "stop_ids = spark.sparkContext.broadcast(stop_ids)\n",
    "\n",
    "\n",
    "sbb_zurich = (\n",
    "    sbb_filtered.\n",
    "    where(sbb_filtered.bpuic.isin(stop_ids.value))\n",
    ")"
   ]
  },
  {
   "cell_type": "code",
   "execution_count": 83,
   "metadata": {},
   "outputs": [
    {
     "data": {
      "application/vnd.jupyter.widget-view+json": {
       "model_id": "",
       "version_major": 2,
       "version_minor": 0
      },
      "text/plain": [
       "FloatProgress(value=0.0, bar_style='info', description='Progress:', layout=Layout(height='25px', width='50%'),…"
      ]
     },
     "metadata": {},
     "output_type": "display_data"
    }
   ],
   "source": [
    "sbb_zurich.write.format('orc').save('/user/datavirus/sbb_zurich.orc', mode='overwrite')"
   ]
  },
  {
   "cell_type": "code",
   "execution_count": 115,
   "metadata": {},
   "outputs": [
    {
     "data": {
      "application/vnd.jupyter.widget-view+json": {
       "model_id": "",
       "version_major": 2,
       "version_minor": 0
      },
      "text/plain": [
       "FloatProgress(value=0.0, bar_style='info', description='Progress:', layout=Layout(height='25px', width='50%'),…"
      ]
     },
     "metadata": {},
     "output_type": "display_data"
    }
   ],
   "source": [
    "delays = (\n",
    "    sbb_zurich\n",
    "    \n",
    "    # for each trip we only kept one REAL and one PROGNOSE row\n",
    "    # now we aggregate them into a single same row\n",
    "    .groupBy(['id', 'ankunftszeit', 'bpuic'])\n",
    "    .agg(\n",
    "        f.first('produkt_id').alias('produkt_id'),\n",
    "        f.first('linien_text').alias('linien_text'),\n",
    "        f.first(f.when(f.col('an_prognose_status') == 'REAL', f.col('delay')).otherwise(None)).alias('real_delay'),\n",
    "        f.first(f.when(f.col('an_prognose_status') == 'PROGNOSE', f.col('delay')).otherwise(None)).alias('prognose_delay'),\n",
    "    )\n",
    "    \n",
    "    # if there is REAL delay we select it, otherwise we take the PROGNOSE delay \n",
    "    .withColumn('delay', f.when(f.col('real_delay').isNotNull(), f.col('real_delay')).otherwise(f.col('prognose_delay')))\n",
    "    .withColumn('is_delayed', f.when(f.col('delay') > 0, 1).otherwise(0))\n",
    "    \n",
    "    # create extra columns that contain time without date\n",
    "    .withColumn('ankunftszeit_minute', f.col('ankunftszeit').substr(12, 5))\n",
    "    .withColumn('ankunftszeit_hour', f.col('ankunftszeit').substr(12, 2))\n",
    "    .cache()\n",
    ")"
   ]
  },
  {
   "cell_type": "code",
   "execution_count": 117,
   "metadata": {},
   "outputs": [
    {
     "data": {
      "application/vnd.jupyter.widget-view+json": {
       "model_id": "",
       "version_major": 2,
       "version_minor": 0
      },
      "text/plain": [
       "FloatProgress(value=0.0, bar_style='info', description='Progress:', layout=Layout(height='25px', width='50%'),…"
      ]
     },
     "metadata": {},
     "output_type": "display_data"
    }
   ],
   "source": [
    "id_probability = (\n",
    "    delays\n",
    "    \n",
    "    .groupBy(['id', 'ankunftszeit_minute', 'bpuic'])\n",
    "    \n",
    "    .agg(\n",
    "        f.first('produkt_id').alias('produkt_id'),\n",
    "        f.first('linien_text').alias('linien_text'),\n",
    "        f.mean(delays.is_delayed).alias('id_delay_probability'),\n",
    "        (1.0 / f.mean(f.when(delays.is_delayed == 1, f.when(delays.delay > 30*60, 30*60).otherwise(delays.delay)))).alias('id_delay_parameter'),\n",
    "        f.count(delays.delay).alias('id_n')\n",
    "    )\n",
    ")"
   ]
  },
  {
   "cell_type": "code",
   "execution_count": 118,
   "metadata": {},
   "outputs": [
    {
     "data": {
      "application/vnd.jupyter.widget-view+json": {
       "model_id": "",
       "version_major": 2,
       "version_minor": 0
      },
      "text/plain": [
       "FloatProgress(value=0.0, bar_style='info', description='Progress:', layout=Layout(height='25px', width='50%'),…"
      ]
     },
     "metadata": {},
     "output_type": "display_data"
    }
   ],
   "source": [
    "id_probability.write.format('orc').save('/user/datavirus/id_probability.orc', mode='overwrite')"
   ]
  },
  {
   "cell_type": "code",
   "execution_count": 119,
   "metadata": {},
   "outputs": [
    {
     "data": {
      "application/vnd.jupyter.widget-view+json": {
       "model_id": "",
       "version_major": 2,
       "version_minor": 0
      },
      "text/plain": [
       "FloatProgress(value=0.0, bar_style='info', description='Progress:', layout=Layout(height='25px', width='50%'),…"
      ]
     },
     "metadata": {},
     "output_type": "display_data"
    }
   ],
   "source": [
    "id_probability = spark.read.orc('/user/datavirus/id_probability.orc')"
   ]
  },
  {
   "cell_type": "code",
   "execution_count": 120,
   "metadata": {},
   "outputs": [
    {
     "data": {
      "application/vnd.jupyter.widget-view+json": {
       "model_id": "",
       "version_major": 2,
       "version_minor": 0
      },
      "text/plain": [
       "FloatProgress(value=0.0, bar_style='info', description='Progress:', layout=Layout(height='25px', width='50%'),…"
      ]
     },
     "metadata": {},
     "output_type": "display_data"
    }
   ],
   "source": [
    "line_probability = (\n",
    "    delays\n",
    "    \n",
    "    .groupBy(['id', 'ankunftszeit_hour'])\n",
    "    \n",
    "    .agg(\n",
    "        f.mean(delays.is_delayed).alias('line_delay_probability'),\n",
    "        (1.0 / f.mean(f.when(delays.is_delayed == 1, f.when(delays.delay > 30*60, 30*60).otherwise(delays.delay)))).alias('line_delay_parameter'),\n",
    "        f.count(delays.delay).alias('line_n')\n",
    "    )\n",
    "    \n",
    ")"
   ]
  },
  {
   "cell_type": "code",
   "execution_count": 121,
   "metadata": {},
   "outputs": [
    {
     "data": {
      "application/vnd.jupyter.widget-view+json": {
       "model_id": "",
       "version_major": 2,
       "version_minor": 0
      },
      "text/plain": [
       "FloatProgress(value=0.0, bar_style='info', description='Progress:', layout=Layout(height='25px', width='50%'),…"
      ]
     },
     "metadata": {},
     "output_type": "display_data"
    }
   ],
   "source": [
    "line_probability.write.format('orc').save('/user/datavirus/line_probability.orc', mode='overwrite')"
   ]
  },
  {
   "cell_type": "code",
   "execution_count": 122,
   "metadata": {},
   "outputs": [
    {
     "data": {
      "application/vnd.jupyter.widget-view+json": {
       "model_id": "",
       "version_major": 2,
       "version_minor": 0
      },
      "text/plain": [
       "FloatProgress(value=0.0, bar_style='info', description='Progress:', layout=Layout(height='25px', width='50%'),…"
      ]
     },
     "metadata": {},
     "output_type": "display_data"
    }
   ],
   "source": [
    "line_probability = spark.read.orc('/user/datavirus/line_probability.orc')"
   ]
  },
  {
   "cell_type": "code",
   "execution_count": 123,
   "metadata": {},
   "outputs": [
    {
     "data": {
      "application/vnd.jupyter.widget-view+json": {
       "model_id": "",
       "version_major": 2,
       "version_minor": 0
      },
      "text/plain": [
       "FloatProgress(value=0.0, bar_style='info', description='Progress:', layout=Layout(height='25px', width='50%'),…"
      ]
     },
     "metadata": {},
     "output_type": "display_data"
    }
   ],
   "source": [
    "transport_probability = (\n",
    "    delays\n",
    "    \n",
    "    .groupBy(['ankunftszeit_hour', 'produkt_id'])\n",
    "    \n",
    "    .agg(\n",
    "        f.mean(delays.is_delayed).alias('transport_delay_probability'),\n",
    "        (1.0 / f.mean(f.when(delays.is_delayed == 1, f.when(delays.delay > 30*60, 30*60).otherwise(delays.delay)))).alias('transport_delay_parameter'),\n",
    "        f.count(delays.delay).alias('transport_n')\n",
    "    )\n",
    ")"
   ]
  },
  {
   "cell_type": "code",
   "execution_count": 124,
   "metadata": {},
   "outputs": [
    {
     "data": {
      "application/vnd.jupyter.widget-view+json": {
       "model_id": "",
       "version_major": 2,
       "version_minor": 0
      },
      "text/plain": [
       "FloatProgress(value=0.0, bar_style='info', description='Progress:', layout=Layout(height='25px', width='50%'),…"
      ]
     },
     "metadata": {},
     "output_type": "display_data"
    }
   ],
   "source": [
    "transport_probability.write.format('orc').save('/user/datavirus/transport_probability.orc', mode='overwrite')"
   ]
  },
  {
   "cell_type": "code",
   "execution_count": 125,
   "metadata": {},
   "outputs": [
    {
     "data": {
      "application/vnd.jupyter.widget-view+json": {
       "model_id": "",
       "version_major": 2,
       "version_minor": 0
      },
      "text/plain": [
       "FloatProgress(value=0.0, bar_style='info', description='Progress:', layout=Layout(height='25px', width='50%'),…"
      ]
     },
     "metadata": {},
     "output_type": "display_data"
    }
   ],
   "source": [
    "transport_probability = spark.read.orc('/user/datavirus/transport_probability.orc')"
   ]
  },
  {
   "cell_type": "code",
   "execution_count": 135,
   "metadata": {},
   "outputs": [
    {
     "data": {
      "application/vnd.jupyter.widget-view+json": {
       "model_id": "",
       "version_major": 2,
       "version_minor": 0
      },
      "text/plain": [
       "FloatProgress(value=0.0, bar_style='info', description='Progress:', layout=Layout(height='25px', width='50%'),…"
      ]
     },
     "metadata": {},
     "output_type": "display_data"
    },
    {
     "name": "stdout",
     "output_type": "stream",
     "text": [
      "+-----------------+----------+---------------------------+-------------------------+-----------+\n",
      "|ankunftszeit_hour|produkt_id|transport_delay_probability|transport_delay_parameter|transport_n|\n",
      "+-----------------+----------+---------------------------+-------------------------+-----------+\n",
      "|11               |bus       |0.9202279202279202         |0.011397519363432664     |702        |\n",
      "|22               |bus       |0.9203747072599532         |0.013749912532363025     |427        |\n",
      "|16               |tram      |0.8207282913165266         |0.011897993990091773     |357        |\n",
      "|02               |zug       |1.0                        |0.010230179028132993     |4          |\n",
      "|19               |zug       |0.8148148148148148         |0.01056422569027611      |54         |\n",
      "+-----------------+----------+---------------------------+-------------------------+-----------+\n",
      "only showing top 5 rows"
     ]
    }
   ],
   "source": [
    "transport_probability.show(5, False)"
   ]
  },
  {
   "cell_type": "code",
   "execution_count": 137,
   "metadata": {},
   "outputs": [
    {
     "data": {
      "application/vnd.jupyter.widget-view+json": {
       "model_id": "",
       "version_major": 2,
       "version_minor": 0
      },
      "text/plain": [
       "FloatProgress(value=0.0, bar_style='info', description='Progress:', layout=Layout(height='25px', width='50%'),…"
      ]
     },
     "metadata": {},
     "output_type": "display_data"
    }
   ],
   "source": [
    "full_probability = (\n",
    "    id_probability\n",
    "    .withColumn('ankunftszeit_hour', f.col('ankunftszeit_minute').substr(0, 2))\n",
    "    .join(f.broadcast(line_probability), ['id', 'ankunftszeit_hour'])\n",
    "    .join(f.broadcast(transport_probability), ['produkt_id', 'ankunftszeit_hour'])\n",
    "    .select(\n",
    "        id_probability.id,\n",
    "        id_probability.ankunftszeit_minute.alias('arrival_time_minute'),\n",
    "        id_probability.bpuic.alias('station_id'),\n",
    "        id_probability.produkt_id.alias('transport_type'),\n",
    "        id_probability.linien_text.alias('line_text'),\n",
    "        id_probability.id_delay_probability,\n",
    "        id_probability.id_delay_parameter,\n",
    "        id_probability.id_n,\n",
    "        line_probability.line_delay_probability,\n",
    "        line_probability.line_delay_parameter,\n",
    "        line_probability.line_n,\n",
    "        transport_probability.transport_delay_probability,\n",
    "        transport_probability.transport_delay_parameter,\n",
    "        transport_probability.transport_n,\n",
    "    )\n",
    ")"
   ]
  },
  {
   "cell_type": "code",
   "execution_count": 138,
   "metadata": {},
   "outputs": [
    {
     "data": {
      "application/vnd.jupyter.widget-view+json": {
       "model_id": "",
       "version_major": 2,
       "version_minor": 0
      },
      "text/plain": [
       "FloatProgress(value=0.0, bar_style='info', description='Progress:', layout=Layout(height='25px', width='50%'),…"
      ]
     },
     "metadata": {},
     "output_type": "display_data"
    }
   ],
   "source": [
    "full_probability.write.format('orc').save('/user/datavirus/full_probability.orc', mode='overwrite')"
   ]
  },
  {
   "cell_type": "code",
   "execution_count": 139,
   "metadata": {},
   "outputs": [
    {
     "data": {
      "application/vnd.jupyter.widget-view+json": {
       "model_id": "",
       "version_major": 2,
       "version_minor": 0
      },
      "text/plain": [
       "FloatProgress(value=0.0, bar_style='info', description='Progress:', layout=Layout(height='25px', width='50%'),…"
      ]
     },
     "metadata": {},
     "output_type": "display_data"
    }
   ],
   "source": [
    "full_probability = spark.read.orc('/user/datavirus/full_probability.orc')"
   ]
  },
  {
   "cell_type": "code",
   "execution_count": 140,
   "metadata": {},
   "outputs": [
    {
     "data": {
      "application/vnd.jupyter.widget-view+json": {
       "model_id": "",
       "version_major": 2,
       "version_minor": 0
      },
      "text/plain": [
       "FloatProgress(value=0.0, bar_style='info', description='Progress:', layout=Layout(height='25px', width='50%'),…"
      ]
     },
     "metadata": {},
     "output_type": "display_data"
    },
    {
     "name": "stdout",
     "output_type": "stream",
     "text": [
      "+-----------+-------------------+----------+--------------+---------+--------------------+--------------------+----+----------------------+--------------------+------+---------------------------+-------------------------+-----------+\n",
      "|id         |arrival_time_minute|station_id|transport_type|line_text|id_delay_probability|id_delay_parameter  |id_n|line_delay_probability|line_delay_parameter|line_n|transport_delay_probability|transport_delay_parameter|transport_n|\n",
      "+-----------+-------------------+----------+--------------+---------+--------------------+--------------------+----+----------------------+--------------------+------+---------------------------+-------------------------+-----------+\n",
      "|85:11:18991|23:34              |8503312   |zug           |S9       |1.0                 |0.011494252873563218|1   |1.0                   |0.011494252873563218|1     |0.8409090909090909         |0.013663220088626292     |44         |\n",
      "|85:11:734  |20:16              |8503016   |zug           |IC1      |1.0                 |0.020833333333333332|1   |1.0                   |0.020833333333333332|1     |0.8888888888888888         |0.01343408900083963      |54         |\n",
      "|85:3849:10 |05:21              |8591063   |tram          |10       |1.0                 |0.5                 |1   |0.7894736842105263    |0.018427518427518427|19    |0.845360824742268          |0.01970916957096503      |194        |\n",
      "|85:3849:10 |08:47              |8591406   |tram          |10       |1.0                 |0.014492753623188406|1   |0.8387096774193549    |0.010015408320493066|31    |0.8444444444444444         |0.011429430784269494     |360        |\n",
      "|85:3849:10 |22:31              |8591073   |tram          |10       |1.0                 |0.005050505050505051|1   |0.8181818181818182    |0.013996889580093312|11    |0.8347457627118644         |0.013133333333333332     |236        |\n",
      "+-----------+-------------------+----------+--------------+---------+--------------------+--------------------+----+----------------------+--------------------+------+---------------------------+-------------------------+-----------+\n",
      "only showing top 5 rows"
     ]
    }
   ],
   "source": [
    "full_probability.show(5, False)"
   ]
  },
  {
   "cell_type": "code",
   "execution_count": 141,
   "metadata": {},
   "outputs": [
    {
     "data": {
      "application/vnd.jupyter.widget-view+json": {
       "model_id": "",
       "version_major": 2,
       "version_minor": 0
      },
      "text/plain": [
       "FloatProgress(value=0.0, bar_style='info', description='Progress:', layout=Layout(height='25px', width='50%'),…"
      ]
     },
     "metadata": {},
     "output_type": "display_data"
    }
   ],
   "source": [
    "probability = (\n",
    "    full_probability\n",
    "    .select(\n",
    "        full_probability.id,\n",
    "        full_probability.arrival_time_minute,\n",
    "        full_probability.station_id,\n",
    "        full_probability.transport_type,\n",
    "        full_probability.line_text,\n",
    "        (\n",
    "            f.when(full_probability.id_n > 500, full_probability.id_delay_probability)\n",
    "            .otherwise(\n",
    "                f.when(full_probability.line_n > 500, full_probability.line_delay_probability)\n",
    "                .otherwise(full_probability.transport_delay_probability)\n",
    "            )\n",
    "        ).alias('delay_probability'),\n",
    "        (\n",
    "            f.when(full_probability.id_n > 500, full_probability.id_delay_parameter)\n",
    "            .otherwise(\n",
    "                f.when(full_probability.line_n > 500, full_probability.line_delay_parameter)\n",
    "                .otherwise(full_probability.transport_delay_parameter)\n",
    "            )\n",
    "        ).alias('delay_parameter')  \n",
    "    )\n",
    ")"
   ]
  },
  {
   "cell_type": "code",
   "execution_count": 142,
   "metadata": {},
   "outputs": [
    {
     "data": {
      "application/vnd.jupyter.widget-view+json": {
       "model_id": "",
       "version_major": 2,
       "version_minor": 0
      },
      "text/plain": [
       "FloatProgress(value=0.0, bar_style='info', description='Progress:', layout=Layout(height='25px', width='50%'),…"
      ]
     },
     "metadata": {},
     "output_type": "display_data"
    }
   ],
   "source": [
    "probability.write.format('orc').save('/user/datavirus/probability.orc', mode='overwrite')"
   ]
  },
  {
   "cell_type": "code",
   "execution_count": 143,
   "metadata": {},
   "outputs": [
    {
     "data": {
      "application/vnd.jupyter.widget-view+json": {
       "model_id": "",
       "version_major": 2,
       "version_minor": 0
      },
      "text/plain": [
       "FloatProgress(value=0.0, bar_style='info', description='Progress:', layout=Layout(height='25px', width='50%'),…"
      ]
     },
     "metadata": {},
     "output_type": "display_data"
    }
   ],
   "source": [
    "probability = spark.read.orc('/user/datavirus/probability.orc')"
   ]
  },
  {
   "cell_type": "code",
   "execution_count": 144,
   "metadata": {},
   "outputs": [
    {
     "data": {
      "application/vnd.jupyter.widget-view+json": {
       "model_id": "",
       "version_major": 2,
       "version_minor": 0
      },
      "text/plain": [
       "FloatProgress(value=0.0, bar_style='info', description='Progress:', layout=Layout(height='25px', width='50%'),…"
      ]
     },
     "metadata": {},
     "output_type": "display_data"
    },
    {
     "name": "stdout",
     "output_type": "stream",
     "text": [
      "+-----------+-------------------+----------+--------------+---------+------------------+--------------------+\n",
      "|id         |arrival_time_minute|station_id|transport_type|line_text|delay_probability |delay_parameter     |\n",
      "+-----------+-------------------+----------+--------------+---------+------------------+--------------------+\n",
      "|85:11:18991|23:34              |8503312   |zug           |S9       |0.8409090909090909|0.013663220088626292|\n",
      "|85:11:734  |20:16              |8503016   |zug           |IC1      |0.8888888888888888|0.01343408900083963 |\n",
      "|85:3849:10 |05:21              |8591063   |tram          |10       |0.845360824742268 |0.01970916957096503 |\n",
      "|85:3849:10 |08:47              |8591406   |tram          |10       |0.8444444444444444|0.011429430784269494|\n",
      "|85:3849:10 |22:31              |8591073   |tram          |10       |0.8347457627118644|0.013133333333333332|\n",
      "|85:3849:11 |08:26              |8591299   |tram          |11       |0.8444444444444444|0.011429430784269494|\n",
      "|85:3849:11 |11:35              |8591053   |tram          |11       |0.8263305322128851|0.016544220739162133|\n",
      "|85:3849:11 |18:28              |8591246   |tram          |11       |0.8015873015873016|0.012164766340131684|\n",
      "|85:3849:11 |18:54              |8591180   |tram          |11       |0.8015873015873016|0.012164766340131684|\n",
      "|85:3849:12 |07:03              |8587655   |tram          |12       |0.7771260997067448|0.014376390169804156|\n",
      "|85:3849:12 |11:58              |8591049   |tram          |12       |0.8263305322128851|0.016544220739162133|\n",
      "|85:3849:12 |15:40              |8594198   |tram          |12       |0.8621621621621621|0.011407116037904523|\n",
      "|85:3849:13 |04:59              |8591082   |tram          |13       |0.7777777777777778|0.009708737864077669|\n",
      "|85:3849:13 |05:10              |8576240   |tram          |13       |0.845360824742268 |0.01970916957096503 |\n",
      "|85:3849:13 |09:42              |8591282   |tram          |13       |0.8590604026845637|0.015460804444981277|\n",
      "|85:3849:14 |06:29              |8591193   |tram          |14       |0.8270440251572327|0.015859615268648618|\n",
      "|85:3849:14 |14:23              |8591367   |tram          |14       |0.8795811518324608|0.012392579205547155|\n",
      "|85:3849:14 |16:19              |8591071   |tram          |14       |0.8207282913165266|0.011897993990091773|\n",
      "|85:3849:14 |18:40              |8591262   |tram          |14       |0.8015873015873016|0.012164766340131684|\n",
      "|85:3849:15 |06:32              |8588078   |tram          |15       |0.8270440251572327|0.015859615268648618|\n",
      "|85:3849:15 |12:51              |8591246   |tram          |15       |0.83008356545961  |0.01511002940878207 |\n",
      "|85:3849:15 |13:22              |8591324   |tram          |15       |0.8471849865951743|0.01444043321299639 |\n",
      "|85:3849:15 |22:28              |8591298   |tram          |15       |0.8347457627118644|0.013133333333333332|\n",
      "|85:3849:17 |05:39              |8591068   |tram          |17       |0.845360824742268 |0.01970916957096503 |\n",
      "|85:3849:17 |07:28              |8591402   |tram          |17       |0.7771260997067448|0.014376390169804156|\n",
      "|85:3849:17 |17:27              |8591402   |tram          |17       |0.84593837535014  |0.01047774346875759 |\n",
      "|85:3849:2  |18:37              |8576200   |tram          |2        |0.8015873015873016|0.012164766340131684|\n",
      "|85:3849:2  |22:02              |8576193   |tram          |2        |0.8347457627118644|0.013133333333333332|\n",
      "|85:3849:3  |10:32              |8591381   |tram          |3        |0.8514285714285714|0.016007735281478298|\n",
      "|85:3849:3  |14:06              |8591218   |tram          |3        |0.8795811518324608|0.012392579205547155|\n",
      "|85:3849:3  |17:50              |8591262   |tram          |3        |0.84593837535014  |0.01047774346875759 |\n",
      "|85:3849:4  |21:58              |8591374   |tram          |4        |0.8923076923076924|0.012981199641897942|\n",
      "|85:3849:5  |16:43              |8591105   |tram          |5        |0.8207282913165266|0.011897993990091773|\n",
      "|85:3849:5  |21:35              |8591230   |tram          |5        |0.8923076923076924|0.012981199641897942|\n",
      "|85:3849:6  |10:03              |8591412   |tram          |6        |0.8514285714285714|0.016007735281478298|\n",
      "|85:3849:6  |21:51              |8588078   |tram          |6        |0.8923076923076924|0.012981199641897942|\n",
      "|85:3849:7  |11:39              |8591324   |tram          |7        |0.8263305322128851|0.016544220739162133|\n",
      "|85:3849:7  |13:15              |8591159   |tram          |7        |0.8471849865951743|0.01444043321299639 |\n",
      "|85:3849:7  |16:13              |8591325   |tram          |7        |0.8207282913165266|0.011897993990091773|\n",
      "|85:3849:7  |17:24              |8591304   |tram          |7        |0.84593837535014  |0.01047774346875759 |\n",
      "|85:3849:7  |18:25              |8591335   |tram          |7        |0.8015873015873016|0.012164766340131684|\n",
      "|85:3849:7  |18:56              |8591335   |tram          |7        |0.8015873015873016|0.012164766340131684|\n",
      "|85:3849:7  |19:04              |8591349   |tram          |7        |0.847953216374269 |0.015363424454333544|\n",
      "|85:3849:7  |22:32              |8591271   |tram          |7        |0.8347457627118644|0.013133333333333332|\n",
      "|85:3849:8  |08:00              |8591299   |tram          |8        |0.8444444444444444|0.011429430784269494|\n",
      "|85:3849:8  |14:44              |8591184   |tram          |8        |0.8795811518324608|0.012392579205547155|\n",
      "|85:3849:8  |20:16              |8591093   |tram          |8        |0.8283828382838284|0.013843693122276764|\n",
      "|85:3849:8  |21:23              |8503059   |tram          |8        |0.8923076923076924|0.012981199641897942|\n",
      "|85:3849:9  |11:26              |8502572   |tram          |9        |0.8263305322128851|0.016544220739162133|\n",
      "|85:3849:9  |11:32              |8591341   |tram          |9        |0.8263305322128851|0.016544220739162133|\n",
      "|85:3849:9  |20:59              |8591349   |tram          |9        |0.8283828382838284|0.013843693122276764|\n",
      "|85:3849:9  |23:14              |8591123   |tram          |9        |0.813953488372093 |0.014370175726720315|\n",
      "|85:773:491 |11:07              |8588094   |bus           |491      |0.9202279202279202|0.011397519363432664|\n",
      "|85:773:650 |22:37              |8503380   |bus           |650      |0.9203747072599532|0.013749912532363025|\n",
      "|85:773:731 |11:17              |8590698   |bus           |731      |0.9202279202279202|0.011397519363432664|\n",
      "|85:773:732 |11:14              |8573234   |bus           |732      |0.9202279202279202|0.011397519363432664|\n",
      "|85:773:734 |10:03              |8573234   |bus           |734      |0.9102990033222591|0.011489192192381072|\n",
      "|85:773:754 |19:00              |8590589   |bus           |754      |0.9079837618403248|0.012480470203109887|\n",
      "|85:773:759 |22:25              |8590554   |bus           |759      |0.9203747072599532|0.013749912532363025|\n",
      "|85:773:759 |22:44              |8590881   |bus           |759      |0.9203747072599532|0.013749912532363025|\n",
      "|85:773:765 |06:57              |8573211   |bus           |765      |0.9049773755656109|0.012909611205542525|\n",
      "|85:773:768 |06:46              |8591063   |bus           |768      |0.9049773755656109|0.012909611205542525|\n",
      "|85:773:771 |12:08              |8590899   |bus           |771      |0.920749279538905 |0.011171523977691918|\n",
      "|85:773:787 |08:03              |8590544   |bus           |787      |0.8962655601659751|0.0101519661601128  |\n",
      "|85:78:12658|23:40              |8503093   |zug           |S4       |0.8409090909090909|0.013663220088626292|\n",
      "|85:78:12898|17:57              |8503088   |zug           |S10      |1.0               |0.0108807226442209  |\n",
      "|85:801:213 |16:49              |8573178   |bus           |213      |0.9138576779026217|0.009376320946854706|\n",
      "|85:801:236 |21:41              |8503690   |bus           |236      |0.9177820267686424|0.01248374512353706 |\n",
      "|85:801:245 |09:59              |8573718   |bus           |245      |0.9273743016759777|0.010926264172055751|\n",
      "|85:801:245 |21:15              |8502572   |bus           |245      |0.9177820267686424|0.01248374512353706 |\n",
      "|85:801:504 |12:15              |8582005   |bus           |504      |0.920749279538905 |0.011171523977691918|\n",
      "|85:801:521 |12:59              |8573228   |bus           |521      |0.920749279538905 |0.011171523977691918|\n",
      "|85:807:136 |07:50              |8579192   |bus           |136      |0.9115734720416124|0.010918662970000935|\n",
      "|85:807:145 |00:12              |8590820   |bus           |145      |0.8566037735849057|0.015136360605454424|\n",
      "|85:807:152 |10:52              |8590482   |bus           |152      |0.9102990033222591|0.011489192192381072|\n",
      "|85:807:156 |14:11              |8590464   |bus           |156      |0.9477303988995873|0.011057792614229083|\n",
      "|85:838:811 |16:05              |8503152   |bus           |811      |0.9138576779026217|0.009376320946854706|\n",
      "|85:838:816 |23:54              |8576097   |bus           |816      |0.8928571428571429|0.013511426806670786|\n",
      "|85:838:961 |13:52              |8587966   |bus           |961      |0.9370629370629371|0.010270087985529907|\n",
      "|85:849:165 |16:11              |8590775   |bus           |165      |0.9138576779026217|0.009376320946854706|\n",
      "|85:849:303 |16:53              |8590794   |bus           |303      |0.9138576779026217|0.009376320946854706|\n",
      "|85:849:303 |17:30              |8590839   |bus           |303      |0.9279503105590062|0.008261720694117257|\n",
      "|85:849:306 |13:36              |8590223   |bus           |306      |0.9370629370629371|0.010270087985529907|\n",
      "|85:849:308 |21:53              |8590726   |bus           |308      |0.9177820267686424|0.01248374512353706 |\n",
      "|85:849:31  |07:52              |8591177   |bus           |31       |0.9115734720416124|0.010918662970000935|\n",
      "|85:849:31  |11:41              |8591340   |bus           |31       |0.9202279202279202|0.011397519363432664|\n",
      "|85:849:31  |19:35              |8590795   |bus           |31       |0.9079837618403248|0.012480470203109887|\n",
      "|85:849:31  |20:24              |8590805   |bus           |31       |0.8969404186795491|0.011444891920769295|\n",
      "|85:849:311 |07:11              |8590848   |bus           |311      |0.9115734720416124|0.010918662970000935|\n",
      "|85:849:32  |19:05              |8591149   |bus           |32       |0.9079837618403248|0.012480470203109887|\n",
      "|85:849:32  |21:28              |8576262   |bus           |32       |0.9177820267686424|0.01248374512353706 |\n",
      "|85:849:32  |22:09              |8591447   |bus           |32       |0.9203747072599532|0.013749912532363025|\n",
      "|85:849:33  |13:51              |8576182   |bus           |33       |0.9370629370629371|0.010270087985529907|\n",
      "|85:849:35  |09:14              |8590318   |bus           |35       |0.9273743016759777|0.010926264172055751|\n",
      "|85:849:38  |07:02              |8591302   |bus           |38       |0.9115734720416124|0.010918662970000935|\n",
      "|85:849:40  |22:00              |8591266   |bus           |40       |0.9203747072599532|0.013749912532363025|\n",
      "|85:849:46  |00:06              |8576240   |bus           |46       |0.8566037735849057|0.015136360605454424|\n",
      "|85:849:46  |06:42              |8591323   |bus           |46       |0.9049773755656109|0.012909611205542525|\n",
      "|85:849:46  |07:56              |8591323   |bus           |46       |0.9115734720416124|0.010918662970000935|\n",
      "|85:849:46  |17:10              |8591155   |bus           |46       |0.9279503105590062|0.008261720694117257|\n",
      "+-----------+-------------------+----------+--------------+---------+------------------+--------------------+\n",
      "only showing top 100 rows"
     ]
    }
   ],
   "source": [
    "probability.show(100, False)"
   ]
  }
 ],
 "metadata": {
  "kernelspec": {
   "display_name": "PySpark",
   "language": "",
   "name": "pysparkkernel"
  },
  "language_info": {
   "codemirror_mode": {
    "name": "python",
    "version": 3
   },
   "mimetype": "text/x-python",
   "name": "pyspark",
   "pygments_lexer": "python3"
  }
 },
 "nbformat": 4,
 "nbformat_minor": 4
}
